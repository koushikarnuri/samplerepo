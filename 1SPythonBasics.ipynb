{
  "cells": [
    {
      "cell_type": "markdown",
      "metadata": {
        "id": "VJNmS9SbtKC8"
      },
      "source": [
        "**This is a comment.**"
      ]
    },
    {
      "cell_type": "code",
      "source": [
        "# Addition Code\n",
        "10 + 20"
      ],
      "metadata": {
        "colab": {
          "base_uri": "https://localhost:8080/"
        },
        "id": "MgAhgxDEwwXi",
        "outputId": "44c47171-9221-4f09-f4eb-7f13287d9d77"
      },
      "execution_count": null,
      "outputs": [
        {
          "output_type": "execute_result",
          "data": {
            "text/plain": [
              "30"
            ]
          },
          "metadata": {},
          "execution_count": 1
        }
      ]
    },
    {
      "cell_type": "code",
      "execution_count": null,
      "metadata": {
        "colab": {
          "base_uri": "https://localhost:8080/"
        },
        "id": "g_pt7nIdhE_1",
        "outputId": "473a6f6c-e196-4ba6-8906-be5db08c52fb"
      },
      "outputs": [
        {
          "output_type": "execute_result",
          "data": {
            "text/plain": [
              "30"
            ]
          },
          "metadata": {},
          "execution_count": 1
        }
      ],
      "source": [
        "# Single line comment\n",
        "\"\"\"\n",
        "This is a\n",
        "multiline\n",
        "comment.\n",
        "\n",
        "\"\"\"\n",
        "\n",
        "10+20"
      ]
    },
    {
      "cell_type": "code",
      "execution_count": null,
      "metadata": {
        "colab": {
          "base_uri": "https://localhost:8080/",
          "height": 36
        },
        "id": "zWutO753W7G6",
        "outputId": "ef561ea1-61f6-44c0-f25d-ce7d70f20fe8"
      },
      "outputs": [
        {
          "output_type": "execute_result",
          "data": {
            "text/plain": [
              "'Hello'"
            ],
            "application/vnd.google.colaboratory.intrinsic+json": {
              "type": "string"
            }
          },
          "metadata": {},
          "execution_count": 2
        }
      ],
      "source": [
        "\"Hello\""
      ]
    },
    {
      "cell_type": "code",
      "execution_count": null,
      "metadata": {
        "colab": {
          "base_uri": "https://localhost:8080/"
        },
        "id": "J5n7c9GncLY-",
        "outputId": "6f201330-ffb3-4a77-b331-80a5ef4b3bca"
      },
      "outputs": [
        {
          "output_type": "stream",
          "name": "stdout",
          "text": [
            "Welcome to ExcelR\n"
          ]
        }
      ],
      "source": [
        "print(\"Welcome to ExcelR\")"
      ]
    },
    {
      "cell_type": "code",
      "execution_count": null,
      "metadata": {
        "colab": {
          "base_uri": "https://localhost:8080/",
          "height": 36
        },
        "id": "ZCE7Syxbdd3H",
        "outputId": "6bd9c9d0-7e3d-412e-8525-787cc6f040c4"
      },
      "outputs": [
        {
          "output_type": "execute_result",
          "data": {
            "text/plain": [
              "'hello'"
            ],
            "application/vnd.google.colaboratory.intrinsic+json": {
              "type": "string"
            }
          },
          "metadata": {},
          "execution_count": 4
        }
      ],
      "source": [
        "'hello'"
      ]
    },
    {
      "cell_type": "code",
      "execution_count": null,
      "metadata": {
        "colab": {
          "base_uri": "https://localhost:8080/"
        },
        "id": "R5Lotwnqy6JV",
        "outputId": "2fd6d645-0115-4c97-8bc0-be2b500008e8"
      },
      "outputs": [
        {
          "output_type": "execute_result",
          "data": {
            "text/plain": [
              "16.0"
            ]
          },
          "metadata": {},
          "execution_count": 5
        }
      ],
      "source": [
        "120/12*2-4"
      ]
    },
    {
      "cell_type": "code",
      "execution_count": null,
      "metadata": {
        "colab": {
          "base_uri": "https://localhost:8080/"
        },
        "id": "T5hf2dwwzE7E",
        "outputId": "a72989e0-99af-483e-e743-235080cfadeb"
      },
      "outputs": [
        {
          "output_type": "execute_result",
          "data": {
            "text/plain": [
              "30"
            ]
          },
          "metadata": {},
          "execution_count": 6
        }
      ],
      "source": [
        "(5-2)*10"
      ]
    },
    {
      "cell_type": "code",
      "execution_count": null,
      "metadata": {
        "colab": {
          "base_uri": "https://localhost:8080/"
        },
        "id": "ayYQq17F4-rd",
        "outputId": "6916d0e7-5503-4df7-a85c-05154bfc9047"
      },
      "outputs": [
        {
          "output_type": "execute_result",
          "data": {
            "text/plain": [
              "8.5"
            ]
          },
          "metadata": {},
          "execution_count": 10
        }
      ],
      "source": [
        "17/2"
      ]
    },
    {
      "cell_type": "code",
      "execution_count": null,
      "metadata": {
        "colab": {
          "base_uri": "https://localhost:8080/"
        },
        "id": "o2-kibYnas5u",
        "outputId": "3dbfa6ff-1a1f-4fbc-8caf-28f52fda1f3a"
      },
      "outputs": [
        {
          "output_type": "execute_result",
          "data": {
            "text/plain": [
              "6"
            ]
          },
          "metadata": {},
          "execution_count": 11
        }
      ],
      "source": [
        "13//2 # Floor Division gives nearest smallest integer (ans. is 6.5 so nearest smallest no. is 6)\n",
        "# Ceil gives nearest largest integer. There is no ceil division. We can find ceil and floor of any fraction\n",
        "# 3 things we can do with a fraction are: round(12.2)=12, floor(12.2)=12, ceil(12.2)=13"
      ]
    },
    {
      "cell_type": "code",
      "execution_count": null,
      "metadata": {
        "colab": {
          "base_uri": "https://localhost:8080/"
        },
        "id": "pVdor4HCzrZq",
        "outputId": "b9cfb786-d63d-4264-ec74-d42c435f9b87"
      },
      "outputs": [
        {
          "output_type": "execute_result",
          "data": {
            "text/plain": [
              "100"
            ]
          },
          "metadata": {},
          "execution_count": 12
        }
      ],
      "source": [
        "marks=100\n",
        "marks"
      ]
    },
    {
      "cell_type": "code",
      "execution_count": null,
      "metadata": {
        "colab": {
          "base_uri": "https://localhost:8080/"
        },
        "id": "UloOiiLH0Dq7",
        "outputId": "57c79612-84bb-41af-e4f6-d366839b533e"
      },
      "outputs": [
        {
          "output_type": "execute_result",
          "data": {
            "text/plain": [
              "int"
            ]
          },
          "metadata": {},
          "execution_count": 13
        }
      ],
      "source": [
        "type(marks)"
      ]
    },
    {
      "cell_type": "code",
      "execution_count": null,
      "metadata": {
        "colab": {
          "base_uri": "https://localhost:8080/"
        },
        "id": "HbCa0D6Y0HN4",
        "outputId": "21b62dd3-2247-4a10-f435-f58fefd22a4e"
      },
      "outputs": [
        {
          "output_type": "execute_result",
          "data": {
            "text/plain": [
              "25"
            ]
          },
          "metadata": {},
          "execution_count": 16
        }
      ],
      "source": [
        "5**2"
      ]
    },
    {
      "cell_type": "markdown",
      "metadata": {
        "id": "-R693u8JemrB"
      },
      "source": [
        "Boolean Operations"
      ]
    },
    {
      "cell_type": "code",
      "execution_count": null,
      "metadata": {
        "id": "ha9oGOU7elrz"
      },
      "outputs": [],
      "source": [
        "x = True\n",
        "y = False"
      ]
    },
    {
      "cell_type": "code",
      "execution_count": null,
      "metadata": {
        "colab": {
          "base_uri": "https://localhost:8080/"
        },
        "id": "W8HJ0wlpewa4",
        "outputId": "2606326c-1112-4b87-ce87-e91e32e5080e"
      },
      "outputs": [
        {
          "output_type": "execute_result",
          "data": {
            "text/plain": [
              "True"
            ]
          },
          "metadata": {},
          "execution_count": 18
        }
      ],
      "source": [
        "x or y"
      ]
    },
    {
      "cell_type": "code",
      "execution_count": null,
      "metadata": {
        "colab": {
          "base_uri": "https://localhost:8080/"
        },
        "id": "wCLITfkmezSv",
        "outputId": "64c86236-4210-4df7-f295-e71030b82eb2"
      },
      "outputs": [
        {
          "output_type": "execute_result",
          "data": {
            "text/plain": [
              "False"
            ]
          },
          "metadata": {},
          "execution_count": 19
        }
      ],
      "source": [
        "x and y"
      ]
    },
    {
      "cell_type": "code",
      "execution_count": null,
      "metadata": {
        "colab": {
          "base_uri": "https://localhost:8080/"
        },
        "id": "sNwoU65Ge15v",
        "outputId": "c1fecd6b-9ed1-4df1-ac2d-d8a2c6dc617d"
      },
      "outputs": [
        {
          "output_type": "execute_result",
          "data": {
            "text/plain": [
              "False"
            ]
          },
          "metadata": {},
          "execution_count": 20
        }
      ],
      "source": [
        "not x"
      ]
    },
    {
      "cell_type": "code",
      "execution_count": null,
      "metadata": {
        "colab": {
          "base_uri": "https://localhost:8080/"
        },
        "id": "b9ojSsfPe3qr",
        "outputId": "01bf6a20-e77d-46e7-ce04-cc93b6b26cc8"
      },
      "outputs": [
        {
          "output_type": "execute_result",
          "data": {
            "text/plain": [
              "True"
            ]
          },
          "metadata": {},
          "execution_count": 21
        }
      ],
      "source": [
        "not y"
      ]
    },
    {
      "cell_type": "code",
      "execution_count": null,
      "metadata": {
        "id": "070EbnBze5dJ"
      },
      "outputs": [],
      "source": [
        "x = 13\n",
        "y = 5"
      ]
    },
    {
      "cell_type": "code",
      "execution_count": null,
      "metadata": {
        "colab": {
          "base_uri": "https://localhost:8080/"
        },
        "id": "j3vW8TlffJMc",
        "outputId": "3296f69d-0ce2-4b22-aebc-5f623451dcb6"
      },
      "outputs": [
        {
          "output_type": "execute_result",
          "data": {
            "text/plain": [
              "True"
            ]
          },
          "metadata": {},
          "execution_count": 23
        }
      ],
      "source": [
        "c1 = x > y\n",
        "c1"
      ]
    },
    {
      "cell_type": "code",
      "execution_count": null,
      "metadata": {
        "colab": {
          "base_uri": "https://localhost:8080/"
        },
        "id": "RVjnkpTvfMC-",
        "outputId": "4b767e6f-6156-480b-812f-b8bf4da5647b"
      },
      "outputs": [
        {
          "output_type": "execute_result",
          "data": {
            "text/plain": [
              "False"
            ]
          },
          "metadata": {},
          "execution_count": 24
        }
      ],
      "source": [
        "c2 = x < y\n",
        "c2"
      ]
    },
    {
      "cell_type": "code",
      "execution_count": null,
      "metadata": {
        "colab": {
          "base_uri": "https://localhost:8080/"
        },
        "id": "AGUNTbfffYu9",
        "outputId": "94544c58-2929-42f0-94cf-942ac732dce9"
      },
      "outputs": [
        {
          "output_type": "execute_result",
          "data": {
            "text/plain": [
              "False"
            ]
          },
          "metadata": {},
          "execution_count": 13
        }
      ],
      "source": [
        "not c1"
      ]
    },
    {
      "cell_type": "code",
      "execution_count": null,
      "metadata": {
        "colab": {
          "base_uri": "https://localhost:8080/"
        },
        "id": "LVKDsEFvfbOl",
        "outputId": "070ae239-9d93-48a1-ad6b-ad4cc25b72eb"
      },
      "outputs": [
        {
          "output_type": "execute_result",
          "data": {
            "text/plain": [
              "True"
            ]
          },
          "metadata": {},
          "execution_count": 14
        }
      ],
      "source": [
        "not c2"
      ]
    },
    {
      "cell_type": "code",
      "execution_count": null,
      "metadata": {
        "colab": {
          "base_uri": "https://localhost:8080/"
        },
        "id": "8akeXABrfcq-",
        "outputId": "633a260f-97b5-48cb-824a-d3104d93e896"
      },
      "outputs": [
        {
          "output_type": "execute_result",
          "data": {
            "text/plain": [
              "bool"
            ]
          },
          "metadata": {},
          "execution_count": 25
        }
      ],
      "source": [
        "type(c1)"
      ]
    },
    {
      "cell_type": "code",
      "execution_count": null,
      "metadata": {
        "colab": {
          "base_uri": "https://localhost:8080/"
        },
        "id": "ZCCbi1DZ0MHN",
        "outputId": "974cdf87-2e65-4ad6-e1bc-cc800b0cbc31"
      },
      "outputs": [
        {
          "output_type": "stream",
          "name": "stdout",
          "text": [
            "50.5\n"
          ]
        },
        {
          "output_type": "execute_result",
          "data": {
            "text/plain": [
              "float"
            ]
          },
          "metadata": {},
          "execution_count": 3
        }
      ],
      "source": [
        "price=50.5\n",
        "price\n",
        "type(price) # only shows output of last line"
      ]
    },
    {
      "cell_type": "code",
      "execution_count": null,
      "metadata": {
        "colab": {
          "base_uri": "https://localhost:8080/"
        },
        "id": "p4BG67tc1CuP",
        "outputId": "b53d46e0-6874-48c7-9e9e-4afa9f26d282"
      },
      "outputs": [
        {
          "output_type": "stream",
          "name": "stdout",
          "text": [
            "50.5\n"
          ]
        },
        {
          "output_type": "execute_result",
          "data": {
            "text/plain": [
              "float"
            ]
          },
          "metadata": {},
          "execution_count": 2
        }
      ],
      "source": [
        "print(price) # to see intermediate line's output use print() function\n",
        "type(price)"
      ]
    },
    {
      "cell_type": "code",
      "execution_count": null,
      "metadata": {
        "colab": {
          "base_uri": "https://localhost:8080/"
        },
        "id": "3ztD27Kc1BUd",
        "outputId": "f7c33f0e-8263-4521-cf09-8bb226050ddd"
      },
      "outputs": [
        {
          "output_type": "execute_result",
          "data": {
            "text/plain": [
              "str"
            ]
          },
          "metadata": {},
          "execution_count": 1
        }
      ],
      "source": [
        "name=\"Snehal\"\n",
        "type(name)"
      ]
    },
    {
      "cell_type": "code",
      "execution_count": null,
      "metadata": {
        "colab": {
          "base_uri": "https://localhost:8080/"
        },
        "id": "4P6QLqzJ1ZPp",
        "outputId": "5d3a99f6-7c2b-45f4-a633-59b187c97bfd"
      },
      "outputs": [
        {
          "output_type": "execute_result",
          "data": {
            "text/plain": [
              "['__add__',\n",
              " '__class__',\n",
              " '__contains__',\n",
              " '__delattr__',\n",
              " '__dir__',\n",
              " '__doc__',\n",
              " '__eq__',\n",
              " '__format__',\n",
              " '__ge__',\n",
              " '__getattribute__',\n",
              " '__getitem__',\n",
              " '__getnewargs__',\n",
              " '__getstate__',\n",
              " '__gt__',\n",
              " '__hash__',\n",
              " '__init__',\n",
              " '__init_subclass__',\n",
              " '__iter__',\n",
              " '__le__',\n",
              " '__len__',\n",
              " '__lt__',\n",
              " '__mod__',\n",
              " '__mul__',\n",
              " '__ne__',\n",
              " '__new__',\n",
              " '__reduce__',\n",
              " '__reduce_ex__',\n",
              " '__repr__',\n",
              " '__rmod__',\n",
              " '__rmul__',\n",
              " '__setattr__',\n",
              " '__sizeof__',\n",
              " '__str__',\n",
              " '__subclasshook__',\n",
              " 'capitalize',\n",
              " 'casefold',\n",
              " 'center',\n",
              " 'count',\n",
              " 'encode',\n",
              " 'endswith',\n",
              " 'expandtabs',\n",
              " 'find',\n",
              " 'format',\n",
              " 'format_map',\n",
              " 'index',\n",
              " 'isalnum',\n",
              " 'isalpha',\n",
              " 'isascii',\n",
              " 'isdecimal',\n",
              " 'isdigit',\n",
              " 'isidentifier',\n",
              " 'islower',\n",
              " 'isnumeric',\n",
              " 'isprintable',\n",
              " 'isspace',\n",
              " 'istitle',\n",
              " 'isupper',\n",
              " 'join',\n",
              " 'ljust',\n",
              " 'lower',\n",
              " 'lstrip',\n",
              " 'maketrans',\n",
              " 'partition',\n",
              " 'removeprefix',\n",
              " 'removesuffix',\n",
              " 'replace',\n",
              " 'rfind',\n",
              " 'rindex',\n",
              " 'rjust',\n",
              " 'rpartition',\n",
              " 'rsplit',\n",
              " 'rstrip',\n",
              " 'split',\n",
              " 'splitlines',\n",
              " 'startswith',\n",
              " 'strip',\n",
              " 'swapcase',\n",
              " 'title',\n",
              " 'translate',\n",
              " 'upper',\n",
              " 'zfill']"
            ]
          },
          "metadata": {},
          "execution_count": 2
        }
      ],
      "source": [
        "dir(str) # all methods that can be applied on strings\n",
        "# __ dunder/magic methods (double underscore methods which python uses internally)"
      ]
    },
    {
      "cell_type": "code",
      "execution_count": null,
      "metadata": {
        "colab": {
          "base_uri": "https://localhost:8080/",
          "height": 36
        },
        "id": "Jas63r1K2KLR",
        "outputId": "c21459d1-6b85-4125-a990-481996d23d36"
      },
      "outputs": [
        {
          "output_type": "execute_result",
          "data": {
            "text/plain": [
              "'Welcome to data science.my name is snehal'"
            ],
            "application/vnd.google.colaboratory.intrinsic+json": {
              "type": "string"
            }
          },
          "metadata": {},
          "execution_count": 11
        }
      ],
      "source": [
        "str1=\"welcome to Data Science.\"\n",
        "str1.capitalize()"
      ]
    },
    {
      "cell_type": "code",
      "execution_count": null,
      "metadata": {
        "colab": {
          "base_uri": "https://localhost:8080/",
          "height": 36
        },
        "id": "OOdqBS7sQJQc",
        "outputId": "230372a0-c71b-4ebd-e51e-c47f75cee789"
      },
      "outputs": [
        {
          "output_type": "execute_result",
          "data": {
            "text/plain": [
              "'welcome to Data Science.'"
            ],
            "application/vnd.google.colaboratory.intrinsic+json": {
              "type": "string"
            }
          },
          "metadata": {},
          "execution_count": 4
        }
      ],
      "source": [
        "str1"
      ]
    },
    {
      "cell_type": "code",
      "execution_count": null,
      "metadata": {
        "colab": {
          "base_uri": "https://localhost:8080/",
          "height": 36
        },
        "id": "xt3FxjH023DF",
        "outputId": "18b32e1c-95fb-41a8-d3cf-bb2eccec2567"
      },
      "outputs": [
        {
          "output_type": "execute_result",
          "data": {
            "text/plain": [
              "'WELCOME TO DATA SCIENCE.'"
            ],
            "application/vnd.google.colaboratory.intrinsic+json": {
              "type": "string"
            }
          },
          "metadata": {},
          "execution_count": 5
        }
      ],
      "source": [
        "str1.upper()"
      ]
    },
    {
      "cell_type": "code",
      "execution_count": null,
      "metadata": {
        "colab": {
          "base_uri": "https://localhost:8080/",
          "height": 36
        },
        "id": "AH1td4Em2826",
        "outputId": "89876173-9df9-4d5a-9597-3ddf081d6c31"
      },
      "outputs": [
        {
          "output_type": "execute_result",
          "data": {
            "text/plain": [
              "'welcome to data science.'"
            ],
            "application/vnd.google.colaboratory.intrinsic+json": {
              "type": "string"
            }
          },
          "metadata": {},
          "execution_count": 6
        }
      ],
      "source": [
        "str1.lower()"
      ]
    },
    {
      "cell_type": "code",
      "execution_count": null,
      "metadata": {
        "colab": {
          "base_uri": "https://localhost:8080/",
          "height": 36
        },
        "id": "9n6alKMH2sge",
        "outputId": "13ff3485-c747-43aa-8d74-09619b96ce61"
      },
      "outputs": [
        {
          "output_type": "execute_result",
          "data": {
            "text/plain": [
              "'Welcome To Data Science.'"
            ],
            "application/vnd.google.colaboratory.intrinsic+json": {
              "type": "string"
            }
          },
          "metadata": {},
          "execution_count": 7
        }
      ],
      "source": [
        "str1.title()"
      ]
    },
    {
      "cell_type": "code",
      "execution_count": null,
      "metadata": {
        "colab": {
          "base_uri": "https://localhost:8080/"
        },
        "id": "tALQ0Gg7082F",
        "outputId": "75a1c430-fe1b-4d6e-daf9-e7904c1ebcf2"
      },
      "outputs": [
        {
          "output_type": "stream",
          "name": "stdout",
          "text": [
            "bbb\n",
            "Snehal\n"
          ]
        }
      ],
      "source": [
        "food=\"BBB\"\n",
        "name=\"sNEHAL\"\n",
        "print(food.swapcase())\n",
        "print(name.swapcase())"
      ]
    },
    {
      "cell_type": "code",
      "execution_count": null,
      "metadata": {
        "colab": {
          "base_uri": "https://localhost:8080/"
        },
        "id": "suOfGTmV30-r",
        "outputId": "018fd263-0697-4c22-968e-921af8702565"
      },
      "outputs": [
        {
          "output_type": "execute_result",
          "data": {
            "text/plain": [
              "['My', 'name', 'is', 'Snehal.']"
            ]
          },
          "metadata": {},
          "execution_count": 25
        }
      ],
      "source": [
        "s1=\"My name is Snehal.\"\n",
        "s1.split() # list of strings is created"
      ]
    },
    {
      "cell_type": "code",
      "execution_count": null,
      "metadata": {
        "colab": {
          "base_uri": "https://localhost:8080/"
        },
        "id": "B1fgteoaDTNX",
        "outputId": "0e9e45df-402a-4f8a-9040-74c0f26e8c92"
      },
      "outputs": [
        {
          "output_type": "execute_result",
          "data": {
            "text/plain": [
              "['Mumbai-Pune-Mumbai']"
            ]
          },
          "metadata": {},
          "execution_count": 13
        }
      ],
      "source": [
        "s2=\"Mumbai-Pune-Mumbai\"\n",
        "s2.split()"
      ]
    },
    {
      "cell_type": "code",
      "execution_count": null,
      "metadata": {
        "colab": {
          "base_uri": "https://localhost:8080/"
        },
        "id": "-SWBu_FfDnKy",
        "outputId": "26b42e71-cfbd-4310-b69e-b6843a66cef4"
      },
      "outputs": [
        {
          "output_type": "execute_result",
          "data": {
            "text/plain": [
              "['Mumbai', 'Pune', 'Mumbai']"
            ]
          },
          "metadata": {},
          "execution_count": 14
        }
      ],
      "source": [
        "s2.split(\"-\")"
      ]
    },
    {
      "cell_type": "code",
      "execution_count": null,
      "metadata": {
        "colab": {
          "base_uri": "https://localhost:8080/"
        },
        "id": "AoGBLhIZ5NKD",
        "outputId": "20a0e5b4-0562-451c-e794-3b1c096c2b4c"
      },
      "outputs": [
        {
          "output_type": "execute_result",
          "data": {
            "text/plain": [
              "['snehal', 'excelr.com']"
            ]
          },
          "metadata": {},
          "execution_count": 15
        }
      ],
      "source": [
        "mail=\"snehal@excelr.com\"\n",
        "mail.split(\"@\")"
      ]
    },
    {
      "cell_type": "code",
      "execution_count": null,
      "metadata": {
        "colab": {
          "base_uri": "https://localhost:8080/",
          "height": 36
        },
        "id": "0I_bnypbSu-P",
        "outputId": "a32e2a44-5953-42f2-b0fa-96de6d28cdf5"
      },
      "outputs": [
        {
          "output_type": "execute_result",
          "data": {
            "text/plain": [
              "'My name is Snehal.'"
            ],
            "application/vnd.google.colaboratory.intrinsic+json": {
              "type": "string"
            }
          },
          "metadata": {},
          "execution_count": 16
        }
      ],
      "source": [
        "s1"
      ]
    },
    {
      "cell_type": "code",
      "execution_count": null,
      "metadata": {
        "id": "yQ2PPTgc5gfB"
      },
      "outputs": [],
      "source": [
        "s1.replace(\"Snehal\",\"Jyoti\")"
      ]
    },
    {
      "cell_type": "code",
      "execution_count": null,
      "metadata": {
        "colab": {
          "base_uri": "https://localhost:8080/",
          "height": 36
        },
        "id": "Xob3bsIy6MGb",
        "outputId": "794dedfd-8874-4fe5-a46f-ec21ff60f66d"
      },
      "outputs": [
        {
          "output_type": "execute_result",
          "data": {
            "text/plain": [
              "'My name is Snehal.'"
            ],
            "application/vnd.google.colaboratory.intrinsic+json": {
              "type": "string"
            }
          },
          "metadata": {},
          "execution_count": 26
        }
      ],
      "source": [
        "s1"
      ]
    },
    {
      "cell_type": "code",
      "execution_count": null,
      "metadata": {
        "colab": {
          "base_uri": "https://localhost:8080/"
        },
        "id": "KrA3Q0Ls5GqY",
        "outputId": "d6c8c51e-2c04-4390-b53e-2b6954c7240b"
      },
      "outputs": [
        {
          "output_type": "execute_result",
          "data": {
            "text/plain": [
              "3"
            ]
          },
          "metadata": {},
          "execution_count": 27
        }
      ],
      "source": [
        "city=\"Satara\"\n",
        "city.count(\"a\")"
      ]
    },
    {
      "cell_type": "code",
      "execution_count": null,
      "metadata": {
        "colab": {
          "base_uri": "https://localhost:8080/"
        },
        "id": "bIEQXCq56iXM",
        "outputId": "10ae7861-d96b-40cf-e491-7a2f80786821"
      },
      "outputs": [
        {
          "output_type": "execute_result",
          "data": {
            "text/plain": [
              "1"
            ]
          },
          "metadata": {},
          "execution_count": 30
        }
      ],
      "source": [
        "\"Snehal\".count(\"S\")"
      ]
    },
    {
      "cell_type": "code",
      "execution_count": null,
      "metadata": {
        "colab": {
          "base_uri": "https://localhost:8080/"
        },
        "id": "nSrMm0dE7Itv",
        "outputId": "13e874bc-b68b-4a49-ab5f-2c44840d97f4"
      },
      "outputs": [
        {
          "output_type": "execute_result",
          "data": {
            "text/plain": [
              "40"
            ]
          },
          "metadata": {},
          "execution_count": 31
        }
      ],
      "source": [
        "n1=5\n",
        "n1*8"
      ]
    },
    {
      "cell_type": "code",
      "execution_count": null,
      "metadata": {
        "colab": {
          "base_uri": "https://localhost:8080/",
          "height": 36
        },
        "id": "2YiM8NTa6sfj",
        "outputId": "b3f34c4c-8782-44b5-ede9-9229511e7e4e"
      },
      "outputs": [
        {
          "output_type": "execute_result",
          "data": {
            "text/plain": [
              "'RajRajRaj'"
            ],
            "application/vnd.google.colaboratory.intrinsic+json": {
              "type": "string"
            }
          },
          "metadata": {},
          "execution_count": 33
        }
      ],
      "source": [
        "name=\"Raj\"\n",
        "name*3"
      ]
    },
    {
      "cell_type": "code",
      "execution_count": null,
      "metadata": {
        "colab": {
          "base_uri": "https://localhost:8080/",
          "height": 36
        },
        "id": "2ENh-uAW7MmK",
        "outputId": "aa255dd7-62eb-4551-a378-9c1fb72119da"
      },
      "outputs": [
        {
          "output_type": "execute_result",
          "data": {
            "text/plain": [
              "'RajeshKulkarni'"
            ],
            "application/vnd.google.colaboratory.intrinsic+json": {
              "type": "string"
            }
          },
          "metadata": {},
          "execution_count": 34
        }
      ],
      "source": [
        "name=\"Rajesh\"\n",
        "surname=\"Kulkarni\"\n",
        "name + surname # concatenates without space"
      ]
    },
    {
      "cell_type": "code",
      "execution_count": null,
      "metadata": {
        "colab": {
          "base_uri": "https://localhost:8080/",
          "height": 36
        },
        "id": "69kHteTE7oPq",
        "outputId": "ebd1a25e-6f47-48e1-9063-adf83ef01e80"
      },
      "outputs": [
        {
          "output_type": "execute_result",
          "data": {
            "text/plain": [
              "'Rajesh Kulkarni'"
            ],
            "application/vnd.google.colaboratory.intrinsic+json": {
              "type": "string"
            }
          },
          "metadata": {},
          "execution_count": 37
        }
      ],
      "source": [
        "name + \" \" + surname"
      ]
    },
    {
      "cell_type": "code",
      "execution_count": null,
      "metadata": {
        "colab": {
          "base_uri": "https://localhost:8080/"
        },
        "id": "5g9qMtoGR6uy",
        "outputId": "d271f894-7fce-40f8-fb2d-30619f7c072c"
      },
      "outputs": [
        {
          "output_type": "stream",
          "name": "stdout",
          "text": [
            "a is greater\n",
            "In True block\n",
            "14\n"
          ]
        }
      ],
      "source": [
        "# Conditional Statement\n",
        "a=10\n",
        "b=4\n",
        "if a>b:\n",
        "  print(\"a is greater\")\n",
        "  print(\"In True block\")\n",
        "  c=a+b\n",
        "  print(c)\n",
        "else:\n",
        "  print('b is greater')\n",
        "  print(\"In False block\")\n",
        "  c=a*b\n",
        "  print(c)\n"
      ]
    },
    {
      "cell_type": "code",
      "execution_count": null,
      "metadata": {
        "colab": {
          "base_uri": "https://localhost:8080/"
        },
        "id": "GB9FUERJSYgg",
        "outputId": "f83eb9a2-a461-4bcd-f700-22dcbcd65a1a"
      },
      "outputs": [
        {
          "output_type": "stream",
          "name": "stdout",
          "text": [
            "50000 is greater\n"
          ]
        }
      ],
      "source": [
        "a=50000\n",
        "b=30000\n",
        "if(a>b):\n",
        "  print(a,\"is greater\")\n",
        "else:\n",
        "  print(\"Greatest number is:\",b)"
      ]
    },
    {
      "cell_type": "code",
      "execution_count": null,
      "metadata": {
        "colab": {
          "base_uri": "https://localhost:8080/"
        },
        "id": "-2JSOKqj77DF",
        "outputId": "521fc423-1f16-4f12-d836-d467056bd312"
      },
      "outputs": [
        {
          "output_type": "stream",
          "name": "stdout",
          "text": [
            "Hello from true if\n",
            "Bye... outside of if block\n",
            "Net Salary= 18750.0\n"
          ]
        }
      ],
      "source": [
        "salary=25000\n",
        "if (salary>20000):\n",
        "  tax=0.25\n",
        "  print(\"Hello from true if\")\n",
        "else:\n",
        "  tax=0.20\n",
        "  print(\"Hello from false if / else\")\n",
        "print(\"Bye... outside of if block\")\n",
        "net_sal=salary-tax*salary\n",
        "print(\"Net Salary=\",net_sal)\n",
        "# change value of salary as 15000 and execute again"
      ]
    },
    {
      "cell_type": "code",
      "execution_count": null,
      "metadata": {
        "colab": {
          "base_uri": "https://localhost:8080/"
        },
        "id": "vlwF6ANR9h7t",
        "outputId": "e383bf38-f510-4514-c7bf-7e39dec2a4d6"
      },
      "outputs": [
        {
          "output_type": "execute_result",
          "data": {
            "text/plain": [
              "range(5, 10)"
            ]
          },
          "metadata": {},
          "execution_count": 49
        }
      ],
      "source": [
        "range(5,10)"
      ]
    },
    {
      "cell_type": "code",
      "execution_count": null,
      "metadata": {
        "colab": {
          "base_uri": "https://localhost:8080/"
        },
        "id": "nmiHBFJ0bFe0",
        "outputId": "c642fcc0-7130-4dc4-c3b7-050498f4c2bc"
      },
      "outputs": [
        {
          "output_type": "stream",
          "name": "stdout",
          "text": [
            "Hello\n",
            "Hello\n"
          ]
        }
      ],
      "source": [
        "print(\"Hello\")\n",
        "print(\"Hello\")"
      ]
    },
    {
      "cell_type": "code",
      "execution_count": null,
      "metadata": {
        "colab": {
          "base_uri": "https://localhost:8080/"
        },
        "id": "PYuP-woca71N",
        "outputId": "606c5cfd-2ae0-4051-f77d-bfc85482ba03"
      },
      "outputs": [
        {
          "output_type": "stream",
          "name": "stdout",
          "text": [
            "Hello\n",
            "Hello\n",
            "Hello\n"
          ]
        }
      ],
      "source": [
        "for num in range(0,3):\n",
        "  print(\"Hello\")"
      ]
    },
    {
      "cell_type": "code",
      "execution_count": null,
      "metadata": {
        "colab": {
          "base_uri": "https://localhost:8080/"
        },
        "id": "_dTWloVL96w3",
        "outputId": "7abc99e2-4206-4e66-9eac-0b5899890804"
      },
      "outputs": [
        {
          "output_type": "stream",
          "name": "stdout",
          "text": [
            "5\n",
            "6\n",
            "7\n",
            "8\n",
            "9\n",
            "Bye\n"
          ]
        }
      ],
      "source": [
        "# For Loop\n",
        "for i in range(5,10): # Print numbers from 5 to 9. Default increment is 1.\n",
        "  print(i)\n",
        "print(\"Bye\")"
      ]
    },
    {
      "cell_type": "code",
      "execution_count": null,
      "metadata": {
        "colab": {
          "base_uri": "https://localhost:8080/"
        },
        "id": "YxberfRiznRB",
        "outputId": "09077e57-958d-4a1d-be03-1098533be4b4"
      },
      "outputs": [
        {
          "output_type": "stream",
          "name": "stdout",
          "text": [
            "1\n",
            "2\n",
            "3\n",
            "4\n",
            "5\n"
          ]
        }
      ],
      "source": [
        "for i in range(1,6):\n",
        "  print(i)"
      ]
    },
    {
      "cell_type": "code",
      "execution_count": null,
      "metadata": {
        "colab": {
          "base_uri": "https://localhost:8080/"
        },
        "id": "anLYKM0SGzpT",
        "outputId": "232681ca-2344-4c51-a228-59e48660496c"
      },
      "outputs": [
        {
          "output_type": "stream",
          "name": "stdout",
          "text": [
            "1\n",
            "3\n",
            "5\n",
            "7\n",
            "9\n"
          ]
        }
      ],
      "source": [
        "# print odd numbers from 1 to 10\n",
        "for i in range(1,10,2):\n",
        "  print(i)\n"
      ]
    },
    {
      "cell_type": "code",
      "execution_count": null,
      "metadata": {
        "colab": {
          "base_uri": "https://localhost:8080/"
        },
        "id": "9I0FymDL-dmt",
        "outputId": "a7967f12-5903-4b66-a509-bec9ed31c41c"
      },
      "outputs": [
        {
          "output_type": "stream",
          "name": "stdout",
          "text": [
            "2\n",
            "4\n",
            "6\n",
            "8\n",
            "10\n"
          ]
        }
      ],
      "source": [
        "for i in range(2,11,2):\n",
        "  print(i)"
      ]
    },
    {
      "cell_type": "code",
      "execution_count": null,
      "metadata": {
        "id": "X3s787C2HF1x"
      },
      "outputs": [],
      "source": [
        "# Q1. print all even numbers from 1 to 20\n",
        "# Q2. print all odd numbers from 1 to 20"
      ]
    },
    {
      "cell_type": "code",
      "execution_count": null,
      "metadata": {
        "colab": {
          "base_uri": "https://localhost:8080/"
        },
        "id": "ASOWNvniIME1",
        "outputId": "96f6d329-adb7-444c-dce8-d4149cbb75b7"
      },
      "outputs": [
        {
          "output_type": "stream",
          "name": "stdout",
          "text": [
            "1\n",
            "2\n",
            "3\n",
            "4\n",
            "Same\n"
          ]
        }
      ],
      "source": [
        "# 'break' statement terminates the loop when condition is satisfied\n",
        "for i in range(1,11):\n",
        "  if i==5:\n",
        "    print(\"Same\")\n",
        "    break\n",
        "  else:\n",
        "    print(i)"
      ]
    },
    {
      "cell_type": "code",
      "execution_count": null,
      "metadata": {
        "colab": {
          "base_uri": "https://localhost:8080/"
        },
        "id": "xruOl41a-BbG",
        "outputId": "e81aa497-a533-4210-9ab2-63997f020602"
      },
      "outputs": [
        {
          "output_type": "stream",
          "name": "stdout",
          "text": [
            "0 0\n",
            "1 1\n",
            "2 8\n",
            "3 27\n",
            "4 64\n",
            "5 125\n",
            "6 216\n",
            "7 343\n",
            "8 512\n",
            "9 729\n",
            "10 1000\n"
          ]
        }
      ],
      "source": [
        "for num in range(11): # 0 to 10\n",
        "  print(num,num**3) # num and its square"
      ]
    },
    {
      "cell_type": "code",
      "execution_count": null,
      "metadata": {
        "colab": {
          "base_uri": "https://localhost:8080/"
        },
        "id": "F2iKroYZ-QnZ",
        "outputId": "43492294-d84a-421f-9790-3fe03a5fff31"
      },
      "outputs": [
        {
          "output_type": "stream",
          "name": "stdout",
          "text": [
            "1 @\n",
            "6 @\n",
            "11 @\n",
            "16 @\n",
            "21 @\n",
            "26 @\n"
          ]
        }
      ],
      "source": [
        "# range(start,stop,step)\n",
        "for i in range(1,31,5):\n",
        "  #print(i)\n",
        "  print(i,\"@\")\n"
      ]
    },
    {
      "cell_type": "code",
      "execution_count": null,
      "metadata": {
        "colab": {
          "base_uri": "https://localhost:8080/"
        },
        "id": "asipEjW3_DRW",
        "outputId": "e7f0b69e-3204-4320-e9b4-50f7aa26bad4"
      },
      "outputs": [
        {
          "output_type": "stream",
          "name": "stdout",
          "text": [
            "S\n",
            "c\n",
            "i\n",
            "e\n",
            "n\n",
            "c\n",
            "e\n"
          ]
        }
      ],
      "source": [
        "subject=\"Science\"\n",
        "for i in subject:\n",
        "  print(i)"
      ]
    },
    {
      "cell_type": "code",
      "execution_count": null,
      "metadata": {
        "colab": {
          "base_uri": "https://localhost:8080/"
        },
        "id": "-N2x0Mu0_fQJ",
        "outputId": "1f3631cd-bb09-448d-8b63-edd1d05ea6fe"
      },
      "outputs": [
        {
          "output_type": "stream",
          "name": "stdout",
          "text": [
            "Snehal Snehal \n",
            "Snehal Snehal Snehal \n",
            "Snehal Snehal Snehal Snehal \n",
            "Snehal Snehal Snehal Snehal Snehal \n",
            "Snehal Snehal Snehal Snehal Snehal Snehal \n"
          ]
        }
      ],
      "source": [
        "# print name 3 times on first line,  4 times on 2nd,5 - 3rd, 6 - 4th line. Range(3,7)\n",
        "'''\n",
        "name=\"Snehal\"\n",
        "for i in range(2,7):\n",
        "  x=(name + \" \")*i\n",
        "  print(x)\n",
        "'''\n",
        "name=\"Snehal \"\n",
        "for i in range(2,7):\n",
        "  print(name*i)\n"
      ]
    },
    {
      "cell_type": "code",
      "execution_count": null,
      "metadata": {
        "colab": {
          "base_uri": "https://localhost:8080/"
        },
        "id": "Ya5qsokpokth",
        "outputId": "4025685b-14f7-473e-8e23-f2afb46bcb66"
      },
      "outputs": [
        {
          "output_type": "stream",
          "name": "stdout",
          "text": [
            "Drishyam"
          ]
        }
      ],
      "source": [
        "# print each letter of movie on separate line\n",
        "# change case of each letter (upper to small and small to upper) of movie on single line with seperator ~\n",
        "movie=\"Drishyam\"\n",
        "for letter in movie:\n",
        "  #print(letter)\n",
        "  #print(letter.swapcase())\n",
        "  print(letter,end=\"\") #try upper(), lower(),\"-\",\"#\",etc. Default end parameter is 'new line'"
      ]
    },
    {
      "cell_type": "code",
      "execution_count": null,
      "metadata": {
        "colab": {
          "base_uri": "https://localhost:8080/"
        },
        "id": "CyN5yrtWAvwx",
        "outputId": "c466b0e3-ed79-41de-b20f-f36e5e346940"
      },
      "outputs": [
        {
          "output_type": "stream",
          "name": "stdout",
          "text": [
            "Odd Number: 1\n",
            "Even Number: 2\n",
            "Odd Number: 3\n",
            "Even Number: 4\n",
            "Odd Number: 5\n",
            "Even Number: 6\n",
            "Odd Number: 7\n",
            "Even Number: 8\n",
            "Odd Number: 9\n",
            "Even Number: 10\n"
          ]
        }
      ],
      "source": [
        "# Print all even and odd numbers between given range using For Loop\n",
        "for i in range(1, 11):\n",
        "    if i % 2 == 0:\n",
        "        print('Even Number:', i)\n",
        "    else:\n",
        "        print('Odd Number:', i)"
      ]
    },
    {
      "cell_type": "code",
      "execution_count": null,
      "metadata": {
        "colab": {
          "base_uri": "https://localhost:8080/"
        },
        "id": "TJ3NKyiu3uYe",
        "outputId": "6156b512-c2d3-4925-a6e7-3c27f88848c5"
      },
      "outputs": [
        {
          "output_type": "stream",
          "name": "stdout",
          "text": [
            "Even Numbers:\n",
            "2 4 6 8 10 12 14 16 18 20 \n",
            "Odd Numbers:\n",
            "1 3 5 7 9 11 13 15 17 19 "
          ]
        }
      ],
      "source": [
        "# Print all even and odd numbers between given range using For Loop\n",
        "print('Even Numbers:')\n",
        "for i in range(1, 21):\n",
        "  if i % 2 == 0:\n",
        "    print(i,end=\" \")\n",
        "\n",
        "print('\\nOdd Numbers:')\n",
        "for i in range(1,21):\n",
        "  if i%2!=0: # != not equal to\n",
        "    print(i,end=\" \")"
      ]
    },
    {
      "cell_type": "code",
      "execution_count": null,
      "metadata": {
        "colab": {
          "base_uri": "https://localhost:8080/"
        },
        "id": "HXI8hvEt0vuX",
        "outputId": "d96df111-3f5f-4b81-834e-d2ce2cca2537"
      },
      "outputs": [
        {
          "output_type": "stream",
          "name": "stdout",
          "text": [
            "DDDD aaaa tttt aaaa      SSSS cccc iiii eeee nnnn cccc eeee "
          ]
        }
      ],
      "source": [
        "# print each letter 4 times with separator as space\n",
        "for letter in \"Data Science\":\n",
        "  print(letter*4,end=\" \")"
      ]
    },
    {
      "cell_type": "code",
      "execution_count": null,
      "metadata": {
        "colab": {
          "base_uri": "https://localhost:8080/"
        },
        "id": "kuMFQ7ZTBTxu",
        "outputId": "c17cf1a8-7128-4f08-9c34-5439bdd7a28e"
      },
      "outputs": [
        {
          "output_type": "execute_result",
          "data": {
            "text/plain": [
              "7"
            ]
          },
          "metadata": {},
          "execution_count": 42
        }
      ],
      "source": [
        "len(\"My name\")"
      ]
    },
    {
      "cell_type": "code",
      "execution_count": null,
      "metadata": {
        "colab": {
          "base_uri": "https://localhost:8080/"
        },
        "id": "j6lbB9eFB9LJ",
        "outputId": "32acd3ad-3087-4490-c938-652dfa002a27"
      },
      "outputs": [
        {
          "output_type": "execute_result",
          "data": {
            "text/plain": [
              "6"
            ]
          },
          "metadata": {},
          "execution_count": 43
        }
      ],
      "source": [
        "len(\"Snehal\")"
      ]
    },
    {
      "cell_type": "code",
      "source": [
        "# Print pyramid of stars\n",
        "x = int(input(\"Enter the number: \"))\n",
        "for i in range(x):\n",
        "    print(\" \" * (x - i - 1) + \"*\" * (2 * i + 1))"
      ],
      "metadata": {
        "colab": {
          "base_uri": "https://localhost:8080/"
        },
        "id": "n6BXxUtuyKeZ",
        "outputId": "60e2c1ba-63db-4dac-a571-79f2037a01aa"
      },
      "execution_count": null,
      "outputs": [
        {
          "output_type": "stream",
          "name": "stdout",
          "text": [
            "Enter the number: 5\n",
            "    *\n",
            "   ***\n",
            "  *****\n",
            " *******\n",
            "*********\n"
          ]
        }
      ]
    },
    {
      "cell_type": "code",
      "execution_count": null,
      "metadata": {
        "colab": {
          "base_uri": "https://localhost:8080/"
        },
        "id": "y1UE1_3m0uio",
        "outputId": "0aafa548-a11f-4ff6-aca7-bbf538c988f6"
      },
      "outputs": [
        {
          "output_type": "execute_result",
          "data": {
            "text/plain": [
              "[40, 55, 70, 60, 80, 85, 78]"
            ]
          },
          "metadata": {},
          "execution_count": 3
        }
      ],
      "source": [
        "# Data Structure: 1.LIST\n",
        "# Lists are mutable.\n",
        "# created using square brackets []\n",
        "marks=[40,55,70,60,80,85,78]\n",
        "marks"
      ]
    },
    {
      "cell_type": "code",
      "execution_count": null,
      "metadata": {
        "colab": {
          "base_uri": "https://localhost:8080/"
        },
        "id": "1DTQi3Dt0tFn",
        "outputId": "902b5100-2001-4a6b-d5ad-aee264e5f4ae"
      },
      "outputs": [
        {
          "output_type": "execute_result",
          "data": {
            "text/plain": [
              "list"
            ]
          },
          "metadata": {},
          "execution_count": 4
        }
      ],
      "source": [
        "type(marks)"
      ]
    },
    {
      "cell_type": "code",
      "execution_count": null,
      "metadata": {
        "colab": {
          "base_uri": "https://localhost:8080/"
        },
        "id": "F346SWFuqcFZ",
        "outputId": "699880e7-6078-43d5-db80-e33455c568ca"
      },
      "outputs": [
        {
          "output_type": "execute_result",
          "data": {
            "text/plain": [
              "list"
            ]
          },
          "metadata": {},
          "execution_count": 5
        }
      ],
      "source": [
        "l1=[1.2,1.3,1.4]\n",
        "type(l1)"
      ]
    },
    {
      "cell_type": "code",
      "execution_count": null,
      "metadata": {
        "colab": {
          "base_uri": "https://localhost:8080/"
        },
        "id": "Z-BbJRGEzCPo",
        "outputId": "e3d6f141-cc5d-4a07-9fd5-def17e1bb60e"
      },
      "outputs": [
        {
          "output_type": "execute_result",
          "data": {
            "text/plain": [
              "['__add__',\n",
              " '__class__',\n",
              " '__class_getitem__',\n",
              " '__contains__',\n",
              " '__delattr__',\n",
              " '__delitem__',\n",
              " '__dir__',\n",
              " '__doc__',\n",
              " '__eq__',\n",
              " '__format__',\n",
              " '__ge__',\n",
              " '__getattribute__',\n",
              " '__getitem__',\n",
              " '__getstate__',\n",
              " '__gt__',\n",
              " '__hash__',\n",
              " '__iadd__',\n",
              " '__imul__',\n",
              " '__init__',\n",
              " '__init_subclass__',\n",
              " '__iter__',\n",
              " '__le__',\n",
              " '__len__',\n",
              " '__lt__',\n",
              " '__mul__',\n",
              " '__ne__',\n",
              " '__new__',\n",
              " '__reduce__',\n",
              " '__reduce_ex__',\n",
              " '__repr__',\n",
              " '__reversed__',\n",
              " '__rmul__',\n",
              " '__setattr__',\n",
              " '__setitem__',\n",
              " '__sizeof__',\n",
              " '__str__',\n",
              " '__subclasshook__',\n",
              " 'append',\n",
              " 'clear',\n",
              " 'copy',\n",
              " 'count',\n",
              " 'extend',\n",
              " 'index',\n",
              " 'insert',\n",
              " 'pop',\n",
              " 'remove',\n",
              " 'reverse',\n",
              " 'sort']"
            ]
          },
          "metadata": {},
          "execution_count": 6
        }
      ],
      "source": [
        "dir(list)"
      ]
    },
    {
      "cell_type": "code",
      "execution_count": null,
      "metadata": {
        "colab": {
          "base_uri": "https://localhost:8080/"
        },
        "id": "RM-IdBGaCewh",
        "outputId": "100cf045-bbe0-4b25-df5c-50043a957bdf"
      },
      "outputs": [
        {
          "output_type": "execute_result",
          "data": {
            "text/plain": [
              "7"
            ]
          },
          "metadata": {},
          "execution_count": 7
        }
      ],
      "source": [
        "len(marks)"
      ]
    },
    {
      "cell_type": "code",
      "execution_count": null,
      "metadata": {
        "colab": {
          "base_uri": "https://localhost:8080/"
        },
        "id": "PBdtD5TxRIoB",
        "outputId": "2a4036ff-de02-47d4-e18a-03b61af7afd1"
      },
      "outputs": [
        {
          "output_type": "execute_result",
          "data": {
            "text/plain": [
              "[40, 55, 60, 70, 78, 80, 85]"
            ]
          },
          "metadata": {},
          "execution_count": 8
        }
      ],
      "source": [
        "sorted(marks)"
      ]
    },
    {
      "cell_type": "code",
      "source": [
        "marks"
      ],
      "metadata": {
        "colab": {
          "base_uri": "https://localhost:8080/"
        },
        "id": "uoEoIaa1Q5yC",
        "outputId": "d19ec4eb-2f92-4453-c684-ceb2df2404ce"
      },
      "execution_count": null,
      "outputs": [
        {
          "output_type": "execute_result",
          "data": {
            "text/plain": [
              "[40, 55, 70, 60, 80, 85, 78]"
            ]
          },
          "metadata": {},
          "execution_count": 9
        }
      ]
    },
    {
      "cell_type": "code",
      "execution_count": null,
      "metadata": {
        "colab": {
          "base_uri": "https://localhost:8080/"
        },
        "id": "XOcdYzZG7tD0",
        "outputId": "e2f4eddb-1441-48ca-e958-fd53989a68aa"
      },
      "outputs": [
        {
          "output_type": "execute_result",
          "data": {
            "text/plain": [
              "[40, 55, 60, 70, 78, 80, 85]"
            ]
          },
          "metadata": {},
          "execution_count": 10
        }
      ],
      "source": [
        "new_marks=sorted(marks) # creates new sorted list. Original marks list remains unchanged\n",
        "new_marks"
      ]
    },
    {
      "cell_type": "code",
      "execution_count": null,
      "metadata": {
        "colab": {
          "base_uri": "https://localhost:8080/"
        },
        "id": "-3tK0Sdz8Egd",
        "outputId": "de12d527-f441-4e72-9f7a-a9eb5e78632d"
      },
      "outputs": [
        {
          "output_type": "execute_result",
          "data": {
            "text/plain": [
              "[40, 55, 70, 60, 80, 85, 78]"
            ]
          },
          "metadata": {},
          "execution_count": 11
        }
      ],
      "source": [
        "marks"
      ]
    },
    {
      "cell_type": "code",
      "execution_count": null,
      "metadata": {
        "id": "sEsavxqT8V-g"
      },
      "outputs": [],
      "source": [
        "marks.sort() # original list is sorted in ascending order by default"
      ]
    },
    {
      "cell_type": "code",
      "execution_count": null,
      "metadata": {
        "colab": {
          "base_uri": "https://localhost:8080/"
        },
        "id": "T8skofrdPiU5",
        "outputId": "8acc5ab1-6271-4ca2-abb8-12d8e0275647"
      },
      "outputs": [
        {
          "output_type": "execute_result",
          "data": {
            "text/plain": [
              "[40, 55, 60, 70, 78, 80, 85]"
            ]
          },
          "metadata": {},
          "execution_count": 14
        }
      ],
      "source": [
        "marks"
      ]
    },
    {
      "cell_type": "code",
      "execution_count": null,
      "metadata": {
        "colab": {
          "base_uri": "https://localhost:8080/"
        },
        "id": "lbEfNi_i3dkS",
        "outputId": "4401f86b-1d85-43f8-b493-d7406dea4384"
      },
      "outputs": [
        {
          "output_type": "execute_result",
          "data": {
            "text/plain": [
              "['Z', 'a', 'b', 'c', 'd', 'e', 'f']"
            ]
          },
          "metadata": {},
          "execution_count": 18
        }
      ],
      "source": [
        "name = \"acZfdbe\"\n",
        "sorted(name)"
      ]
    },
    {
      "cell_type": "code",
      "execution_count": null,
      "metadata": {
        "colab": {
          "base_uri": "https://localhost:8080/"
        },
        "id": "dWDWCfzJ8fkD",
        "outputId": "42000026-4d94-41e1-a8db-e61136ba6926"
      },
      "outputs": [
        {
          "output_type": "execute_result",
          "data": {
            "text/plain": [
              "[40, 55, 60, 70, 78, 80, 85, 35]"
            ]
          },
          "metadata": {},
          "execution_count": 19
        }
      ],
      "source": [
        "marks.append(35) # Append will add element in the last only.\n",
        "marks"
      ]
    },
    {
      "cell_type": "code",
      "execution_count": null,
      "metadata": {
        "id": "7Dot9lIp8y7a"
      },
      "outputs": [],
      "source": [
        "marks.reverse()"
      ]
    },
    {
      "cell_type": "code",
      "execution_count": null,
      "metadata": {
        "colab": {
          "base_uri": "https://localhost:8080/"
        },
        "id": "GGO4bCHV8wnI",
        "outputId": "11dacbf6-2544-4a0d-bc33-32f42cfc3b07"
      },
      "outputs": [
        {
          "output_type": "execute_result",
          "data": {
            "text/plain": [
              "[35, 85, 80, 78, 70, 60, 55, 40]"
            ]
          },
          "metadata": {},
          "execution_count": 21
        }
      ],
      "source": [
        "marks"
      ]
    },
    {
      "cell_type": "code",
      "execution_count": null,
      "metadata": {
        "id": "GO15gE3g9ene"
      },
      "outputs": [],
      "source": [
        "marks2=[42,64,50,78,87,80]"
      ]
    },
    {
      "cell_type": "code",
      "execution_count": null,
      "metadata": {
        "colab": {
          "base_uri": "https://localhost:8080/"
        },
        "id": "e-OxK3eO9qZK",
        "outputId": "5c6d89ee-9222-4404-c525-82455d86d0e4"
      },
      "outputs": [
        {
          "output_type": "execute_result",
          "data": {
            "text/plain": [
              "[87, 80, 78, 64, 50, 42]"
            ]
          },
          "metadata": {},
          "execution_count": 24
        }
      ],
      "source": [
        "marks2.sort(reverse=True) # sorts in descending order when reverse=True\n",
        "marks2"
      ]
    },
    {
      "cell_type": "code",
      "execution_count": null,
      "metadata": {
        "id": "9ypiIZWy97IZ"
      },
      "outputs": [],
      "source": [
        "marks3=[40,60,50,70,80,85]\n",
        "marks3.sort(reverse=False) # by default it sorts in ascending order. No need to write 'reverse=False'"
      ]
    },
    {
      "cell_type": "code",
      "execution_count": null,
      "metadata": {
        "colab": {
          "base_uri": "https://localhost:8080/"
        },
        "id": "jdN33I8Q-Pr_",
        "outputId": "b2f04777-dce3-4830-a122-5dedea7503bb"
      },
      "outputs": [
        {
          "output_type": "execute_result",
          "data": {
            "text/plain": [
              "[40, 50, 60, 70, 80, 85]"
            ]
          },
          "metadata": {},
          "execution_count": 26
        }
      ],
      "source": [
        "marks3"
      ]
    },
    {
      "cell_type": "code",
      "execution_count": null,
      "metadata": {
        "id": "uBYfJHu-kMux"
      },
      "outputs": [],
      "source": [
        "marks3.insert(2,95) # insert 89 at 3rd index"
      ]
    },
    {
      "cell_type": "code",
      "execution_count": null,
      "metadata": {
        "colab": {
          "base_uri": "https://localhost:8080/"
        },
        "id": "O0Gft0S4kaJs",
        "outputId": "e2603b7b-3de4-4118-ea41-584042c4890a"
      },
      "outputs": [
        {
          "output_type": "execute_result",
          "data": {
            "text/plain": [
              "[40, 50, 95, 60, 70, 80, 85]"
            ]
          },
          "metadata": {},
          "execution_count": 28
        }
      ],
      "source": [
        "marks3"
      ]
    },
    {
      "cell_type": "code",
      "execution_count": null,
      "metadata": {
        "colab": {
          "base_uri": "https://localhost:8080/"
        },
        "id": "V0SWXzFs-S8w",
        "outputId": "036c48e0-d6fe-47c9-b4b8-1188920fe055"
      },
      "outputs": [
        {
          "output_type": "execute_result",
          "data": {
            "text/plain": [
              "[35, 85, 80, 78, 70, 60, 55, 40]"
            ]
          },
          "metadata": {},
          "execution_count": 29
        }
      ],
      "source": [
        "marks"
      ]
    },
    {
      "cell_type": "code",
      "execution_count": null,
      "metadata": {
        "colab": {
          "base_uri": "https://localhost:8080/"
        },
        "id": "DC4zPVBEBsdO",
        "outputId": "02d03a00-d8ce-421f-8bc1-5600500321cd"
      },
      "outputs": [
        {
          "output_type": "execute_result",
          "data": {
            "text/plain": [
              "False"
            ]
          },
          "metadata": {},
          "execution_count": 30
        }
      ],
      "source": [
        "90 in marks # checks whether 90 is present in list or not. IF yes returns True, else False"
      ]
    },
    {
      "cell_type": "code",
      "execution_count": null,
      "metadata": {
        "colab": {
          "base_uri": "https://localhost:8080/"
        },
        "id": "vN4eianGBwTC",
        "outputId": "dcf78cac-78c7-4ccc-88ca-6589ff182f57"
      },
      "outputs": [
        {
          "output_type": "execute_result",
          "data": {
            "text/plain": [
              "True"
            ]
          },
          "metadata": {},
          "execution_count": 31
        }
      ],
      "source": [
        "70 in marks"
      ]
    },
    {
      "cell_type": "code",
      "execution_count": null,
      "metadata": {
        "colab": {
          "base_uri": "https://localhost:8080/"
        },
        "id": "lwJ3_iTzCdGG",
        "outputId": "1bc39dae-0128-4bbe-c82e-9d931e12474e"
      },
      "outputs": [
        {
          "output_type": "execute_result",
          "data": {
            "text/plain": [
              "[10, 20, 30, 40, 50, 60]"
            ]
          },
          "metadata": {},
          "execution_count": 32
        }
      ],
      "source": [
        "list1=[10,20,30]\n",
        "list2=[40,50,60]\n",
        "list1 + list2 # concatenation or merging of two lists"
      ]
    },
    {
      "cell_type": "code",
      "execution_count": null,
      "metadata": {
        "colab": {
          "base_uri": "https://localhost:8080/"
        },
        "id": "1LBQEUOnC0Jm",
        "outputId": "c88c12a3-b13e-4de9-cc53-baaa0cacdbc0"
      },
      "outputs": [
        {
          "output_type": "execute_result",
          "data": {
            "text/plain": [
              "[10, 20, 30, 40, 50, 60, 10, 20, 30, 40, 50, 60, 10, 20, 30, 40, 50, 60]"
            ]
          },
          "metadata": {},
          "execution_count": 34
        }
      ],
      "source": [
        "(list1+list2)*3 # repeats 3 times"
      ]
    },
    {
      "cell_type": "code",
      "execution_count": null,
      "metadata": {
        "colab": {
          "base_uri": "https://localhost:8080/"
        },
        "id": "ab-RQaOSlq_j",
        "outputId": "30459158-44fb-4140-9b2d-a54c9f8c8d53"
      },
      "outputs": [
        {
          "output_type": "execute_result",
          "data": {
            "text/plain": [
              "['pen', 'pencil', 'sharpner']"
            ]
          },
          "metadata": {},
          "execution_count": 36
        }
      ],
      "source": [
        "stationary=['pen','pencil','sharpner']\n",
        "stationary"
      ]
    },
    {
      "cell_type": "code",
      "execution_count": null,
      "metadata": {
        "colab": {
          "base_uri": "https://localhost:8080/"
        },
        "id": "M-C8EyBkl8vR",
        "outputId": "58fc61a2-b756-4539-ff5c-c36e24db70df"
      },
      "outputs": [
        {
          "output_type": "execute_result",
          "data": {
            "text/plain": [
              "3"
            ]
          },
          "metadata": {},
          "execution_count": 37
        }
      ],
      "source": [
        "len(stationary)"
      ]
    },
    {
      "cell_type": "code",
      "execution_count": null,
      "metadata": {
        "colab": {
          "base_uri": "https://localhost:8080/"
        },
        "id": "rVp5ops6l-3E",
        "outputId": "db1d3427-019f-4cbb-e0a0-ba445232e635"
      },
      "outputs": [
        {
          "output_type": "execute_result",
          "data": {
            "text/plain": [
              "['pen', 'pencil', 'sharpner', ['notebook', 'book']]"
            ]
          },
          "metadata": {},
          "execution_count": 38
        }
      ],
      "source": [
        "stationary.append(['notebook','book']) # only 1 list element will be added\n",
        "stationary"
      ]
    },
    {
      "cell_type": "code",
      "execution_count": null,
      "metadata": {
        "colab": {
          "base_uri": "https://localhost:8080/"
        },
        "id": "ucuNuMMXmR5A",
        "outputId": "f41549fc-6859-4723-b963-154151c6273c"
      },
      "outputs": [
        {
          "output_type": "execute_result",
          "data": {
            "text/plain": [
              "4"
            ]
          },
          "metadata": {},
          "execution_count": 39
        }
      ],
      "source": [
        "len(stationary)"
      ]
    },
    {
      "cell_type": "code",
      "execution_count": null,
      "metadata": {
        "colab": {
          "base_uri": "https://localhost:8080/",
          "height": 36
        },
        "id": "mHqc_G1cGJgY",
        "outputId": "77fa7a97-83a4-4468-9f96-d92effef8db5"
      },
      "outputs": [
        {
          "output_type": "execute_result",
          "data": {
            "text/plain": [
              "'pencil'"
            ],
            "application/vnd.google.colaboratory.intrinsic+json": {
              "type": "string"
            }
          },
          "metadata": {},
          "execution_count": 40
        }
      ],
      "source": [
        "stationary.pop(1) # index 1 element will be removed from list"
      ]
    },
    {
      "cell_type": "code",
      "execution_count": null,
      "metadata": {
        "colab": {
          "base_uri": "https://localhost:8080/"
        },
        "id": "-qf1DHiYGU5R",
        "outputId": "6178419d-5700-46fd-f6db-d8a46678c19e"
      },
      "outputs": [
        {
          "output_type": "execute_result",
          "data": {
            "text/plain": [
              "['pen', 'sharpner', ['notebook', 'book']]"
            ]
          },
          "metadata": {},
          "execution_count": 41
        }
      ],
      "source": [
        "stationary"
      ]
    },
    {
      "cell_type": "code",
      "execution_count": null,
      "metadata": {
        "colab": {
          "base_uri": "https://localhost:8080/"
        },
        "id": "9yFs3mvvGWmG",
        "outputId": "dfe45ae0-5e36-49fb-da87-5949123f7fff"
      },
      "outputs": [
        {
          "output_type": "execute_result",
          "data": {
            "text/plain": [
              "['pen', 'sharpner', ['notebook', 'book'], 'pencil']"
            ]
          },
          "metadata": {},
          "execution_count": 42
        }
      ],
      "source": [
        "stationary.append('pencil') # only 1 list element will be added\n",
        "stationary"
      ]
    },
    {
      "cell_type": "code",
      "execution_count": null,
      "metadata": {
        "colab": {
          "base_uri": "https://localhost:8080/"
        },
        "id": "-JLTrn91HRwQ",
        "outputId": "9fa003a6-0baf-475e-eb65-3821a9f5edee"
      },
      "outputs": [
        {
          "output_type": "execute_result",
          "data": {
            "text/plain": [
              "['pen', 'sharpner', ['notebook', 'book']]"
            ]
          },
          "metadata": {},
          "execution_count": 43
        }
      ],
      "source": [
        "stationary.pop() #if index no. is not mentioned pop() removes the last element\n",
        "stationary"
      ]
    },
    {
      "cell_type": "code",
      "execution_count": null,
      "metadata": {
        "id": "ELicCVeimUb5"
      },
      "outputs": [],
      "source": [
        "# to add multiple items use extend()\n",
        "stationary.extend(['writing_pad','textbook','eraser'])"
      ]
    },
    {
      "cell_type": "code",
      "execution_count": null,
      "metadata": {
        "colab": {
          "base_uri": "https://localhost:8080/"
        },
        "id": "bxbudXYCmqH9",
        "outputId": "f7b4b404-f842-4445-8469-bf09854aa81b"
      },
      "outputs": [
        {
          "output_type": "execute_result",
          "data": {
            "text/plain": [
              "['pen', 'sharpner', ['notebook', 'book'], 'writing_pad', 'textbook', 'eraser']"
            ]
          },
          "metadata": {},
          "execution_count": 45
        }
      ],
      "source": [
        "stationary"
      ]
    },
    {
      "cell_type": "code",
      "execution_count": null,
      "metadata": {
        "colab": {
          "base_uri": "https://localhost:8080/"
        },
        "id": "1IlaS8cyiZdU",
        "outputId": "24cbd26f-4262-49bc-e296-17b01ce53872"
      },
      "outputs": [
        {
          "output_type": "execute_result",
          "data": {
            "text/plain": [
              "6"
            ]
          },
          "metadata": {},
          "execution_count": 46
        }
      ],
      "source": [
        "len(stationary)"
      ]
    },
    {
      "cell_type": "code",
      "execution_count": null,
      "metadata": {
        "colab": {
          "base_uri": "https://localhost:8080/"
        },
        "id": "C6aMdJYbHy4Y",
        "outputId": "04d53d9c-bb64-43e0-a704-235500958943"
      },
      "outputs": [
        {
          "output_type": "execute_result",
          "data": {
            "text/plain": [
              "['pen', 'sharpner', ['notebook', 'book'], 'writing_pad', 'textbook']"
            ]
          },
          "metadata": {},
          "execution_count": 47
        }
      ],
      "source": [
        "stationary.remove('eraser') # will remove mentioned element name from list\n",
        "stationary"
      ]
    },
    {
      "cell_type": "code",
      "execution_count": null,
      "metadata": {
        "colab": {
          "base_uri": "https://localhost:8080/"
        },
        "id": "n0q9LhhqmrzU",
        "outputId": "f15e5b45-ef30-4268-edc3-69893d56d06e"
      },
      "outputs": [
        {
          "output_type": "execute_result",
          "data": {
            "text/plain": [
              "5"
            ]
          },
          "metadata": {},
          "execution_count": 48
        }
      ],
      "source": [
        "len(stationary)"
      ]
    },
    {
      "cell_type": "code",
      "execution_count": null,
      "metadata": {
        "colab": {
          "base_uri": "https://localhost:8080/"
        },
        "id": "DT1swrxtKBUK",
        "outputId": "65701c0b-ddde-4d1c-a4ba-5ff895d07f92"
      },
      "outputs": [
        {
          "output_type": "execute_result",
          "data": {
            "text/plain": [
              "4"
            ]
          },
          "metadata": {},
          "execution_count": 50
        }
      ],
      "source": [
        "stationary.index('textbook')"
      ]
    },
    {
      "cell_type": "code",
      "execution_count": null,
      "metadata": {
        "colab": {
          "base_uri": "https://localhost:8080/"
        },
        "id": "CPb89jZ1KIz2",
        "outputId": "d8798d31-8ef6-4a8a-bb18-53fc5d47afc8"
      },
      "outputs": [
        {
          "output_type": "stream",
          "name": "stdout",
          "text": [
            "It's Zero\n"
          ]
        }
      ],
      "source": [
        "'''\n",
        "if condition:\n",
        "  -- things to do when condition is true\n",
        "else:\n",
        "  -- things to do when condition is false\n",
        "'''\n",
        "# elif - multiple conditions\n",
        "\n",
        "num = 0 # try 0, 5\n",
        "if num > 0:\n",
        "  print(\"Positive\")\n",
        "elif num == 0:\n",
        "  print(\"It's Zero\")\n",
        "else:\n",
        "  print(\"Negative\")"
      ]
    },
    {
      "cell_type": "markdown",
      "metadata": {
        "id": "tzaY_0UNimEn"
      },
      "source": [
        "**Get input from user and find grades**"
      ]
    },
    {
      "cell_type": "code",
      "execution_count": null,
      "metadata": {
        "colab": {
          "base_uri": "https://localhost:8080/"
        },
        "id": "C7yM2E19iXg8",
        "outputId": "3b92f2a8-486a-4a65-a80f-618d83f0f209"
      },
      "outputs": [
        {
          "name": "stdout",
          "output_type": "stream",
          "text": [
            "Enter your name: Amol\n"
          ]
        }
      ],
      "source": [
        "name = input(\"Enter your name: \") # while taking input it may get time to execute or laptop may hang. Then assign value directly to a variable"
      ]
    },
    {
      "cell_type": "code",
      "execution_count": null,
      "metadata": {
        "colab": {
          "base_uri": "https://localhost:8080/",
          "height": 36
        },
        "id": "bPraru2sit1v",
        "outputId": "cf1aa578-82dc-4b11-a9eb-e33084a1d8a1"
      },
      "outputs": [
        {
          "output_type": "execute_result",
          "data": {
            "text/plain": [
              "'Amol'"
            ],
            "application/vnd.google.colaboratory.intrinsic+json": {
              "type": "string"
            }
          },
          "metadata": {},
          "execution_count": 9
        }
      ],
      "source": [
        "name"
      ]
    },
    {
      "cell_type": "code",
      "execution_count": null,
      "metadata": {
        "colab": {
          "base_uri": "https://localhost:8080/"
        },
        "id": "1Kc-v-WRiwx6",
        "outputId": "2c01edde-8c2a-43bc-92ae-6678443248ea"
      },
      "outputs": [
        {
          "name": "stdout",
          "output_type": "stream",
          "text": [
            "Enter Marks: 80\n"
          ]
        }
      ],
      "source": [
        "marks = input(\"Enter Marks: \")"
      ]
    },
    {
      "cell_type": "code",
      "execution_count": null,
      "metadata": {
        "colab": {
          "base_uri": "https://localhost:8080/",
          "height": 36
        },
        "id": "Sha7Njavi19M",
        "outputId": "4df43353-6774-44c8-84ab-18c3dffbf3c1"
      },
      "outputs": [
        {
          "output_type": "execute_result",
          "data": {
            "text/plain": [
              "'80'"
            ],
            "application/vnd.google.colaboratory.intrinsic+json": {
              "type": "string"
            }
          },
          "metadata": {},
          "execution_count": 11
        }
      ],
      "source": [
        "marks"
      ]
    },
    {
      "cell_type": "code",
      "execution_count": null,
      "metadata": {
        "id": "gpuo-oxnNycH"
      },
      "outputs": [],
      "source": [
        "age=30"
      ]
    },
    {
      "cell_type": "code",
      "execution_count": null,
      "metadata": {
        "colab": {
          "base_uri": "https://localhost:8080/"
        },
        "id": "JIBg41HAN0cf",
        "outputId": "bd22b044-7c05-4c70-83b3-80bc59ef0fc0"
      },
      "outputs": [
        {
          "output_type": "execute_result",
          "data": {
            "text/plain": [
              "30"
            ]
          },
          "metadata": {},
          "execution_count": 13
        }
      ],
      "source": [
        "age"
      ]
    },
    {
      "cell_type": "code",
      "execution_count": null,
      "metadata": {
        "colab": {
          "base_uri": "https://localhost:8080/"
        },
        "id": "FdHFcMmtN2CR",
        "outputId": "12d294e6-c732-44e4-d0f7-cc2f7071a112"
      },
      "outputs": [
        {
          "output_type": "execute_result",
          "data": {
            "text/plain": [
              "40"
            ]
          },
          "metadata": {},
          "execution_count": 14
        }
      ],
      "source": [
        "age+10"
      ]
    },
    {
      "cell_type": "code",
      "execution_count": null,
      "metadata": {
        "colab": {
          "base_uri": "https://localhost:8080/",
          "height": 141
        },
        "id": "H5BqrpJAj7bz",
        "outputId": "e7c0add3-6e8a-4eed-db82-3d80c0bed1ec"
      },
      "outputs": [
        {
          "output_type": "error",
          "ename": "TypeError",
          "evalue": "can only concatenate str (not \"int\") to str",
          "traceback": [
            "\u001b[0;31m---------------------------------------------------------------------------\u001b[0m",
            "\u001b[0;31mTypeError\u001b[0m                                 Traceback (most recent call last)",
            "\u001b[0;32m/tmp/ipython-input-4198130332.py\u001b[0m in \u001b[0;36m<cell line: 0>\u001b[0;34m()\u001b[0m\n\u001b[0;32m----> 1\u001b[0;31m \u001b[0mmarks\u001b[0m \u001b[0;34m+\u001b[0m \u001b[0;36m10\u001b[0m \u001b[0;31m# guess the output\u001b[0m\u001b[0;34m\u001b[0m\u001b[0;34m\u001b[0m\u001b[0m\n\u001b[0m",
            "\u001b[0;31mTypeError\u001b[0m: can only concatenate str (not \"int\") to str"
          ]
        }
      ],
      "source": [
        "marks + 10 # guess the output"
      ]
    },
    {
      "cell_type": "code",
      "execution_count": null,
      "metadata": {
        "colab": {
          "base_uri": "https://localhost:8080/"
        },
        "id": "_0LnKwFOi4EK",
        "outputId": "165f0745-910d-4c24-f2ae-75b515104be3"
      },
      "outputs": [
        {
          "name": "stdout",
          "output_type": "stream",
          "text": [
            "Enter age: 50\n"
          ]
        }
      ],
      "source": [
        "# output is coming in quotation i.e. it is treated as string. You have to convert it to number.\n",
        "# instead of doing it in 2 steps, while accepting input only we can convert it to integer.\n",
        "age = int(input(\"Enter age: \"))"
      ]
    },
    {
      "cell_type": "code",
      "source": [
        "age"
      ],
      "metadata": {
        "colab": {
          "base_uri": "https://localhost:8080/"
        },
        "id": "_CklIz601v5e",
        "outputId": "4bd31092-9135-4855-d3c9-efb23085f140"
      },
      "execution_count": null,
      "outputs": [
        {
          "output_type": "execute_result",
          "data": {
            "text/plain": [
              "50"
            ]
          },
          "metadata": {},
          "execution_count": 17
        }
      ]
    },
    {
      "cell_type": "code",
      "execution_count": null,
      "metadata": {
        "colab": {
          "base_uri": "https://localhost:8080/"
        },
        "id": "PCJkcvGPj1AC",
        "outputId": "6074008f-bc16-4500-9a3c-353c9989609a"
      },
      "outputs": [
        {
          "output_type": "execute_result",
          "data": {
            "text/plain": [
              "55"
            ]
          },
          "metadata": {},
          "execution_count": 18
        }
      ],
      "source": [
        "age + 5"
      ]
    },
    {
      "cell_type": "code",
      "execution_count": null,
      "metadata": {
        "colab": {
          "base_uri": "https://localhost:8080/"
        },
        "id": "ZEKO5sqtj4aM",
        "outputId": "8c045090-7d2c-42cf-ee19-d5d8fd984089"
      },
      "outputs": [
        {
          "output_type": "stream",
          "name": "stdout",
          "text": [
            "Enter a number: 21\n",
            "21\n",
            "You won,it is divisible by 7\n"
          ]
        }
      ],
      "source": [
        "# accept a number from user, if it is divisible by 7 display \"You win\" else display \"Sorry, try again\"\n",
        "num = int(input(\"Enter a number: \"))\n",
        "print(num)\n",
        "if num % 7 == 0:\n",
        "  print(\"You won,it is divisible by 7\")\n",
        "else:\n",
        "  print(\"Sorry, try again\")"
      ]
    },
    {
      "cell_type": "code",
      "execution_count": null,
      "metadata": {
        "colab": {
          "base_uri": "https://localhost:8080/"
        },
        "id": "roKwpGaGqPVT",
        "outputId": "31516f87-5471-4659-c513-29cb45d2eb3a"
      },
      "outputs": [
        {
          "output_type": "stream",
          "name": "stdout",
          "text": [
            "Enter your marks: 20\n",
            "Fail\n"
          ]
        }
      ],
      "source": [
        "# accept marks, if marks>=80 print \"Distinction\", if between 60-80 print \"First class\",\n",
        "# if between 40-60 print \"Pass\", if less than 40 print\"Fail\"\n",
        "marks = int(input(\"Enter your marks: \"))\n",
        "if marks >= 80:\n",
        "  print(\"Distinction\")\n",
        "elif marks >= 60:\n",
        "  print(\"First Class\")\n",
        "elif marks >= 40:\n",
        "  print(\"Pass\")\n",
        "else:\n",
        "  print(\"Fail\")"
      ]
    },
    {
      "cell_type": "markdown",
      "metadata": {
        "id": "C_uXiyYav7e2"
      },
      "source": [
        "**For Loop**"
      ]
    },
    {
      "cell_type": "code",
      "execution_count": null,
      "metadata": {
        "colab": {
          "base_uri": "https://localhost:8080/"
        },
        "id": "QOhBAtShv5vx",
        "outputId": "2d5e2896-7f58-46ff-b223-f85d5d49cae8"
      },
      "outputs": [
        {
          "output_type": "stream",
          "name": "stdout",
          "text": [
            "34 --> Fail\n",
            "55 --> Pass\n",
            "77 --> First Class\n",
            "95 --> Distinction\n",
            "20 --> Fail\n",
            "65 --> First Class\n"
          ]
        }
      ],
      "source": [
        "mrklist = [34,55,77,95,20,65]\n",
        "for marks in mrklist:\n",
        "  if marks >= 80:\n",
        "    print(marks, \"--> Distinction\")\n",
        "  elif marks >= 60:\n",
        "    print(marks, \"--> First Class\")\n",
        "  elif marks >= 40:\n",
        "    print(marks, \"--> Pass\")\n",
        "  else:\n",
        "    print(marks, \"--> Fail\")"
      ]
    },
    {
      "cell_type": "markdown",
      "metadata": {
        "id": "BaNt6C4zv_kl"
      },
      "source": [
        "**While loop**"
      ]
    },
    {
      "cell_type": "code",
      "execution_count": null,
      "metadata": {
        "colab": {
          "base_uri": "https://localhost:8080/"
        },
        "id": "13TfqNNhsItR",
        "outputId": "7265c8a1-24ac-4c1e-9aca-62b2140566f6"
      },
      "outputs": [
        {
          "output_type": "stream",
          "name": "stdout",
          "text": [
            "Hello\n",
            "Hello\n",
            "Hello\n",
            "Hello\n",
            "Hello\n"
          ]
        }
      ],
      "source": [
        "# While loop: Print Hello for 5 times\n",
        "cnt = 1\n",
        "while cnt < 6:\n",
        "  print(\"Hello\")\n",
        "  cnt = cnt + 1\n"
      ]
    },
    {
      "cell_type": "markdown",
      "metadata": {
        "id": "n-iscPxiu5ai"
      },
      "source": [
        "**Write user defined function**"
      ]
    },
    {
      "cell_type": "code",
      "execution_count": 1,
      "metadata": {
        "id": "ZDR8kkV0sGMJ"
      },
      "outputs": [],
      "source": [
        "# Write a square function\n",
        "\n",
        "# Function Definition\n",
        "def square(x):\n",
        "  return x * x # or retrurn x**2"
      ]
    },
    {
      "cell_type": "code",
      "execution_count": 2,
      "metadata": {
        "colab": {
          "base_uri": "https://localhost:8080/"
        },
        "id": "xy6fvYaxvNDq",
        "outputId": "df8a0478-b4e2-4eee-c378-1fb308915ee8"
      },
      "outputs": [
        {
          "output_type": "execute_result",
          "data": {
            "text/plain": [
              "225"
            ]
          },
          "metadata": {},
          "execution_count": 2
        }
      ],
      "source": [
        "# Call a funciton\n",
        "square(15)"
      ]
    },
    {
      "cell_type": "code",
      "execution_count": 3,
      "metadata": {
        "colab": {
          "base_uri": "https://localhost:8080/"
        },
        "id": "HWrltsfIqKeA",
        "outputId": "bd0bbf60-250b-4a0c-b586-ba3b3470c88f"
      },
      "outputs": [
        {
          "output_type": "execute_result",
          "data": {
            "text/plain": [
              "100"
            ]
          },
          "metadata": {},
          "execution_count": 3
        }
      ],
      "source": [
        "square(10)"
      ]
    },
    {
      "cell_type": "code",
      "execution_count": 4,
      "metadata": {
        "id": "DZy2nqbMvWKa"
      },
      "outputs": [],
      "source": [
        "# write a function calc_grade(marks)\n",
        "def grade(marks):\n",
        "    if marks >= 80:\n",
        "      result = \"Distinction\"\n",
        "    elif marks >= 60:\n",
        "      result = \"First Class\"\n",
        "    elif marks >= 40:\n",
        "      result = \"Pass\"\n",
        "    else:\n",
        "      result = \"Fail\"\n",
        "    return result # it should be aligned with if"
      ]
    },
    {
      "cell_type": "code",
      "execution_count": 5,
      "metadata": {
        "colab": {
          "base_uri": "https://localhost:8080/",
          "height": 36
        },
        "id": "6iGC8EJxwppe",
        "outputId": "29db7875-cb1a-41af-f870-1a920aaa9873"
      },
      "outputs": [
        {
          "output_type": "execute_result",
          "data": {
            "text/plain": [
              "'Pass'"
            ],
            "application/vnd.google.colaboratory.intrinsic+json": {
              "type": "string"
            }
          },
          "metadata": {},
          "execution_count": 5
        }
      ],
      "source": [
        "# Call the function\n",
        "grade(50)"
      ]
    },
    {
      "cell_type": "code",
      "execution_count": null,
      "metadata": {
        "id": "KOR5lURHvVep"
      },
      "outputs": [],
      "source": []
    },
    {
      "cell_type": "code",
      "execution_count": 47,
      "metadata": {
        "colab": {
          "base_uri": "https://localhost:8080/"
        },
        "id": "kBVW2QOVErr5",
        "outputId": "a296f397-e81a-4944-88aa-48001c116e50"
      },
      "outputs": [
        {
          "output_type": "execute_result",
          "data": {
            "text/plain": [
              "['Mango', 'Apple', 'Banana', 'Pineapple', 'Custard Apple', 'Strawberry']"
            ]
          },
          "metadata": {},
          "execution_count": 47
        }
      ],
      "source": [
        "# List of Strings\n",
        "list3=[\"Mango\",\"Apple\",\"Banana\",\"Pineapple\",\"Custard Apple\",\"Strawberry\"]\n",
        "list3"
      ]
    },
    {
      "cell_type": "code",
      "execution_count": null,
      "metadata": {
        "colab": {
          "base_uri": "https://localhost:8080/"
        },
        "id": "AL3rNP5qUWeV",
        "outputId": "08ecff46-829d-49d9-95dc-0ff8d4279059"
      },
      "outputs": [
        {
          "output_type": "stream",
          "name": "stdout",
          "text": [
            "mango  apple  banana  pineapple  custard apple  strawberry  "
          ]
        }
      ],
      "source": [
        "# Display fruits by changing case of all fruits to uppercase\n",
        "for fruit in list3:\n",
        "  #print(fruit.upper()) # in sigle line: print(fruit.upper(),end=\" \")\n",
        "  print(fruit.lower(),end=\"  \")"
      ]
    },
    {
      "cell_type": "code",
      "execution_count": 7,
      "metadata": {
        "colab": {
          "base_uri": "https://localhost:8080/"
        },
        "id": "1GUY43V1UUIl",
        "outputId": "d37ca4cc-2dc3-404b-f55d-df1b97291dd3"
      },
      "outputs": [
        {
          "output_type": "execute_result",
          "data": {
            "text/plain": [
              "['Mango', 'Apple', 'Banana', 'Pineapple', 'Custard Apple', 'Strawberry']"
            ]
          },
          "metadata": {},
          "execution_count": 7
        }
      ],
      "source": [
        "# In Python Indexing starts with 0\n",
        "list3"
      ]
    },
    {
      "cell_type": "code",
      "execution_count": 8,
      "metadata": {
        "colab": {
          "base_uri": "https://localhost:8080/",
          "height": 36
        },
        "id": "x2P9GeiCXMIa",
        "outputId": "d2f1a33c-e075-42e7-9098-d41ff89db324"
      },
      "outputs": [
        {
          "output_type": "execute_result",
          "data": {
            "text/plain": [
              "'Mango'"
            ],
            "application/vnd.google.colaboratory.intrinsic+json": {
              "type": "string"
            }
          },
          "metadata": {},
          "execution_count": 8
        }
      ],
      "source": [
        "list3[0]"
      ]
    },
    {
      "cell_type": "code",
      "execution_count": null,
      "metadata": {
        "colab": {
          "base_uri": "https://localhost:8080/"
        },
        "id": "WSlB41hqAela",
        "outputId": "750c786a-094b-4f7e-afba-9f014e84a7dd"
      },
      "outputs": [
        {
          "output_type": "execute_result",
          "data": {
            "text/plain": [
              "1"
            ]
          },
          "metadata": {},
          "execution_count": 80
        }
      ],
      "source": [
        "list3.count(\"Banana\")"
      ]
    },
    {
      "cell_type": "code",
      "execution_count": 9,
      "metadata": {
        "colab": {
          "base_uri": "https://localhost:8080/",
          "height": 141
        },
        "id": "6WA4AbhbXR9m",
        "outputId": "22971553-8437-4ec6-b637-834e8c695a18"
      },
      "outputs": [
        {
          "output_type": "error",
          "ename": "IndexError",
          "evalue": "list index out of range",
          "traceback": [
            "\u001b[0;31m---------------------------------------------------------------------------\u001b[0m",
            "\u001b[0;31mIndexError\u001b[0m                                Traceback (most recent call last)",
            "\u001b[0;32m/tmp/ipython-input-3425311606.py\u001b[0m in \u001b[0;36m<cell line: 0>\u001b[0;34m()\u001b[0m\n\u001b[0;32m----> 1\u001b[0;31m \u001b[0mlist3\u001b[0m\u001b[0;34m[\u001b[0m\u001b[0;36m6\u001b[0m\u001b[0;34m]\u001b[0m \u001b[0;31m# raise error as index is upto 5 only (0 to 5)\u001b[0m\u001b[0;34m\u001b[0m\u001b[0;34m\u001b[0m\u001b[0m\n\u001b[0m",
            "\u001b[0;31mIndexError\u001b[0m: list index out of range"
          ]
        }
      ],
      "source": [
        "list3[6] # raise error as index is upto 5 only (0 to 5)"
      ]
    },
    {
      "cell_type": "code",
      "execution_count": 10,
      "metadata": {
        "colab": {
          "base_uri": "https://localhost:8080/",
          "height": 36
        },
        "id": "0laOWZZZXV6W",
        "outputId": "6749464e-fe4f-4ee4-bc4e-c0728be9ad89"
      },
      "outputs": [
        {
          "output_type": "execute_result",
          "data": {
            "text/plain": [
              "'Strawberry'"
            ],
            "application/vnd.google.colaboratory.intrinsic+json": {
              "type": "string"
            }
          },
          "metadata": {},
          "execution_count": 10
        }
      ],
      "source": [
        "list3[5]"
      ]
    },
    {
      "cell_type": "code",
      "execution_count": 11,
      "metadata": {
        "colab": {
          "base_uri": "https://localhost:8080/"
        },
        "id": "Ov2j6ljLXZqZ",
        "outputId": "ab7b8cac-0cba-4cef-fcb1-0bb0c0594932"
      },
      "outputs": [
        {
          "output_type": "execute_result",
          "data": {
            "text/plain": [
              "['Mango', 'Apple', 'Banana', 'Pineapple']"
            ]
          },
          "metadata": {},
          "execution_count": 11
        }
      ],
      "source": [
        "# Slicing\n",
        "list3[0:4] # 0,1,2,3"
      ]
    },
    {
      "cell_type": "code",
      "execution_count": 12,
      "metadata": {
        "colab": {
          "base_uri": "https://localhost:8080/"
        },
        "id": "I6eBALVZXlW_",
        "outputId": "712f44fd-1aa0-45f1-eefa-60a7cd745cae"
      },
      "outputs": [
        {
          "output_type": "execute_result",
          "data": {
            "text/plain": [
              "['Apple', 'Banana', 'Pineapple', 'Custard Apple', 'Strawberry']"
            ]
          },
          "metadata": {},
          "execution_count": 12
        }
      ],
      "source": [
        "# from Apple to Strawberry i.e. till end\n",
        "list3[1:]# or list3[1:6]"
      ]
    },
    {
      "cell_type": "code",
      "execution_count": 13,
      "metadata": {
        "colab": {
          "base_uri": "https://localhost:8080/"
        },
        "id": "y7YIgcYxX1FP",
        "outputId": "ab8f7ace-4f7e-4f34-9c58-6fa17fe0afdc"
      },
      "outputs": [
        {
          "output_type": "execute_result",
          "data": {
            "text/plain": [
              "['Mango', 'Apple', 'Banana', 'Pineapple']"
            ]
          },
          "metadata": {},
          "execution_count": 13
        }
      ],
      "source": [
        "# from beginning to Pinaapple\n",
        "list3[:4] # or  list3[0:4]"
      ]
    },
    {
      "cell_type": "code",
      "execution_count": 14,
      "metadata": {
        "colab": {
          "base_uri": "https://localhost:8080/"
        },
        "id": "Dw4XFgPJ4dLB",
        "outputId": "9933a654-de3d-475d-8d62-f14d9e335145"
      },
      "outputs": [
        {
          "output_type": "execute_result",
          "data": {
            "text/plain": [
              "['Mango', 'Apple', 'Banana', 'Pineapple', 'Custard Apple', 'Strawberry']"
            ]
          },
          "metadata": {},
          "execution_count": 14
        }
      ],
      "source": [
        "list3"
      ]
    },
    {
      "cell_type": "code",
      "execution_count": 15,
      "metadata": {
        "colab": {
          "base_uri": "https://localhost:8080/"
        },
        "id": "-mgCJJb9v388",
        "outputId": "d054c3aa-2415-40be-f4b5-b0bf769019a3"
      },
      "outputs": [
        {
          "output_type": "execute_result",
          "data": {
            "text/plain": [
              "['Banana', 'Apple', 'Mango']"
            ]
          },
          "metadata": {},
          "execution_count": 15
        }
      ],
      "source": [
        "list3[-4::-1] #start,end,step"
      ]
    },
    {
      "cell_type": "code",
      "source": [
        "list3[::-2] # or list3[-1::-2]"
      ],
      "metadata": {
        "colab": {
          "base_uri": "https://localhost:8080/"
        },
        "id": "g-Yhes-bCj3D",
        "outputId": "9d00ecaf-06ae-4428-ae72-a769ccf2efd3"
      },
      "execution_count": 18,
      "outputs": [
        {
          "output_type": "execute_result",
          "data": {
            "text/plain": [
              "['Strawberry', 'Pineapple', 'Apple']"
            ]
          },
          "metadata": {},
          "execution_count": 18
        }
      ]
    },
    {
      "cell_type": "code",
      "execution_count": 19,
      "metadata": {
        "colab": {
          "base_uri": "https://localhost:8080/",
          "height": 36
        },
        "id": "QERL4JsGYEDz",
        "outputId": "e5f29e58-5c90-4901-91e6-87ac7e27fea5"
      },
      "outputs": [
        {
          "output_type": "execute_result",
          "data": {
            "text/plain": [
              "'Strawberry'"
            ],
            "application/vnd.google.colaboratory.intrinsic+json": {
              "type": "string"
            }
          },
          "metadata": {},
          "execution_count": 19
        }
      ],
      "source": [
        "# Negative indexing: -1 refers to last element\n",
        "list3[-1]"
      ]
    },
    {
      "cell_type": "code",
      "execution_count": 20,
      "metadata": {
        "colab": {
          "base_uri": "https://localhost:8080/",
          "height": 36
        },
        "id": "x7XBCS4JZRxS",
        "outputId": "c990cff6-547b-4e57-c5d1-40aeacae8936"
      },
      "outputs": [
        {
          "output_type": "execute_result",
          "data": {
            "text/plain": [
              "'Pineapple'"
            ],
            "application/vnd.google.colaboratory.intrinsic+json": {
              "type": "string"
            }
          },
          "metadata": {},
          "execution_count": 20
        }
      ],
      "source": [
        "list3[-3]"
      ]
    },
    {
      "cell_type": "code",
      "execution_count": 21,
      "metadata": {
        "colab": {
          "base_uri": "https://localhost:8080/",
          "height": 36
        },
        "id": "w9z5eUpZZaCg",
        "outputId": "d0d0f860-4286-4e0b-a83e-59a1afd6263a"
      },
      "outputs": [
        {
          "output_type": "execute_result",
          "data": {
            "text/plain": [
              "'Mango'"
            ],
            "application/vnd.google.colaboratory.intrinsic+json": {
              "type": "string"
            }
          },
          "metadata": {},
          "execution_count": 21
        }
      ],
      "source": [
        "list3[-6]"
      ]
    },
    {
      "cell_type": "code",
      "execution_count": 22,
      "metadata": {
        "colab": {
          "base_uri": "https://localhost:8080/"
        },
        "id": "Tz1VKgvtZdLm",
        "outputId": "bc9263bd-2844-437d-eb0a-f9f7bfd8f212"
      },
      "outputs": [
        {
          "output_type": "stream",
          "name": "stdout",
          "text": [
            "['Mango', 'Apple', 'Banana', 'Pineapple', 'Custard Apple', 'Strawberry']\n"
          ]
        },
        {
          "output_type": "execute_result",
          "data": {
            "text/plain": [
              "['Mango', 'Banana', 'Custard Apple']"
            ]
          },
          "metadata": {},
          "execution_count": 22
        }
      ],
      "source": [
        "# start stop step in slicing\n",
        "print(list3)\n",
        "list3[::2] # 0,2,4"
      ]
    },
    {
      "cell_type": "code",
      "execution_count": 23,
      "metadata": {
        "colab": {
          "base_uri": "https://localhost:8080/",
          "height": 106
        },
        "id": "LUEYKQ2CZ9cR",
        "outputId": "b3fe4e61-bc89-4955-967f-1e512833fd6b"
      },
      "outputs": [
        {
          "output_type": "error",
          "ename": "SyntaxError",
          "evalue": "invalid syntax (ipython-input-833111276.py, line 1)",
          "traceback": [
            "\u001b[0;36m  File \u001b[0;32m\"/tmp/ipython-input-833111276.py\"\u001b[0;36m, line \u001b[0;32m1\u001b[0m\n\u001b[0;31m    n1=[1:31] # to create list of 1 to 30 - will raise error\u001b[0m\n\u001b[0m         ^\u001b[0m\n\u001b[0;31mSyntaxError\u001b[0m\u001b[0;31m:\u001b[0m invalid syntax\n"
          ]
        }
      ],
      "source": [
        "n1=[1:31] # to create list of 1 to 30 - will raise error"
      ]
    },
    {
      "cell_type": "code",
      "execution_count": 24,
      "metadata": {
        "colab": {
          "base_uri": "https://localhost:8080/"
        },
        "id": "T4UMw3k4Z6iQ",
        "outputId": "c00d2dd7-59b7-4e32-d90b-2ceb78cce308"
      },
      "outputs": [
        {
          "output_type": "stream",
          "name": "stdout",
          "text": [
            "[1, 2, 3, 4, 5, 6, 7, 8, 9, 10, 11, 12, 13, 14, 15, 16, 17, 18, 19, 20, 21, 22, 23, 24, 25, 26, 27, 28, 29, 30]\n"
          ]
        }
      ],
      "source": [
        "n1=list(range(1,31))\n",
        "print(n1)"
      ]
    },
    {
      "cell_type": "code",
      "execution_count": 25,
      "metadata": {
        "colab": {
          "base_uri": "https://localhost:8080/"
        },
        "id": "vH49BFyNawVw",
        "outputId": "c8f8eb08-f65e-4c73-80c8-4aa07151b27e"
      },
      "outputs": [
        {
          "output_type": "execute_result",
          "data": {
            "text/plain": [
              "[1, 5, 9, 13, 17, 21, 25, 29]"
            ]
          },
          "metadata": {},
          "execution_count": 25
        }
      ],
      "source": [
        "n1[::4]"
      ]
    },
    {
      "cell_type": "code",
      "execution_count": 26,
      "metadata": {
        "colab": {
          "base_uri": "https://localhost:8080/"
        },
        "id": "UrCkKb1JZ1as",
        "outputId": "1b40f992-9644-4966-9efb-f90539279f9b"
      },
      "outputs": [
        {
          "output_type": "execute_result",
          "data": {
            "text/plain": [
              "[3, 8, 13, 18, 23]"
            ]
          },
          "metadata": {},
          "execution_count": 26
        }
      ],
      "source": [
        "# print nos from index 2 to 26 with step value of 5\n",
        "n1[2:27:5]"
      ]
    },
    {
      "cell_type": "code",
      "execution_count": 27,
      "metadata": {
        "colab": {
          "base_uri": "https://localhost:8080/"
        },
        "id": "UpCsfQp8cOWd",
        "outputId": "1aedbea6-b2a5-4c8f-a93d-b8e08923d486"
      },
      "outputs": [
        {
          "output_type": "stream",
          "name": "stdout",
          "text": [
            "['Mango', 'Apple', 'Banana', 'Pineapple', 'Custard Apple', 'Strawberry']\n"
          ]
        }
      ],
      "source": [
        "print(list3)\n"
      ]
    },
    {
      "cell_type": "code",
      "execution_count": 28,
      "metadata": {
        "colab": {
          "base_uri": "https://localhost:8080/"
        },
        "id": "GokpJL8dcuJT",
        "outputId": "47650df8-82dd-49d7-9dd4-a2b0f6c18a2c"
      },
      "outputs": [
        {
          "output_type": "execute_result",
          "data": {
            "text/plain": [
              "['Strawberry', 'Custard Apple', 'Pineapple', 'Banana', 'Apple', 'Mango']"
            ]
          },
          "metadata": {},
          "execution_count": 28
        }
      ],
      "source": [
        "list3[::-1]"
      ]
    },
    {
      "cell_type": "code",
      "execution_count": 29,
      "metadata": {
        "colab": {
          "base_uri": "https://localhost:8080/"
        },
        "id": "Kej3UhFtcqtR",
        "outputId": "8033e98c-df49-4c55-99c5-3017060be5b8"
      },
      "outputs": [
        {
          "output_type": "execute_result",
          "data": {
            "text/plain": [
              "['Strawberry', 'Pineapple', 'Apple']"
            ]
          },
          "metadata": {},
          "execution_count": 29
        }
      ],
      "source": [
        "list3[::-2] # step value is -2"
      ]
    },
    {
      "cell_type": "code",
      "execution_count": 30,
      "metadata": {
        "colab": {
          "base_uri": "https://localhost:8080/"
        },
        "id": "OJ5eZKHuc-6N",
        "outputId": "a9377375-0f0b-4fd5-8348-0ad19ff269e2"
      },
      "outputs": [
        {
          "output_type": "execute_result",
          "data": {
            "text/plain": [
              "True"
            ]
          },
          "metadata": {},
          "execution_count": 30
        }
      ],
      "source": [
        "# use of 'in' keyword: search substring in given word\n",
        "'the' in 'Netherland'"
      ]
    },
    {
      "cell_type": "code",
      "execution_count": 31,
      "metadata": {
        "colab": {
          "base_uri": "https://localhost:8080/"
        },
        "id": "IU5Ee08ddWRN",
        "outputId": "cc7e3b7c-b26a-4edf-d32c-03a9c981d6e3"
      },
      "outputs": [
        {
          "output_type": "execute_result",
          "data": {
            "text/plain": [
              "False"
            ]
          },
          "metadata": {},
          "execution_count": 31
        }
      ],
      "source": [
        "'The' in 'Netherland'"
      ]
    },
    {
      "cell_type": "code",
      "execution_count": null,
      "metadata": {
        "colab": {
          "base_uri": "https://localhost:8080/"
        },
        "id": "nEcpm867djRP",
        "outputId": "0d88e452-9be9-4878-dd61-3cf722b0ed8b"
      },
      "outputs": [
        {
          "output_type": "execute_result",
          "data": {
            "text/plain": [
              "False"
            ]
          },
          "metadata": {},
          "execution_count": 43
        }
      ],
      "source": [
        "'therer' in 'Netherland'"
      ]
    },
    {
      "cell_type": "code",
      "execution_count": 32,
      "metadata": {
        "colab": {
          "base_uri": "https://localhost:8080/"
        },
        "id": "vNGiEudpGx6t",
        "outputId": "f016b85d-7b19-4ad1-e267-a67bb401c44c"
      },
      "outputs": [
        {
          "output_type": "execute_result",
          "data": {
            "text/plain": [
              "['Mango', 'Apple', 'Banana', 'Pineapple', 'Custard Apple', 'Strawberry']"
            ]
          },
          "metadata": {},
          "execution_count": 32
        }
      ],
      "source": [
        "list3"
      ]
    },
    {
      "cell_type": "code",
      "source": [
        "list9 = list3.copy()\n",
        "for fruit in list3:   # iterate original\n",
        "    if \"pple\" in fruit:\n",
        "        list9.remove(fruit)\n",
        "print(list9)\n"
      ],
      "metadata": {
        "colab": {
          "base_uri": "https://localhost:8080/"
        },
        "id": "5gVBVT8FnwQp",
        "outputId": "990a99b5-dd01-46fc-fa3f-607f66654a43"
      },
      "execution_count": 7,
      "outputs": [
        {
          "output_type": "stream",
          "name": "stdout",
          "text": [
            "['Mango', 'Banana', 'Strawberry']\n"
          ]
        }
      ]
    },
    {
      "cell_type": "code",
      "source": [
        "# Correct Code\n",
        "li9 = []\n",
        "for i in range(len(list3)):\n",
        "    if 'pple' not in list3[i]:\n",
        "        li9.append(list3[i])\n",
        "print(li9)\n",
        "li = [\"mango\",\"Apple\",\"Banana\",\"Pineapple\",\"Custurd Apple\",\"Strawberry\"]"
      ],
      "metadata": {
        "colab": {
          "base_uri": "https://localhost:8080/"
        },
        "id": "0dnJ0GArjHVg",
        "outputId": "31f24a56-1a07-4a5f-b6d8-92cdaea7febf"
      },
      "execution_count": 8,
      "outputs": [
        {
          "output_type": "stream",
          "name": "stdout",
          "text": [
            "['Mango', 'Banana', 'Strawberry']\n"
          ]
        }
      ]
    },
    {
      "cell_type": "code",
      "source": [
        "list3=[\"Mango\",\"Apple\",\"Banana\",\"Pineapple\",\"Custard Apple\",\"Strawberry\"]"
      ],
      "metadata": {
        "id": "8vTlcBxyKzyj"
      },
      "execution_count": 65,
      "outputs": []
    },
    {
      "cell_type": "code",
      "execution_count": 66,
      "metadata": {
        "id": "u6srYCcIdqJ2"
      },
      "outputs": [],
      "source": [
        "list3.append(\"Mulberry\")"
      ]
    },
    {
      "cell_type": "code",
      "execution_count": 67,
      "metadata": {
        "colab": {
          "base_uri": "https://localhost:8080/"
        },
        "id": "5-7_5S7ueVqB",
        "outputId": "a19f91cf-a770-40cc-e53b-ee874a7efc3c"
      },
      "outputs": [
        {
          "output_type": "execute_result",
          "data": {
            "text/plain": [
              "['Mango',\n",
              " 'Apple',\n",
              " 'Banana',\n",
              " 'Pineapple',\n",
              " 'Custard Apple',\n",
              " 'Strawberry',\n",
              " 'Mulberry']"
            ]
          },
          "metadata": {},
          "execution_count": 67
        }
      ],
      "source": [
        "list3"
      ]
    },
    {
      "cell_type": "code",
      "execution_count": 35,
      "metadata": {
        "id": "R0zZp8HfeW-e"
      },
      "outputs": [],
      "source": [
        "# display fruits which contain substring as 'berry' using for loop\n",
        "for fruit in list3:\n",
        "  if 'Berry' in fruit:\n",
        "    print(fruit)"
      ]
    },
    {
      "cell_type": "code",
      "execution_count": 36,
      "metadata": {
        "colab": {
          "base_uri": "https://localhost:8080/"
        },
        "id": "1i7vB6yYfKxZ",
        "outputId": "55a6ad43-a1e8-479e-8216-c2dad876ec5a"
      },
      "outputs": [
        {
          "output_type": "stream",
          "name": "stdout",
          "text": [
            "Apple\n",
            "Pineapple\n",
            "Custard Apple\n"
          ]
        }
      ],
      "source": [
        "# display fruits which contain substring as 'pple' using for loop\n",
        "for fruit in list3:\n",
        "  if 'pple' in fruit:\n",
        "    print(fruit)"
      ]
    },
    {
      "cell_type": "code",
      "execution_count": 68,
      "metadata": {
        "id": "5qIfPsvPfHNf"
      },
      "outputs": [],
      "source": [
        "list3.append(\"Black berry\")"
      ]
    },
    {
      "cell_type": "code",
      "execution_count": 69,
      "metadata": {
        "colab": {
          "base_uri": "https://localhost:8080/"
        },
        "id": "MW7mGJk7enpN",
        "outputId": "91e85e1c-60d3-4637-bc41-292180508769"
      },
      "outputs": [
        {
          "output_type": "execute_result",
          "data": {
            "text/plain": [
              "['Mango',\n",
              " 'Apple',\n",
              " 'Banana',\n",
              " 'Pineapple',\n",
              " 'Custard Apple',\n",
              " 'Strawberry',\n",
              " 'Mulberry',\n",
              " 'Black berry']"
            ]
          },
          "metadata": {},
          "execution_count": 69
        }
      ],
      "source": [
        "list3"
      ]
    },
    {
      "cell_type": "code",
      "source": [
        "input_string = \"Python\"\n",
        "for i in range(1, len(input_string) + 1):\n",
        "    print(input_string[:i])"
      ],
      "metadata": {
        "id": "VQuctqtUm0ZD",
        "colab": {
          "base_uri": "https://localhost:8080/"
        },
        "outputId": "e5e6c89e-be8c-4f4c-9518-173b6f0255af"
      },
      "execution_count": null,
      "outputs": [
        {
          "output_type": "stream",
          "name": "stdout",
          "text": [
            "P\n",
            "Py\n",
            "Pyt\n",
            "Pyth\n",
            "Pytho\n",
            "Python\n"
          ]
        }
      ]
    },
    {
      "cell_type": "code",
      "execution_count": 71,
      "metadata": {
        "colab": {
          "base_uri": "https://localhost:8080/"
        },
        "id": "xIV38s0lf0EQ",
        "outputId": "61ca9559-5d20-4fab-b042-3149235238cc"
      },
      "outputs": [
        {
          "output_type": "stream",
          "name": "stdout",
          "text": [
            "['Strawberry', 'Mulberry', 'Black berry'] ['Mango', 'Apple', 'Banana', 'Pineapple', 'Custard Apple'] "
          ]
        }
      ],
      "source": [
        "# Create list4 of fruits from list3 having only 'berry' as substring and store remaining fruits in list5\n",
        "list4=[]\n",
        "list5=[]\n",
        "for fruit in list3:\n",
        "  if 'berry' in fruit:\n",
        "    list4.append(fruit)\n",
        "  else:\n",
        "    list5.append(fruit)\n",
        "print(list4,end=\" \")\n",
        "print(list5,end=\" \")"
      ]
    },
    {
      "cell_type": "code",
      "execution_count": 72,
      "metadata": {
        "colab": {
          "base_uri": "https://localhost:8080/"
        },
        "id": "PEiZbu43ekl6",
        "outputId": "cb787baf-377c-4fa3-9746-3ab68c0629d1"
      },
      "outputs": [
        {
          "output_type": "stream",
          "name": "stdout",
          "text": [
            "[2, 3, 4, 5, 6]\n",
            "[4, 9, 16, 25, 36]\n"
          ]
        }
      ],
      "source": [
        "# print squares of all numbers of list1 to list2\n",
        "list1=[2,3,4,5,6]\n",
        "list2=[]\n",
        "for i in list1:\n",
        "  list2.append(i**2) # OR l2.append(i*i)\n",
        "print(list1)\n",
        "print(list2)"
      ]
    },
    {
      "cell_type": "code",
      "execution_count": 73,
      "metadata": {
        "colab": {
          "base_uri": "https://localhost:8080/"
        },
        "id": "61IYUBgkjkjY",
        "outputId": "ff729c09-3a01-4aa3-fac6-d4ddf17b9be5"
      },
      "outputs": [
        {
          "output_type": "stream",
          "name": "stdout",
          "text": [
            "[2, 3, 4, 5, 6]\n",
            "[4, 9, 16, 25, 36]\n"
          ]
        }
      ],
      "source": [
        "# List comprehension - makes your code compact\n",
        "l1=[2,3,4,5,6]\n",
        "l2=[i**2 for i in l1]\n",
        "print(l1)\n",
        "print(l2)"
      ]
    },
    {
      "cell_type": "code",
      "execution_count": 74,
      "metadata": {
        "colab": {
          "base_uri": "https://localhost:8080/"
        },
        "id": "rX-2WBZSA3Ih",
        "outputId": "6037d729-ff6b-4687-ed80-38cf6e0b2668"
      },
      "outputs": [
        {
          "output_type": "execute_result",
          "data": {
            "text/plain": [
              "['Mango',\n",
              " 'Apple',\n",
              " 'Banana',\n",
              " 'Pineapple',\n",
              " 'Custard Apple',\n",
              " 'Strawberry',\n",
              " 'Mulberry',\n",
              " 'Black berry']"
            ]
          },
          "metadata": {},
          "execution_count": 74
        }
      ],
      "source": [
        "list3"
      ]
    },
    {
      "cell_type": "code",
      "execution_count": 75,
      "metadata": {
        "colab": {
          "base_uri": "https://localhost:8080/"
        },
        "id": "qnve8eWalJrv",
        "outputId": "dc4ec1a7-2ae9-4606-e893-d21ffbc1d2f5"
      },
      "outputs": [
        {
          "output_type": "execute_result",
          "data": {
            "text/plain": [
              "['Mango',\n",
              " 'Apple',\n",
              " 'Banana',\n",
              " 'Pineapple',\n",
              " 'Custard Apple',\n",
              " 'Strawberry',\n",
              " 'Mulberry',\n",
              " 'Black berry']"
            ]
          },
          "metadata": {},
          "execution_count": 75
        }
      ],
      "source": [
        "# extract fruit names containing substring 'berry' using List comprehension\n",
        "list3"
      ]
    },
    {
      "cell_type": "code",
      "execution_count": 80,
      "metadata": {
        "id": "vnd_eAJDlfxr"
      },
      "outputs": [],
      "source": [
        "newlist=[fruit for fruit in list3 if 'pple' in fruit]"
      ]
    },
    {
      "cell_type": "code",
      "execution_count": 81,
      "metadata": {
        "colab": {
          "base_uri": "https://localhost:8080/"
        },
        "id": "M9qF_R8b1o4H",
        "outputId": "4c891a3f-0630-4987-d977-8f0e4890bf9d"
      },
      "outputs": [
        {
          "output_type": "execute_result",
          "data": {
            "text/plain": [
              "['Apple', 'Pineapple', 'Custard Apple']"
            ]
          },
          "metadata": {},
          "execution_count": 81
        }
      ],
      "source": [
        "newlist"
      ]
    },
    {
      "cell_type": "code",
      "execution_count": 82,
      "metadata": {
        "id": "hW0X5-MNlF52"
      },
      "outputs": [],
      "source": [
        "newlist1=[i for i in list3 if 'pple' not in i]"
      ]
    },
    {
      "cell_type": "code",
      "execution_count": 83,
      "metadata": {
        "colab": {
          "base_uri": "https://localhost:8080/"
        },
        "id": "qVQfzwqG2_Dl",
        "outputId": "b86d4443-5826-465e-9955-7913fc3bf7a4"
      },
      "outputs": [
        {
          "output_type": "execute_result",
          "data": {
            "text/plain": [
              "['Mango', 'Banana', 'Strawberry', 'Mulberry', 'Black berry']"
            ]
          },
          "metadata": {},
          "execution_count": 83
        }
      ],
      "source": [
        "newlist1"
      ]
    },
    {
      "cell_type": "code",
      "execution_count": null,
      "metadata": {
        "colab": {
          "base_uri": "https://localhost:8080/"
        },
        "id": "N_6DYeMm3ai0",
        "outputId": "62ab735d-0258-46b6-9380-06b3372ae7c4"
      },
      "outputs": [
        {
          "output_type": "execute_result",
          "data": {
            "text/plain": [
              "['Mango',\n",
              " 'Apple',\n",
              " 'Banana',\n",
              " 'Pineapple',\n",
              " 'Custard Apple',\n",
              " 'Strawberry',\n",
              " 'Mulberry',\n",
              " 'Black berry']"
            ]
          },
          "metadata": {},
          "execution_count": 76
        }
      ],
      "source": [
        "list3"
      ]
    },
    {
      "cell_type": "code",
      "execution_count": 84,
      "metadata": {
        "colab": {
          "base_uri": "https://localhost:8080/"
        },
        "id": "Li3-y6rx3dwT",
        "outputId": "fcc08e41-08b1-455f-f6d7-e679c7f1f516"
      },
      "outputs": [
        {
          "output_type": "execute_result",
          "data": {
            "text/plain": [
              "2"
            ]
          },
          "metadata": {},
          "execution_count": 84
        }
      ],
      "source": [
        "list3.index('Banana')"
      ]
    },
    {
      "cell_type": "code",
      "execution_count": 85,
      "metadata": {
        "colab": {
          "base_uri": "https://localhost:8080/"
        },
        "id": "APfx0HAZ4jt6",
        "outputId": "10fdac29-b064-4da1-939a-a55f4ff1c0e7"
      },
      "outputs": [
        {
          "output_type": "execute_result",
          "data": {
            "text/plain": [
              "7"
            ]
          },
          "metadata": {},
          "execution_count": 85
        }
      ],
      "source": [
        "list3.index('Black berry')"
      ]
    },
    {
      "cell_type": "code",
      "execution_count": 86,
      "metadata": {
        "colab": {
          "base_uri": "https://localhost:8080/",
          "height": 141
        },
        "id": "aFp1u4Ur4tbH",
        "outputId": "d285667a-b187-4bfb-8c8c-76780fc09900"
      },
      "outputs": [
        {
          "output_type": "error",
          "ename": "ValueError",
          "evalue": "'Orange' is not in list",
          "traceback": [
            "\u001b[0;31m---------------------------------------------------------------------------\u001b[0m",
            "\u001b[0;31mValueError\u001b[0m                                Traceback (most recent call last)",
            "\u001b[0;32m/tmp/ipython-input-359223593.py\u001b[0m in \u001b[0;36m<cell line: 0>\u001b[0;34m()\u001b[0m\n\u001b[0;32m----> 1\u001b[0;31m \u001b[0mlist3\u001b[0m\u001b[0;34m.\u001b[0m\u001b[0mindex\u001b[0m\u001b[0;34m(\u001b[0m\u001b[0;34m'Orange'\u001b[0m\u001b[0;34m)\u001b[0m \u001b[0;31m# will raise error as item is not present in the list\u001b[0m\u001b[0;34m\u001b[0m\u001b[0;34m\u001b[0m\u001b[0m\n\u001b[0m",
            "\u001b[0;31mValueError\u001b[0m: 'Orange' is not in list"
          ]
        }
      ],
      "source": [
        "list3.index('Orange') # will raise error as item is not present in the list"
      ]
    },
    {
      "cell_type": "code",
      "execution_count": null,
      "metadata": {
        "colab": {
          "base_uri": "https://localhost:8080/"
        },
        "id": "yuQAiBajRQVt",
        "outputId": "22f606e5-40df-4a31-8cab-446d9e6c0468"
      },
      "outputs": [
        {
          "output_type": "stream",
          "name": "stdout",
          "text": [
            "['Mango', 'Apple', 'Banana', 'Pineapple', 'Custard Apple', 'Strawberry', 'Mulberry', 'Black berry'] "
          ]
        }
      ],
      "source": [
        "print(list3,end=\" \")"
      ]
    },
    {
      "cell_type": "code",
      "execution_count": 87,
      "metadata": {
        "colab": {
          "base_uri": "https://localhost:8080/"
        },
        "id": "ljFleX4N_08o",
        "outputId": "8aa1af40-8a4a-4564-e823-5c9fb5a44e47"
      },
      "outputs": [
        {
          "output_type": "execute_result",
          "data": {
            "text/plain": [
              "['Mango',\n",
              " 'Apple',\n",
              " 'Banana',\n",
              " 'Pineapple',\n",
              " 'Custard Apple',\n",
              " 'Strawberry',\n",
              " 'Mulberry',\n",
              " 'Black berry']"
            ]
          },
          "metadata": {},
          "execution_count": 87
        }
      ],
      "source": [
        "list3"
      ]
    },
    {
      "cell_type": "code",
      "execution_count": 88,
      "metadata": {
        "colab": {
          "base_uri": "https://localhost:8080/"
        },
        "id": "R8dOOEuO4yFq",
        "outputId": "22374d2e-a329-4dd1-d310-6271651e8d65"
      },
      "outputs": [
        {
          "output_type": "execute_result",
          "data": {
            "text/plain": [
              "['Mango',\n",
              " 'Apple',\n",
              " 'Orange',\n",
              " 'Pineapple',\n",
              " 'Custard Apple',\n",
              " 'Strawberry',\n",
              " 'Mulberry',\n",
              " 'Black berry']"
            ]
          },
          "metadata": {},
          "execution_count": 88
        }
      ],
      "source": [
        "# index 2 item was banana which is replaced by Orange\n",
        "# Lists are mutable - you can replace items of list\n",
        "list3[2]=\"Orange\"\n",
        "list3"
      ]
    },
    {
      "cell_type": "code",
      "execution_count": 89,
      "metadata": {
        "colab": {
          "base_uri": "https://localhost:8080/"
        },
        "id": "XbF8Y7lL5JAL",
        "outputId": "8ccaba34-2c28-4b83-b764-3c5494888178"
      },
      "outputs": [
        {
          "output_type": "execute_result",
          "data": {
            "text/plain": [
              "(10, 20, 30, 40, 50)"
            ]
          },
          "metadata": {},
          "execution_count": 89
        }
      ],
      "source": [
        "# Data Structure: 2.TUPLE\n",
        "# Tuples are not mutable i.e. immutable\n",
        "# created using round brackets ()\n",
        "t1=(10,20,30,40,50)\n",
        "t1"
      ]
    },
    {
      "cell_type": "code",
      "execution_count": 90,
      "metadata": {
        "colab": {
          "base_uri": "https://localhost:8080/"
        },
        "id": "Xp2nKkmU6sQs",
        "outputId": "958a4ec3-ef4b-46d1-e85c-e3577964c7bf"
      },
      "outputs": [
        {
          "output_type": "execute_result",
          "data": {
            "text/plain": [
              "tuple"
            ]
          },
          "metadata": {},
          "execution_count": 90
        }
      ],
      "source": [
        "type(t1)"
      ]
    },
    {
      "cell_type": "code",
      "execution_count": 91,
      "metadata": {
        "colab": {
          "base_uri": "https://localhost:8080/"
        },
        "id": "-eFR4gnk6t9e",
        "outputId": "a69d6390-a914-4a87-ab44-2ad6900aba30"
      },
      "outputs": [
        {
          "output_type": "execute_result",
          "data": {
            "text/plain": [
              "40"
            ]
          },
          "metadata": {},
          "execution_count": 91
        }
      ],
      "source": [
        "t1[3]"
      ]
    },
    {
      "cell_type": "code",
      "execution_count": 92,
      "metadata": {
        "colab": {
          "base_uri": "https://localhost:8080/",
          "height": 141
        },
        "id": "SY5hsxbJ6yLH",
        "outputId": "5826a06a-61db-460e-ad20-7d7a68c62bbb"
      },
      "outputs": [
        {
          "output_type": "error",
          "ename": "TypeError",
          "evalue": "'tuple' object does not support item assignment",
          "traceback": [
            "\u001b[0;31m---------------------------------------------------------------------------\u001b[0m",
            "\u001b[0;31mTypeError\u001b[0m                                 Traceback (most recent call last)",
            "\u001b[0;32m/tmp/ipython-input-2718795330.py\u001b[0m in \u001b[0;36m<cell line: 0>\u001b[0;34m()\u001b[0m\n\u001b[0;32m----> 1\u001b[0;31m \u001b[0mt1\u001b[0m\u001b[0;34m[\u001b[0m\u001b[0;36m0\u001b[0m\u001b[0;34m]\u001b[0m\u001b[0;34m=\u001b[0m\u001b[0;36m100\u001b[0m \u001b[0;31m# will raise an error as tuples are immutable\u001b[0m\u001b[0;34m\u001b[0m\u001b[0;34m\u001b[0m\u001b[0m\n\u001b[0m",
            "\u001b[0;31mTypeError\u001b[0m: 'tuple' object does not support item assignment"
          ]
        }
      ],
      "source": [
        "t1[0]=100 # will raise an error as tuples are immutable"
      ]
    },
    {
      "cell_type": "code",
      "execution_count": 93,
      "metadata": {
        "id": "TL88JA__-f5Y"
      },
      "outputs": [],
      "source": [
        "t3=t1 + (6,7,8,9,10)"
      ]
    },
    {
      "cell_type": "code",
      "execution_count": 94,
      "metadata": {
        "colab": {
          "base_uri": "https://localhost:8080/"
        },
        "id": "VxbS1rWQ-5cq",
        "outputId": "1fe9ab85-26d2-4af4-93d7-1dcddbd74d58"
      },
      "outputs": [
        {
          "output_type": "execute_result",
          "data": {
            "text/plain": [
              "(10, 20, 30, 40, 50, 6, 7, 8, 9, 10)"
            ]
          },
          "metadata": {},
          "execution_count": 94
        }
      ],
      "source": [
        "t3"
      ]
    },
    {
      "cell_type": "code",
      "execution_count": 95,
      "metadata": {
        "colab": {
          "base_uri": "https://localhost:8080/"
        },
        "id": "k_fOEuk1uaQP",
        "outputId": "2b8e5c27-922d-4a8d-9d8e-a34ef60056d6"
      },
      "outputs": [
        {
          "output_type": "execute_result",
          "data": {
            "text/plain": [
              "(10, 20, 30, 40, 50, 10, 20, 30, 40, 50, 10, 20, 30, 40, 50)"
            ]
          },
          "metadata": {},
          "execution_count": 95
        }
      ],
      "source": [
        "t1 * 3"
      ]
    },
    {
      "cell_type": "code",
      "execution_count": null,
      "metadata": {
        "id": "fPmCdlVpga1O"
      },
      "outputs": [],
      "source": []
    },
    {
      "cell_type": "code",
      "execution_count": 96,
      "metadata": {
        "colab": {
          "base_uri": "https://localhost:8080/"
        },
        "id": "gJYlfk5861Ft",
        "outputId": "9b81273d-5234-482f-adbd-8a0382212e8d"
      },
      "outputs": [
        {
          "output_type": "execute_result",
          "data": {
            "text/plain": [
              "['__add__',\n",
              " '__class__',\n",
              " '__class_getitem__',\n",
              " '__contains__',\n",
              " '__delattr__',\n",
              " '__dir__',\n",
              " '__doc__',\n",
              " '__eq__',\n",
              " '__format__',\n",
              " '__ge__',\n",
              " '__getattribute__',\n",
              " '__getitem__',\n",
              " '__getnewargs__',\n",
              " '__getstate__',\n",
              " '__gt__',\n",
              " '__hash__',\n",
              " '__init__',\n",
              " '__init_subclass__',\n",
              " '__iter__',\n",
              " '__le__',\n",
              " '__len__',\n",
              " '__lt__',\n",
              " '__mul__',\n",
              " '__ne__',\n",
              " '__new__',\n",
              " '__reduce__',\n",
              " '__reduce_ex__',\n",
              " '__repr__',\n",
              " '__rmul__',\n",
              " '__setattr__',\n",
              " '__sizeof__',\n",
              " '__str__',\n",
              " '__subclasshook__',\n",
              " 'count',\n",
              " 'index']"
            ]
          },
          "metadata": {},
          "execution_count": 96
        }
      ],
      "source": [
        "dir(t1)"
      ]
    },
    {
      "cell_type": "code",
      "execution_count": 97,
      "metadata": {
        "colab": {
          "base_uri": "https://localhost:8080/"
        },
        "id": "ecMTsS4NTzuJ",
        "outputId": "b5db1b39-94fd-4c99-e3b7-de275c566c97"
      },
      "outputs": [
        {
          "output_type": "execute_result",
          "data": {
            "text/plain": [
              "(10, 20, 30, 40, 50)"
            ]
          },
          "metadata": {},
          "execution_count": 97
        }
      ],
      "source": [
        "t1"
      ]
    },
    {
      "cell_type": "code",
      "execution_count": 98,
      "metadata": {
        "colab": {
          "base_uri": "https://localhost:8080/"
        },
        "id": "DRz7V1Y34nja",
        "outputId": "49b7edc2-5cd0-4ca7-c702-cc62ab120882"
      },
      "outputs": [
        {
          "output_type": "execute_result",
          "data": {
            "text/plain": [
              "1"
            ]
          },
          "metadata": {},
          "execution_count": 98
        }
      ],
      "source": [
        "t1.count(50)# in bracket we have passed an element of tuple (not the index)"
      ]
    },
    {
      "cell_type": "code",
      "execution_count": 99,
      "metadata": {
        "colab": {
          "base_uri": "https://localhost:8080/"
        },
        "id": "8G8WMapY7nxw",
        "outputId": "59aa436d-82a1-4d82-99cc-3bce51c66f5d"
      },
      "outputs": [
        {
          "output_type": "execute_result",
          "data": {
            "text/plain": [
              "3"
            ]
          },
          "metadata": {},
          "execution_count": 99
        }
      ],
      "source": [
        "t1.index(40) # in bracket we have passed an element of tuple (not the index)"
      ]
    },
    {
      "cell_type": "code",
      "execution_count": 100,
      "metadata": {
        "id": "9FoAjOJq7qlz"
      },
      "outputs": [],
      "source": [
        "t2=(1,1,1,2,2,6,6,6,7,6,6,7)"
      ]
    },
    {
      "cell_type": "code",
      "execution_count": 101,
      "metadata": {
        "colab": {
          "base_uri": "https://localhost:8080/"
        },
        "id": "pavhETrqcg0W",
        "outputId": "fd09327c-5479-4a9b-8d22-c7fce487f9a7"
      },
      "outputs": [
        {
          "output_type": "execute_result",
          "data": {
            "text/plain": [
              "5"
            ]
          },
          "metadata": {},
          "execution_count": 101
        }
      ],
      "source": [
        "t2.index(6)"
      ]
    },
    {
      "cell_type": "code",
      "execution_count": 103,
      "metadata": {
        "colab": {
          "base_uri": "https://localhost:8080/"
        },
        "id": "juwVU_vX71VB",
        "outputId": "b48e918f-8820-4116-ca8f-7bb66c2b8aec"
      },
      "outputs": [
        {
          "output_type": "execute_result",
          "data": {
            "text/plain": [
              "5"
            ]
          },
          "metadata": {},
          "execution_count": 103
        }
      ],
      "source": [
        "t2.count(6)"
      ]
    },
    {
      "cell_type": "code",
      "execution_count": 104,
      "metadata": {
        "colab": {
          "base_uri": "https://localhost:8080/"
        },
        "id": "mB02kt4v73Bd",
        "outputId": "4255e64f-ee64-4c3f-e1a4-81284f591bef"
      },
      "outputs": [
        {
          "output_type": "execute_result",
          "data": {
            "text/plain": [
              "30"
            ]
          },
          "metadata": {},
          "execution_count": 104
        }
      ],
      "source": [
        "# indexing and slicing with tuple is same as list\n",
        "# extracting elements of tuple\n",
        "t1[2]"
      ]
    },
    {
      "cell_type": "code",
      "execution_count": 105,
      "metadata": {
        "colab": {
          "base_uri": "https://localhost:8080/"
        },
        "id": "9vl8CB4lFV1D",
        "outputId": "7aa2f759-4b51-48ce-8aa3-98adeef5e594"
      },
      "outputs": [
        {
          "output_type": "execute_result",
          "data": {
            "text/plain": [
              "(10, 20, 30, 40, 50)"
            ]
          },
          "metadata": {},
          "execution_count": 105
        }
      ],
      "source": [
        "t1"
      ]
    },
    {
      "cell_type": "code",
      "execution_count": 106,
      "metadata": {
        "colab": {
          "base_uri": "https://localhost:8080/"
        },
        "id": "wYtrwBa38S4G",
        "outputId": "c0d1d380-7687-4526-c8ac-a80d543751bd"
      },
      "outputs": [
        {
          "output_type": "execute_result",
          "data": {
            "text/plain": [
              "(20, 30, 40)"
            ]
          },
          "metadata": {},
          "execution_count": 106
        }
      ],
      "source": [
        "t1[1:4]"
      ]
    },
    {
      "cell_type": "code",
      "execution_count": 107,
      "metadata": {
        "colab": {
          "base_uri": "https://localhost:8080/"
        },
        "id": "6rwC0ji01Y92",
        "outputId": "f0042949-ba88-4123-d824-e3c16f75e738"
      },
      "outputs": [
        {
          "output_type": "execute_result",
          "data": {
            "text/plain": [
              "(40, 50)"
            ]
          },
          "metadata": {},
          "execution_count": 107
        }
      ],
      "source": [
        "t1[3:]"
      ]
    },
    {
      "cell_type": "code",
      "execution_count": 1,
      "metadata": {
        "colab": {
          "base_uri": "https://localhost:8080/"
        },
        "id": "SRE7DEwm8Wa7",
        "outputId": "b2635228-32e7-4b73-cc48-ea0b86a12ddc"
      },
      "outputs": [
        {
          "output_type": "execute_result",
          "data": {
            "text/plain": [
              "{'Nepal': 'Kathmandu', 'Italy': 'Rome', 'England': 'London'}"
            ]
          },
          "metadata": {},
          "execution_count": 1
        }
      ],
      "source": [
        "# Data Structure: 3.Dictionary\n",
        "# Dictionaries are used to store data values in \"key:value\" pairs.\n",
        "# A dictionary is a collection which is ordered, changeable and do not allow duplicates.\n",
        "# Dictionaries are written with curly brackets {\"Key\":\"Value\"}, and have keys and values.\n",
        "# Here, keys are unique identifiers that are associated with each value.:\n",
        "\n",
        "capital_dict={\"Nepal\": \"Kathmandu\", \"Italy\": \"Rome\", \"England\": \"London\"}\n",
        "capital_dict"
      ]
    },
    {
      "cell_type": "code",
      "execution_count": 2,
      "metadata": {
        "colab": {
          "base_uri": "https://localhost:8080/"
        },
        "id": "9K5br31fWsBP",
        "outputId": "67212837-b8e0-4645-b41f-eec6d65b23c3"
      },
      "outputs": [
        {
          "output_type": "execute_result",
          "data": {
            "text/plain": [
              "dict"
            ]
          },
          "metadata": {},
          "execution_count": 2
        }
      ],
      "source": [
        "type(capital_dict)"
      ]
    },
    {
      "cell_type": "code",
      "execution_count": 3,
      "metadata": {
        "colab": {
          "base_uri": "https://localhost:8080/"
        },
        "collapsed": true,
        "id": "HajKAlS2XQJa",
        "outputId": "0539b915-fd34-4f47-f2a3-b8d8a8e579d7"
      },
      "outputs": [
        {
          "output_type": "execute_result",
          "data": {
            "text/plain": [
              "['__class__',\n",
              " '__class_getitem__',\n",
              " '__contains__',\n",
              " '__delattr__',\n",
              " '__delitem__',\n",
              " '__dir__',\n",
              " '__doc__',\n",
              " '__eq__',\n",
              " '__format__',\n",
              " '__ge__',\n",
              " '__getattribute__',\n",
              " '__getitem__',\n",
              " '__getstate__',\n",
              " '__gt__',\n",
              " '__hash__',\n",
              " '__init__',\n",
              " '__init_subclass__',\n",
              " '__ior__',\n",
              " '__iter__',\n",
              " '__le__',\n",
              " '__len__',\n",
              " '__lt__',\n",
              " '__ne__',\n",
              " '__new__',\n",
              " '__or__',\n",
              " '__reduce__',\n",
              " '__reduce_ex__',\n",
              " '__repr__',\n",
              " '__reversed__',\n",
              " '__ror__',\n",
              " '__setattr__',\n",
              " '__setitem__',\n",
              " '__sizeof__',\n",
              " '__str__',\n",
              " '__subclasshook__',\n",
              " 'clear',\n",
              " 'copy',\n",
              " 'fromkeys',\n",
              " 'get',\n",
              " 'items',\n",
              " 'keys',\n",
              " 'pop',\n",
              " 'popitem',\n",
              " 'setdefault',\n",
              " 'update',\n",
              " 'values']"
            ]
          },
          "metadata": {},
          "execution_count": 3
        }
      ],
      "source": [
        "dir(capital_dict) # or dir(dict)"
      ]
    },
    {
      "cell_type": "code",
      "execution_count": 112,
      "metadata": {
        "colab": {
          "base_uri": "https://localhost:8080/",
          "height": 36
        },
        "id": "3-IUngWH7tda",
        "outputId": "7c7e5af7-ca0c-4d88-f3a9-c165d320e790"
      },
      "outputs": [
        {
          "output_type": "execute_result",
          "data": {
            "text/plain": [
              "'Rome'"
            ],
            "application/vnd.google.colaboratory.intrinsic+json": {
              "type": "string"
            }
          },
          "metadata": {},
          "execution_count": 112
        }
      ],
      "source": [
        "# access element of dictionary\n",
        "capital_dict[\"Italy\"]"
      ]
    },
    {
      "cell_type": "code",
      "execution_count": 113,
      "metadata": {
        "colab": {
          "base_uri": "https://localhost:8080/"
        },
        "id": "2hpTBWjF7YCN",
        "outputId": "19461838-db0f-4fbf-dd62-d6d659c9a93c"
      },
      "outputs": [
        {
          "output_type": "execute_result",
          "data": {
            "text/plain": [
              "dict_keys(['Nepal', 'Italy', 'England'])"
            ]
          },
          "metadata": {},
          "execution_count": 113
        }
      ],
      "source": [
        "# keys() method extracts the keys of the dictionary and returns the list of keys as a view object.\n",
        "keys1=capital_dict.keys()\n",
        "keys1"
      ]
    },
    {
      "cell_type": "code",
      "execution_count": 114,
      "metadata": {
        "colab": {
          "base_uri": "https://localhost:8080/"
        },
        "id": "bwgUoRRVsVqL",
        "outputId": "cde394b4-83c5-4d7e-d0c9-01d2eaa19842"
      },
      "outputs": [
        {
          "output_type": "execute_result",
          "data": {
            "text/plain": [
              "dict_keys(['Nepal', 'Italy', 'England'])"
            ]
          },
          "metadata": {},
          "execution_count": 114
        }
      ],
      "source": [
        "capital_dict.keys()"
      ]
    },
    {
      "cell_type": "code",
      "execution_count": null,
      "metadata": {
        "colab": {
          "base_uri": "https://localhost:8080/"
        },
        "id": "_1hO-RoadA72",
        "outputId": "62343159-e8d9-4985-cc66-efa7ecdf7a7f"
      },
      "outputs": [
        {
          "output_type": "execute_result",
          "data": {
            "text/plain": [
              "dict_keys"
            ]
          },
          "metadata": {},
          "execution_count": 95
        }
      ],
      "source": [
        "type(keys1)"
      ]
    },
    {
      "cell_type": "code",
      "execution_count": 115,
      "metadata": {
        "colab": {
          "base_uri": "https://localhost:8080/"
        },
        "id": "wF0P6FzRYMT6",
        "outputId": "9353575e-bac4-4517-a5a9-3c8b2072337f"
      },
      "outputs": [
        {
          "output_type": "execute_result",
          "data": {
            "text/plain": [
              "dict_values(['Kathmandu', 'Rome', 'London'])"
            ]
          },
          "metadata": {},
          "execution_count": 115
        }
      ],
      "source": [
        "# The values() method returns a view object that displays a list of all the values in the dictionary.\n",
        "value=capital_dict.values()\n",
        "value"
      ]
    },
    {
      "cell_type": "code",
      "execution_count": 116,
      "metadata": {
        "colab": {
          "base_uri": "https://localhost:8080/"
        },
        "id": "wX37zQVRYU8g",
        "outputId": "8b088644-3cdc-432a-ef7b-52daedee6fa7"
      },
      "outputs": [
        {
          "output_type": "execute_result",
          "data": {
            "text/plain": [
              "dict_items([('Nepal', 'Kathmandu'), ('Italy', 'Rome'), ('England', 'London')])"
            ]
          },
          "metadata": {},
          "execution_count": 116
        }
      ],
      "source": [
        "# The items() method returns a view object that displays a list of dictionary's (key, value) tuple pairs.\n",
        "items=capital_dict.items()\n",
        "items"
      ]
    },
    {
      "cell_type": "code",
      "execution_count": 4,
      "metadata": {
        "id": "XvBTzNlbYol1"
      },
      "outputs": [],
      "source": [
        "# The update() method updates the dictionary with the elements from another dictionary object or from an iterable of key/value pairs.\n",
        "add_capital={\"India\": \"New Delhi\",\"abc\":\"xyz\"}\n",
        "capital_dict.update(add_capital)"
      ]
    },
    {
      "cell_type": "code",
      "execution_count": 5,
      "metadata": {
        "colab": {
          "base_uri": "https://localhost:8080/"
        },
        "id": "Y6GKnzNWZj1X",
        "outputId": "2ed838b9-0b64-4941-d36d-f83da4878f26",
        "collapsed": true
      },
      "outputs": [
        {
          "output_type": "execute_result",
          "data": {
            "text/plain": [
              "{'Nepal': 'Kathmandu',\n",
              " 'Italy': 'Rome',\n",
              " 'England': 'London',\n",
              " 'India': 'New Delhi',\n",
              " 'abc': 'xyz'}"
            ]
          },
          "metadata": {},
          "execution_count": 5
        }
      ],
      "source": [
        "capital_dict"
      ]
    },
    {
      "cell_type": "code",
      "execution_count": 6,
      "metadata": {
        "colab": {
          "base_uri": "https://localhost:8080/"
        },
        "id": "7Xw0hz3raKZF",
        "outputId": "9c81380b-bf4a-4113-8fda-d4d217e18e45",
        "collapsed": true
      },
      "outputs": [
        {
          "output_type": "execute_result",
          "data": {
            "text/plain": [
              "{'Nepal': 'Kathmandu',\n",
              " 'Italy': 'Rome',\n",
              " 'England': 'London',\n",
              " 'India': 'New Delhi',\n",
              " 'abc': 'xyz',\n",
              " 'Australia': 'Canberra'}"
            ]
          },
          "metadata": {},
          "execution_count": 6
        }
      ],
      "source": [
        "capital_dict.update({\"Australia\":\"Canberra\"})\n",
        "capital_dict"
      ]
    },
    {
      "cell_type": "code",
      "execution_count": 7,
      "metadata": {
        "id": "MHWNI_Ys1WMi"
      },
      "outputs": [],
      "source": [
        "capital_dict.update({\"a\":\"b\",\"p\":\"q\"})"
      ]
    },
    {
      "cell_type": "code",
      "execution_count": 8,
      "metadata": {
        "colab": {
          "base_uri": "https://localhost:8080/"
        },
        "id": "l12-aATQ1jkk",
        "outputId": "d4fe4974-d15f-4a28-91c9-f81f888cf538"
      },
      "outputs": [
        {
          "output_type": "execute_result",
          "data": {
            "text/plain": [
              "{'Nepal': 'Kathmandu',\n",
              " 'Italy': 'Rome',\n",
              " 'England': 'London',\n",
              " 'India': 'New Delhi',\n",
              " 'abc': 'xyz',\n",
              " 'Australia': 'Canberra',\n",
              " 'a': 'b',\n",
              " 'p': 'q'}"
            ]
          },
          "metadata": {},
          "execution_count": 8
        }
      ],
      "source": [
        "capital_dict"
      ]
    },
    {
      "cell_type": "code",
      "execution_count": 9,
      "metadata": {
        "colab": {
          "base_uri": "https://localhost:8080/",
          "height": 36
        },
        "id": "GrYVepbHZn-Z",
        "outputId": "23dd42b8-9ce6-4b6d-d925-fc58219cb03d"
      },
      "outputs": [
        {
          "output_type": "execute_result",
          "data": {
            "text/plain": [
              "'b'"
            ],
            "application/vnd.google.colaboratory.intrinsic+json": {
              "type": "string"
            }
          },
          "metadata": {},
          "execution_count": 9
        }
      ],
      "source": [
        "# The pop() method removes and returns an element from a dictionary having the given key.\n",
        "capital_dict.pop(\"a\")"
      ]
    },
    {
      "cell_type": "code",
      "execution_count": 10,
      "metadata": {
        "colab": {
          "base_uri": "https://localhost:8080/"
        },
        "id": "FH9ibZWx3wBT",
        "outputId": "bd7ecd9c-bf6d-4dd6-bd1e-cf8d8bb232c2"
      },
      "outputs": [
        {
          "output_type": "execute_result",
          "data": {
            "text/plain": [
              "{'Nepal': 'Kathmandu',\n",
              " 'Italy': 'Rome',\n",
              " 'England': 'London',\n",
              " 'India': 'New Delhi',\n",
              " 'abc': 'xyz',\n",
              " 'Australia': 'Canberra',\n",
              " 'p': 'q'}"
            ]
          },
          "metadata": {},
          "execution_count": 10
        }
      ],
      "source": [
        "capital_dict"
      ]
    },
    {
      "cell_type": "code",
      "execution_count": 11,
      "metadata": {
        "id": "5bBQ17_HQLOJ"
      },
      "outputs": [],
      "source": [
        "capital_dict['abc']=\"Mumbai\""
      ]
    },
    {
      "cell_type": "code",
      "execution_count": 12,
      "metadata": {
        "colab": {
          "base_uri": "https://localhost:8080/"
        },
        "id": "KiV7WPLTbgZn",
        "outputId": "532cdd1d-b5aa-489d-c32d-3b0a6d5ffeb0",
        "collapsed": true
      },
      "outputs": [
        {
          "output_type": "execute_result",
          "data": {
            "text/plain": [
              "{'Nepal': 'Kathmandu',\n",
              " 'Italy': 'Rome',\n",
              " 'England': 'London',\n",
              " 'India': 'New Delhi',\n",
              " 'abc': 'Mumbai',\n",
              " 'Australia': 'Canberra',\n",
              " 'p': 'q'}"
            ]
          },
          "metadata": {},
          "execution_count": 12
        }
      ],
      "source": [
        "capital_dict"
      ]
    },
    {
      "cell_type": "code",
      "execution_count": 13,
      "metadata": {
        "colab": {
          "base_uri": "https://localhost:8080/"
        },
        "id": "IkpWqBkWRY3C",
        "outputId": "18b5a9d9-b3e2-4097-edd9-45d721fa8765",
        "collapsed": true
      },
      "outputs": [
        {
          "output_type": "execute_result",
          "data": {
            "text/plain": [
              "('p', 'q')"
            ]
          },
          "metadata": {},
          "execution_count": 13
        }
      ],
      "source": [
        "capital_dict.popitem() # removes last key:value pair from dictionary"
      ]
    },
    {
      "cell_type": "code",
      "execution_count": 14,
      "metadata": {
        "colab": {
          "base_uri": "https://localhost:8080/"
        },
        "id": "6S9VAE_CRf80",
        "outputId": "49e8e5ac-1536-4ea9-d18f-9399fb2235c8",
        "collapsed": true
      },
      "outputs": [
        {
          "output_type": "execute_result",
          "data": {
            "text/plain": [
              "{'Nepal': 'Kathmandu',\n",
              " 'Italy': 'Rome',\n",
              " 'England': 'London',\n",
              " 'India': 'New Delhi',\n",
              " 'abc': 'Mumbai',\n",
              " 'Australia': 'Canberra'}"
            ]
          },
          "metadata": {},
          "execution_count": 14
        }
      ],
      "source": [
        "capital_dict"
      ]
    },
    {
      "cell_type": "code",
      "execution_count": 15,
      "metadata": {
        "id": "CVhCf4KIbj6E"
      },
      "outputs": [],
      "source": [
        "# Dictionary Values can be of different data type/data structures\n",
        "mylist=[\"Mango\",\"Orange\",\"Strawberry\",\"Banana\",\"Mulberry\",\"Black berry\"]"
      ]
    },
    {
      "cell_type": "code",
      "execution_count": 16,
      "metadata": {
        "id": "Ind6hsS8cmID"
      },
      "outputs": [],
      "source": [
        "mytuple=(20,53,45,78,89,65,97)"
      ]
    },
    {
      "cell_type": "code",
      "execution_count": 17,
      "metadata": {
        "colab": {
          "base_uri": "https://localhost:8080/"
        },
        "id": "tTozy8ZLcuRd",
        "outputId": "622013c4-5e4e-4bf9-f2cf-ef0676baaf2b"
      },
      "outputs": [
        {
          "output_type": "execute_result",
          "data": {
            "text/plain": [
              "{'A': ['Mango', 'Orange', 'Strawberry', 'Banana', 'Mulberry', 'Black berry'],\n",
              " 'B': (20, 53, 45, 78, 89, 65, 97),\n",
              " 'C': {'Nepal': 'Kathmandu',\n",
              "  'Italy': 'Rome',\n",
              "  'England': 'London',\n",
              "  'India': 'New Delhi',\n",
              "  'abc': 'Mumbai',\n",
              "  'Australia': 'Canberra'}}"
            ]
          },
          "metadata": {},
          "execution_count": 17
        }
      ],
      "source": [
        "mydict={\"A\":mylist,\n",
        "        \"B\":mytuple,\n",
        "        \"C\":capital_dict\n",
        "       }\n",
        "mydict"
      ]
    },
    {
      "cell_type": "code",
      "execution_count": 18,
      "metadata": {
        "colab": {
          "base_uri": "https://localhost:8080/"
        },
        "id": "Dl7SDJxGdEzN",
        "outputId": "e0f3dc51-63c7-45f2-f1dd-b80bd00dc4bf"
      },
      "outputs": [
        {
          "output_type": "execute_result",
          "data": {
            "text/plain": [
              "['Mango', 'Orange', 'Strawberry', 'Banana', 'Mulberry', 'Black berry']"
            ]
          },
          "metadata": {},
          "execution_count": 18
        }
      ],
      "source": [
        "mydict['A']"
      ]
    },
    {
      "cell_type": "code",
      "execution_count": null,
      "metadata": {
        "colab": {
          "base_uri": "https://localhost:8080/"
        },
        "id": "W_pPVg-5NfU4",
        "outputId": "6a1c2291-08bf-45b4-bc76-8b71ad9c184b"
      },
      "outputs": [
        {
          "output_type": "execute_result",
          "data": {
            "text/plain": [
              "3"
            ]
          },
          "metadata": {},
          "execution_count": 48
        }
      ],
      "source": [
        "len(mydict)"
      ]
    },
    {
      "cell_type": "code",
      "execution_count": null,
      "metadata": {
        "colab": {
          "base_uri": "https://localhost:8080/"
        },
        "id": "L2n5WE8XNSNl",
        "outputId": "05aefcea-ca44-4f68-b971-2b583bd4c971"
      },
      "outputs": [
        {
          "output_type": "execute_result",
          "data": {
            "text/plain": [
              "6"
            ]
          },
          "metadata": {},
          "execution_count": 49
        }
      ],
      "source": [
        "len(mydict['A'])"
      ]
    },
    {
      "cell_type": "code",
      "execution_count": null,
      "metadata": {
        "colab": {
          "base_uri": "https://localhost:8080/"
        },
        "id": "IMhZtE-3dQcJ",
        "outputId": "b5693554-d87e-47db-8661-e921ec1abde4"
      },
      "outputs": [
        {
          "output_type": "execute_result",
          "data": {
            "text/plain": [
              "(20, 53, 45, 78, 89, 65, 97)"
            ]
          },
          "metadata": {},
          "execution_count": 50
        }
      ],
      "source": [
        "mydict['B']"
      ]
    },
    {
      "cell_type": "code",
      "execution_count": null,
      "metadata": {
        "colab": {
          "base_uri": "https://localhost:8080/",
          "height": 36
        },
        "id": "PRaZYzWqdUxM",
        "outputId": "23f8a4a9-8902-4b1b-aedc-9cb16f0d4c52"
      },
      "outputs": [
        {
          "output_type": "execute_result",
          "data": {
            "text/plain": [
              "'Strawberry'"
            ],
            "application/vnd.google.colaboratory.intrinsic+json": {
              "type": "string"
            }
          },
          "metadata": {},
          "execution_count": 51
        }
      ],
      "source": [
        "mydict['A'][2] #index 0 1 2 3, 3rd index element = banana"
      ]
    },
    {
      "cell_type": "code",
      "execution_count": 19,
      "metadata": {
        "colab": {
          "base_uri": "https://localhost:8080/",
          "height": 36
        },
        "id": "4S_dm12UdiZ5",
        "outputId": "048b7b3e-5d3f-47fa-81ac-065ce8872487"
      },
      "outputs": [
        {
          "output_type": "execute_result",
          "data": {
            "text/plain": [
              "'New Delhi'"
            ],
            "application/vnd.google.colaboratory.intrinsic+json": {
              "type": "string"
            }
          },
          "metadata": {},
          "execution_count": 19
        }
      ],
      "source": [
        "mydict['C']['India']"
      ]
    },
    {
      "cell_type": "code",
      "source": [
        "add_capital.clear()"
      ],
      "metadata": {
        "id": "LMlhF8gAMLkr"
      },
      "execution_count": 20,
      "outputs": []
    },
    {
      "cell_type": "code",
      "source": [
        "add_capital"
      ],
      "metadata": {
        "colab": {
          "base_uri": "https://localhost:8080/"
        },
        "id": "g_8urEFOMWDh",
        "outputId": "64e314cd-7a23-4190-e155-d29c76b1cb96"
      },
      "execution_count": 21,
      "outputs": [
        {
          "output_type": "execute_result",
          "data": {
            "text/plain": [
              "{}"
            ]
          },
          "metadata": {},
          "execution_count": 21
        }
      ]
    },
    {
      "cell_type": "code",
      "execution_count": 22,
      "metadata": {
        "colab": {
          "base_uri": "https://localhost:8080/",
          "height": 158
        },
        "id": "iBnI2KYndxbK",
        "outputId": "5ce66f27-16f8-4a07-df4c-eac12651596e"
      },
      "outputs": [
        {
          "output_type": "error",
          "ename": "NameError",
          "evalue": "name 'sqrt' is not defined",
          "traceback": [
            "\u001b[0;31m---------------------------------------------------------------------------\u001b[0m",
            "\u001b[0;31mNameError\u001b[0m                                 Traceback (most recent call last)",
            "\u001b[0;32m/tmp/ipython-input-2268610189.py\u001b[0m in \u001b[0;36m<cell line: 0>\u001b[0;34m()\u001b[0m\n\u001b[1;32m      1\u001b[0m \u001b[0;31m# Math functions: can import specific functions or all using *\u001b[0m\u001b[0;34m\u001b[0m\u001b[0;34m\u001b[0m\u001b[0m\n\u001b[0;32m----> 2\u001b[0;31m \u001b[0msqrt\u001b[0m\u001b[0;34m(\u001b[0m\u001b[0;36m25\u001b[0m\u001b[0;34m)\u001b[0m \u001b[0;31m# raise error as you have not imported\u001b[0m\u001b[0;34m\u001b[0m\u001b[0;34m\u001b[0m\u001b[0m\n\u001b[0m",
            "\u001b[0;31mNameError\u001b[0m: name 'sqrt' is not defined"
          ]
        }
      ],
      "source": [
        "# Math functions: can import specific functions or all using *\n",
        "sqrt(25) # raise error as you have not imported"
      ]
    },
    {
      "cell_type": "code",
      "execution_count": 23,
      "metadata": {
        "colab": {
          "base_uri": "https://localhost:8080/"
        },
        "id": "jtlRIuewfkho",
        "outputId": "c0f7e7e4-b6f5-41a9-ab96-b096ea93b7d2"
      },
      "outputs": [
        {
          "output_type": "execute_result",
          "data": {
            "text/plain": [
              "6.0"
            ]
          },
          "metadata": {},
          "execution_count": 23
        }
      ],
      "source": [
        "from math import sqrt\n",
        "sqrt(36)"
      ]
    },
    {
      "cell_type": "code",
      "execution_count": 24,
      "metadata": {
        "colab": {
          "base_uri": "https://localhost:8080/",
          "height": 141
        },
        "id": "u5LN2kMUfpgo",
        "outputId": "fb8d91c4-10ef-4de5-91ef-7863decc5df9"
      },
      "outputs": [
        {
          "output_type": "error",
          "ename": "NameError",
          "evalue": "name 'factorial' is not defined",
          "traceback": [
            "\u001b[0;31m---------------------------------------------------------------------------\u001b[0m",
            "\u001b[0;31mNameError\u001b[0m                                 Traceback (most recent call last)",
            "\u001b[0;32m/tmp/ipython-input-2959594348.py\u001b[0m in \u001b[0;36m<cell line: 0>\u001b[0;34m()\u001b[0m\n\u001b[0;32m----> 1\u001b[0;31m \u001b[0mfactorial\u001b[0m\u001b[0;34m(\u001b[0m\u001b[0;36m5\u001b[0m\u001b[0;34m)\u001b[0m\u001b[0;34m\u001b[0m\u001b[0;34m\u001b[0m\u001b[0m\n\u001b[0m",
            "\u001b[0;31mNameError\u001b[0m: name 'factorial' is not defined"
          ]
        }
      ],
      "source": [
        "factorial(5)"
      ]
    },
    {
      "cell_type": "code",
      "execution_count": 25,
      "metadata": {
        "colab": {
          "base_uri": "https://localhost:8080/"
        },
        "id": "O42al4tpf23m",
        "outputId": "6e39ec2c-e54d-4dc5-f6cb-1fd71fa345dd"
      },
      "outputs": [
        {
          "output_type": "execute_result",
          "data": {
            "text/plain": [
              "120"
            ]
          },
          "metadata": {},
          "execution_count": 25
        }
      ],
      "source": [
        "from math import factorial\n",
        "factorial(5)"
      ]
    },
    {
      "cell_type": "code",
      "execution_count": null,
      "metadata": {
        "id": "8Kl2wEIhfSEJ",
        "colab": {
          "base_uri": "https://localhost:8080/",
          "height": 141
        },
        "outputId": "94303e07-f1f4-454e-afc3-1790a2e1fafb"
      },
      "outputs": [
        {
          "output_type": "error",
          "ename": "NameError",
          "evalue": "name 'sin' is not defined",
          "traceback": [
            "\u001b[0;31m---------------------------------------------------------------------------\u001b[0m",
            "\u001b[0;31mNameError\u001b[0m                                 Traceback (most recent call last)",
            "\u001b[0;32m<ipython-input-55-1b2f3ba94f3b>\u001b[0m in \u001b[0;36m<cell line: 0>\u001b[0;34m()\u001b[0m\n\u001b[0;32m----> 1\u001b[0;31m \u001b[0msin\u001b[0m\u001b[0;34m(\u001b[0m\u001b[0;36m90\u001b[0m\u001b[0;34m)\u001b[0m\u001b[0;34m\u001b[0m\u001b[0;34m\u001b[0m\u001b[0m\n\u001b[0m",
            "\u001b[0;31mNameError\u001b[0m: name 'sin' is not defined"
          ]
        }
      ],
      "source": [
        "sin(90)"
      ]
    },
    {
      "cell_type": "code",
      "execution_count": null,
      "metadata": {
        "id": "1Zmvln2UgD91"
      },
      "outputs": [],
      "source": [
        "from math import sin,cos,tan"
      ]
    },
    {
      "cell_type": "code",
      "execution_count": null,
      "metadata": {
        "colab": {
          "base_uri": "https://localhost:8080/"
        },
        "id": "wy4ycHVzgIT3",
        "outputId": "94dd9c60-bf1f-4b8c-f5b9-7e1308b53c80"
      },
      "outputs": [
        {
          "data": {
            "text/plain": [
              "1.0"
            ]
          },
          "execution_count": 46,
          "metadata": {},
          "output_type": "execute_result"
        }
      ],
      "source": [
        "cos(0)"
      ]
    },
    {
      "cell_type": "code",
      "execution_count": null,
      "metadata": {
        "colab": {
          "base_uri": "https://localhost:8080/"
        },
        "id": "iiM-Abv0gJ4c",
        "outputId": "a12667d3-71d1-4bd6-febe-267f5d814395"
      },
      "outputs": [
        {
          "output_type": "execute_result",
          "data": {
            "text/plain": [
              "30"
            ]
          },
          "metadata": {},
          "execution_count": 72
        }
      ],
      "source": [
        "from math import *\n",
        "listnew=[5,2,3]\n",
        "prod(listnew) #or prod([10,20,30])"
      ]
    },
    {
      "cell_type": "code",
      "execution_count": null,
      "metadata": {
        "colab": {
          "base_uri": "https://localhost:8080/"
        },
        "id": "yMrTuMA78SmF",
        "outputId": "57a90331-e3a7-4978-9a06-0488b384edcb"
      },
      "outputs": [
        {
          "output_type": "execute_result",
          "data": {
            "text/plain": [
              "12000000"
            ]
          },
          "metadata": {},
          "execution_count": 73
        }
      ],
      "source": [
        "prod(t1)"
      ]
    },
    {
      "cell_type": "code",
      "execution_count": null,
      "metadata": {
        "colab": {
          "base_uri": "https://localhost:8080/"
        },
        "id": "BlJGJTencMpa",
        "outputId": "9b20d3bc-46da-4331-a745-0f76069b51bc"
      },
      "outputs": [
        {
          "output_type": "stream",
          "name": "stdout",
          "text": [
            "120\n"
          ]
        }
      ],
      "source": [
        "# OR you can say 'import math'\n",
        "# But while calling any function you have to use math.Function_Name()\n",
        "# The math.prod() method returns the product of the elements from the given iterable.\n",
        "import math # or 'import math as mt', mt.sqrt(64 )\n",
        "sequence = (2,2,5,6) # iterable where elements are given\n",
        "print(math.prod(sequence))\n"
      ]
    },
    {
      "cell_type": "code",
      "execution_count": 29,
      "metadata": {
        "colab": {
          "base_uri": "https://localhost:8080/"
        },
        "id": "PHoMI4rVPkPt",
        "outputId": "bcdd1916-3c48-4dbe-fbe4-0350806d20f5"
      },
      "outputs": [
        {
          "output_type": "execute_result",
          "data": {
            "text/plain": [
              "24"
            ]
          },
          "metadata": {},
          "execution_count": 29
        }
      ],
      "source": [
        "import math\n",
        "list4=[2,3,4]\n",
        "math.prod(list4)"
      ]
    },
    {
      "cell_type": "code",
      "execution_count": 30,
      "metadata": {
        "colab": {
          "base_uri": "https://localhost:8080/"
        },
        "id": "I82kfNfHiJCk",
        "outputId": "c4c08031-263a-43be-98f8-04cc3a36f42d"
      },
      "outputs": [
        {
          "output_type": "execute_result",
          "data": {
            "text/plain": [
              "['__doc__',\n",
              " '__loader__',\n",
              " '__name__',\n",
              " '__package__',\n",
              " '__spec__',\n",
              " 'acos',\n",
              " 'acosh',\n",
              " 'asin',\n",
              " 'asinh',\n",
              " 'atan',\n",
              " 'atan2',\n",
              " 'atanh',\n",
              " 'cbrt',\n",
              " 'ceil',\n",
              " 'comb',\n",
              " 'copysign',\n",
              " 'cos',\n",
              " 'cosh',\n",
              " 'degrees',\n",
              " 'dist',\n",
              " 'e',\n",
              " 'erf',\n",
              " 'erfc',\n",
              " 'exp',\n",
              " 'exp2',\n",
              " 'expm1',\n",
              " 'fabs',\n",
              " 'factorial',\n",
              " 'floor',\n",
              " 'fmod',\n",
              " 'frexp',\n",
              " 'fsum',\n",
              " 'gamma',\n",
              " 'gcd',\n",
              " 'hypot',\n",
              " 'inf',\n",
              " 'isclose',\n",
              " 'isfinite',\n",
              " 'isinf',\n",
              " 'isnan',\n",
              " 'isqrt',\n",
              " 'lcm',\n",
              " 'ldexp',\n",
              " 'lgamma',\n",
              " 'log',\n",
              " 'log10',\n",
              " 'log1p',\n",
              " 'log2',\n",
              " 'modf',\n",
              " 'nan',\n",
              " 'nextafter',\n",
              " 'perm',\n",
              " 'pi',\n",
              " 'pow',\n",
              " 'prod',\n",
              " 'radians',\n",
              " 'remainder',\n",
              " 'sin',\n",
              " 'sinh',\n",
              " 'sqrt',\n",
              " 'sumprod',\n",
              " 'tan',\n",
              " 'tanh',\n",
              " 'tau',\n",
              " 'trunc',\n",
              " 'ulp']"
            ]
          },
          "metadata": {},
          "execution_count": 30
        }
      ],
      "source": [
        "dir(math) # all functions of math library"
      ]
    },
    {
      "cell_type": "code",
      "execution_count": 27,
      "metadata": {
        "id": "scqTIj07hiz6"
      },
      "outputs": [],
      "source": [
        "import math as mt"
      ]
    },
    {
      "cell_type": "code",
      "execution_count": 26,
      "metadata": {
        "colab": {
          "base_uri": "https://localhost:8080/",
          "height": 141
        },
        "id": "dWyt4RGRqXRE",
        "outputId": "391520d7-cfcd-433b-c5db-a869fc7c272d"
      },
      "outputs": [
        {
          "output_type": "error",
          "ename": "NameError",
          "evalue": "name 'mt' is not defined",
          "traceback": [
            "\u001b[0;31m---------------------------------------------------------------------------\u001b[0m",
            "\u001b[0;31mNameError\u001b[0m                                 Traceback (most recent call last)",
            "\u001b[0;32m/tmp/ipython-input-1617872170.py\u001b[0m in \u001b[0;36m<cell line: 0>\u001b[0;34m()\u001b[0m\n\u001b[0;32m----> 1\u001b[0;31m \u001b[0mmt\u001b[0m\u001b[0;34m.\u001b[0m\u001b[0msqrt\u001b[0m\u001b[0;34m(\u001b[0m\u001b[0;36m36\u001b[0m\u001b[0;34m)\u001b[0m\u001b[0;34m\u001b[0m\u001b[0;34m\u001b[0m\u001b[0m\n\u001b[0m",
            "\u001b[0;31mNameError\u001b[0m: name 'mt' is not defined"
          ]
        }
      ],
      "source": [
        "mt.sqrt(36)"
      ]
    },
    {
      "cell_type": "code",
      "execution_count": null,
      "metadata": {
        "id": "od3Gd5ZuZl7X"
      },
      "outputs": [],
      "source": []
    }
  ],
  "metadata": {
    "colab": {
      "provenance": []
    },
    "kernelspec": {
      "display_name": "Python 3",
      "name": "python3"
    },
    "language_info": {
      "name": "python"
    }
  },
  "nbformat": 4,
  "nbformat_minor": 0
}