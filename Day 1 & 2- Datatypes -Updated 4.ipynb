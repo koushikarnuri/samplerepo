{
 "cells": [
  {
   "cell_type": "markdown",
   "id": "dd3a7066",
   "metadata": {},
   "source": [
    "# Jupyter Shortcuts\n",
    "\n",
    "+ esc + b - Add a new cell below the current cell\n",
    "+ esc + a - Add a new cell above the current cell\n",
    "+ esc + m - Convert a cell to Markdown\n",
    "+ esc + y - Convert a cell to code cell\n",
    "+ esc + x - Delete the current cell"
   ]
  },
  {
   "cell_type": "markdown",
   "id": "0235e281",
   "metadata": {},
   "source": [
    "## Datatype"
   ]
  },
  {
   "cell_type": "code",
   "execution_count": 50,
   "id": "fd806fd0",
   "metadata": {},
   "outputs": [
    {
     "name": "stdout",
     "output_type": "stream",
     "text": [
      "Addition of the numbers : 30\n",
      "Subtraction of the numbers -10\n"
     ]
    }
   ],
   "source": [
    "# Integer\n",
    "x = 10\n",
    "y=20\n",
    "print('Addition of the numbers :',x+y)\n",
    "print('Subtraction of the numbers',x-y)"
   ]
  },
  {
   "cell_type": "code",
   "execution_count": 10,
   "id": "c7755fa1",
   "metadata": {},
   "outputs": [
    {
     "name": "stdout",
     "output_type": "stream",
     "text": [
      "10\n"
     ]
    }
   ],
   "source": [
    "print(x)"
   ]
  },
  {
   "cell_type": "code",
   "execution_count": 51,
   "id": "01233f1d",
   "metadata": {},
   "outputs": [
    {
     "data": {
      "text/plain": [
       "int"
      ]
     },
     "execution_count": 51,
     "metadata": {},
     "output_type": "execute_result"
    }
   ],
   "source": [
    "type(x)"
   ]
  },
  {
   "cell_type": "code",
   "execution_count": 52,
   "id": "448de0ba",
   "metadata": {},
   "outputs": [],
   "source": [
    "# Float\n",
    "y = 20.5"
   ]
  },
  {
   "cell_type": "code",
   "execution_count": 53,
   "id": "c2d7e0d4",
   "metadata": {},
   "outputs": [
    {
     "data": {
      "text/plain": [
       "20.5"
      ]
     },
     "execution_count": 53,
     "metadata": {},
     "output_type": "execute_result"
    }
   ],
   "source": [
    "y"
   ]
  },
  {
   "cell_type": "code",
   "execution_count": 54,
   "id": "77263fd8",
   "metadata": {},
   "outputs": [
    {
     "data": {
      "text/plain": [
       "float"
      ]
     },
     "execution_count": 54,
     "metadata": {},
     "output_type": "execute_result"
    }
   ],
   "source": [
    "type(y)"
   ]
  },
  {
   "cell_type": "code",
   "execution_count": 55,
   "id": "a4273c2a",
   "metadata": {},
   "outputs": [],
   "source": [
    "# Boolean\n",
    "z = False"
   ]
  },
  {
   "cell_type": "code",
   "execution_count": 56,
   "id": "a76b77e9",
   "metadata": {},
   "outputs": [
    {
     "name": "stdout",
     "output_type": "stream",
     "text": [
      "False\n"
     ]
    }
   ],
   "source": [
    "print(z)"
   ]
  },
  {
   "cell_type": "code",
   "execution_count": 57,
   "id": "fb194ab5",
   "metadata": {},
   "outputs": [
    {
     "data": {
      "text/plain": [
       "bool"
      ]
     },
     "execution_count": 57,
     "metadata": {},
     "output_type": "execute_result"
    }
   ],
   "source": [
    "type(z)"
   ]
  },
  {
   "cell_type": "markdown",
   "id": "40210b3d",
   "metadata": {},
   "source": [
    "### Arithmetic Operation"
   ]
  },
  {
   "cell_type": "code",
   "execution_count": 58,
   "id": "9deb8dd3",
   "metadata": {},
   "outputs": [],
   "source": [
    "x = 10\n",
    "y = 3"
   ]
  },
  {
   "cell_type": "code",
   "execution_count": 59,
   "id": "9fe747f0",
   "metadata": {},
   "outputs": [
    {
     "data": {
      "text/plain": [
       "13"
      ]
     },
     "execution_count": 59,
     "metadata": {},
     "output_type": "execute_result"
    }
   ],
   "source": [
    "# Addition\n",
    "x + y"
   ]
  },
  {
   "cell_type": "code",
   "execution_count": 60,
   "id": "c8d5883d",
   "metadata": {},
   "outputs": [
    {
     "data": {
      "text/plain": [
       "7"
      ]
     },
     "execution_count": 60,
     "metadata": {},
     "output_type": "execute_result"
    }
   ],
   "source": [
    "# Subtraction\n",
    "x - y"
   ]
  },
  {
   "cell_type": "code",
   "execution_count": 61,
   "id": "67ce1657",
   "metadata": {},
   "outputs": [
    {
     "data": {
      "text/plain": [
       "30"
      ]
     },
     "execution_count": 61,
     "metadata": {},
     "output_type": "execute_result"
    }
   ],
   "source": [
    "# Multiplication\n",
    "x * y"
   ]
  },
  {
   "cell_type": "code",
   "execution_count": 62,
   "id": "8434fc74",
   "metadata": {},
   "outputs": [
    {
     "data": {
      "text/plain": [
       "3.3333333333333335"
      ]
     },
     "execution_count": 62,
     "metadata": {},
     "output_type": "execute_result"
    }
   ],
   "source": [
    "# Division\n",
    "x / y"
   ]
  },
  {
   "cell_type": "code",
   "execution_count": 63,
   "id": "d58f7a10",
   "metadata": {},
   "outputs": [
    {
     "data": {
      "text/plain": [
       "1"
      ]
     },
     "execution_count": 63,
     "metadata": {},
     "output_type": "execute_result"
    }
   ],
   "source": [
    "# Modulo Division\n",
    "x % y"
   ]
  },
  {
   "cell_type": "code",
   "execution_count": 64,
   "id": "612a9ec5",
   "metadata": {},
   "outputs": [
    {
     "data": {
      "text/plain": [
       "3"
      ]
     },
     "execution_count": 64,
     "metadata": {},
     "output_type": "execute_result"
    }
   ],
   "source": [
    "# Floor Division\n",
    "x // y"
   ]
  },
  {
   "cell_type": "code",
   "execution_count": 65,
   "id": "abb544d1",
   "metadata": {},
   "outputs": [
    {
     "data": {
      "text/plain": [
       "-8.333333333333334"
      ]
     },
     "execution_count": 65,
     "metadata": {},
     "output_type": "execute_result"
    }
   ],
   "source": [
    "-50/6"
   ]
  },
  {
   "cell_type": "code",
   "execution_count": 66,
   "id": "50dd3361",
   "metadata": {},
   "outputs": [
    {
     "data": {
      "text/plain": [
       "16"
      ]
     },
     "execution_count": 66,
     "metadata": {},
     "output_type": "execute_result"
    }
   ],
   "source": [
    "## power of number\n",
    "2**4"
   ]
  },
  {
   "cell_type": "markdown",
   "id": "c64003d0",
   "metadata": {},
   "source": [
    "## Logical Operation"
   ]
  },
  {
   "cell_type": "code",
   "execution_count": 67,
   "id": "51838a16",
   "metadata": {},
   "outputs": [
    {
     "data": {
      "text/plain": [
       "False"
      ]
     },
     "execution_count": 67,
     "metadata": {},
     "output_type": "execute_result"
    }
   ],
   "source": [
    "10<3"
   ]
  },
  {
   "cell_type": "code",
   "execution_count": 68,
   "id": "1d27fc39",
   "metadata": {},
   "outputs": [
    {
     "data": {
      "text/plain": [
       "True"
      ]
     },
     "execution_count": 68,
     "metadata": {},
     "output_type": "execute_result"
    }
   ],
   "source": [
    "10>3"
   ]
  },
  {
   "cell_type": "code",
   "execution_count": 72,
   "id": "4067de52",
   "metadata": {},
   "outputs": [],
   "source": [
    "x = True\n",
    "y = False"
   ]
  },
  {
   "cell_type": "code",
   "execution_count": 73,
   "id": "28fc2138",
   "metadata": {},
   "outputs": [
    {
     "data": {
      "text/plain": [
       "True"
      ]
     },
     "execution_count": 73,
     "metadata": {},
     "output_type": "execute_result"
    }
   ],
   "source": [
    "x or y"
   ]
  },
  {
   "cell_type": "code",
   "execution_count": 75,
   "id": "de12ae5c",
   "metadata": {},
   "outputs": [
    {
     "data": {
      "text/plain": [
       "True"
      ]
     },
     "execution_count": 75,
     "metadata": {},
     "output_type": "execute_result"
    }
   ],
   "source": [
    "x | y"
   ]
  },
  {
   "cell_type": "code",
   "execution_count": 76,
   "id": "caa69634",
   "metadata": {},
   "outputs": [
    {
     "data": {
      "text/plain": [
       "False"
      ]
     },
     "execution_count": 76,
     "metadata": {},
     "output_type": "execute_result"
    }
   ],
   "source": [
    "x and y"
   ]
  },
  {
   "cell_type": "code",
   "execution_count": 77,
   "id": "42d89032",
   "metadata": {},
   "outputs": [
    {
     "data": {
      "text/plain": [
       "False"
      ]
     },
     "execution_count": 77,
     "metadata": {},
     "output_type": "execute_result"
    }
   ],
   "source": [
    "x & y"
   ]
  },
  {
   "cell_type": "code",
   "execution_count": 78,
   "id": "1baf7751",
   "metadata": {},
   "outputs": [
    {
     "data": {
      "text/plain": [
       "False"
      ]
     },
     "execution_count": 78,
     "metadata": {},
     "output_type": "execute_result"
    }
   ],
   "source": [
    "not x"
   ]
  },
  {
   "cell_type": "code",
   "execution_count": 80,
   "id": "1358ca36",
   "metadata": {},
   "outputs": [
    {
     "data": {
      "text/plain": [
       "True"
      ]
     },
     "execution_count": 80,
     "metadata": {},
     "output_type": "execute_result"
    }
   ],
   "source": [
    "not y"
   ]
  },
  {
   "cell_type": "code",
   "execution_count": 79,
   "id": "386262dd",
   "metadata": {},
   "outputs": [
    {
     "data": {
      "text/plain": [
       "False"
      ]
     },
     "execution_count": 79,
     "metadata": {},
     "output_type": "execute_result"
    }
   ],
   "source": [
    "not(10>3)"
   ]
  },
  {
   "cell_type": "code",
   "execution_count": 81,
   "id": "624fef21",
   "metadata": {},
   "outputs": [],
   "source": [
    "x = 10\n",
    "y = 3"
   ]
  },
  {
   "cell_type": "code",
   "execution_count": 82,
   "id": "c67ef602",
   "metadata": {},
   "outputs": [
    {
     "data": {
      "text/plain": [
       "True"
      ]
     },
     "execution_count": 82,
     "metadata": {},
     "output_type": "execute_result"
    }
   ],
   "source": [
    "x > y"
   ]
  },
  {
   "cell_type": "code",
   "execution_count": 84,
   "id": "1739dd75",
   "metadata": {},
   "outputs": [
    {
     "data": {
      "text/plain": [
       "False"
      ]
     },
     "execution_count": 84,
     "metadata": {},
     "output_type": "execute_result"
    }
   ],
   "source": [
    "y > x"
   ]
  },
  {
   "cell_type": "code",
   "execution_count": 85,
   "id": "f381d5e9",
   "metadata": {},
   "outputs": [
    {
     "data": {
      "text/plain": [
       "False"
      ]
     },
     "execution_count": 85,
     "metadata": {},
     "output_type": "execute_result"
    }
   ],
   "source": [
    "x == y"
   ]
  },
  {
   "cell_type": "code",
   "execution_count": 86,
   "id": "f5330d65",
   "metadata": {},
   "outputs": [
    {
     "data": {
      "text/plain": [
       "True"
      ]
     },
     "execution_count": 86,
     "metadata": {},
     "output_type": "execute_result"
    }
   ],
   "source": [
    "x!=y"
   ]
  },
  {
   "cell_type": "code",
   "execution_count": 90,
   "id": "3d894f57",
   "metadata": {},
   "outputs": [
    {
     "data": {
      "text/plain": [
       "True"
      ]
     },
     "execution_count": 90,
     "metadata": {},
     "output_type": "execute_result"
    }
   ],
   "source": [
    "x > y or x == y"
   ]
  },
  {
   "cell_type": "markdown",
   "id": "daea0fcc",
   "metadata": {},
   "source": [
    "## Sequence Types"
   ]
  },
  {
   "cell_type": "code",
   "execution_count": 91,
   "id": "1ad49a38",
   "metadata": {},
   "outputs": [],
   "source": [
    "# List\n",
    "lst = [56,77,82,35,90]"
   ]
  },
  {
   "cell_type": "code",
   "execution_count": 92,
   "id": "5cb11267",
   "metadata": {},
   "outputs": [
    {
     "data": {
      "text/plain": [
       "[56, 77, 82, 35, 90]"
      ]
     },
     "execution_count": 92,
     "metadata": {},
     "output_type": "execute_result"
    }
   ],
   "source": [
    "lst"
   ]
  },
  {
   "cell_type": "code",
   "execution_count": 93,
   "id": "21b8998a",
   "metadata": {},
   "outputs": [
    {
     "data": {
      "text/plain": [
       "list"
      ]
     },
     "execution_count": 93,
     "metadata": {},
     "output_type": "execute_result"
    }
   ],
   "source": [
    "type(lst)"
   ]
  },
  {
   "cell_type": "code",
   "execution_count": 94,
   "id": "13cb1f96",
   "metadata": {},
   "outputs": [],
   "source": [
    "# Tuple\n",
    "tup = (1,2,3,45,78)"
   ]
  },
  {
   "cell_type": "code",
   "execution_count": 95,
   "id": "1c6c5f47",
   "metadata": {},
   "outputs": [
    {
     "data": {
      "text/plain": [
       "tuple"
      ]
     },
     "execution_count": 95,
     "metadata": {},
     "output_type": "execute_result"
    }
   ],
   "source": [
    "type(tup)"
   ]
  },
  {
   "cell_type": "code",
   "execution_count": 96,
   "id": "a73697dd",
   "metadata": {},
   "outputs": [],
   "source": [
    "# String\n",
    "s1 = 'Python'"
   ]
  },
  {
   "cell_type": "code",
   "execution_count": 97,
   "id": "896f6d6f",
   "metadata": {},
   "outputs": [
    {
     "data": {
      "text/plain": [
       "str"
      ]
     },
     "execution_count": 97,
     "metadata": {},
     "output_type": "execute_result"
    }
   ],
   "source": [
    "type(s1)"
   ]
  },
  {
   "cell_type": "code",
   "execution_count": 102,
   "id": "b4bcc93c",
   "metadata": {},
   "outputs": [],
   "source": [
    "s2 =\"Apple\""
   ]
  },
  {
   "cell_type": "code",
   "execution_count": 103,
   "id": "ba02c398",
   "metadata": {},
   "outputs": [
    {
     "data": {
      "text/plain": [
       "str"
      ]
     },
     "execution_count": 103,
     "metadata": {},
     "output_type": "execute_result"
    }
   ],
   "source": [
    "type(s2)"
   ]
  },
  {
   "cell_type": "markdown",
   "id": "8a9eabfd",
   "metadata": {},
   "source": [
    "## Positional Indexing"
   ]
  },
  {
   "cell_type": "code",
   "execution_count": 104,
   "id": "b3f62a64",
   "metadata": {},
   "outputs": [],
   "source": [
    "mark_lst = [45,66,79,80,52]"
   ]
  },
  {
   "cell_type": "code",
   "execution_count": 29,
   "id": "174a4e61",
   "metadata": {},
   "outputs": [
    {
     "data": {
      "text/plain": [
       "79"
      ]
     },
     "execution_count": 29,
     "metadata": {},
     "output_type": "execute_result"
    }
   ],
   "source": [
    "mark_lst[2]"
   ]
  },
  {
   "cell_type": "code",
   "execution_count": 107,
   "id": "ec9772ec",
   "metadata": {},
   "outputs": [
    {
     "data": {
      "text/plain": [
       "2"
      ]
     },
     "execution_count": 107,
     "metadata": {},
     "output_type": "execute_result"
    }
   ],
   "source": [
    "mark_lst.index(79)"
   ]
  },
  {
   "cell_type": "code",
   "execution_count": 108,
   "id": "31fc5e5c",
   "metadata": {},
   "outputs": [
    {
     "data": {
      "text/plain": [
       "5"
      ]
     },
     "execution_count": 108,
     "metadata": {},
     "output_type": "execute_result"
    }
   ],
   "source": [
    "len(mark_lst)"
   ]
  },
  {
   "cell_type": "code",
   "execution_count": 109,
   "id": "e392dd2e",
   "metadata": {},
   "outputs": [
    {
     "data": {
      "text/plain": [
       "'A'"
      ]
     },
     "execution_count": 109,
     "metadata": {},
     "output_type": "execute_result"
    }
   ],
   "source": [
    "s2[0]"
   ]
  },
  {
   "cell_type": "code",
   "execution_count": 110,
   "id": "46c83c68",
   "metadata": {},
   "outputs": [],
   "source": [
    "mixed_lst = [10,8.09,True,'Apple',[90,70,80],(1,2,3)]"
   ]
  },
  {
   "cell_type": "code",
   "execution_count": 115,
   "id": "39df5195",
   "metadata": {},
   "outputs": [
    {
     "data": {
      "text/plain": [
       "2"
      ]
     },
     "execution_count": 115,
     "metadata": {},
     "output_type": "execute_result"
    }
   ],
   "source": [
    "mixed_lst[5][1]"
   ]
  },
  {
   "cell_type": "code",
   "execution_count": 116,
   "id": "11b34483",
   "metadata": {},
   "outputs": [
    {
     "data": {
      "text/plain": [
       "80"
      ]
     },
     "execution_count": 116,
     "metadata": {},
     "output_type": "execute_result"
    }
   ],
   "source": [
    "mixed_lst[4][2]"
   ]
  },
  {
   "cell_type": "code",
   "execution_count": 117,
   "id": "f91159dc",
   "metadata": {},
   "outputs": [
    {
     "data": {
      "text/plain": [
       "70"
      ]
     },
     "execution_count": 117,
     "metadata": {},
     "output_type": "execute_result"
    }
   ],
   "source": [
    "mixed_lst[4][1]"
   ]
  },
  {
   "cell_type": "markdown",
   "id": "4a40a8d6",
   "metadata": {},
   "source": [
    "### Slicing"
   ]
  },
  {
   "cell_type": "code",
   "execution_count": 118,
   "id": "65959eef",
   "metadata": {},
   "outputs": [],
   "source": [
    "mark_lst = [45,66,79,80,52,11,34,88,30,68,23,44,100,54]"
   ]
  },
  {
   "cell_type": "code",
   "execution_count": 122,
   "id": "76e3c500",
   "metadata": {},
   "outputs": [
    {
     "data": {
      "text/plain": [
       "8"
      ]
     },
     "execution_count": 122,
     "metadata": {},
     "output_type": "execute_result"
    }
   ],
   "source": [
    "mark_lst.index(30)"
   ]
  },
  {
   "cell_type": "code",
   "execution_count": 123,
   "id": "e5081c32",
   "metadata": {},
   "outputs": [
    {
     "data": {
      "text/plain": [
       "[30, 68, 23, 44, 100, 54]"
      ]
     },
     "execution_count": 123,
     "metadata": {},
     "output_type": "execute_result"
    }
   ],
   "source": [
    "mark_lst[8:]"
   ]
  },
  {
   "cell_type": "code",
   "execution_count": 121,
   "id": "a8c06bd8",
   "metadata": {},
   "outputs": [
    {
     "data": {
      "text/plain": [
       "[52, 11, 34, 88, 30, 68]"
      ]
     },
     "execution_count": 121,
     "metadata": {},
     "output_type": "execute_result"
    }
   ],
   "source": [
    "mark_lst[4:10]"
   ]
  },
  {
   "cell_type": "code",
   "execution_count": 39,
   "id": "13d23b7f",
   "metadata": {},
   "outputs": [
    {
     "data": {
      "text/plain": [
       "[80, 52, 11, 34, 88, 30]"
      ]
     },
     "execution_count": 39,
     "metadata": {},
     "output_type": "execute_result"
    }
   ],
   "source": [
    "mark_lst[3:9]"
   ]
  },
  {
   "cell_type": "code",
   "execution_count": 124,
   "id": "a2af6939",
   "metadata": {},
   "outputs": [
    {
     "data": {
      "text/plain": [
       "[45, 66, 79, 80, 52, 11, 34, 88, 30]"
      ]
     },
     "execution_count": 124,
     "metadata": {},
     "output_type": "execute_result"
    }
   ],
   "source": [
    "mark_lst[:9]"
   ]
  },
  {
   "cell_type": "code",
   "execution_count": 125,
   "id": "5e673357",
   "metadata": {},
   "outputs": [
    {
     "data": {
      "text/plain": [
       "[88, 30, 68, 23, 44, 100, 54]"
      ]
     },
     "execution_count": 125,
     "metadata": {},
     "output_type": "execute_result"
    }
   ],
   "source": [
    "mark_lst[7:]"
   ]
  },
  {
   "cell_type": "code",
   "execution_count": 126,
   "id": "8a7a3154",
   "metadata": {},
   "outputs": [
    {
     "data": {
      "text/plain": [
       "[45, 66, 79, 80, 52, 11, 34, 88, 30, 68, 23, 44, 100, 54]"
      ]
     },
     "execution_count": 126,
     "metadata": {},
     "output_type": "execute_result"
    }
   ],
   "source": [
    "mark_lst[:]"
   ]
  },
  {
   "cell_type": "code",
   "execution_count": 43,
   "id": "d7dd5b73",
   "metadata": {},
   "outputs": [
    {
     "data": {
      "text/plain": [
       "[45, 66, 79, 80, 52, 11, 34, 88, 30, 68, 23, 44, 100, 54]"
      ]
     },
     "execution_count": 43,
     "metadata": {},
     "output_type": "execute_result"
    }
   ],
   "source": [
    "mark_lst"
   ]
  },
  {
   "cell_type": "code",
   "execution_count": 128,
   "id": "9f8233c5",
   "metadata": {},
   "outputs": [],
   "source": [
    "s1 = 'I love python'"
   ]
  },
  {
   "cell_type": "code",
   "execution_count": 129,
   "id": "8fb47193",
   "metadata": {},
   "outputs": [
    {
     "data": {
      "text/plain": [
       "'love'"
      ]
     },
     "execution_count": 129,
     "metadata": {},
     "output_type": "execute_result"
    }
   ],
   "source": [
    "s1[2:6]"
   ]
  },
  {
   "cell_type": "code",
   "execution_count": 130,
   "id": "31482ebb",
   "metadata": {},
   "outputs": [
    {
     "data": {
      "text/plain": [
       "'python'"
      ]
     },
     "execution_count": 130,
     "metadata": {},
     "output_type": "execute_result"
    }
   ],
   "source": [
    "s1[7:]"
   ]
  },
  {
   "cell_type": "code",
   "execution_count": 132,
   "id": "cb9cf7a5",
   "metadata": {},
   "outputs": [
    {
     "data": {
      "text/plain": [
       "13"
      ]
     },
     "execution_count": 132,
     "metadata": {},
     "output_type": "execute_result"
    }
   ],
   "source": [
    "mark_lst.index(54)"
   ]
  },
  {
   "cell_type": "code",
   "execution_count": 133,
   "id": "ab877b11",
   "metadata": {},
   "outputs": [
    {
     "data": {
      "text/plain": [
       "54"
      ]
     },
     "execution_count": 133,
     "metadata": {},
     "output_type": "execute_result"
    }
   ],
   "source": [
    "mark_lst[13]"
   ]
  },
  {
   "cell_type": "code",
   "execution_count": 131,
   "id": "6b945499",
   "metadata": {},
   "outputs": [
    {
     "data": {
      "text/plain": [
       "54"
      ]
     },
     "execution_count": 131,
     "metadata": {},
     "output_type": "execute_result"
    }
   ],
   "source": [
    "mark_lst[-1]"
   ]
  },
  {
   "cell_type": "code",
   "execution_count": 134,
   "id": "867519e7",
   "metadata": {},
   "outputs": [
    {
     "data": {
      "text/plain": [
       "(44, 44)"
      ]
     },
     "execution_count": 134,
     "metadata": {},
     "output_type": "execute_result"
    }
   ],
   "source": [
    "mark_lst[11], mark_lst[-3]"
   ]
  },
  {
   "cell_type": "code",
   "execution_count": 135,
   "id": "b222ca00",
   "metadata": {},
   "outputs": [],
   "source": [
    "list1=[2,'python']"
   ]
  },
  {
   "cell_type": "code",
   "execution_count": 136,
   "id": "3869e8c3",
   "metadata": {},
   "outputs": [
    {
     "data": {
      "text/plain": [
       "'python'"
      ]
     },
     "execution_count": 136,
     "metadata": {},
     "output_type": "execute_result"
    }
   ],
   "source": [
    "list1[1]"
   ]
  },
  {
   "cell_type": "code",
   "execution_count": 137,
   "id": "8cd07de3",
   "metadata": {},
   "outputs": [
    {
     "data": {
      "text/plain": [
       "'python'"
      ]
     },
     "execution_count": 137,
     "metadata": {},
     "output_type": "execute_result"
    }
   ],
   "source": [
    "list1[-1]"
   ]
  },
  {
   "cell_type": "code",
   "execution_count": 138,
   "id": "e3e20921",
   "metadata": {},
   "outputs": [
    {
     "data": {
      "text/plain": [
       "'th'"
      ]
     },
     "execution_count": 138,
     "metadata": {},
     "output_type": "execute_result"
    }
   ],
   "source": [
    "list1[1][2:4]"
   ]
  },
  {
   "cell_type": "markdown",
   "id": "4585aba0",
   "metadata": {},
   "source": [
    "#### length of a sequence"
   ]
  },
  {
   "cell_type": "code",
   "execution_count": 139,
   "id": "f9602beb",
   "metadata": {},
   "outputs": [
    {
     "data": {
      "text/plain": [
       "14"
      ]
     },
     "execution_count": 139,
     "metadata": {},
     "output_type": "execute_result"
    }
   ],
   "source": [
    "len(mark_lst)"
   ]
  },
  {
   "cell_type": "code",
   "execution_count": 140,
   "id": "bd0f0d40",
   "metadata": {},
   "outputs": [
    {
     "data": {
      "text/plain": [
       "13"
      ]
     },
     "execution_count": 140,
     "metadata": {},
     "output_type": "execute_result"
    }
   ],
   "source": [
    "len(s1)"
   ]
  },
  {
   "cell_type": "code",
   "execution_count": 141,
   "id": "52555f00",
   "metadata": {},
   "outputs": [
    {
     "data": {
      "text/plain": [
       "5"
      ]
     },
     "execution_count": 141,
     "metadata": {},
     "output_type": "execute_result"
    }
   ],
   "source": [
    "len(tup)"
   ]
  },
  {
   "cell_type": "markdown",
   "id": "2759b4ac",
   "metadata": {},
   "source": [
    "### membership operation"
   ]
  },
  {
   "cell_type": "code",
   "execution_count": 142,
   "id": "4e7d9186",
   "metadata": {},
   "outputs": [
    {
     "data": {
      "text/plain": [
       "[45, 66, 79, 80, 52, 11, 34, 88, 30, 68, 23, 44, 100, 54]"
      ]
     },
     "execution_count": 142,
     "metadata": {},
     "output_type": "execute_result"
    }
   ],
   "source": [
    "mark_lst"
   ]
  },
  {
   "cell_type": "code",
   "execution_count": 143,
   "id": "180a026c",
   "metadata": {},
   "outputs": [
    {
     "data": {
      "text/plain": [
       "True"
      ]
     },
     "execution_count": 143,
     "metadata": {},
     "output_type": "execute_result"
    }
   ],
   "source": [
    "80 in mark_lst"
   ]
  },
  {
   "cell_type": "code",
   "execution_count": 145,
   "id": "81a888dc",
   "metadata": {},
   "outputs": [
    {
     "data": {
      "text/plain": [
       "'I love python'"
      ]
     },
     "execution_count": 145,
     "metadata": {},
     "output_type": "execute_result"
    }
   ],
   "source": [
    "s1"
   ]
  },
  {
   "cell_type": "code",
   "execution_count": 144,
   "id": "bdd71356",
   "metadata": {},
   "outputs": [
    {
     "data": {
      "text/plain": [
       "(False, True)"
      ]
     },
     "execution_count": 144,
     "metadata": {},
     "output_type": "execute_result"
    }
   ],
   "source": [
    "111 in mark_lst, 111 not in mark_lst"
   ]
  },
  {
   "cell_type": "code",
   "execution_count": 146,
   "id": "b5fce7e1",
   "metadata": {},
   "outputs": [
    {
     "data": {
      "text/plain": [
       "True"
      ]
     },
     "execution_count": 146,
     "metadata": {},
     "output_type": "execute_result"
    }
   ],
   "source": [
    "'t' in s1"
   ]
  },
  {
   "cell_type": "code",
   "execution_count": 147,
   "id": "fbfb7757",
   "metadata": {},
   "outputs": [
    {
     "data": {
      "text/plain": [
       "False"
      ]
     },
     "execution_count": 147,
     "metadata": {},
     "output_type": "execute_result"
    }
   ],
   "source": [
    "'z' in s1"
   ]
  },
  {
   "cell_type": "code",
   "execution_count": 148,
   "id": "549ad5aa",
   "metadata": {},
   "outputs": [
    {
     "data": {
      "text/plain": [
       "(1, 2, 3, 45, 78)"
      ]
     },
     "execution_count": 148,
     "metadata": {},
     "output_type": "execute_result"
    }
   ],
   "source": [
    "tup"
   ]
  },
  {
   "cell_type": "code",
   "execution_count": 149,
   "id": "2a95d557",
   "metadata": {},
   "outputs": [
    {
     "data": {
      "text/plain": [
       "True"
      ]
     },
     "execution_count": 149,
     "metadata": {},
     "output_type": "execute_result"
    }
   ],
   "source": [
    "1 in tup"
   ]
  },
  {
   "cell_type": "code",
   "execution_count": 150,
   "id": "3e4ead50",
   "metadata": {},
   "outputs": [
    {
     "data": {
      "text/plain": [
       "False"
      ]
     },
     "execution_count": 150,
     "metadata": {},
     "output_type": "execute_result"
    }
   ],
   "source": [
    "100 in tup"
   ]
  },
  {
   "cell_type": "code",
   "execution_count": 170,
   "id": "2f9e7115",
   "metadata": {},
   "outputs": [],
   "source": [
    "mylst = [1,2,3]"
   ]
  },
  {
   "cell_type": "markdown",
   "id": "781fe6a9",
   "metadata": {},
   "source": [
    "### Repetition"
   ]
  },
  {
   "cell_type": "code",
   "execution_count": 164,
   "id": "ef395832",
   "metadata": {},
   "outputs": [
    {
     "data": {
      "text/plain": [
       "[1, 3, 1, 2, 3, 1, 2, 3]"
      ]
     },
     "execution_count": 164,
     "metadata": {},
     "output_type": "execute_result"
    }
   ],
   "source": [
    "lst1=mylst * 3\n"
   ]
  },
  {
   "cell_type": "code",
   "execution_count": 169,
   "id": "75f817c3",
   "metadata": {},
   "outputs": [
    {
     "data": {
      "text/plain": [
       "[3, 3, 3]"
      ]
     },
     "execution_count": 169,
     "metadata": {},
     "output_type": "execute_result"
    }
   ],
   "source": [
    "lst1.remove(1)\n",
    "lst1"
   ]
  },
  {
   "cell_type": "code",
   "execution_count": 171,
   "id": "aa10badb",
   "metadata": {},
   "outputs": [
    {
     "data": {
      "text/plain": [
       "[1, 2, 3]"
      ]
     },
     "execution_count": 171,
     "metadata": {},
     "output_type": "execute_result"
    }
   ],
   "source": [
    "mylst"
   ]
  },
  {
   "cell_type": "code",
   "execution_count": 153,
   "id": "b86117bd",
   "metadata": {},
   "outputs": [],
   "source": [
    "s1 = \"Hello\""
   ]
  },
  {
   "cell_type": "code",
   "execution_count": 154,
   "id": "8bdca25b",
   "metadata": {},
   "outputs": [
    {
     "data": {
      "text/plain": [
       "'HelloHelloHello'"
      ]
     },
     "execution_count": 154,
     "metadata": {},
     "output_type": "execute_result"
    }
   ],
   "source": [
    "s1 * 3"
   ]
  },
  {
   "cell_type": "markdown",
   "id": "bc598d4e",
   "metadata": {},
   "source": [
    "### Concatenation"
   ]
  },
  {
   "cell_type": "code",
   "execution_count": 172,
   "id": "b0127164",
   "metadata": {},
   "outputs": [],
   "source": [
    "ls1 = [1,2,3]\n",
    "ls2 = [4,5,6]"
   ]
  },
  {
   "cell_type": "code",
   "execution_count": 173,
   "id": "6ccd6507",
   "metadata": {},
   "outputs": [
    {
     "data": {
      "text/plain": [
       "[1, 2, 3, 4, 5, 6]"
      ]
     },
     "execution_count": 173,
     "metadata": {},
     "output_type": "execute_result"
    }
   ],
   "source": [
    "ls1 + ls2"
   ]
  },
  {
   "cell_type": "code",
   "execution_count": 174,
   "id": "eff66250",
   "metadata": {},
   "outputs": [],
   "source": [
    "s2 = 'Hello'\n",
    "s3 = ' '\n",
    "s1 ='world'"
   ]
  },
  {
   "cell_type": "code",
   "execution_count": 175,
   "id": "3c8a92ae",
   "metadata": {},
   "outputs": [
    {
     "data": {
      "text/plain": [
       "'world Hello'"
      ]
     },
     "execution_count": 175,
     "metadata": {},
     "output_type": "execute_result"
    }
   ],
   "source": [
    "s1 + s3 + s2"
   ]
  },
  {
   "cell_type": "code",
   "execution_count": 177,
   "id": "42964b34",
   "metadata": {},
   "outputs": [
    {
     "data": {
      "text/plain": [
       "1"
      ]
     },
     "execution_count": 177,
     "metadata": {},
     "output_type": "execute_result"
    }
   ],
   "source": [
    "s2.index('e')"
   ]
  },
  {
   "cell_type": "markdown",
   "id": "008fc31c",
   "metadata": {},
   "source": [
    "### max() and min()"
   ]
  },
  {
   "cell_type": "code",
   "execution_count": 178,
   "id": "45f239cc",
   "metadata": {},
   "outputs": [
    {
     "data": {
      "text/plain": [
       "[56, 77, 82, 35, 90]"
      ]
     },
     "execution_count": 178,
     "metadata": {},
     "output_type": "execute_result"
    }
   ],
   "source": [
    "lst"
   ]
  },
  {
   "cell_type": "code",
   "execution_count": 179,
   "id": "722d6380",
   "metadata": {},
   "outputs": [
    {
     "data": {
      "text/plain": [
       "90"
      ]
     },
     "execution_count": 179,
     "metadata": {},
     "output_type": "execute_result"
    }
   ],
   "source": [
    "max(lst)"
   ]
  },
  {
   "cell_type": "code",
   "execution_count": 180,
   "id": "13add312",
   "metadata": {},
   "outputs": [
    {
     "data": {
      "text/plain": [
       "35"
      ]
     },
     "execution_count": 180,
     "metadata": {},
     "output_type": "execute_result"
    }
   ],
   "source": [
    "min(lst)"
   ]
  },
  {
   "cell_type": "code",
   "execution_count": 193,
   "id": "cd31a5fc",
   "metadata": {},
   "outputs": [
    {
     "data": {
      "text/plain": [
       "'world'"
      ]
     },
     "execution_count": 193,
     "metadata": {},
     "output_type": "execute_result"
    }
   ],
   "source": [
    "s1"
   ]
  },
  {
   "cell_type": "code",
   "execution_count": 198,
   "id": "c332d47b",
   "metadata": {},
   "outputs": [
    {
     "data": {
      "text/plain": [
       "'w'"
      ]
     },
     "execution_count": 198,
     "metadata": {},
     "output_type": "execute_result"
    }
   ],
   "source": [
    "max(s1)"
   ]
  },
  {
   "cell_type": "code",
   "execution_count": 205,
   "id": "10103b17",
   "metadata": {},
   "outputs": [],
   "source": [
    "s2='hellO'"
   ]
  },
  {
   "cell_type": "code",
   "execution_count": 208,
   "id": "b116d19b",
   "metadata": {},
   "outputs": [
    {
     "data": {
      "text/plain": [
       "'l'"
      ]
     },
     "execution_count": 208,
     "metadata": {},
     "output_type": "execute_result"
    }
   ],
   "source": [
    "max(s2)"
   ]
  },
  {
   "cell_type": "code",
   "execution_count": 201,
   "id": "762b2a3e",
   "metadata": {},
   "outputs": [
    {
     "data": {
      "text/plain": [
       "'o'"
      ]
     },
     "execution_count": 201,
     "metadata": {},
     "output_type": "execute_result"
    }
   ],
   "source": [
    "max(s2)"
   ]
  },
  {
   "cell_type": "code",
   "execution_count": 184,
   "id": "f0792c52",
   "metadata": {},
   "outputs": [],
   "source": [
    "tuple1=(1,2,3,4,5)"
   ]
  },
  {
   "cell_type": "code",
   "execution_count": 185,
   "id": "55e75e8e",
   "metadata": {},
   "outputs": [
    {
     "data": {
      "text/plain": [
       "5"
      ]
     },
     "execution_count": 185,
     "metadata": {},
     "output_type": "execute_result"
    }
   ],
   "source": [
    "max(tuple1)"
   ]
  },
  {
   "cell_type": "code",
   "execution_count": 186,
   "id": "884b7768",
   "metadata": {},
   "outputs": [
    {
     "data": {
      "text/plain": [
       "1"
      ]
     },
     "execution_count": 186,
     "metadata": {},
     "output_type": "execute_result"
    }
   ],
   "source": [
    "min(tuple1)"
   ]
  },
  {
   "cell_type": "code",
   "execution_count": 187,
   "id": "828cbf8d",
   "metadata": {},
   "outputs": [
    {
     "data": {
      "text/plain": [
       "15"
      ]
     },
     "execution_count": 187,
     "metadata": {},
     "output_type": "execute_result"
    }
   ],
   "source": [
    "sum(tuple1)"
   ]
  },
  {
   "cell_type": "code",
   "execution_count": 189,
   "id": "48a219dc",
   "metadata": {},
   "outputs": [
    {
     "data": {
      "text/plain": [
       "(1, 2, 3, 4, 5)"
      ]
     },
     "execution_count": 189,
     "metadata": {},
     "output_type": "execute_result"
    }
   ],
   "source": [
    "tuple1"
   ]
  },
  {
   "cell_type": "code",
   "execution_count": 188,
   "id": "f82a505d",
   "metadata": {},
   "outputs": [
    {
     "data": {
      "text/plain": [
       "(1, 2, 3, 4, 5, 1, 2, 3, 4, 5, 1, 2, 3, 4, 5)"
      ]
     },
     "execution_count": 188,
     "metadata": {},
     "output_type": "execute_result"
    }
   ],
   "source": [
    "tuple1*3"
   ]
  },
  {
   "cell_type": "markdown",
   "id": "35e0109f",
   "metadata": {},
   "source": [
    "### List Specific Methods"
   ]
  },
  {
   "cell_type": "code",
   "execution_count": null,
   "id": "28ec0443",
   "metadata": {},
   "outputs": [],
   "source": []
  },
  {
   "cell_type": "code",
   "execution_count": 81,
   "id": "9fcc5e3a",
   "metadata": {},
   "outputs": [
    {
     "data": {
      "text/plain": [
       "['__add__',\n",
       " '__class__',\n",
       " '__contains__',\n",
       " '__delattr__',\n",
       " '__delitem__',\n",
       " '__dir__',\n",
       " '__doc__',\n",
       " '__eq__',\n",
       " '__format__',\n",
       " '__ge__',\n",
       " '__getattribute__',\n",
       " '__getitem__',\n",
       " '__gt__',\n",
       " '__hash__',\n",
       " '__iadd__',\n",
       " '__imul__',\n",
       " '__init__',\n",
       " '__init_subclass__',\n",
       " '__iter__',\n",
       " '__le__',\n",
       " '__len__',\n",
       " '__lt__',\n",
       " '__mul__',\n",
       " '__ne__',\n",
       " '__new__',\n",
       " '__reduce__',\n",
       " '__reduce_ex__',\n",
       " '__repr__',\n",
       " '__reversed__',\n",
       " '__rmul__',\n",
       " '__setattr__',\n",
       " '__setitem__',\n",
       " '__sizeof__',\n",
       " '__str__',\n",
       " '__subclasshook__',\n",
       " 'append',\n",
       " 'clear',\n",
       " 'copy',\n",
       " 'count',\n",
       " 'extend',\n",
       " 'index',\n",
       " 'insert',\n",
       " 'pop',\n",
       " 'remove',\n",
       " 'reverse',\n",
       " 'sort']"
      ]
     },
     "execution_count": 81,
     "metadata": {},
     "output_type": "execute_result"
    }
   ],
   "source": [
    "dir(list)"
   ]
  },
  {
   "cell_type": "markdown",
   "id": "c2922355",
   "metadata": {},
   "source": [
    "### Adding elements to a list"
   ]
  },
  {
   "cell_type": "code",
   "execution_count": 282,
   "id": "9c84aa69",
   "metadata": {},
   "outputs": [],
   "source": [
    "shop_list = ['Apple','Bread','Coffee','Avocado']"
   ]
  },
  {
   "cell_type": "code",
   "execution_count": 253,
   "id": "40f9438b",
   "metadata": {},
   "outputs": [],
   "source": [
    "shop_list.append('Mango')"
   ]
  },
  {
   "cell_type": "code",
   "execution_count": 254,
   "id": "fcf2c427",
   "metadata": {},
   "outputs": [],
   "source": [
    "shop_list.append('Butter')"
   ]
  },
  {
   "cell_type": "code",
   "execution_count": 255,
   "id": "5e004d88",
   "metadata": {},
   "outputs": [
    {
     "data": {
      "text/plain": [
       "['Apple', 'Bread', 'Coffee', 'Avocado', 'Mango', 'Butter']"
      ]
     },
     "execution_count": 255,
     "metadata": {},
     "output_type": "execute_result"
    }
   ],
   "source": [
    "shop_list"
   ]
  },
  {
   "cell_type": "code",
   "execution_count": 256,
   "id": "988877a5",
   "metadata": {},
   "outputs": [
    {
     "data": {
      "text/plain": [
       "['Apple', 'Bread', 'Coffee', 'Avocado', 'Mango', 'Butter']"
      ]
     },
     "execution_count": 256,
     "metadata": {},
     "output_type": "execute_result"
    }
   ],
   "source": [
    "shop_list"
   ]
  },
  {
   "cell_type": "code",
   "execution_count": 257,
   "id": "e5c1da63",
   "metadata": {},
   "outputs": [],
   "source": [
    "shop_list.insert(2,'Jam')"
   ]
  },
  {
   "cell_type": "code",
   "execution_count": 258,
   "id": "21f67913",
   "metadata": {},
   "outputs": [
    {
     "data": {
      "text/plain": [
       "['Apple', 'Bread', 'Jam', 'Coffee', 'Avocado', 'Mango', 'Butter']"
      ]
     },
     "execution_count": 258,
     "metadata": {},
     "output_type": "execute_result"
    }
   ],
   "source": [
    "shop_list"
   ]
  },
  {
   "cell_type": "code",
   "execution_count": 259,
   "id": "f7413b20",
   "metadata": {},
   "outputs": [
    {
     "data": {
      "text/plain": [
       "7"
      ]
     },
     "execution_count": 259,
     "metadata": {},
     "output_type": "execute_result"
    }
   ],
   "source": [
    "len(shop_list)"
   ]
  },
  {
   "cell_type": "code",
   "execution_count": 298,
   "id": "77460f7f",
   "metadata": {},
   "outputs": [],
   "source": [
    "shop_list.append(['Pen','Pencil','Notebook'])"
   ]
  },
  {
   "cell_type": "code",
   "execution_count": 261,
   "id": "5462cedf",
   "metadata": {},
   "outputs": [
    {
     "data": {
      "text/plain": [
       "8"
      ]
     },
     "execution_count": 261,
     "metadata": {},
     "output_type": "execute_result"
    }
   ],
   "source": [
    "len(shop_list)"
   ]
  },
  {
   "cell_type": "code",
   "execution_count": 262,
   "id": "e6d607b3",
   "metadata": {},
   "outputs": [],
   "source": [
    "list1=[1,2,3]"
   ]
  },
  {
   "cell_type": "code",
   "execution_count": 263,
   "id": "fcde7624",
   "metadata": {},
   "outputs": [
    {
     "data": {
      "text/plain": [
       "[1, 2, 3, 4]"
      ]
     },
     "execution_count": 263,
     "metadata": {},
     "output_type": "execute_result"
    }
   ],
   "source": [
    "list1.append(4)\n",
    "list1"
   ]
  },
  {
   "cell_type": "code",
   "execution_count": 264,
   "id": "e8e20d3b",
   "metadata": {},
   "outputs": [
    {
     "data": {
      "text/plain": [
       "[1, 2, 3, 4, [5, 6, 7]]"
      ]
     },
     "execution_count": 264,
     "metadata": {},
     "output_type": "execute_result"
    }
   ],
   "source": [
    "list1.append([5,6,7])\n",
    "list1"
   ]
  },
  {
   "cell_type": "code",
   "execution_count": 265,
   "id": "9c253266",
   "metadata": {},
   "outputs": [
    {
     "data": {
      "text/plain": [
       "[1, 2, 3, 4, [5, 6, 7], (10, 20)]"
      ]
     },
     "execution_count": 265,
     "metadata": {},
     "output_type": "execute_result"
    }
   ],
   "source": [
    "list1.append((10,20))\n",
    "list1"
   ]
  },
  {
   "cell_type": "code",
   "execution_count": 266,
   "id": "aca6053c",
   "metadata": {},
   "outputs": [
    {
     "data": {
      "text/plain": [
       "['Apple',\n",
       " 'Bread',\n",
       " 'Jam',\n",
       " 'Coffee',\n",
       " 'Avocado',\n",
       " 'Mango',\n",
       " 'Butter',\n",
       " ['Pen', 'Pencil', 'Notebook']]"
      ]
     },
     "execution_count": 266,
     "metadata": {},
     "output_type": "execute_result"
    }
   ],
   "source": [
    "shop_list"
   ]
  },
  {
   "cell_type": "code",
   "execution_count": 267,
   "id": "6c3c88bb",
   "metadata": {},
   "outputs": [],
   "source": [
    "shop_list.append((1,2))"
   ]
  },
  {
   "cell_type": "code",
   "execution_count": 268,
   "id": "cf51b27e",
   "metadata": {},
   "outputs": [
    {
     "data": {
      "text/plain": [
       "['Apple',\n",
       " 'Bread',\n",
       " 'Jam',\n",
       " 'Coffee',\n",
       " 'Avocado',\n",
       " 'Mango',\n",
       " 'Butter',\n",
       " ['Pen', 'Pencil', 'Notebook'],\n",
       " (1, 2)]"
      ]
     },
     "execution_count": 268,
     "metadata": {},
     "output_type": "execute_result"
    }
   ],
   "source": [
    "shop_list"
   ]
  },
  {
   "cell_type": "code",
   "execution_count": 283,
   "id": "1bf8f305",
   "metadata": {},
   "outputs": [
    {
     "data": {
      "text/plain": [
       "['Apple', 'Bread', 'Coffee', 'Avocado']"
      ]
     },
     "execution_count": 283,
     "metadata": {},
     "output_type": "execute_result"
    }
   ],
   "source": [
    "shop_list"
   ]
  },
  {
   "cell_type": "code",
   "execution_count": 284,
   "id": "ff9d30e8",
   "metadata": {},
   "outputs": [],
   "source": [
    "shop_list.extend(['Milk','Flour','ToothPaste'])"
   ]
  },
  {
   "cell_type": "code",
   "execution_count": 285,
   "id": "34ae441c",
   "metadata": {},
   "outputs": [
    {
     "data": {
      "text/plain": [
       "['Apple', 'Bread', 'Coffee', 'Avocado', 'Milk', 'Flour', 'ToothPaste']"
      ]
     },
     "execution_count": 285,
     "metadata": {},
     "output_type": "execute_result"
    }
   ],
   "source": [
    "shop_list"
   ]
  },
  {
   "cell_type": "code",
   "execution_count": 277,
   "id": "f4975be9",
   "metadata": {},
   "outputs": [
    {
     "data": {
      "text/plain": [
       "[1, 2, 3, 4, 5, [6, 7, 8]]"
      ]
     },
     "execution_count": 277,
     "metadata": {},
     "output_type": "execute_result"
    }
   ],
   "source": [
    "list1=[1,2,3,4,5]\n",
    "list1.append([6,7,8])\n",
    "list1"
   ]
  },
  {
   "cell_type": "code",
   "execution_count": 278,
   "id": "88fd2e52",
   "metadata": {},
   "outputs": [
    {
     "data": {
      "text/plain": [
       "[1, 2, 3, 4, 5, [6, 7, 8], 10, 11, 12]"
      ]
     },
     "execution_count": 278,
     "metadata": {},
     "output_type": "execute_result"
    }
   ],
   "source": [
    "list1.extend([10,11,12])\n",
    "list1"
   ]
  },
  {
   "cell_type": "code",
   "execution_count": 279,
   "id": "1fd8185b",
   "metadata": {},
   "outputs": [],
   "source": [
    "list1.extend((13,14,15))"
   ]
  },
  {
   "cell_type": "code",
   "execution_count": 280,
   "id": "5c19454a",
   "metadata": {},
   "outputs": [
    {
     "data": {
      "text/plain": [
       "[1, 2, 3, 4, 5, [6, 7, 8], 10, 11, 12, 13, 14, 15]"
      ]
     },
     "execution_count": 280,
     "metadata": {},
     "output_type": "execute_result"
    }
   ],
   "source": [
    "list1"
   ]
  },
  {
   "cell_type": "code",
   "execution_count": 100,
   "id": "066af2c9",
   "metadata": {},
   "outputs": [
    {
     "data": {
      "text/plain": [
       "['Apple',\n",
       " 'Bread',\n",
       " 'Jam',\n",
       " 'Coffee',\n",
       " 'Avocado',\n",
       " 'Butter',\n",
       " ['Pen', 'Pencil', 'Notebook'],\n",
       " 'Milk',\n",
       " 'Flour',\n",
       " 'ToothPaste']"
      ]
     },
     "execution_count": 100,
     "metadata": {},
     "output_type": "execute_result"
    }
   ],
   "source": [
    "shop_list"
   ]
  },
  {
   "cell_type": "code",
   "execution_count": 272,
   "id": "7698df08",
   "metadata": {},
   "outputs": [],
   "source": [
    "shop_list.extend((1,2,3))"
   ]
  },
  {
   "cell_type": "code",
   "execution_count": 273,
   "id": "a6099037",
   "metadata": {},
   "outputs": [
    {
     "data": {
      "text/plain": [
       "['Apple',\n",
       " 'Bread',\n",
       " 'Jam',\n",
       " 'Coffee',\n",
       " 'Avocado',\n",
       " 'Mango',\n",
       " 'Butter',\n",
       " ['Pen', 'Pencil', 'Notebook'],\n",
       " (1, 2),\n",
       " 'Milk',\n",
       " 'Flour',\n",
       " 'ToothPaste',\n",
       " 1,\n",
       " 2,\n",
       " 3,\n",
       " 1,\n",
       " 2,\n",
       " 3]"
      ]
     },
     "execution_count": 273,
     "metadata": {},
     "output_type": "execute_result"
    }
   ],
   "source": [
    "shop_list"
   ]
  },
  {
   "cell_type": "code",
   "execution_count": 274,
   "id": "f9ab1eaf",
   "metadata": {},
   "outputs": [],
   "source": [
    "shop_list.extend(\"abc\")"
   ]
  },
  {
   "cell_type": "code",
   "execution_count": 275,
   "id": "1dd5f903",
   "metadata": {},
   "outputs": [
    {
     "data": {
      "text/plain": [
       "['Apple',\n",
       " 'Bread',\n",
       " 'Jam',\n",
       " 'Coffee',\n",
       " 'Avocado',\n",
       " 'Mango',\n",
       " 'Butter',\n",
       " ['Pen', 'Pencil', 'Notebook'],\n",
       " (1, 2),\n",
       " 'Milk',\n",
       " 'Flour',\n",
       " 'ToothPaste',\n",
       " 1,\n",
       " 2,\n",
       " 3,\n",
       " 1,\n",
       " 2,\n",
       " 3,\n",
       " 'a',\n",
       " 'b',\n",
       " 'c']"
      ]
     },
     "execution_count": 275,
     "metadata": {},
     "output_type": "execute_result"
    }
   ],
   "source": [
    "shop_list"
   ]
  },
  {
   "cell_type": "markdown",
   "id": "b97e0475",
   "metadata": {},
   "source": [
    "#### Replace a element"
   ]
  },
  {
   "cell_type": "code",
   "execution_count": 286,
   "id": "982de507",
   "metadata": {},
   "outputs": [
    {
     "data": {
      "text/plain": [
       "[1, 2, 3, 4, 5]"
      ]
     },
     "execution_count": 286,
     "metadata": {},
     "output_type": "execute_result"
    }
   ],
   "source": [
    "list1=[1,2,3,4,5]\n",
    "list1"
   ]
  },
  {
   "cell_type": "code",
   "execution_count": 288,
   "id": "dd217263",
   "metadata": {},
   "outputs": [],
   "source": [
    "list1[2]=30"
   ]
  },
  {
   "cell_type": "code",
   "execution_count": 289,
   "id": "8577fb2f",
   "metadata": {},
   "outputs": [
    {
     "data": {
      "text/plain": [
       "[1, 2, 30, 4, 5]"
      ]
     },
     "execution_count": 289,
     "metadata": {},
     "output_type": "execute_result"
    }
   ],
   "source": [
    "list1"
   ]
  },
  {
   "cell_type": "code",
   "execution_count": 291,
   "id": "ac4ed68e",
   "metadata": {},
   "outputs": [],
   "source": [
    "list1[3:]=[40,50]"
   ]
  },
  {
   "cell_type": "code",
   "execution_count": 292,
   "id": "15295ec0",
   "metadata": {},
   "outputs": [
    {
     "data": {
      "text/plain": [
       "[1, 2, 30, 40, 50]"
      ]
     },
     "execution_count": 292,
     "metadata": {},
     "output_type": "execute_result"
    }
   ],
   "source": [
    "list1"
   ]
  },
  {
   "cell_type": "code",
   "execution_count": 293,
   "id": "1235bc4c",
   "metadata": {},
   "outputs": [
    {
     "data": {
      "text/plain": [
       "[1, 2, 3, 4, 5]"
      ]
     },
     "execution_count": 293,
     "metadata": {},
     "output_type": "execute_result"
    }
   ],
   "source": [
    "list1[2:]=[3,4,5]\n",
    "list1"
   ]
  },
  {
   "cell_type": "code",
   "execution_count": 294,
   "id": "6767abb4",
   "metadata": {},
   "outputs": [
    {
     "data": {
      "text/plain": [
       "['Apple', 'Bread', 'Coffee', 'Avocado', 'Milk', 'Flour', 'ToothPaste']"
      ]
     },
     "execution_count": 294,
     "metadata": {},
     "output_type": "execute_result"
    }
   ],
   "source": [
    "shop_list"
   ]
  },
  {
   "cell_type": "code",
   "execution_count": 295,
   "id": "6742a0ec",
   "metadata": {},
   "outputs": [],
   "source": [
    "shop_list[3] = 'Tea'"
   ]
  },
  {
   "cell_type": "code",
   "execution_count": 299,
   "id": "8358d152",
   "metadata": {},
   "outputs": [
    {
     "data": {
      "text/plain": [
       "['Apple',\n",
       " 'Bread',\n",
       " 'Coffee',\n",
       " 'Tea',\n",
       " 'Milk',\n",
       " 'Flour',\n",
       " 'ToothPaste',\n",
       " ['Pen', 'Pencil', 'Notebook']]"
      ]
     },
     "execution_count": 299,
     "metadata": {},
     "output_type": "execute_result"
    }
   ],
   "source": [
    "shop_list"
   ]
  },
  {
   "cell_type": "code",
   "execution_count": 300,
   "id": "c59f07f4",
   "metadata": {},
   "outputs": [
    {
     "data": {
      "text/plain": [
       "['Apple',\n",
       " 'Bread',\n",
       " 'Coffee',\n",
       " 'Tea',\n",
       " 'Milk',\n",
       " 'Flour',\n",
       " 'ToothPaste',\n",
       " ['Pen', 'Pencil', 'Notebook']]"
      ]
     },
     "execution_count": 300,
     "metadata": {},
     "output_type": "execute_result"
    }
   ],
   "source": [
    "shop_list"
   ]
  },
  {
   "cell_type": "code",
   "execution_count": 301,
   "id": "a19949cd",
   "metadata": {},
   "outputs": [],
   "source": [
    "shop_list[7][1]='Ball Pen'"
   ]
  },
  {
   "cell_type": "code",
   "execution_count": 318,
   "id": "f72c24b4",
   "metadata": {},
   "outputs": [],
   "source": [
    "shop_list.append(['Pen', 'Ball Pen', 'Notebook'])"
   ]
  },
  {
   "cell_type": "code",
   "execution_count": 305,
   "id": "d817b536",
   "metadata": {},
   "outputs": [],
   "source": [
    "shop_list.remove(['Pen', 'Ball Pen', 'Notebook'])"
   ]
  },
  {
   "cell_type": "code",
   "execution_count": 317,
   "id": "7f321b6b",
   "metadata": {},
   "outputs": [
    {
     "data": {
      "text/plain": [
       "['Apple', 'Bread', 'Coffee', 'Tea', 'Milk', 'Flour']"
      ]
     },
     "execution_count": 317,
     "metadata": {},
     "output_type": "execute_result"
    }
   ],
   "source": [
    "shop_list"
   ]
  },
  {
   "cell_type": "code",
   "execution_count": 319,
   "id": "85cacc5d",
   "metadata": {},
   "outputs": [
    {
     "data": {
      "text/plain": [
       "['Apple',\n",
       " 'Bread',\n",
       " 'Coffee',\n",
       " 'Tea',\n",
       " 'Milk',\n",
       " 'Flour',\n",
       " ['Pen', 'Ball Pen', 'Notebook']]"
      ]
     },
     "execution_count": 319,
     "metadata": {},
     "output_type": "execute_result"
    }
   ],
   "source": [
    "shop_list"
   ]
  },
  {
   "cell_type": "code",
   "execution_count": 321,
   "id": "02b3ffa2",
   "metadata": {},
   "outputs": [
    {
     "data": {
      "text/plain": [
       "'Ball Pen'"
      ]
     },
     "execution_count": 321,
     "metadata": {},
     "output_type": "execute_result"
    }
   ],
   "source": [
    "shop_list.pop(6)[1]"
   ]
  },
  {
   "cell_type": "code",
   "execution_count": 334,
   "id": "96dc9aa4",
   "metadata": {},
   "outputs": [],
   "source": [
    "shop_list.append(['Ball Pen','Notebook'])"
   ]
  },
  {
   "cell_type": "code",
   "execution_count": 335,
   "id": "1074dee1",
   "metadata": {},
   "outputs": [
    {
     "data": {
      "text/plain": [
       "['Apple', 'Bread', 'Coffee', 'Tea', 'Milk', 'Flour', ['Ball Pen', 'Notebook']]"
      ]
     },
     "execution_count": 335,
     "metadata": {},
     "output_type": "execute_result"
    }
   ],
   "source": [
    "shop_list"
   ]
  },
  {
   "cell_type": "code",
   "execution_count": 337,
   "id": "e0726731",
   "metadata": {},
   "outputs": [],
   "source": [
    "shop_list[6].remove('Notebook')"
   ]
  },
  {
   "cell_type": "code",
   "execution_count": 339,
   "id": "72a23d6c",
   "metadata": {},
   "outputs": [
    {
     "data": {
      "text/plain": [
       "['Apple', 'Bread', 'Coffee', 'Tea', 'Milk', 'Flour', ['Ball Pen']]"
      ]
     },
     "execution_count": 339,
     "metadata": {},
     "output_type": "execute_result"
    }
   ],
   "source": [
    "shop_list"
   ]
  },
  {
   "cell_type": "code",
   "execution_count": 340,
   "id": "d1eb6955",
   "metadata": {},
   "outputs": [
    {
     "data": {
      "text/plain": [
       "'Ball Pen'"
      ]
     },
     "execution_count": 340,
     "metadata": {},
     "output_type": "execute_result"
    }
   ],
   "source": [
    "shop_list[6].pop(0)"
   ]
  },
  {
   "cell_type": "code",
   "execution_count": 341,
   "id": "b5041c84",
   "metadata": {},
   "outputs": [
    {
     "data": {
      "text/plain": [
       "['Apple', 'Bread', 'Coffee', 'Tea', 'Milk', 'Flour', []]"
      ]
     },
     "execution_count": 341,
     "metadata": {},
     "output_type": "execute_result"
    }
   ],
   "source": [
    "shop_list"
   ]
  },
  {
   "cell_type": "code",
   "execution_count": 322,
   "id": "c362206a",
   "metadata": {},
   "outputs": [
    {
     "data": {
      "text/plain": [
       "['Apple', 'Bread', 'Coffee', 'Tea', 'Milk', 'Flour']"
      ]
     },
     "execution_count": 322,
     "metadata": {},
     "output_type": "execute_result"
    }
   ],
   "source": [
    "shop_list"
   ]
  },
  {
   "cell_type": "code",
   "execution_count": 307,
   "id": "a003bfbe",
   "metadata": {},
   "outputs": [],
   "source": [
    "list1=[1,2,3,4,5]"
   ]
  },
  {
   "cell_type": "code",
   "execution_count": 308,
   "id": "4d47a9af",
   "metadata": {},
   "outputs": [],
   "source": [
    "list1.remove(3)"
   ]
  },
  {
   "cell_type": "code",
   "execution_count": 329,
   "id": "6ad78735",
   "metadata": {},
   "outputs": [],
   "source": [
    "list1.append([7,8])"
   ]
  },
  {
   "cell_type": "code",
   "execution_count": 324,
   "id": "bf4b36f4",
   "metadata": {},
   "outputs": [
    {
     "data": {
      "text/plain": [
       "[1, 2, 4, 5, [7, 8]]"
      ]
     },
     "execution_count": 324,
     "metadata": {},
     "output_type": "execute_result"
    }
   ],
   "source": [
    "list1"
   ]
  },
  {
   "cell_type": "code",
   "execution_count": 331,
   "id": "8f05c106",
   "metadata": {},
   "outputs": [
    {
     "data": {
      "text/plain": [
       "7"
      ]
     },
     "execution_count": 331,
     "metadata": {},
     "output_type": "execute_result"
    }
   ],
   "source": [
    "list1.pop(4)[0]"
   ]
  },
  {
   "cell_type": "code",
   "execution_count": 342,
   "id": "e2f3e8ed",
   "metadata": {},
   "outputs": [
    {
     "data": {
      "text/plain": [
       "[1, 2, 4, 5]"
      ]
     },
     "execution_count": 342,
     "metadata": {},
     "output_type": "execute_result"
    }
   ],
   "source": [
    "list1"
   ]
  },
  {
   "cell_type": "code",
   "execution_count": 343,
   "id": "dca8f450",
   "metadata": {},
   "outputs": [],
   "source": [
    "list1.clear()"
   ]
  },
  {
   "cell_type": "code",
   "execution_count": 346,
   "id": "45498139",
   "metadata": {},
   "outputs": [],
   "source": [
    "list1.clear()"
   ]
  },
  {
   "cell_type": "markdown",
   "id": "d140c25d",
   "metadata": {},
   "source": [
    "### Remove elements from a list"
   ]
  },
  {
   "cell_type": "code",
   "execution_count": 347,
   "id": "9cc15711",
   "metadata": {},
   "outputs": [
    {
     "data": {
      "text/plain": [
       "['Apple', 'Bread', 'Coffee', 'Tea', 'Milk', 'Flour', []]"
      ]
     },
     "execution_count": 347,
     "metadata": {},
     "output_type": "execute_result"
    }
   ],
   "source": [
    "shop_list"
   ]
  },
  {
   "cell_type": "code",
   "execution_count": 348,
   "id": "ba5919df",
   "metadata": {},
   "outputs": [
    {
     "data": {
      "text/plain": [
       "'Tea'"
      ]
     },
     "execution_count": 348,
     "metadata": {},
     "output_type": "execute_result"
    }
   ],
   "source": [
    "shop_list.pop(3)"
   ]
  },
  {
   "cell_type": "code",
   "execution_count": 349,
   "id": "75228a24",
   "metadata": {},
   "outputs": [
    {
     "data": {
      "text/plain": [
       "['Apple', 'Bread', 'Coffee', 'Milk', 'Flour', []]"
      ]
     },
     "execution_count": 349,
     "metadata": {},
     "output_type": "execute_result"
    }
   ],
   "source": [
    "shop_list"
   ]
  },
  {
   "cell_type": "code",
   "execution_count": 350,
   "id": "6a6335bb",
   "metadata": {},
   "outputs": [
    {
     "data": {
      "text/plain": [
       "'Coffee'"
      ]
     },
     "execution_count": 350,
     "metadata": {},
     "output_type": "execute_result"
    }
   ],
   "source": [
    "shop_list.pop(2)"
   ]
  },
  {
   "cell_type": "code",
   "execution_count": 351,
   "id": "e1874858",
   "metadata": {},
   "outputs": [
    {
     "data": {
      "text/plain": [
       "['Apple', 'Bread', 'Milk', 'Flour', []]"
      ]
     },
     "execution_count": 351,
     "metadata": {},
     "output_type": "execute_result"
    }
   ],
   "source": [
    "shop_list"
   ]
  },
  {
   "cell_type": "code",
   "execution_count": 352,
   "id": "8ecbb53e",
   "metadata": {},
   "outputs": [],
   "source": [
    "shop_list.remove('Milk')"
   ]
  },
  {
   "cell_type": "code",
   "execution_count": 353,
   "id": "8f014ad8",
   "metadata": {},
   "outputs": [
    {
     "data": {
      "text/plain": [
       "['Apple', 'Bread', 'Flour', []]"
      ]
     },
     "execution_count": 353,
     "metadata": {},
     "output_type": "execute_result"
    }
   ],
   "source": [
    "shop_list"
   ]
  },
  {
   "cell_type": "code",
   "execution_count": 122,
   "id": "88c49471",
   "metadata": {},
   "outputs": [],
   "source": [
    "shop_list[5].remove('Pen')"
   ]
  },
  {
   "cell_type": "code",
   "execution_count": 123,
   "id": "9eeef777",
   "metadata": {},
   "outputs": [
    {
     "data": {
      "text/plain": [
       "['Apple',\n",
       " 'Bread',\n",
       " 'Tea',\n",
       " 'Avocado',\n",
       " 'Butter',\n",
       " ['Ball Pen', 'Notebook'],\n",
       " 'Milk',\n",
       " 'Flour',\n",
       " (1, 2),\n",
       " 1,\n",
       " 2,\n",
       " 3,\n",
       " 'a']"
      ]
     },
     "execution_count": 123,
     "metadata": {},
     "output_type": "execute_result"
    }
   ],
   "source": [
    "shop_list"
   ]
  },
  {
   "cell_type": "code",
   "execution_count": 124,
   "id": "74a54d5d",
   "metadata": {},
   "outputs": [],
   "source": [
    "shop_list.clear()"
   ]
  },
  {
   "cell_type": "code",
   "execution_count": 125,
   "id": "2ed78f93",
   "metadata": {},
   "outputs": [
    {
     "data": {
      "text/plain": [
       "[]"
      ]
     },
     "execution_count": 125,
     "metadata": {},
     "output_type": "execute_result"
    }
   ],
   "source": [
    "shop_list"
   ]
  },
  {
   "cell_type": "code",
   "execution_count": 362,
   "id": "72882eb1",
   "metadata": {},
   "outputs": [
    {
     "data": {
      "text/plain": [
       "1"
      ]
     },
     "execution_count": 362,
     "metadata": {},
     "output_type": "execute_result"
    }
   ],
   "source": [
    "list1=[1,2,3,4,5,6,3]\n",
    "list1.index(2)"
   ]
  },
  {
   "cell_type": "code",
   "execution_count": 363,
   "id": "17509074",
   "metadata": {},
   "outputs": [
    {
     "data": {
      "text/plain": [
       "2"
      ]
     },
     "execution_count": 363,
     "metadata": {},
     "output_type": "execute_result"
    }
   ],
   "source": [
    "list1.count(3)"
   ]
  },
  {
   "cell_type": "code",
   "execution_count": 364,
   "id": "15633327",
   "metadata": {},
   "outputs": [],
   "source": [
    "shop_list = ['Apple','Bread','Coffee','Avocado','Bread','Coffee']"
   ]
  },
  {
   "cell_type": "code",
   "execution_count": 369,
   "id": "e33ef5e9",
   "metadata": {},
   "outputs": [
    {
     "data": {
      "text/plain": [
       "5"
      ]
     },
     "execution_count": 369,
     "metadata": {},
     "output_type": "execute_result"
    }
   ],
   "source": [
    "shop_list.index('Coffee',3,8)"
   ]
  },
  {
   "cell_type": "code",
   "execution_count": 372,
   "id": "bb9d9934",
   "metadata": {},
   "outputs": [
    {
     "data": {
      "text/plain": [
       "['Apple', 'Bread', 'Coffee', 'Avocado', 'Bread', 'Coffee']"
      ]
     },
     "execution_count": 372,
     "metadata": {},
     "output_type": "execute_result"
    }
   ],
   "source": [
    "shop_list"
   ]
  },
  {
   "cell_type": "code",
   "execution_count": 356,
   "id": "79387b27",
   "metadata": {},
   "outputs": [
    {
     "data": {
      "text/plain": [
       "1"
      ]
     },
     "execution_count": 356,
     "metadata": {},
     "output_type": "execute_result"
    }
   ],
   "source": [
    "shop_list.index('Bread')"
   ]
  },
  {
   "cell_type": "code",
   "execution_count": 357,
   "id": "8672c300",
   "metadata": {},
   "outputs": [
    {
     "data": {
      "text/plain": [
       "2"
      ]
     },
     "execution_count": 357,
     "metadata": {},
     "output_type": "execute_result"
    }
   ],
   "source": [
    "shop_list.count('Bread')"
   ]
  },
  {
   "cell_type": "code",
   "execution_count": 358,
   "id": "9c304d05",
   "metadata": {},
   "outputs": [
    {
     "data": {
      "text/plain": [
       "1"
      ]
     },
     "execution_count": 358,
     "metadata": {},
     "output_type": "execute_result"
    }
   ],
   "source": [
    "shop_list.count('Avocado')"
   ]
  },
  {
   "cell_type": "markdown",
   "id": "7ea1fc75",
   "metadata": {},
   "source": [
    "### sort()"
   ]
  },
  {
   "cell_type": "code",
   "execution_count": 391,
   "id": "33b9ce84",
   "metadata": {},
   "outputs": [],
   "source": [
    "marks = [34,12,67,56,90,87,2,3]"
   ]
  },
  {
   "cell_type": "code",
   "execution_count": 392,
   "id": "1e225f00",
   "metadata": {},
   "outputs": [],
   "source": [
    "marks.sort()"
   ]
  },
  {
   "cell_type": "code",
   "execution_count": 393,
   "id": "ca7124dd",
   "metadata": {},
   "outputs": [
    {
     "data": {
      "text/plain": [
       "[2, 3, 12, 34, 56, 67, 87, 90]"
      ]
     },
     "execution_count": 393,
     "metadata": {},
     "output_type": "execute_result"
    }
   ],
   "source": [
    "marks"
   ]
  },
  {
   "cell_type": "code",
   "execution_count": 134,
   "id": "5fef1bb5",
   "metadata": {},
   "outputs": [],
   "source": [
    "marks = [34,12,67,56,90,87]"
   ]
  },
  {
   "cell_type": "code",
   "execution_count": 376,
   "id": "ebbf49e2",
   "metadata": {},
   "outputs": [],
   "source": [
    "marks.sort(reverse=True)"
   ]
  },
  {
   "cell_type": "code",
   "execution_count": 377,
   "id": "b9a82d04",
   "metadata": {},
   "outputs": [
    {
     "data": {
      "text/plain": [
       "[90, 87, 67, 56, 34, 12]"
      ]
     },
     "execution_count": 377,
     "metadata": {},
     "output_type": "execute_result"
    }
   ],
   "source": [
    "marks"
   ]
  },
  {
   "cell_type": "code",
   "execution_count": 378,
   "id": "cccf37b0",
   "metadata": {},
   "outputs": [],
   "source": [
    "marks = [34,12,67,56,90,87]"
   ]
  },
  {
   "cell_type": "code",
   "execution_count": 138,
   "id": "5211b29f",
   "metadata": {},
   "outputs": [],
   "source": [
    "marks.reverse()"
   ]
  },
  {
   "cell_type": "code",
   "execution_count": 139,
   "id": "bd38c376",
   "metadata": {},
   "outputs": [
    {
     "data": {
      "text/plain": [
       "[87, 90, 56, 67, 12, 34]"
      ]
     },
     "execution_count": 139,
     "metadata": {},
     "output_type": "execute_result"
    }
   ],
   "source": [
    "marks"
   ]
  },
  {
   "cell_type": "code",
   "execution_count": 379,
   "id": "1d88b095",
   "metadata": {},
   "outputs": [],
   "source": [
    "shop_list = ['Apple','Bread','Coffee','Avocado','Bread']"
   ]
  },
  {
   "cell_type": "code",
   "execution_count": 380,
   "id": "70a29996",
   "metadata": {},
   "outputs": [],
   "source": [
    "shop_list.sort()"
   ]
  },
  {
   "cell_type": "code",
   "execution_count": 381,
   "id": "e25aa61b",
   "metadata": {},
   "outputs": [
    {
     "data": {
      "text/plain": [
       "['Apple', 'Avocado', 'Bread', 'Bread', 'Coffee']"
      ]
     },
     "execution_count": 381,
     "metadata": {},
     "output_type": "execute_result"
    }
   ],
   "source": [
    "shop_list"
   ]
  },
  {
   "cell_type": "code",
   "execution_count": 143,
   "id": "0665f3fc",
   "metadata": {},
   "outputs": [],
   "source": [
    "### copy()"
   ]
  },
  {
   "cell_type": "code",
   "execution_count": 410,
   "id": "a527b2fb",
   "metadata": {},
   "outputs": [],
   "source": [
    "ls1 = [1,2,3]"
   ]
  },
  {
   "cell_type": "code",
   "execution_count": 411,
   "id": "d786e7ad",
   "metadata": {},
   "outputs": [],
   "source": [
    "ls2 = ls1"
   ]
  },
  {
   "cell_type": "code",
   "execution_count": 412,
   "id": "88d94f32",
   "metadata": {},
   "outputs": [
    {
     "data": {
      "text/plain": [
       "[1, 2, 3]"
      ]
     },
     "execution_count": 412,
     "metadata": {},
     "output_type": "execute_result"
    }
   ],
   "source": [
    "ls2"
   ]
  },
  {
   "cell_type": "code",
   "execution_count": 416,
   "id": "2e5db67c",
   "metadata": {},
   "outputs": [],
   "source": [
    "ls2[0] = 100"
   ]
  },
  {
   "cell_type": "code",
   "execution_count": 417,
   "id": "713ff995",
   "metadata": {},
   "outputs": [
    {
     "data": {
      "text/plain": [
       "[100, 100, 3]"
      ]
     },
     "execution_count": 417,
     "metadata": {},
     "output_type": "execute_result"
    }
   ],
   "source": [
    "ls2"
   ]
  },
  {
   "cell_type": "code",
   "execution_count": 418,
   "id": "29a9d08b",
   "metadata": {},
   "outputs": [
    {
     "data": {
      "text/plain": [
       "[100, 100, 3]"
      ]
     },
     "execution_count": 418,
     "metadata": {},
     "output_type": "execute_result"
    }
   ],
   "source": [
    "ls1"
   ]
  },
  {
   "cell_type": "code",
   "execution_count": 423,
   "id": "55a2bf6b",
   "metadata": {},
   "outputs": [
    {
     "data": {
      "text/plain": [
       "[1, 2, 3]"
      ]
     },
     "execution_count": 423,
     "metadata": {},
     "output_type": "execute_result"
    }
   ],
   "source": [
    "ls1 = [1,2,3]\n",
    "ls3 = ls1.copy()\n",
    "ls3"
   ]
  },
  {
   "cell_type": "code",
   "execution_count": 424,
   "id": "5e2bcd02",
   "metadata": {},
   "outputs": [],
   "source": [
    "ls3[0]=100"
   ]
  },
  {
   "cell_type": "code",
   "execution_count": 425,
   "id": "16fedf4a",
   "metadata": {},
   "outputs": [
    {
     "data": {
      "text/plain": [
       "[100, 2, 3]"
      ]
     },
     "execution_count": 425,
     "metadata": {},
     "output_type": "execute_result"
    }
   ],
   "source": [
    "ls3"
   ]
  },
  {
   "cell_type": "code",
   "execution_count": 426,
   "id": "3e1c24df",
   "metadata": {},
   "outputs": [
    {
     "data": {
      "text/plain": [
       "[1, 2, 3]"
      ]
     },
     "execution_count": 426,
     "metadata": {},
     "output_type": "execute_result"
    }
   ],
   "source": [
    "ls1"
   ]
  },
  {
   "cell_type": "code",
   "execution_count": 402,
   "id": "3ce0aff7",
   "metadata": {},
   "outputs": [],
   "source": [
    "list1=[10,20,30]"
   ]
  },
  {
   "cell_type": "code",
   "execution_count": 403,
   "id": "aa5233f1",
   "metadata": {},
   "outputs": [
    {
     "data": {
      "text/plain": [
       "[10, 20, 30]"
      ]
     },
     "execution_count": 403,
     "metadata": {},
     "output_type": "execute_result"
    }
   ],
   "source": [
    "list2= list1.copy()\n",
    "list2"
   ]
  },
  {
   "cell_type": "code",
   "execution_count": 420,
   "id": "485ea026",
   "metadata": {},
   "outputs": [],
   "source": [
    "ls3[1] = 100"
   ]
  },
  {
   "cell_type": "code",
   "execution_count": 421,
   "id": "079a263b",
   "metadata": {},
   "outputs": [
    {
     "data": {
      "text/plain": [
       "[1, 100, 3]"
      ]
     },
     "execution_count": 421,
     "metadata": {},
     "output_type": "execute_result"
    }
   ],
   "source": [
    "ls3"
   ]
  },
  {
   "cell_type": "code",
   "execution_count": 422,
   "id": "9920c4d9",
   "metadata": {},
   "outputs": [
    {
     "data": {
      "text/plain": [
       "[1, 2, 3]"
      ]
     },
     "execution_count": 422,
     "metadata": {},
     "output_type": "execute_result"
    }
   ],
   "source": [
    "ls1"
   ]
  },
  {
   "cell_type": "markdown",
   "id": "47cb3e0f",
   "metadata": {},
   "source": [
    "### Identity Operation"
   ]
  },
  {
   "cell_type": "code",
   "execution_count": 438,
   "id": "ec81ff32",
   "metadata": {},
   "outputs": [],
   "source": [
    "a=10\n",
    "b=10"
   ]
  },
  {
   "cell_type": "code",
   "execution_count": 439,
   "id": "9ab38f70",
   "metadata": {},
   "outputs": [
    {
     "data": {
      "text/plain": [
       "140725694665800"
      ]
     },
     "execution_count": 439,
     "metadata": {},
     "output_type": "execute_result"
    }
   ],
   "source": [
    "id(a)"
   ]
  },
  {
   "cell_type": "code",
   "execution_count": 440,
   "id": "0442e807",
   "metadata": {},
   "outputs": [
    {
     "data": {
      "text/plain": [
       "140725694665800"
      ]
     },
     "execution_count": 440,
     "metadata": {},
     "output_type": "execute_result"
    }
   ],
   "source": [
    "id(b)"
   ]
  },
  {
   "cell_type": "code",
   "execution_count": 435,
   "id": "fb812df4",
   "metadata": {},
   "outputs": [
    {
     "data": {
      "text/plain": [
       "True"
      ]
     },
     "execution_count": 435,
     "metadata": {},
     "output_type": "execute_result"
    }
   ],
   "source": [
    "a is not b"
   ]
  },
  {
   "cell_type": "code",
   "execution_count": 441,
   "id": "cba3ca45",
   "metadata": {},
   "outputs": [
    {
     "data": {
      "text/plain": [
       "[1, 2, 3]"
      ]
     },
     "execution_count": 441,
     "metadata": {},
     "output_type": "execute_result"
    }
   ],
   "source": [
    "ls1 = [1,2,3]\n",
    "ls1"
   ]
  },
  {
   "cell_type": "code",
   "execution_count": 442,
   "id": "57645ce8",
   "metadata": {},
   "outputs": [
    {
     "data": {
      "text/plain": [
       "[1, 2, 3]"
      ]
     },
     "execution_count": 442,
     "metadata": {},
     "output_type": "execute_result"
    }
   ],
   "source": [
    "ls2 = ls1\n",
    "ls2"
   ]
  },
  {
   "cell_type": "code",
   "execution_count": 443,
   "id": "e9642f94",
   "metadata": {},
   "outputs": [
    {
     "data": {
      "text/plain": [
       "[1, 2, 3]"
      ]
     },
     "execution_count": 443,
     "metadata": {},
     "output_type": "execute_result"
    }
   ],
   "source": [
    "ls3 = ls1.copy()\n",
    "ls3"
   ]
  },
  {
   "cell_type": "code",
   "execution_count": 444,
   "id": "b2cc878b",
   "metadata": {},
   "outputs": [
    {
     "data": {
      "text/plain": [
       "(True, True)"
      ]
     },
     "execution_count": 444,
     "metadata": {},
     "output_type": "execute_result"
    }
   ],
   "source": [
    "ls1 == ls2 , ls1 is ls2"
   ]
  },
  {
   "cell_type": "code",
   "execution_count": 445,
   "id": "20b67e47",
   "metadata": {},
   "outputs": [
    {
     "data": {
      "text/plain": [
       "(True, False)"
      ]
     },
     "execution_count": 445,
     "metadata": {},
     "output_type": "execute_result"
    }
   ],
   "source": [
    "ls1 == ls3, ls1 is ls3"
   ]
  },
  {
   "cell_type": "code",
   "execution_count": 447,
   "id": "291d785c",
   "metadata": {},
   "outputs": [
    {
     "name": "stdout",
     "output_type": "stream",
     "text": [
      "2217908365120 2217908365120\n"
     ]
    }
   ],
   "source": [
    "print(id(ls1),id(ls2))"
   ]
  },
  {
   "cell_type": "code",
   "execution_count": 448,
   "id": "03e900f5",
   "metadata": {},
   "outputs": [
    {
     "data": {
      "text/plain": [
       "True"
      ]
     },
     "execution_count": 448,
     "metadata": {},
     "output_type": "execute_result"
    }
   ],
   "source": [
    "ls3=ls1\n",
    "ls1 is ls3"
   ]
  },
  {
   "cell_type": "code",
   "execution_count": 449,
   "id": "b34aab00",
   "metadata": {},
   "outputs": [
    {
     "data": {
      "text/plain": [
       "['__add__',\n",
       " '__class__',\n",
       " '__class_getitem__',\n",
       " '__contains__',\n",
       " '__delattr__',\n",
       " '__dir__',\n",
       " '__doc__',\n",
       " '__eq__',\n",
       " '__format__',\n",
       " '__ge__',\n",
       " '__getattribute__',\n",
       " '__getitem__',\n",
       " '__getnewargs__',\n",
       " '__getstate__',\n",
       " '__gt__',\n",
       " '__hash__',\n",
       " '__init__',\n",
       " '__init_subclass__',\n",
       " '__iter__',\n",
       " '__le__',\n",
       " '__len__',\n",
       " '__lt__',\n",
       " '__mul__',\n",
       " '__ne__',\n",
       " '__new__',\n",
       " '__reduce__',\n",
       " '__reduce_ex__',\n",
       " '__repr__',\n",
       " '__rmul__',\n",
       " '__setattr__',\n",
       " '__sizeof__',\n",
       " '__str__',\n",
       " '__subclasshook__',\n",
       " 'count',\n",
       " 'index']"
      ]
     },
     "execution_count": 449,
     "metadata": {},
     "output_type": "execute_result"
    }
   ],
   "source": [
    "dir(tuple)"
   ]
  },
  {
   "cell_type": "code",
   "execution_count": 453,
   "id": "b0a26f4c",
   "metadata": {},
   "outputs": [],
   "source": [
    "x = (1,2,3,2)"
   ]
  },
  {
   "cell_type": "code",
   "execution_count": 454,
   "id": "a1f60028",
   "metadata": {},
   "outputs": [
    {
     "data": {
      "text/plain": [
       "tuple"
      ]
     },
     "execution_count": 454,
     "metadata": {},
     "output_type": "execute_result"
    }
   ],
   "source": [
    "type(x)"
   ]
  },
  {
   "cell_type": "code",
   "execution_count": 455,
   "id": "2ad8733e",
   "metadata": {},
   "outputs": [
    {
     "data": {
      "text/plain": [
       "1"
      ]
     },
     "execution_count": 455,
     "metadata": {},
     "output_type": "execute_result"
    }
   ],
   "source": [
    "x.index(2)"
   ]
  },
  {
   "cell_type": "code",
   "execution_count": 456,
   "id": "f7f76147",
   "metadata": {},
   "outputs": [
    {
     "data": {
      "text/plain": [
       "2"
      ]
     },
     "execution_count": 456,
     "metadata": {},
     "output_type": "execute_result"
    }
   ],
   "source": [
    "x.count(2)"
   ]
  },
  {
   "cell_type": "code",
   "execution_count": 457,
   "id": "0c247a09",
   "metadata": {},
   "outputs": [],
   "source": [
    "y =('a','b','b','c')"
   ]
  },
  {
   "cell_type": "code",
   "execution_count": 458,
   "id": "bd22b202",
   "metadata": {},
   "outputs": [
    {
     "data": {
      "text/plain": [
       "1"
      ]
     },
     "execution_count": 458,
     "metadata": {},
     "output_type": "execute_result"
    }
   ],
   "source": [
    "y.count('c')"
   ]
  },
  {
   "cell_type": "code",
   "execution_count": 459,
   "id": "25cdd377",
   "metadata": {},
   "outputs": [
    {
     "data": {
      "text/plain": [
       "(1, 2, 3, 4, 5)"
      ]
     },
     "execution_count": 459,
     "metadata": {},
     "output_type": "execute_result"
    }
   ],
   "source": [
    "tuple1"
   ]
  },
  {
   "cell_type": "code",
   "execution_count": 462,
   "id": "85b7ef30",
   "metadata": {},
   "outputs": [],
   "source": [
    "tuple2=tuple1"
   ]
  },
  {
   "cell_type": "code",
   "execution_count": 465,
   "id": "c77fb5b3",
   "metadata": {},
   "outputs": [],
   "source": [
    "list1=list(tuple2)"
   ]
  },
  {
   "cell_type": "code",
   "execution_count": 466,
   "id": "84b20625",
   "metadata": {},
   "outputs": [
    {
     "data": {
      "text/plain": [
       "[1, 2, 30, 4, 5]"
      ]
     },
     "execution_count": 466,
     "metadata": {},
     "output_type": "execute_result"
    }
   ],
   "source": [
    "list1[2]=30\n",
    "list1"
   ]
  },
  {
   "cell_type": "code",
   "execution_count": 469,
   "id": "f53e4e84",
   "metadata": {},
   "outputs": [
    {
     "data": {
      "text/plain": [
       "(1, 2, 30, 4, 5)"
      ]
     },
     "execution_count": 469,
     "metadata": {},
     "output_type": "execute_result"
    }
   ],
   "source": [
    "tuple2=tuple(list1)\n",
    "tuple2"
   ]
  },
  {
   "cell_type": "code",
   "execution_count": 470,
   "id": "ab980c6d",
   "metadata": {},
   "outputs": [
    {
     "data": {
      "text/plain": [
       "(1, 2, 3, 4, 5)"
      ]
     },
     "execution_count": 470,
     "metadata": {},
     "output_type": "execute_result"
    }
   ],
   "source": [
    "tuple1"
   ]
  },
  {
   "cell_type": "markdown",
   "id": "334e825a",
   "metadata": {},
   "source": [
    "### String Methods"
   ]
  },
  {
   "cell_type": "code",
   "execution_count": 471,
   "id": "9f4b22b1",
   "metadata": {},
   "outputs": [],
   "source": [
    "s1 = 'i love python'"
   ]
  },
  {
   "cell_type": "code",
   "execution_count": 478,
   "id": "b69336ea",
   "metadata": {},
   "outputs": [
    {
     "data": {
      "text/plain": [
       "'sANJAY KUMAR'"
      ]
     },
     "execution_count": 478,
     "metadata": {},
     "output_type": "execute_result"
    }
   ],
   "source": [
    "str1='Sanjay kumar'\n",
    "str1.swapcase()"
   ]
  },
  {
   "cell_type": "code",
   "execution_count": 472,
   "id": "d549a544",
   "metadata": {},
   "outputs": [
    {
     "data": {
      "text/plain": [
       "'I love python'"
      ]
     },
     "execution_count": 472,
     "metadata": {},
     "output_type": "execute_result"
    }
   ],
   "source": [
    "s1.capitalize()"
   ]
  },
  {
   "cell_type": "code",
   "execution_count": 39,
   "id": "448d5821",
   "metadata": {},
   "outputs": [
    {
     "data": {
      "text/plain": [
       "'i love python'"
      ]
     },
     "execution_count": 39,
     "metadata": {},
     "output_type": "execute_result"
    }
   ],
   "source": [
    "s1"
   ]
  },
  {
   "cell_type": "code",
   "execution_count": 473,
   "id": "e82f936f",
   "metadata": {},
   "outputs": [
    {
     "data": {
      "text/plain": [
       "'I Love Python'"
      ]
     },
     "execution_count": 473,
     "metadata": {},
     "output_type": "execute_result"
    }
   ],
   "source": [
    "s1.title()"
   ]
  },
  {
   "cell_type": "code",
   "execution_count": 474,
   "id": "8aaca46e",
   "metadata": {},
   "outputs": [
    {
     "data": {
      "text/plain": [
       "'I LOVE PYTHON'"
      ]
     },
     "execution_count": 474,
     "metadata": {},
     "output_type": "execute_result"
    }
   ],
   "source": [
    "s1.upper()"
   ]
  },
  {
   "cell_type": "code",
   "execution_count": 481,
   "id": "aca52d86",
   "metadata": {},
   "outputs": [],
   "source": [
    "s2 = 'Happy Birth Day'"
   ]
  },
  {
   "cell_type": "code",
   "execution_count": 482,
   "id": "1bc7742e",
   "metadata": {},
   "outputs": [
    {
     "data": {
      "text/plain": [
       "'happy birth day'"
      ]
     },
     "execution_count": 482,
     "metadata": {},
     "output_type": "execute_result"
    }
   ],
   "source": [
    "s2.lower()"
   ]
  },
  {
   "cell_type": "code",
   "execution_count": 483,
   "id": "1287b8b8",
   "metadata": {},
   "outputs": [
    {
     "data": {
      "text/plain": [
       "'hAPPY bIRTH dAY'"
      ]
     },
     "execution_count": 483,
     "metadata": {},
     "output_type": "execute_result"
    }
   ],
   "source": [
    "s2.swapcase()"
   ]
  },
  {
   "cell_type": "code",
   "execution_count": 488,
   "id": "397f3b0f",
   "metadata": {},
   "outputs": [
    {
     "data": {
      "text/plain": [
       "(False, False, True)"
      ]
     },
     "execution_count": 488,
     "metadata": {},
     "output_type": "execute_result"
    }
   ],
   "source": [
    "'PYTHON'.islower(),'python'.isupper(),'12'.isdigit()"
   ]
  },
  {
   "cell_type": "code",
   "execution_count": 492,
   "id": "ed4e2f40",
   "metadata": {},
   "outputs": [
    {
     "data": {
      "text/plain": [
       "(True, False, True, True, False)"
      ]
     },
     "execution_count": 492,
     "metadata": {},
     "output_type": "execute_result"
    }
   ],
   "source": [
    "'python'.islower(), 'Python'.isupper(), 'PYTHON'.isupper(),'python123'.isalnum(),'python12'.isalpha()"
   ]
  },
  {
   "cell_type": "code",
   "execution_count": 496,
   "id": "2cab3ba3",
   "metadata": {},
   "outputs": [
    {
     "data": {
      "text/plain": [
       "(False, False)"
      ]
     },
     "execution_count": 496,
     "metadata": {},
     "output_type": "execute_result"
    }
   ],
   "source": [
    "'welcome'.startswith('e'),'welcome'.endswith('z')"
   ]
  },
  {
   "cell_type": "code",
   "execution_count": 497,
   "id": "9b43b7f8",
   "metadata": {},
   "outputs": [
    {
     "data": {
      "text/plain": [
       "(True, False)"
      ]
     },
     "execution_count": 497,
     "metadata": {},
     "output_type": "execute_result"
    }
   ],
   "source": [
    "'python'.startswith('py'), 'python'.startswith('on')"
   ]
  },
  {
   "cell_type": "code",
   "execution_count": 498,
   "id": "c5eab63c",
   "metadata": {},
   "outputs": [
    {
     "data": {
      "text/plain": [
       "(False, True)"
      ]
     },
     "execution_count": 498,
     "metadata": {},
     "output_type": "execute_result"
    }
   ],
   "source": [
    "'python'.endswith('py'), 'python'.endswith('on')"
   ]
  },
  {
   "cell_type": "code",
   "execution_count": 501,
   "id": "53f9e8d4",
   "metadata": {},
   "outputs": [],
   "source": [
    "s1 = '  Python  '"
   ]
  },
  {
   "cell_type": "code",
   "execution_count": 500,
   "id": "62d227b4",
   "metadata": {},
   "outputs": [
    {
     "data": {
      "text/plain": [
       "'Python'"
      ]
     },
     "execution_count": 500,
     "metadata": {},
     "output_type": "execute_result"
    }
   ],
   "source": [
    "s1.strip()"
   ]
  },
  {
   "cell_type": "code",
   "execution_count": 508,
   "id": "11595278",
   "metadata": {},
   "outputs": [],
   "source": [
    "s2='    welcome to    python    '"
   ]
  },
  {
   "cell_type": "code",
   "execution_count": 526,
   "id": "413f960d",
   "metadata": {},
   "outputs": [
    {
     "data": {
      "text/plain": [
       "'welcome to    python    '"
      ]
     },
     "execution_count": 526,
     "metadata": {},
     "output_type": "execute_result"
    }
   ],
   "source": [
    "s3=s2.lstrip()\n",
    "s4=s3.split(' ')\n",
    "' '.join(s4)"
   ]
  },
  {
   "cell_type": "code",
   "execution_count": 507,
   "id": "dfeb8065",
   "metadata": {},
   "outputs": [
    {
     "data": {
      "text/plain": [
       "'    welcome to python    '"
      ]
     },
     "execution_count": 507,
     "metadata": {},
     "output_type": "execute_result"
    }
   ],
   "source": [
    "s2"
   ]
  },
  {
   "cell_type": "code",
   "execution_count": 506,
   "id": "b02aaa19",
   "metadata": {},
   "outputs": [
    {
     "data": {
      "text/plain": [
       "'  Python  '"
      ]
     },
     "execution_count": 506,
     "metadata": {},
     "output_type": "execute_result"
    }
   ],
   "source": [
    "s1"
   ]
  },
  {
   "cell_type": "code",
   "execution_count": 527,
   "id": "ac30e0b4",
   "metadata": {},
   "outputs": [
    {
     "data": {
      "text/plain": [
       "'Python'"
      ]
     },
     "execution_count": 527,
     "metadata": {},
     "output_type": "execute_result"
    }
   ],
   "source": [
    "s1.strip()"
   ]
  },
  {
   "cell_type": "code",
   "execution_count": 528,
   "id": "2f5df906",
   "metadata": {},
   "outputs": [
    {
     "data": {
      "text/plain": [
       "('Python  ', '  Python')"
      ]
     },
     "execution_count": 528,
     "metadata": {},
     "output_type": "execute_result"
    }
   ],
   "source": [
    "s1.lstrip(), s1.rstrip()"
   ]
  },
  {
   "cell_type": "code",
   "execution_count": 537,
   "id": "4dc5374c",
   "metadata": {},
   "outputs": [],
   "source": [
    "s2 = 'python3.0'"
   ]
  },
  {
   "cell_type": "code",
   "execution_count": 542,
   "id": "509ce41f",
   "metadata": {},
   "outputs": [
    {
     "data": {
      "text/plain": [
       "(False, False, False, False, str, True)"
      ]
     },
     "execution_count": 542,
     "metadata": {},
     "output_type": "execute_result"
    }
   ],
   "source": [
    "s2.isalpha(), s2.isalnum(), s2.isnumeric(), s2.isdigit(),type(s2), s2.isascii()"
   ]
  },
  {
   "cell_type": "code",
   "execution_count": 543,
   "id": "79fb5539",
   "metadata": {},
   "outputs": [],
   "source": [
    "str1 = 'Apple,Orange,Grapes,Mango'"
   ]
  },
  {
   "cell_type": "code",
   "execution_count": 26,
   "id": "481a4449",
   "metadata": {},
   "outputs": [
    {
     "name": "stdout",
     "output_type": "stream",
     "text": [
      "A\n",
      "p\n",
      "p\n",
      "l\n",
      "e\n",
      ",\n",
      "O\n",
      "r\n",
      "a\n",
      "n\n",
      "g\n",
      "e\n",
      ",\n",
      "G\n",
      "r\n",
      "a\n",
      "p\n",
      "e\n",
      "s\n",
      ",\n",
      "M\n",
      "a\n",
      "n\n",
      "g\n",
      "o\n"
     ]
    }
   ],
   "source": [
    "for x in str1:\n",
    "    print(x)"
   ]
  },
  {
   "cell_type": "code",
   "execution_count": 544,
   "id": "48428960",
   "metadata": {},
   "outputs": [
    {
     "data": {
      "text/plain": [
       "'Apple,Orange,Grapes,Mango'"
      ]
     },
     "execution_count": 544,
     "metadata": {},
     "output_type": "execute_result"
    }
   ],
   "source": [
    "str1"
   ]
  },
  {
   "cell_type": "code",
   "execution_count": 545,
   "id": "9a0ee2de",
   "metadata": {},
   "outputs": [
    {
     "data": {
      "text/plain": [
       "['Apple', 'Orange', 'Grapes', 'Mango']"
      ]
     },
     "execution_count": 545,
     "metadata": {},
     "output_type": "execute_result"
    }
   ],
   "source": [
    "str1.split(',')"
   ]
  },
  {
   "cell_type": "code",
   "execution_count": 546,
   "id": "040a77e5",
   "metadata": {},
   "outputs": [],
   "source": [
    "str1 = 'Apple|Orange|Grapes|Mango'"
   ]
  },
  {
   "cell_type": "code",
   "execution_count": 547,
   "id": "16845559",
   "metadata": {},
   "outputs": [
    {
     "data": {
      "text/plain": [
       "['Apple', 'Orange', 'Grapes', 'Mango']"
      ]
     },
     "execution_count": 547,
     "metadata": {},
     "output_type": "execute_result"
    }
   ],
   "source": [
    "str1.split('|')"
   ]
  },
  {
   "cell_type": "code",
   "execution_count": 548,
   "id": "3320cb98",
   "metadata": {},
   "outputs": [],
   "source": [
    "str1 = 'Apple,Orange|Grapes|Mango'"
   ]
  },
  {
   "cell_type": "code",
   "execution_count": 549,
   "id": "3a4a0acd",
   "metadata": {},
   "outputs": [
    {
     "data": {
      "text/plain": [
       "['Apple,Orange', 'Grapes', 'Mango']"
      ]
     },
     "execution_count": 549,
     "metadata": {},
     "output_type": "execute_result"
    }
   ],
   "source": [
    "str1.split('|')"
   ]
  },
  {
   "cell_type": "code",
   "execution_count": 566,
   "id": "cb01ef74",
   "metadata": {},
   "outputs": [
    {
     "data": {
      "text/plain": [
       "str"
      ]
     },
     "execution_count": 566,
     "metadata": {},
     "output_type": "execute_result"
    }
   ],
   "source": [
    "x = \"This is an example of a long text. I want to demonstrate splitting of a string\"\n",
    "type(x)"
   ]
  },
  {
   "cell_type": "code",
   "execution_count": 554,
   "id": "cd3d7538",
   "metadata": {},
   "outputs": [],
   "source": [
    "#x = \"This is an example of a long text\""
   ]
  },
  {
   "cell_type": "code",
   "execution_count": 569,
   "id": "eb0af45a",
   "metadata": {},
   "outputs": [
    {
     "data": {
      "text/plain": [
       "'This is an example of a long text'"
      ]
     },
     "execution_count": 569,
     "metadata": {},
     "output_type": "execute_result"
    }
   ],
   "source": [
    "list1=x.split('.')\n",
    "type(list1)\n",
    "a=list1[0]\n",
    "a"
   ]
  },
  {
   "cell_type": "code",
   "execution_count": 40,
   "id": "3459c830",
   "metadata": {},
   "outputs": [],
   "source": [
    "lst = [3,4,2,1]"
   ]
  },
  {
   "cell_type": "code",
   "execution_count": 41,
   "id": "2fbe9610",
   "metadata": {},
   "outputs": [],
   "source": [
    "lst.sort()"
   ]
  },
  {
   "cell_type": "code",
   "execution_count": 42,
   "id": "2f907a2d",
   "metadata": {},
   "outputs": [
    {
     "data": {
      "text/plain": [
       "[1, 2, 3, 4]"
      ]
     },
     "execution_count": 42,
     "metadata": {},
     "output_type": "execute_result"
    }
   ],
   "source": [
    "lst"
   ]
  }
 ],
 "metadata": {
  "kernelspec": {
   "display_name": "Python 3 (ipykernel)",
   "language": "python",
   "name": "python3"
  },
  "language_info": {
   "codemirror_mode": {
    "name": "ipython",
    "version": 3
   },
   "file_extension": ".py",
   "mimetype": "text/x-python",
   "name": "python",
   "nbconvert_exporter": "python",
   "pygments_lexer": "ipython3",
   "version": "3.11.5"
  }
 },
 "nbformat": 4,
 "nbformat_minor": 5
}
