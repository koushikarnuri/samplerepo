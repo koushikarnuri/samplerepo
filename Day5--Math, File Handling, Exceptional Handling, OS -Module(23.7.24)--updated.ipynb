{
 "cells": [
  {
   "cell_type": "code",
   "execution_count": 111,
   "id": "43470f3a",
   "metadata": {},
   "outputs": [],
   "source": [
    "import math"
   ]
  },
  {
   "cell_type": "code",
   "execution_count": 112,
   "id": "0971efe0",
   "metadata": {},
   "outputs": [
    {
     "data": {
      "text/plain": [
       "2.0"
      ]
     },
     "execution_count": 112,
     "metadata": {},
     "output_type": "execute_result"
    }
   ],
   "source": [
    "math.cbrt(8)"
   ]
  },
  {
   "cell_type": "code",
   "execution_count": 114,
   "id": "3e964057",
   "metadata": {},
   "outputs": [
    {
     "data": {
      "text/plain": [
       "2.0"
      ]
     },
     "execution_count": 114,
     "metadata": {},
     "output_type": "execute_result"
    }
   ],
   "source": [
    "math.sqrt(4)"
   ]
  },
  {
   "cell_type": "code",
   "execution_count": 115,
   "id": "9ceeeff4",
   "metadata": {},
   "outputs": [
    {
     "data": {
      "text/plain": [
       "120"
      ]
     },
     "execution_count": 115,
     "metadata": {},
     "output_type": "execute_result"
    }
   ],
   "source": [
    "math.factorial(5)"
   ]
  },
  {
   "cell_type": "code",
   "execution_count": 84,
   "id": "c397e021",
   "metadata": {},
   "outputs": [
    {
     "data": {
      "text/plain": [
       "3.141592653589793"
      ]
     },
     "execution_count": 84,
     "metadata": {},
     "output_type": "execute_result"
    }
   ],
   "source": [
    "math.pi"
   ]
  },
  {
   "cell_type": "code",
   "execution_count": 116,
   "id": "6b581554",
   "metadata": {},
   "outputs": [
    {
     "data": {
      "text/plain": [
       "0.8939966636005579"
      ]
     },
     "execution_count": 116,
     "metadata": {},
     "output_type": "execute_result"
    }
   ],
   "source": [
    "math.sin(90)"
   ]
  },
  {
   "cell_type": "code",
   "execution_count": 118,
   "id": "1a6c22b5",
   "metadata": {},
   "outputs": [
    {
     "data": {
      "text/plain": [
       "1.0"
      ]
     },
     "execution_count": 118,
     "metadata": {},
     "output_type": "execute_result"
    }
   ],
   "source": [
    "math.sin(math.pi/2)"
   ]
  },
  {
   "cell_type": "code",
   "execution_count": 86,
   "id": "946c0284",
   "metadata": {},
   "outputs": [
    {
     "data": {
      "text/plain": [
       "-1.0"
      ]
     },
     "execution_count": 86,
     "metadata": {},
     "output_type": "execute_result"
    }
   ],
   "source": [
    "math.cos(math.pi)"
   ]
  },
  {
   "cell_type": "code",
   "execution_count": 87,
   "id": "b53a71b8",
   "metadata": {},
   "outputs": [
    {
     "data": {
      "text/plain": [
       "1.0"
      ]
     },
     "execution_count": 87,
     "metadata": {},
     "output_type": "execute_result"
    }
   ],
   "source": [
    "math.log2(2)"
   ]
  },
  {
   "cell_type": "code",
   "execution_count": 88,
   "id": "221a314b",
   "metadata": {},
   "outputs": [
    {
     "data": {
      "text/plain": [
       "1.3010299956639813"
      ]
     },
     "execution_count": 88,
     "metadata": {},
     "output_type": "execute_result"
    }
   ],
   "source": [
    "math.log10(20)"
   ]
  },
  {
   "cell_type": "code",
   "execution_count": 89,
   "id": "ec8a5dc2",
   "metadata": {},
   "outputs": [
    {
     "data": {
      "text/plain": [
       "20.085536923187668"
      ]
     },
     "execution_count": 89,
     "metadata": {},
     "output_type": "execute_result"
    }
   ],
   "source": [
    "math.exp(3)"
   ]
  },
  {
   "cell_type": "code",
   "execution_count": 91,
   "id": "48f56fb8",
   "metadata": {},
   "outputs": [
    {
     "data": {
      "text/plain": [
       "0.0"
      ]
     },
     "execution_count": 91,
     "metadata": {},
     "output_type": "execute_result"
    }
   ],
   "source": [
    "2/math.inf"
   ]
  },
  {
   "cell_type": "code",
   "execution_count": 119,
   "id": "8e5662b3",
   "metadata": {},
   "outputs": [
    {
     "data": {
      "text/plain": [
       "4"
      ]
     },
     "execution_count": 119,
     "metadata": {},
     "output_type": "execute_result"
    }
   ],
   "source": [
    "math.ceil(3.2)"
   ]
  },
  {
   "cell_type": "code",
   "execution_count": 120,
   "id": "3127d083",
   "metadata": {},
   "outputs": [
    {
     "data": {
      "text/plain": [
       "3"
      ]
     },
     "execution_count": 120,
     "metadata": {},
     "output_type": "execute_result"
    }
   ],
   "source": [
    "math.floor(3.99)"
   ]
  },
  {
   "cell_type": "code",
   "execution_count": 98,
   "id": "a2f5978d",
   "metadata": {},
   "outputs": [
    {
     "data": {
      "text/plain": [
       "2.8284271247461903"
      ]
     },
     "execution_count": 98,
     "metadata": {},
     "output_type": "execute_result"
    }
   ],
   "source": [
    "x=[2,3]\n",
    "y=[4,5]\n",
    "math.dist(x,y)"
   ]
  },
  {
   "cell_type": "code",
   "execution_count": 121,
   "id": "ef19afd0",
   "metadata": {},
   "outputs": [
    {
     "data": {
      "text/plain": [
       "2.8284271247461903"
      ]
     },
     "execution_count": 121,
     "metadata": {},
     "output_type": "execute_result"
    }
   ],
   "source": [
    "math.sqrt(8)"
   ]
  },
  {
   "cell_type": "code",
   "execution_count": 123,
   "id": "9a7e1db6",
   "metadata": {},
   "outputs": [
    {
     "data": {
      "text/plain": [
       "27.0"
      ]
     },
     "execution_count": 123,
     "metadata": {},
     "output_type": "execute_result"
    }
   ],
   "source": [
    "math.pow(3,3)"
   ]
  },
  {
   "cell_type": "code",
   "execution_count": 124,
   "id": "93000bc1",
   "metadata": {},
   "outputs": [],
   "source": [
    "## File Handling"
   ]
  },
  {
   "cell_type": "code",
   "execution_count": 1,
   "id": "61b469bd",
   "metadata": {},
   "outputs": [
    {
     "name": "stdout",
     "output_type": "stream",
     "text": [
      "Pug\n",
      "Jack Russell Terrier\n",
      "English Springer Spaniel\n",
      "German Shepherd\n",
      "Staffordshire Bull Terrier\n",
      "Cavalier King Charles Spaniel\n",
      "Golden Retriever\n",
      "West Highland White Terrier\n",
      "Boxer\n",
      "Border Terrier\n",
      "\n"
     ]
    }
   ],
   "source": [
    "with open('dog_breeds.txt','r') as reader:\n",
    "    print(reader.read())"
   ]
  },
  {
   "cell_type": "code",
   "execution_count": 7,
   "id": "a9cceb9f",
   "metadata": {},
   "outputs": [],
   "source": [
    "file= open('dog_breeds.txt','r')"
   ]
  },
  {
   "cell_type": "code",
   "execution_count": 8,
   "id": "39630337",
   "metadata": {},
   "outputs": [],
   "source": [
    "lines=file.readlines()"
   ]
  },
  {
   "cell_type": "code",
   "execution_count": 14,
   "id": "39726b26",
   "metadata": {},
   "outputs": [
    {
     "name": "stdout",
     "output_type": "stream",
     "text": [
      "Jack Russell Terrier\n",
      "\n"
     ]
    }
   ],
   "source": [
    "print(lines[1])"
   ]
  },
  {
   "cell_type": "code",
   "execution_count": 13,
   "id": "af57e974",
   "metadata": {},
   "outputs": [],
   "source": [
    "import linecache"
   ]
  },
  {
   "cell_type": "code",
   "execution_count": 17,
   "id": "d53952ee",
   "metadata": {},
   "outputs": [
    {
     "data": {
      "text/plain": [
       "'Staffordshire Bull Terrier\\n'"
      ]
     },
     "execution_count": 17,
     "metadata": {},
     "output_type": "execute_result"
    }
   ],
   "source": [
    "linecache.getline('dog_breeds.txt',5)"
   ]
  },
  {
   "cell_type": "code",
   "execution_count": 18,
   "id": "09981dbd",
   "metadata": {},
   "outputs": [],
   "source": [
    "file= open('text2.txt','r')"
   ]
  },
  {
   "cell_type": "code",
   "execution_count": 19,
   "id": "df57afd8",
   "metadata": {},
   "outputs": [
    {
     "data": {
      "text/plain": [
       "'Hai , how are you, how is going on.'"
      ]
     },
     "execution_count": 19,
     "metadata": {},
     "output_type": "execute_result"
    }
   ],
   "source": [
    "file.read()"
   ]
  },
  {
   "cell_type": "code",
   "execution_count": 20,
   "id": "7dbfbba9",
   "metadata": {},
   "outputs": [],
   "source": [
    "file= open('text2.txt','w')"
   ]
  },
  {
   "cell_type": "code",
   "execution_count": 21,
   "id": "f18a61b5",
   "metadata": {},
   "outputs": [],
   "source": [
    "lines=['this is python course\\n','it started from the month of july\\n','its is a value added course']"
   ]
  },
  {
   "cell_type": "code",
   "execution_count": 22,
   "id": "8d731bcc",
   "metadata": {},
   "outputs": [],
   "source": [
    "file.writelines(lines)"
   ]
  },
  {
   "cell_type": "code",
   "execution_count": 23,
   "id": "d6ca7712",
   "metadata": {},
   "outputs": [],
   "source": [
    "file.close()"
   ]
  },
  {
   "cell_type": "code",
   "execution_count": 24,
   "id": "2abd963c",
   "metadata": {},
   "outputs": [],
   "source": [
    "file= open('text2.txt','r')"
   ]
  },
  {
   "cell_type": "code",
   "execution_count": 25,
   "id": "c715795f",
   "metadata": {},
   "outputs": [
    {
     "data": {
      "text/plain": [
       "['this is python course\\n',\n",
       " 'it started from the month of july\\n',\n",
       " 'its is a value added course']"
      ]
     },
     "execution_count": 25,
     "metadata": {},
     "output_type": "execute_result"
    }
   ],
   "source": [
    "file.readlines()"
   ]
  },
  {
   "cell_type": "code",
   "execution_count": 26,
   "id": "98cee231",
   "metadata": {},
   "outputs": [],
   "source": [
    "file= open('text2.txt','a')"
   ]
  },
  {
   "cell_type": "code",
   "execution_count": 27,
   "id": "d947064e",
   "metadata": {},
   "outputs": [],
   "source": [
    "lines=['course will complete']"
   ]
  },
  {
   "cell_type": "code",
   "execution_count": 28,
   "id": "d47a5c84",
   "metadata": {},
   "outputs": [],
   "source": [
    "file.writelines(lines)"
   ]
  },
  {
   "cell_type": "code",
   "execution_count": 29,
   "id": "08172969",
   "metadata": {},
   "outputs": [],
   "source": [
    "file.close()"
   ]
  },
  {
   "cell_type": "code",
   "execution_count": 30,
   "id": "936c5306",
   "metadata": {},
   "outputs": [],
   "source": [
    "file= open('text2.txt','r')"
   ]
  },
  {
   "cell_type": "code",
   "execution_count": 31,
   "id": "5a537b8f",
   "metadata": {},
   "outputs": [
    {
     "data": {
      "text/plain": [
       "['this is python course\\n',\n",
       " 'it started from the month of july\\n',\n",
       " 'its is a value added coursecourse will complete']"
      ]
     },
     "execution_count": 31,
     "metadata": {},
     "output_type": "execute_result"
    }
   ],
   "source": [
    "file.readlines()"
   ]
  },
  {
   "cell_type": "code",
   "execution_count": 39,
   "id": "69622f86",
   "metadata": {},
   "outputs": [
    {
     "data": {
      "text/plain": [
       "<_io.TextIOWrapper name='text3.txt' mode='x' encoding='cp1252'>"
      ]
     },
     "execution_count": 39,
     "metadata": {},
     "output_type": "execute_result"
    }
   ],
   "source": [
    "## create a new text file\n",
    "open('text3.txt','x')"
   ]
  },
  {
   "cell_type": "code",
   "execution_count": 33,
   "id": "8f23a3a6",
   "metadata": {},
   "outputs": [],
   "source": [
    "## os module\n",
    "import os"
   ]
  },
  {
   "cell_type": "code",
   "execution_count": 37,
   "id": "833029d2",
   "metadata": {},
   "outputs": [
    {
     "data": {
      "text/plain": [
       "True"
      ]
     },
     "execution_count": 37,
     "metadata": {},
     "output_type": "execute_result"
    }
   ],
   "source": [
    "os.path.exists('dog_breeds.txt')"
   ]
  },
  {
   "cell_type": "code",
   "execution_count": 38,
   "id": "6b981b9a",
   "metadata": {},
   "outputs": [
    {
     "data": {
      "text/plain": [
       "'C:\\\\Users\\\\excel\\\\(12.7.24) Python Practicing Programs\\\\DA Python Programs\\\\DA Updated new(17.7.24)'"
      ]
     },
     "execution_count": 38,
     "metadata": {},
     "output_type": "execute_result"
    }
   ],
   "source": [
    "## current working directory\n",
    "os.getcwd()"
   ]
  },
  {
   "cell_type": "code",
   "execution_count": 41,
   "id": "2ee2bb4f",
   "metadata": {},
   "outputs": [],
   "source": [
    "## changing the directory\n",
    "os.chdir(r'C:\\Users\\excel\\OneDrive\\Desktop')"
   ]
  },
  {
   "cell_type": "code",
   "execution_count": 42,
   "id": "8a5ab93d",
   "metadata": {},
   "outputs": [
    {
     "data": {
      "text/plain": [
       "'C:\\\\Users\\\\excel\\\\OneDrive\\\\Desktop'"
      ]
     },
     "execution_count": 42,
     "metadata": {},
     "output_type": "execute_result"
    }
   ],
   "source": [
    "os.getcwd()"
   ]
  },
  {
   "cell_type": "code",
   "execution_count": 43,
   "id": "6eecccda",
   "metadata": {},
   "outputs": [],
   "source": [
    "## Remove the files\n",
    "os.remove('text1.txt')"
   ]
  },
  {
   "cell_type": "code",
   "execution_count": 52,
   "id": "ba1d1231",
   "metadata": {},
   "outputs": [
    {
     "ename": "FileNotFoundError",
     "evalue": "[WinError 2] The system cannot find the file specified: 'new2'",
     "output_type": "error",
     "traceback": [
      "\u001b[1;31m---------------------------------------------------------------------------\u001b[0m",
      "\u001b[1;31mFileNotFoundError\u001b[0m                         Traceback (most recent call last)",
      "Cell \u001b[1;32mIn[52], line 2\u001b[0m\n\u001b[0;32m      1\u001b[0m \u001b[38;5;66;03m## remove the folder\u001b[39;00m\n\u001b[1;32m----> 2\u001b[0m os\u001b[38;5;241m.\u001b[39mrmdir(\u001b[38;5;124m'\u001b[39m\u001b[38;5;124mnew2\u001b[39m\u001b[38;5;124m'\u001b[39m)\n",
      "\u001b[1;31mFileNotFoundError\u001b[0m: [WinError 2] The system cannot find the file specified: 'new2'"
     ]
    }
   ],
   "source": [
    "## remove the folder\n",
    "os.rmdir('new2')"
   ]
  },
  {
   "cell_type": "code",
   "execution_count": 49,
   "id": "86debdc1",
   "metadata": {},
   "outputs": [],
   "source": [
    "file='Mock.docx'"
   ]
  },
  {
   "cell_type": "code",
   "execution_count": 50,
   "id": "8e27b6b7",
   "metadata": {},
   "outputs": [],
   "source": [
    "os.rename(file,'Mock1.docx')"
   ]
  },
  {
   "cell_type": "code",
   "execution_count": 77,
   "id": "8503bb19",
   "metadata": {},
   "outputs": [],
   "source": [
    "## Exceptional Handling"
   ]
  },
  {
   "cell_type": "code",
   "execution_count": 54,
   "id": "787dcd77",
   "metadata": {},
   "outputs": [
    {
     "ename": "ZeroDivisionError",
     "evalue": "division by zero",
     "output_type": "error",
     "traceback": [
      "\u001b[1;31m---------------------------------------------------------------------------\u001b[0m",
      "\u001b[1;31mZeroDivisionError\u001b[0m                         Traceback (most recent call last)",
      "Cell \u001b[1;32mIn[54], line 1\u001b[0m\n\u001b[1;32m----> 1\u001b[0m \u001b[38;5;241m2\u001b[39m\u001b[38;5;241m/\u001b[39m\u001b[38;5;241m0\u001b[39m\n",
      "\u001b[1;31mZeroDivisionError\u001b[0m: division by zero"
     ]
    }
   ],
   "source": [
    "2/0"
   ]
  },
  {
   "cell_type": "code",
   "execution_count": 56,
   "id": "172b1c8c",
   "metadata": {},
   "outputs": [
    {
     "name": "stdout",
     "output_type": "stream",
     "text": [
      "Enter the First Number1: 20\n",
      "Enter the Second Number2: 0\n",
      "The number is not divisible\n"
     ]
    }
   ],
   "source": [
    "num1= int(input('Enter the First Number1: '))\n",
    "num2= int(input('Enter the Second Number2: '))\n",
    "try:\n",
    "    div=num1/num2\n",
    "    print('The Result',div)\n",
    "except:\n",
    "    print('The number is not divisible')"
   ]
  },
  {
   "cell_type": "code",
   "execution_count": 58,
   "id": "ab2af902",
   "metadata": {},
   "outputs": [
    {
     "ename": "TypeError",
     "evalue": "unsupported operand type(s) for /: 'str' and 'str'",
     "output_type": "error",
     "traceback": [
      "\u001b[1;31m---------------------------------------------------------------------------\u001b[0m",
      "\u001b[1;31mTypeError\u001b[0m                                 Traceback (most recent call last)",
      "Cell \u001b[1;32mIn[58], line 3\u001b[0m\n\u001b[0;32m      1\u001b[0m str1\u001b[38;5;241m=\u001b[39m\u001b[38;5;124m'\u001b[39m\u001b[38;5;124m22\u001b[39m\u001b[38;5;124m'\u001b[39m\n\u001b[0;32m      2\u001b[0m str2\u001b[38;5;241m=\u001b[39m\u001b[38;5;124m'\u001b[39m\u001b[38;5;124m44\u001b[39m\u001b[38;5;124m'\u001b[39m\n\u001b[1;32m----> 3\u001b[0m str1\u001b[38;5;241m/\u001b[39mstr2\n",
      "\u001b[1;31mTypeError\u001b[0m: unsupported operand type(s) for /: 'str' and 'str'"
     ]
    }
   ],
   "source": [
    "str1='22'\n",
    "str2='44'\n",
    "str1/str2"
   ]
  },
  {
   "cell_type": "code",
   "execution_count": 57,
   "id": "429ff327",
   "metadata": {},
   "outputs": [
    {
     "name": "stdout",
     "output_type": "stream",
     "text": [
      "Enter the First number22\n",
      "Enter the second number22\n",
      "string cannot be divisible\n"
     ]
    }
   ],
   "source": [
    "num1= input('Enter the First number')\n",
    "num2= input('Enter the second number')\n",
    "try:\n",
    "    div= num1/num2\n",
    "except:\n",
    "    print('string cannot be divisible')"
   ]
  },
  {
   "cell_type": "code",
   "execution_count": 59,
   "id": "54369e84",
   "metadata": {},
   "outputs": [],
   "source": [
    "list1=[1,2,3,4,5]"
   ]
  },
  {
   "cell_type": "code",
   "execution_count": 61,
   "id": "e6d013f0",
   "metadata": {},
   "outputs": [
    {
     "ename": "IndexError",
     "evalue": "list index out of range",
     "output_type": "error",
     "traceback": [
      "\u001b[1;31m---------------------------------------------------------------------------\u001b[0m",
      "\u001b[1;31mIndexError\u001b[0m                                Traceback (most recent call last)",
      "Cell \u001b[1;32mIn[61], line 1\u001b[0m\n\u001b[1;32m----> 1\u001b[0m list1[\u001b[38;5;241m5\u001b[39m]\n",
      "\u001b[1;31mIndexError\u001b[0m: list index out of range"
     ]
    }
   ],
   "source": [
    "list1[5]"
   ]
  },
  {
   "cell_type": "code",
   "execution_count": 64,
   "id": "52f8aeca",
   "metadata": {},
   "outputs": [
    {
     "name": "stdout",
     "output_type": "stream",
     "text": [
      "index out of range\n"
     ]
    }
   ],
   "source": [
    "try:\n",
    "    even_num=[1,2,3,4]\n",
    "    var=even_num[5]\n",
    "    print(var)\n",
    "except:\n",
    "    print('index out of range')"
   ]
  },
  {
   "cell_type": "code",
   "execution_count": null,
   "id": "1c8b9e37",
   "metadata": {},
   "outputs": [],
   "source": []
  }
 ],
 "metadata": {
  "kernelspec": {
   "display_name": "Python 3 (ipykernel)",
   "language": "python",
   "name": "python3"
  },
  "language_info": {
   "codemirror_mode": {
    "name": "ipython",
    "version": 3
   },
   "file_extension": ".py",
   "mimetype": "text/x-python",
   "name": "python",
   "nbconvert_exporter": "python",
   "pygments_lexer": "ipython3",
   "version": "3.11.5"
  }
 },
 "nbformat": 4,
 "nbformat_minor": 5
}
