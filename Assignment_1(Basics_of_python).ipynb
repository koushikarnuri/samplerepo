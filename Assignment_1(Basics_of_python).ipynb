{
  "nbformat": 4,
  "nbformat_minor": 0,
  "metadata": {
    "colab": {
      "provenance": []
    },
    "kernelspec": {
      "name": "python3",
      "display_name": "Python 3"
    },
    "language_info": {
      "name": "python"
    }
  },
  "cells": [
    {
      "cell_type": "code",
      "source": [
        "##### Ex-1 Checking The Number is Prime or Not\n",
        "import numpy as np\n",
        "num = int(input(\"Enter a number: \"))\n",
        "if num > 1:\n",
        "    for k in range(2, num):\n",
        "        if (num % k) == 0:\n",
        "            print(num, \"is not a prime number\")\n",
        "            break\n",
        "    else:\n",
        "        print(num, \"is a prime number\")"
      ],
      "metadata": {
        "colab": {
          "base_uri": "https://localhost:8080/"
        },
        "id": "-1xMZLkKqiRd",
        "outputId": "9273317a-a015-4a27-b4d2-33105f25a5cd"
      },
      "execution_count": 6,
      "outputs": [
        {
          "output_type": "stream",
          "name": "stdout",
          "text": [
            "Enter a number: 5\n",
            "5 is a prime number\n"
          ]
        }
      ]
    },
    {
      "cell_type": "code",
      "source": [
        "##### Ex-2  Product Of Random Numbers\n",
        "import random\n",
        "def math_quiz():\n",
        "    n1 = random.randint(1, 30)\n",
        "    n2 = random.randint(1, 30)\n",
        "    print(f\"What is the product of {n1} and {n2}?\")\n",
        "    user_answer = input(\"Enter your answer: \")\n",
        "    try:\n",
        "        if int(user_answer) == n1*n2:\n",
        "            print(\"it's Correct!\")\n",
        "        else:\n",
        "            print(f\"Sorry, the correct answer is {n1 * n2}.\")\n",
        "    except ValueError:\n",
        "        print(\"Invalid input. Please enter a number.\")\n",
        "math_quiz()"
      ],
      "metadata": {
        "colab": {
          "base_uri": "https://localhost:8080/"
        },
        "id": "ht8MRNNVrNin",
        "outputId": "5e5d63df-d2ee-43b8-f837-78d19a7acaa3"
      },
      "execution_count": 21,
      "outputs": [
        {
          "output_type": "stream",
          "name": "stdout",
          "text": [
            "What is the product of 6 and 29?\n",
            "Enter your answer: 250\n",
            "Sorry, the correct answer is 174.\n"
          ]
        }
      ]
    },
    {
      "cell_type": "code",
      "source": [
        "###### Ex-3 Squares of Even/Odd Numbers\n",
        "\n",
        "# I'm working with ODD numbers.\n",
        "\n",
        "for i in range(100, 201):\n",
        "    if i%2!= 0:\n",
        "        square=i**2\n",
        "        print(f\"{i}^2={square}\")"
      ],
      "metadata": {
        "colab": {
          "base_uri": "https://localhost:8080/"
        },
        "id": "jFl5Huf9u3_G",
        "outputId": "b3ec81b4-dec3-43cf-920b-730ef303bda6"
      },
      "execution_count": 27,
      "outputs": [
        {
          "output_type": "stream",
          "name": "stdout",
          "text": [
            "101^2=10201\n",
            "103^2=10609\n",
            "105^2=11025\n",
            "107^2=11449\n",
            "109^2=11881\n",
            "111^2=12321\n",
            "113^2=12769\n",
            "115^2=13225\n",
            "117^2=13689\n",
            "119^2=14161\n",
            "121^2=14641\n",
            "123^2=15129\n",
            "125^2=15625\n",
            "127^2=16129\n",
            "129^2=16641\n",
            "131^2=17161\n",
            "133^2=17689\n",
            "135^2=18225\n",
            "137^2=18769\n",
            "139^2=19321\n",
            "141^2=19881\n",
            "143^2=20449\n",
            "145^2=21025\n",
            "147^2=21609\n",
            "149^2=22201\n",
            "151^2=22801\n",
            "153^2=23409\n",
            "155^2=24025\n",
            "157^2=24649\n",
            "159^2=25281\n",
            "161^2=25921\n",
            "163^2=26569\n",
            "165^2=27225\n",
            "167^2=27889\n",
            "169^2=28561\n",
            "171^2=29241\n",
            "173^2=29929\n",
            "175^2=30625\n",
            "177^2=31329\n",
            "179^2=32041\n",
            "181^2=32761\n",
            "183^2=33489\n",
            "185^2=34225\n",
            "187^2=34969\n",
            "189^2=35721\n",
            "191^2=36481\n",
            "193^2=37249\n",
            "195^2=38025\n",
            "197^2=38809\n",
            "199^2=39601\n"
          ]
        }
      ]
    },
    {
      "cell_type": "code",
      "source": [
        "##### Ex-4 Hospital Billing System\n",
        "\n",
        "ROOM_CHARGE_PER_DAY=2000\n",
        "DOCTOR_FEE=1500\n",
        "LAB_TEST_COST=300\n",
        "DISCOUNT_THRESHOLD=10000\n",
        "DISCOUNT_RATE=0.10\n",
        "days_stayed=4\n",
        "num_lab_tests=3\n",
        "medicine_cost=2400\n",
        "room_charges=ROOM_CHARGE_PER_DAY*days_stayed\n",
        "lab_charges=LAB_TEST_COST*num_lab_tests\n",
        "doctor_fee=DOCTOR_FEE\n",
        "total_before_discount=room_charges+doctor_fee+lab_charges+medicine_cost\n",
        "if total_before_discount>DISCOUNT_THRESHOLD:\n",
        "    discount=total_before_discount*DISCOUNT_RATE\n",
        "else:\n",
        "    discount=0\n",
        "final_bill=total_before_discount-discount\n",
        "print(\"--Hospital Bill--\")\n",
        "print(f\"Room Charges(₹2000x{days_stayed}):₹{room_charges}\")\n",
        "print(f\"Doctor Consultation Fee:₹{doctor_fee}\")\n",
        "print(f\"Lab Test Charges(₹300x{num_lab_tests}):₹{lab_charges}\")\n",
        "print(f\"Medicine Charges:₹{medicine_cost}\")\n",
        "print(f\"Total Before Discount:₹{total_before_discount}\")\n",
        "print(f\"Discount Applied:₹{discount}\")\n",
        "print(f\"Final Bill Amount:₹{final_bill}\")"
      ],
      "metadata": {
        "colab": {
          "base_uri": "https://localhost:8080/"
        },
        "id": "h5gOFUC0zq6R",
        "outputId": "af50a3e4-2cce-4a7f-a31a-ebd25488a1cb"
      },
      "execution_count": 31,
      "outputs": [
        {
          "output_type": "stream",
          "name": "stdout",
          "text": [
            "--Hospital Bill--\n",
            "Room Charges(₹2000x4):₹8000\n",
            "Doctor Consultation Fee:₹1500\n",
            "Lab Test Charges(₹300x3):₹900\n",
            "Medicine Charges:₹2400\n",
            "Total Before Discount:₹12800\n",
            "Discount Applied:₹1280.0\n",
            "Final Bill Amount:₹11520.0\n"
          ]
        }
      ]
    },
    {
      "cell_type": "code",
      "source": [],
      "metadata": {
        "id": "pteydKIP5OHL"
      },
      "execution_count": null,
      "outputs": []
    }
  ]
}