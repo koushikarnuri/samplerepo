{
  "nbformat": 4,
  "nbformat_minor": 0,
  "metadata": {
    "colab": {
      "provenance": []
    },
    "kernelspec": {
      "name": "python3",
      "display_name": "Python 3"
    },
    "language_info": {
      "name": "python"
    }
  },
  "cells": [
    {
      "cell_type": "markdown",
      "source": [
        "### **Data Types**"
      ],
      "metadata": {
        "id": "9Kdp4ZfzwrGY"
      }
    },
    {
      "cell_type": "code",
      "execution_count": null,
      "metadata": {
        "colab": {
          "base_uri": "https://localhost:8080/"
        },
        "id": "XUaEpYBlwkeC",
        "outputId": "05011e45-0393-4967-ba84-3ac15ef029e8"
      },
      "outputs": [
        {
          "output_type": "stream",
          "name": "stdout",
          "text": [
            "12\n",
            "<class 'int'>\n",
            "12.34\n",
            "<class 'float'>\n",
            "Python\n",
            "<class 'str'>\n",
            "False\n",
            "<class 'bool'>\n",
            "(12+7j)\n",
            "<class 'complex'>\n"
          ]
        }
      ],
      "source": [
        "a=12\n",
        "print(a)\n",
        "print(type(a))\n",
        "\n",
        "b=12.34\n",
        "print(b)\n",
        "print(type(b))\n",
        "\n",
        "c=\"Python\"\n",
        "print(c)\n",
        "print(type(c))\n",
        "\n",
        "d=False\n",
        "print(d)\n",
        "print(type(d))\n",
        "\n",
        "e=12+7j\n",
        "print(e)\n",
        "print(type(e))"
      ]
    },
    {
      "cell_type": "code",
      "source": [
        "a = 12\n",
        "print(a)\n",
        "type(a)"
      ],
      "metadata": {
        "colab": {
          "base_uri": "https://localhost:8080/"
        },
        "id": "oREz93TZSUoI",
        "outputId": "65d6fc8b-de91-4bf1-8f79-af22ad36ce66"
      },
      "execution_count": null,
      "outputs": [
        {
          "output_type": "stream",
          "name": "stdout",
          "text": [
            "12\n"
          ]
        },
        {
          "output_type": "execute_result",
          "data": {
            "text/plain": [
              "int"
            ]
          },
          "metadata": {},
          "execution_count": 7
        }
      ]
    },
    {
      "cell_type": "code",
      "source": [],
      "metadata": {
        "id": "aqnXN-P8NQsT"
      },
      "execution_count": null,
      "outputs": []
    },
    {
      "cell_type": "markdown",
      "source": [
        "### **Operators**\n",
        "\n",
        "*   Symbols used to perform sort of operations\n",
        "*   Arithmetic Operator"
      ],
      "metadata": {
        "id": "UHWpnbhNxCMo"
      }
    },
    {
      "cell_type": "code",
      "source": [
        "num1=13\n",
        "num2=2\n",
        "print(\"addition \",num1+num2)\n",
        "print(\"subtraction \",num1-num2)\n",
        "print(\"multiplication \",num1*num2)\n",
        "print(\"division \",num1/num2)\n",
        "print(\"Remainder modulu\",num1%num2)\n",
        "print(\"Exponent \",num1**num2)\n",
        "print(\"Floor division \",num1//num2)"
      ],
      "metadata": {
        "colab": {
          "base_uri": "https://localhost:8080/"
        },
        "id": "OezWSKvKxXoI",
        "outputId": "f6115b84-5f5e-4c2f-e7e8-ef4d8e928c44"
      },
      "execution_count": null,
      "outputs": [
        {
          "output_type": "stream",
          "name": "stdout",
          "text": [
            "addition  15\n",
            "subtraction  11\n",
            "multiplication  26\n",
            "division  6.5\n",
            "Remainder modulu 1\n",
            "Exponent  169\n",
            "Floor division  6\n"
          ]
        }
      ]
    },
    {
      "cell_type": "markdown",
      "source": [
        "### **Comparison Operator**"
      ],
      "metadata": {
        "id": "ltWPGI-FxiC-"
      }
    },
    {
      "cell_type": "code",
      "source": [
        "a=34\n",
        "b=30\n",
        "print(\"Equal : \",a==b)\n",
        "print(\"Not Equal : \",a!=b)\n",
        "print(\"Greater  : \",a>b)\n",
        "print(\"Lesser : \",a<b)\n",
        "print(\"Greater or equal : \",a>=b)\n",
        "print(\"Lesser or equal : \",a<=b)"
      ],
      "metadata": {
        "colab": {
          "base_uri": "https://localhost:8080/"
        },
        "id": "ajuQs2qFxk0_",
        "outputId": "638d60f0-c7d3-4da8-cfd8-cf1434b3bf1f"
      },
      "execution_count": null,
      "outputs": [
        {
          "output_type": "stream",
          "name": "stdout",
          "text": [
            "Equal :  False\n",
            "Not Equal :  True\n",
            "Greater  :  True\n",
            "Lesser :  False\n",
            "Greater or equal :  True\n",
            "Lesser or equal :  False\n"
          ]
        }
      ]
    },
    {
      "cell_type": "code",
      "source": [
        "a>b"
      ],
      "metadata": {
        "colab": {
          "base_uri": "https://localhost:8080/"
        },
        "id": "xDkcB_-paegP",
        "outputId": "00bc2531-9716-4a4a-e247-de2ff6af5447"
      },
      "execution_count": null,
      "outputs": [
        {
          "output_type": "execute_result",
          "data": {
            "text/plain": [
              "True"
            ]
          },
          "metadata": {},
          "execution_count": 10
        }
      ]
    },
    {
      "cell_type": "code",
      "source": [
        "name=\"Anajli\"\n",
        "age = 34\n",
        "location = \"Maharashtra\"\n",
        "print(\"Student name is:\",name,\"age is \",age,\"location is \",location)\n",
        "print(f\"Stundent name is {name} age is {age} location is {location}\")"
      ],
      "metadata": {
        "colab": {
          "base_uri": "https://localhost:8080/"
        },
        "id": "XCN8WQBtx52f",
        "outputId": "6e584b36-b7e6-4f90-fc9a-9f0d02a1cd70"
      },
      "execution_count": null,
      "outputs": [
        {
          "output_type": "stream",
          "name": "stdout",
          "text": [
            "Student name is: Anajli age is  34 location is  Maharashtra\n",
            "Stundent name is Anajli age is 34 location is Maharashtra\n"
          ]
        }
      ]
    },
    {
      "cell_type": "markdown",
      "source": [
        "### **Logical Operator**\n",
        "\n",
        "\n",
        "*   and: both or all the condition must be true\n",
        "*   or : at least one condition must be true\n",
        "*   not : wise-versa true--->false, false --- > true\n",
        "\n",
        "\n",
        "\n"
      ],
      "metadata": {
        "id": "_g400QgIx2X3"
      }
    },
    {
      "cell_type": "code",
      "source": [
        "cond1=False\n",
        "cond2=False\n",
        "cond3=True\n",
        "print(\"AND\")\n",
        "print(cond1 and cond2 and cond3)\n",
        "\n",
        "print(\"OR\")\n",
        "print(cond1 or cond2 or cond3)\n",
        "\n",
        "\n",
        "print(\"NOT\")\n",
        "print(not cond2)\n",
        "print(not (cond1 and cond2 and cond3))"
      ],
      "metadata": {
        "colab": {
          "base_uri": "https://localhost:8080/"
        },
        "id": "3cu-MXOQx1zP",
        "outputId": "4fca4696-fd2d-4948-98db-8004b13317f0"
      },
      "execution_count": null,
      "outputs": [
        {
          "output_type": "stream",
          "name": "stdout",
          "text": [
            "AND\n",
            "False\n",
            "OR\n",
            "True\n",
            "NOT\n",
            "True\n",
            "True\n"
          ]
        }
      ]
    },
    {
      "cell_type": "code",
      "source": [],
      "metadata": {
        "id": "hDq_NcfiQBJU"
      },
      "execution_count": null,
      "outputs": []
    },
    {
      "cell_type": "markdown",
      "source": [
        "### **Assignment Operator**"
      ],
      "metadata": {
        "id": "EPJqs8zByi0I"
      }
    },
    {
      "cell_type": "code",
      "source": [
        "a=12\n",
        "b=2\n",
        "a=a+b\n",
        "print(a)"
      ],
      "metadata": {
        "colab": {
          "base_uri": "https://localhost:8080/"
        },
        "id": "nYaJH2uHyl0g",
        "outputId": "9c6f4c33-d7cb-4770-dcd2-949fb1f5275c"
      },
      "execution_count": null,
      "outputs": [
        {
          "output_type": "stream",
          "name": "stdout",
          "text": [
            "14\n"
          ]
        }
      ]
    },
    {
      "cell_type": "code",
      "source": [
        "a=12\n",
        "a*=6 # OR a = a * 6\n",
        "print(a)"
      ],
      "metadata": {
        "colab": {
          "base_uri": "https://localhost:8080/"
        },
        "id": "c1ZBjIH4ywlL",
        "outputId": "b3c47213-e80e-41b3-b022-0c2b8b19ceb1"
      },
      "execution_count": null,
      "outputs": [
        {
          "output_type": "stream",
          "name": "stdout",
          "text": [
            "72\n"
          ]
        }
      ]
    },
    {
      "cell_type": "code",
      "source": [
        "a = 12\n",
        "a = a * 6\n",
        "print(a)"
      ],
      "metadata": {
        "colab": {
          "base_uri": "https://localhost:8080/"
        },
        "id": "h1zBOY2BRL3t",
        "outputId": "fd45b7ee-d812-4fed-f44f-5f41d44c64b6"
      },
      "execution_count": null,
      "outputs": [
        {
          "output_type": "stream",
          "name": "stdout",
          "text": [
            "72\n"
          ]
        }
      ]
    },
    {
      "cell_type": "code",
      "source": [
        "a=12\n",
        "b=2\n",
        "a+=b # OR a = a + b\n",
        "print(a)"
      ],
      "metadata": {
        "colab": {
          "base_uri": "https://localhost:8080/"
        },
        "id": "In-vUdbIy2v6",
        "outputId": "7a67bbc1-abae-4bc2-edca-48b5ca216bc6"
      },
      "execution_count": null,
      "outputs": [
        {
          "output_type": "stream",
          "name": "stdout",
          "text": [
            "14\n"
          ]
        }
      ]
    },
    {
      "cell_type": "code",
      "source": [
        "a=12\n",
        "b=34\n",
        "c=56\n",
        "c+=b # OR c = c + b\n",
        "print(c)"
      ],
      "metadata": {
        "colab": {
          "base_uri": "https://localhost:8080/"
        },
        "id": "ZQnpG96FyxOm",
        "outputId": "f6de73a5-93ec-4089-d7cd-e87310d171e7"
      },
      "execution_count": null,
      "outputs": [
        {
          "output_type": "stream",
          "name": "stdout",
          "text": [
            "90\n"
          ]
        }
      ]
    },
    {
      "cell_type": "markdown",
      "source": [
        "### **Membership Operator**\n",
        "\n",
        "\n",
        "*   in : the element must be present\n",
        "*   not in : the element should not be present\n",
        "\n"
      ],
      "metadata": {
        "id": "PzpMufzozbJA"
      }
    },
    {
      "cell_type": "code",
      "source": [
        "data=\"water\"\n",
        "print(\"o\" in data)\n",
        "print(\"o\" not in data)\n",
        "print(\"A\" in data)"
      ],
      "metadata": {
        "colab": {
          "base_uri": "https://localhost:8080/"
        },
        "id": "vVOM4m4_znkI",
        "outputId": "6b274602-a97d-49fc-e7a7-445e23e5b12a"
      },
      "execution_count": null,
      "outputs": [
        {
          "output_type": "stream",
          "name": "stdout",
          "text": [
            "False\n",
            "True\n",
            "True\n"
          ]
        }
      ]
    },
    {
      "cell_type": "markdown",
      "source": [
        "### **Identity Operator**\n",
        "\n",
        "\n",
        "*   is or == : same value\n",
        "*   is not or != : not same value\n",
        "\n"
      ],
      "metadata": {
        "id": "x_kntnxuztXp"
      }
    },
    {
      "cell_type": "code",
      "source": [
        "a=34\n",
        "b=34\n",
        "c=56\n",
        "d=c\n",
        "print(a is b)\n",
        "print(a==b)\n",
        "print(a is not c)\n",
        "print(a!=c)\n",
        "print(c is d)\n",
        "print(c==d)"
      ],
      "metadata": {
        "colab": {
          "base_uri": "https://localhost:8080/"
        },
        "id": "IpKW_XDPzodk",
        "outputId": "316b6aae-c95a-4091-f510-7a7d321c7276",
        "collapsed": true
      },
      "execution_count": null,
      "outputs": [
        {
          "output_type": "stream",
          "name": "stdout",
          "text": [
            "True\n",
            "True\n",
            "True\n",
            "True\n",
            "True\n",
            "True\n"
          ]
        }
      ]
    },
    {
      "cell_type": "code",
      "source": [
        "num = 50\n",
        "num"
      ],
      "metadata": {
        "colab": {
          "base_uri": "https://localhost:8080/"
        },
        "id": "FiY7Q7kP0EpZ",
        "outputId": "4e030dc8-d8f0-4526-a3fd-459c0a16b546"
      },
      "execution_count": null,
      "outputs": [
        {
          "output_type": "execute_result",
          "data": {
            "text/plain": [
              "50"
            ]
          },
          "metadata": {},
          "execution_count": 26
        }
      ]
    },
    {
      "cell_type": "code",
      "source": [
        "# To accept input from user\n",
        "a = input(\"Enter a number: \")"
      ],
      "metadata": {
        "colab": {
          "base_uri": "https://localhost:8080/"
        },
        "id": "z7f0-QWuzM2n",
        "outputId": "01c19790-b1d1-4e21-868c-1b9a6d758e74"
      },
      "execution_count": null,
      "outputs": [
        {
          "name": "stdout",
          "output_type": "stream",
          "text": [
            "Enter a number: 25\n"
          ]
        }
      ]
    },
    {
      "cell_type": "code",
      "source": [
        "a"
      ],
      "metadata": {
        "colab": {
          "base_uri": "https://localhost:8080/",
          "height": 36
        },
        "id": "C6Mz7oxyzlFg",
        "outputId": "3a3fc431-bc63-4852-b2b7-39b91a472fdb"
      },
      "execution_count": null,
      "outputs": [
        {
          "output_type": "execute_result",
          "data": {
            "text/plain": [
              "'25'"
            ],
            "application/vnd.google.colaboratory.intrinsic+json": {
              "type": "string"
            }
          },
          "metadata": {},
          "execution_count": 24
        }
      ]
    },
    {
      "cell_type": "code",
      "source": [
        "type(a)"
      ],
      "metadata": {
        "colab": {
          "base_uri": "https://localhost:8080/"
        },
        "id": "iYSULzPDe-Wt",
        "outputId": "0e299728-0baa-4d68-8a4f-de30eb2eb2bc"
      },
      "execution_count": null,
      "outputs": [
        {
          "output_type": "execute_result",
          "data": {
            "text/plain": [
              "str"
            ]
          },
          "metadata": {},
          "execution_count": 25
        }
      ]
    },
    {
      "cell_type": "code",
      "source": [
        "a + 50"
      ],
      "metadata": {
        "colab": {
          "base_uri": "https://localhost:8080/",
          "height": 141
        },
        "id": "DixqtnMLztwR",
        "outputId": "0ad38ca5-7860-4fc8-dd5d-2840ed7cbd7c"
      },
      "execution_count": null,
      "outputs": [
        {
          "output_type": "error",
          "ename": "TypeError",
          "evalue": "can only concatenate str (not \"int\") to str",
          "traceback": [
            "\u001b[0;31m---------------------------------------------------------------------------\u001b[0m",
            "\u001b[0;31mTypeError\u001b[0m                                 Traceback (most recent call last)",
            "\u001b[0;32m/tmp/ipython-input-3996674741.py\u001b[0m in \u001b[0;36m<cell line: 0>\u001b[0;34m()\u001b[0m\n\u001b[0;32m----> 1\u001b[0;31m \u001b[0ma\u001b[0m \u001b[0;34m+\u001b[0m \u001b[0;36m50\u001b[0m\u001b[0;34m\u001b[0m\u001b[0;34m\u001b[0m\u001b[0m\n\u001b[0m",
            "\u001b[0;31mTypeError\u001b[0m: can only concatenate str (not \"int\") to str"
          ]
        }
      ]
    },
    {
      "cell_type": "code",
      "source": [
        "num1 = int(input(\"Enter your marks: \"))"
      ],
      "metadata": {
        "colab": {
          "base_uri": "https://localhost:8080/"
        },
        "id": "OMKPqgQ40YeW",
        "outputId": "d0853d99-8556-4bcb-e4aa-4a52796fd84b"
      },
      "execution_count": null,
      "outputs": [
        {
          "name": "stdout",
          "output_type": "stream",
          "text": [
            "Enter your marks: 75\n"
          ]
        }
      ]
    },
    {
      "cell_type": "code",
      "source": [
        "num1"
      ],
      "metadata": {
        "colab": {
          "base_uri": "https://localhost:8080/"
        },
        "id": "T-jUgo-r0fQm",
        "outputId": "5b5fa014-7d9e-4068-9479-6e6649e75579"
      },
      "execution_count": null,
      "outputs": [
        {
          "output_type": "execute_result",
          "data": {
            "text/plain": [
              "75"
            ]
          },
          "metadata": {},
          "execution_count": 28
        }
      ]
    },
    {
      "cell_type": "code",
      "source": [
        "num1 + 10"
      ],
      "metadata": {
        "colab": {
          "base_uri": "https://localhost:8080/"
        },
        "id": "9aZvK0ul0laf",
        "outputId": "3c2557a3-f140-431e-fb3c-5b2195457635"
      },
      "execution_count": null,
      "outputs": [
        {
          "output_type": "execute_result",
          "data": {
            "text/plain": [
              "85"
            ]
          },
          "metadata": {},
          "execution_count": 29
        }
      ]
    },
    {
      "cell_type": "code",
      "source": [
        "name = input(\"Enter your name: \")\n"
      ],
      "metadata": {
        "colab": {
          "base_uri": "https://localhost:8080/"
        },
        "id": "rYliq_00fph4",
        "outputId": "92e35d00-b413-484e-f87b-589e7e496ba0"
      },
      "execution_count": null,
      "outputs": [
        {
          "name": "stdout",
          "output_type": "stream",
          "text": [
            "Enter your name: Snehal\n"
          ]
        }
      ]
    },
    {
      "cell_type": "code",
      "source": [
        "name"
      ],
      "metadata": {
        "colab": {
          "base_uri": "https://localhost:8080/",
          "height": 36
        },
        "id": "ZwMwWqGef4VL",
        "outputId": "6fe3708a-e644-4dcd-8ca2-d4daec6728a6"
      },
      "execution_count": null,
      "outputs": [
        {
          "output_type": "execute_result",
          "data": {
            "text/plain": [
              "'Snehal'"
            ],
            "application/vnd.google.colaboratory.intrinsic+json": {
              "type": "string"
            }
          },
          "metadata": {},
          "execution_count": 32
        }
      ]
    },
    {
      "cell_type": "code",
      "source": [
        "a=int(input(\"Enter 1st value \"))\n",
        "b=int(input(\"Enter 2nd value \"))\n",
        "print(type(a))\n",
        "print(type(b))\n",
        "print(a+b)"
      ],
      "metadata": {
        "colab": {
          "base_uri": "https://localhost:8080/"
        },
        "id": "Vrzuo4Mn8-Ei",
        "outputId": "63224e1c-10fc-4e59-eb77-132c28bd3803"
      },
      "execution_count": null,
      "outputs": [
        {
          "output_type": "stream",
          "name": "stdout",
          "text": [
            "Enter 1st value 10\n",
            "Enter 2nd value 30\n",
            "<class 'int'>\n",
            "<class 'int'>\n",
            "40\n"
          ]
        }
      ]
    },
    {
      "cell_type": "markdown",
      "source": [
        "### **Conditional Statement**\n",
        "\n",
        "\n",
        "*   take the input from user at run time of your code : input()\n",
        "*   takes the value by default in the string format\n",
        "\n"
      ],
      "metadata": {
        "id": "bKUcYQ0A8xNC"
      }
    },
    {
      "cell_type": "markdown",
      "source": [
        "### **if**\n",
        "\n",
        "\n",
        "*   whether the number is positive or negative\n",
        "\n"
      ],
      "metadata": {
        "id": "8o2RadZ59H6I"
      }
    },
    {
      "cell_type": "code",
      "source": [
        "a=int(input(\"Enter a value\"))\n",
        "if a>0:\n",
        "    print(\"Positive Number\")\n",
        "print(\"Thank you\")"
      ],
      "metadata": {
        "colab": {
          "base_uri": "https://localhost:8080/"
        },
        "id": "S-SXXqJW9Bkj",
        "outputId": "da50b73a-6e28-4ed7-9e39-fed1bae2c1f1"
      },
      "execution_count": null,
      "outputs": [
        {
          "output_type": "stream",
          "name": "stdout",
          "text": [
            "Enter a value-8\n",
            "thank you\n"
          ]
        }
      ]
    },
    {
      "cell_type": "markdown",
      "source": [
        "### **if...else Statement**"
      ],
      "metadata": {
        "id": "klqf-_S49Teo"
      }
    },
    {
      "cell_type": "code",
      "source": [
        "a=int(input(\"Enter a value\"))\n",
        "if a>0:\n",
        "    print(\"Positive Number\")\n",
        "else:\n",
        "    print(\"Negative Number\")\n",
        "print(\"thank you\")"
      ],
      "metadata": {
        "colab": {
          "base_uri": "https://localhost:8080/"
        },
        "id": "H6cJkB6A9QRD",
        "outputId": "f3bcbaa1-fb49-422f-f1ab-ae36f4bc46fe"
      },
      "execution_count": null,
      "outputs": [
        {
          "output_type": "stream",
          "name": "stdout",
          "text": [
            "Enter a value-6\n",
            "Negative Number\n",
            "Hi\n",
            "thank you\n"
          ]
        }
      ]
    },
    {
      "cell_type": "markdown",
      "source": [
        "### **WAP to check the number is even or odd**"
      ],
      "metadata": {
        "id": "cNvT2dda9ce4"
      }
    },
    {
      "cell_type": "code",
      "source": [
        "a=int(input(\"Enter a value\"))\n",
        "if a%2==0:\n",
        "    print(\"Even number\")\n",
        "else:\n",
        "    print(\"odd number\")\n",
        "print(\"Thank you\")"
      ],
      "metadata": {
        "colab": {
          "base_uri": "https://localhost:8080/"
        },
        "id": "slwRE8Zb9XVp",
        "outputId": "77b56fe4-0597-4c00-9234-dbee0b99291f"
      },
      "execution_count": null,
      "outputs": [
        {
          "output_type": "stream",
          "name": "stdout",
          "text": [
            "Enter a value21\n",
            "odd number\n",
            "Thank you\n"
          ]
        }
      ]
    },
    {
      "cell_type": "markdown",
      "source": [
        "### **if .... elif ... else**\n",
        "\n",
        "*   if want to check multiple condition\n",
        "\n"
      ],
      "metadata": {
        "id": "UYb7actWh2dl"
      }
    },
    {
      "cell_type": "code",
      "source": [
        "num=int(input(\"Enter either 10,20 or 30 \"))\n",
        "if num==10:\n",
        "    print(\"TEN\")\n",
        "elif num==20:\n",
        "    print(\"TWENTY\")\n",
        "elif num==30:\n",
        "    print(\"THIRTY\")\n",
        "else:\n",
        "    print(\"INVALID CHOICE\")"
      ],
      "metadata": {
        "colab": {
          "base_uri": "https://localhost:8080/"
        },
        "id": "nTMRRoWVh3Kd",
        "outputId": "df0040eb-1e32-488e-ada4-e1175eee9464"
      },
      "execution_count": null,
      "outputs": [
        {
          "output_type": "stream",
          "name": "stdout",
          "text": [
            "Enter either 10,20 or 30 10\n",
            "TEN\n"
          ]
        }
      ]
    },
    {
      "cell_type": "code",
      "source": [
        "num1 = int(input(\"Enter a value \"))\n",
        "if num1 > 0:\n",
        "  print(\"Positive\")\n",
        "elif num1 < 0:\n",
        "  print(\"Negative\")\n",
        "else:\n",
        "  print(\"It's Zero\")\n",
        "print(\"Thank you\")"
      ],
      "metadata": {
        "colab": {
          "base_uri": "https://localhost:8080/"
        },
        "id": "iMbJ660H6PqU",
        "outputId": "bad8156a-572f-483c-ca09-6a562cd10bb4"
      },
      "execution_count": null,
      "outputs": [
        {
          "output_type": "stream",
          "name": "stdout",
          "text": [
            "Enter a value 0\n",
            "It's Zero\n",
            "Thank you\n"
          ]
        }
      ]
    },
    {
      "cell_type": "markdown",
      "source": [
        "### **accept the city name from user and print the monumnent**\n",
        "\n",
        "*   agra = tajmahal , delhi = red fort , mumbai = gateway of india\n",
        "\n"
      ],
      "metadata": {
        "id": "skYt-0zgiNp2"
      }
    },
    {
      "cell_type": "code",
      "source": [
        "city=input(\"Enter a city either agra , delhi ,mumbai\").lower()\n",
        "print(city)\n",
        "if city==\"delhi\":\n",
        "    print(\"Red Fort\")\n",
        "elif city==\"agra\":\n",
        "    print(\"Taj Mahal\")\n",
        "elif city==\"mumbai\":\n",
        "    print(\"Gateway of India\")\n",
        "else:\n",
        "    print(\"Wrong Choice\")"
      ],
      "metadata": {
        "colab": {
          "base_uri": "https://localhost:8080/"
        },
        "id": "dUPCsffkiyK1",
        "outputId": "14432f41-ce74-4029-e270-3d18eacb9f71"
      },
      "execution_count": null,
      "outputs": [
        {
          "output_type": "stream",
          "name": "stdout",
          "text": [
            "Enter a city either agra , delhi ,mumbaiagra\n",
            "agra\n",
            "Taj Mahal\n"
          ]
        }
      ]
    },
    {
      "cell_type": "markdown",
      "source": [
        "### **WAP to find the largest number from the user enter three value using if elif statement**"
      ],
      "metadata": {
        "id": "mTZ-cjZOmteR"
      }
    },
    {
      "cell_type": "code",
      "source": [
        "num1=int(input(\"Enter a Value \"))\n",
        "num2=int(input(\"Enter a Value \"))\n",
        "num3=int(input(\"Enter a Value \"))\n",
        "print(\"Maximum number is \",max(num1,num2,num3))\n"
      ],
      "metadata": {
        "colab": {
          "base_uri": "https://localhost:8080/"
        },
        "id": "T0BUzrLyi4S4",
        "outputId": "a1d3e763-f46e-4a39-b89f-30ab8192801c"
      },
      "execution_count": null,
      "outputs": [
        {
          "output_type": "stream",
          "name": "stdout",
          "text": [
            "Enter a Value 36\n",
            "Enter a Value 52\n",
            "Enter a Value 41\n",
            "Maximum number is  52\n"
          ]
        }
      ]
    },
    {
      "cell_type": "markdown",
      "source": [
        "### **nested if**"
      ],
      "metadata": {
        "id": "VSIVkk7l6gEl"
      }
    },
    {
      "cell_type": "code",
      "source": [
        "num=int(input(\"Enter a value \"))\n",
        "if num>500:\n",
        "  print(\"Entered Value is greater than 500\")\n",
        "  print(\"Check for the number is 600 , 650 , 700\")\n",
        "  if num==600:\n",
        "    print(\"Number is 600\")\n",
        "  elif num==650:\n",
        "    print(\"Number is 650\")\n",
        "  elif num==700:\n",
        "    print(\"Number is 700\")\n",
        "  else: print(\"unknown\")\n",
        "else:\n",
        "  print(\"Entered Value is not greater than 500\")"
      ],
      "metadata": {
        "colab": {
          "base_uri": "https://localhost:8080/"
        },
        "id": "ZMDWyI_H6lXj",
        "outputId": "45a2faa3-ea6a-461f-d216-40a26be7287b"
      },
      "execution_count": null,
      "outputs": [
        {
          "output_type": "stream",
          "name": "stdout",
          "text": [
            "Enter a value 400\n",
            "Entered Value is not greater than 500\n"
          ]
        }
      ]
    },
    {
      "cell_type": "markdown",
      "source": [
        "### **WAP user enter a number identify whether it is a positive ,negative , zero**"
      ],
      "metadata": {
        "id": "kuvCma4Z8Ufr"
      }
    },
    {
      "cell_type": "code",
      "source": [
        "a=int(input(\"Enter an integer\"))\n",
        "if a>0:\n",
        "    print(a,\"is positive number\")\n",
        "elif a<0:\n",
        "    print(a,\"is negative number\")\n",
        "else:\n",
        "    print(\"you have entered\",a,\"value\")"
      ],
      "metadata": {
        "colab": {
          "base_uri": "https://localhost:8080/"
        },
        "id": "MLQsR9td-luy",
        "outputId": "96766140-fb6e-4538-e8b2-9c58e758b599"
      },
      "execution_count": null,
      "outputs": [
        {
          "output_type": "stream",
          "name": "stdout",
          "text": [
            "Enter an integer0\n",
            "you have entered 0 value\n"
          ]
        }
      ]
    },
    {
      "cell_type": "code",
      "source": [
        "a=int(input(\"Enter an integer\"))\n",
        "if a>=0:\n",
        "    if a==0:#13==0 #false\n",
        "        print(\"you have entered\",a,\"value\")\n",
        "    else:\n",
        "        print(a,\"is positive number\")\n",
        "else:\n",
        "    print(\"Negative value \",a)"
      ],
      "metadata": {
        "colab": {
          "base_uri": "https://localhost:8080/"
        },
        "id": "vwV4Tnd3-p-R",
        "outputId": "43950d36-f929-4e1b-b3c0-f46e7d20798c"
      },
      "execution_count": null,
      "outputs": [
        {
          "output_type": "stream",
          "name": "stdout",
          "text": [
            "Enter an integer-13\n",
            "Negative value  -13\n"
          ]
        }
      ]
    },
    {
      "cell_type": "markdown",
      "source": [
        "**take a input from the user number**\n",
        "1. divisible by 2 only 16\n",
        "2. divisible by 3 only 15\n",
        "3. divisible by 2 and 3 only 18\n",
        "4. not divisible by 2 and 3 only 19"
      ],
      "metadata": {
        "id": "SLSZrD1F_lGX"
      }
    },
    {
      "cell_type": "code",
      "source": [
        "a=int(input(\"Enter an integer\"))\n",
        "if a%2==0:\n",
        "    if a%3==0:\n",
        "        print(\"divisible by 2 and 3\")\n",
        "    else:\n",
        "        print(\"divisible by 2 only\")\n",
        "\n",
        "else :\n",
        "    if a%3==0:\n",
        "        print(\"divisible by 3 only\")\n",
        "    else:\n",
        "        print(\"not divisible by 2 and 3\")"
      ],
      "metadata": {
        "colab": {
          "base_uri": "https://localhost:8080/"
        },
        "id": "xVG5pmpk_RSx",
        "outputId": "88389753-238e-48e3-9ccf-1f67f58a53a9"
      },
      "execution_count": null,
      "outputs": [
        {
          "output_type": "stream",
          "name": "stdout",
          "text": [
            "Enter an integer14\n",
            "divisible by 2 only\n"
          ]
        }
      ]
    },
    {
      "cell_type": "code",
      "source": [
        "num = int(input(\"Enter a number: \"))\n",
        "\n",
        "if num % 3 == 0 and num % 5 == 0:\n",
        "    print(num, \"is divisible by both 3 and 5\")\n",
        "elif num % 3 == 0:\n",
        "    print(num, \"is divisible only by 3\")\n",
        "elif num % 5 == 0:\n",
        "    print(num, \"is divisible only by 5\")\n",
        "else:\n",
        "    print(num, \"is not divisible by either 3 or 5\")"
      ],
      "metadata": {
        "id": "9Tx_CDn_c0Ii"
      },
      "execution_count": null,
      "outputs": []
    },
    {
      "cell_type": "markdown",
      "source": [
        "### **Looping Statement**\n",
        "while loop -\n",
        "wap to print 1 till 10"
      ],
      "metadata": {
        "id": "g6cX9kWj__rG"
      }
    },
    {
      "cell_type": "code",
      "source": [
        "i=1\n",
        "while i<6:\n",
        "    print(i)\n",
        "    i+=1 # or i=i+1\n",
        "print(\"Thank you\")"
      ],
      "metadata": {
        "colab": {
          "base_uri": "https://localhost:8080/"
        },
        "id": "sw1pac4l_t3D",
        "outputId": "b85563b8-7058-43e2-a0a3-6f903a056ed6"
      },
      "execution_count": null,
      "outputs": [
        {
          "output_type": "stream",
          "name": "stdout",
          "text": [
            "1\n",
            "2\n",
            "3\n",
            "4\n",
            "5\n",
            "Thank you\n"
          ]
        }
      ]
    },
    {
      "cell_type": "code",
      "source": [
        "i=5\n",
        "while i>0:\n",
        "    print(i)\n",
        "    i-=1 # or i=i-1\n",
        "print(\"Thank you\")"
      ],
      "metadata": {
        "colab": {
          "base_uri": "https://localhost:8080/"
        },
        "id": "pUBpBAUnAXLo",
        "outputId": "8aaab75a-881c-4c58-d4a0-6f4753b47109"
      },
      "execution_count": null,
      "outputs": [
        {
          "output_type": "stream",
          "name": "stdout",
          "text": [
            "5\n",
            "4\n",
            "3\n",
            "2\n",
            "1\n",
            "Thank you\n"
          ]
        }
      ]
    },
    {
      "cell_type": "markdown",
      "source": [
        "**WAP take input from user and print the table**\n",
        "*   2 * 1 =2\n",
        "*   2* 2 =4\n",
        "\n"
      ],
      "metadata": {
        "id": "19IqrVAbAx10"
      }
    },
    {
      "cell_type": "code",
      "source": [
        "# eg. Print a table of 7 from 5 to 8. i.e.7*5, 7*6, 7*7, 7*8\n",
        "a=int(input(\"Enter a number for print the table\"))\n",
        "i=int(input(\"Enter an number for starting the table\"))#80\n",
        "j=int(input(\"Enter an number for ending the table\"))#10\n",
        "while i<=j:\n",
        "    print(a,' X ',i, ' = ',a*i)\n",
        "    #print(f\"{a} * {i} = {a * i}\")#25<12\n",
        "    i+=1\n",
        "print(\"Thank you\")"
      ],
      "metadata": {
        "colab": {
          "base_uri": "https://localhost:8080/"
        },
        "id": "i-N1xXooArWP",
        "outputId": "4f959f6c-34e7-4d52-d65e-41edff89baae"
      },
      "execution_count": null,
      "outputs": [
        {
          "output_type": "stream",
          "name": "stdout",
          "text": [
            "Enter a number for print the table5\n",
            "Enter an number for starting the table3\n",
            "Enter an number for ending the table6\n",
            "5  X  3  =  15\n",
            "5  X  4  =  20\n",
            "5  X  5  =  25\n",
            "5  X  6  =  30\n",
            "Thank you\n"
          ]
        }
      ]
    },
    {
      "cell_type": "code",
      "source": [
        "n = int(input(\"Enter a number \"))\n",
        "i = 1\n",
        "while i<11:\n",
        "  print(n,' X ',i,' = ',n*i)\n",
        "  i=i+1"
      ],
      "metadata": {
        "colab": {
          "base_uri": "https://localhost:8080/"
        },
        "id": "UJWT4XH_29AU",
        "outputId": "4a3d8770-4bd6-4760-b08b-7bd913326b9e"
      },
      "execution_count": null,
      "outputs": [
        {
          "output_type": "stream",
          "name": "stdout",
          "text": [
            "Enter a number 7\n",
            "7  X  1  =  7\n",
            "7  X  2  =  14\n",
            "7  X  3  =  21\n",
            "7  X  4  =  28\n",
            "7  X  5  =  35\n",
            "7  X  6  =  42\n",
            "7  X  7  =  49\n",
            "7  X  8  =  56\n",
            "7  X  9  =  63\n",
            "7  X  10  =  70\n"
          ]
        }
      ]
    },
    {
      "cell_type": "code",
      "source": [
        "data=\"Python with Excelr\"\n",
        "for x in data:\n",
        "    print(x,end=\" \")\n"
      ],
      "metadata": {
        "colab": {
          "base_uri": "https://localhost:8080/"
        },
        "id": "iZbmaXj-Drus",
        "outputId": "7f6671cd-25da-4c88-fac4-38e24de30ef4"
      },
      "execution_count": null,
      "outputs": [
        {
          "output_type": "stream",
          "name": "stdout",
          "text": [
            "P y t h o n   w i t h   E x c e l r "
          ]
        }
      ]
    },
    {
      "cell_type": "code",
      "source": [
        "for i in range(6):\n",
        "    print(i)"
      ],
      "metadata": {
        "colab": {
          "base_uri": "https://localhost:8080/"
        },
        "id": "y-UyGNJNRlwJ",
        "outputId": "365484f8-89aa-440c-8c62-fa6a9b5506ea"
      },
      "execution_count": null,
      "outputs": [
        {
          "output_type": "stream",
          "name": "stdout",
          "text": [
            "0\n",
            "1\n",
            "2\n",
            "3\n",
            "4\n",
            "5\n"
          ]
        }
      ]
    },
    {
      "cell_type": "code",
      "source": [
        "for x in range(10,2,-1):\n",
        "    print(x)"
      ],
      "metadata": {
        "colab": {
          "base_uri": "https://localhost:8080/"
        },
        "id": "y0G7uRw6RvKC",
        "outputId": "e2381d42-727a-46f7-e8f7-805d78a851e5"
      },
      "execution_count": null,
      "outputs": [
        {
          "output_type": "stream",
          "name": "stdout",
          "text": [
            "10\n",
            "9\n",
            "8\n",
            "7\n",
            "6\n",
            "5\n",
            "4\n",
            "3\n"
          ]
        }
      ]
    },
    {
      "cell_type": "code",
      "source": [
        "for x in range(10,2):\n",
        "    print(x)"
      ],
      "metadata": {
        "id": "Wiqffk7rRvNh"
      },
      "execution_count": null,
      "outputs": []
    },
    {
      "cell_type": "code",
      "source": [
        "for i in range(2,22,2):\n",
        "    print(i)"
      ],
      "metadata": {
        "colab": {
          "base_uri": "https://localhost:8080/"
        },
        "id": "_ZM8e12ySDOy",
        "outputId": "a04d6edd-89b5-405c-d140-c6447642f2fb"
      },
      "execution_count": null,
      "outputs": [
        {
          "output_type": "stream",
          "name": "stdout",
          "text": [
            "2\n",
            "4\n",
            "6\n",
            "8\n",
            "10\n",
            "12\n",
            "14\n",
            "16\n",
            "18\n",
            "20\n"
          ]
        }
      ]
    },
    {
      "cell_type": "code",
      "source": [
        "'''\n",
        "take start value end end value from user\n",
        "Print summation of all even numbers\n",
        "Print summation of all odd numbers\n",
        "'''\n",
        "start=int(input(\"Enter the start point \"))\n",
        "end=int(input(\"Enter the end point \"))\n",
        "e_sum=o_sum=0\n",
        "for i in range(start,end+1):\n",
        "    if i%2==0:\n",
        "        e_sum+=i\n",
        "    else:\n",
        "        o_sum+=i\n",
        "\n",
        "print(\"even_sum\",e_sum)\n",
        "print(\"odd1_sum\",o_sum)"
      ],
      "metadata": {
        "colab": {
          "base_uri": "https://localhost:8080/"
        },
        "id": "2R0erOWxSDR6",
        "outputId": "17d1e0a1-809b-44af-9dfa-bb73b27a21ce"
      },
      "execution_count": null,
      "outputs": [
        {
          "output_type": "stream",
          "name": "stdout",
          "text": [
            "Enter the start point 1\n",
            "Enter the end point 10\n",
            "even_sum 30\n",
            "odd1_sum 25\n"
          ]
        }
      ]
    },
    {
      "cell_type": "code",
      "source": [
        "print(2+4+6+8+10)\n",
        "print(1+3+5+7+9)\n"
      ],
      "metadata": {
        "colab": {
          "base_uri": "https://localhost:8080/"
        },
        "id": "o6Z-dQP_SemK",
        "outputId": "ff541254-5653-4d4b-8215-647e44618b3f"
      },
      "execution_count": null,
      "outputs": [
        {
          "output_type": "stream",
          "name": "stdout",
          "text": [
            "30\n",
            "25\n"
          ]
        }
      ]
    },
    {
      "cell_type": "markdown",
      "source": [
        "### **WAP to calculate the sum of Natural Numbers**\n",
        "*   For eg. Enter a value : 5\n",
        "*   1+2+3+4+5\n",
        "\n"
      ],
      "metadata": {
        "id": "iy2wBlYsTSJ7"
      }
    },
    {
      "cell_type": "code",
      "source": [
        "num=int(input(\"Enter the start point\"))\n",
        "i=1\n",
        "sum=0\n",
        "while i<=num:\n",
        "    sum+=i\n",
        "    i+=1\n",
        "\n",
        "print(\"sum of Natural Numbers \",sum)"
      ],
      "metadata": {
        "id": "cSPkbk_JS6AV",
        "colab": {
          "base_uri": "https://localhost:8080/"
        },
        "outputId": "05ac081e-eb02-4335-a3b2-b98ebe8afeb7"
      },
      "execution_count": 1,
      "outputs": [
        {
          "output_type": "stream",
          "name": "stdout",
          "text": [
            "Enter the start point3\n",
            "sum of Natural Numbers  6\n"
          ]
        }
      ]
    },
    {
      "cell_type": "code",
      "source": [
        "num=int(input(\"Enter the number:\"))\n",
        "sum=0\n",
        "for i in range(1,num+1):\n",
        "    sum = sum + i\n",
        "print(sum)"
      ],
      "metadata": {
        "colab": {
          "base_uri": "https://localhost:8080/"
        },
        "id": "fE6rbeQF-_1B",
        "outputId": "20aab3fa-fbf2-4ae7-d15b-bf86896abfb8"
      },
      "execution_count": 2,
      "outputs": [
        {
          "output_type": "stream",
          "name": "stdout",
          "text": [
            "Enter the number:5\n",
            "15\n"
          ]
        }
      ]
    },
    {
      "cell_type": "markdown",
      "source": [
        "### **Loop Control Statement**\n",
        "*   continue → skips the current iteration and goes to the next one.\n",
        "*   break → terminates the loop completely.\n",
        "*   print the value from 1 to 10"
      ],
      "metadata": {
        "id": "M-Eg8xEdVS8I"
      }
    },
    {
      "cell_type": "code",
      "source": [
        "for i in range(1,11):\n",
        "  print(i)"
      ],
      "metadata": {
        "colab": {
          "base_uri": "https://localhost:8080/"
        },
        "id": "RN1vP3_ZsAWw",
        "outputId": "02b21a16-b52d-4ab4-d69a-07e61fe17231"
      },
      "execution_count": 1,
      "outputs": [
        {
          "output_type": "stream",
          "name": "stdout",
          "text": [
            "1\n",
            "2\n",
            "3\n",
            "4\n",
            "5\n",
            "6\n",
            "7\n",
            "8\n",
            "9\n",
            "10\n"
          ]
        }
      ]
    },
    {
      "cell_type": "code",
      "source": [
        "# In Python, the continue statement is used inside loops (for or while) to skip the current iteration\n",
        "# and move directly to the next iteration of the loop.\n",
        "for i in range(1,11): # The loop runs from 1 to 10\n",
        "    if i==5: # When i == 5, the continue statement is executed.\n",
        "        continue\n",
        "    print(i) # That means Python skips the rest of the loop body (print(i)) for this iteration and goes to the next value of i\n",
        "             # As a result, 5 is not printed."
      ],
      "metadata": {
        "colab": {
          "base_uri": "https://localhost:8080/"
        },
        "id": "QfCR0lk6S6ES",
        "outputId": "92e8632f-65f7-4402-9efd-412e7705e896"
      },
      "execution_count": 2,
      "outputs": [
        {
          "output_type": "stream",
          "name": "stdout",
          "text": [
            "1\n",
            "2\n",
            "3\n",
            "4\n",
            "6\n",
            "7\n",
            "8\n",
            "9\n",
            "10\n"
          ]
        }
      ]
    },
    {
      "cell_type": "code",
      "source": [
        "for i in range(1,11): # Loop starts from i = 1 up to 10.\n",
        "    print(i) # Each value of i is printed.\n",
        "    if i==5: # When i == 5, the break statement is executed.\n",
        "        break # break immediately stops the entire loop — no further iterations are run.\n",
        "print(\"For loop is terminated as break is encountered\")"
      ],
      "metadata": {
        "colab": {
          "base_uri": "https://localhost:8080/"
        },
        "id": "n1iFIB7MS6Hv",
        "outputId": "29fe40b9-422d-4313-e715-89586710d57b"
      },
      "execution_count": null,
      "outputs": [
        {
          "output_type": "stream",
          "name": "stdout",
          "text": [
            "1\n",
            "2\n",
            "3\n",
            "4\n",
            "5\n",
            "For loop is terminated as break is encountered\n"
          ]
        }
      ]
    },
    {
      "cell_type": "markdown",
      "source": [
        "## **Sets**\n",
        "*   A set is an unordered collection of unique elements.\n",
        "*   i.e. each element in a set must be unique.\n",
        "*   Sets are mutable, meaning you can add or remove items after a set has been created.\n",
        "*   Sets are defined using curly braces {} or the built-in set() function.\n",
        "\n",
        "\n",
        "\n"
      ],
      "metadata": {
        "id": "JCPlb0cXZ2dg"
      }
    },
    {
      "cell_type": "code",
      "source": [
        "# Create a Set\n",
        "set1 = {1, 2, 3, 4, 5}\n",
        "print (set1)"
      ],
      "metadata": {
        "colab": {
          "base_uri": "https://localhost:8080/"
        },
        "id": "bYQCzx7QaQzT",
        "outputId": "f6c27003-efec-4c50-e1f8-07a86d8c4e98"
      },
      "execution_count": 1,
      "outputs": [
        {
          "output_type": "stream",
          "name": "stdout",
          "text": [
            "{1, 2, 3, 4, 5}\n"
          ]
        }
      ]
    },
    {
      "cell_type": "code",
      "source": [
        "# Create set using built-in set() function\n",
        "set2 = set([1, 2, 3, 4, 5])\n",
        "print (set2)"
      ],
      "metadata": {
        "id": "wojnf1K1adDL",
        "colab": {
          "base_uri": "https://localhost:8080/"
        },
        "outputId": "6743d027-d792-4d38-ec5c-070882b15a38"
      },
      "execution_count": 2,
      "outputs": [
        {
          "output_type": "stream",
          "name": "stdout",
          "text": [
            "{1, 2, 3, 4, 5}\n"
          ]
        }
      ]
    },
    {
      "cell_type": "code",
      "source": [
        "set2 = set((1, 2, 3, 4, 5))\n",
        "print (set2)"
      ],
      "metadata": {
        "id": "JnwlYrCXahU7",
        "colab": {
          "base_uri": "https://localhost:8080/"
        },
        "outputId": "569bfad7-7603-4e56-83e0-5c80873baf8f"
      },
      "execution_count": 3,
      "outputs": [
        {
          "output_type": "stream",
          "name": "stdout",
          "text": [
            "{1, 2, 3, 4, 5}\n"
          ]
        }
      ]
    },
    {
      "cell_type": "code",
      "source": [
        "set3 = {1, 2, 2, 3, 3, 4, 5, 5}  # duplicates will be automatically removed\n",
        "print (set3)"
      ],
      "metadata": {
        "id": "vfVzLF7Maj17",
        "colab": {
          "base_uri": "https://localhost:8080/"
        },
        "outputId": "115f0ba8-bf71-4062-dbff-9d0f51d16c81"
      },
      "execution_count": 4,
      "outputs": [
        {
          "output_type": "stream",
          "name": "stdout",
          "text": [
            "{1, 2, 3, 4, 5}\n"
          ]
        }
      ]
    },
    {
      "cell_type": "markdown",
      "source": [
        "**Sets can contain elements of different data types, including numbers, strings, and even other sets (as long as they are immutable)**"
      ],
      "metadata": {
        "id": "ZABPSZywaqMY"
      }
    },
    {
      "cell_type": "code",
      "source": [
        "mixed_set = {1, 'hello', (1, 2, 3)}\n",
        "print (mixed_set)"
      ],
      "metadata": {
        "id": "oqr36BwWakhn",
        "colab": {
          "base_uri": "https://localhost:8080/"
        },
        "outputId": "9fceee3d-1c8c-4cec-bb75-322b6af53820"
      },
      "execution_count": 5,
      "outputs": [
        {
          "output_type": "stream",
          "name": "stdout",
          "text": [
            "{1, 'hello', (1, 2, 3)}\n"
          ]
        }
      ]
    },
    {
      "cell_type": "code",
      "source": [
        "# Lists are mutable so not allowed as element of set. Below command will raise an error\n",
        "mixed_set2 = {1, 'hello', [1, 2, 3]}"
      ],
      "metadata": {
        "id": "FfvPVHI6akkd",
        "colab": {
          "base_uri": "https://localhost:8080/",
          "height": 158
        },
        "collapsed": true,
        "outputId": "511fe22f-2db5-40cd-9d83-3c07ac0ae9b0"
      },
      "execution_count": 6,
      "outputs": [
        {
          "output_type": "error",
          "ename": "TypeError",
          "evalue": "unhashable type: 'list'",
          "traceback": [
            "\u001b[0;31m---------------------------------------------------------------------------\u001b[0m",
            "\u001b[0;31mTypeError\u001b[0m                                 Traceback (most recent call last)",
            "\u001b[0;32m/tmp/ipython-input-1342881290.py\u001b[0m in \u001b[0;36m<cell line: 0>\u001b[0;34m()\u001b[0m\n\u001b[1;32m      1\u001b[0m \u001b[0;31m# Lists are mutable so not allowed as element of set. Below command will raise an error\u001b[0m\u001b[0;34m\u001b[0m\u001b[0;34m\u001b[0m\u001b[0m\n\u001b[0;32m----> 2\u001b[0;31m \u001b[0mmixed_set2\u001b[0m \u001b[0;34m=\u001b[0m \u001b[0;34m{\u001b[0m\u001b[0;36m1\u001b[0m\u001b[0;34m,\u001b[0m \u001b[0;34m'hello'\u001b[0m\u001b[0;34m,\u001b[0m \u001b[0;34m[\u001b[0m\u001b[0;36m1\u001b[0m\u001b[0;34m,\u001b[0m \u001b[0;36m2\u001b[0m\u001b[0;34m,\u001b[0m \u001b[0;36m3\u001b[0m\u001b[0;34m]\u001b[0m\u001b[0;34m}\u001b[0m\u001b[0;34m\u001b[0m\u001b[0;34m\u001b[0m\u001b[0m\n\u001b[0m",
            "\u001b[0;31mTypeError\u001b[0m: unhashable type: 'list'"
          ]
        }
      ]
    },
    {
      "cell_type": "markdown",
      "source": [
        "**Basic Set Operations:adding and removing elements, checking membership, and performing set-specific operations like union, intersection, difference, and symmetric difference.**"
      ],
      "metadata": {
        "id": "Df4C5bEPa9bH"
      }
    },
    {
      "cell_type": "code",
      "source": [
        "dir(set)"
      ],
      "metadata": {
        "id": "NW6YIlOzaknK",
        "colab": {
          "base_uri": "https://localhost:8080/"
        },
        "collapsed": true,
        "outputId": "03053709-67b5-4e8b-8342-ad69ae01d575"
      },
      "execution_count": 7,
      "outputs": [
        {
          "output_type": "execute_result",
          "data": {
            "text/plain": [
              "['__and__',\n",
              " '__class__',\n",
              " '__class_getitem__',\n",
              " '__contains__',\n",
              " '__delattr__',\n",
              " '__dir__',\n",
              " '__doc__',\n",
              " '__eq__',\n",
              " '__format__',\n",
              " '__ge__',\n",
              " '__getattribute__',\n",
              " '__getstate__',\n",
              " '__gt__',\n",
              " '__hash__',\n",
              " '__iand__',\n",
              " '__init__',\n",
              " '__init_subclass__',\n",
              " '__ior__',\n",
              " '__isub__',\n",
              " '__iter__',\n",
              " '__ixor__',\n",
              " '__le__',\n",
              " '__len__',\n",
              " '__lt__',\n",
              " '__ne__',\n",
              " '__new__',\n",
              " '__or__',\n",
              " '__rand__',\n",
              " '__reduce__',\n",
              " '__reduce_ex__',\n",
              " '__repr__',\n",
              " '__ror__',\n",
              " '__rsub__',\n",
              " '__rxor__',\n",
              " '__setattr__',\n",
              " '__sizeof__',\n",
              " '__str__',\n",
              " '__sub__',\n",
              " '__subclasshook__',\n",
              " '__xor__',\n",
              " 'add',\n",
              " 'clear',\n",
              " 'copy',\n",
              " 'difference',\n",
              " 'difference_update',\n",
              " 'discard',\n",
              " 'intersection',\n",
              " 'intersection_update',\n",
              " 'isdisjoint',\n",
              " 'issubset',\n",
              " 'issuperset',\n",
              " 'pop',\n",
              " 'remove',\n",
              " 'symmetric_difference',\n",
              " 'symmetric_difference_update',\n",
              " 'union',\n",
              " 'update']"
            ]
          },
          "metadata": {},
          "execution_count": 7
        }
      ]
    },
    {
      "cell_type": "markdown",
      "source": [
        "**Adding an element inside a set**\n",
        "*   add() : single element\n",
        "*   update() : multiple element can be added"
      ],
      "metadata": {
        "id": "dd5xla9LbOjK"
      }
    },
    {
      "cell_type": "code",
      "source": [
        "data={12,12,234,56,677,89,45,12}\n",
        "print(data)"
      ],
      "metadata": {
        "id": "nBw0tDzLakps",
        "colab": {
          "base_uri": "https://localhost:8080/"
        },
        "outputId": "321d5359-7a80-4b85-fc6a-2c47fc4c61f5"
      },
      "execution_count": 8,
      "outputs": [
        {
          "output_type": "stream",
          "name": "stdout",
          "text": [
            "{677, 56, 89, 234, 12, 45}\n"
          ]
        }
      ]
    },
    {
      "cell_type": "code",
      "source": [
        "data.add(12) # If the element is already present in the set, the set remains unchanged.\n",
        "print(data)"
      ],
      "metadata": {
        "id": "PIVSe2nWaksQ",
        "colab": {
          "base_uri": "https://localhost:8080/"
        },
        "outputId": "1caa0c55-312a-4c3e-b54d-9232790e5943"
      },
      "execution_count": 9,
      "outputs": [
        {
          "output_type": "stream",
          "name": "stdout",
          "text": [
            "{677, 56, 89, 234, 12, 45}\n"
          ]
        }
      ]
    },
    {
      "cell_type": "code",
      "source": [
        "data.add(100) # sets are unordered, so there is no fixed position like in a list or tuple.\n",
        "print(data) # Python decides the placement internally (based on hashing).\n",
        "# That means you cannot control or predict the index/location where the element will appear."
      ],
      "metadata": {
        "id": "_cZhZ9J0akuz",
        "colab": {
          "base_uri": "https://localhost:8080/"
        },
        "outputId": "0f606f50-21f5-4769-9c0d-3b14a9c452e6"
      },
      "execution_count": 10,
      "outputs": [
        {
          "output_type": "stream",
          "name": "stdout",
          "text": [
            "{100, 677, 56, 89, 234, 12, 45}\n"
          ]
        }
      ]
    },
    {
      "cell_type": "code",
      "source": [
        "data.add(900)\n",
        "print(data)"
      ],
      "metadata": {
        "id": "eoftItFlakyd",
        "colab": {
          "base_uri": "https://localhost:8080/"
        },
        "outputId": "0cdee3d6-6b2d-4de7-9ac1-c1be4c0e952f"
      },
      "execution_count": 11,
      "outputs": [
        {
          "output_type": "stream",
          "name": "stdout",
          "text": [
            "{100, 677, 900, 56, 89, 234, 12, 45}\n"
          ]
        }
      ]
    },
    {
      "cell_type": "code",
      "source": [
        "data.add(1000)\n",
        "print(data)"
      ],
      "metadata": {
        "id": "SACg1FDobwxO",
        "colab": {
          "base_uri": "https://localhost:8080/"
        },
        "outputId": "e9729f39-ddbe-4710-b81f-f05058e19c20"
      },
      "execution_count": 12,
      "outputs": [
        {
          "output_type": "stream",
          "name": "stdout",
          "text": [
            "{900, 12, 89, 100, 677, 1000, 234, 45, 56}\n"
          ]
        }
      ]
    },
    {
      "cell_type": "code",
      "source": [
        "data.update([900,677,12,33,44,55])\n",
        "print(data)"
      ],
      "metadata": {
        "id": "y4TgA_kHbw0U",
        "colab": {
          "base_uri": "https://localhost:8080/"
        },
        "outputId": "8ea0c245-4a6b-406d-94b3-e4fedccac85f"
      },
      "execution_count": 13,
      "outputs": [
        {
          "output_type": "stream",
          "name": "stdout",
          "text": [
            "{900, 12, 89, 33, 100, 677, 1000, 234, 44, 45, 55, 56}\n"
          ]
        }
      ]
    },
    {
      "cell_type": "code",
      "source": [
        "data.update((1,2,3))\n",
        "print(data)"
      ],
      "metadata": {
        "id": "foNhsm9tbw3R",
        "colab": {
          "base_uri": "https://localhost:8080/"
        },
        "outputId": "b8055019-1a55-424e-e20e-ac0bc0760864"
      },
      "execution_count": 14,
      "outputs": [
        {
          "output_type": "stream",
          "name": "stdout",
          "text": [
            "{1, 2, 3, 900, 12, 89, 33, 100, 677, 1000, 234, 44, 45, 55, 56}\n"
          ]
        }
      ]
    },
    {
      "cell_type": "markdown",
      "source": [
        "**remove() - Remove an element from the set**"
      ],
      "metadata": {
        "id": "QoaXBtHjb6Fg"
      }
    },
    {
      "cell_type": "code",
      "source": [
        "data.remove(909) # If element is not present error will be raised\n",
        "print(data)"
      ],
      "metadata": {
        "id": "GgbfkcKEbw6H",
        "colab": {
          "base_uri": "https://localhost:8080/",
          "height": 158
        },
        "collapsed": true,
        "outputId": "e6209867-fcfe-43b2-e2af-29b0db6d9cb5"
      },
      "execution_count": 15,
      "outputs": [
        {
          "output_type": "error",
          "ename": "KeyError",
          "evalue": "909",
          "traceback": [
            "\u001b[0;31m---------------------------------------------------------------------------\u001b[0m",
            "\u001b[0;31mKeyError\u001b[0m                                  Traceback (most recent call last)",
            "\u001b[0;32m/tmp/ipython-input-1138755158.py\u001b[0m in \u001b[0;36m<cell line: 0>\u001b[0;34m()\u001b[0m\n\u001b[0;32m----> 1\u001b[0;31m \u001b[0mdata\u001b[0m\u001b[0;34m.\u001b[0m\u001b[0mremove\u001b[0m\u001b[0;34m(\u001b[0m\u001b[0;36m909\u001b[0m\u001b[0;34m)\u001b[0m \u001b[0;31m# If element is not present error will be raised\u001b[0m\u001b[0;34m\u001b[0m\u001b[0;34m\u001b[0m\u001b[0m\n\u001b[0m\u001b[1;32m      2\u001b[0m \u001b[0mprint\u001b[0m\u001b[0;34m(\u001b[0m\u001b[0mdata\u001b[0m\u001b[0;34m)\u001b[0m\u001b[0;34m\u001b[0m\u001b[0;34m\u001b[0m\u001b[0m\n",
            "\u001b[0;31mKeyError\u001b[0m: 909"
          ]
        }
      ]
    },
    {
      "cell_type": "code",
      "source": [
        "data.remove(900)"
      ],
      "metadata": {
        "id": "2-dk2BLgbw9m"
      },
      "execution_count": 16,
      "outputs": []
    },
    {
      "cell_type": "code",
      "source": [
        "data\n"
      ],
      "metadata": {
        "id": "RsYRYKYGcBCz",
        "colab": {
          "base_uri": "https://localhost:8080/"
        },
        "outputId": "a54cffa9-2343-4446-b78c-9795c63021a3"
      },
      "execution_count": 17,
      "outputs": [
        {
          "output_type": "execute_result",
          "data": {
            "text/plain": [
              "{1, 2, 3, 12, 33, 44, 45, 55, 56, 89, 100, 234, 677, 1000}"
            ]
          },
          "metadata": {},
          "execution_count": 17
        }
      ]
    },
    {
      "cell_type": "code",
      "source": [
        "data.remove(677)\n",
        "print(data)"
      ],
      "metadata": {
        "id": "lvgMRLZWcBFw",
        "colab": {
          "base_uri": "https://localhost:8080/"
        },
        "outputId": "83b4ffa5-812f-4e68-d23e-6268bccfbfa6"
      },
      "execution_count": 18,
      "outputs": [
        {
          "output_type": "stream",
          "name": "stdout",
          "text": [
            "{1, 2, 3, 12, 89, 33, 100, 1000, 234, 44, 45, 55, 56}\n"
          ]
        }
      ]
    },
    {
      "cell_type": "markdown",
      "source": [
        "**Discard an element from the set.**"
      ],
      "metadata": {
        "id": "d8vYr4tWcIui"
      }
    },
    {
      "cell_type": "code",
      "source": [
        "# discard() does not raise an error if the element is not found in the set\n",
        "data.discard(50)"
      ],
      "metadata": {
        "id": "ufoaK3mpcBIe"
      },
      "execution_count": 19,
      "outputs": []
    },
    {
      "cell_type": "code",
      "source": [
        "print(data)"
      ],
      "metadata": {
        "id": "JJiZMz36cBK-",
        "colab": {
          "base_uri": "https://localhost:8080/"
        },
        "outputId": "410971d2-ed56-495f-d559-9ae7ffb9b421"
      },
      "execution_count": 20,
      "outputs": [
        {
          "output_type": "stream",
          "name": "stdout",
          "text": [
            "{1, 2, 3, 12, 89, 33, 100, 1000, 234, 44, 45, 55, 56}\n"
          ]
        }
      ]
    },
    {
      "cell_type": "code",
      "source": [
        "data.discard(234)\n",
        "print(data)"
      ],
      "metadata": {
        "id": "pw3YFQZdcPe4",
        "colab": {
          "base_uri": "https://localhost:8080/"
        },
        "outputId": "16582a60-02e1-4dfe-eaa0-7fc2172a9199"
      },
      "execution_count": 21,
      "outputs": [
        {
          "output_type": "stream",
          "name": "stdout",
          "text": [
            "{1, 2, 3, 12, 89, 33, 100, 1000, 44, 45, 55, 56}\n"
          ]
        }
      ]
    },
    {
      "cell_type": "markdown",
      "source": [
        "**pop(): Any random element will be removed.**"
      ],
      "metadata": {
        "id": "1wjLSQy-cUFD"
      }
    },
    {
      "cell_type": "code",
      "source": [
        "data.pop()\n",
        "print(data)"
      ],
      "metadata": {
        "id": "jtf-kq_McPhk",
        "colab": {
          "base_uri": "https://localhost:8080/"
        },
        "outputId": "4e993212-7bf4-4130-b657-7ba1e13eb62f"
      },
      "execution_count": 22,
      "outputs": [
        {
          "output_type": "stream",
          "name": "stdout",
          "text": [
            "{2, 3, 12, 89, 33, 100, 1000, 44, 45, 55, 56}\n"
          ]
        }
      ]
    },
    {
      "cell_type": "markdown",
      "source": [
        "**clear()**"
      ],
      "metadata": {
        "id": "kghFhiUwcaKb"
      }
    },
    {
      "cell_type": "code",
      "source": [
        "data.clear()\n",
        "print(data)"
      ],
      "metadata": {
        "id": "GjWTw4VLcPk4",
        "colab": {
          "base_uri": "https://localhost:8080/"
        },
        "outputId": "b9f3c1ca-349d-4504-d039-58320e2260de"
      },
      "execution_count": 23,
      "outputs": [
        {
          "output_type": "stream",
          "name": "stdout",
          "text": [
            "set()\n"
          ]
        }
      ]
    },
    {
      "cell_type": "markdown",
      "source": [
        "**del**"
      ],
      "metadata": {
        "id": "mAGkLB0rcgf5"
      }
    },
    {
      "cell_type": "code",
      "source": [
        "set1={12,34,56,78,90,4,55,67,12}\n",
        "print(set1)"
      ],
      "metadata": {
        "id": "kgFwiJ54cBOh",
        "colab": {
          "base_uri": "https://localhost:8080/"
        },
        "outputId": "9a2cf090-f9f0-48cb-d0e4-259186102240"
      },
      "execution_count": 24,
      "outputs": [
        {
          "output_type": "stream",
          "name": "stdout",
          "text": [
            "{34, 67, 4, 12, 78, 55, 56, 90}\n"
          ]
        }
      ]
    },
    {
      "cell_type": "code",
      "source": [
        "del set1"
      ],
      "metadata": {
        "id": "EmIYK69bcoT1"
      },
      "execution_count": 25,
      "outputs": []
    },
    {
      "cell_type": "code",
      "source": [
        "# del set1 → deletes the set object itself. Afterwards if you try to print set it will raise error\n",
        "# set1.clear() → empties the set but keeps it alive.\n",
        "print(set1)"
      ],
      "metadata": {
        "id": "od4BBp7KcoWr",
        "colab": {
          "base_uri": "https://localhost:8080/",
          "height": 176
        },
        "collapsed": true,
        "outputId": "db1587e2-d65e-44cd-87f2-3a72b3834acc"
      },
      "execution_count": 26,
      "outputs": [
        {
          "output_type": "error",
          "ename": "NameError",
          "evalue": "name 'set1' is not defined",
          "traceback": [
            "\u001b[0;31m---------------------------------------------------------------------------\u001b[0m",
            "\u001b[0;31mNameError\u001b[0m                                 Traceback (most recent call last)",
            "\u001b[0;32m/tmp/ipython-input-4220896147.py\u001b[0m in \u001b[0;36m<cell line: 0>\u001b[0;34m()\u001b[0m\n\u001b[1;32m      1\u001b[0m \u001b[0;31m# del set1 → deletes the set object itself. Afterwards if you try to print set it will raise error\u001b[0m\u001b[0;34m\u001b[0m\u001b[0;34m\u001b[0m\u001b[0m\n\u001b[1;32m      2\u001b[0m \u001b[0;31m# set1.clear() → empties the set but keeps it alive.\u001b[0m\u001b[0;34m\u001b[0m\u001b[0;34m\u001b[0m\u001b[0m\n\u001b[0;32m----> 3\u001b[0;31m \u001b[0mprint\u001b[0m\u001b[0;34m(\u001b[0m\u001b[0mset1\u001b[0m\u001b[0;34m)\u001b[0m\u001b[0;34m\u001b[0m\u001b[0;34m\u001b[0m\u001b[0m\n\u001b[0m",
            "\u001b[0;31mNameError\u001b[0m: name 'set1' is not defined"
          ]
        }
      ]
    },
    {
      "cell_type": "markdown",
      "source": [
        "**Membership testing of a particular element in a set**"
      ],
      "metadata": {
        "id": "htIdOOA_cvs6"
      }
    },
    {
      "cell_type": "code",
      "source": [
        "my_set = {1, 2, 3, 4}\n",
        "i=9\n",
        "if i in my_set:\n",
        "   print(i,\" is present in the set\")\n",
        "else:\n",
        "   print(i,\" is not present in the set\")"
      ],
      "metadata": {
        "id": "WoiBUDomcoaj",
        "colab": {
          "base_uri": "https://localhost:8080/"
        },
        "outputId": "ca2f3c36-7e5d-48f6-f1ca-a06bfd221b93"
      },
      "execution_count": 28,
      "outputs": [
        {
          "output_type": "stream",
          "name": "stdout",
          "text": [
            "9  is not present in the set\n"
          ]
        }
      ]
    },
    {
      "cell_type": "markdown",
      "source": [
        "### **Set Operations**\n",
        "*   Union − It combine elements from both sets using the union() function or the | operator.\n",
        "*   Intersection − It is used to get common elements using the intersection() function or the & operator.\n",
        "*   Difference − It is used to get elements that are in one set but not the other using the difference() function or the - operator.\n",
        "*   Symmetric Difference − It is used to get elements that are in either of the sets but not in both using the symmetric_difference() method or the ^ operator.\n",
        "\n",
        "\n",
        "\n"
      ],
      "metadata": {
        "id": "CAOVXPm0dDaO"
      }
    },
    {
      "cell_type": "markdown",
      "source": [
        "**Union: It will merge both sets and duplicate elemets will be entered once**"
      ],
      "metadata": {
        "id": "-qtg4p4Bdjda"
      }
    },
    {
      "cell_type": "code",
      "source": [
        "set1={\"English\",\"Hindi\",\"Marathi\"}\n",
        "set2={\"Tamil\",\"French\",\"English\"}\n",
        "new_set = set1.union(set2)\n",
        "print(new_set)"
      ],
      "metadata": {
        "id": "2v9btoxsc98p",
        "colab": {
          "base_uri": "https://localhost:8080/"
        },
        "outputId": "71772885-98f3-441b-b0f7-6c8acb95dbd2"
      },
      "execution_count": 29,
      "outputs": [
        {
          "output_type": "stream",
          "name": "stdout",
          "text": [
            "{'Marathi', 'Tamil', 'Hindi', 'English', 'French'}\n"
          ]
        }
      ]
    },
    {
      "cell_type": "code",
      "source": [
        "var1= set1 | set2\n",
        "print(var1)"
      ],
      "metadata": {
        "id": "giHLZNLNc9_j",
        "colab": {
          "base_uri": "https://localhost:8080/"
        },
        "outputId": "11187463-2ec5-4072-f92b-855610457e23"
      },
      "execution_count": 30,
      "outputs": [
        {
          "output_type": "stream",
          "name": "stdout",
          "text": [
            "{'Marathi', 'Tamil', 'Hindi', 'English', 'French'}\n"
          ]
        }
      ]
    },
    {
      "cell_type": "markdown",
      "source": [
        "**Intersection: Common elements in both sets**"
      ],
      "metadata": {
        "id": "YjDEycKCdryl"
      }
    },
    {
      "cell_type": "code",
      "source": [
        "set1={\"English\",\"Hindi\",\"Marathi\"}\n",
        "set2={\"Tamil\",\"French\",\"English\"}\n",
        "data=set1.intersection(set2)\n",
        "print(data)"
      ],
      "metadata": {
        "id": "KTvLmeJmc-Ca",
        "colab": {
          "base_uri": "https://localhost:8080/"
        },
        "outputId": "a2efba39-4b14-41b3-a45f-6dbd6be9f604"
      },
      "execution_count": 31,
      "outputs": [
        {
          "output_type": "stream",
          "name": "stdout",
          "text": [
            "{'English'}\n"
          ]
        }
      ]
    },
    {
      "cell_type": "code",
      "source": [
        "data2=set1 & set2\n",
        "print(data2)"
      ],
      "metadata": {
        "id": "_ogTWC-gc-Ej",
        "colab": {
          "base_uri": "https://localhost:8080/"
        },
        "outputId": "8a03d10e-9fb2-4cab-ca5f-60edd25a0169"
      },
      "execution_count": 32,
      "outputs": [
        {
          "output_type": "stream",
          "name": "stdout",
          "text": [
            "{'English'}\n"
          ]
        }
      ]
    },
    {
      "cell_type": "code",
      "source": [
        "set1"
      ],
      "metadata": {
        "id": "Tyun-viec-IQ",
        "colab": {
          "base_uri": "https://localhost:8080/"
        },
        "outputId": "822d4c8c-5cdf-429b-e8b8-d67de8e09ea2"
      },
      "execution_count": 33,
      "outputs": [
        {
          "output_type": "execute_result",
          "data": {
            "text/plain": [
              "{'English', 'Hindi', 'Marathi'}"
            ]
          },
          "metadata": {},
          "execution_count": 33
        }
      ]
    },
    {
      "cell_type": "code",
      "source": [
        "set2"
      ],
      "metadata": {
        "id": "BFQDl__Hd21-",
        "colab": {
          "base_uri": "https://localhost:8080/"
        },
        "outputId": "b4044e3c-2185-4a62-e067-8374b285285e"
      },
      "execution_count": 34,
      "outputs": [
        {
          "output_type": "execute_result",
          "data": {
            "text/plain": [
              "{'English', 'French', 'Tamil'}"
            ]
          },
          "metadata": {},
          "execution_count": 34
        }
      ]
    },
    {
      "cell_type": "markdown",
      "source": [
        "**intersection_update() - Store the result of intersection() in set1**"
      ],
      "metadata": {
        "id": "Ali56y_Pd6MY"
      }
    },
    {
      "cell_type": "code",
      "source": [
        "set1.intersection_update(set2)\n",
        "print(set1)\n",
        "print(set2)"
      ],
      "metadata": {
        "id": "oFpq9WWyd7uU",
        "colab": {
          "base_uri": "https://localhost:8080/"
        },
        "outputId": "1990fc1f-a776-4f0c-b3ab-61615b1f6039"
      },
      "execution_count": 35,
      "outputs": [
        {
          "output_type": "stream",
          "name": "stdout",
          "text": [
            "{'English'}\n",
            "{'English', 'Tamil', 'French'}\n"
          ]
        }
      ]
    },
    {
      "cell_type": "markdown",
      "source": [
        "**Symmetric_difference() : it is a opposite of intersection()**\n",
        "*   Except common elements put all elements in new set\n",
        "\n"
      ],
      "metadata": {
        "id": "YBwksD3meAxK"
      }
    },
    {
      "cell_type": "code",
      "source": [
        "set1={'a','b','c'}\n",
        "set2={'a','d','e'}\n",
        "new_set=set1.symmetric_difference(set2)\n",
        "print(new_set)"
      ],
      "metadata": {
        "id": "QTLPV7Ayd7xL",
        "colab": {
          "base_uri": "https://localhost:8080/"
        },
        "collapsed": true,
        "outputId": "1f8dd656-e4fb-46b1-aca7-f833cf6e62ca"
      },
      "execution_count": 36,
      "outputs": [
        {
          "output_type": "stream",
          "name": "stdout",
          "text": [
            "{'c', 'd', 'e', 'b'}\n"
          ]
        }
      ]
    },
    {
      "cell_type": "code",
      "source": [
        "new_set2=set1 ^ set2\n",
        "print(new_set2)"
      ],
      "metadata": {
        "id": "HBEnAfeid70G",
        "colab": {
          "base_uri": "https://localhost:8080/"
        },
        "collapsed": true,
        "outputId": "9b48f4b8-9e88-4ee2-aa32-f243cb68315d"
      },
      "execution_count": 37,
      "outputs": [
        {
          "output_type": "stream",
          "name": "stdout",
          "text": [
            "{'c', 'd', 'e', 'b'}\n"
          ]
        }
      ]
    },
    {
      "cell_type": "markdown",
      "source": [
        "**In set2 save the resultant of symmetric_difference() using symmetric_difference_update()**"
      ],
      "metadata": {
        "id": "qeOaOsGYeSZj"
      }
    },
    {
      "cell_type": "code",
      "source": [
        "set2.symmetric_difference_update(set1)\n",
        "print(set2)\n",
        "print(set1)"
      ],
      "metadata": {
        "id": "pgpTUAPSd72r",
        "colab": {
          "base_uri": "https://localhost:8080/"
        },
        "outputId": "5d66f457-1301-4009-cc98-e4968947a1df"
      },
      "execution_count": 38,
      "outputs": [
        {
          "output_type": "stream",
          "name": "stdout",
          "text": [
            "{'c', 'd', 'e', 'b'}\n",
            "{'c', 'b', 'a'}\n"
          ]
        }
      ]
    },
    {
      "cell_type": "markdown",
      "source": [
        "**Difference**"
      ],
      "metadata": {
        "id": "ltQlSvEgeakg"
      }
    },
    {
      "cell_type": "code",
      "source": [
        "set1={\"HTML\",\"CSS\",\"Javascript\",\"Python\",\"English\",\"Math\"}\n",
        "set2={\"Python\",\"angular\",\"Nodejs\",\"English\",\"Math\"}\n",
        "print(set1)\n",
        "print(set2)"
      ],
      "metadata": {
        "id": "lBBBUOBkd76Q",
        "colab": {
          "base_uri": "https://localhost:8080/"
        },
        "outputId": "e93a8ad4-8f19-4144-ab1f-63d4d853521d"
      },
      "execution_count": 39,
      "outputs": [
        {
          "output_type": "stream",
          "name": "stdout",
          "text": [
            "{'Math', 'English', 'Python', 'Javascript', 'HTML', 'CSS'}\n",
            "{'Nodejs', 'angular', 'English', 'Python', 'Math'}\n"
          ]
        }
      ]
    },
    {
      "cell_type": "code",
      "source": [
        "data=set1 & set2 # Common i.e. intersection\n",
        "print(data)"
      ],
      "metadata": {
        "id": "OFjSPeikeeX5",
        "colab": {
          "base_uri": "https://localhost:8080/"
        },
        "outputId": "6e5f9f09-0322-403f-a860-81d768e103bf"
      },
      "execution_count": 41,
      "outputs": [
        {
          "output_type": "stream",
          "name": "stdout",
          "text": [
            "{'English', 'Python', 'Math'}\n"
          ]
        }
      ]
    },
    {
      "cell_type": "code",
      "source": [
        "new_data=set1 - set2\n",
        "print(new_data)"
      ],
      "metadata": {
        "id": "Sv5n4taAeeae",
        "colab": {
          "base_uri": "https://localhost:8080/"
        },
        "outputId": "24de4f87-bcd4-4154-b002-36efc8f200c0"
      },
      "execution_count": 43,
      "outputs": [
        {
          "output_type": "stream",
          "name": "stdout",
          "text": [
            "{'Javascript', 'HTML', 'CSS'}\n"
          ]
        }
      ]
    },
    {
      "cell_type": "code",
      "source": [
        "new_data2 = set2 - set1\n",
        "print(new_data2)"
      ],
      "metadata": {
        "colab": {
          "base_uri": "https://localhost:8080/"
        },
        "id": "NA3Uwkp0WziS",
        "outputId": "58657bc1-3137-428c-c5c1-d3745155d09a"
      },
      "execution_count": 45,
      "outputs": [
        {
          "output_type": "stream",
          "name": "stdout",
          "text": [
            "{'Nodejs', 'angular'}\n"
          ]
        }
      ]
    },
    {
      "cell_type": "code",
      "source": [
        "set1 # remains unchanged"
      ],
      "metadata": {
        "colab": {
          "base_uri": "https://localhost:8080/"
        },
        "id": "lyQ6eqUJXBwZ",
        "outputId": "9fdd3afa-0e53-41e4-d736-44dde8fa2c41"
      },
      "execution_count": 46,
      "outputs": [
        {
          "output_type": "execute_result",
          "data": {
            "text/plain": [
              "{'CSS', 'English', 'HTML', 'Javascript', 'Math', 'Python'}"
            ]
          },
          "metadata": {},
          "execution_count": 46
        }
      ]
    },
    {
      "cell_type": "code",
      "source": [
        "set2 # remains unchanged"
      ],
      "metadata": {
        "colab": {
          "base_uri": "https://localhost:8080/"
        },
        "id": "MQXxL8vQXC0q",
        "outputId": "23832e9e-ae7e-4d8f-f65e-1b675f64ac60"
      },
      "execution_count": 47,
      "outputs": [
        {
          "output_type": "execute_result",
          "data": {
            "text/plain": [
              "{'English', 'Math', 'Nodejs', 'Python', 'angular'}"
            ]
          },
          "metadata": {},
          "execution_count": 47
        }
      ]
    },
    {
      "cell_type": "code",
      "source": [
        "set1.difference_update(set2)\n",
        "print(set1) # set1 is changed"
      ],
      "metadata": {
        "id": "oHmOMerteed7",
        "colab": {
          "base_uri": "https://localhost:8080/"
        },
        "outputId": "0e1ca7eb-c9dc-4708-b695-4205b596632c"
      },
      "execution_count": 48,
      "outputs": [
        {
          "output_type": "stream",
          "name": "stdout",
          "text": [
            "{'Javascript', 'HTML', 'CSS'}\n"
          ]
        }
      ]
    },
    {
      "cell_type": "code",
      "source": [
        "set2 # remains unchanged"
      ],
      "metadata": {
        "colab": {
          "base_uri": "https://localhost:8080/"
        },
        "id": "HUOOU7maX2rM",
        "outputId": "a1c92156-ba62-42a6-c2e3-4b073982a84f"
      },
      "execution_count": 49,
      "outputs": [
        {
          "output_type": "execute_result",
          "data": {
            "text/plain": [
              "{'English', 'Math', 'Nodejs', 'Python', 'angular'}"
            ]
          },
          "metadata": {},
          "execution_count": 49
        }
      ]
    },
    {
      "cell_type": "code",
      "source": [],
      "metadata": {
        "id": "ENwuWa9NX3rV"
      },
      "execution_count": null,
      "outputs": []
    },
    {
      "cell_type": "markdown",
      "source": [
        "**Frozen Set: A frozen set is an immutable collection of unique elements, similar to a regular set but with the distinction that it cannot be modified after creation. Once created, the elements within a frozen set cannot be added, removed, or modified, making it a suitable choice when you need an immutable set.**"
      ],
      "metadata": {
        "id": "w46Y2Tl_eo1-"
      }
    },
    {
      "cell_type": "code",
      "source": [
        "set_a=frozenset((12,34,56,78,90,2,3,4))\n",
        "print(set_a)"
      ],
      "metadata": {
        "id": "oZZnU8AberLA",
        "colab": {
          "base_uri": "https://localhost:8080/"
        },
        "outputId": "2e341800-ecda-48ed-bd15-b7f5028e65ac"
      },
      "execution_count": 50,
      "outputs": [
        {
          "output_type": "stream",
          "name": "stdout",
          "text": [
            "frozenset({34, 2, 3, 4, 12, 78, 56, 90})\n"
          ]
        }
      ]
    },
    {
      "cell_type": "code",
      "source": [
        "set_a.add(400)"
      ],
      "metadata": {
        "id": "FAqXuPy8ereQ",
        "colab": {
          "base_uri": "https://localhost:8080/",
          "height": 141
        },
        "outputId": "611eba2a-9155-4eb4-eca4-a38135d5ea30"
      },
      "execution_count": 51,
      "outputs": [
        {
          "output_type": "error",
          "ename": "AttributeError",
          "evalue": "'frozenset' object has no attribute 'add'",
          "traceback": [
            "\u001b[0;31m---------------------------------------------------------------------------\u001b[0m",
            "\u001b[0;31mAttributeError\u001b[0m                            Traceback (most recent call last)",
            "\u001b[0;32m/tmp/ipython-input-214654202.py\u001b[0m in \u001b[0;36m<cell line: 0>\u001b[0;34m()\u001b[0m\n\u001b[0;32m----> 1\u001b[0;31m \u001b[0mset_a\u001b[0m\u001b[0;34m.\u001b[0m\u001b[0madd\u001b[0m\u001b[0;34m(\u001b[0m\u001b[0;36m400\u001b[0m\u001b[0;34m)\u001b[0m\u001b[0;34m\u001b[0m\u001b[0;34m\u001b[0m\u001b[0m\n\u001b[0m",
            "\u001b[0;31mAttributeError\u001b[0m: 'frozenset' object has no attribute 'add'"
          ]
        }
      ]
    }
  ]
}