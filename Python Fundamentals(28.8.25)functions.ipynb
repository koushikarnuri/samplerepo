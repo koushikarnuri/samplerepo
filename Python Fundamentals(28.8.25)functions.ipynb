{
 "cells": [
  {
   "cell_type": "code",
   "execution_count": 1,
   "id": "ec17c543-73e1-42d9-9aed-d08c85b0bac1",
   "metadata": {},
   "outputs": [],
   "source": [
    "## set\n",
    "set1={3,4,5,10,14,8,100}"
   ]
  },
  {
   "cell_type": "code",
   "execution_count": 2,
   "id": "6473b1e7-2e5d-42ac-aa9e-f389cc9c9d15",
   "metadata": {},
   "outputs": [
    {
     "data": {
      "text/plain": [
       "{3, 4, 5, 8, 10, 14, 100}"
      ]
     },
     "execution_count": 2,
     "metadata": {},
     "output_type": "execute_result"
    }
   ],
   "source": [
    "set1"
   ]
  },
  {
   "cell_type": "code",
   "execution_count": 3,
   "id": "5590dd7a-8c01-4081-a8e6-8446b0dc4a1a",
   "metadata": {},
   "outputs": [],
   "source": [
    "set2= set1.copy()"
   ]
  },
  {
   "cell_type": "code",
   "execution_count": 4,
   "id": "aefd2e05-bf0d-4f5f-9890-04e99a97e748",
   "metadata": {},
   "outputs": [
    {
     "data": {
      "text/plain": [
       "{3, 4, 5, 8, 10, 14, 100}"
      ]
     },
     "execution_count": 4,
     "metadata": {},
     "output_type": "execute_result"
    }
   ],
   "source": [
    "set2"
   ]
  },
  {
   "cell_type": "code",
   "execution_count": 5,
   "id": "cdc756d3-001d-4e0c-b45d-64889500d98a",
   "metadata": {},
   "outputs": [],
   "source": [
    "set1.add(200)"
   ]
  },
  {
   "cell_type": "code",
   "execution_count": 6,
   "id": "35e64b34-8610-46ae-8e2b-9087f9f4d289",
   "metadata": {},
   "outputs": [],
   "source": [
    "set1.add(50)"
   ]
  },
  {
   "cell_type": "code",
   "execution_count": 7,
   "id": "19dfc440-0f30-4e19-9ce6-de8285f2ccf0",
   "metadata": {},
   "outputs": [
    {
     "data": {
      "text/plain": [
       "{3, 4, 5, 8, 10, 14, 50, 100, 200}"
      ]
     },
     "execution_count": 7,
     "metadata": {},
     "output_type": "execute_result"
    }
   ],
   "source": [
    "set1"
   ]
  },
  {
   "cell_type": "code",
   "execution_count": 8,
   "id": "8ffc4874-6800-4334-845b-f10b02c4e8ff",
   "metadata": {},
   "outputs": [
    {
     "data": {
      "text/plain": [
       "{3, 4, 5, 8, 10, 14, 100}"
      ]
     },
     "execution_count": 8,
     "metadata": {},
     "output_type": "execute_result"
    }
   ],
   "source": [
    "set2"
   ]
  },
  {
   "cell_type": "code",
   "execution_count": 9,
   "id": "9edd0967-99af-4f9b-86fd-563664acf9d4",
   "metadata": {},
   "outputs": [
    {
     "data": {
      "text/plain": [
       "{3, 4, 5, 8, 10, 14, 50, 100, 200}"
      ]
     },
     "execution_count": 9,
     "metadata": {},
     "output_type": "execute_result"
    }
   ],
   "source": [
    "## union\n",
    "set1.union(set2)"
   ]
  },
  {
   "cell_type": "code",
   "execution_count": 10,
   "id": "a00d5c31-3986-4c6b-808f-c7876b19d1d8",
   "metadata": {},
   "outputs": [
    {
     "data": {
      "text/plain": [
       "{3, 4, 5, 8, 10, 14, 50, 100, 200}"
      ]
     },
     "execution_count": 10,
     "metadata": {},
     "output_type": "execute_result"
    }
   ],
   "source": [
    "set1 | set2"
   ]
  },
  {
   "cell_type": "code",
   "execution_count": 14,
   "id": "94458992-6ed6-4020-8c07-f789043a3bb5",
   "metadata": {},
   "outputs": [
    {
     "data": {
      "text/plain": [
       "{3, 4, 5, 8, 10, 14, 100}"
      ]
     },
     "execution_count": 14,
     "metadata": {},
     "output_type": "execute_result"
    }
   ],
   "source": [
    "## Intersection\n",
    "set1 & set2\n",
    "set1.intersection(set2)"
   ]
  },
  {
   "cell_type": "code",
   "execution_count": 12,
   "id": "e3fc1cab-88e1-4787-928a-d217d2ea736c",
   "metadata": {},
   "outputs": [
    {
     "data": {
      "text/plain": [
       "{50, 200}"
      ]
     },
     "execution_count": 12,
     "metadata": {},
     "output_type": "execute_result"
    }
   ],
   "source": [
    "## Difference\n",
    "set1 - set2"
   ]
  },
  {
   "cell_type": "code",
   "execution_count": 13,
   "id": "2a21f8f7-06f3-4a5a-b8aa-42e21dcecd2f",
   "metadata": {},
   "outputs": [
    {
     "data": {
      "text/plain": [
       "{50, 200}"
      ]
     },
     "execution_count": 13,
     "metadata": {},
     "output_type": "execute_result"
    }
   ],
   "source": [
    "set1.difference(set2)"
   ]
  },
  {
   "cell_type": "code",
   "execution_count": 15,
   "id": "7eacd7b9-f33a-42bc-a0e1-8bc747ecef42",
   "metadata": {},
   "outputs": [
    {
     "data": {
      "text/plain": [
       "True"
      ]
     },
     "execution_count": 15,
     "metadata": {},
     "output_type": "execute_result"
    }
   ],
   "source": [
    "set2.issubset(set1)"
   ]
  },
  {
   "cell_type": "code",
   "execution_count": 16,
   "id": "f14a6b74-dde2-42d6-8582-690ba90ac21a",
   "metadata": {},
   "outputs": [
    {
     "data": {
      "text/plain": [
       "True"
      ]
     },
     "execution_count": 16,
     "metadata": {},
     "output_type": "execute_result"
    }
   ],
   "source": [
    "set1.issuperset(set2)"
   ]
  },
  {
   "cell_type": "code",
   "execution_count": 29,
   "id": "5a11a3a9-3724-4de6-9ece-be238340d0aa",
   "metadata": {},
   "outputs": [],
   "source": [
    "#### Dictionaries\n",
    "dict1= {'Name':['Ajay','Sanjay','John','Ramya'],'Age':[20,21,22,23],\n",
    "        'Gender':['Male','Male','Male','Female']}"
   ]
  },
  {
   "cell_type": "code",
   "execution_count": 30,
   "id": "f6d7e433-358e-4295-abc7-5253d5d6fcef",
   "metadata": {},
   "outputs": [
    {
     "data": {
      "text/plain": [
       "dict"
      ]
     },
     "execution_count": 30,
     "metadata": {},
     "output_type": "execute_result"
    }
   ],
   "source": [
    "type(dict1)"
   ]
  },
  {
   "cell_type": "code",
   "execution_count": 31,
   "id": "82c69fea-df85-478a-9c98-c98122abe46a",
   "metadata": {},
   "outputs": [
    {
     "data": {
      "text/plain": [
       "{'Name': ['Ajay', 'Sanjay', 'John', 'Ramya'],\n",
       " 'Age': [20, 21, 22, 23],\n",
       " 'Gender': ['Male', 'Male', 'Male', 'Female']}"
      ]
     },
     "execution_count": 31,
     "metadata": {},
     "output_type": "execute_result"
    }
   ],
   "source": [
    "dict1"
   ]
  },
  {
   "cell_type": "code",
   "execution_count": 32,
   "id": "00a198fb-3c09-4d11-88dc-f3fd74fd1000",
   "metadata": {},
   "outputs": [
    {
     "data": {
      "text/plain": [
       "dict_keys(['Name', 'Age', 'Gender'])"
      ]
     },
     "execution_count": 32,
     "metadata": {},
     "output_type": "execute_result"
    }
   ],
   "source": [
    "dict1.keys()"
   ]
  },
  {
   "cell_type": "code",
   "execution_count": 33,
   "id": "3dd2ca5c-c05b-4341-8cba-2567b3f860ec",
   "metadata": {},
   "outputs": [
    {
     "data": {
      "text/plain": [
       "dict_values([['Ajay', 'Sanjay', 'John', 'Ramya'], [20, 21, 22, 23], ['Male', 'Male', 'Male', 'Female']])"
      ]
     },
     "execution_count": 33,
     "metadata": {},
     "output_type": "execute_result"
    }
   ],
   "source": [
    "dict1.values()"
   ]
  },
  {
   "cell_type": "code",
   "execution_count": 34,
   "id": "ec82dba5-11d6-4e5d-9896-f6cf4740ca86",
   "metadata": {},
   "outputs": [
    {
     "data": {
      "text/plain": [
       "dict_items([('Name', ['Ajay', 'Sanjay', 'John', 'Ramya']), ('Age', [20, 21, 22, 23]), ('Gender', ['Male', 'Male', 'Male', 'Female'])])"
      ]
     },
     "execution_count": 34,
     "metadata": {},
     "output_type": "execute_result"
    }
   ],
   "source": [
    "dict1.items()"
   ]
  },
  {
   "cell_type": "code",
   "execution_count": 35,
   "id": "4c070604-c820-4baf-9adb-0e2203747f74",
   "metadata": {},
   "outputs": [
    {
     "data": {
      "text/plain": [
       "['Pune', 'Mumbai', 'Chennai', 'Bengaluru']"
      ]
     },
     "execution_count": 35,
     "metadata": {},
     "output_type": "execute_result"
    }
   ],
   "source": [
    "dict1.setdefault('Location',['Pune','Mumbai','Chennai','Bengaluru'])"
   ]
  },
  {
   "cell_type": "code",
   "execution_count": 36,
   "id": "cbbd458d-6916-4f6c-b272-0cc2869563e2",
   "metadata": {},
   "outputs": [
    {
     "data": {
      "text/plain": [
       "{'Name': ['Ajay', 'Sanjay', 'John', 'Ramya'],\n",
       " 'Age': [20, 21, 22, 23],\n",
       " 'Gender': ['Male', 'Male', 'Male', 'Female'],\n",
       " 'Location': ['Pune', 'Mumbai', 'Chennai', 'Bengaluru']}"
      ]
     },
     "execution_count": 36,
     "metadata": {},
     "output_type": "execute_result"
    }
   ],
   "source": [
    "dict1"
   ]
  },
  {
   "cell_type": "code",
   "execution_count": 39,
   "id": "3a1716d8-8ecb-4997-b59a-767354497653",
   "metadata": {},
   "outputs": [
    {
     "data": {
      "text/plain": [
       "['Male', 'Male', 'Male', 'Female']"
      ]
     },
     "execution_count": 39,
     "metadata": {},
     "output_type": "execute_result"
    }
   ],
   "source": [
    "dict1.get('Gender')"
   ]
  },
  {
   "cell_type": "code",
   "execution_count": 40,
   "id": "9709f7d6-aedc-4471-a217-8145be15d209",
   "metadata": {},
   "outputs": [],
   "source": [
    "dict2= dict1.copy()"
   ]
  },
  {
   "cell_type": "code",
   "execution_count": 41,
   "id": "0512a96b-ece1-4b94-9140-af1f15c37167",
   "metadata": {},
   "outputs": [
    {
     "data": {
      "text/plain": [
       "{'Name': ['Ajay', 'Sanjay', 'John', 'Ramya'],\n",
       " 'Age': [20, 21, 22, 23],\n",
       " 'Gender': ['Male', 'Male', 'Male', 'Female'],\n",
       " 'Location': ['Pune', 'Mumbai', 'Chennai', 'Bengaluru']}"
      ]
     },
     "execution_count": 41,
     "metadata": {},
     "output_type": "execute_result"
    }
   ],
   "source": [
    "dict2"
   ]
  },
  {
   "cell_type": "code",
   "execution_count": 42,
   "id": "d017c784-43fe-4a93-b5e3-38ce45691e83",
   "metadata": {},
   "outputs": [
    {
     "data": {
      "text/plain": [
       "['Pune', 'Mumbai', 'Chennai', 'Bengaluru']"
      ]
     },
     "execution_count": 42,
     "metadata": {},
     "output_type": "execute_result"
    }
   ],
   "source": [
    "dict2.pop('Location')"
   ]
  },
  {
   "cell_type": "code",
   "execution_count": 43,
   "id": "38d0682e-3710-41ef-bc7c-fc66d7e1e591",
   "metadata": {},
   "outputs": [
    {
     "data": {
      "text/plain": [
       "{'Name': ['Ajay', 'Sanjay', 'John', 'Ramya'],\n",
       " 'Age': [20, 21, 22, 23],\n",
       " 'Gender': ['Male', 'Male', 'Male', 'Female']}"
      ]
     },
     "execution_count": 43,
     "metadata": {},
     "output_type": "execute_result"
    }
   ],
   "source": [
    "dict2"
   ]
  },
  {
   "cell_type": "code",
   "execution_count": 44,
   "id": "0ce0f0d9-a365-4a2c-a95a-62567ec3cd1e",
   "metadata": {},
   "outputs": [
    {
     "data": {
      "text/plain": [
       "{'Name': ['Ajay', 'Sanjay', 'John', 'Ramya'],\n",
       " 'Age': [20, 21, 22, 23],\n",
       " 'Gender': ['Male', 'Male', 'Male', 'Female'],\n",
       " 'Location': ['Pune', 'Mumbai', 'Chennai', 'Bengaluru']}"
      ]
     },
     "execution_count": 44,
     "metadata": {},
     "output_type": "execute_result"
    }
   ],
   "source": [
    "dict1"
   ]
  },
  {
   "cell_type": "code",
   "execution_count": 45,
   "id": "7d86af9f-f022-4ac8-aee7-e714207d3373",
   "metadata": {},
   "outputs": [],
   "source": [
    "dict2.update(dict1)"
   ]
  },
  {
   "cell_type": "code",
   "execution_count": 46,
   "id": "f99134bc-14fa-4062-a7c6-bb516e233731",
   "metadata": {},
   "outputs": [
    {
     "data": {
      "text/plain": [
       "{'Name': ['Ajay', 'Sanjay', 'John', 'Ramya'],\n",
       " 'Age': [20, 21, 22, 23],\n",
       " 'Gender': ['Male', 'Male', 'Male', 'Female'],\n",
       " 'Location': ['Pune', 'Mumbai', 'Chennai', 'Bengaluru']}"
      ]
     },
     "execution_count": 46,
     "metadata": {},
     "output_type": "execute_result"
    }
   ],
   "source": [
    "dict2"
   ]
  },
  {
   "cell_type": "code",
   "execution_count": 47,
   "id": "5ec049e5-5d00-4d02-a4b6-115cdabb4aec",
   "metadata": {},
   "outputs": [
    {
     "data": {
      "text/plain": [
       "{'Name': ['Ajay', 'Sanjay', 'John', 'Ramya'],\n",
       " 'Age': [20, 21, 22, 23],\n",
       " 'Gender': ['Male', 'Male', 'Male', 'Female'],\n",
       " 'Location': ['Pune', 'Mumbai', 'Chennai', 'Bengaluru']}"
      ]
     },
     "execution_count": 47,
     "metadata": {},
     "output_type": "execute_result"
    }
   ],
   "source": [
    "dict1"
   ]
  },
  {
   "cell_type": "code",
   "execution_count": 50,
   "id": "0ccaa7e9-a0b5-4b92-9c1f-07ee9c336f98",
   "metadata": {},
   "outputs": [
    {
     "data": {
      "text/plain": [
       "('Gender', ['Male', 'Male', 'Male', 'Female'])"
      ]
     },
     "execution_count": 50,
     "metadata": {},
     "output_type": "execute_result"
    }
   ],
   "source": [
    "dict1.popitem()"
   ]
  },
  {
   "cell_type": "code",
   "execution_count": 51,
   "id": "52374029-94e2-4e89-9d91-2cd4c685d5c5",
   "metadata": {},
   "outputs": [
    {
     "data": {
      "text/plain": [
       "{'Name': ['Ajay', 'Sanjay', 'John', 'Ramya'], 'Age': [20, 21, 22, 23]}"
      ]
     },
     "execution_count": 51,
     "metadata": {},
     "output_type": "execute_result"
    }
   ],
   "source": [
    "dict1"
   ]
  },
  {
   "cell_type": "code",
   "execution_count": 52,
   "id": "db5880d3-3651-4e24-a94f-0e68ab96ed0b",
   "metadata": {},
   "outputs": [],
   "source": [
    "## print\n",
    "Name='Ajay'\n",
    "Age= 22\n",
    "Profession='Engineer'"
   ]
  },
  {
   "cell_type": "code",
   "execution_count": 55,
   "id": "80b3a167-2055-4a7d-bde4-57be3baf4395",
   "metadata": {},
   "outputs": [
    {
     "name": "stdout",
     "output_type": "stream",
     "text": [
      "Ajay is 22 years old and he is an Engineer\n"
     ]
    }
   ],
   "source": [
    "print(Name,'is',Age,'years old and he is an',Profession)"
   ]
  },
  {
   "cell_type": "code",
   "execution_count": 58,
   "id": "1943f705-f31d-4437-b0a8-9d6f521451b2",
   "metadata": {},
   "outputs": [
    {
     "name": "stdout",
     "output_type": "stream",
     "text": [
      "Ajay is 22 years old and he is an Engineer\n"
     ]
    }
   ],
   "source": [
    "## f-format\n",
    "print(f'{Name} is {Age} years old and he is an {Profession}')"
   ]
  },
  {
   "cell_type": "code",
   "execution_count": 60,
   "id": "35893392-8da4-4cb7-a719-14975caa5a0e",
   "metadata": {},
   "outputs": [
    {
     "name": "stdin",
     "output_type": "stream",
     "text": [
      "Enter your Name:  Sanjay kumar\n"
     ]
    },
    {
     "name": "stdout",
     "output_type": "stream",
     "text": [
      "hai Sanjay kumar\n"
     ]
    }
   ],
   "source": [
    "## Input Function\n",
    "Name= input('Enter your Name: ')\n",
    "print('hai',Name)"
   ]
  },
  {
   "cell_type": "code",
   "execution_count": 64,
   "id": "20923f6e-ff86-4b89-af33-1dcecacc8d10",
   "metadata": {},
   "outputs": [
    {
     "name": "stdin",
     "output_type": "stream",
     "text": [
      "Enter first number 22\n",
      "Enter second number 22\n"
     ]
    },
    {
     "name": "stdout",
     "output_type": "stream",
     "text": [
      "The total is : 44\n"
     ]
    }
   ],
   "source": [
    "num1= int(input('Enter first number'))\n",
    "num2= int(input('Enter second number'))\n",
    "sum1= num1+num2\n",
    "print('The total is :',sum1)"
   ]
  },
  {
   "cell_type": "code",
   "execution_count": 65,
   "id": "48d63c3e-a79e-46c1-aea2-dc2f950bc185",
   "metadata": {},
   "outputs": [],
   "source": [
    "## Loops\n",
    "list1=[2,3,4,5]"
   ]
  },
  {
   "cell_type": "code",
   "execution_count": 67,
   "id": "00fcc0bb-dc1e-4ed3-91b7-3a2b3c97a63c",
   "metadata": {},
   "outputs": [
    {
     "name": "stdout",
     "output_type": "stream",
     "text": [
      "2\n",
      "3\n",
      "4\n",
      "5\n"
     ]
    }
   ],
   "source": [
    "for i in list1:\n",
    "    print(i)"
   ]
  },
  {
   "cell_type": "code",
   "execution_count": 68,
   "id": "c7f98d37-d9fa-4a90-90ce-3c70333e67c1",
   "metadata": {},
   "outputs": [
    {
     "data": {
      "text/plain": [
       "range(1, 6)"
      ]
     },
     "execution_count": 68,
     "metadata": {},
     "output_type": "execute_result"
    }
   ],
   "source": [
    "range(1,6)"
   ]
  },
  {
   "cell_type": "code",
   "execution_count": 69,
   "id": "663aaae0-3cfa-4ca7-805a-f196dc4fe728",
   "metadata": {},
   "outputs": [
    {
     "name": "stdout",
     "output_type": "stream",
     "text": [
      "1\n",
      "2\n",
      "3\n",
      "4\n",
      "5\n"
     ]
    }
   ],
   "source": [
    "for i in range(1,6):\n",
    "    print(i)"
   ]
  },
  {
   "cell_type": "code",
   "execution_count": 71,
   "id": "ecda192e-74c3-4f23-9c67-ec34fb45e24e",
   "metadata": {},
   "outputs": [
    {
     "name": "stdout",
     "output_type": "stream",
     "text": [
      "(0, 2)\n",
      "(1, 3)\n",
      "(2, 4)\n",
      "(3, 5)\n"
     ]
    }
   ],
   "source": [
    "for i in enumerate(list1):\n",
    "    print(i)"
   ]
  },
  {
   "cell_type": "code",
   "execution_count": 72,
   "id": "af7bbcb7-6c7f-45c8-92b4-09e4165578cc",
   "metadata": {},
   "outputs": [],
   "source": [
    "list1=[3,4,5,6]"
   ]
  },
  {
   "cell_type": "code",
   "execution_count": 80,
   "id": "0cc5541a-6be9-4e2c-9040-ab6037acca91",
   "metadata": {},
   "outputs": [
    {
     "name": "stdin",
     "output_type": "stream",
     "text": [
      "Enter the count 3\n",
      "Enter the input:1 2\n",
      "Enter the input:2 3\n",
      "Enter the input:3 4\n"
     ]
    },
    {
     "name": "stdout",
     "output_type": "stream",
     "text": [
      "[2, 3, 4]\n"
     ]
    }
   ],
   "source": [
    "list1=[]\n",
    "n= int(input('Enter the count'))\n",
    "for i in range(n):\n",
    "    inputs= int(input(f'Enter the input:{i+1}'))\n",
    "    list1.append(inputs)\n",
    "print(list1)"
   ]
  },
  {
   "cell_type": "code",
   "execution_count": 81,
   "id": "4fdddbef-9118-4181-b85a-d36280cde950",
   "metadata": {},
   "outputs": [
    {
     "data": {
      "text/plain": [
       "[2, 3, 4]"
      ]
     },
     "execution_count": 81,
     "metadata": {},
     "output_type": "execute_result"
    }
   ],
   "source": [
    "## List comprehension\n",
    "list1"
   ]
  },
  {
   "cell_type": "code",
   "execution_count": 84,
   "id": "a6beb3b2-a76f-447a-9ae4-c378153ccf93",
   "metadata": {},
   "outputs": [
    {
     "data": {
      "text/plain": [
       "[4, 6, 8]"
      ]
     },
     "execution_count": 84,
     "metadata": {},
     "output_type": "execute_result"
    }
   ],
   "source": [
    "[i+i for i in list1]"
   ]
  },
  {
   "cell_type": "code",
   "execution_count": 87,
   "id": "9997ac34-4612-425f-8b5f-4279249910c2",
   "metadata": {},
   "outputs": [
    {
     "name": "stdin",
     "output_type": "stream",
     "text": [
      "Enter the number 10\n"
     ]
    },
    {
     "name": "stdout",
     "output_type": "stream",
     "text": [
      "10\n"
     ]
    }
   ],
   "source": [
    "n= int(input('Enter the number'))\n",
    "if n>10:\n",
    "    x= n-5\n",
    "    print(x)\n",
    "elif n<10:\n",
    "    x= n+5\n",
    "    print(x)\n",
    "else:\n",
    "    print(n)"
   ]
  },
  {
   "cell_type": "code",
   "execution_count": 89,
   "id": "287deddf-2498-42a8-b305-e72f2f9ab9b1",
   "metadata": {},
   "outputs": [
    {
     "name": "stdin",
     "output_type": "stream",
     "text": [
      "Enter the number 11\n"
     ]
    },
    {
     "name": "stdout",
     "output_type": "stream",
     "text": [
      "11 Number is odd\n"
     ]
    }
   ],
   "source": [
    "# check the odd /even number\n",
    "n= int(input('Enter the number'))\n",
    "if n%2==0:\n",
    "    print(n,'Number is Even')\n",
    "else:\n",
    "    print(n,'Number is odd')"
   ]
  },
  {
   "cell_type": "code",
   "execution_count": 92,
   "id": "d935b892-4dbe-49dd-90cd-b74747a2d9ec",
   "metadata": {},
   "outputs": [
    {
     "name": "stdin",
     "output_type": "stream",
     "text": [
      "Enter the number 100\n"
     ]
    },
    {
     "name": "stdout",
     "output_type": "stream",
     "text": [
      "100 Number is Positive\n"
     ]
    }
   ],
   "source": [
    "## check the number is positive/negative/zero\n",
    "n= int(input('Enter the number'))\n",
    "if n>0:\n",
    "    print(n,'Number is Positive')\n",
    "elif n<0:\n",
    "    print(n,'Number is Negative')\n",
    "else:\n",
    "    print(n,'Number is Zero')"
   ]
  },
  {
   "cell_type": "code",
   "execution_count": 93,
   "id": "d3c051f8-3e31-4235-9285-8719c73a447e",
   "metadata": {},
   "outputs": [
    {
     "name": "stdout",
     "output_type": "stream",
     "text": [
      "[2, 4, 6, 10] [11, 13, 15]\n"
     ]
    }
   ],
   "source": [
    "list1=[2,4,6,10,11,13,15]\n",
    "even=[]\n",
    "odd=[]\n",
    "for i in list1:\n",
    "    if i%2==0:\n",
    "        even.append(i)\n",
    "    else:\n",
    "        odd.append(i)\n",
    "print(even,odd)"
   ]
  },
  {
   "cell_type": "code",
   "execution_count": 94,
   "id": "d3687d04-abc2-4e1e-b3c9-493976485263",
   "metadata": {},
   "outputs": [],
   "source": [
    "## Functions\n",
    "def add(x):\n",
    "    return x+x"
   ]
  },
  {
   "cell_type": "code",
   "execution_count": 98,
   "id": "264f53b1-7ea9-4f93-9ca3-3cae0db43edd",
   "metadata": {},
   "outputs": [
    {
     "data": {
      "text/plain": [
       "4"
      ]
     },
     "execution_count": 98,
     "metadata": {},
     "output_type": "execute_result"
    }
   ],
   "source": [
    "add(2)"
   ]
  },
  {
   "cell_type": "code",
   "execution_count": 99,
   "id": "ddd8320e-8ebb-4650-9370-c5c9714523d5",
   "metadata": {},
   "outputs": [],
   "source": [
    "def mult(x,y):\n",
    "    return x*y"
   ]
  },
  {
   "cell_type": "code",
   "execution_count": 100,
   "id": "1ee27314-ccbe-4f9b-b6d7-67e3af9e1927",
   "metadata": {},
   "outputs": [
    {
     "data": {
      "text/plain": [
       "20"
      ]
     },
     "execution_count": 100,
     "metadata": {},
     "output_type": "execute_result"
    }
   ],
   "source": [
    "mult(4,5)"
   ]
  },
  {
   "cell_type": "code",
   "execution_count": 101,
   "id": "18ccbb69-cd5b-4947-a893-5c66988ab8dd",
   "metadata": {},
   "outputs": [],
   "source": [
    "import math"
   ]
  },
  {
   "cell_type": "code",
   "execution_count": 102,
   "id": "2ce22972-591d-4e2f-9b0e-53bca96685bb",
   "metadata": {},
   "outputs": [],
   "source": [
    "def factorial(x):\n",
    "    return math.factorial(x)"
   ]
  },
  {
   "cell_type": "code",
   "execution_count": 103,
   "id": "8886494e-cfcb-4de4-a43d-1501c09c68f8",
   "metadata": {},
   "outputs": [
    {
     "data": {
      "text/plain": [
       "120"
      ]
     },
     "execution_count": 103,
     "metadata": {},
     "output_type": "execute_result"
    }
   ],
   "source": [
    "factorial(5)"
   ]
  },
  {
   "cell_type": "code",
   "execution_count": 104,
   "id": "6c941aec-5fbd-4851-9e3a-7a6ead610279",
   "metadata": {},
   "outputs": [],
   "source": [
    "def even_odd(x):\n",
    "    if x%2==0:\n",
    "        return (x,'Number is even')\n",
    "    else:\n",
    "        return (x,'Number is odd')"
   ]
  },
  {
   "cell_type": "code",
   "execution_count": 106,
   "id": "5fcd75b6-9aad-4399-9fe0-dbc2da50ca99",
   "metadata": {},
   "outputs": [
    {
     "data": {
      "text/plain": [
       "(3, 'Number is odd')"
      ]
     },
     "execution_count": 106,
     "metadata": {},
     "output_type": "execute_result"
    }
   ],
   "source": [
    "even_odd(3)"
   ]
  },
  {
   "cell_type": "code",
   "execution_count": 107,
   "id": "617e0719-56e1-44eb-9884-8034edbab8a3",
   "metadata": {},
   "outputs": [],
   "source": [
    "a=[]\n",
    "even=[]\n",
    "odd=[]\n",
    "def even_odd(a):\n",
    "    for i in a:\n",
    "        if i%2==0:\n",
    "            even.append(i)\n",
    "        else:\n",
    "            odd.append(i)\n",
    "    print(even,odd)"
   ]
  },
  {
   "cell_type": "code",
   "execution_count": 108,
   "id": "61a8e47d-3f73-48ed-8257-fc07839d4e09",
   "metadata": {},
   "outputs": [
    {
     "name": "stdout",
     "output_type": "stream",
     "text": [
      "[2, 10, 22] [5, 7, 11, 13]\n"
     ]
    }
   ],
   "source": [
    "even_odd([2,5,7,10,11,22,13])"
   ]
  },
  {
   "cell_type": "markdown",
   "id": "1e069c4d-7d03-498c-9be2-f3e0639d5c7b",
   "metadata": {},
   "source": [
    "#### Lambda "
   ]
  },
  {
   "cell_type": "code",
   "execution_count": 109,
   "id": "4e5b6743-3374-4279-83c9-6e1797dd5fa6",
   "metadata": {},
   "outputs": [],
   "source": [
    "add= lambda x: x+x"
   ]
  },
  {
   "cell_type": "code",
   "execution_count": 110,
   "id": "434063df-99cf-46ae-911c-43edfd880193",
   "metadata": {},
   "outputs": [
    {
     "data": {
      "text/plain": [
       "6"
      ]
     },
     "execution_count": 110,
     "metadata": {},
     "output_type": "execute_result"
    }
   ],
   "source": [
    "add(3)"
   ]
  },
  {
   "cell_type": "code",
   "execution_count": 111,
   "id": "f5113a51-14cc-494e-a575-8c828b540506",
   "metadata": {},
   "outputs": [],
   "source": [
    "mult= lambda x,y: x*y"
   ]
  },
  {
   "cell_type": "code",
   "execution_count": 112,
   "id": "ec593b70-4b04-4950-8ba2-428dc163254d",
   "metadata": {},
   "outputs": [
    {
     "data": {
      "text/plain": [
       "25"
      ]
     },
     "execution_count": 112,
     "metadata": {},
     "output_type": "execute_result"
    }
   ],
   "source": [
    "mult(5,5)"
   ]
  },
  {
   "cell_type": "code",
   "execution_count": 113,
   "id": "f97dde90-bde2-46e5-b391-88b6c44db25f",
   "metadata": {},
   "outputs": [],
   "source": [
    "fact= lambda x: math.factorial(x)"
   ]
  },
  {
   "cell_type": "code",
   "execution_count": 114,
   "id": "f62ef6d7-1e3b-47e1-b813-f89b57582119",
   "metadata": {},
   "outputs": [
    {
     "data": {
      "text/plain": [
       "120"
      ]
     },
     "execution_count": 114,
     "metadata": {},
     "output_type": "execute_result"
    }
   ],
   "source": [
    "fact(5)"
   ]
  },
  {
   "cell_type": "code",
   "execution_count": 118,
   "id": "958da529-71c0-48f6-a980-48dff2dbd05b",
   "metadata": {
    "scrolled": true
   },
   "outputs": [],
   "source": [
    "even_odd= lambda x: (x,'Number is Even') if x%2==0 else (x,'Number is odd')"
   ]
  },
  {
   "cell_type": "code",
   "execution_count": 120,
   "id": "56d4cd14-01f4-4bf6-bcf3-48db12345972",
   "metadata": {},
   "outputs": [
    {
     "data": {
      "text/plain": [
       "(30, 'Number is Even')"
      ]
     },
     "execution_count": 120,
     "metadata": {},
     "output_type": "execute_result"
    }
   ],
   "source": [
    "even_odd(30)"
   ]
  },
  {
   "cell_type": "code",
   "execution_count": 121,
   "id": "d35c6b39-43df-4170-996c-3eee38e23caa",
   "metadata": {},
   "outputs": [],
   "source": [
    "pos_neg= lambda x: (x,'Number is positive') if x>0 else (x,'Number is Negative') if x<0 else (x,'Number is Zero')"
   ]
  },
  {
   "cell_type": "code",
   "execution_count": 124,
   "id": "c07878e3-29cc-4b47-9471-4f7f1596cf5a",
   "metadata": {},
   "outputs": [
    {
     "data": {
      "text/plain": [
       "(-10, 'Number is Negative')"
      ]
     },
     "execution_count": 124,
     "metadata": {},
     "output_type": "execute_result"
    }
   ],
   "source": [
    "pos_neg(-10)"
   ]
  },
  {
   "cell_type": "code",
   "execution_count": 125,
   "id": "5b97fbf3-f807-4751-80c9-4aef41ab7675",
   "metadata": {},
   "outputs": [
    {
     "data": {
      "text/plain": [
       "[2, 4, 6, 10, 11, 13, 15]"
      ]
     },
     "execution_count": 125,
     "metadata": {},
     "output_type": "execute_result"
    }
   ],
   "source": [
    "list1"
   ]
  },
  {
   "cell_type": "code",
   "execution_count": 126,
   "id": "5f54a983-dd73-4114-a3f8-6c40c0721fad",
   "metadata": {},
   "outputs": [],
   "source": [
    "even_odd= lambda x: [(x,'Number is Even') if x%2==0 else (x,'Number is odd') for x in list1]"
   ]
  },
  {
   "cell_type": "code",
   "execution_count": 127,
   "id": "8510f108-0cb4-4b3b-937b-62303358b60d",
   "metadata": {},
   "outputs": [
    {
     "data": {
      "text/plain": [
       "[(2, 'Number is Even'),\n",
       " (4, 'Number is Even'),\n",
       " (6, 'Number is Even'),\n",
       " (10, 'Number is Even'),\n",
       " (11, 'Number is odd'),\n",
       " (13, 'Number is odd'),\n",
       " (15, 'Number is odd')]"
      ]
     },
     "execution_count": 127,
     "metadata": {},
     "output_type": "execute_result"
    }
   ],
   "source": [
    "even_odd(list1)"
   ]
  },
  {
   "cell_type": "code",
   "execution_count": null,
   "id": "8587af31-33d8-473d-9810-bf59acf946af",
   "metadata": {},
   "outputs": [],
   "source": []
  }
 ],
 "metadata": {
  "kernelspec": {
   "display_name": "Python [conda env:base] *",
   "language": "python",
   "name": "conda-base-py"
  },
  "language_info": {
   "codemirror_mode": {
    "name": "ipython",
    "version": 3
   },
   "file_extension": ".py",
   "mimetype": "text/x-python",
   "name": "python",
   "nbconvert_exporter": "python",
   "pygments_lexer": "ipython3",
   "version": "3.13.5"
  }
 },
 "nbformat": 4,
 "nbformat_minor": 5
}
