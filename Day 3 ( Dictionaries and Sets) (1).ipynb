{
 "cells": [
  {
   "cell_type": "markdown",
   "id": "598982ff",
   "metadata": {},
   "source": [
    "## Sets"
   ]
  },
  {
   "cell_type": "code",
   "execution_count": 16,
   "id": "76e7accc",
   "metadata": {},
   "outputs": [],
   "source": [
    "set1= {1,2,3,4,5,6}"
   ]
  },
  {
   "cell_type": "code",
   "execution_count": 17,
   "id": "5e0db2e9",
   "metadata": {},
   "outputs": [
    {
     "data": {
      "text/plain": [
       "set"
      ]
     },
     "execution_count": 17,
     "metadata": {},
     "output_type": "execute_result"
    }
   ],
   "source": [
    "type(set1)"
   ]
  },
  {
   "cell_type": "code",
   "execution_count": 18,
   "id": "89ccc095",
   "metadata": {},
   "outputs": [],
   "source": [
    "set1.add(20)"
   ]
  },
  {
   "cell_type": "code",
   "execution_count": 19,
   "id": "ad9d7c9c",
   "metadata": {},
   "outputs": [],
   "source": [
    "set1.add(10)"
   ]
  },
  {
   "cell_type": "code",
   "execution_count": 20,
   "id": "432eb13e",
   "metadata": {},
   "outputs": [],
   "source": [
    "set2= set1.copy()"
   ]
  },
  {
   "cell_type": "code",
   "execution_count": 21,
   "id": "98aeac51",
   "metadata": {},
   "outputs": [
    {
     "data": {
      "text/plain": [
       "{1, 2, 3, 4, 5, 6, 10, 20}"
      ]
     },
     "execution_count": 21,
     "metadata": {},
     "output_type": "execute_result"
    }
   ],
   "source": [
    "set2"
   ]
  },
  {
   "cell_type": "code",
   "execution_count": 22,
   "id": "9220df9e",
   "metadata": {},
   "outputs": [
    {
     "data": {
      "text/plain": [
       "{1, 2, 3, 4, 5, 6, 10, 20}"
      ]
     },
     "execution_count": 22,
     "metadata": {},
     "output_type": "execute_result"
    }
   ],
   "source": [
    "set1"
   ]
  },
  {
   "cell_type": "code",
   "execution_count": 23,
   "id": "614ef3fb",
   "metadata": {},
   "outputs": [],
   "source": [
    "set1.add(100)"
   ]
  },
  {
   "cell_type": "code",
   "execution_count": 24,
   "id": "afff6353",
   "metadata": {},
   "outputs": [],
   "source": [
    "set1.add(200)"
   ]
  },
  {
   "cell_type": "code",
   "execution_count": 25,
   "id": "d07b15b7",
   "metadata": {},
   "outputs": [
    {
     "data": {
      "text/plain": [
       "{1, 2, 3, 4, 5, 6, 10, 20, 100, 200}"
      ]
     },
     "execution_count": 25,
     "metadata": {},
     "output_type": "execute_result"
    }
   ],
   "source": [
    "set1"
   ]
  },
  {
   "cell_type": "code",
   "execution_count": 26,
   "id": "2b31e4bc",
   "metadata": {},
   "outputs": [
    {
     "data": {
      "text/plain": [
       "{1, 2, 3, 4, 5, 6, 10, 20}"
      ]
     },
     "execution_count": 26,
     "metadata": {},
     "output_type": "execute_result"
    }
   ],
   "source": [
    "set2"
   ]
  },
  {
   "cell_type": "code",
   "execution_count": 27,
   "id": "f451a538",
   "metadata": {},
   "outputs": [
    {
     "data": {
      "text/plain": [
       "{1, 2, 3, 4, 5, 6, 10, 20, 100, 200}"
      ]
     },
     "execution_count": 27,
     "metadata": {},
     "output_type": "execute_result"
    }
   ],
   "source": [
    "set1.union(set2)"
   ]
  },
  {
   "cell_type": "code",
   "execution_count": 28,
   "id": "a3611fad",
   "metadata": {},
   "outputs": [
    {
     "data": {
      "text/plain": [
       "{1, 2, 3, 4, 5, 6, 10, 20}"
      ]
     },
     "execution_count": 28,
     "metadata": {},
     "output_type": "execute_result"
    }
   ],
   "source": [
    "set1.intersection(set2)"
   ]
  },
  {
   "cell_type": "code",
   "execution_count": 30,
   "id": "c1cc339a",
   "metadata": {},
   "outputs": [
    {
     "data": {
      "text/plain": [
       "{1, 2, 3, 4, 5, 6, 10, 20, 100, 200}"
      ]
     },
     "execution_count": 30,
     "metadata": {},
     "output_type": "execute_result"
    }
   ],
   "source": [
    "set1"
   ]
  },
  {
   "cell_type": "code",
   "execution_count": 31,
   "id": "7d5ad8e6",
   "metadata": {},
   "outputs": [
    {
     "data": {
      "text/plain": [
       "{1, 2, 3, 4, 5, 6, 10, 20}"
      ]
     },
     "execution_count": 31,
     "metadata": {},
     "output_type": "execute_result"
    }
   ],
   "source": [
    "set2"
   ]
  },
  {
   "cell_type": "code",
   "execution_count": 32,
   "id": "a991daf7",
   "metadata": {},
   "outputs": [
    {
     "data": {
      "text/plain": [
       "set()"
      ]
     },
     "execution_count": 32,
     "metadata": {},
     "output_type": "execute_result"
    }
   ],
   "source": [
    "set2.difference(set1)"
   ]
  },
  {
   "cell_type": "code",
   "execution_count": 33,
   "id": "c2a9bcab",
   "metadata": {},
   "outputs": [
    {
     "data": {
      "text/plain": [
       "{100, 200}"
      ]
     },
     "execution_count": 33,
     "metadata": {},
     "output_type": "execute_result"
    }
   ],
   "source": [
    "set2.symmetric_difference(set1)"
   ]
  },
  {
   "cell_type": "code",
   "execution_count": 34,
   "id": "480b5784",
   "metadata": {},
   "outputs": [
    {
     "data": {
      "text/plain": [
       "{1, 2, 3, 4, 5, 6, 10, 20, 100, 200}"
      ]
     },
     "execution_count": 34,
     "metadata": {},
     "output_type": "execute_result"
    }
   ],
   "source": [
    "set1"
   ]
  },
  {
   "cell_type": "code",
   "execution_count": 35,
   "id": "0d4b8fe8",
   "metadata": {},
   "outputs": [
    {
     "data": {
      "text/plain": [
       "{1, 2, 3, 4, 5, 6, 10, 20}"
      ]
     },
     "execution_count": 35,
     "metadata": {},
     "output_type": "execute_result"
    }
   ],
   "source": [
    "set2"
   ]
  },
  {
   "cell_type": "code",
   "execution_count": 41,
   "id": "c4de0a26",
   "metadata": {},
   "outputs": [],
   "source": [
    "s1={1,2}\n",
    "s2={2,3,4}"
   ]
  },
  {
   "cell_type": "code",
   "execution_count": 42,
   "id": "ec27fd50",
   "metadata": {},
   "outputs": [],
   "source": [
    "s1.update(s2)"
   ]
  },
  {
   "cell_type": "code",
   "execution_count": 43,
   "id": "cee381d1",
   "metadata": {},
   "outputs": [
    {
     "data": {
      "text/plain": [
       "{1, 2, 3, 4}"
      ]
     },
     "execution_count": 43,
     "metadata": {},
     "output_type": "execute_result"
    }
   ],
   "source": [
    "s1"
   ]
  },
  {
   "cell_type": "code",
   "execution_count": 44,
   "id": "40fcb140",
   "metadata": {},
   "outputs": [
    {
     "data": {
      "text/plain": [
       "{1, 2, 3, 4, 5, 6, 10, 20, 100, 200}"
      ]
     },
     "execution_count": 44,
     "metadata": {},
     "output_type": "execute_result"
    }
   ],
   "source": [
    "set1"
   ]
  },
  {
   "cell_type": "code",
   "execution_count": 45,
   "id": "81660a1a",
   "metadata": {},
   "outputs": [
    {
     "data": {
      "text/plain": [
       "{1, 2, 3, 4, 5, 6, 10, 20}"
      ]
     },
     "execution_count": 45,
     "metadata": {},
     "output_type": "execute_result"
    }
   ],
   "source": [
    "set2"
   ]
  },
  {
   "cell_type": "code",
   "execution_count": 46,
   "id": "3ab32c20",
   "metadata": {},
   "outputs": [],
   "source": [
    "set2.update(set1)"
   ]
  },
  {
   "cell_type": "code",
   "execution_count": 49,
   "id": "3fb4510d",
   "metadata": {},
   "outputs": [
    {
     "data": {
      "text/plain": [
       "{1, 2, 3, 4, 5, 6, 10, 20, 100, 200}"
      ]
     },
     "execution_count": 49,
     "metadata": {},
     "output_type": "execute_result"
    }
   ],
   "source": [
    "set1"
   ]
  },
  {
   "cell_type": "code",
   "execution_count": 50,
   "id": "94f83790",
   "metadata": {},
   "outputs": [
    {
     "data": {
      "text/plain": [
       "{1, 2, 3, 4, 5, 6, 10, 20, 100, 200}"
      ]
     },
     "execution_count": 50,
     "metadata": {},
     "output_type": "execute_result"
    }
   ],
   "source": [
    "set2"
   ]
  },
  {
   "cell_type": "code",
   "execution_count": 51,
   "id": "be6a752a",
   "metadata": {},
   "outputs": [],
   "source": [
    "set2.add(300)"
   ]
  },
  {
   "cell_type": "code",
   "execution_count": 52,
   "id": "d5e6e94a",
   "metadata": {},
   "outputs": [
    {
     "data": {
      "text/plain": [
       "{1, 2, 3, 4, 5, 6, 10, 20, 100, 200, 300}"
      ]
     },
     "execution_count": 52,
     "metadata": {},
     "output_type": "execute_result"
    }
   ],
   "source": [
    "set2"
   ]
  },
  {
   "cell_type": "code",
   "execution_count": 54,
   "id": "1a09a889",
   "metadata": {},
   "outputs": [
    {
     "data": {
      "text/plain": [
       "{1, 2, 3, 4, 5, 6, 10, 20, 100, 200}"
      ]
     },
     "execution_count": 54,
     "metadata": {},
     "output_type": "execute_result"
    }
   ],
   "source": [
    "set1"
   ]
  },
  {
   "cell_type": "code",
   "execution_count": 57,
   "id": "fb458466",
   "metadata": {},
   "outputs": [
    {
     "data": {
      "text/plain": [
       "True"
      ]
     },
     "execution_count": 57,
     "metadata": {},
     "output_type": "execute_result"
    }
   ],
   "source": [
    "set1.issubset(set2)"
   ]
  },
  {
   "cell_type": "code",
   "execution_count": 53,
   "id": "55867f37",
   "metadata": {},
   "outputs": [
    {
     "data": {
      "text/plain": [
       "False"
      ]
     },
     "execution_count": 53,
     "metadata": {},
     "output_type": "execute_result"
    }
   ],
   "source": [
    "set2.issubset(set1)"
   ]
  },
  {
   "cell_type": "code",
   "execution_count": 58,
   "id": "2a8202ac",
   "metadata": {},
   "outputs": [
    {
     "data": {
      "text/plain": [
       "True"
      ]
     },
     "execution_count": 58,
     "metadata": {},
     "output_type": "execute_result"
    }
   ],
   "source": [
    "set2.issuperset(set1)"
   ]
  },
  {
   "cell_type": "code",
   "execution_count": 91,
   "id": "311d6b17",
   "metadata": {},
   "outputs": [],
   "source": [
    "s1={1,2,3,4}\n",
    "s2={6,5}"
   ]
  },
  {
   "cell_type": "code",
   "execution_count": 92,
   "id": "533400df",
   "metadata": {},
   "outputs": [
    {
     "data": {
      "text/plain": [
       "True"
      ]
     },
     "execution_count": 92,
     "metadata": {},
     "output_type": "execute_result"
    }
   ],
   "source": [
    "s2.isdisjoint(s1)"
   ]
  },
  {
   "cell_type": "code",
   "execution_count": 71,
   "id": "5297ce6c",
   "metadata": {},
   "outputs": [
    {
     "data": {
      "text/plain": [
       "False"
      ]
     },
     "execution_count": 71,
     "metadata": {},
     "output_type": "execute_result"
    }
   ],
   "source": [
    "set1.isdisjoint(set2)"
   ]
  },
  {
   "cell_type": "code",
   "execution_count": 72,
   "id": "f817f662",
   "metadata": {},
   "outputs": [
    {
     "data": {
      "text/plain": [
       "{1, 2, 3, 4, 5, 6, 10, 20, 100, 200}"
      ]
     },
     "execution_count": 72,
     "metadata": {},
     "output_type": "execute_result"
    }
   ],
   "source": [
    "set1"
   ]
  },
  {
   "cell_type": "code",
   "execution_count": 73,
   "id": "404d1b1d",
   "metadata": {},
   "outputs": [],
   "source": [
    "set1.remove(100)"
   ]
  },
  {
   "cell_type": "code",
   "execution_count": 74,
   "id": "7baf428d",
   "metadata": {},
   "outputs": [
    {
     "data": {
      "text/plain": [
       "{1, 2, 3, 4, 5, 6, 10, 20, 200}"
      ]
     },
     "execution_count": 74,
     "metadata": {},
     "output_type": "execute_result"
    }
   ],
   "source": [
    "set1"
   ]
  },
  {
   "cell_type": "code",
   "execution_count": 79,
   "id": "a5c41b30",
   "metadata": {},
   "outputs": [
    {
     "data": {
      "text/plain": [
       "4"
      ]
     },
     "execution_count": 79,
     "metadata": {},
     "output_type": "execute_result"
    }
   ],
   "source": [
    "set1.pop()"
   ]
  },
  {
   "cell_type": "code",
   "execution_count": 81,
   "id": "04f379cf",
   "metadata": {},
   "outputs": [],
   "source": [
    "set1.add(1)"
   ]
  },
  {
   "cell_type": "code",
   "execution_count": 87,
   "id": "3fe63bdd",
   "metadata": {},
   "outputs": [],
   "source": [
    "set1.add(2)"
   ]
  },
  {
   "cell_type": "code",
   "execution_count": 88,
   "id": "241a0335",
   "metadata": {},
   "outputs": [
    {
     "data": {
      "text/plain": [
       "{1, 2, 5, 6, 10, 20, 200}"
      ]
     },
     "execution_count": 88,
     "metadata": {},
     "output_type": "execute_result"
    }
   ],
   "source": [
    "set1"
   ]
  },
  {
   "cell_type": "code",
   "execution_count": 22,
   "id": "ec947f71",
   "metadata": {},
   "outputs": [],
   "source": [
    "## Dictionaries"
   ]
  },
  {
   "cell_type": "code",
   "execution_count": 119,
   "id": "6cd4033b",
   "metadata": {},
   "outputs": [],
   "source": [
    "dict1={'names':['ajay','sanjay','ramesh','ravi'],'age':[20,23,21,22]}"
   ]
  },
  {
   "cell_type": "code",
   "execution_count": 120,
   "id": "59dd81f5",
   "metadata": {},
   "outputs": [
    {
     "data": {
      "text/plain": [
       "dict"
      ]
     },
     "execution_count": 120,
     "metadata": {},
     "output_type": "execute_result"
    }
   ],
   "source": [
    "type(dict1)"
   ]
  },
  {
   "cell_type": "code",
   "execution_count": 121,
   "id": "a91bfcd4",
   "metadata": {},
   "outputs": [
    {
     "data": {
      "text/plain": [
       "{'names': ['ajay', 'sanjay', 'ramesh', 'ravi'], 'age': [20, 23, 21, 22]}"
      ]
     },
     "execution_count": 121,
     "metadata": {},
     "output_type": "execute_result"
    }
   ],
   "source": [
    "dict1"
   ]
  },
  {
   "cell_type": "code",
   "execution_count": 122,
   "id": "4e4d3291",
   "metadata": {},
   "outputs": [
    {
     "data": {
      "text/plain": [
       "dict_keys(['names', 'age'])"
      ]
     },
     "execution_count": 122,
     "metadata": {},
     "output_type": "execute_result"
    }
   ],
   "source": [
    "dict1.keys()"
   ]
  },
  {
   "cell_type": "code",
   "execution_count": 123,
   "id": "31e0283e",
   "metadata": {},
   "outputs": [
    {
     "data": {
      "text/plain": [
       "dict_values([['ajay', 'sanjay', 'ramesh', 'ravi'], [20, 23, 21, 22]])"
      ]
     },
     "execution_count": 123,
     "metadata": {},
     "output_type": "execute_result"
    }
   ],
   "source": [
    "dict1.values()"
   ]
  },
  {
   "cell_type": "code",
   "execution_count": 124,
   "id": "0dc8e89b",
   "metadata": {},
   "outputs": [
    {
     "data": {
      "text/plain": [
       "[20, 23, 21, 22]"
      ]
     },
     "execution_count": 124,
     "metadata": {},
     "output_type": "execute_result"
    }
   ],
   "source": [
    "dict1.get('age')"
   ]
  },
  {
   "cell_type": "code",
   "execution_count": 125,
   "id": "d24a386b",
   "metadata": {},
   "outputs": [],
   "source": [
    "dict1['location']=['bangalore','orissa','mumbai','chennai']"
   ]
  },
  {
   "cell_type": "code",
   "execution_count": 126,
   "id": "c785070b",
   "metadata": {},
   "outputs": [
    {
     "data": {
      "text/plain": [
       "{'names': ['ajay', 'sanjay', 'ramesh', 'ravi'],\n",
       " 'age': [20, 23, 21, 22],\n",
       " 'location': ['bangalore', 'orissa', 'mumbai', 'chennai']}"
      ]
     },
     "execution_count": 126,
     "metadata": {},
     "output_type": "execute_result"
    }
   ],
   "source": [
    "dict1"
   ]
  },
  {
   "cell_type": "code",
   "execution_count": 127,
   "id": "44b399ee",
   "metadata": {},
   "outputs": [],
   "source": [
    "dict2= dict1.copy()"
   ]
  },
  {
   "cell_type": "code",
   "execution_count": 128,
   "id": "849e81d4",
   "metadata": {},
   "outputs": [
    {
     "data": {
      "text/plain": [
       "{'names': ['ajay', 'sanjay', 'ramesh', 'ravi'],\n",
       " 'age': [20, 23, 21, 22],\n",
       " 'location': ['bangalore', 'orissa', 'mumbai', 'chennai']}"
      ]
     },
     "execution_count": 128,
     "metadata": {},
     "output_type": "execute_result"
    }
   ],
   "source": [
    "dict2"
   ]
  },
  {
   "cell_type": "code",
   "execution_count": 129,
   "id": "8eb8b70a",
   "metadata": {},
   "outputs": [],
   "source": [
    "dict1['Gender']=['male','male','male','male']"
   ]
  },
  {
   "cell_type": "code",
   "execution_count": 130,
   "id": "4651af2c",
   "metadata": {},
   "outputs": [
    {
     "data": {
      "text/plain": [
       "{'names': ['ajay', 'sanjay', 'ramesh', 'ravi'],\n",
       " 'age': [20, 23, 21, 22],\n",
       " 'location': ['bangalore', 'orissa', 'mumbai', 'chennai'],\n",
       " 'Gender': ['male', 'male', 'male', 'male']}"
      ]
     },
     "execution_count": 130,
     "metadata": {},
     "output_type": "execute_result"
    }
   ],
   "source": [
    "dict1"
   ]
  },
  {
   "cell_type": "code",
   "execution_count": 131,
   "id": "e33b889c",
   "metadata": {},
   "outputs": [
    {
     "data": {
      "text/plain": [
       "{'names': ['ajay', 'sanjay', 'ramesh', 'ravi'],\n",
       " 'age': [20, 23, 21, 22],\n",
       " 'location': ['bangalore', 'orissa', 'mumbai', 'chennai']}"
      ]
     },
     "execution_count": 131,
     "metadata": {},
     "output_type": "execute_result"
    }
   ],
   "source": [
    "dict2"
   ]
  },
  {
   "cell_type": "code",
   "execution_count": 132,
   "id": "4c98bdaf",
   "metadata": {},
   "outputs": [],
   "source": [
    "dict2.update(dict1)"
   ]
  },
  {
   "cell_type": "code",
   "execution_count": 133,
   "id": "85852076",
   "metadata": {},
   "outputs": [
    {
     "data": {
      "text/plain": [
       "{'names': ['ajay', 'sanjay', 'ramesh', 'ravi'],\n",
       " 'age': [20, 23, 21, 22],\n",
       " 'location': ['bangalore', 'orissa', 'mumbai', 'chennai'],\n",
       " 'Gender': ['male', 'male', 'male', 'male']}"
      ]
     },
     "execution_count": 133,
     "metadata": {},
     "output_type": "execute_result"
    }
   ],
   "source": [
    "dict1"
   ]
  },
  {
   "cell_type": "code",
   "execution_count": 134,
   "id": "daf5242b",
   "metadata": {},
   "outputs": [],
   "source": [
    "dict2['state']=['kar','ori','mah','TN']"
   ]
  },
  {
   "cell_type": "code",
   "execution_count": 135,
   "id": "2dcb49fa",
   "metadata": {},
   "outputs": [],
   "source": [
    "dict1['states']=['kar','ori','mah','TN']"
   ]
  },
  {
   "cell_type": "code",
   "execution_count": 136,
   "id": "56173764",
   "metadata": {},
   "outputs": [
    {
     "data": {
      "text/plain": [
       "{'names': ['ajay', 'sanjay', 'ramesh', 'ravi'],\n",
       " 'age': [20, 23, 21, 22],\n",
       " 'location': ['bangalore', 'orissa', 'mumbai', 'chennai'],\n",
       " 'Gender': ['male', 'male', 'male', 'male'],\n",
       " 'states': ['kar', 'ori', 'mah', 'TN']}"
      ]
     },
     "execution_count": 136,
     "metadata": {},
     "output_type": "execute_result"
    }
   ],
   "source": [
    "dict1"
   ]
  },
  {
   "cell_type": "code",
   "execution_count": 137,
   "id": "4d972fc0",
   "metadata": {},
   "outputs": [
    {
     "data": {
      "text/plain": [
       "{'names': ['ajay', 'sanjay', 'ramesh', 'ravi'],\n",
       " 'age': [20, 23, 21, 22],\n",
       " 'location': ['bangalore', 'orissa', 'mumbai', 'chennai'],\n",
       " 'Gender': ['male', 'male', 'male', 'male'],\n",
       " 'state': ['kar', 'ori', 'mah', 'TN']}"
      ]
     },
     "execution_count": 137,
     "metadata": {},
     "output_type": "execute_result"
    }
   ],
   "source": [
    "dict2"
   ]
  },
  {
   "cell_type": "code",
   "execution_count": 138,
   "id": "fccd1eff",
   "metadata": {},
   "outputs": [],
   "source": [
    "dict2.update(dict1)"
   ]
  },
  {
   "cell_type": "code",
   "execution_count": 139,
   "id": "31891125",
   "metadata": {},
   "outputs": [
    {
     "data": {
      "text/plain": [
       "{'names': ['ajay', 'sanjay', 'ramesh', 'ravi'],\n",
       " 'age': [20, 23, 21, 22],\n",
       " 'location': ['bangalore', 'orissa', 'mumbai', 'chennai'],\n",
       " 'Gender': ['male', 'male', 'male', 'male'],\n",
       " 'state': ['kar', 'ori', 'mah', 'TN'],\n",
       " 'states': ['kar', 'ori', 'mah', 'TN']}"
      ]
     },
     "execution_count": 139,
     "metadata": {},
     "output_type": "execute_result"
    }
   ],
   "source": [
    "dict2"
   ]
  },
  {
   "cell_type": "code",
   "execution_count": 140,
   "id": "e2cf7038",
   "metadata": {},
   "outputs": [
    {
     "data": {
      "text/plain": [
       "dict_items([('names', ['ajay', 'sanjay', 'ramesh', 'ravi']), ('age', [20, 23, 21, 22]), ('location', ['bangalore', 'orissa', 'mumbai', 'chennai']), ('Gender', ['male', 'male', 'male', 'male']), ('states', ['kar', 'ori', 'mah', 'TN'])])"
      ]
     },
     "execution_count": 140,
     "metadata": {},
     "output_type": "execute_result"
    }
   ],
   "source": [
    "dict1.items()"
   ]
  },
  {
   "cell_type": "code",
   "execution_count": 141,
   "id": "b93f6ea7",
   "metadata": {},
   "outputs": [
    {
     "data": {
      "text/plain": [
       "{'names': ['ajay', 'sanjay', 'ramesh', 'ravi'],\n",
       " 'age': [20, 23, 21, 22],\n",
       " 'location': ['bangalore', 'orissa', 'mumbai', 'chennai'],\n",
       " 'Gender': ['male', 'male', 'male', 'male'],\n",
       " 'states': ['kar', 'ori', 'mah', 'TN']}"
      ]
     },
     "execution_count": 141,
     "metadata": {},
     "output_type": "execute_result"
    }
   ],
   "source": [
    "dict1"
   ]
  },
  {
   "cell_type": "code",
   "execution_count": 142,
   "id": "24bde424",
   "metadata": {},
   "outputs": [
    {
     "data": {
      "text/plain": [
       "['kar', 'ori', 'mah', 'TN']"
      ]
     },
     "execution_count": 142,
     "metadata": {},
     "output_type": "execute_result"
    }
   ],
   "source": [
    "dict1.pop('states')"
   ]
  },
  {
   "cell_type": "code",
   "execution_count": 143,
   "id": "0367129a",
   "metadata": {},
   "outputs": [
    {
     "data": {
      "text/plain": [
       "{'names': ['ajay', 'sanjay', 'ramesh', 'ravi'],\n",
       " 'age': [20, 23, 21, 22],\n",
       " 'location': ['bangalore', 'orissa', 'mumbai', 'chennai'],\n",
       " 'Gender': ['male', 'male', 'male', 'male']}"
      ]
     },
     "execution_count": 143,
     "metadata": {},
     "output_type": "execute_result"
    }
   ],
   "source": [
    "dict1"
   ]
  },
  {
   "cell_type": "code",
   "execution_count": 144,
   "id": "cc2f52d6",
   "metadata": {},
   "outputs": [
    {
     "data": {
      "text/plain": [
       "('Gender', ['male', 'male', 'male', 'male'])"
      ]
     },
     "execution_count": 144,
     "metadata": {},
     "output_type": "execute_result"
    }
   ],
   "source": [
    "dict1.popitem()"
   ]
  },
  {
   "cell_type": "code",
   "execution_count": 145,
   "id": "45d609a1",
   "metadata": {},
   "outputs": [
    {
     "data": {
      "text/plain": [
       "('location', ['bangalore', 'orissa', 'mumbai', 'chennai'])"
      ]
     },
     "execution_count": 145,
     "metadata": {},
     "output_type": "execute_result"
    }
   ],
   "source": [
    "dict1.popitem()"
   ]
  },
  {
   "cell_type": "code",
   "execution_count": 147,
   "id": "94f1c16f",
   "metadata": {},
   "outputs": [
    {
     "data": {
      "text/plain": [
       "{'names': ['ajay', 'sanjay', 'ramesh', 'ravi'], 'age': [20, 23, 21, 22]}"
      ]
     },
     "execution_count": 147,
     "metadata": {},
     "output_type": "execute_result"
    }
   ],
   "source": [
    "dict1"
   ]
  },
  {
   "cell_type": "code",
   "execution_count": 148,
   "id": "2bd827a6",
   "metadata": {},
   "outputs": [
    {
     "data": {
      "text/plain": [
       "['male', 'male', 'male', 'male']"
      ]
     },
     "execution_count": 148,
     "metadata": {},
     "output_type": "execute_result"
    }
   ],
   "source": [
    "dict1.setdefault('Gender',['male','male','male','male'])"
   ]
  },
  {
   "cell_type": "code",
   "execution_count": 150,
   "id": "fb3b2d40",
   "metadata": {},
   "outputs": [
    {
     "data": {
      "text/plain": [
       "['beng', 'mumb', 'pune', 'chenn']"
      ]
     },
     "execution_count": 150,
     "metadata": {},
     "output_type": "execute_result"
    }
   ],
   "source": [
    "dict1.setdefault('location',['beng','mumb','pune','chenn'])"
   ]
  },
  {
   "cell_type": "code",
   "execution_count": 151,
   "id": "fd029445",
   "metadata": {},
   "outputs": [
    {
     "data": {
      "text/plain": [
       "{'names': ['ajay', 'sanjay', 'ramesh', 'ravi'],\n",
       " 'age': [20, 23, 21, 22],\n",
       " 'Gender': ['male', 'male', 'male', 'male'],\n",
       " 'location': ['beng', 'mumb', 'pune', 'chenn']}"
      ]
     },
     "execution_count": 151,
     "metadata": {},
     "output_type": "execute_result"
    }
   ],
   "source": [
    "dict1"
   ]
  },
  {
   "cell_type": "code",
   "execution_count": 60,
   "id": "357ded77",
   "metadata": {},
   "outputs": [],
   "source": [
    "## input function"
   ]
  },
  {
   "cell_type": "code",
   "execution_count": 153,
   "id": "f0eaeea4",
   "metadata": {},
   "outputs": [
    {
     "name": "stdout",
     "output_type": "stream",
     "text": [
      "Enter your name: Sanjay kumar\n",
      "hai Sanjay kumar\n"
     ]
    }
   ],
   "source": [
    "name= input('Enter your name: ')\n",
    "print('hai',name)"
   ]
  },
  {
   "cell_type": "code",
   "execution_count": 155,
   "id": "c87c7686",
   "metadata": {},
   "outputs": [
    {
     "name": "stdout",
     "output_type": "stream",
     "text": [
      "Enter the number20\n",
      "20\n"
     ]
    },
    {
     "data": {
      "text/plain": [
       "str"
      ]
     },
     "execution_count": 155,
     "metadata": {},
     "output_type": "execute_result"
    }
   ],
   "source": [
    "name= input('Enter the number')\n",
    "print(name)\n",
    "type(name)"
   ]
  },
  {
   "cell_type": "code",
   "execution_count": 156,
   "id": "1c67e72e",
   "metadata": {},
   "outputs": [
    {
     "name": "stdout",
     "output_type": "stream",
     "text": [
      "Enter the first number23\n",
      "Enter the second number45\n",
      "The total result 68\n"
     ]
    }
   ],
   "source": [
    "num1= int(input('Enter the first number'))\n",
    "num2= int(input('Enter the second number'))\n",
    "sum1= num1+num2\n",
    "print('The total result', sum1)"
   ]
  },
  {
   "cell_type": "code",
   "execution_count": 157,
   "id": "b81ee4a4",
   "metadata": {},
   "outputs": [
    {
     "name": "stdout",
     "output_type": "stream",
     "text": [
      "Enter the radius22.5\n",
      "The area of the circle is: 1589.625\n"
     ]
    }
   ],
   "source": [
    "## Area of the circle\n",
    "Radius= float(input('Enter the radius'))\n",
    "Area= 3.14*Radius**2\n",
    "print('The area of the circle is:',Area)"
   ]
  },
  {
   "cell_type": "markdown",
   "id": "35c54967",
   "metadata": {},
   "source": [
    "## re"
   ]
  },
  {
   "cell_type": "code",
   "execution_count": 159,
   "id": "5ed5ee56",
   "metadata": {},
   "outputs": [],
   "source": [
    "import re"
   ]
  },
  {
   "cell_type": "code",
   "execution_count": 174,
   "id": "cc3d44ed",
   "metadata": {},
   "outputs": [],
   "source": [
    "str1='Welcome to Python Programming Class Python 2234%%^^*'"
   ]
  },
  {
   "cell_type": "code",
   "execution_count": 163,
   "id": "488bb9c8",
   "metadata": {},
   "outputs": [
    {
     "data": {
      "text/plain": [
       "['Python', 'Python']"
      ]
     },
     "execution_count": 163,
     "metadata": {},
     "output_type": "execute_result"
    }
   ],
   "source": [
    "re.findall('Python',str1)"
   ]
  },
  {
   "cell_type": "code",
   "execution_count": 168,
   "id": "4f3685ab",
   "metadata": {},
   "outputs": [
    {
     "data": {
      "text/plain": [
       "<re.Match object; span=(8, 10), match='to'>"
      ]
     },
     "execution_count": 168,
     "metadata": {},
     "output_type": "execute_result"
    }
   ],
   "source": [
    "re.search('to',str1)"
   ]
  },
  {
   "cell_type": "code",
   "execution_count": 166,
   "id": "e7797bf2",
   "metadata": {},
   "outputs": [
    {
     "data": {
      "text/plain": [
       "['Welcome', 'to', 'Python', 'Programming', 'Class', 'Python', '2234%%^^*']"
      ]
     },
     "execution_count": 166,
     "metadata": {},
     "output_type": "execute_result"
    }
   ],
   "source": [
    "re.split(' ',str1)"
   ]
  },
  {
   "cell_type": "code",
   "execution_count": 173,
   "id": "f571f394",
   "metadata": {},
   "outputs": [
    {
     "data": {
      "text/plain": [
       "<re.Match object; span=(0, 17), match='Welcome to Python'>"
      ]
     },
     "execution_count": 173,
     "metadata": {},
     "output_type": "execute_result"
    }
   ],
   "source": [
    "re.match('Welcome to Python',str1)"
   ]
  },
  {
   "cell_type": "code",
   "execution_count": 176,
   "id": "f82bb3fc",
   "metadata": {},
   "outputs": [
    {
     "data": {
      "text/plain": [
       "['2234']"
      ]
     },
     "execution_count": 176,
     "metadata": {},
     "output_type": "execute_result"
    }
   ],
   "source": [
    "re.findall('\\d+',str1)"
   ]
  },
  {
   "cell_type": "code",
   "execution_count": 179,
   "id": "d9a000d8",
   "metadata": {},
   "outputs": [
    {
     "data": {
      "text/plain": [
       "['Welcome to Python Programming Class Python ', '%%^^*']"
      ]
     },
     "execution_count": 179,
     "metadata": {},
     "output_type": "execute_result"
    }
   ],
   "source": [
    "re.findall('\\D+',str1)"
   ]
  },
  {
   "cell_type": "code",
   "execution_count": 181,
   "id": "114f5253",
   "metadata": {},
   "outputs": [
    {
     "data": {
      "text/plain": [
       "[' ', ' ', ' ', ' ', ' ', ' ']"
      ]
     },
     "execution_count": 181,
     "metadata": {},
     "output_type": "execute_result"
    }
   ],
   "source": [
    "re.findall('\\s',str1)"
   ]
  },
  {
   "cell_type": "code",
   "execution_count": 182,
   "id": "ee5dc0e0",
   "metadata": {},
   "outputs": [
    {
     "data": {
      "text/plain": [
       "['Welcome', 'to', 'Python', 'Programming', 'Class', 'Python', '2234%%^^*']"
      ]
     },
     "execution_count": 182,
     "metadata": {},
     "output_type": "execute_result"
    }
   ],
   "source": [
    "re.findall('\\S+',str1)"
   ]
  },
  {
   "cell_type": "code",
   "execution_count": 75,
   "id": "d383afe3",
   "metadata": {},
   "outputs": [
    {
     "data": {
      "text/plain": [
       "[' ', ' ', ' ', ' ', ' ', ' ', '%%^^*']"
      ]
     },
     "execution_count": 75,
     "metadata": {},
     "output_type": "execute_result"
    }
   ],
   "source": [
    "re.findall('\\W+',str1)"
   ]
  },
  {
   "cell_type": "code",
   "execution_count": 183,
   "id": "3ff29e1a",
   "metadata": {},
   "outputs": [
    {
     "data": {
      "text/plain": [
       "['Welcome', 'to', 'Python', 'Programming', 'Class', 'Python', '2234']"
      ]
     },
     "execution_count": 183,
     "metadata": {},
     "output_type": "execute_result"
    }
   ],
   "source": [
    "re.findall('\\w+',str1)"
   ]
  },
  {
   "cell_type": "code",
   "execution_count": 184,
   "id": "52fb543b",
   "metadata": {},
   "outputs": [],
   "source": [
    "import warnings\n",
    "warnings.filterwarnings('ignore')"
   ]
  },
  {
   "cell_type": "code",
   "execution_count": 77,
   "id": "5efd30d5",
   "metadata": {},
   "outputs": [],
   "source": [
    "### Loops"
   ]
  },
  {
   "cell_type": "code",
   "execution_count": 78,
   "id": "44b2af68",
   "metadata": {},
   "outputs": [
    {
     "name": "stdout",
     "output_type": "stream",
     "text": [
      "1\n",
      "2\n",
      "3\n"
     ]
    }
   ],
   "source": [
    "for i in [1,2,3]:\n",
    "    print(i)"
   ]
  },
  {
   "cell_type": "code",
   "execution_count": 185,
   "id": "4007d37f",
   "metadata": {},
   "outputs": [
    {
     "name": "stdout",
     "output_type": "stream",
     "text": [
      "1\n",
      "2\n",
      "3\n"
     ]
    }
   ],
   "source": [
    "for i in (1,2,3):\n",
    "    print(i)"
   ]
  },
  {
   "cell_type": "code",
   "execution_count": 186,
   "id": "22411f31",
   "metadata": {},
   "outputs": [
    {
     "data": {
      "text/plain": [
       "{'names': ['ajay', 'sanjay', 'ramesh', 'ravi'],\n",
       " 'age': [20, 23, 21, 22],\n",
       " 'Gender': ['male', 'male', 'male', 'male'],\n",
       " 'location': ['beng', 'mumb', 'pune', 'chenn']}"
      ]
     },
     "execution_count": 186,
     "metadata": {},
     "output_type": "execute_result"
    }
   ],
   "source": [
    "dict1"
   ]
  },
  {
   "cell_type": "code",
   "execution_count": 187,
   "id": "5f619db7",
   "metadata": {},
   "outputs": [
    {
     "name": "stdout",
     "output_type": "stream",
     "text": [
      "names ['ajay', 'sanjay', 'ramesh', 'ravi']\n",
      "age [20, 23, 21, 22]\n",
      "Gender ['male', 'male', 'male', 'male']\n",
      "location ['beng', 'mumb', 'pune', 'chenn']\n"
     ]
    }
   ],
   "source": [
    "for i,j in dict1.items():\n",
    "    print(i,j)"
   ]
  },
  {
   "cell_type": "code",
   "execution_count": 188,
   "id": "f148979d",
   "metadata": {},
   "outputs": [],
   "source": [
    "list1=[1,2,3,4,5,6]"
   ]
  },
  {
   "cell_type": "code",
   "execution_count": 189,
   "id": "817fa872",
   "metadata": {},
   "outputs": [
    {
     "name": "stdout",
     "output_type": "stream",
     "text": [
      "1\n",
      "2\n",
      "3\n",
      "4\n",
      "5\n",
      "6\n"
     ]
    }
   ],
   "source": [
    "for i in list1:\n",
    "    print(i)"
   ]
  },
  {
   "cell_type": "code",
   "execution_count": 190,
   "id": "4e104270",
   "metadata": {},
   "outputs": [
    {
     "name": "stdout",
     "output_type": "stream",
     "text": [
      "1\n",
      "2\n",
      "3\n"
     ]
    }
   ],
   "source": [
    "for i in (1,2,3):\n",
    "    print(i)"
   ]
  },
  {
   "cell_type": "code",
   "execution_count": 82,
   "id": "bdd387c7",
   "metadata": {},
   "outputs": [],
   "source": [
    "## List comprehension"
   ]
  },
  {
   "cell_type": "code",
   "execution_count": 192,
   "id": "68a502e9",
   "metadata": {},
   "outputs": [
    {
     "data": {
      "text/plain": [
       "[1, 2, 3, 4, 5, 6, 7, 1, 2, 3, 4, 5, 6, 7]"
      ]
     },
     "execution_count": 192,
     "metadata": {},
     "output_type": "execute_result"
    }
   ],
   "source": [
    "lst = [1,2,3,4,5,6,7]\n",
    "new= lst*2\n",
    "new"
   ]
  },
  {
   "cell_type": "code",
   "execution_count": 86,
   "id": "e4a0a88d",
   "metadata": {},
   "outputs": [],
   "source": [
    "new_lst = []\n",
    "for x in lst:\n",
    "    new_lst.append(x**2)"
   ]
  },
  {
   "cell_type": "code",
   "execution_count": 87,
   "id": "64a7a620",
   "metadata": {},
   "outputs": [
    {
     "data": {
      "text/plain": [
       "[1, 4, 9, 16, 25, 36, 49]"
      ]
     },
     "execution_count": 87,
     "metadata": {},
     "output_type": "execute_result"
    }
   ],
   "source": [
    "new_lst"
   ]
  },
  {
   "cell_type": "code",
   "execution_count": 193,
   "id": "1344cb39",
   "metadata": {},
   "outputs": [],
   "source": [
    "sqr_lst = [x**2 for x in lst]"
   ]
  },
  {
   "cell_type": "code",
   "execution_count": 194,
   "id": "536f994f",
   "metadata": {},
   "outputs": [
    {
     "data": {
      "text/plain": [
       "[1, 4, 9, 16, 25, 36, 49]"
      ]
     },
     "execution_count": 194,
     "metadata": {},
     "output_type": "execute_result"
    }
   ],
   "source": [
    "sqr_lst"
   ]
  },
  {
   "cell_type": "code",
   "execution_count": 90,
   "id": "d65f4934",
   "metadata": {},
   "outputs": [],
   "source": [
    "sqr_lst= [x*2 for x in new_lst if x%2==0]"
   ]
  },
  {
   "cell_type": "code",
   "execution_count": 91,
   "id": "2ba54dca",
   "metadata": {},
   "outputs": [
    {
     "data": {
      "text/plain": [
       "[8, 32, 72]"
      ]
     },
     "execution_count": 91,
     "metadata": {},
     "output_type": "execute_result"
    }
   ],
   "source": [
    "sqr_lst"
   ]
  },
  {
   "cell_type": "code",
   "execution_count": 92,
   "id": "3a04859c",
   "metadata": {},
   "outputs": [],
   "source": [
    "new_lst = [x*100 for x in lst ]"
   ]
  },
  {
   "cell_type": "code",
   "execution_count": 93,
   "id": "11e381ae",
   "metadata": {},
   "outputs": [],
   "source": [
    "## while loop"
   ]
  },
  {
   "cell_type": "code",
   "execution_count": 94,
   "id": "7216d313",
   "metadata": {},
   "outputs": [
    {
     "name": "stdout",
     "output_type": "stream",
     "text": [
      "1\n",
      "3\n",
      "6\n",
      "10\n",
      "condition failed\n"
     ]
    }
   ],
   "source": [
    "i=1\n",
    "n=5\n",
    "sum=0\n",
    "while(i<n):\n",
    "    sum+=i\n",
    "    print(sum)\n",
    "    i+=1\n",
    "else:\n",
    "    print('condition failed')"
   ]
  },
  {
   "cell_type": "code",
   "execution_count": 95,
   "id": "e7a68d00",
   "metadata": {},
   "outputs": [
    {
     "name": "stdout",
     "output_type": "stream",
     "text": [
      "18\n"
     ]
    }
   ],
   "source": [
    "x=20\n",
    "if x<10:\n",
    "    x=x+2\n",
    "    print(x)\n",
    "elif x>10:\n",
    "    x=x-2\n",
    "    print(x)\n",
    "else:\n",
    "    print(x)"
   ]
  },
  {
   "cell_type": "code",
   "execution_count": 96,
   "id": "06eb25d3",
   "metadata": {},
   "outputs": [
    {
     "name": "stdout",
     "output_type": "stream",
     "text": [
      "number is odd\n"
     ]
    }
   ],
   "source": [
    "x=15\n",
    "if x%2==0:\n",
    "    print('number is even')\n",
    "else:\n",
    "    print('number is odd')"
   ]
  },
  {
   "cell_type": "code",
   "execution_count": 97,
   "id": "e7904937",
   "metadata": {},
   "outputs": [
    {
     "name": "stdout",
     "output_type": "stream",
     "text": [
      "odd\n",
      "even\n",
      "odd\n",
      "even\n"
     ]
    }
   ],
   "source": [
    "list1=[1,2,3,4]\n",
    "for i in list1:\n",
    "    if i%2==0:\n",
    "        print('even')\n",
    "    else:\n",
    "        print('odd')"
   ]
  },
  {
   "cell_type": "code",
   "execution_count": 101,
   "id": "40425011",
   "metadata": {},
   "outputs": [],
   "source": [
    "str1= 'sanjay   kumar'"
   ]
  },
  {
   "cell_type": "code",
   "execution_count": null,
   "id": "0de73608",
   "metadata": {},
   "outputs": [],
   "source": []
  }
 ],
 "metadata": {
  "kernelspec": {
   "display_name": "Python 3 (ipykernel)",
   "language": "python",
   "name": "python3"
  },
  "language_info": {
   "codemirror_mode": {
    "name": "ipython",
    "version": 3
   },
   "file_extension": ".py",
   "mimetype": "text/x-python",
   "name": "python",
   "nbconvert_exporter": "python",
   "pygments_lexer": "ipython3",
   "version": "3.11.5"
  }
 },
 "nbformat": 4,
 "nbformat_minor": 5
}
