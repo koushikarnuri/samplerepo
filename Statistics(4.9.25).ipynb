{
 "cells": [
  {
   "cell_type": "code",
   "execution_count": 1,
   "id": "20d736a7-1976-407c-a2d1-f60ba68c80fd",
   "metadata": {},
   "outputs": [],
   "source": [
    "### Standardization\n",
    "Exp=[1,2,3,5,7]\n",
    "Sal=[1000,2000,3000,4000,6000]"
   ]
  },
  {
   "cell_type": "code",
   "execution_count": 2,
   "id": "3ad25c5f-3220-4ddb-9082-17bdfd225968",
   "metadata": {},
   "outputs": [],
   "source": [
    "import numpy as np"
   ]
  },
  {
   "cell_type": "code",
   "execution_count": 3,
   "id": "65c2b6ca-5299-4b4c-92ca-542fc8fb5489",
   "metadata": {},
   "outputs": [
    {
     "data": {
      "text/plain": [
       "np.float64(3.6)"
      ]
     },
     "execution_count": 3,
     "metadata": {},
     "output_type": "execute_result"
    }
   ],
   "source": [
    "mean_exp= np.mean(Exp)\n",
    "mean_exp"
   ]
  },
  {
   "cell_type": "code",
   "execution_count": 4,
   "id": "8fedac28-3f91-48fd-ae07-3b7eeed49e69",
   "metadata": {},
   "outputs": [
    {
     "data": {
      "text/plain": [
       "np.float64(2.1540659228538015)"
      ]
     },
     "execution_count": 4,
     "metadata": {},
     "output_type": "execute_result"
    }
   ],
   "source": [
    "std_exp= np.std(Exp)\n",
    "std_exp"
   ]
  },
  {
   "cell_type": "code",
   "execution_count": 6,
   "id": "ee792dc5-61be-4931-9075-9665d5fc6290",
   "metadata": {},
   "outputs": [
    {
     "data": {
      "text/plain": [
       "array([-1.2070197 , -0.74278135, -0.27854301,  0.64993368,  1.57841037])"
      ]
     },
     "execution_count": 6,
     "metadata": {},
     "output_type": "execute_result"
    }
   ],
   "source": [
    "stand_exp=(Exp-mean_exp)/std_exp /\n",
    "stand_exp"
   ]
  },
  {
   "cell_type": "code",
   "execution_count": 7,
   "id": "a21bde06-cc7e-41e8-b84d-5cd7a25329f6",
   "metadata": {},
   "outputs": [
    {
     "data": {
      "text/plain": [
       "np.float64(3200.0)"
      ]
     },
     "execution_count": 7,
     "metadata": {},
     "output_type": "execute_result"
    }
   ],
   "source": [
    "mean_sal= np.mean(Sal)\n",
    "mean_sal"
   ]
  },
  {
   "cell_type": "code",
   "execution_count": 8,
   "id": "3f7c42bc-368b-41f7-bb1d-7277c96ee910",
   "metadata": {},
   "outputs": [],
   "source": [
    "std_sal= np.std(Sal)"
   ]
  },
  {
   "cell_type": "code",
   "execution_count": 9,
   "id": "18645ad8-d089-4bb3-8571-731c7f391355",
   "metadata": {},
   "outputs": [
    {
     "data": {
      "text/plain": [
       "array([-1.27872403, -0.69748583, -0.11624764,  0.46499055,  1.62746694])"
      ]
     },
     "execution_count": 9,
     "metadata": {},
     "output_type": "execute_result"
    }
   ],
   "source": [
    "stand_sal= (Sal-mean_sal)/std_sal\n",
    "stand_sal"
   ]
  },
  {
   "cell_type": "code",
   "execution_count": 12,
   "id": "f0060ab4-d993-45ee-a241-9e7464754707",
   "metadata": {},
   "outputs": [
    {
     "data": {
      "text/plain": [
       "np.float64(0.0)"
      ]
     },
     "execution_count": 12,
     "metadata": {},
     "output_type": "execute_result"
    }
   ],
   "source": [
    "np.mean(stand_sal)"
   ]
  },
  {
   "cell_type": "code",
   "execution_count": 13,
   "id": "d7b1164d-3e15-426b-a6e4-d3f7cc5ca69d",
   "metadata": {},
   "outputs": [
    {
     "data": {
      "text/plain": [
       "np.float64(1.0)"
      ]
     },
     "execution_count": 13,
     "metadata": {},
     "output_type": "execute_result"
    }
   ],
   "source": [
    "np.std(stand_sal)"
   ]
  },
  {
   "cell_type": "code",
   "execution_count": 14,
   "id": "606b84e5-9d6c-4685-9255-8414ad496649",
   "metadata": {},
   "outputs": [],
   "source": [
    "import scipy.stats as stats"
   ]
  },
  {
   "cell_type": "code",
   "execution_count": 30,
   "id": "d739b220-a06f-4bf5-9350-c3e77ce8d518",
   "metadata": {},
   "outputs": [],
   "source": [
    "rand=stats.norm.rvs(size=100,loc=50,scale=20)"
   ]
  },
  {
   "cell_type": "code",
   "execution_count": 31,
   "id": "2c710b4a-84d5-47d0-90e1-f7efcc7284cd",
   "metadata": {},
   "outputs": [
    {
     "data": {
      "text/plain": [
       "np.float64(51.95418697177012)"
      ]
     },
     "execution_count": 31,
     "metadata": {},
     "output_type": "execute_result"
    }
   ],
   "source": [
    "np.mean(rand)"
   ]
  },
  {
   "cell_type": "code",
   "execution_count": 32,
   "id": "708db459-0b3d-4c3d-b288-4a4cc59242a9",
   "metadata": {},
   "outputs": [
    {
     "data": {
      "text/plain": [
       "np.float64(19.637860078182417)"
      ]
     },
     "execution_count": 32,
     "metadata": {},
     "output_type": "execute_result"
    }
   ],
   "source": [
    "np.std(rand)"
   ]
  },
  {
   "cell_type": "code",
   "execution_count": 33,
   "id": "c621a897-95d8-4bb1-93ee-71ff7ca2d5d4",
   "metadata": {},
   "outputs": [],
   "source": [
    "import pandas as pd\n",
    "import seaborn as sns"
   ]
  },
  {
   "cell_type": "code",
   "execution_count": 34,
   "id": "c27bdb7a-809f-48a2-9906-a84b5ca39437",
   "metadata": {},
   "outputs": [],
   "source": [
    "df=pd.DataFrame(rand)"
   ]
  },
  {
   "cell_type": "code",
   "execution_count": 35,
   "id": "048a312c-a6e3-440e-ab6e-6fce30be824c",
   "metadata": {},
   "outputs": [
    {
     "data": {
      "text/plain": [
       "<Axes: ylabel='Density'>"
      ]
     },
     "execution_count": 35,
     "metadata": {},
     "output_type": "execute_result"
    },
    {
     "data": {
      "image/png": "[encoded data removed]",
      "text/plain": [
       "<Figure size 640x480 with 1 Axes>"
      ]
     },
     "metadata": {},
     "output_type": "display_data"
    }
   ],
   "source": [
    "sns.kdeplot(data=df)"
   ]
  },
  {
   "cell_type": "code",
   "execution_count": 38,
   "id": "7eebd6fe-c77d-4878-b74b-17e358bf5778",
   "metadata": {},
   "outputs": [],
   "source": [
    "### Normal Distribution Problems"
   ]
  },
  {
   "cell_type": "markdown",
   "id": "541df2fc-b1dc-47d6-a0cb-a7d634bec7b1",
   "metadata": {},
   "source": [
    "### The annual salaries of employees in a large company are approximately normally distributed with a mean of $50,000 and a standard deviation of $10,000. \u000b",
    "\u000b",
    "a) What percent of people earn less than $60,000? \n"
   ]
  },
  {
   "cell_type": "code",
   "execution_count": 39,
   "id": "1b91922f-cdc3-4913-9682-4b632a89dfc1",
   "metadata": {},
   "outputs": [
    {
     "data": {
      "text/plain": [
       "np.float64(0.8413447460685429)"
      ]
     },
     "execution_count": 39,
     "metadata": {},
     "output_type": "execute_result"
    }
   ],
   "source": [
    "stats.norm.cdf(60000,loc=50000,scale=10000)"
   ]
  },
  {
   "cell_type": "markdown",
   "id": "fb6499ef-7b08-4270-b695-2e4103544d99",
   "metadata": {},
   "source": [
    "## A radar unit is used to measure speeds of cars on a highway. The speeds are normally distributed with a mean of 90 km/hr and a standard deviation of 10 km/hr. What is the probability that a car picked at random is travelling at more than 100 km/hr?\u000b"
   ]
  },
  {
   "cell_type": "code",
   "execution_count": 40,
   "id": "318f3edd-18e4-46fb-9d91-3a4e058ed8c3",
   "metadata": {},
   "outputs": [
    {
     "data": {
      "text/plain": [
       "np.float64(0.15865525393145707)"
      ]
     },
     "execution_count": 40,
     "metadata": {},
     "output_type": "execute_result"
    }
   ],
   "source": [
    "1-stats.norm.cdf(100,loc=90,scale=10)"
   ]
  },
  {
   "attachments": {},
   "cell_type": "markdown",
   "id": "7950d52d-9a37-4137-b1b7-09a033284ea2",
   "metadata": {},
   "source": [
    "### For a certain type of mobiles, the length of time between charges of the battery is normally distributed with a mean of 10 hours and a standard deviation of 20 minutes. John owns one of these mobiles and wants to know the probability that the length of time will be between 10 and 11 hours.\n"
   ]
  },
  {
   "cell_type": "code",
   "execution_count": 43,
   "id": "dc560df0-7df7-4af1-bf51-952e0438f520",
   "metadata": {},
   "outputs": [
    {
     "data": {
      "text/plain": [
       "np.float64(0.5)"
      ]
     },
     "execution_count": 43,
     "metadata": {},
     "output_type": "execute_result"
    }
   ],
   "source": [
    "p10= stats.norm.cdf(600,loc=600,scale=20)\n",
    "p10"
   ]
  },
  {
   "cell_type": "code",
   "execution_count": 45,
   "id": "c71c85e0-59a7-4fd5-8be8-e11c21f68d7b",
   "metadata": {},
   "outputs": [
    {
     "data": {
      "text/plain": [
       "np.float64(0.9986501019683699)"
      ]
     },
     "execution_count": 45,
     "metadata": {},
     "output_type": "execute_result"
    }
   ],
   "source": [
    "p11= stats.norm.cdf(660,loc=600,scale=20)\n",
    "p11"
   ]
  },
  {
   "cell_type": "code",
   "execution_count": 46,
   "id": "c7365314-9e62-4865-b406-8ee0f47f9c35",
   "metadata": {},
   "outputs": [
    {
     "data": {
      "text/plain": [
       "np.float64(0.4986501019683699)"
      ]
     },
     "execution_count": 46,
     "metadata": {},
     "output_type": "execute_result"
    }
   ],
   "source": [
    "p11-p10"
   ]
  },
  {
   "cell_type": "markdown",
   "id": "c3c8466a-980b-47be-b01a-b83c3c81dcc7",
   "metadata": {},
   "source": [
    "### Z-test"
   ]
  },
  {
   "cell_type": "markdown",
   "id": "e28f408f-6dba-431d-9198-84df0baeb959",
   "metadata": {},
   "source": [
    "##### 1.\tThe average height of all residents in a city is 168cm with a population std = 3.9. A doctor believes the mean is different. He measured the height of 36 individuals and found the average to be 169.5cm \n",
    "(a). State Null and Alternative hypothesis\n",
    "(b) At a 95% ,CI is there enough evidence to reject the Null Hypothesis.\n"
   ]
  },
  {
   "cell_type": "code",
   "execution_count": 48,
   "id": "7be1bba4-3f50-4b0e-a74a-9e1a37f858ce",
   "metadata": {},
   "outputs": [],
   "source": [
    "#### Given_data\n",
    "pop_mean=168\n",
    "pop_std_dev=3.9\n",
    "n=36\n",
    "x_bar=169.5\n",
    "### CI--95% (0.95), alpha-5%(0.05)"
   ]
  },
  {
   "cell_type": "code",
   "execution_count": 49,
   "id": "4e936d8e-92ac-4169-a119-d8fbaead68b9",
   "metadata": {},
   "outputs": [],
   "source": [
    "### H0--Pop mean is same(Pop_mean==168)\n",
    "### Ha--Pop mean is different(Pop_mean!=168)"
   ]
  },
  {
   "cell_type": "code",
   "execution_count": 50,
   "id": "250c8efd-edbc-48ea-957a-5a36ba1dbc9b",
   "metadata": {},
   "outputs": [
    {
     "data": {
      "text/plain": [
       "np.float64(2.3076923076923075)"
      ]
     },
     "execution_count": 50,
     "metadata": {},
     "output_type": "execute_result"
    }
   ],
   "source": [
    "zscore= (x_bar-pop_mean)/(pop_std_dev/np.sqrt(n))\n",
    "zscore"
   ]
  },
  {
   "cell_type": "code",
   "execution_count": null,
   "id": "d9ef65c5-171c-43e6-b8de-1f7c627bbce6",
   "metadata": {},
   "outputs": [],
   "source": []
  }
 ],
 "metadata": {
  "kernelspec": {
   "display_name": "Python [conda env:base] *",
   "language": "python",
   "name": "conda-base-py"
  },
  "language_info": {
   "codemirror_mode": {
    "name": "ipython",
    "version": 3
   },
   "file_extension": ".py",
   "mimetype": "text/x-python",
   "name": "python",
   "nbconvert_exporter": "python",
   "pygments_lexer": "ipython3",
   "version": "3.13.5"
  }
 },
 "nbformat": 4,
 "nbformat_minor": 5
}
