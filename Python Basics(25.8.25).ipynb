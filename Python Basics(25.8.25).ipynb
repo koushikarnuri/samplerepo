{
 "cells": [
  {
   "cell_type": "markdown",
   "id": "33d6c438-18a1-4e47-b404-efd01d0b5fb5",
   "metadata": {},
   "source": [
    "#### Arithmetic Operations"
   ]
  },
  {
   "cell_type": "code",
   "execution_count": 1,
   "id": "141f93e8-fca4-4e10-bf2a-4a6296a1c194",
   "metadata": {},
   "outputs": [],
   "source": [
    "a,b=30,10"
   ]
  },
  {
   "cell_type": "code",
   "execution_count": 2,
   "id": "bffe3feb-e123-42a7-a423-5e344d666811",
   "metadata": {},
   "outputs": [
    {
     "data": {
      "text/plain": [
       "30"
      ]
     },
     "execution_count": 2,
     "metadata": {},
     "output_type": "execute_result"
    }
   ],
   "source": [
    "a"
   ]
  },
  {
   "cell_type": "code",
   "execution_count": 3,
   "id": "9824d1d9-8b28-4b93-9166-7f34a3b9a841",
   "metadata": {},
   "outputs": [
    {
     "data": {
      "text/plain": [
       "10"
      ]
     },
     "execution_count": 3,
     "metadata": {},
     "output_type": "execute_result"
    }
   ],
   "source": [
    "b"
   ]
  },
  {
   "cell_type": "code",
   "execution_count": 15,
   "id": "5be5993c-6e1f-413b-8483-d6e6d39dc58a",
   "metadata": {},
   "outputs": [
    {
     "name": "stdout",
     "output_type": "stream",
     "text": [
      "Addition of the Numbers: 40\n",
      "Subtraction of the Numbers : 20\n",
      "Multiplication of the Numbers: 300\n",
      "Quotient of the Numbers: 3.0 Remainder of the Numbers: 0\n",
      "Power of the Numbers: 16\n"
     ]
    }
   ],
   "source": [
    "print('Addition of the Numbers:',a+b)\n",
    "print('Subtraction of the Numbers :',a-b)\n",
    "print('Multiplication of the Numbers:',a*b)\n",
    "print('Quotient of the Numbers:',a/b,'Remainder of the Numbers:',a%b)\n",
    "print('Power of the Numbers:',2**4)"
   ]
  },
  {
   "cell_type": "code",
   "execution_count": null,
   "id": "8b9d2b40-db95-439e-be7e-cde37522339a",
   "metadata": {},
   "outputs": [],
   "source": []
  }
 ],
 "metadata": {
  "kernelspec": {
   "display_name": "Python [conda env:base] *",
   "language": "python",
   "name": "conda-base-py"
  },
  "language_info": {
   "codemirror_mode": {
    "name": "ipython",
    "version": 3
   },
   "file_extension": ".py",
   "mimetype": "text/x-python",
   "name": "python",
   "nbconvert_exporter": "python",
   "pygments_lexer": "ipython3",
   "version": "3.13.5"
  }
 },
 "nbformat": 4,
 "nbformat_minor": 5
}
