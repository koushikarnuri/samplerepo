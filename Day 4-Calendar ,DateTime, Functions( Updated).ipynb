{
 "cells": [
  {
   "cell_type": "code",
   "execution_count": 37,
   "id": "b80328ce",
   "metadata": {},
   "outputs": [
    {
     "data": {
      "text/plain": [
       "[1, 2, 3, 4, 5, 6, 7, 1, 2, 3, 4, 5, 6, 7]"
      ]
     },
     "execution_count": 37,
     "metadata": {},
     "output_type": "execute_result"
    }
   ],
   "source": [
    "## list comprehension\n",
    "lst = [1,2,3,4,5,6,7]\n",
    "new= lst*2\n",
    "new"
   ]
  },
  {
   "cell_type": "code",
   "execution_count": 38,
   "id": "9bae1981",
   "metadata": {},
   "outputs": [],
   "source": [
    "new_lst = []\n",
    "for x in lst:\n",
    "    new_lst.append(x**2)"
   ]
  },
  {
   "cell_type": "code",
   "execution_count": 39,
   "id": "6d521346",
   "metadata": {},
   "outputs": [
    {
     "data": {
      "text/plain": [
       "[1, 4, 9, 16, 25, 36, 49]"
      ]
     },
     "execution_count": 39,
     "metadata": {},
     "output_type": "execute_result"
    }
   ],
   "source": [
    "new_lst"
   ]
  },
  {
   "cell_type": "code",
   "execution_count": 31,
   "id": "eec4c111",
   "metadata": {},
   "outputs": [
    {
     "data": {
      "text/plain": [
       "[1, 4, 9, 16, 25, 36, 49]"
      ]
     },
     "execution_count": 31,
     "metadata": {},
     "output_type": "execute_result"
    }
   ],
   "source": [
    "sqr_lst = [x**2 for x in lst]\n",
    "sqr_lst"
   ]
  },
  {
   "cell_type": "code",
   "execution_count": 32,
   "id": "f8de9599",
   "metadata": {},
   "outputs": [
    {
     "name": "stdout",
     "output_type": "stream",
     "text": [
      "1\n",
      "3\n",
      "6\n",
      "10\n",
      "condition failed\n"
     ]
    }
   ],
   "source": [
    "## while loop\n",
    "i=1\n",
    "n=5\n",
    "sum=0\n",
    "while(i<n):\n",
    "    sum+=i\n",
    "    print(sum)\n",
    "    i+=1\n",
    "else:\n",
    "    print('condition failed')"
   ]
  },
  {
   "cell_type": "code",
   "execution_count": 42,
   "id": "e25c7a19",
   "metadata": {},
   "outputs": [
    {
     "name": "stdout",
     "output_type": "stream",
     "text": [
      "31\n"
     ]
    }
   ],
   "source": [
    "x=33\n",
    "if x<10:\n",
    "    x=x+2\n",
    "    print(x)\n",
    "elif x>10:\n",
    "    x=x-2\n",
    "    print(x)\n",
    "else:\n",
    "    print(x)"
   ]
  },
  {
   "cell_type": "code",
   "execution_count": 43,
   "id": "5fbaed9f",
   "metadata": {},
   "outputs": [
    {
     "name": "stdout",
     "output_type": "stream",
     "text": [
      "number is even\n"
     ]
    }
   ],
   "source": [
    "x=10\n",
    "if x%2==0:\n",
    "    print('number is even')\n",
    "else:\n",
    "    print('number is odd')"
   ]
  },
  {
   "cell_type": "code",
   "execution_count": 44,
   "id": "6790f1dc",
   "metadata": {},
   "outputs": [
    {
     "data": {
      "text/plain": [
       "range(0, 10)"
      ]
     },
     "execution_count": 44,
     "metadata": {},
     "output_type": "execute_result"
    }
   ],
   "source": [
    "range(0,10)"
   ]
  },
  {
   "cell_type": "code",
   "execution_count": 47,
   "id": "2368eba1",
   "metadata": {},
   "outputs": [
    {
     "name": "stdout",
     "output_type": "stream",
     "text": [
      "0\n",
      "2\n",
      "4\n",
      "6\n",
      "8\n"
     ]
    }
   ],
   "source": [
    "for i in range(0,10,2):\n",
    "    print(i)"
   ]
  },
  {
   "cell_type": "code",
   "execution_count": 48,
   "id": "167b3c33",
   "metadata": {},
   "outputs": [],
   "source": [
    "import datetime\n",
    "import calendar"
   ]
  },
  {
   "cell_type": "code",
   "execution_count": 52,
   "id": "b74435c0",
   "metadata": {},
   "outputs": [
    {
     "name": "stdout",
     "output_type": "stream",
     "text": [
      "                                  2024\n",
      "\n",
      "      January                   February                   March\n",
      "Mo Tu We Th Fr Sa Su      Mo Tu We Th Fr Sa Su      Mo Tu We Th Fr Sa Su\n",
      " 1  2  3  4  5  6  7                1  2  3  4                   1  2  3\n",
      " 8  9 10 11 12 13 14       5  6  7  8  9 10 11       4  5  6  7  8  9 10\n",
      "15 16 17 18 19 20 21      12 13 14 15 16 17 18      11 12 13 14 15 16 17\n",
      "22 23 24 25 26 27 28      19 20 21 22 23 24 25      18 19 20 21 22 23 24\n",
      "29 30 31                  26 27 28 29               25 26 27 28 29 30 31\n",
      "\n",
      "       April                      May                       June\n",
      "Mo Tu We Th Fr Sa Su      Mo Tu We Th Fr Sa Su      Mo Tu We Th Fr Sa Su\n",
      " 1  2  3  4  5  6  7             1  2  3  4  5                      1  2\n",
      " 8  9 10 11 12 13 14       6  7  8  9 10 11 12       3  4  5  6  7  8  9\n",
      "15 16 17 18 19 20 21      13 14 15 16 17 18 19      10 11 12 13 14 15 16\n",
      "22 23 24 25 26 27 28      20 21 22 23 24 25 26      17 18 19 20 21 22 23\n",
      "29 30                     27 28 29 30 31            24 25 26 27 28 29 30\n",
      "\n",
      "        July                     August                  September\n",
      "Mo Tu We Th Fr Sa Su      Mo Tu We Th Fr Sa Su      Mo Tu We Th Fr Sa Su\n",
      " 1  2  3  4  5  6  7                1  2  3  4                         1\n",
      " 8  9 10 11 12 13 14       5  6  7  8  9 10 11       2  3  4  5  6  7  8\n",
      "15 16 17 18 19 20 21      12 13 14 15 16 17 18       9 10 11 12 13 14 15\n",
      "22 23 24 25 26 27 28      19 20 21 22 23 24 25      16 17 18 19 20 21 22\n",
      "29 30 31                  26 27 28 29 30 31         23 24 25 26 27 28 29\n",
      "                                                    30\n",
      "\n",
      "      October                   November                  December\n",
      "Mo Tu We Th Fr Sa Su      Mo Tu We Th Fr Sa Su      Mo Tu We Th Fr Sa Su\n",
      "    1  2  3  4  5  6                   1  2  3                         1\n",
      " 7  8  9 10 11 12 13       4  5  6  7  8  9 10       2  3  4  5  6  7  8\n",
      "14 15 16 17 18 19 20      11 12 13 14 15 16 17       9 10 11 12 13 14 15\n",
      "21 22 23 24 25 26 27      18 19 20 21 22 23 24      16 17 18 19 20 21 22\n",
      "28 29 30 31               25 26 27 28 29 30         23 24 25 26 27 28 29\n",
      "                                                    30 31\n",
      "\n"
     ]
    }
   ],
   "source": [
    "print(calendar.calendar(2024))"
   ]
  },
  {
   "cell_type": "code",
   "execution_count": 58,
   "id": "6f1efd03",
   "metadata": {},
   "outputs": [
    {
     "name": "stdout",
     "output_type": "stream",
     "text": [
      "                              2023\n",
      "\n",
      "      January               February               March\n",
      "Mo Tu We Th Fr Sa Su  Mo Tu We Th Fr Sa Su  Mo Tu We Th Fr Sa Su\n",
      "                   1         1  2  3  4  5         1  2  3  4  5\n",
      " 2  3  4  5  6  7  8   6  7  8  9 10 11 12   6  7  8  9 10 11 12\n",
      " 9 10 11 12 13 14 15  13 14 15 16 17 18 19  13 14 15 16 17 18 19\n",
      "16 17 18 19 20 21 22  20 21 22 23 24 25 26  20 21 22 23 24 25 26\n",
      "23 24 25 26 27 28 29  27 28                 27 28 29 30 31\n",
      "30 31\n",
      "\n",
      "       April                  May                   June\n",
      "Mo Tu We Th Fr Sa Su  Mo Tu We Th Fr Sa Su  Mo Tu We Th Fr Sa Su\n",
      "                1  2   1  2  3  4  5  6  7            1  2  3  4\n",
      " 3  4  5  6  7  8  9   8  9 10 11 12 13 14   5  6  7  8  9 10 11\n",
      "10 11 12 13 14 15 16  15 16 17 18 19 20 21  12 13 14 15 16 17 18\n",
      "17 18 19 20 21 22 23  22 23 24 25 26 27 28  19 20 21 22 23 24 25\n",
      "24 25 26 27 28 29 30  29 30 31              26 27 28 29 30\n",
      "\n",
      "        July                 August              September\n",
      "Mo Tu We Th Fr Sa Su  Mo Tu We Th Fr Sa Su  Mo Tu We Th Fr Sa Su\n",
      "                1  2      1  2  3  4  5  6               1  2  3\n",
      " 3  4  5  6  7  8  9   7  8  9 10 11 12 13   4  5  6  7  8  9 10\n",
      "10 11 12 13 14 15 16  14 15 16 17 18 19 20  11 12 13 14 15 16 17\n",
      "17 18 19 20 21 22 23  21 22 23 24 25 26 27  18 19 20 21 22 23 24\n",
      "24 25 26 27 28 29 30  28 29 30 31           25 26 27 28 29 30\n",
      "31\n",
      "\n",
      "      October               November              December\n",
      "Mo Tu We Th Fr Sa Su  Mo Tu We Th Fr Sa Su  Mo Tu We Th Fr Sa Su\n",
      "                   1         1  2  3  4  5               1  2  3\n",
      " 2  3  4  5  6  7  8   6  7  8  9 10 11 12   4  5  6  7  8  9 10\n",
      " 9 10 11 12 13 14 15  13 14 15 16 17 18 19  11 12 13 14 15 16 17\n",
      "16 17 18 19 20 21 22  20 21 22 23 24 25 26  18 19 20 21 22 23 24\n",
      "23 24 25 26 27 28 29  27 28 29 30           25 26 27 28 29 30 31\n",
      "30 31\n",
      "\n"
     ]
    }
   ],
   "source": [
    "print(calendar.calendar(2023,2,1,2))"
   ]
  },
  {
   "cell_type": "code",
   "execution_count": 68,
   "id": "961e2e09",
   "metadata": {},
   "outputs": [
    {
     "name": "stdout",
     "output_type": "stream",
     "text": [
      "     July 2024\n",
      "Mo Tu We Th Fr Sa Su\n",
      " 1  2  3  4  5  6  7\n",
      " 8  9 10 11 12 13 14\n",
      "15 16 17 18 19 20 21\n",
      "22 23 24 25 26 27 28\n",
      "29 30 31\n",
      "\n"
     ]
    }
   ],
   "source": [
    "print(calendar.month(2024,7,w=2,l=1))"
   ]
  },
  {
   "cell_type": "code",
   "execution_count": 63,
   "id": "2b3eb28a",
   "metadata": {},
   "outputs": [
    {
     "data": {
      "text/plain": [
       "8"
      ]
     },
     "execution_count": 63,
     "metadata": {},
     "output_type": "execute_result"
    }
   ],
   "source": [
    "calendar.leapdays(1990,2024)"
   ]
  },
  {
   "cell_type": "code",
   "execution_count": 70,
   "id": "8941770e",
   "metadata": {},
   "outputs": [
    {
     "data": {
      "text/plain": [
       "True"
      ]
     },
     "execution_count": 70,
     "metadata": {},
     "output_type": "execute_result"
    }
   ],
   "source": [
    "calendar.isleap(2024)"
   ]
  },
  {
   "cell_type": "code",
   "execution_count": 73,
   "id": "2347a4e1",
   "metadata": {},
   "outputs": [
    {
     "data": {
      "text/plain": [
       "6"
      ]
     },
     "execution_count": 73,
     "metadata": {},
     "output_type": "execute_result"
    }
   ],
   "source": [
    "calendar.SUNDAY"
   ]
  },
  {
   "cell_type": "code",
   "execution_count": 74,
   "id": "c3043fc7",
   "metadata": {},
   "outputs": [
    {
     "data": {
      "text/plain": [
       "3"
      ]
     },
     "execution_count": 74,
     "metadata": {},
     "output_type": "execute_result"
    }
   ],
   "source": [
    "calendar.THURSDAY"
   ]
  },
  {
   "cell_type": "code",
   "execution_count": 8,
   "id": "383c660e",
   "metadata": {},
   "outputs": [
    {
     "data": {
      "text/plain": [
       "1"
      ]
     },
     "execution_count": 8,
     "metadata": {},
     "output_type": "execute_result"
    }
   ],
   "source": [
    "calendar.January"
   ]
  },
  {
   "cell_type": "code",
   "execution_count": 90,
   "id": "fb3a1718",
   "metadata": {},
   "outputs": [
    {
     "data": {
      "text/plain": [
       "2"
      ]
     },
     "execution_count": 90,
     "metadata": {},
     "output_type": "execute_result"
    }
   ],
   "source": [
    "calendar.February"
   ]
  },
  {
   "cell_type": "code",
   "execution_count": 77,
   "id": "1051a630",
   "metadata": {},
   "outputs": [
    {
     "data": {
      "text/plain": [
       "5"
      ]
     },
     "execution_count": 77,
     "metadata": {},
     "output_type": "execute_result"
    }
   ],
   "source": [
    "calendar.weekday(2024,7,27)"
   ]
  },
  {
   "cell_type": "code",
   "execution_count": 81,
   "id": "e6579682",
   "metadata": {},
   "outputs": [
    {
     "data": {
      "text/plain": [
       "0"
      ]
     },
     "execution_count": 81,
     "metadata": {},
     "output_type": "execute_result"
    }
   ],
   "source": [
    "calendar.MONDAY"
   ]
  },
  {
   "cell_type": "code",
   "execution_count": 98,
   "id": "93105762",
   "metadata": {},
   "outputs": [
    {
     "data": {
      "text/plain": [
       "['January', 'February', 'March']"
      ]
     },
     "execution_count": 98,
     "metadata": {},
     "output_type": "execute_result"
    }
   ],
   "source": [
    "calendar.month_name[1:4]"
   ]
  },
  {
   "cell_type": "code",
   "execution_count": 96,
   "id": "2e8f5bb2",
   "metadata": {},
   "outputs": [
    {
     "data": {
      "text/plain": [
       "'Mo Tu We Th Fr Sa Su'"
      ]
     },
     "execution_count": 96,
     "metadata": {},
     "output_type": "execute_result"
    }
   ],
   "source": [
    "calendar.weekheader(2)"
   ]
  },
  {
   "cell_type": "code",
   "execution_count": 97,
   "id": "51e03897",
   "metadata": {},
   "outputs": [
    {
     "data": {
      "text/plain": [
       "[1, 2]"
      ]
     },
     "execution_count": 97,
     "metadata": {},
     "output_type": "execute_result"
    }
   ],
   "source": [
    "list1=[1,2,3]\n",
    "list1[0:2]"
   ]
  },
  {
   "cell_type": "code",
   "execution_count": 99,
   "id": "9dfd890b",
   "metadata": {},
   "outputs": [],
   "source": [
    "import datetime"
   ]
  },
  {
   "cell_type": "code",
   "execution_count": 103,
   "id": "553cf02b",
   "metadata": {},
   "outputs": [
    {
     "data": {
      "text/plain": [
       "datetime.datetime(2024, 7, 22, 21, 46, 34, 139187)"
      ]
     },
     "execution_count": 103,
     "metadata": {},
     "output_type": "execute_result"
    }
   ],
   "source": [
    "datetime.datetime.now()"
   ]
  },
  {
   "cell_type": "code",
   "execution_count": 104,
   "id": "5f3a2cdd",
   "metadata": {},
   "outputs": [
    {
     "data": {
      "text/plain": [
       "datetime.date(2024, 7, 22)"
      ]
     },
     "execution_count": 104,
     "metadata": {},
     "output_type": "execute_result"
    }
   ],
   "source": [
    "datetime.date.today()"
   ]
  },
  {
   "cell_type": "code",
   "execution_count": 125,
   "id": "3cbc3178",
   "metadata": {},
   "outputs": [
    {
     "data": {
      "text/plain": [
       "2024"
      ]
     },
     "execution_count": 125,
     "metadata": {},
     "output_type": "execute_result"
    }
   ],
   "source": [
    "x=datetime.date(2024,12,20)\n",
    "x.year"
   ]
  },
  {
   "cell_type": "code",
   "execution_count": 126,
   "id": "6166c849",
   "metadata": {},
   "outputs": [
    {
     "data": {
      "text/plain": [
       "12"
      ]
     },
     "execution_count": 126,
     "metadata": {},
     "output_type": "execute_result"
    }
   ],
   "source": [
    "x.month"
   ]
  },
  {
   "cell_type": "code",
   "execution_count": 127,
   "id": "dcc372ba",
   "metadata": {},
   "outputs": [
    {
     "data": {
      "text/plain": [
       "20"
      ]
     },
     "execution_count": 127,
     "metadata": {},
     "output_type": "execute_result"
    }
   ],
   "source": [
    "x.day"
   ]
  },
  {
   "cell_type": "code",
   "execution_count": 123,
   "id": "26c84c76",
   "metadata": {},
   "outputs": [],
   "source": [
    "time= datetime.datetime.now()"
   ]
  },
  {
   "cell_type": "code",
   "execution_count": 124,
   "id": "578d10cc",
   "metadata": {},
   "outputs": [
    {
     "data": {
      "text/plain": [
       "'24/07/22,21:52:59'"
      ]
     },
     "execution_count": 124,
     "metadata": {},
     "output_type": "execute_result"
    }
   ],
   "source": [
    "time.strftime('%y/%m/%d,%H:%M:%S')"
   ]
  },
  {
   "cell_type": "code",
   "execution_count": 116,
   "id": "f3ecb910",
   "metadata": {},
   "outputs": [],
   "source": [
    "date=datetime.datetime.now()"
   ]
  },
  {
   "cell_type": "code",
   "execution_count": 118,
   "id": "03dc9a36",
   "metadata": {},
   "outputs": [
    {
     "data": {
      "text/plain": [
       "'24/07/22'"
      ]
     },
     "execution_count": 118,
     "metadata": {},
     "output_type": "execute_result"
    }
   ],
   "source": [
    "date.strftime('%y/%m/%d')"
   ]
  },
  {
   "cell_type": "code",
   "execution_count": 115,
   "id": "32fc995f",
   "metadata": {},
   "outputs": [
    {
     "data": {
      "text/plain": [
       "'21:47:42'"
      ]
     },
     "execution_count": 115,
     "metadata": {},
     "output_type": "execute_result"
    }
   ],
   "source": [
    "time.strftime('%H:%M:%S')"
   ]
  },
  {
   "cell_type": "code",
   "execution_count": 41,
   "id": "bd727d83",
   "metadata": {},
   "outputs": [],
   "source": [
    "date= datetime.datetime.now()"
   ]
  },
  {
   "cell_type": "code",
   "execution_count": 128,
   "id": "2a0f1a65",
   "metadata": {},
   "outputs": [
    {
     "name": "stdout",
     "output_type": "stream",
     "text": [
      "year 2024\n",
      "month 7\n",
      "day 22\n",
      "hour 21\n",
      "minute 51\n",
      "sec 30\n",
      "microsec 748030\n"
     ]
    }
   ],
   "source": [
    "print('year',date.year)\n",
    "print('month',date.month)\n",
    "print('day',date.day)\n",
    "print('hour',date.hour)\n",
    "print('minute',date.minute)\n",
    "print('sec',date.second)\n",
    "print('microsec',date.microsecond)"
   ]
  },
  {
   "cell_type": "code",
   "execution_count": 143,
   "id": "fdd0f50c",
   "metadata": {},
   "outputs": [
    {
     "data": {
      "text/plain": [
       "'22:07:32'"
      ]
     },
     "execution_count": 143,
     "metadata": {},
     "output_type": "execute_result"
    }
   ],
   "source": [
    "import pytz\n",
    "time=pytz.timezone('Asia/Kolkata')\n",
    "t1=datetime.datetime.now(time)\n",
    "t1.strftime('%H:%M:%S')"
   ]
  },
  {
   "cell_type": "code",
   "execution_count": 138,
   "id": "49b307f5",
   "metadata": {},
   "outputs": [
    {
     "data": {
      "text/plain": [
       "{'Africa/Abidjan',\n",
       " 'Africa/Accra',\n",
       " 'Africa/Addis_Ababa',\n",
       " 'Africa/Algiers',\n",
       " 'Africa/Asmara',\n",
       " 'Africa/Asmera',\n",
       " 'Africa/Bamako',\n",
       " 'Africa/Bangui',\n",
       " 'Africa/Banjul',\n",
       " 'Africa/Bissau',\n",
       " 'Africa/Blantyre',\n",
       " 'Africa/Brazzaville',\n",
       " 'Africa/Bujumbura',\n",
       " 'Africa/Cairo',\n",
       " 'Africa/Casablanca',\n",
       " 'Africa/Ceuta',\n",
       " 'Africa/Conakry',\n",
       " 'Africa/Dakar',\n",
       " 'Africa/Dar_es_Salaam',\n",
       " 'Africa/Djibouti',\n",
       " 'Africa/Douala',\n",
       " 'Africa/El_Aaiun',\n",
       " 'Africa/Freetown',\n",
       " 'Africa/Gaborone',\n",
       " 'Africa/Harare',\n",
       " 'Africa/Johannesburg',\n",
       " 'Africa/Juba',\n",
       " 'Africa/Kampala',\n",
       " 'Africa/Khartoum',\n",
       " 'Africa/Kigali',\n",
       " 'Africa/Kinshasa',\n",
       " 'Africa/Lagos',\n",
       " 'Africa/Libreville',\n",
       " 'Africa/Lome',\n",
       " 'Africa/Luanda',\n",
       " 'Africa/Lubumbashi',\n",
       " 'Africa/Lusaka',\n",
       " 'Africa/Malabo',\n",
       " 'Africa/Maputo',\n",
       " 'Africa/Maseru',\n",
       " 'Africa/Mbabane',\n",
       " 'Africa/Mogadishu',\n",
       " 'Africa/Monrovia',\n",
       " 'Africa/Nairobi',\n",
       " 'Africa/Ndjamena',\n",
       " 'Africa/Niamey',\n",
       " 'Africa/Nouakchott',\n",
       " 'Africa/Ouagadougou',\n",
       " 'Africa/Porto-Novo',\n",
       " 'Africa/Sao_Tome',\n",
       " 'Africa/Timbuktu',\n",
       " 'Africa/Tripoli',\n",
       " 'Africa/Tunis',\n",
       " 'Africa/Windhoek',\n",
       " 'America/Adak',\n",
       " 'America/Anchorage',\n",
       " 'America/Anguilla',\n",
       " 'America/Antigua',\n",
       " 'America/Araguaina',\n",
       " 'America/Argentina/Buenos_Aires',\n",
       " 'America/Argentina/Catamarca',\n",
       " 'America/Argentina/ComodRivadavia',\n",
       " 'America/Argentina/Cordoba',\n",
       " 'America/Argentina/Jujuy',\n",
       " 'America/Argentina/La_Rioja',\n",
       " 'America/Argentina/Mendoza',\n",
       " 'America/Argentina/Rio_Gallegos',\n",
       " 'America/Argentina/Salta',\n",
       " 'America/Argentina/San_Juan',\n",
       " 'America/Argentina/San_Luis',\n",
       " 'America/Argentina/Tucuman',\n",
       " 'America/Argentina/Ushuaia',\n",
       " 'America/Aruba',\n",
       " 'America/Asuncion',\n",
       " 'America/Atikokan',\n",
       " 'America/Atka',\n",
       " 'America/Bahia',\n",
       " 'America/Bahia_Banderas',\n",
       " 'America/Barbados',\n",
       " 'America/Belem',\n",
       " 'America/Belize',\n",
       " 'America/Blanc-Sablon',\n",
       " 'America/Boa_Vista',\n",
       " 'America/Bogota',\n",
       " 'America/Boise',\n",
       " 'America/Buenos_Aires',\n",
       " 'America/Cambridge_Bay',\n",
       " 'America/Campo_Grande',\n",
       " 'America/Cancun',\n",
       " 'America/Caracas',\n",
       " 'America/Catamarca',\n",
       " 'America/Cayenne',\n",
       " 'America/Cayman',\n",
       " 'America/Chicago',\n",
       " 'America/Chihuahua',\n",
       " 'America/Ciudad_Juarez',\n",
       " 'America/Coral_Harbour',\n",
       " 'America/Cordoba',\n",
       " 'America/Costa_Rica',\n",
       " 'America/Creston',\n",
       " 'America/Cuiaba',\n",
       " 'America/Curacao',\n",
       " 'America/Danmarkshavn',\n",
       " 'America/Dawson',\n",
       " 'America/Dawson_Creek',\n",
       " 'America/Denver',\n",
       " 'America/Detroit',\n",
       " 'America/Dominica',\n",
       " 'America/Edmonton',\n",
       " 'America/Eirunepe',\n",
       " 'America/El_Salvador',\n",
       " 'America/Ensenada',\n",
       " 'America/Fort_Nelson',\n",
       " 'America/Fort_Wayne',\n",
       " 'America/Fortaleza',\n",
       " 'America/Glace_Bay',\n",
       " 'America/Godthab',\n",
       " 'America/Goose_Bay',\n",
       " 'America/Grand_Turk',\n",
       " 'America/Grenada',\n",
       " 'America/Guadeloupe',\n",
       " 'America/Guatemala',\n",
       " 'America/Guayaquil',\n",
       " 'America/Guyana',\n",
       " 'America/Halifax',\n",
       " 'America/Havana',\n",
       " 'America/Hermosillo',\n",
       " 'America/Indiana/Indianapolis',\n",
       " 'America/Indiana/Knox',\n",
       " 'America/Indiana/Marengo',\n",
       " 'America/Indiana/Petersburg',\n",
       " 'America/Indiana/Tell_City',\n",
       " 'America/Indiana/Vevay',\n",
       " 'America/Indiana/Vincennes',\n",
       " 'America/Indiana/Winamac',\n",
       " 'America/Indianapolis',\n",
       " 'America/Inuvik',\n",
       " 'America/Iqaluit',\n",
       " 'America/Jamaica',\n",
       " 'America/Jujuy',\n",
       " 'America/Juneau',\n",
       " 'America/Kentucky/Louisville',\n",
       " 'America/Kentucky/Monticello',\n",
       " 'America/Knox_IN',\n",
       " 'America/Kralendijk',\n",
       " 'America/La_Paz',\n",
       " 'America/Lima',\n",
       " 'America/Los_Angeles',\n",
       " 'America/Louisville',\n",
       " 'America/Lower_Princes',\n",
       " 'America/Maceio',\n",
       " 'America/Managua',\n",
       " 'America/Manaus',\n",
       " 'America/Marigot',\n",
       " 'America/Martinique',\n",
       " 'America/Matamoros',\n",
       " 'America/Mazatlan',\n",
       " 'America/Mendoza',\n",
       " 'America/Menominee',\n",
       " 'America/Merida',\n",
       " 'America/Metlakatla',\n",
       " 'America/Mexico_City',\n",
       " 'America/Miquelon',\n",
       " 'America/Moncton',\n",
       " 'America/Monterrey',\n",
       " 'America/Montevideo',\n",
       " 'America/Montreal',\n",
       " 'America/Montserrat',\n",
       " 'America/Nassau',\n",
       " 'America/New_York',\n",
       " 'America/Nipigon',\n",
       " 'America/Nome',\n",
       " 'America/Noronha',\n",
       " 'America/North_Dakota/Beulah',\n",
       " 'America/North_Dakota/Center',\n",
       " 'America/North_Dakota/New_Salem',\n",
       " 'America/Nuuk',\n",
       " 'America/Ojinaga',\n",
       " 'America/Panama',\n",
       " 'America/Pangnirtung',\n",
       " 'America/Paramaribo',\n",
       " 'America/Phoenix',\n",
       " 'America/Port-au-Prince',\n",
       " 'America/Port_of_Spain',\n",
       " 'America/Porto_Acre',\n",
       " 'America/Porto_Velho',\n",
       " 'America/Puerto_Rico',\n",
       " 'America/Punta_Arenas',\n",
       " 'America/Rainy_River',\n",
       " 'America/Rankin_Inlet',\n",
       " 'America/Recife',\n",
       " 'America/Regina',\n",
       " 'America/Resolute',\n",
       " 'America/Rio_Branco',\n",
       " 'America/Rosario',\n",
       " 'America/Santa_Isabel',\n",
       " 'America/Santarem',\n",
       " 'America/Santiago',\n",
       " 'America/Santo_Domingo',\n",
       " 'America/Sao_Paulo',\n",
       " 'America/Scoresbysund',\n",
       " 'America/Shiprock',\n",
       " 'America/Sitka',\n",
       " 'America/St_Barthelemy',\n",
       " 'America/St_Johns',\n",
       " 'America/St_Kitts',\n",
       " 'America/St_Lucia',\n",
       " 'America/St_Thomas',\n",
       " 'America/St_Vincent',\n",
       " 'America/Swift_Current',\n",
       " 'America/Tegucigalpa',\n",
       " 'America/Thule',\n",
       " 'America/Thunder_Bay',\n",
       " 'America/Tijuana',\n",
       " 'America/Toronto',\n",
       " 'America/Tortola',\n",
       " 'America/Vancouver',\n",
       " 'America/Virgin',\n",
       " 'America/Whitehorse',\n",
       " 'America/Winnipeg',\n",
       " 'America/Yakutat',\n",
       " 'America/Yellowknife',\n",
       " 'Antarctica/Casey',\n",
       " 'Antarctica/Davis',\n",
       " 'Antarctica/DumontDUrville',\n",
       " 'Antarctica/Macquarie',\n",
       " 'Antarctica/Mawson',\n",
       " 'Antarctica/McMurdo',\n",
       " 'Antarctica/Palmer',\n",
       " 'Antarctica/Rothera',\n",
       " 'Antarctica/South_Pole',\n",
       " 'Antarctica/Syowa',\n",
       " 'Antarctica/Troll',\n",
       " 'Antarctica/Vostok',\n",
       " 'Arctic/Longyearbyen',\n",
       " 'Asia/Aden',\n",
       " 'Asia/Almaty',\n",
       " 'Asia/Amman',\n",
       " 'Asia/Anadyr',\n",
       " 'Asia/Aqtau',\n",
       " 'Asia/Aqtobe',\n",
       " 'Asia/Ashgabat',\n",
       " 'Asia/Ashkhabad',\n",
       " 'Asia/Atyrau',\n",
       " 'Asia/Baghdad',\n",
       " 'Asia/Bahrain',\n",
       " 'Asia/Baku',\n",
       " 'Asia/Bangkok',\n",
       " 'Asia/Barnaul',\n",
       " 'Asia/Beirut',\n",
       " 'Asia/Bishkek',\n",
       " 'Asia/Brunei',\n",
       " 'Asia/Calcutta',\n",
       " 'Asia/Chita',\n",
       " 'Asia/Choibalsan',\n",
       " 'Asia/Chongqing',\n",
       " 'Asia/Chungking',\n",
       " 'Asia/Colombo',\n",
       " 'Asia/Dacca',\n",
       " 'Asia/Damascus',\n",
       " 'Asia/Dhaka',\n",
       " 'Asia/Dili',\n",
       " 'Asia/Dubai',\n",
       " 'Asia/Dushanbe',\n",
       " 'Asia/Famagusta',\n",
       " 'Asia/Gaza',\n",
       " 'Asia/Harbin',\n",
       " 'Asia/Hebron',\n",
       " 'Asia/Ho_Chi_Minh',\n",
       " 'Asia/Hong_Kong',\n",
       " 'Asia/Hovd',\n",
       " 'Asia/Irkutsk',\n",
       " 'Asia/Istanbul',\n",
       " 'Asia/Jakarta',\n",
       " 'Asia/Jayapura',\n",
       " 'Asia/Jerusalem',\n",
       " 'Asia/Kabul',\n",
       " 'Asia/Kamchatka',\n",
       " 'Asia/Karachi',\n",
       " 'Asia/Kashgar',\n",
       " 'Asia/Kathmandu',\n",
       " 'Asia/Katmandu',\n",
       " 'Asia/Khandyga',\n",
       " 'Asia/Kolkata',\n",
       " 'Asia/Krasnoyarsk',\n",
       " 'Asia/Kuala_Lumpur',\n",
       " 'Asia/Kuching',\n",
       " 'Asia/Kuwait',\n",
       " 'Asia/Macao',\n",
       " 'Asia/Macau',\n",
       " 'Asia/Magadan',\n",
       " 'Asia/Makassar',\n",
       " 'Asia/Manila',\n",
       " 'Asia/Muscat',\n",
       " 'Asia/Nicosia',\n",
       " 'Asia/Novokuznetsk',\n",
       " 'Asia/Novosibirsk',\n",
       " 'Asia/Omsk',\n",
       " 'Asia/Oral',\n",
       " 'Asia/Phnom_Penh',\n",
       " 'Asia/Pontianak',\n",
       " 'Asia/Pyongyang',\n",
       " 'Asia/Qatar',\n",
       " 'Asia/Qostanay',\n",
       " 'Asia/Qyzylorda',\n",
       " 'Asia/Rangoon',\n",
       " 'Asia/Riyadh',\n",
       " 'Asia/Saigon',\n",
       " 'Asia/Sakhalin',\n",
       " 'Asia/Samarkand',\n",
       " 'Asia/Seoul',\n",
       " 'Asia/Shanghai',\n",
       " 'Asia/Singapore',\n",
       " 'Asia/Srednekolymsk',\n",
       " 'Asia/Taipei',\n",
       " 'Asia/Tashkent',\n",
       " 'Asia/Tbilisi',\n",
       " 'Asia/Tehran',\n",
       " 'Asia/Tel_Aviv',\n",
       " 'Asia/Thimbu',\n",
       " 'Asia/Thimphu',\n",
       " 'Asia/Tokyo',\n",
       " 'Asia/Tomsk',\n",
       " 'Asia/Ujung_Pandang',\n",
       " 'Asia/Ulaanbaatar',\n",
       " 'Asia/Ulan_Bator',\n",
       " 'Asia/Urumqi',\n",
       " 'Asia/Ust-Nera',\n",
       " 'Asia/Vientiane',\n",
       " 'Asia/Vladivostok',\n",
       " 'Asia/Yakutsk',\n",
       " 'Asia/Yangon',\n",
       " 'Asia/Yekaterinburg',\n",
       " 'Asia/Yerevan',\n",
       " 'Atlantic/Azores',\n",
       " 'Atlantic/Bermuda',\n",
       " 'Atlantic/Canary',\n",
       " 'Atlantic/Cape_Verde',\n",
       " 'Atlantic/Faeroe',\n",
       " 'Atlantic/Faroe',\n",
       " 'Atlantic/Jan_Mayen',\n",
       " 'Atlantic/Madeira',\n",
       " 'Atlantic/Reykjavik',\n",
       " 'Atlantic/South_Georgia',\n",
       " 'Atlantic/St_Helena',\n",
       " 'Atlantic/Stanley',\n",
       " 'Australia/ACT',\n",
       " 'Australia/Adelaide',\n",
       " 'Australia/Brisbane',\n",
       " 'Australia/Broken_Hill',\n",
       " 'Australia/Canberra',\n",
       " 'Australia/Currie',\n",
       " 'Australia/Darwin',\n",
       " 'Australia/Eucla',\n",
       " 'Australia/Hobart',\n",
       " 'Australia/LHI',\n",
       " 'Australia/Lindeman',\n",
       " 'Australia/Lord_Howe',\n",
       " 'Australia/Melbourne',\n",
       " 'Australia/NSW',\n",
       " 'Australia/North',\n",
       " 'Australia/Perth',\n",
       " 'Australia/Queensland',\n",
       " 'Australia/South',\n",
       " 'Australia/Sydney',\n",
       " 'Australia/Tasmania',\n",
       " 'Australia/Victoria',\n",
       " 'Australia/West',\n",
       " 'Australia/Yancowinna',\n",
       " 'Brazil/Acre',\n",
       " 'Brazil/DeNoronha',\n",
       " 'Brazil/East',\n",
       " 'Brazil/West',\n",
       " 'CET',\n",
       " 'CST6CDT',\n",
       " 'Canada/Atlantic',\n",
       " 'Canada/Central',\n",
       " 'Canada/Eastern',\n",
       " 'Canada/Mountain',\n",
       " 'Canada/Newfoundland',\n",
       " 'Canada/Pacific',\n",
       " 'Canada/Saskatchewan',\n",
       " 'Canada/Yukon',\n",
       " 'Chile/Continental',\n",
       " 'Chile/EasterIsland',\n",
       " 'Cuba',\n",
       " 'EET',\n",
       " 'EST',\n",
       " 'EST5EDT',\n",
       " 'Egypt',\n",
       " 'Eire',\n",
       " 'Etc/GMT',\n",
       " 'Etc/GMT+0',\n",
       " 'Etc/GMT+1',\n",
       " 'Etc/GMT+10',\n",
       " 'Etc/GMT+11',\n",
       " 'Etc/GMT+12',\n",
       " 'Etc/GMT+2',\n",
       " 'Etc/GMT+3',\n",
       " 'Etc/GMT+4',\n",
       " 'Etc/GMT+5',\n",
       " 'Etc/GMT+6',\n",
       " 'Etc/GMT+7',\n",
       " 'Etc/GMT+8',\n",
       " 'Etc/GMT+9',\n",
       " 'Etc/GMT-0',\n",
       " 'Etc/GMT-1',\n",
       " 'Etc/GMT-10',\n",
       " 'Etc/GMT-11',\n",
       " 'Etc/GMT-12',\n",
       " 'Etc/GMT-13',\n",
       " 'Etc/GMT-14',\n",
       " 'Etc/GMT-2',\n",
       " 'Etc/GMT-3',\n",
       " 'Etc/GMT-4',\n",
       " 'Etc/GMT-5',\n",
       " 'Etc/GMT-6',\n",
       " 'Etc/GMT-7',\n",
       " 'Etc/GMT-8',\n",
       " 'Etc/GMT-9',\n",
       " 'Etc/GMT0',\n",
       " 'Etc/Greenwich',\n",
       " 'Etc/UCT',\n",
       " 'Etc/UTC',\n",
       " 'Etc/Universal',\n",
       " 'Etc/Zulu',\n",
       " 'Europe/Amsterdam',\n",
       " 'Europe/Andorra',\n",
       " 'Europe/Astrakhan',\n",
       " 'Europe/Athens',\n",
       " 'Europe/Belfast',\n",
       " 'Europe/Belgrade',\n",
       " 'Europe/Berlin',\n",
       " 'Europe/Bratislava',\n",
       " 'Europe/Brussels',\n",
       " 'Europe/Bucharest',\n",
       " 'Europe/Budapest',\n",
       " 'Europe/Busingen',\n",
       " 'Europe/Chisinau',\n",
       " 'Europe/Copenhagen',\n",
       " 'Europe/Dublin',\n",
       " 'Europe/Gibraltar',\n",
       " 'Europe/Guernsey',\n",
       " 'Europe/Helsinki',\n",
       " 'Europe/Isle_of_Man',\n",
       " 'Europe/Istanbul',\n",
       " 'Europe/Jersey',\n",
       " 'Europe/Kaliningrad',\n",
       " 'Europe/Kiev',\n",
       " 'Europe/Kirov',\n",
       " 'Europe/Kyiv',\n",
       " 'Europe/Lisbon',\n",
       " 'Europe/Ljubljana',\n",
       " 'Europe/London',\n",
       " 'Europe/Luxembourg',\n",
       " 'Europe/Madrid',\n",
       " 'Europe/Malta',\n",
       " 'Europe/Mariehamn',\n",
       " 'Europe/Minsk',\n",
       " 'Europe/Monaco',\n",
       " 'Europe/Moscow',\n",
       " 'Europe/Nicosia',\n",
       " 'Europe/Oslo',\n",
       " 'Europe/Paris',\n",
       " 'Europe/Podgorica',\n",
       " 'Europe/Prague',\n",
       " 'Europe/Riga',\n",
       " 'Europe/Rome',\n",
       " 'Europe/Samara',\n",
       " 'Europe/San_Marino',\n",
       " 'Europe/Sarajevo',\n",
       " 'Europe/Saratov',\n",
       " 'Europe/Simferopol',\n",
       " 'Europe/Skopje',\n",
       " 'Europe/Sofia',\n",
       " 'Europe/Stockholm',\n",
       " 'Europe/Tallinn',\n",
       " 'Europe/Tirane',\n",
       " 'Europe/Tiraspol',\n",
       " 'Europe/Ulyanovsk',\n",
       " 'Europe/Uzhgorod',\n",
       " 'Europe/Vaduz',\n",
       " 'Europe/Vatican',\n",
       " 'Europe/Vienna',\n",
       " 'Europe/Vilnius',\n",
       " 'Europe/Volgograd',\n",
       " 'Europe/Warsaw',\n",
       " 'Europe/Zagreb',\n",
       " 'Europe/Zaporozhye',\n",
       " 'Europe/Zurich',\n",
       " 'GB',\n",
       " 'GB-Eire',\n",
       " 'GMT',\n",
       " 'GMT+0',\n",
       " 'GMT-0',\n",
       " 'GMT0',\n",
       " 'Greenwich',\n",
       " 'HST',\n",
       " 'Hongkong',\n",
       " 'Iceland',\n",
       " 'Indian/Antananarivo',\n",
       " 'Indian/Chagos',\n",
       " 'Indian/Christmas',\n",
       " 'Indian/Cocos',\n",
       " 'Indian/Comoro',\n",
       " 'Indian/Kerguelen',\n",
       " 'Indian/Mahe',\n",
       " 'Indian/Maldives',\n",
       " 'Indian/Mauritius',\n",
       " 'Indian/Mayotte',\n",
       " 'Indian/Reunion',\n",
       " 'Iran',\n",
       " 'Israel',\n",
       " 'Jamaica',\n",
       " 'Japan',\n",
       " 'Kwajalein',\n",
       " 'Libya',\n",
       " 'MET',\n",
       " 'MST',\n",
       " 'MST7MDT',\n",
       " 'Mexico/BajaNorte',\n",
       " 'Mexico/BajaSur',\n",
       " 'Mexico/General',\n",
       " 'NZ',\n",
       " 'NZ-CHAT',\n",
       " 'Navajo',\n",
       " 'PRC',\n",
       " 'PST8PDT',\n",
       " 'Pacific/Apia',\n",
       " 'Pacific/Auckland',\n",
       " 'Pacific/Bougainville',\n",
       " 'Pacific/Chatham',\n",
       " 'Pacific/Chuuk',\n",
       " 'Pacific/Easter',\n",
       " 'Pacific/Efate',\n",
       " 'Pacific/Enderbury',\n",
       " 'Pacific/Fakaofo',\n",
       " 'Pacific/Fiji',\n",
       " 'Pacific/Funafuti',\n",
       " 'Pacific/Galapagos',\n",
       " 'Pacific/Gambier',\n",
       " 'Pacific/Guadalcanal',\n",
       " 'Pacific/Guam',\n",
       " 'Pacific/Honolulu',\n",
       " 'Pacific/Johnston',\n",
       " 'Pacific/Kanton',\n",
       " 'Pacific/Kiritimati',\n",
       " 'Pacific/Kosrae',\n",
       " 'Pacific/Kwajalein',\n",
       " 'Pacific/Majuro',\n",
       " 'Pacific/Marquesas',\n",
       " 'Pacific/Midway',\n",
       " 'Pacific/Nauru',\n",
       " 'Pacific/Niue',\n",
       " 'Pacific/Norfolk',\n",
       " 'Pacific/Noumea',\n",
       " 'Pacific/Pago_Pago',\n",
       " 'Pacific/Palau',\n",
       " 'Pacific/Pitcairn',\n",
       " 'Pacific/Pohnpei',\n",
       " 'Pacific/Ponape',\n",
       " 'Pacific/Port_Moresby',\n",
       " 'Pacific/Rarotonga',\n",
       " 'Pacific/Saipan',\n",
       " 'Pacific/Samoa',\n",
       " 'Pacific/Tahiti',\n",
       " 'Pacific/Tarawa',\n",
       " 'Pacific/Tongatapu',\n",
       " 'Pacific/Truk',\n",
       " 'Pacific/Wake',\n",
       " 'Pacific/Wallis',\n",
       " 'Pacific/Yap',\n",
       " 'Poland',\n",
       " 'Portugal',\n",
       " 'ROC',\n",
       " 'ROK',\n",
       " 'Singapore',\n",
       " 'Turkey',\n",
       " 'UCT',\n",
       " 'US/Alaska',\n",
       " 'US/Aleutian',\n",
       " 'US/Arizona',\n",
       " 'US/Central',\n",
       " 'US/East-Indiana',\n",
       " 'US/Eastern',\n",
       " 'US/Hawaii',\n",
       " 'US/Indiana-Starke',\n",
       " 'US/Michigan',\n",
       " 'US/Mountain',\n",
       " 'US/Pacific',\n",
       " 'US/Samoa',\n",
       " 'UTC',\n",
       " 'Universal',\n",
       " 'W-SU',\n",
       " 'WET',\n",
       " 'Zulu'}"
      ]
     },
     "execution_count": 138,
     "metadata": {},
     "output_type": "execute_result"
    }
   ],
   "source": [
    "pytz.all_timezones_set"
   ]
  },
  {
   "cell_type": "code",
   "execution_count": 134,
   "id": "d579a0d3",
   "metadata": {},
   "outputs": [
    {
     "name": "stdout",
     "output_type": "stream",
     "text": [
      "Timezones\n",
      "Asia/Tehran\n",
      "Asia/Damascus\n",
      "America/Nome\n",
      "Etc/Greenwich\n",
      "Asia/Qyzylorda\n",
      "Pacific/Galapagos\n",
      "Antarctica/Palmer\n",
      "America/Boa_Vista\n",
      "Universal\n",
      "Canada/Yukon\n",
      "America/Araguaina\n",
      "America/Havana\n",
      "America/New_York\n",
      "America/Los_Angeles\n",
      "Pacific/Fakaofo\n",
      "America/Indiana/Petersburg\n",
      "America/Kentucky/Monticello\n",
      "Australia/NSW\n",
      "Europe/Vatican\n",
      "Asia/Srednekolymsk\n",
      "America/Rankin_Inlet\n",
      "Etc/GMT\n",
      "Asia/Yakutsk\n",
      "Europe/Belfast\n",
      "America/Indiana/Vevay\n",
      "Asia/Samarkand\n",
      "Pacific/Rarotonga\n",
      "UTC\n",
      "Asia/Chungking\n",
      "Africa/Libreville\n",
      "America/Guadeloupe\n",
      "Africa/Algiers\n",
      "Africa/Nouakchott\n",
      "America/Cancun\n",
      "GB-Eire\n",
      "Europe/Gibraltar\n",
      "US/East-Indiana\n",
      "Africa/Johannesburg\n",
      "Asia/Bishkek\n",
      "Africa/Cairo\n",
      "Asia/Ashkhabad\n",
      "Asia/Calcutta\n",
      "America/Maceio\n",
      "Cuba\n",
      "America/Jamaica\n",
      "America/Vancouver\n",
      "America/Mendoza\n",
      "Asia/Macau\n",
      "Europe/Tirane\n",
      "Asia/Thimphu\n",
      "Etc/GMT+7\n",
      "America/Belem\n",
      "America/Anchorage\n",
      "Europe/Moscow\n",
      "Pacific/Niue\n",
      "Pacific/Midway\n",
      "America/El_Salvador\n",
      "Australia/Lord_Howe\n",
      "America/La_Paz\n",
      "Chile/Continental\n",
      "Africa/Ouagadougou\n",
      "Etc/GMT-1\n",
      "Canada/Eastern\n",
      "Etc/GMT-8\n",
      "Asia/Urumqi\n",
      "America/Danmarkshavn\n",
      "Asia/Nicosia\n",
      "Europe/Chisinau\n",
      "Asia/Chongqing\n",
      "Asia/Magadan\n",
      "Europe/Riga\n",
      "America/Atikokan\n",
      "Asia/Harbin\n",
      "Atlantic/Azores\n",
      "Atlantic/South_Georgia\n",
      "Africa/Djibouti\n",
      "America/Sitka\n",
      "Asia/Kathmandu\n",
      "America/Cayenne\n",
      "America/Merida\n",
      "Etc/UCT\n",
      "America/Nuuk\n",
      "Europe/Warsaw\n",
      "Hongkong\n",
      "Europe/Brussels\n",
      "Pacific/Honolulu\n",
      "Asia/Dushanbe\n",
      "America/Thule\n",
      "Africa/Asmara\n",
      "America/St_Lucia\n",
      "Asia/Karachi\n",
      "Brazil/East\n",
      "US/Michigan\n",
      "Europe/Dublin\n",
      "Africa/Lubumbashi\n",
      "Etc/GMT-3\n",
      "MST\n",
      "Asia/Jayapura\n",
      "America/Argentina/Catamarca\n",
      "America/St_Barthelemy\n",
      "Africa/Malabo\n",
      "Asia/Pontianak\n",
      "Asia/Tomsk\n",
      "America/Ciudad_Juarez\n",
      "Asia/Chita\n",
      "ROK\n",
      "Atlantic/Jan_Mayen\n",
      "America/Caracas\n",
      "Europe/Ljubljana\n",
      "America/Menominee\n",
      "America/Resolute\n",
      "Antarctica/Macquarie\n",
      "Canada/Pacific\n",
      "America/Glace_Bay\n",
      "Mexico/General\n",
      "Australia/Broken_Hill\n",
      "Africa/Juba\n",
      "Atlantic/Madeira\n",
      "America/Dawson_Creek\n",
      "America/St_Kitts\n",
      "Australia/Yancowinna\n",
      "America/Chihuahua\n",
      "America/Indianapolis\n",
      "America/Nassau\n",
      "Etc/GMT+12\n",
      "America/Mazatlan\n",
      "America/Santiago\n",
      "Pacific/Truk\n",
      "Asia/Ust-Nera\n",
      "Europe/Zurich\n",
      "America/Kralendijk\n",
      "Australia/Tasmania\n",
      "Atlantic/St_Helena\n",
      "America/Jujuy\n",
      "America/Hermosillo\n",
      "America/Montserrat\n",
      "America/Indiana/Vincennes\n",
      "Brazil/DeNoronha\n",
      "America/Halifax\n",
      "Etc/GMT+10\n",
      "Europe/Jersey\n",
      "Atlantic/Faeroe\n",
      "America/Montreal\n",
      "America/Moncton\n",
      "Asia/Hovd\n",
      "America/Panama\n",
      "America/Ensenada\n",
      "America/Grenada\n",
      "Indian/Antananarivo\n",
      "Asia/Baku\n",
      "America/Detroit\n",
      "America/Swift_Current\n",
      "Europe/Istanbul\n",
      "Pacific/Noumea\n",
      "Africa/Freetown\n",
      "America/Curacao\n",
      "Australia/Currie\n",
      "America/Fort_Nelson\n",
      "America/Fortaleza\n",
      "Asia/Ujung_Pandang\n",
      "Etc/GMT-4\n",
      "Pacific/Kwajalein\n",
      "Asia/Makassar\n",
      "Asia/Saigon\n",
      "Asia/Thimbu\n",
      "Africa/Niamey\n",
      "America/Antigua\n",
      "Asia/Hong_Kong\n",
      "Pacific/Enderbury\n",
      "Africa/Kigali\n",
      "Asia/Aqtau\n",
      "America/Argentina/Ushuaia\n",
      "America/Guatemala\n",
      "America/Port_of_Spain\n",
      "America/Argentina/Buenos_Aires\n",
      "America/Tijuana\n",
      "Africa/Luanda\n",
      "Asia/Muscat\n",
      "America/St_Johns\n",
      "GB\n",
      "Pacific/Auckland\n",
      "Pacific/Funafuti\n",
      "Europe/Belgrade\n",
      "Africa/Maputo\n",
      "Africa/Mbabane\n",
      "America/Argentina/Rio_Gallegos\n",
      "Africa/Nairobi\n",
      "America/Barbados\n",
      "Brazil/West\n",
      "GMT-0\n",
      "Atlantic/Bermuda\n",
      "Poland\n",
      "Europe/Rome\n",
      "America/Shiprock\n",
      "Asia/Baghdad\n",
      "Pacific/Tongatapu\n",
      "Asia/Kabul\n",
      "Australia/Melbourne\n",
      "Indian/Mauritius\n",
      "Zulu\n",
      "America/Santarem\n",
      "America/Dawson\n",
      "America/Phoenix\n",
      "Asia/Yekaterinburg\n",
      "Europe/Samara\n",
      "America/Indiana/Knox\n",
      "America/Rainy_River\n",
      "Africa/Bissau\n",
      "Asia/Khandyga\n",
      "America/Lower_Princes\n",
      "Etc/GMT-0\n",
      "Europe/Isle_of_Man\n",
      "Antarctica/Troll\n",
      "Africa/Lagos\n",
      "Asia/Kuala_Lumpur\n",
      "Asia/Phnom_Penh\n",
      "Pacific/Kiritimati\n",
      "Europe/Copenhagen\n",
      "America/Argentina/Salta\n",
      "Asia/Dili\n",
      "Atlantic/Canary\n",
      "Europe/Guernsey\n",
      "Asia/Beirut\n",
      "Asia/Oral\n",
      "Etc/GMT-14\n",
      "America/Tegucigalpa\n",
      "America/Godthab\n",
      "Portugal\n",
      "Atlantic/Cape_Verde\n",
      "Etc/GMT-6\n",
      "Europe/Oslo\n",
      "Asia/Aqtobe\n",
      "Australia/ACT\n",
      "Greenwich\n",
      "Pacific/Tahiti\n",
      "Pacific/Palau\n",
      "Africa/Lome\n",
      "America/Argentina/La_Rioja\n",
      "Etc/GMT-7\n",
      "Navajo\n",
      "Asia/Novokuznetsk\n",
      "Asia/Macao\n",
      "Africa/Windhoek\n",
      "Australia/Hobart\n",
      "Africa/Maseru\n",
      "Arctic/Longyearbyen\n",
      "Asia/Kolkata\n",
      "HST\n",
      "US/Alaska\n",
      "Africa/Khartoum\n",
      "Asia/Novosibirsk\n",
      "Asia/Riyadh\n",
      "Australia/Darwin\n",
      "Pacific/Apia\n",
      "America/Yakutat\n",
      "Israel\n",
      "Australia/LHI\n",
      "Pacific/Kosrae\n",
      "Europe/Monaco\n",
      "Pacific/Wallis\n",
      "America/Winnipeg\n",
      "Asia/Ho_Chi_Minh\n",
      "Europe/Zagreb\n",
      "Asia/Anadyr\n",
      "NZ-CHAT\n",
      "America/Cambridge_Bay\n",
      "America/Eirunepe\n",
      "Etc/GMT-13\n",
      "Europe/Amsterdam\n",
      "Africa/Bamako\n",
      "Indian/Maldives\n",
      "America/Yellowknife\n",
      "Etc/GMT+5\n",
      "Asia/Pyongyang\n",
      "Europe/Volgograd\n",
      "America/Manaus\n",
      "America/Toronto\n",
      "Asia/Sakhalin\n",
      "Europe/Simferopol\n",
      "America/Dominica\n",
      "America/Whitehorse\n",
      "Africa/Lusaka\n",
      "America/Juneau\n",
      "America/Argentina/San_Juan\n",
      "Indian/Cocos\n",
      "America/Catamarca\n",
      "MST7MDT\n",
      "Brazil/Acre\n",
      "CET\n",
      "America/Nipigon\n",
      "Canada/Newfoundland\n",
      "Asia/Hebron\n",
      "Asia/Seoul\n",
      "Asia/Brunei\n",
      "Antarctica/Syowa\n",
      "Asia/Bangkok\n",
      "Europe/Sofia\n",
      "America/Cayman\n",
      "America/Punta_Arenas\n",
      "Australia/North\n",
      "Europe/Ulyanovsk\n",
      "Africa/Conakry\n",
      "America/Iqaluit\n",
      "Etc/GMT-10\n",
      "America/Indiana/Indianapolis\n",
      "Europe/Kiev\n",
      "Asia/Tbilisi\n",
      "Pacific/Gambier\n",
      "Antarctica/Casey\n",
      "Africa/Casablanca\n",
      "Asia/Vladivostok\n",
      "America/Bahia\n",
      "Pacific/Nauru\n",
      "Iran\n",
      "PRC\n",
      "Europe/Kaliningrad\n",
      "Antarctica/Rothera\n",
      "Australia/Perth\n",
      "ROC\n",
      "America/Anguilla\n",
      "America/Tortola\n",
      "America/St_Thomas\n",
      "America/Scoresbysund\n",
      "Europe/Vaduz\n",
      "Africa/Kampala\n",
      "Asia/Kuwait\n",
      "Etc/GMT-12\n",
      "Indian/Comoro\n",
      "Asia/Bahrain\n",
      "Antarctica/Mawson\n",
      "Antarctica/McMurdo\n",
      "Asia/Shanghai\n",
      "UCT\n",
      "Asia/Ulaanbaatar\n",
      "Asia/Famagusta\n",
      "Mexico/BajaNorte\n",
      "America/Cordoba\n",
      "Africa/Accra\n",
      "Pacific/Norfolk\n",
      "America/Campo_Grande\n",
      "Asia/Yangon\n",
      "Europe/Astrakhan\n",
      "EST\n",
      "Canada/Mountain\n",
      "Chile/EasterIsland\n",
      "Indian/Reunion\n",
      "Asia/Barnaul\n",
      "Asia/Atyrau\n",
      "Japan\n",
      "America/Blanc-Sablon\n",
      "Pacific/Pohnpei\n",
      "Asia/Vientiane\n",
      "US/Pacific\n",
      "Africa/Bujumbura\n",
      "America/Miquelon\n",
      "America/Virgin\n",
      "Europe/Saratov\n",
      "Asia/Kashgar\n",
      "America/Knox_IN\n",
      "Australia/Victoria\n",
      "America/Atka\n",
      "America/Argentina/Tucuman\n",
      "America/Matamoros\n",
      "Antarctica/South_Pole\n",
      "Antarctica/DumontDUrville\n",
      "America/Argentina/Cordoba\n",
      "Indian/Mahe\n",
      "America/Argentina/Jujuy\n",
      "Pacific/Port_Moresby\n",
      "Europe/London\n",
      "Singapore\n",
      "Africa/Abidjan\n",
      "America/Kentucky/Louisville\n",
      "Etc/GMT-11\n",
      "America/Santo_Domingo\n",
      "Pacific/Chatham\n",
      "Europe/Kyiv\n",
      "America/Denver\n",
      "Africa/Tripoli\n",
      "America/Lima\n",
      "America/Noronha\n",
      "America/Goose_Bay\n",
      "Etc/GMT+0\n",
      "US/Central\n",
      "US/Indiana-Starke\n",
      "America/Mexico_City\n",
      "Europe/Minsk\n",
      "Pacific/Fiji\n",
      "Africa/Sao_Tome\n",
      "Antarctica/Davis\n",
      "Indian/Kerguelen\n",
      "America/Adak\n",
      "Asia/Almaty\n",
      "NZ\n",
      "America/Indiana/Marengo\n",
      "Etc/Universal\n",
      "Mexico/BajaSur\n",
      "America/Bogota\n",
      "Asia/Kamchatka\n",
      "America/Argentina/Mendoza\n",
      "Etc/UTC\n",
      "Europe/Bratislava\n",
      "America/Puerto_Rico\n",
      "Asia/Omsk\n",
      "Australia/West\n",
      "Etc/GMT+11\n",
      "Eire\n",
      "Africa/Ndjamena\n",
      "America/Creston\n",
      "Europe/Lisbon\n",
      "Africa/El_Aaiun\n",
      "America/Guayaquil\n",
      "America/North_Dakota/Center\n",
      "Australia/South\n",
      "Pacific/Efate\n",
      "WET\n",
      "Africa/Mogadishu\n",
      "America/Santa_Isabel\n",
      "America/Sao_Paulo\n",
      "Etc/GMT+9\n",
      "Asia/Manila\n",
      "Turkey\n",
      "Africa/Timbuktu\n",
      "America/Fort_Wayne\n",
      "America/Managua\n",
      "US/Mountain\n",
      "America/Chicago\n",
      "Asia/Jakarta\n",
      "Etc/GMT-2\n",
      "Europe/Luxembourg\n",
      "Europe/Tiraspol\n",
      "America/Pangnirtung\n",
      "Etc/GMT+3\n",
      "America/Louisville\n",
      "America/Grand_Turk\n",
      "America/Metlakatla\n",
      "Kwajalein\n",
      "Africa/Ceuta\n",
      "America/North_Dakota/Beulah\n",
      "Asia/Katmandu\n",
      "America/Argentina/San_Luis\n",
      "Asia/Ashgabat\n",
      "Asia/Tashkent\n",
      "America/Edmonton\n",
      "Canada/Saskatchewan\n",
      "Asia/Tokyo\n",
      "Pacific/Pago_Pago\n",
      "America/Indiana/Tell_City\n",
      "Africa/Bangui\n",
      "Asia/Colombo\n",
      "Asia/Gaza\n",
      "Asia/Dacca\n",
      "Australia/Adelaide\n",
      "America/St_Vincent\n",
      "Europe/Skopje\n",
      "Pacific/Bougainville\n",
      "Europe/Podgorica\n",
      "Pacific/Guadalcanal\n",
      "Europe/Madrid\n",
      "America/Cuiaba\n",
      "Asia/Singapore\n",
      "US/Aleutian\n",
      "America/Recife\n",
      "Pacific/Saipan\n",
      "America/Monterrey\n",
      "Canada/Central\n",
      "America/North_Dakota/New_Salem\n",
      "America/Aruba\n",
      "Etc/GMT+6\n",
      "Europe/Berlin\n",
      "America/Paramaribo\n",
      "Etc/Zulu\n",
      "Europe/Zaporozhye\n",
      "Atlantic/Faroe\n",
      "GMT0\n",
      "US/Hawaii\n",
      "Australia/Canberra\n",
      "America/Bahia_Banderas\n",
      "EST5EDT\n",
      "Pacific/Ponape\n",
      "Africa/Monrovia\n",
      "Asia/Aden\n",
      "Iceland\n",
      "CST6CDT\n",
      "Australia/Sydney\n",
      "Africa/Blantyre\n",
      "Europe/Paris\n",
      "America/Rosario\n",
      "Africa/Tunis\n",
      "Africa/Dar_es_Salaam\n",
      "Etc/GMT+8\n",
      "Pacific/Majuro\n",
      "Asia/Amman\n",
      "Etc/GMT+4\n",
      "Asia/Yerevan\n",
      "Australia/Queensland\n",
      "Indian/Christmas\n",
      "W-SU\n",
      "Europe/Bucharest\n",
      "PST8PDT\n",
      "America/Martinique\n",
      "America/Porto_Velho\n",
      "America/Inuvik\n",
      "Asia/Tel_Aviv\n",
      "Atlantic/Reykjavik\n",
      "America/Coral_Harbour\n",
      "America/Port-au-Prince\n",
      "MET\n",
      "America/Boise\n",
      "Pacific/Johnston\n",
      "America/Rio_Branco\n",
      "Etc/GMT-5\n",
      "Europe/Kirov\n",
      "Etc/GMT0\n",
      "America/Buenos_Aires\n",
      "America/Thunder_Bay\n",
      "Europe/Mariehamn\n",
      "America/Asuncion\n",
      "Pacific/Wake\n",
      "Etc/GMT-9\n",
      "Asia/Qostanay\n",
      "Asia/Krasnoyarsk\n",
      "US/Eastern\n",
      "Asia/Jerusalem\n",
      "Atlantic/Stanley\n",
      "Africa/Banjul\n",
      "Pacific/Easter\n",
      "Europe/Athens\n",
      "Pacific/Tarawa\n",
      "Africa/Brazzaville\n",
      "America/Porto_Acre\n",
      "Pacific/Marquesas\n",
      "Pacific/Guam\n",
      "Pacific/Samoa\n",
      "Africa/Kinshasa\n",
      "Europe/Tallinn\n",
      "Asia/Rangoon\n",
      "Europe/Nicosia\n",
      "US/Samoa\n",
      "America/Guyana\n",
      "Etc/GMT+2\n",
      "Indian/Mayotte\n",
      "Jamaica\n",
      "Africa/Asmera\n",
      "America/Montevideo\n",
      "America/Marigot\n",
      "Europe/Uzhgorod\n",
      "Pacific/Chuuk\n",
      "Asia/Kuching\n",
      "Australia/Lindeman\n",
      "Asia/Qatar\n",
      "America/Ojinaga\n",
      "Africa/Porto-Novo\n",
      "Europe/Sarajevo\n",
      "America/Costa_Rica\n",
      "Europe/Andorra\n",
      "Africa/Douala\n",
      "Pacific/Pitcairn\n",
      "Africa/Gaborone\n",
      "Asia/Dhaka\n",
      "Europe/Malta\n",
      "US/Arizona\n",
      "Libya\n",
      "Europe/Prague\n",
      "Asia/Irkutsk\n",
      "Europe/Busingen\n",
      "Antarctica/Vostok\n",
      "Pacific/Kanton\n",
      "Asia/Taipei\n",
      "Africa/Harare\n",
      "Egypt\n",
      "America/Indiana/Winamac\n",
      "Europe/Budapest\n",
      "Europe/Vienna\n",
      "America/Regina\n",
      "GMT\n",
      "EET\n",
      "Africa/Dakar\n",
      "Africa/Addis_Ababa\n",
      "Asia/Dubai\n",
      "Europe/Vilnius\n",
      "America/Argentina/ComodRivadavia\n",
      "Australia/Eucla\n",
      "Asia/Ulan_Bator\n",
      "Indian/Chagos\n",
      "GMT+0\n",
      "Europe/Helsinki\n",
      "Etc/GMT+1\n",
      "Asia/Choibalsan\n",
      "America/Belize\n",
      "Pacific/Yap\n",
      "Australia/Brisbane\n",
      "Canada/Atlantic\n",
      "Europe/Stockholm\n",
      "Europe/San_Marino\n",
      "Asia/Istanbul\n"
     ]
    }
   ],
   "source": [
    "import pytz\n",
    "\n",
    "print('Timezones')\n",
    "for timeZone in pytz.all_timezones_set:\n",
    "    print(timeZone)"
   ]
  },
  {
   "cell_type": "markdown",
   "id": "311233bf",
   "metadata": {},
   "source": [
    "## functions"
   ]
  },
  {
   "cell_type": "code",
   "execution_count": 152,
   "id": "294ed757",
   "metadata": {},
   "outputs": [],
   "source": [
    "def fun1(x):\n",
    "    x=x*2\n",
    "    return x"
   ]
  },
  {
   "cell_type": "code",
   "execution_count": 153,
   "id": "fedf38e2",
   "metadata": {},
   "outputs": [],
   "source": [
    "z=fun1(3)"
   ]
  },
  {
   "cell_type": "code",
   "execution_count": 154,
   "id": "2cee83df",
   "metadata": {},
   "outputs": [
    {
     "data": {
      "text/plain": [
       "6"
      ]
     },
     "execution_count": 154,
     "metadata": {},
     "output_type": "execute_result"
    }
   ],
   "source": [
    "z"
   ]
  },
  {
   "cell_type": "code",
   "execution_count": 146,
   "id": "1bf853d1",
   "metadata": {},
   "outputs": [],
   "source": [
    "def func(x):\n",
    "    return x*2"
   ]
  },
  {
   "cell_type": "code",
   "execution_count": 148,
   "id": "c2ef81cc",
   "metadata": {},
   "outputs": [
    {
     "data": {
      "text/plain": [
       "10"
      ]
     },
     "execution_count": 148,
     "metadata": {},
     "output_type": "execute_result"
    }
   ],
   "source": [
    "y=func(5)\n",
    "y"
   ]
  },
  {
   "cell_type": "code",
   "execution_count": 156,
   "id": "2ea9dee1",
   "metadata": {},
   "outputs": [],
   "source": [
    "def func(x,y):\n",
    "    return x*y    "
   ]
  },
  {
   "cell_type": "code",
   "execution_count": 157,
   "id": "cbd12055",
   "metadata": {},
   "outputs": [
    {
     "data": {
      "text/plain": [
       "12"
      ]
     },
     "execution_count": 157,
     "metadata": {},
     "output_type": "execute_result"
    }
   ],
   "source": [
    "func(3,4)"
   ]
  },
  {
   "cell_type": "code",
   "execution_count": 159,
   "id": "696e71e5",
   "metadata": {},
   "outputs": [],
   "source": [
    "def grades(marks):\n",
    "    if marks >= 80:\n",
    "        res = 'Distinction'\n",
    "    elif marks >= 60:\n",
    "        res = 'First Class'\n",
    "    elif marks >= 50:\n",
    "        res = 'Second Class'\n",
    "    else:\n",
    "        res = 'Fail'\n",
    "    return res"
   ]
  },
  {
   "cell_type": "code",
   "execution_count": 162,
   "id": "80cedc71",
   "metadata": {},
   "outputs": [
    {
     "data": {
      "text/plain": [
       "'Fail'"
      ]
     },
     "execution_count": 162,
     "metadata": {},
     "output_type": "execute_result"
    }
   ],
   "source": [
    "grades(10)"
   ]
  },
  {
   "cell_type": "code",
   "execution_count": 64,
   "id": "403873a2",
   "metadata": {},
   "outputs": [],
   "source": [
    "## Lambda functions"
   ]
  },
  {
   "cell_type": "code",
   "execution_count": 65,
   "id": "15289c6a",
   "metadata": {},
   "outputs": [],
   "source": [
    "fn = lambda x : x**2"
   ]
  },
  {
   "cell_type": "code",
   "execution_count": 66,
   "id": "3a218037",
   "metadata": {},
   "outputs": [
    {
     "data": {
      "text/plain": [
       "100"
      ]
     },
     "execution_count": 66,
     "metadata": {},
     "output_type": "execute_result"
    }
   ],
   "source": [
    "fn(10)"
   ]
  },
  {
   "cell_type": "code",
   "execution_count": 67,
   "id": "0332b992",
   "metadata": {},
   "outputs": [],
   "source": [
    "fn1 = lambda x,y: x + y"
   ]
  },
  {
   "cell_type": "code",
   "execution_count": 69,
   "id": "209c24ed",
   "metadata": {},
   "outputs": [
    {
     "data": {
      "text/plain": [
       "8"
      ]
     },
     "execution_count": 69,
     "metadata": {},
     "output_type": "execute_result"
    }
   ],
   "source": [
    "fn1(3,5)"
   ]
  },
  {
   "cell_type": "code",
   "execution_count": 163,
   "id": "bb20b004",
   "metadata": {},
   "outputs": [],
   "source": [
    "## math"
   ]
  },
  {
   "cell_type": "code",
   "execution_count": 164,
   "id": "6350eb51",
   "metadata": {},
   "outputs": [],
   "source": [
    "import math"
   ]
  },
  {
   "cell_type": "code",
   "execution_count": 166,
   "id": "a051b5da",
   "metadata": {},
   "outputs": [
    {
     "data": {
      "text/plain": [
       "3.1622776601683795"
      ]
     },
     "execution_count": 166,
     "metadata": {},
     "output_type": "execute_result"
    }
   ],
   "source": [
    "math.sqrt(10)"
   ]
  },
  {
   "cell_type": "code",
   "execution_count": 167,
   "id": "a3e54c70",
   "metadata": {},
   "outputs": [
    {
     "data": {
      "text/plain": [
       "3.0"
      ]
     },
     "execution_count": 167,
     "metadata": {},
     "output_type": "execute_result"
    }
   ],
   "source": [
    "math.cbrt(27)"
   ]
  },
  {
   "cell_type": "code",
   "execution_count": 168,
   "id": "6100e952",
   "metadata": {},
   "outputs": [
    {
     "data": {
      "text/plain": [
       "120"
      ]
     },
     "execution_count": 168,
     "metadata": {},
     "output_type": "execute_result"
    }
   ],
   "source": [
    "math.factorial(5)"
   ]
  },
  {
   "cell_type": "code",
   "execution_count": 169,
   "id": "21b6714f",
   "metadata": {},
   "outputs": [
    {
     "data": {
      "text/plain": [
       "3.141592653589793"
      ]
     },
     "execution_count": 169,
     "metadata": {},
     "output_type": "execute_result"
    }
   ],
   "source": [
    "math.pi"
   ]
  },
  {
   "cell_type": "code",
   "execution_count": 170,
   "id": "f8b08c82",
   "metadata": {},
   "outputs": [
    {
     "data": {
      "text/plain": [
       "['__doc__',\n",
       " '__loader__',\n",
       " '__name__',\n",
       " '__package__',\n",
       " '__spec__',\n",
       " 'acos',\n",
       " 'acosh',\n",
       " 'asin',\n",
       " 'asinh',\n",
       " 'atan',\n",
       " 'atan2',\n",
       " 'atanh',\n",
       " 'cbrt',\n",
       " 'ceil',\n",
       " 'comb',\n",
       " 'copysign',\n",
       " 'cos',\n",
       " 'cosh',\n",
       " 'degrees',\n",
       " 'dist',\n",
       " 'e',\n",
       " 'erf',\n",
       " 'erfc',\n",
       " 'exp',\n",
       " 'exp2',\n",
       " 'expm1',\n",
       " 'fabs',\n",
       " 'factorial',\n",
       " 'floor',\n",
       " 'fmod',\n",
       " 'frexp',\n",
       " 'fsum',\n",
       " 'gamma',\n",
       " 'gcd',\n",
       " 'hypot',\n",
       " 'inf',\n",
       " 'isclose',\n",
       " 'isfinite',\n",
       " 'isinf',\n",
       " 'isnan',\n",
       " 'isqrt',\n",
       " 'lcm',\n",
       " 'ldexp',\n",
       " 'lgamma',\n",
       " 'log',\n",
       " 'log10',\n",
       " 'log1p',\n",
       " 'log2',\n",
       " 'modf',\n",
       " 'nan',\n",
       " 'nextafter',\n",
       " 'perm',\n",
       " 'pi',\n",
       " 'pow',\n",
       " 'prod',\n",
       " 'radians',\n",
       " 'remainder',\n",
       " 'sin',\n",
       " 'sinh',\n",
       " 'sqrt',\n",
       " 'tan',\n",
       " 'tanh',\n",
       " 'tau',\n",
       " 'trunc',\n",
       " 'ulp']"
      ]
     },
     "execution_count": 170,
     "metadata": {},
     "output_type": "execute_result"
    }
   ],
   "source": [
    "dir(math)"
   ]
  },
  {
   "cell_type": "code",
   "execution_count": null,
   "id": "264e828d",
   "metadata": {},
   "outputs": [],
   "source": []
  }
 ],
 "metadata": {
  "kernelspec": {
   "display_name": "Python 3 (ipykernel)",
   "language": "python",
   "name": "python3"
  },
  "language_info": {
   "codemirror_mode": {
    "name": "ipython",
    "version": 3
   },
   "file_extension": ".py",
   "mimetype": "text/x-python",
   "name": "python",
   "nbconvert_exporter": "python",
   "pygments_lexer": "ipython3",
   "version": "3.11.5"
  }
 },
 "nbformat": 4,
 "nbformat_minor": 5
}
