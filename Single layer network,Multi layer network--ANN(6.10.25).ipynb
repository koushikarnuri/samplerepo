{
 "cells": [
  {
   "cell_type": "code",
   "execution_count": null,
   "id": "8fbcdea5-4d71-4487-b05d-f18ba713858f",
   "metadata": {},
   "outputs": [],
   "source": [
    "#!pip install keras"
   ]
  },
  {
   "cell_type": "code",
   "execution_count": 1,
   "id": "50855342-ebe2-40a9-8774-781f087a5b2f",
   "metadata": {},
   "outputs": [],
   "source": [
    "#!pip install tensorflow"
   ]
  },
  {
   "cell_type": "code",
   "execution_count": 8,
   "id": "49a4127b-b457-47c7-8199-6fe2db4393b5",
   "metadata": {},
   "outputs": [],
   "source": [
    "import keras\n",
    "import tensorflow as tf\n",
    "import pandas as pd\n",
    "import numpy as np\n",
    "import matplotlib.pyplot as plt\n",
    "from tensorflow.keras.datasets import mnist\n",
    "import warnings\n",
    "warnings.filterwarnings('ignore')"
   ]
  },
  {
   "cell_type": "code",
   "execution_count": 4,
   "id": "a733ff01-b68c-4439-9be2-52e06823f3e6",
   "metadata": {},
   "outputs": [],
   "source": [
    "(x_train,y_train),(x_test,y_test) =mnist.load_data()"
   ]
  },
  {
   "cell_type": "code",
   "execution_count": 7,
   "id": "70fc2b3a-dcb9-410c-a64a-b352ade2f7a4",
   "metadata": {},
   "outputs": [
    {
     "name": "stdout",
     "output_type": "stream",
     "text": [
      "(60000, 28, 28)\n",
      "(60000,)\n",
      "(10000, 28, 28)\n",
      "(10000,)\n"
     ]
    }
   ],
   "source": [
    "print(x_train.shape)\n",
    "print(y_train.shape)\n",
    "print(x_test.shape)\n",
    "print(y_test.shape)"
   ]
  },
  {
   "cell_type": "code",
   "execution_count": 11,
   "id": "a90b8103-3689-46b2-a4d9-ad8e7a98673a",
   "metadata": {},
   "outputs": [
    {
     "data": {
      "text/plain": [
       "<matplotlib.image.AxesImage at 0x1f14df311d0>"
      ]
     },
     "execution_count": 11,
     "metadata": {},
     "output_type": "execute_result"
    },
    {
     "data": {
      "image/png": "[encoded data removed]",
      "text/plain": [
       "<Figure size 640x480 with 1 Axes>"
      ]
     },
     "metadata": {},
     "output_type": "display_data"
    }
   ],
   "source": [
    "plt.imshow(x_test[1])"
   ]
  },
  {
   "cell_type": "code",
   "execution_count": 12,
   "id": "6345701d-e1ba-4f1a-8f0c-5fac2f26dfeb",
   "metadata": {},
   "outputs": [],
   "source": [
    "#### Pre_processing \n",
    "x_train= x_train.reshape(60000,784)\n",
    "x_test= x_test.reshape(10000,784)\n",
    "x_train.astype('float')\n",
    "x_test.astype('float')\n",
    "x_train= x_train/255\n",
    "x_test= x_test/255"
   ]
  },
  {
   "cell_type": "code",
   "execution_count": 13,
   "id": "6a04ba6f-3ba5-4854-8695-e0ce4735e488",
   "metadata": {},
   "outputs": [
    {
     "name": "stdout",
     "output_type": "stream",
     "text": [
      "(60000, 784)\n",
      "(10000, 784)\n"
     ]
    }
   ],
   "source": [
    "print(x_train.shape)\n",
    "print(x_test.shape)"
   ]
  },
  {
   "cell_type": "code",
   "execution_count": 16,
   "id": "4b789b70-50a6-4522-a8a0-314e0bb94c20",
   "metadata": {},
   "outputs": [
    {
     "data": {
      "text/plain": [
       "array([0, 1, 2, 3, 4, 5, 6, 7, 8, 9], dtype=uint8)"
      ]
     },
     "execution_count": 16,
     "metadata": {},
     "output_type": "execute_result"
    }
   ],
   "source": [
    "np.unique(y_test)"
   ]
  },
  {
   "cell_type": "code",
   "execution_count": 18,
   "id": "9779bbce-4c23-4d42-90ae-6dec3294a050",
   "metadata": {},
   "outputs": [
    {
     "data": {
      "text/plain": [
       "np.uint8(0)"
      ]
     },
     "execution_count": 18,
     "metadata": {},
     "output_type": "execute_result"
    }
   ],
   "source": [
    "y_train[1]"
   ]
  },
  {
   "cell_type": "code",
   "execution_count": 19,
   "id": "6f04a984-6e8a-4b49-9d18-2b58ed90a5d9",
   "metadata": {},
   "outputs": [],
   "source": [
    "y_train= tf.keras.utils.to_categorical(y_train)\n",
    "y_test= tf.keras.utils.to_categorical(y_test)"
   ]
  },
  {
   "cell_type": "code",
   "execution_count": 23,
   "id": "bd549767-4c9d-4862-8586-155079a48f20",
   "metadata": {},
   "outputs": [
    {
     "data": {
      "text/plain": [
       "array([0., 0., 0., 1., 0., 0., 0., 0., 0., 0.])"
      ]
     },
     "execution_count": 23,
     "metadata": {},
     "output_type": "execute_result"
    }
   ],
   "source": [
    "y_train[10]"
   ]
  },
  {
   "cell_type": "code",
   "execution_count": 24,
   "id": "c3ac8a5f-bb82-4e67-896f-c1f6aab35b50",
   "metadata": {},
   "outputs": [],
   "source": [
    "epochs=10\n",
    "batch_size=1000\n",
    "n_classes=10"
   ]
  },
  {
   "cell_type": "markdown",
   "id": "1ad73d19-1dd9-4ece-9095-63fd26c3bc10",
   "metadata": {},
   "source": [
    "#### Single layer network (Simple Perceptron)"
   ]
  },
  {
   "cell_type": "code",
   "execution_count": 25,
   "id": "87d007e3-1f2a-4b57-8d31-d8207df842bc",
   "metadata": {},
   "outputs": [],
   "source": [
    "simple_per= tf.keras.models.Sequential()"
   ]
  },
  {
   "cell_type": "code",
   "execution_count": 27,
   "id": "659283e2-043e-406c-b26a-1f58053bc090",
   "metadata": {},
   "outputs": [],
   "source": [
    "#### Model Building ( input layer ,output layer)\n",
    "simple_per.add(tf.keras.layers.Dense(units=n_classes,activation='softmax',input_shape=[784]))"
   ]
  },
  {
   "cell_type": "code",
   "execution_count": 34,
   "id": "0ff7e6e9-3eca-4f50-b199-e5bdf766577c",
   "metadata": {},
   "outputs": [],
   "source": [
    "#### Model compilation\n",
    "simple_per.compile(optimizer=tf.keras.optimizers.Adam(learning_rate=0.001),loss=tf.keras.losses.categorical_crossentropy,metrics=['accuracy'])"
   ]
  },
  {
   "cell_type": "code",
   "execution_count": 30,
   "id": "2a1834c1-d8b0-40af-91af-e6ace8591ef2",
   "metadata": {},
   "outputs": [
    {
     "name": "stdout",
     "output_type": "stream",
     "text": [
      "Epoch 1/10\n",
      "\u001b[1m60/60\u001b[0m \u001b[32m━━━━━━━━━━━━━━━━━━━━\u001b[0m\u001b[37m\u001b[0m \u001b[1m3s\u001b[0m 19ms/step - accuracy: 0.6034 - loss: 1.4936 - val_accuracy: 0.8135 - val_loss: 0.9131\n",
      "Epoch 2/10\n",
      "\u001b[1m60/60\u001b[0m \u001b[32m━━━━━━━━━━━━━━━━━━━━\u001b[0m\u001b[37m\u001b[0m \u001b[1m1s\u001b[0m 9ms/step - accuracy: 0.8334 - loss: 0.7595 - val_accuracy: 0.8679 - val_loss: 0.6149\n",
      "Epoch 3/10\n",
      "\u001b[1m60/60\u001b[0m \u001b[32m━━━━━━━━━━━━━━━━━━━━\u001b[0m\u001b[37m\u001b[0m \u001b[1m1s\u001b[0m 10ms/step - accuracy: 0.8649 - loss: 0.5756 - val_accuracy: 0.8837 - val_loss: 0.5025\n",
      "Epoch 4/10\n",
      "\u001b[1m60/60\u001b[0m \u001b[32m━━━━━━━━━━━━━━━━━━━━\u001b[0m\u001b[37m\u001b[0m \u001b[1m1s\u001b[0m 10ms/step - accuracy: 0.8792 - loss: 0.4918 - val_accuracy: 0.8944 - val_loss: 0.4434\n",
      "Epoch 5/10\n",
      "\u001b[1m60/60\u001b[0m \u001b[32m━━━━━━━━━━━━━━━━━━━━\u001b[0m\u001b[37m\u001b[0m \u001b[1m1s\u001b[0m 10ms/step - accuracy: 0.8888 - loss: 0.4432 - val_accuracy: 0.9006 - val_loss: 0.4064\n",
      "Epoch 6/10\n",
      "\u001b[1m60/60\u001b[0m \u001b[32m━━━━━━━━━━━━━━━━━━━━\u001b[0m\u001b[37m\u001b[0m \u001b[1m1s\u001b[0m 11ms/step - accuracy: 0.8944 - loss: 0.4110 - val_accuracy: 0.9046 - val_loss: 0.3809\n",
      "Epoch 7/10\n",
      "\u001b[1m60/60\u001b[0m \u001b[32m━━━━━━━━━━━━━━━━━━━━\u001b[0m\u001b[37m\u001b[0m \u001b[1m1s\u001b[0m 11ms/step - accuracy: 0.8991 - loss: 0.3875 - val_accuracy: 0.9071 - val_loss: 0.3618\n",
      "Epoch 8/10\n",
      "\u001b[1m60/60\u001b[0m \u001b[32m━━━━━━━━━━━━━━━━━━━━\u001b[0m\u001b[37m\u001b[0m \u001b[1m1s\u001b[0m 11ms/step - accuracy: 0.9033 - loss: 0.3698 - val_accuracy: 0.9080 - val_loss: 0.3480\n",
      "Epoch 9/10\n",
      "\u001b[1m60/60\u001b[0m \u001b[32m━━━━━━━━━━━━━━━━━━━━\u001b[0m\u001b[37m\u001b[0m \u001b[1m1s\u001b[0m 11ms/step - accuracy: 0.9056 - loss: 0.3560 - val_accuracy: 0.9109 - val_loss: 0.3363\n",
      "Epoch 10/10\n",
      "\u001b[1m60/60\u001b[0m \u001b[32m━━━━━━━━━━━━━━━━━━━━\u001b[0m\u001b[37m\u001b[0m \u001b[1m1s\u001b[0m 10ms/step - accuracy: 0.9082 - loss: 0.3449 - val_accuracy: 0.9123 - val_loss: 0.3275\n"
     ]
    }
   ],
   "source": [
    "#### Model Training and validation\n",
    "history=simple_per.fit(x_train,y_train,epochs=epochs,batch_size=batch_size,validation_data=(x_test,y_test))"
   ]
  },
  {
   "cell_type": "code",
   "execution_count": 32,
   "id": "25e6dc6d-d9d9-420d-b488-9b86c9ceb94c",
   "metadata": {},
   "outputs": [
    {
     "name": "stdout",
     "output_type": "stream",
     "text": [
      "\u001b[1m313/313\u001b[0m \u001b[32m━━━━━━━━━━━━━━━━━━━━\u001b[0m\u001b[37m\u001b[0m \u001b[1m1s\u001b[0m 3ms/step - accuracy: 0.9123 - loss: 0.3275  \n",
      "val_loss: 0.3274505138397217 , val_acc: 0.9122999906539917\n"
     ]
    }
   ],
   "source": [
    "val_loss,val_acc=simple_per.evaluate(x_test,y_test)\n",
    "print('val_loss:',val_loss,',','val_acc:',val_acc)"
   ]
  },
  {
   "cell_type": "code",
   "execution_count": 36,
   "id": "8d53d8a3-17bf-4a6b-8712-1dee7cd95417",
   "metadata": {},
   "outputs": [
    {
     "data": {
      "text/plain": [
       "<matplotlib.legend.Legend at 0x1f1521bbcb0>"
      ]
     },
     "execution_count": 36,
     "metadata": {},
     "output_type": "execute_result"
    },
    {
     "data": {
      "image/png": "[encoded data removed]",
      "text/plain": [
       "<Figure size 640x480 with 1 Axes>"
      ]
     },
     "metadata": {},
     "output_type": "display_data"
    }
   ],
   "source": [
    "plt.plot(range(1,11),history.history['accuracy'],label=['Train'])\n",
    "plt.plot(range(1,11) ,history.history['val_accuracy'],label=['Test'])\n",
    "plt.legend()"
   ]
  },
  {
   "cell_type": "code",
   "execution_count": 37,
   "id": "7b3db5f3-ed35-4182-aa3b-5e7866d0d6b8",
   "metadata": {},
   "outputs": [
    {
     "data": {
      "text/plain": [
       "<matplotlib.legend.Legend at 0x1f150267250>"
      ]
     },
     "execution_count": 37,
     "metadata": {},
     "output_type": "execute_result"
    },
    {
     "data": {
      "image/png": "[encoded data removed]",
      "text/plain": [
       "<Figure size 640x480 with 1 Axes>"
      ]
     },
     "metadata": {},
     "output_type": "display_data"
    }
   ],
   "source": [
    "plt.plot(range(1,11),history.history['loss'],label=['Train'])\n",
    "plt.plot(range(1,11) ,history.history['val_loss'],label=['Test'])\n",
    "plt.legend()"
   ]
  },
  {
   "cell_type": "markdown",
   "id": "2a5879ed-4ddd-4d9c-8d64-11fa52359f81",
   "metadata": {},
   "source": [
    "#### Multi_layer_Network (ANN)"
   ]
  },
  {
   "cell_type": "code",
   "execution_count": 61,
   "id": "11216dd0-4d51-434a-a7c0-87aba7536e34",
   "metadata": {},
   "outputs": [],
   "source": [
    "ann= tf.keras.models.Sequential()"
   ]
  },
  {
   "cell_type": "code",
   "execution_count": 62,
   "id": "9e00199b-4ac0-42ce-bce0-575f89a2ed4b",
   "metadata": {},
   "outputs": [
    {
     "data": {
      "text/plain": [
       "532.6666666666666"
      ]
     },
     "execution_count": 62,
     "metadata": {},
     "output_type": "execute_result"
    }
   ],
   "source": [
    "784*2/3+10"
   ]
  },
  {
   "cell_type": "code",
   "execution_count": 63,
   "id": "b782b5ee-cb73-49c7-b51f-0f0a3dc06c38",
   "metadata": {},
   "outputs": [],
   "source": [
    "#### Input layer,First hidden layer\n",
    "ann.add(tf.keras.layers.Dense(units=540,activation='relu',input_shape=[784]))\n",
    "ann.add(tf.keras.layers.Dropout(0.1))"
   ]
  },
  {
   "cell_type": "code",
   "execution_count": 64,
   "id": "6b02af53-7757-44f5-844c-66a185f9562e",
   "metadata": {},
   "outputs": [
    {
     "data": {
      "text/plain": [
       "370.0"
      ]
     },
     "execution_count": 64,
     "metadata": {},
     "output_type": "execute_result"
    }
   ],
   "source": [
    "540*2/3+10"
   ]
  },
  {
   "cell_type": "code",
   "execution_count": 65,
   "id": "bfd5e318-2e5e-4c4a-b0ed-4775f9fcdeea",
   "metadata": {},
   "outputs": [],
   "source": [
    "#### Second hidden layer\n",
    "ann.add(tf.keras.layers.Dense(units=370,activation='relu'))\n",
    "ann.add(tf.keras.layers.Dropout(0.1))"
   ]
  },
  {
   "cell_type": "code",
   "execution_count": 66,
   "id": "0572b42e-b5fe-416d-969c-74991c0b31d3",
   "metadata": {},
   "outputs": [],
   "source": [
    "### output layers\n",
    "ann.add(tf.keras.layers.Dense(units=n_classes,activation='softmax'))"
   ]
  },
  {
   "cell_type": "code",
   "execution_count": 67,
   "id": "281b622c-474d-46cc-bb79-3e4a3ba8506c",
   "metadata": {},
   "outputs": [],
   "source": [
    "#### Model compilation\n",
    "ann.compile(optimizer=tf.keras.optimizers.Adam(learning_rate=0.001),loss=tf.keras.losses.categorical_crossentropy,metrics=['accuracy'])"
   ]
  },
  {
   "cell_type": "code",
   "execution_count": null,
   "id": "c4adccba-a522-43ee-9832-974548e42020",
   "metadata": {},
   "outputs": [
    {
     "name": "stdout",
     "output_type": "stream",
     "text": [
      "Epoch 1/10\n",
      "\u001b[1m60/60\u001b[0m \u001b[32m━━━━━━━━━━━━━━━━━━━━\u001b[0m\u001b[37m\u001b[0m \u001b[1m8s\u001b[0m 73ms/step - accuracy: 0.8649 - loss: 0.4849 - val_accuracy: 0.9457 - val_loss: 0.1882\n",
      "Epoch 2/10\n",
      "\u001b[1m60/60\u001b[0m \u001b[32m━━━━━━━━━━━━━━━━━━━━\u001b[0m\u001b[37m\u001b[0m \u001b[1m4s\u001b[0m 62ms/step - accuracy: 0.9503 - loss: 0.1698 - val_accuracy: 0.9627 - val_loss: 0.1252\n",
      "Epoch 3/10\n",
      "\u001b[1m60/60\u001b[0m \u001b[32m━━━━━━━━━━━━━━━━━━━━\u001b[0m\u001b[37m\u001b[0m \u001b[1m4s\u001b[0m 66ms/step - accuracy: 0.9668 - loss: 0.1134 - val_accuracy: 0.9712 - val_loss: 0.0923\n",
      "Epoch 4/10\n",
      "\u001b[1m42/60\u001b[0m \u001b[32m━━━━━━━━━━━━━━\u001b[0m\u001b[37m━━━━━━\u001b[0m \u001b[1m0s\u001b[0m 55ms/step - accuracy: 0.9753 - loss: 0.0856"
     ]
    }
   ],
   "source": [
    "#### Model Training and validation\n",
    "history=ann.fit(x_train,y_train,epochs=epochs,batch_size=batch_size,validation_data=(x_test,y_test))"
   ]
  },
  {
   "cell_type": "code",
   "execution_count": null,
   "id": "9b0a86d0-d40a-4531-86be-3ac15f949bae",
   "metadata": {},
   "outputs": [],
   "source": [
    "val_loss,val_acc=ann.evaluate(x_test,y_test)\n",
    "print('val_loss:',val_loss,',','val_acc:',val_acc)"
   ]
  },
  {
   "cell_type": "code",
   "execution_count": null,
   "id": "29bcf6f8-5e8d-4fe5-9841-1f2a5710f975",
   "metadata": {},
   "outputs": [],
   "source": [
    "plt.plot(range(1,11),history.history['accuracy'],label=['Train'])\n",
    "plt.plot(range(1,11) ,history.history['val_accuracy'],label=['Test'])\n",
    "plt.legend()"
   ]
  },
  {
   "cell_type": "code",
   "execution_count": null,
   "id": "07cf6c2d-249b-4a70-b183-89379c9f6fb6",
   "metadata": {},
   "outputs": [],
   "source": [
    "plt.plot(range(1,11),history.history['loss'],label=['Train'])\n",
    "plt.plot(range(1,11) ,history.history['val_loss'],label=['Test'])\n",
    "plt.legend()"
   ]
  },
  {
   "cell_type": "code",
   "execution_count": null,
   "id": "d6249dc0-83ee-4da9-a5cc-c72b1b4a8488",
   "metadata": {},
   "outputs": [],
   "source": []
  },
  {
   "cell_type": "code",
   "execution_count": null,
   "id": "a669e0ea-eef3-4454-a601-0a5daea41a4f",
   "metadata": {},
   "outputs": [],
   "source": []
  }
 ],
 "metadata": {
  "kernelspec": {
   "display_name": "Python [conda env:base] *",
   "language": "python",
   "name": "conda-base-py"
  },
  "language_info": {
   "codemirror_mode": {
    "name": "ipython",
    "version": 3
   },
   "file_extension": ".py",
   "mimetype": "text/x-python",
   "name": "python",
   "nbconvert_exporter": "python",
   "pygments_lexer": "ipython3",
   "version": "3.13.5"
  }
 },
 "nbformat": 4,
 "nbformat_minor": 5
}
