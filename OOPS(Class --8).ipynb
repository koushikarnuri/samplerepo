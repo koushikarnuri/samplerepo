{
 "cells": [
  {
   "cell_type": "code",
   "execution_count": 2,
   "id": "c124d7db",
   "metadata": {},
   "outputs": [
    {
     "name": "stdout",
     "output_type": "stream",
     "text": [
      "ramesh is a gentleman\n"
     ]
    }
   ],
   "source": [
    "class class1:\n",
    "    name='ramesh'\n",
    "    def fun(self):\n",
    "        print(f'{self.name} is a gentleman')\n",
    "obj= class1()\n",
    "obj.fun()"
   ]
  },
  {
   "cell_type": "code",
   "execution_count": 27,
   "id": "4d6270eb",
   "metadata": {},
   "outputs": [
    {
     "name": "stdout",
     "output_type": "stream",
     "text": [
      "john is working in the Geeks\n"
     ]
    }
   ],
   "source": [
    "class class2:\n",
    "    def __init__(self, name,company):\n",
    "        print(f'{name} is working in the {company}')\n",
    "obj= class2('john',\"Geeks\")"
   ]
  },
  {
   "cell_type": "code",
   "execution_count": 36,
   "id": "490ee414",
   "metadata": {},
   "outputs": [
    {
     "name": "stdout",
     "output_type": "stream",
     "text": [
      "john is working in Geeks\n",
      "ramesh\n"
     ]
    }
   ],
   "source": [
    "class class3:\n",
    "    names='ramesh'\n",
    "    def __init__(self,name, company):\n",
    "        self.name= name\n",
    "        self.company= company\n",
    "    def fun(self):\n",
    "        return f'{self.name} is working in {self.company}'\n",
    "obj= class3('john',\"Geeks\")\n",
    "print(obj.fun())\n",
    "print(obj.names)"
   ]
  },
  {
   "cell_type": "code",
   "execution_count": 40,
   "id": "941d0201",
   "metadata": {},
   "outputs": [
    {
     "name": "stdout",
     "output_type": "stream",
     "text": [
      "john is working in Geeks\n"
     ]
    }
   ],
   "source": [
    "class class4:\n",
    "    def __init__(self,name,company):\n",
    "        self.name=name\n",
    "        self.company= company\n",
    "    def __str__(self):\n",
    "        return f'{self.name} is working in {self.company}'\n",
    "obj=class4('john','Geeks')\n",
    "print(obj)"
   ]
  },
  {
   "cell_type": "code",
   "execution_count": 53,
   "id": "cd2bedeb",
   "metadata": {},
   "outputs": [
    {
     "name": "stdout",
     "output_type": "stream",
     "text": [
      "john is working in Geek\n",
      "ramesh is working in Geek1\n"
     ]
    }
   ],
   "source": [
    "class class5:\n",
    "    def __init__(self,name,company):\n",
    "        self.name=name\n",
    "        self.company=company\n",
    "    def fun(self):\n",
    "        return f'{self.name} is working in {self.company}'\n",
    "obj= class5('john','Geek')\n",
    "obj1= class5('ramesh','Geek1')\n",
    "print(obj.fun())\n",
    "print(obj1.fun())"
   ]
  },
  {
   "cell_type": "code",
   "execution_count": 73,
   "id": "c3b8371e",
   "metadata": {},
   "outputs": [
    {
     "data": {
      "text/plain": [
       "'ramesh is working in the geeks'"
      ]
     },
     "execution_count": 73,
     "metadata": {},
     "output_type": "execute_result"
    }
   ],
   "source": [
    "##  single inheritance\n",
    "## parent class\n",
    "class Person:\n",
    "    def __init__(self,name,company):\n",
    "        self.name=name\n",
    "        self.company= company\n",
    "    def fun(self):\n",
    "        return f'{self.name} is working in the {self.company}'\n",
    "obj= Person('ramesh','geeks')\n",
    "obj.fun()"
   ]
  },
  {
   "cell_type": "code",
   "execution_count": 84,
   "id": "d2ab7191",
   "metadata": {},
   "outputs": [
    {
     "name": "stdout",
     "output_type": "stream",
     "text": [
      "suresh is working in the info\n",
      "suman\n"
     ]
    }
   ],
   "source": [
    "## child class\n",
    "class Emp(Person):\n",
    "    name2= 'suman'\n",
    "c2= Emp('suresh','info')\n",
    "print(c2.fun())\n",
    "print(c2.name2)"
   ]
  },
  {
   "cell_type": "code",
   "execution_count": 128,
   "id": "203e78e5",
   "metadata": {},
   "outputs": [
    {
     "name": "stdout",
     "output_type": "stream",
     "text": [
      "ramesh,22\n",
      "ramesh,22,3333,intern\n"
     ]
    }
   ],
   "source": [
    "## # Python code to demonstrate how parent constructors\n",
    "# are called.\n",
    "class Person:\n",
    "    def __init__(self,name,id):\n",
    "        self.name= name\n",
    "        self.id= id\n",
    "    def display(self):\n",
    "        return f'{self.name},{self.id}'\n",
    "class child(Person):\n",
    "    def __init__(self, name,id,salary,post):\n",
    "        self.salary= salary\n",
    "        self.post= post\n",
    "        Person.__init__(self, 'ramesh',id)\n",
    "    def fun(self):\n",
    "        return f'{self.name},{self.id},{self.salary},{self.post}'\n",
    "\n",
    "obj= child('raja',22,3333,'intern')\n",
    "print(obj.display())\n",
    "print(obj.fun())"
   ]
  },
  {
   "cell_type": "code",
   "execution_count": 125,
   "id": "a171880b",
   "metadata": {},
   "outputs": [
    {
     "name": "stdout",
     "output_type": "stream",
     "text": [
      "ramesh,12,2\n",
      "rahul,12\n"
     ]
    }
   ],
   "source": [
    "## super()\n",
    "class Person:\n",
    "    def __init__(self,name,age,a):\n",
    "        self.name= name\n",
    "        self.age= age\n",
    "        self.b=a\n",
    "    def display(self):\n",
    "        return f'{self.name},{self.age},{self.b}'\n",
    "class child(Person):\n",
    "    def __init__(self, name,age):\n",
    "        self.sname= name\n",
    "        self.sage= age\n",
    "        #self.sa=a\n",
    "        super().__init__('ramesh',age,\"2\")\n",
    "    def fun(self):\n",
    "        return f'{self.sname},{self.sage}'\n",
    "\n",
    "obj= child('rahul',12)\n",
    "print(obj.display())\n",
    "print(obj.fun())\n"
   ]
  },
  {
   "cell_type": "code",
   "execution_count": 129,
   "id": "55dc3fe3",
   "metadata": {},
   "outputs": [],
   "source": [
    "## Classes and Objects"
   ]
  },
  {
   "cell_type": "code",
   "execution_count": 134,
   "id": "707f00c6",
   "metadata": {},
   "outputs": [
    {
     "data": {
      "text/plain": [
       "'ramesh'"
      ]
     },
     "execution_count": 134,
     "metadata": {},
     "output_type": "execute_result"
    }
   ],
   "source": [
    "class c1:\n",
    "    name='ramesh'\n",
    "    def fun(self):\n",
    "        return f'{self.name}'\n",
    "obj= c1()\n",
    "obj.fun()"
   ]
  },
  {
   "cell_type": "code",
   "execution_count": 135,
   "id": "438210a5",
   "metadata": {},
   "outputs": [
    {
     "data": {
      "text/plain": [
       "'John is working in Geeks'"
      ]
     },
     "execution_count": 135,
     "metadata": {},
     "output_type": "execute_result"
    }
   ],
   "source": [
    "class c2:\n",
    "    def __init__(self, name, company):\n",
    "        self.sname= name\n",
    "        self.scompany= company\n",
    "    def fun(self):\n",
    "        return f'{self.sname} is working in {self.scompany}'\n",
    "obj= c2('John','Geeks')\n",
    "obj.fun()"
   ]
  },
  {
   "cell_type": "code",
   "execution_count": 141,
   "id": "71687f82",
   "metadata": {},
   "outputs": [
    {
     "name": "stdout",
     "output_type": "stream",
     "text": [
      "John is working in Geeks\n"
     ]
    }
   ],
   "source": [
    "class c3:\n",
    "    def __init__(self,name,company):\n",
    "        self.sname=name\n",
    "        self.scompany= company\n",
    "    def __str__(self):\n",
    "        return f'{self.sname} is working in {self.scompany}'\n",
    "obj= c3('John','Geeks')\n",
    "print(obj)"
   ]
  },
  {
   "cell_type": "code",
   "execution_count": 142,
   "id": "4d7887ca",
   "metadata": {},
   "outputs": [
    {
     "name": "stdout",
     "output_type": "stream",
     "text": [
      "john is working in Geeks\n",
      "ramesh is working in G1\n"
     ]
    }
   ],
   "source": [
    "class c4:\n",
    "    def __init__(self, name,company):\n",
    "        print(f'{name} is working in {company}')\n",
    "obj= c4('john','Geeks')\n",
    "obj1= c4('ramesh','G1')\n",
    "    "
   ]
  },
  {
   "cell_type": "code",
   "execution_count": 150,
   "id": "35652ef8",
   "metadata": {},
   "outputs": [
    {
     "name": "stdout",
     "output_type": "stream",
     "text": [
      "john is working in geek\n",
      "santhosh\n"
     ]
    }
   ],
   "source": [
    "## simple inheritance\n",
    "## parents\n",
    "class Person():\n",
    "    def __init__(self,name,company):\n",
    "        self.sname= name\n",
    "        self.scompany= company\n",
    "    def display(self):\n",
    "        return f'{self.sname} is working in {self.scompany}'\n",
    "class Emp(Person):\n",
    "    name='santhosh'\n",
    "obj= Emp('john','geek')\n",
    "print(obj.display())\n",
    "print(obj.name)"
   ]
  },
  {
   "cell_type": "code",
   "execution_count": 19,
   "id": "eb066dfc",
   "metadata": {},
   "outputs": [
    {
     "name": "stdout",
     "output_type": "stream",
     "text": [
      "ramesh is 22 years old\n"
     ]
    },
    {
     "data": {
      "text/plain": [
       "'10, intern'"
      ]
     },
     "execution_count": 19,
     "metadata": {},
     "output_type": "execute_result"
    }
   ],
   "source": [
    "## interacting parent construction\n",
    "class Person():\n",
    "    def __init__(self, name,age):\n",
    "        self.sname= name\n",
    "        self.sage=age\n",
    "    def display(self):\n",
    "        return f'{self.sname} is {self.sage} years old'\n",
    "class Emp(Person):\n",
    "    def __init__(self,name,age,id, post):\n",
    "        self.id=id\n",
    "        self.post=post\n",
    "        Person.__init__(self,'ramesh',age)\n",
    "    def display1(self):\n",
    "        return f'{self.id}, {self.post}'\n",
    "obj= Emp('rahul',22,10,'intern')\n",
    "print(obj.display())\n",
    "obj.display1()"
   ]
  },
  {
   "cell_type": "code",
   "execution_count": 32,
   "id": "30a3ce91",
   "metadata": {},
   "outputs": [
    {
     "data": {
      "text/plain": [
       "'intern,11'"
      ]
     },
     "execution_count": 32,
     "metadata": {},
     "output_type": "execute_result"
    }
   ],
   "source": [
    "class Person():\n",
    "    def __init__(self,name,age):\n",
    "        self.name= name\n",
    "        self.age=age\n",
    "    def display(self):\n",
    "        return f'{self.name} is {self.age} years old'\n",
    "class Emp(Person):\n",
    "    def __init__(self,name,age,post,id):\n",
    "        self.post=post\n",
    "        self.id= id\n",
    "        super().__init__('ramesh',age)\n",
    "    def display1(self):\n",
    "        return f'{self.post},{self.id}'\n",
    "obj= Emp('rahul',22,'intern',11)\n",
    "obj.display1()\n"
   ]
  },
  {
   "cell_type": "code",
   "execution_count": 33,
   "id": "9f59f304",
   "metadata": {},
   "outputs": [
    {
     "name": "stdout",
     "output_type": "stream",
     "text": [
      "Base1\n",
      "Base2\n",
      "Derived\n",
      "Geek1 Geek2\n"
     ]
    }
   ],
   "source": [
    "## Multiple Inheritance\n",
    "class Base1(object):\n",
    "    def __init__(self):\n",
    "        self.str1 = \"Geek1\"\n",
    "        print(\"Base1\")\n",
    "\n",
    "\n",
    "class Base2(object):\n",
    "    def __init__(self):\n",
    "        self.str2 = \"Geek2\"\n",
    "        print(\"Base2\")\n",
    "\n",
    "\n",
    "class Derived(Base1, Base2):\n",
    "    def __init__(self):\n",
    "\n",
    "        # Calling constructors of Base1\n",
    "        # and Base2 classes\n",
    "        Base1.__init__(self)\n",
    "        Base2.__init__(self)\n",
    "        print(\"Derived\")\n",
    "\n",
    "    def printStrs(self):\n",
    "        print(self.str1, self.str2)\n",
    "\n",
    "\n",
    "ob = Derived()\n",
    "ob.printStrs()"
   ]
  },
  {
   "cell_type": "code",
   "execution_count": 34,
   "id": "f3e2fa43",
   "metadata": {},
   "outputs": [],
   "source": [
    "## Polymorphism\n",
    "class Person:    \n",
    "    # Define the constructor\n",
    "    def __init__(self,name,gender,age=18):\n",
    "        self.name = name\n",
    "        self.age = age\n",
    "        self.gender = gender\n",
    "        \n",
    "    ## Define the methods\n",
    "    def say_hello(self):\n",
    "        print(f'{self.name} says hello !')\n",
    "\n",
    "    def say_bye(self):\n",
    "        print(f'{self.name} says goodbye !')"
   ]
  },
  {
   "cell_type": "code",
   "execution_count": 35,
   "id": "e47581db",
   "metadata": {},
   "outputs": [],
   "source": [
    "class Dancer(Person):\n",
    "    ## Constructor for derived class\n",
    "    def __init__(self,name,gender,age,genre):\n",
    "        ## Call the base class constructor\n",
    "        super().__init__(name,gender,age)\n",
    "        self.genre = genre\n",
    "\n",
    "    def dance(self):\n",
    "        print(f'{self.name} is performing a {self.genre} dance!')\n",
    "\n",
    "     ## Define the methods\n",
    "    def say_hello(self):\n",
    "        print(f'{self.genre} dancer {self.name} says hello !')\n",
    "\n",
    "    def say_bye(self):\n",
    "        print(f'{self.genre} dancer {self.name} says goodbye !')"
   ]
  },
  {
   "cell_type": "code",
   "execution_count": 36,
   "id": "cab2686a",
   "metadata": {},
   "outputs": [],
   "source": [
    "## Encapsulation\n",
    "class Base:\n",
    "    def __init__(self):\n",
    "        self.a = \"GeeksforGeeks\"\n",
    "        self.__c = \"GeeksforGeeks\"\n",
    "\n",
    "# Creating a derived class\n",
    "class Derived(Base):\n",
    "    def __init__(self):\n",
    "\n",
    "        # Calling constructor of\n",
    "        # Base class\n",
    "        Base.__init__(self)\n",
    "        print(\"Calling private member of base class: \")\n",
    "        print(self.__c)"
   ]
  },
  {
   "cell_type": "code",
   "execution_count": null,
   "id": "adfcc9d0",
   "metadata": {},
   "outputs": [],
   "source": [
    "# demonstrate protected members\n",
    "\n",
    "# Creating a base class\n",
    "class Base:\n",
    "    def __init__(self):\n",
    "\n",
    "        # Protected member\n",
    "        self._a = 2\n",
    "\n",
    "# Creating a derived class\n",
    "class Derived(Base):\n",
    "    def __init__(self):\n",
    "\n",
    "        # Calling constructor of\n",
    "        # Base class\n",
    "        Base.__init__(self)\n",
    "        print(\"Calling protected member of base class: \", \n",
    "              self._a)\n",
    "\n",
    "        # Modify the protected variable:\n",
    "        self._a = 3\n",
    "        print(\"Calling modified protected member outside class: \",\n",
    "              self._a)\n",
    "\n",
    "\n",
    "obj1 = Derived()\n",
    "\n",
    "obj2 = Base()\n",
    "\n",
    "# Calling protected member\n",
    "# Can be accessed but should not be done due to convention\n",
    "print(\"Accessing protected member of obj1: \", obj1._a)\n",
    "\n",
    "# Accessing the protected variable outside\n",
    "print(\"Accessing protected member of obj2: \", obj2._a)"
   ]
  }
 ],
 "metadata": {
  "kernelspec": {
   "display_name": "Python 3 (ipykernel)",
   "language": "python",
   "name": "python3"
  },
  "language_info": {
   "codemirror_mode": {
    "name": "ipython",
    "version": 3
   },
   "file_extension": ".py",
   "mimetype": "text/x-python",
   "name": "python",
   "nbconvert_exporter": "python",
   "pygments_lexer": "ipython3",
   "version": "3.11.5"
  }
 },
 "nbformat": 4,
 "nbformat_minor": 5
}
