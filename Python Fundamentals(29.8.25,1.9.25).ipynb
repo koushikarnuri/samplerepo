{
 "cells": [
  {
   "cell_type": "code",
   "execution_count": 80,
   "id": "f556a967-f26a-4aba-aff5-32d1d2951662",
   "metadata": {},
   "outputs": [],
   "source": [
    "import numpy as np"
   ]
  },
  {
   "cell_type": "code",
   "execution_count": 81,
   "id": "a79e2e5d-7df0-4d68-a8bc-70d58c7c08c1",
   "metadata": {},
   "outputs": [],
   "source": [
    "### one_dim\n",
    "one_dim= np.array([2,4,6,10,8,19,100])"
   ]
  },
  {
   "cell_type": "code",
   "execution_count": 82,
   "id": "c23a89fa-a21a-4904-afe0-581f2c6daf81",
   "metadata": {},
   "outputs": [
    {
     "data": {
      "text/plain": [
       "numpy.ndarray"
      ]
     },
     "execution_count": 82,
     "metadata": {},
     "output_type": "execute_result"
    }
   ],
   "source": [
    "type(one_dim)"
   ]
  },
  {
   "cell_type": "code",
   "execution_count": 83,
   "id": "ee5ad393-afa7-443f-865b-dd5539c35a3c",
   "metadata": {},
   "outputs": [
    {
     "data": {
      "text/plain": [
       "1"
      ]
     },
     "execution_count": 83,
     "metadata": {},
     "output_type": "execute_result"
    }
   ],
   "source": [
    "one_dim.ndim"
   ]
  },
  {
   "cell_type": "code",
   "execution_count": 84,
   "id": "49d8e196-0452-4c7d-b793-5c61364da98f",
   "metadata": {},
   "outputs": [
    {
     "data": {
      "text/plain": [
       "7"
      ]
     },
     "execution_count": 84,
     "metadata": {},
     "output_type": "execute_result"
    }
   ],
   "source": [
    "one_dim.size"
   ]
  },
  {
   "cell_type": "code",
   "execution_count": 85,
   "id": "48bc76ed-223e-4833-a66d-c0fb11b02b73",
   "metadata": {},
   "outputs": [],
   "source": [
    "one_dim[3]=100"
   ]
  },
  {
   "cell_type": "code",
   "execution_count": 86,
   "id": "017da3c9-fa21-4a2e-8b46-a8b780197216",
   "metadata": {},
   "outputs": [
    {
     "data": {
      "text/plain": [
       "array([  2,   4,   6, 100,   8,  19, 100])"
      ]
     },
     "execution_count": 86,
     "metadata": {},
     "output_type": "execute_result"
    }
   ],
   "source": [
    "one_dim"
   ]
  },
  {
   "cell_type": "code",
   "execution_count": 87,
   "id": "996422b0-a7fa-4e68-9dc2-4c91b2b2f04b",
   "metadata": {},
   "outputs": [
    {
     "data": {
      "text/plain": [
       "(array([4]),)"
      ]
     },
     "execution_count": 87,
     "metadata": {},
     "output_type": "execute_result"
    }
   ],
   "source": [
    "np.where(one_dim==8)"
   ]
  },
  {
   "cell_type": "code",
   "execution_count": 88,
   "id": "83dd0f6c-3807-40d9-b0a2-b2705d647e6f",
   "metadata": {},
   "outputs": [],
   "source": [
    "one_dim1=np.insert(one_dim,5,200)"
   ]
  },
  {
   "cell_type": "code",
   "execution_count": 89,
   "id": "d6258a17-f748-4561-85d9-e4dd4d51c630",
   "metadata": {},
   "outputs": [
    {
     "data": {
      "text/plain": [
       "array([  2,   4,   6, 100,   8,  19, 100])"
      ]
     },
     "execution_count": 89,
     "metadata": {},
     "output_type": "execute_result"
    }
   ],
   "source": [
    "one_dim"
   ]
  },
  {
   "cell_type": "code",
   "execution_count": 90,
   "id": "cff8f9c4-0a66-4d26-9862-06e320b70b8c",
   "metadata": {},
   "outputs": [
    {
     "data": {
      "text/plain": [
       "array([  2,   4,   6,   8,  19, 100])"
      ]
     },
     "execution_count": 90,
     "metadata": {},
     "output_type": "execute_result"
    }
   ],
   "source": [
    "np.delete(one_dim,3)"
   ]
  },
  {
   "cell_type": "code",
   "execution_count": 91,
   "id": "52393f24-f8d6-44c7-b851-05b4470dcee0",
   "metadata": {},
   "outputs": [
    {
     "data": {
      "text/plain": [
       "array([  2,   4,   6, 100,   8,  19, 100])"
      ]
     },
     "execution_count": 91,
     "metadata": {},
     "output_type": "execute_result"
    }
   ],
   "source": [
    "one_dim"
   ]
  },
  {
   "cell_type": "code",
   "execution_count": 92,
   "id": "7314675b-132f-42a8-aaf4-f2311e38b4df",
   "metadata": {},
   "outputs": [
    {
     "data": {
      "text/plain": [
       "np.int64(100)"
      ]
     },
     "execution_count": 92,
     "metadata": {},
     "output_type": "execute_result"
    }
   ],
   "source": [
    "np.max(one_dim)"
   ]
  },
  {
   "cell_type": "code",
   "execution_count": 93,
   "id": "edf2dfa1-3ec7-4fb4-ba49-1d65a30257fc",
   "metadata": {},
   "outputs": [
    {
     "data": {
      "text/plain": [
       "np.int64(2)"
      ]
     },
     "execution_count": 93,
     "metadata": {},
     "output_type": "execute_result"
    }
   ],
   "source": [
    "np.min(one_dim)"
   ]
  },
  {
   "cell_type": "code",
   "execution_count": 94,
   "id": "89fa56af-7419-4d1e-9855-f5db107b4683",
   "metadata": {},
   "outputs": [
    {
     "data": {
      "text/plain": [
       "np.float64(34.142857142857146)"
      ]
     },
     "execution_count": 94,
     "metadata": {},
     "output_type": "execute_result"
    }
   ],
   "source": [
    "np.mean(one_dim)"
   ]
  },
  {
   "cell_type": "code",
   "execution_count": 95,
   "id": "55ff84f7-28b5-4d85-b524-693a253d1b88",
   "metadata": {},
   "outputs": [
    {
     "data": {
      "text/plain": [
       "np.float64(8.0)"
      ]
     },
     "execution_count": 95,
     "metadata": {},
     "output_type": "execute_result"
    }
   ],
   "source": [
    "np.median(one_dim)"
   ]
  },
  {
   "cell_type": "code",
   "execution_count": 96,
   "id": "6c7c5c6b-2b98-4da7-9142-06a383d712cb",
   "metadata": {},
   "outputs": [
    {
     "data": {
      "text/plain": [
       "np.int64(239)"
      ]
     },
     "execution_count": 96,
     "metadata": {},
     "output_type": "execute_result"
    }
   ],
   "source": [
    "np.sum(one_dim)"
   ]
  },
  {
   "cell_type": "code",
   "execution_count": 97,
   "id": "55adc32e-6f8f-4869-8a1e-037fcd5ab866",
   "metadata": {},
   "outputs": [
    {
     "data": {
      "text/plain": [
       "np.int64(3)"
      ]
     },
     "execution_count": 97,
     "metadata": {},
     "output_type": "execute_result"
    }
   ],
   "source": [
    "np.argmax(one_dim)"
   ]
  },
  {
   "cell_type": "code",
   "execution_count": 98,
   "id": "d10b4d35-9fcc-4886-8b9d-9bf0f980bf03",
   "metadata": {},
   "outputs": [
    {
     "data": {
      "text/plain": [
       "array([  2,   4,   6,   8,  19, 100])"
      ]
     },
     "execution_count": 98,
     "metadata": {},
     "output_type": "execute_result"
    }
   ],
   "source": [
    "np.unique(one_dim)"
   ]
  },
  {
   "cell_type": "code",
   "execution_count": 99,
   "id": "8b72dd22-3161-4ea8-8d2f-c260b425acac",
   "metadata": {},
   "outputs": [
    {
     "data": {
      "text/plain": [
       "array([1, 3, 5, 7, 9])"
      ]
     },
     "execution_count": 99,
     "metadata": {},
     "output_type": "execute_result"
    }
   ],
   "source": [
    "np.arange(1,10,2)"
   ]
  },
  {
   "cell_type": "code",
   "execution_count": 100,
   "id": "be64252c-bd3e-4000-bd8a-0340f3a5a48f",
   "metadata": {},
   "outputs": [
    {
     "data": {
      "text/plain": [
       "array([77, 48, 44, 22, 11, 33, 48, 88, 64, 68, 92, 19], dtype=int32)"
      ]
     },
     "execution_count": 100,
     "metadata": {},
     "output_type": "execute_result"
    }
   ],
   "source": [
    "np.random.randint(1,100,12)"
   ]
  },
  {
   "cell_type": "markdown",
   "id": "39f8188c-508d-4097-aace-d8172296afe6",
   "metadata": {},
   "source": [
    "##### Two dimensional Array"
   ]
  },
  {
   "cell_type": "code",
   "execution_count": 102,
   "id": "4d600869-bd28-48df-8b9b-07a8d5b7c7c7",
   "metadata": {},
   "outputs": [
    {
     "data": {
      "text/plain": [
       "array([[ 2,  4,  6],\n",
       "       [ 8, 10, 12],\n",
       "       [14, 16, 18]])"
      ]
     },
     "execution_count": 102,
     "metadata": {},
     "output_type": "execute_result"
    }
   ],
   "source": [
    "two_dim= np.array([[2,4,6],[8,10,12],[14,16,18]])\n",
    "two_dim"
   ]
  },
  {
   "cell_type": "code",
   "execution_count": 103,
   "id": "968fe17c-401c-4026-87eb-90441ce70d4b",
   "metadata": {},
   "outputs": [
    {
     "data": {
      "text/plain": [
       "2"
      ]
     },
     "execution_count": 103,
     "metadata": {},
     "output_type": "execute_result"
    }
   ],
   "source": [
    "two_dim.ndim"
   ]
  },
  {
   "cell_type": "code",
   "execution_count": 104,
   "id": "8e036128-4a1a-499a-b47d-7db054ea61c3",
   "metadata": {},
   "outputs": [
    {
     "data": {
      "text/plain": [
       "9"
      ]
     },
     "execution_count": 104,
     "metadata": {},
     "output_type": "execute_result"
    }
   ],
   "source": [
    "two_dim.size"
   ]
  },
  {
   "cell_type": "code",
   "execution_count": 105,
   "id": "b582ffe1-b0a9-46df-b456-fc29bacbe775",
   "metadata": {},
   "outputs": [
    {
     "data": {
      "text/plain": [
       "(3, 3)"
      ]
     },
     "execution_count": 105,
     "metadata": {},
     "output_type": "execute_result"
    }
   ],
   "source": [
    "two_dim.shape"
   ]
  },
  {
   "cell_type": "code",
   "execution_count": 107,
   "id": "7317a3fd-5505-45c0-94f8-109701766725",
   "metadata": {},
   "outputs": [],
   "source": [
    "two_dim[2,2]=28"
   ]
  },
  {
   "cell_type": "code",
   "execution_count": 108,
   "id": "9ffeed6b-e7fc-4e92-87e2-1cba0ede0230",
   "metadata": {},
   "outputs": [
    {
     "data": {
      "text/plain": [
       "array([[ 2,  4,  6],\n",
       "       [ 8, 10, 12],\n",
       "       [14, 16, 28]])"
      ]
     },
     "execution_count": 108,
     "metadata": {},
     "output_type": "execute_result"
    }
   ],
   "source": [
    "two_dim"
   ]
  },
  {
   "cell_type": "code",
   "execution_count": 109,
   "id": "b34a4dbb-0265-44c8-b563-b2f3ebed823b",
   "metadata": {},
   "outputs": [
    {
     "data": {
      "text/plain": [
       "array([[2, 2]])"
      ]
     },
     "execution_count": 109,
     "metadata": {},
     "output_type": "execute_result"
    }
   ],
   "source": [
    "np.argwhere(two_dim==28)"
   ]
  },
  {
   "cell_type": "code",
   "execution_count": 62,
   "id": "677a140b-9390-487a-8db1-f65986932791",
   "metadata": {},
   "outputs": [
    {
     "data": {
      "text/plain": [
       "array([[ 1,  2,  3],\n",
       "       [ 4,  5,  6],\n",
       "       [ 7,  8,  9],\n",
       "       [10, 11, 12]])"
      ]
     },
     "execution_count": 62,
     "metadata": {},
     "output_type": "execute_result"
    }
   ],
   "source": [
    "np.arange(1,13).reshape(4,3)"
   ]
  },
  {
   "cell_type": "code",
   "execution_count": 110,
   "id": "67afb8cb-900d-4e6e-8122-760a62524479",
   "metadata": {},
   "outputs": [
    {
     "data": {
      "text/plain": [
       "array([[47, 88, 36, 12],\n",
       "       [87, 75, 55, 44],\n",
       "       [57, 42, 71, 89],\n",
       "       [26, 96, 77, 39]], dtype=int32)"
      ]
     },
     "execution_count": 110,
     "metadata": {},
     "output_type": "execute_result"
    }
   ],
   "source": [
    "two_dim= np.random.randint(1,100,16).reshape(4,4)\n",
    "two_dim"
   ]
  },
  {
   "cell_type": "code",
   "execution_count": 111,
   "id": "bc36730e-ffb6-45d7-aee7-c07fbda73ef0",
   "metadata": {},
   "outputs": [
    {
     "data": {
      "text/plain": [
       "array([47, 88, 36, 12], dtype=int32)"
      ]
     },
     "execution_count": 111,
     "metadata": {},
     "output_type": "execute_result"
    }
   ],
   "source": [
    "two_dim[0]"
   ]
  },
  {
   "cell_type": "code",
   "execution_count": 112,
   "id": "61a1f9ee-0139-49bb-a0f7-17b80c1a5a65",
   "metadata": {},
   "outputs": [
    {
     "data": {
      "text/plain": [
       "array([[47, 88, 36, 12],\n",
       "       [87, 75, 55, 44],\n",
       "       [57, 42, 71, 89]], dtype=int32)"
      ]
     },
     "execution_count": 112,
     "metadata": {},
     "output_type": "execute_result"
    }
   ],
   "source": [
    "two_dim[:3]"
   ]
  },
  {
   "cell_type": "code",
   "execution_count": 113,
   "id": "49e87e1e-a085-4192-869d-ac5da458cb0b",
   "metadata": {},
   "outputs": [
    {
     "data": {
      "text/plain": [
       "array([[47, 88, 36],\n",
       "       [87, 75, 55],\n",
       "       [57, 42, 71],\n",
       "       [26, 96, 77]], dtype=int32)"
      ]
     },
     "execution_count": 113,
     "metadata": {},
     "output_type": "execute_result"
    }
   ],
   "source": [
    "two_dim[:,:3]"
   ]
  },
  {
   "cell_type": "code",
   "execution_count": 114,
   "id": "471dfd84-baf7-4ef9-b343-a92eceee8345",
   "metadata": {},
   "outputs": [
    {
     "data": {
      "text/plain": [
       "array([[47, 88, 36, 12],\n",
       "       [87, 75, 55, 44],\n",
       "       [26, 96, 77, 39]], dtype=int32)"
      ]
     },
     "execution_count": 114,
     "metadata": {},
     "output_type": "execute_result"
    }
   ],
   "source": [
    "two_dim[[0,1,3]]"
   ]
  },
  {
   "cell_type": "code",
   "execution_count": 115,
   "id": "dcff6b05-bf9f-43dd-9f30-b4d614b01547",
   "metadata": {},
   "outputs": [
    {
     "data": {
      "text/plain": [
       "array([[88, 12],\n",
       "       [75, 44],\n",
       "       [42, 89],\n",
       "       [96, 39]], dtype=int32)"
      ]
     },
     "execution_count": 115,
     "metadata": {},
     "output_type": "execute_result"
    }
   ],
   "source": [
    "two_dim[:,[1,3]]"
   ]
  },
  {
   "cell_type": "code",
   "execution_count": 116,
   "id": "dae18b7a-5682-4103-80ab-0d1c7c2955de",
   "metadata": {},
   "outputs": [
    {
     "data": {
      "text/plain": [
       "array([[47, 88, 36, 12],\n",
       "       [87, 75, 55, 44],\n",
       "       [57, 42, 71, 89],\n",
       "       [26, 96, 77, 39]], dtype=int32)"
      ]
     },
     "execution_count": 116,
     "metadata": {},
     "output_type": "execute_result"
    }
   ],
   "source": [
    "two_dim"
   ]
  },
  {
   "cell_type": "code",
   "execution_count": 117,
   "id": "b8408892-2c75-45c9-93e5-1112bd8cb810",
   "metadata": {},
   "outputs": [
    {
     "data": {
      "text/plain": [
       "array([[47, 88, 10, 36, 12],\n",
       "       [87, 75, 20, 55, 44],\n",
       "       [57, 42, 30, 71, 89],\n",
       "       [26, 96, 40, 77, 39]], dtype=int32)"
      ]
     },
     "execution_count": 117,
     "metadata": {},
     "output_type": "execute_result"
    }
   ],
   "source": [
    "## axis=0 for rows, axis=1 for columns\n",
    "np.insert(two_dim,2,[10,20,30,40],axis=1)"
   ]
  },
  {
   "cell_type": "code",
   "execution_count": 118,
   "id": "d48d5d4e-af62-4353-9e1f-0856f489f28a",
   "metadata": {},
   "outputs": [
    {
     "data": {
      "text/plain": [
       "array([[47, 88, 36, 12],\n",
       "       [87, 75, 55, 44],\n",
       "       [57, 42, 71, 89],\n",
       "       [26, 96, 77, 39]], dtype=int32)"
      ]
     },
     "execution_count": 118,
     "metadata": {},
     "output_type": "execute_result"
    }
   ],
   "source": [
    "two_dim"
   ]
  },
  {
   "cell_type": "code",
   "execution_count": 119,
   "id": "23db518f-052f-49a7-b273-9c3d23f8a4f0",
   "metadata": {},
   "outputs": [
    {
     "data": {
      "text/plain": [
       "array([[47, 88, 36, 12],\n",
       "       [57, 42, 71, 89],\n",
       "       [26, 96, 77, 39]], dtype=int32)"
      ]
     },
     "execution_count": 119,
     "metadata": {},
     "output_type": "execute_result"
    }
   ],
   "source": [
    "np.delete(two_dim,1,axis=0)"
   ]
  },
  {
   "cell_type": "code",
   "execution_count": 120,
   "id": "99d73750-186d-4643-9b5d-958f354fa4d1",
   "metadata": {},
   "outputs": [
    {
     "data": {
      "text/plain": [
       "array([[47, 88, 36, 12],\n",
       "       [87, 75, 55, 44],\n",
       "       [57, 42, 71, 89],\n",
       "       [26, 96, 77, 39]], dtype=int32)"
      ]
     },
     "execution_count": 120,
     "metadata": {},
     "output_type": "execute_result"
    }
   ],
   "source": [
    "two_dim"
   ]
  },
  {
   "cell_type": "code",
   "execution_count": 122,
   "id": "22dcc03a-9379-4a8e-a9f4-36c4cccfdf55",
   "metadata": {},
   "outputs": [
    {
     "data": {
      "text/plain": [
       "np.float64(58.8125)"
      ]
     },
     "execution_count": 122,
     "metadata": {},
     "output_type": "execute_result"
    }
   ],
   "source": [
    "np.mean(two_dim)"
   ]
  },
  {
   "cell_type": "code",
   "execution_count": 124,
   "id": "c5e8ca4a-0a3c-4b58-b9e1-c58a6ede9c3f",
   "metadata": {},
   "outputs": [
    {
     "data": {
      "text/plain": [
       "array([217, 301, 239, 184])"
      ]
     },
     "execution_count": 124,
     "metadata": {},
     "output_type": "execute_result"
    }
   ],
   "source": [
    "np.sum(two_dim,axis=0)"
   ]
  },
  {
   "cell_type": "code",
   "execution_count": 126,
   "id": "9d2a2a8a-e305-4f4e-b47a-e8946743b156",
   "metadata": {},
   "outputs": [
    {
     "data": {
      "text/plain": [
       "array([88, 87, 89, 96], dtype=int32)"
      ]
     },
     "execution_count": 126,
     "metadata": {},
     "output_type": "execute_result"
    }
   ],
   "source": [
    "np.max(two_dim,axis=1)"
   ]
  },
  {
   "cell_type": "code",
   "execution_count": 127,
   "id": "f161a6a2-43bc-4f6c-9e52-2068e3cbb9bd",
   "metadata": {},
   "outputs": [
    {
     "data": {
      "text/plain": [
       "array([[47, 88, 36, 12],\n",
       "       [87, 75, 55, 44],\n",
       "       [57, 42, 71, 89],\n",
       "       [26, 96, 77, 39]], dtype=int32)"
      ]
     },
     "execution_count": 127,
     "metadata": {},
     "output_type": "execute_result"
    }
   ],
   "source": [
    "two_dim"
   ]
  },
  {
   "cell_type": "code",
   "execution_count": 129,
   "id": "731e48b1-47c6-4a49-8fbe-36924b99a72a",
   "metadata": {},
   "outputs": [
    {
     "data": {
      "text/plain": [
       "array([[45, 68],\n",
       "       [93, 82]], dtype=int32)"
      ]
     },
     "execution_count": 129,
     "metadata": {},
     "output_type": "execute_result"
    }
   ],
   "source": [
    "a= np.random.randint(1,100,4).reshape(2,2)\n",
    "a"
   ]
  },
  {
   "cell_type": "code",
   "execution_count": 130,
   "id": "0f8db7e5-699f-4969-908b-9786b1bcc393",
   "metadata": {},
   "outputs": [
    {
     "data": {
      "text/plain": [
       "array([[53, 49],\n",
       "       [ 5, 74]], dtype=int32)"
      ]
     },
     "execution_count": 130,
     "metadata": {},
     "output_type": "execute_result"
    }
   ],
   "source": [
    "b= np.random.randint(1,100,4).reshape(2,2)\n",
    "b"
   ]
  },
  {
   "cell_type": "code",
   "execution_count": 131,
   "id": "53f1241c-d87a-4075-9677-73f056f70686",
   "metadata": {},
   "outputs": [
    {
     "data": {
      "text/plain": [
       "array([[ 98, 117],\n",
       "       [ 98, 156]], dtype=int32)"
      ]
     },
     "execution_count": 131,
     "metadata": {},
     "output_type": "execute_result"
    }
   ],
   "source": [
    "a+b"
   ]
  },
  {
   "cell_type": "code",
   "execution_count": 132,
   "id": "d8bcfd17-9ba1-496d-8a17-e070063e6c0c",
   "metadata": {},
   "outputs": [
    {
     "data": {
      "text/plain": [
       "array([[-8, 19],\n",
       "       [88,  8]], dtype=int32)"
      ]
     },
     "execution_count": 132,
     "metadata": {},
     "output_type": "execute_result"
    }
   ],
   "source": [
    "a-b"
   ]
  },
  {
   "cell_type": "code",
   "execution_count": 133,
   "id": "5b796568-ab70-4ba6-a052-a04739788715",
   "metadata": {},
   "outputs": [
    {
     "data": {
      "text/plain": [
       "array([[2385, 3332],\n",
       "       [ 465, 6068]], dtype=int32)"
      ]
     },
     "execution_count": 133,
     "metadata": {},
     "output_type": "execute_result"
    }
   ],
   "source": [
    "a*b"
   ]
  },
  {
   "cell_type": "code",
   "execution_count": 134,
   "id": "4d2cc242-e2b8-442e-bb30-1269e20b180a",
   "metadata": {},
   "outputs": [
    {
     "data": {
      "text/plain": [
       "array([[ 0.8490566 ,  1.3877551 ],\n",
       "       [18.6       ,  1.10810811]])"
      ]
     },
     "execution_count": 134,
     "metadata": {},
     "output_type": "execute_result"
    }
   ],
   "source": [
    "a/b"
   ]
  },
  {
   "cell_type": "code",
   "execution_count": 136,
   "id": "4df1e252-4afb-42e0-bb78-8ff850e56ee6",
   "metadata": {},
   "outputs": [
    {
     "data": {
      "text/plain": [
       "array([[ 2725,  7237],\n",
       "       [ 5339, 10625]], dtype=int32)"
      ]
     },
     "execution_count": 136,
     "metadata": {},
     "output_type": "execute_result"
    }
   ],
   "source": [
    "## matrix multiplication\n",
    "a@b"
   ]
  },
  {
   "cell_type": "code",
   "execution_count": 137,
   "id": "f74f2ba9-55d9-4088-aa65-36e53ceedd53",
   "metadata": {},
   "outputs": [
    {
     "data": {
      "text/plain": [
       "array([[45, 68],\n",
       "       [93, 82],\n",
       "       [53, 49],\n",
       "       [ 5, 74]], dtype=int32)"
      ]
     },
     "execution_count": 137,
     "metadata": {},
     "output_type": "execute_result"
    }
   ],
   "source": [
    "## Stacking of arrays\n",
    "np.vstack([a,b])"
   ]
  },
  {
   "cell_type": "code",
   "execution_count": 138,
   "id": "4951b3b0-ddd6-4f6f-abc4-c9ac506c7238",
   "metadata": {},
   "outputs": [
    {
     "data": {
      "text/plain": [
       "array([[45, 68, 53, 49],\n",
       "       [93, 82,  5, 74]], dtype=int32)"
      ]
     },
     "execution_count": 138,
     "metadata": {},
     "output_type": "execute_result"
    }
   ],
   "source": [
    "np.hstack([a,b])"
   ]
  },
  {
   "cell_type": "code",
   "execution_count": 139,
   "id": "db4f6f7c-b5e9-4738-ac75-0cf347bfb4b2",
   "metadata": {},
   "outputs": [
    {
     "data": {
      "text/plain": [
       "np.float64(-2633.999999999999)"
      ]
     },
     "execution_count": 139,
     "metadata": {},
     "output_type": "execute_result"
    }
   ],
   "source": [
    "np.linalg.det(a)"
   ]
  },
  {
   "cell_type": "code",
   "execution_count": 140,
   "id": "5f3395b6-9629-46a6-9790-a474a8657ce1",
   "metadata": {},
   "outputs": [
    {
     "data": {
      "text/plain": [
       "array([[-0.03113136,  0.02581625],\n",
       "       [ 0.03530752, -0.01708428]])"
      ]
     },
     "execution_count": 140,
     "metadata": {},
     "output_type": "execute_result"
    }
   ],
   "source": [
    "np.linalg.inv(a)"
   ]
  },
  {
   "cell_type": "code",
   "execution_count": 141,
   "id": "58746fc1-7bc1-4ac2-a802-1a14c2c3794d",
   "metadata": {},
   "outputs": [
    {
     "data": {
      "text/plain": [
       "array([[45, 93],\n",
       "       [68, 82]], dtype=int32)"
      ]
     },
     "execution_count": 141,
     "metadata": {},
     "output_type": "execute_result"
    }
   ],
   "source": [
    "np.transpose(a)"
   ]
  },
  {
   "cell_type": "code",
   "execution_count": 143,
   "id": "5032b010-3ea2-4c76-ad18-19257b6ef841",
   "metadata": {},
   "outputs": [
    {
     "data": {
      "text/plain": [
       "array([[1., 0., 0., 0.],\n",
       "       [0., 1., 0., 0.],\n",
       "       [0., 0., 1., 0.],\n",
       "       [0., 0., 0., 1.]])"
      ]
     },
     "execution_count": 143,
     "metadata": {},
     "output_type": "execute_result"
    }
   ],
   "source": [
    "np.identity(4)"
   ]
  },
  {
   "cell_type": "code",
   "execution_count": 147,
   "id": "f11ed3d3-e897-4708-b13b-8925aaecf95f",
   "metadata": {},
   "outputs": [
    {
     "data": {
      "text/plain": [
       "array([[1., 1., 1.],\n",
       "       [1., 1., 1.],\n",
       "       [1., 1., 1.]])"
      ]
     },
     "execution_count": 147,
     "metadata": {},
     "output_type": "execute_result"
    }
   ],
   "source": [
    "np.ones(shape=(3,3))"
   ]
  },
  {
   "cell_type": "code",
   "execution_count": 148,
   "id": "b6813362-6fb6-448d-b2f8-5190380f29d4",
   "metadata": {},
   "outputs": [
    {
     "data": {
      "text/plain": [
       "array([[0., 0., 0.],\n",
       "       [0., 0., 0.]])"
      ]
     },
     "execution_count": 148,
     "metadata": {},
     "output_type": "execute_result"
    }
   ],
   "source": [
    "np.zeros(shape=(2,3))"
   ]
  },
  {
   "cell_type": "code",
   "execution_count": null,
   "id": "52b167cd-17bf-4d23-b4c8-5f9eac20318e",
   "metadata": {},
   "outputs": [],
   "source": []
  }
 ],
 "metadata": {
  "kernelspec": {
   "display_name": "Python [conda env:base] *",
   "language": "python",
   "name": "conda-base-py"
  },
  "language_info": {
   "codemirror_mode": {
    "name": "ipython",
    "version": 3
   },
   "file_extension": ".py",
   "mimetype": "text/x-python",
   "name": "python",
   "nbconvert_exporter": "python",
   "pygments_lexer": "ipython3",
   "version": "3.13.5"
  }
 },
 "nbformat": 4,
 "nbformat_minor": 5
}
