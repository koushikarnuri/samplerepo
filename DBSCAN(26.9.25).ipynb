{
 "cells": [
  {
   "cell_type": "code",
   "execution_count": 1,
   "id": "ebf61663-a20e-446d-9f27-c6e658e9d3ad",
   "metadata": {},
   "outputs": [],
   "source": [
    "import pandas as pd\n",
    "import numpy as np\n",
    "import matplotlib.pyplot as plt\n",
    "import seaborn as sns\n",
    "import warnings\n",
    "warnings.filterwarnings('ignore')\n",
    "from sklearn.cluster import DBSCAN\n",
    "from sklearn.metrics import silhouette_score\n",
    "from sklearn.preprocessing import StandardScaler"
   ]
  },
  {
   "cell_type": "code",
   "execution_count": 2,
   "id": "9bd2c409-80fb-408f-adec-80b5c299198b",
   "metadata": {},
   "outputs": [],
   "source": [
    "df= pd.read_csv('DB_dataset.csv')"
   ]
  },
  {
   "cell_type": "code",
   "execution_count": 3,
   "id": "6adc7c05-0c97-473d-85a9-ae97001b66ce",
   "metadata": {},
   "outputs": [
    {
     "data": {
      "text/plain": [
       "(500, 2)"
      ]
     },
     "execution_count": 3,
     "metadata": {},
     "output_type": "execute_result"
    }
   ],
   "source": [
    "df.shape"
   ]
  },
  {
   "cell_type": "code",
   "execution_count": 4,
   "id": "3c7427b6-d360-4003-b0f3-7685c2185bfa",
   "metadata": {},
   "outputs": [
    {
     "data": {
      "text/html": [
       "<div>\n",
       "<style scoped>\n",
       "    .dataframe tbody tr th:only-of-type {\n",
       "        vertical-align: middle;\n",
       "    }\n",
       "\n",
       "    .dataframe tbody tr th {\n",
       "        vertical-align: top;\n",
       "    }\n",
       "\n",
       "    .dataframe thead th {\n",
       "        text-align: right;\n",
       "    }\n",
       "</style>\n",
       "<table border=\"1\" class=\"dataframe\">\n",
       "  <thead>\n",
       "    <tr style=\"text-align: right;\">\n",
       "      <th></th>\n",
       "      <th>Weight</th>\n",
       "      <th>Height</th>\n",
       "    </tr>\n",
       "  </thead>\n",
       "  <tbody>\n",
       "    <tr>\n",
       "      <th>0</th>\n",
       "      <td>67.062924</td>\n",
       "      <td>176.086355</td>\n",
       "    </tr>\n",
       "    <tr>\n",
       "      <th>1</th>\n",
       "      <td>68.804094</td>\n",
       "      <td>178.388668</td>\n",
       "    </tr>\n",
       "    <tr>\n",
       "      <th>2</th>\n",
       "      <td>60.930863</td>\n",
       "      <td>170.284496</td>\n",
       "    </tr>\n",
       "    <tr>\n",
       "      <th>3</th>\n",
       "      <td>59.733843</td>\n",
       "      <td>168.691992</td>\n",
       "    </tr>\n",
       "    <tr>\n",
       "      <th>4</th>\n",
       "      <td>65.431230</td>\n",
       "      <td>173.763679</td>\n",
       "    </tr>\n",
       "  </tbody>\n",
       "</table>\n",
       "</div>"
      ],
      "text/plain": [
       "      Weight      Height\n",
       "0  67.062924  176.086355\n",
       "1  68.804094  178.388668\n",
       "2  60.930863  170.284496\n",
       "3  59.733843  168.691992\n",
       "4  65.431230  173.763679"
      ]
     },
     "execution_count": 4,
     "metadata": {},
     "output_type": "execute_result"
    }
   ],
   "source": [
    "df.head()"
   ]
  },
  {
   "cell_type": "code",
   "execution_count": 5,
   "id": "ef82602d-ec3f-4f4f-913f-2dcb745ff9e7",
   "metadata": {},
   "outputs": [
    {
     "data": {
      "text/plain": [
       "Weight    0\n",
       "Height    0\n",
       "dtype: int64"
      ]
     },
     "execution_count": 5,
     "metadata": {},
     "output_type": "execute_result"
    }
   ],
   "source": [
    "df.isnull().sum()"
   ]
  },
  {
   "cell_type": "code",
   "execution_count": 6,
   "id": "ed2d33a3-a668-495a-aeec-8b968d419efc",
   "metadata": {},
   "outputs": [
    {
     "data": {
      "text/plain": [
       "np.int64(0)"
      ]
     },
     "execution_count": 6,
     "metadata": {},
     "output_type": "execute_result"
    }
   ],
   "source": [
    "df.duplicated().sum()"
   ]
  },
  {
   "cell_type": "code",
   "execution_count": 8,
   "id": "bc545f6c-0387-4f9a-876a-f34c04fb294b",
   "metadata": {},
   "outputs": [
    {
     "data": {
      "text/html": [
       "<div>\n",
       "<style scoped>\n",
       "    .dataframe tbody tr th:only-of-type {\n",
       "        vertical-align: middle;\n",
       "    }\n",
       "\n",
       "    .dataframe tbody tr th {\n",
       "        vertical-align: top;\n",
       "    }\n",
       "\n",
       "    .dataframe thead th {\n",
       "        text-align: right;\n",
       "    }\n",
       "</style>\n",
       "<table border=\"1\" class=\"dataframe\">\n",
       "  <thead>\n",
       "    <tr style=\"text-align: right;\">\n",
       "      <th></th>\n",
       "      <th>Weight</th>\n",
       "      <th>Height</th>\n",
       "    </tr>\n",
       "  </thead>\n",
       "  <tbody>\n",
       "    <tr>\n",
       "      <th>0</th>\n",
       "      <td>1.115742</td>\n",
       "      <td>1.368788</td>\n",
       "    </tr>\n",
       "    <tr>\n",
       "      <th>1</th>\n",
       "      <td>1.451113</td>\n",
       "      <td>1.848408</td>\n",
       "    </tr>\n",
       "    <tr>\n",
       "      <th>2</th>\n",
       "      <td>-0.065368</td>\n",
       "      <td>0.160139</td>\n",
       "    </tr>\n",
       "    <tr>\n",
       "      <th>3</th>\n",
       "      <td>-0.295929</td>\n",
       "      <td>-0.171612</td>\n",
       "    </tr>\n",
       "    <tr>\n",
       "      <th>4</th>\n",
       "      <td>0.801458</td>\n",
       "      <td>0.884926</td>\n",
       "    </tr>\n",
       "  </tbody>\n",
       "</table>\n",
       "</div>"
      ],
      "text/plain": [
       "     Weight    Height\n",
       "0  1.115742  1.368788\n",
       "1  1.451113  1.848408\n",
       "2 -0.065368  0.160139\n",
       "3 -0.295929 -0.171612\n",
       "4  0.801458  0.884926"
      ]
     },
     "execution_count": 8,
     "metadata": {},
     "output_type": "execute_result"
    }
   ],
   "source": [
    "std_sca=StandardScaler()\n",
    "features= pd.DataFrame(std_sca.fit_transform(df),columns=df.columns)\n",
    "features.head()"
   ]
  },
  {
   "cell_type": "code",
   "execution_count": 9,
   "id": "574e1df6-8a4c-4e2c-b347-2b39e969b6b6",
   "metadata": {},
   "outputs": [],
   "source": [
    "eps= [0.1,0.2,0.3,0.4,0.5]\n",
    "min_nodes=range(1,11)"
   ]
  },
  {
   "cell_type": "code",
   "execution_count": 12,
   "id": "fe52ecd1-52b4-4074-bc65-c0416cd590c1",
   "metadata": {},
   "outputs": [
    {
     "name": "stdout",
     "output_type": "stream",
     "text": [
      "[[0.1, 1, np.float64(-0.04299681057231643)], [0.1, 2, np.float64(0.2832200472847609)], [0.1, 3, np.float64(0.42737747491884875)], [0.1, 4, np.float64(0.5359027025302264)], [0.1, 5, np.float64(0.4827750201294571)], [0.1, 6, np.float64(0.4076103765285375)], [0.1, 7, np.float64(0.4749535686603094)], [0.1, 8, np.float64(0.36094434711787066)], [0.1, 9, np.float64(0.3333993335941656)], [0.1, 10, np.float64(0.3612527257725542)], [0.2, 1, np.float64(0.4246458392966885)], [0.2, 2, np.float64(0.4246458392966885)], [0.2, 3, np.float64(0.4246458392966885)], [0.2, 4, np.float64(0.6793428586100531)], [0.2, 5, np.float64(0.6791715296437162)], [0.2, 6, np.float64(0.6811897093459002)], [0.2, 7, np.float64(0.6811897093459002)], [0.2, 8, np.float64(0.6811897093459002)], [0.2, 9, np.float64(0.6772243433773901)], [0.2, 10, np.float64(0.6611112232392293)], [0.3, 1, np.float64(0.6636830126381724)], [0.3, 2, np.float64(0.6636830126381724)], [0.3, 3, np.float64(0.6636830126381724)], [0.3, 4, np.float64(0.6636830126381724)], [0.3, 5, np.float64(0.41849097827454546)], [0.3, 6, np.float64(0.41849097827454546)], [0.3, 7, np.float64(0.41849097827454546)], [0.3, 8, np.float64(0.41849097827454546)], [0.3, 9, np.float64(0.6723112674180561)], [0.3, 10, np.float64(0.6723112674180561)], [0.4, 1, np.float64(0.6636830126381724)], [0.4, 2, np.float64(0.6636830126381724)], [0.4, 3, np.float64(0.6636830126381724)], [0.4, 4, np.float64(0.6636830126381724)], [0.4, 5, np.float64(0.6636830126381724)], [0.4, 6, np.float64(0.6636830126381724)], [0.4, 7, np.float64(0.6636830126381724)], [0.4, 8, np.float64(0.6636830126381724)], [0.4, 9, np.float64(0.6636830126381724)], [0.4, 10, np.float64(0.6636830126381724)], [0.5, 1, np.float64(0.6636830126381724)], [0.5, 2, np.float64(0.6636830126381724)], [0.5, 3, np.float64(0.6636830126381724)], [0.5, 4, np.float64(0.6636830126381724)], [0.5, 5, np.float64(0.6636830126381724)], [0.5, 6, np.float64(0.6636830126381724)], [0.5, 7, np.float64(0.6636830126381724)], [0.5, 8, np.float64(0.6636830126381724)], [0.5, 9, np.float64(0.6636830126381724)], [0.5, 10, np.float64(0.6636830126381724)]]\n"
     ]
    }
   ],
   "source": [
    "output=[]\n",
    "for i in eps:\n",
    "    for j in min_nodes:\n",
    "        labels= DBSCAN(eps=i,min_samples=j).fit(features).labels_\n",
    "        score=silhouette_score(features,labels)\n",
    "        output.append([i,j,score])\n",
    "print(output)        "
   ]
  },
  {
   "cell_type": "code",
   "execution_count": 18,
   "id": "92f82db5-648f-44b2-9d93-0341a0a90710",
   "metadata": {},
   "outputs": [
    {
     "data": {
      "text/plain": [
       "0.6811897093459002"
      ]
     },
     "execution_count": 18,
     "metadata": {},
     "output_type": "execute_result"
    }
   ],
   "source": [
    "a=pd.DataFrame(output,columns=['eps','min_node','score'])\n",
    "score=a.loc[:,'score'].max()\n",
    "score"
   ]
  },
  {
   "cell_type": "code",
   "execution_count": 21,
   "id": "d43cf3ed-e93f-48d5-8b94-fd760d83cf33",
   "metadata": {},
   "outputs": [
    {
     "data": {
      "text/html": [
       "<div>\n",
       "<style scoped>\n",
       "    .dataframe tbody tr th:only-of-type {\n",
       "        vertical-align: middle;\n",
       "    }\n",
       "\n",
       "    .dataframe tbody tr th {\n",
       "        vertical-align: top;\n",
       "    }\n",
       "\n",
       "    .dataframe thead th {\n",
       "        text-align: right;\n",
       "    }\n",
       "</style>\n",
       "<table border=\"1\" class=\"dataframe\">\n",
       "  <thead>\n",
       "    <tr style=\"text-align: right;\">\n",
       "      <th></th>\n",
       "      <th>eps</th>\n",
       "      <th>min_node</th>\n",
       "      <th>score</th>\n",
       "    </tr>\n",
       "  </thead>\n",
       "  <tbody>\n",
       "    <tr>\n",
       "      <th>15</th>\n",
       "      <td>0.2</td>\n",
       "      <td>6</td>\n",
       "      <td>0.68119</td>\n",
       "    </tr>\n",
       "    <tr>\n",
       "      <th>16</th>\n",
       "      <td>0.2</td>\n",
       "      <td>7</td>\n",
       "      <td>0.68119</td>\n",
       "    </tr>\n",
       "    <tr>\n",
       "      <th>17</th>\n",
       "      <td>0.2</td>\n",
       "      <td>8</td>\n",
       "      <td>0.68119</td>\n",
       "    </tr>\n",
       "  </tbody>\n",
       "</table>\n",
       "</div>"
      ],
      "text/plain": [
       "    eps  min_node    score\n",
       "15  0.2         6  0.68119\n",
       "16  0.2         7  0.68119\n",
       "17  0.2         8  0.68119"
      ]
     },
     "execution_count": 21,
     "metadata": {},
     "output_type": "execute_result"
    }
   ],
   "source": [
    "a[a.score==score]"
   ]
  },
  {
   "cell_type": "code",
   "execution_count": 23,
   "id": "5a8dc129-25a3-4abd-9043-b33b22a321c2",
   "metadata": {},
   "outputs": [
    {
     "data": {
      "text/plain": [
       "array([-1,  0,  1,  2])"
      ]
     },
     "execution_count": 23,
     "metadata": {},
     "output_type": "execute_result"
    }
   ],
   "source": [
    "labels= DBSCAN(eps=0.2,min_samples=7).fit(features).labels_\n",
    "np.unique(labels)"
   ]
  },
  {
   "cell_type": "code",
   "execution_count": 24,
   "id": "32628a5e-746a-4587-b483-fe7d82d81b09",
   "metadata": {},
   "outputs": [
    {
     "data": {
      "text/plain": [
       "<Axes: xlabel='Weight', ylabel='Height'>"
      ]
     },
     "execution_count": 24,
     "metadata": {},
     "output_type": "execute_result"
    },
    {
     "data": {
      "image/png": "[encoded data removed]",
      "text/plain": [
       "<Figure size 640x480 with 1 Axes>"
      ]
     },
     "metadata": {},
     "output_type": "display_data"
    }
   ],
   "source": [
    "sns.scatterplot(data=features,x='Weight',y='Height',hue=labels)"
   ]
  },
  {
   "cell_type": "code",
   "execution_count": null,
   "id": "a7b1f74e-8987-4c63-997a-e8fa35e5c46a",
   "metadata": {},
   "outputs": [],
   "source": []
  }
 ],
 "metadata": {
  "kernelspec": {
   "display_name": "Python [conda env:base] *",
   "language": "python",
   "name": "conda-base-py"
  },
  "language_info": {
   "codemirror_mode": {
    "name": "ipython",
    "version": 3
   },
   "file_extension": ".py",
   "mimetype": "text/x-python",
   "name": "python",
   "nbconvert_exporter": "python",
   "pygments_lexer": "ipython3",
   "version": "3.13.5"
  }
 },
 "nbformat": 4,
 "nbformat_minor": 5
}
