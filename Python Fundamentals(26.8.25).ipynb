{
 "cells": [
  {
   "cell_type": "code",
   "execution_count": 1,
   "id": "f9fae815-d868-44c1-9aef-e72f0cc1ad0d",
   "metadata": {},
   "outputs": [],
   "source": [
    "### comparison operators\n",
    "a=20\n",
    "b=10"
   ]
  },
  {
   "cell_type": "code",
   "execution_count": 2,
   "id": "3a2f9b07-45fa-441a-836f-24c74ca8ec52",
   "metadata": {},
   "outputs": [
    {
     "data": {
      "text/plain": [
       "False"
      ]
     },
     "execution_count": 2,
     "metadata": {},
     "output_type": "execute_result"
    }
   ],
   "source": [
    "a==b"
   ]
  },
  {
   "cell_type": "code",
   "execution_count": 3,
   "id": "a29764f0-5b1a-4348-bff4-df45496abc07",
   "metadata": {},
   "outputs": [
    {
     "data": {
      "text/plain": [
       "True"
      ]
     },
     "execution_count": 3,
     "metadata": {},
     "output_type": "execute_result"
    }
   ],
   "source": [
    "a!=b"
   ]
  },
  {
   "cell_type": "code",
   "execution_count": 4,
   "id": "e9e4a940-7d87-4ef9-ac96-6e0161698453",
   "metadata": {},
   "outputs": [
    {
     "data": {
      "text/plain": [
       "True"
      ]
     },
     "execution_count": 4,
     "metadata": {},
     "output_type": "execute_result"
    }
   ],
   "source": [
    "a>b"
   ]
  },
  {
   "cell_type": "code",
   "execution_count": 5,
   "id": "9c7104da-798d-41fb-bb23-d601282e3142",
   "metadata": {},
   "outputs": [
    {
     "data": {
      "text/plain": [
       "False"
      ]
     },
     "execution_count": 5,
     "metadata": {},
     "output_type": "execute_result"
    }
   ],
   "source": [
    "a<b"
   ]
  },
  {
   "cell_type": "code",
   "execution_count": 6,
   "id": "9a64b258-d8a9-47f9-b7fe-f8a16b09d7ba",
   "metadata": {},
   "outputs": [
    {
     "data": {
      "text/plain": [
       "True"
      ]
     },
     "execution_count": 6,
     "metadata": {},
     "output_type": "execute_result"
    }
   ],
   "source": [
    "a>=b"
   ]
  },
  {
   "cell_type": "code",
   "execution_count": 7,
   "id": "bb6fabb2-474d-464a-9e78-351eeef390e0",
   "metadata": {},
   "outputs": [
    {
     "data": {
      "text/plain": [
       "False"
      ]
     },
     "execution_count": 7,
     "metadata": {},
     "output_type": "execute_result"
    }
   ],
   "source": [
    "a<=b"
   ]
  },
  {
   "cell_type": "code",
   "execution_count": 8,
   "id": "af7685ad-307f-4d40-9b5d-24c07a4a3683",
   "metadata": {},
   "outputs": [
    {
     "data": {
      "text/plain": [
       "False"
      ]
     },
     "execution_count": 8,
     "metadata": {},
     "output_type": "execute_result"
    }
   ],
   "source": [
    "### logical operators\n",
    "## and (&)\n",
    "(10==10) & (20>100)"
   ]
  },
  {
   "cell_type": "code",
   "execution_count": 9,
   "id": "542e122d-2e98-4880-885d-6e2856d0f03d",
   "metadata": {},
   "outputs": [
    {
     "data": {
      "text/plain": [
       "True"
      ]
     },
     "execution_count": 9,
     "metadata": {},
     "output_type": "execute_result"
    }
   ],
   "source": [
    "# or(|)\n",
    "(10==10) | (20>100)"
   ]
  },
  {
   "cell_type": "code",
   "execution_count": 11,
   "id": "e6e6f39f-7959-41b5-b72a-f10f6af22258",
   "metadata": {},
   "outputs": [
    {
     "data": {
      "text/plain": [
       "False"
      ]
     },
     "execution_count": 11,
     "metadata": {},
     "output_type": "execute_result"
    }
   ],
   "source": [
    "not(10==10)"
   ]
  },
  {
   "cell_type": "code",
   "execution_count": 12,
   "id": "c7cd96ef-3f24-4052-8fe7-4a501e8e7f58",
   "metadata": {},
   "outputs": [
    {
     "data": {
      "text/plain": [
       "20"
      ]
     },
     "execution_count": 12,
     "metadata": {},
     "output_type": "execute_result"
    }
   ],
   "source": [
    "## unary operators\n",
    "a"
   ]
  },
  {
   "cell_type": "code",
   "execution_count": 13,
   "id": "28d0ecfb-75ce-4055-be37-2d3419f4f829",
   "metadata": {},
   "outputs": [],
   "source": [
    "a+=5"
   ]
  },
  {
   "cell_type": "code",
   "execution_count": 14,
   "id": "e2f51a06-d4b6-40bc-bf52-47b768116b8d",
   "metadata": {},
   "outputs": [
    {
     "data": {
      "text/plain": [
       "25"
      ]
     },
     "execution_count": 14,
     "metadata": {},
     "output_type": "execute_result"
    }
   ],
   "source": [
    "a"
   ]
  },
  {
   "cell_type": "code",
   "execution_count": 15,
   "id": "5ba5fe3c-dd7b-470c-81c0-ac386e27a22d",
   "metadata": {},
   "outputs": [],
   "source": [
    "a-=5"
   ]
  },
  {
   "cell_type": "code",
   "execution_count": 16,
   "id": "3df9891d-e1d6-4a05-a0dc-800210898dba",
   "metadata": {},
   "outputs": [
    {
     "data": {
      "text/plain": [
       "20"
      ]
     },
     "execution_count": 16,
     "metadata": {},
     "output_type": "execute_result"
    }
   ],
   "source": [
    "a"
   ]
  },
  {
   "cell_type": "code",
   "execution_count": 17,
   "id": "e2d30659-a631-4709-a7ef-88f36b5b5fca",
   "metadata": {},
   "outputs": [],
   "source": [
    "a*=5"
   ]
  },
  {
   "cell_type": "code",
   "execution_count": 18,
   "id": "0625dfdd-e2eb-41c5-ad39-1b47abeca857",
   "metadata": {},
   "outputs": [
    {
     "data": {
      "text/plain": [
       "100"
      ]
     },
     "execution_count": 18,
     "metadata": {},
     "output_type": "execute_result"
    }
   ],
   "source": [
    "a"
   ]
  },
  {
   "cell_type": "code",
   "execution_count": 19,
   "id": "e652c2c1-ebcc-4f2a-87cf-54caf651bf4c",
   "metadata": {},
   "outputs": [],
   "source": [
    "a/=5"
   ]
  },
  {
   "cell_type": "code",
   "execution_count": 20,
   "id": "b5a85417-1fe2-4b90-b3c9-78c4d355257b",
   "metadata": {},
   "outputs": [
    {
     "data": {
      "text/plain": [
       "20.0"
      ]
     },
     "execution_count": 20,
     "metadata": {},
     "output_type": "execute_result"
    }
   ],
   "source": [
    "a"
   ]
  },
  {
   "cell_type": "markdown",
   "id": "2736329c-82c7-4699-9bdc-306d8c382364",
   "metadata": {},
   "source": [
    "### math"
   ]
  },
  {
   "cell_type": "code",
   "execution_count": 21,
   "id": "7edeb04f-2ecc-48f7-8f40-e661047e80c0",
   "metadata": {},
   "outputs": [],
   "source": [
    "import math"
   ]
  },
  {
   "cell_type": "code",
   "execution_count": 22,
   "id": "e3a363a6-91b1-440d-8374-7be268cecacc",
   "metadata": {},
   "outputs": [
    {
     "data": {
      "text/plain": [
       "2.0"
      ]
     },
     "execution_count": 22,
     "metadata": {},
     "output_type": "execute_result"
    }
   ],
   "source": [
    "math.sqrt(4)"
   ]
  },
  {
   "cell_type": "code",
   "execution_count": 23,
   "id": "693a48d3-6295-4671-89ff-b16c02880142",
   "metadata": {},
   "outputs": [
    {
     "data": {
      "text/plain": [
       "3.0"
      ]
     },
     "execution_count": 23,
     "metadata": {},
     "output_type": "execute_result"
    }
   ],
   "source": [
    "math.cbrt(27)"
   ]
  },
  {
   "cell_type": "code",
   "execution_count": 24,
   "id": "7fe5a781-7e20-48de-acf7-ee324466b35e",
   "metadata": {},
   "outputs": [
    {
     "data": {
      "text/plain": [
       "120"
      ]
     },
     "execution_count": 24,
     "metadata": {},
     "output_type": "execute_result"
    }
   ],
   "source": [
    "math.factorial(5)"
   ]
  },
  {
   "cell_type": "code",
   "execution_count": 25,
   "id": "84bfce3d-4d0e-4d87-8ea7-e9f98034c26b",
   "metadata": {},
   "outputs": [
    {
     "data": {
      "text/plain": [
       "1.0"
      ]
     },
     "execution_count": 25,
     "metadata": {},
     "output_type": "execute_result"
    }
   ],
   "source": [
    "math.exp(0)"
   ]
  },
  {
   "cell_type": "code",
   "execution_count": 26,
   "id": "011a396e-3bbc-488c-95c9-48316f7605ff",
   "metadata": {},
   "outputs": [
    {
     "data": {
      "text/plain": [
       "3.141592653589793"
      ]
     },
     "execution_count": 26,
     "metadata": {},
     "output_type": "execute_result"
    }
   ],
   "source": [
    "math.pi"
   ]
  },
  {
   "cell_type": "code",
   "execution_count": 27,
   "id": "b10f3fd2-e5e2-4481-86d1-daf33b49dd65",
   "metadata": {},
   "outputs": [
    {
     "data": {
      "text/plain": [
       "0.8939966636005579"
      ]
     },
     "execution_count": 27,
     "metadata": {},
     "output_type": "execute_result"
    }
   ],
   "source": [
    "math.sin(90)"
   ]
  },
  {
   "cell_type": "code",
   "execution_count": 28,
   "id": "6d48f5d3-0f22-4570-bf0b-6a24fe7f7176",
   "metadata": {},
   "outputs": [
    {
     "data": {
      "text/plain": [
       "1.0"
      ]
     },
     "execution_count": 28,
     "metadata": {},
     "output_type": "execute_result"
    }
   ],
   "source": [
    "math.sin(math.pi/2)"
   ]
  },
  {
   "cell_type": "code",
   "execution_count": 29,
   "id": "567a5ae0-d575-47b3-bb7c-d92a619eb788",
   "metadata": {},
   "outputs": [
    {
     "data": {
      "text/plain": [
       "0.6931471805599453"
      ]
     },
     "execution_count": 29,
     "metadata": {},
     "output_type": "execute_result"
    }
   ],
   "source": [
    "math.log(2)"
   ]
  },
  {
   "cell_type": "code",
   "execution_count": 30,
   "id": "a7346745-864c-4e71-83fa-e180ce1b61d9",
   "metadata": {},
   "outputs": [
    {
     "data": {
      "text/plain": [
       "1.0"
      ]
     },
     "execution_count": 30,
     "metadata": {},
     "output_type": "execute_result"
    }
   ],
   "source": [
    "math.log2(2)"
   ]
  },
  {
   "cell_type": "code",
   "execution_count": 31,
   "id": "52c801e3-f0fe-4e33-8363-d37f928a25e3",
   "metadata": {},
   "outputs": [
    {
     "data": {
      "text/plain": [
       "0.3010299956639812"
      ]
     },
     "execution_count": 31,
     "metadata": {},
     "output_type": "execute_result"
    }
   ],
   "source": [
    "math.log10(2)"
   ]
  },
  {
   "cell_type": "code",
   "execution_count": 32,
   "id": "bd21cc0d-891b-4488-9bca-cbb81daa14e2",
   "metadata": {},
   "outputs": [],
   "source": [
    "### Data types\n",
    "a=10"
   ]
  },
  {
   "cell_type": "code",
   "execution_count": 33,
   "id": "0ce38c2d-acc5-44d2-b7e9-ae19f94d8671",
   "metadata": {},
   "outputs": [
    {
     "data": {
      "text/plain": [
       "int"
      ]
     },
     "execution_count": 33,
     "metadata": {},
     "output_type": "execute_result"
    }
   ],
   "source": [
    "type(a)"
   ]
  },
  {
   "cell_type": "code",
   "execution_count": 34,
   "id": "f010ce00-e25e-4a3d-9f39-0539957f6df9",
   "metadata": {},
   "outputs": [],
   "source": [
    "a=20.5"
   ]
  },
  {
   "cell_type": "code",
   "execution_count": 35,
   "id": "e5240df7-871b-457d-bde6-f194b9184055",
   "metadata": {},
   "outputs": [
    {
     "data": {
      "text/plain": [
       "float"
      ]
     },
     "execution_count": 35,
     "metadata": {},
     "output_type": "execute_result"
    }
   ],
   "source": [
    "type(a)"
   ]
  },
  {
   "cell_type": "code",
   "execution_count": 36,
   "id": "01b2b12e-926d-430e-8e6f-187d0445260a",
   "metadata": {},
   "outputs": [],
   "source": [
    "a='python'"
   ]
  },
  {
   "cell_type": "code",
   "execution_count": 37,
   "id": "53fab97a-7f7e-4ccc-873a-82ae1251fd71",
   "metadata": {},
   "outputs": [
    {
     "data": {
      "text/plain": [
       "str"
      ]
     },
     "execution_count": 37,
     "metadata": {},
     "output_type": "execute_result"
    }
   ],
   "source": [
    "type(a)"
   ]
  },
  {
   "cell_type": "code",
   "execution_count": 38,
   "id": "1c5438f0-f11d-4df7-9f3b-087dc61511b2",
   "metadata": {},
   "outputs": [],
   "source": [
    "### Strings\n",
    "str1= 'Welcome to python class'"
   ]
  },
  {
   "cell_type": "code",
   "execution_count": 41,
   "id": "ec1d2168-bb53-4f71-b298-09419c89e1b0",
   "metadata": {},
   "outputs": [
    {
     "data": {
      "text/plain": [
       "'Welcome'"
      ]
     },
     "execution_count": 41,
     "metadata": {},
     "output_type": "execute_result"
    }
   ],
   "source": [
    "str1[0:7]"
   ]
  },
  {
   "cell_type": "code",
   "execution_count": 42,
   "id": "1814fcba-34a3-4cf7-a954-bdb26b88d53e",
   "metadata": {},
   "outputs": [
    {
     "data": {
      "text/plain": [
       "'python'"
      ]
     },
     "execution_count": 42,
     "metadata": {},
     "output_type": "execute_result"
    }
   ],
   "source": [
    "str1[11:17]"
   ]
  },
  {
   "cell_type": "code",
   "execution_count": 43,
   "id": "06893253-cf49-4b91-94e0-aeb58c63b7e8",
   "metadata": {},
   "outputs": [
    {
     "data": {
      "text/plain": [
       "'WELCOME TO PYTHON CLASS'"
      ]
     },
     "execution_count": 43,
     "metadata": {},
     "output_type": "execute_result"
    }
   ],
   "source": [
    "str1.upper()"
   ]
  },
  {
   "cell_type": "code",
   "execution_count": 44,
   "id": "b9cb4d73-6cf9-41b4-b8e5-370a271a485e",
   "metadata": {},
   "outputs": [
    {
     "data": {
      "text/plain": [
       "'welcome to python class'"
      ]
     },
     "execution_count": 44,
     "metadata": {},
     "output_type": "execute_result"
    }
   ],
   "source": [
    "str1.lower()"
   ]
  },
  {
   "cell_type": "code",
   "execution_count": 45,
   "id": "8cb50b85-1a92-439a-89c5-a01cf966f346",
   "metadata": {},
   "outputs": [
    {
     "data": {
      "text/plain": [
       "'Welcome to python class'"
      ]
     },
     "execution_count": 45,
     "metadata": {},
     "output_type": "execute_result"
    }
   ],
   "source": [
    "str1.capitalize()"
   ]
  },
  {
   "cell_type": "code",
   "execution_count": 46,
   "id": "0bead1b5-3abe-4d55-b639-09e6a4a8e8cc",
   "metadata": {},
   "outputs": [
    {
     "data": {
      "text/plain": [
       "'Welcome To Python Class'"
      ]
     },
     "execution_count": 46,
     "metadata": {},
     "output_type": "execute_result"
    }
   ],
   "source": [
    "str1.title()"
   ]
  },
  {
   "cell_type": "code",
   "execution_count": 47,
   "id": "d7ec5cb1-ef05-4fa3-b52e-52af129d4e8e",
   "metadata": {},
   "outputs": [
    {
     "data": {
      "text/plain": [
       "'wELCOME TO PYTHON CLASS'"
      ]
     },
     "execution_count": 47,
     "metadata": {},
     "output_type": "execute_result"
    }
   ],
   "source": [
    "str1.swapcase()"
   ]
  },
  {
   "cell_type": "code",
   "execution_count": 49,
   "id": "a139cad5-c382-4a81-8ecc-c2accdf2c48a",
   "metadata": {},
   "outputs": [
    {
     "data": {
      "text/plain": [
       "0"
      ]
     },
     "execution_count": 49,
     "metadata": {},
     "output_type": "execute_result"
    }
   ],
   "source": [
    "str1.index('W')"
   ]
  },
  {
   "cell_type": "code",
   "execution_count": 50,
   "id": "2c53e3fd-9b1a-47fb-bf99-7bae1b305d20",
   "metadata": {},
   "outputs": [
    {
     "data": {
      "text/plain": [
       "'Welcome to python class'"
      ]
     },
     "execution_count": 50,
     "metadata": {},
     "output_type": "execute_result"
    }
   ],
   "source": [
    "str1"
   ]
  },
  {
   "cell_type": "code",
   "execution_count": 53,
   "id": "a117f908-808a-49f1-ae77-7615ee954942",
   "metadata": {},
   "outputs": [
    {
     "data": {
      "text/plain": [
       "['Welcome', 'to', 'python', 'class']"
      ]
     },
     "execution_count": 53,
     "metadata": {},
     "output_type": "execute_result"
    }
   ],
   "source": [
    "str2=str1.split(' ')\n",
    "str2"
   ]
  },
  {
   "cell_type": "code",
   "execution_count": 54,
   "id": "588e6d13-52c2-4c96-9e67-b8c2eaa6e713",
   "metadata": {},
   "outputs": [],
   "source": [
    "### concat\n",
    "str1='sanjay'\n",
    "str3='kumar'"
   ]
  },
  {
   "cell_type": "code",
   "execution_count": 55,
   "id": "3639535e-2baa-4b8a-8367-a169ad0df98a",
   "metadata": {},
   "outputs": [
    {
     "data": {
      "text/plain": [
       "'sanjaykumar'"
      ]
     },
     "execution_count": 55,
     "metadata": {},
     "output_type": "execute_result"
    }
   ],
   "source": [
    "str1 + str3"
   ]
  },
  {
   "cell_type": "code",
   "execution_count": 57,
   "id": "2486cc4c-f3e5-4801-9f59-e18250c89bcc",
   "metadata": {},
   "outputs": [
    {
     "data": {
      "text/plain": [
       "'Welcome to python class'"
      ]
     },
     "execution_count": 57,
     "metadata": {},
     "output_type": "execute_result"
    }
   ],
   "source": [
    "## join\n",
    "' '.join(str2)"
   ]
  },
  {
   "cell_type": "code",
   "execution_count": 58,
   "id": "d8ed345e-b264-47de-a486-aa8959090ecc",
   "metadata": {},
   "outputs": [],
   "source": [
    "str2='   sanjay kumar       '"
   ]
  },
  {
   "cell_type": "code",
   "execution_count": 59,
   "id": "9eb4365e-11e0-492d-88a4-88c349f0b34a",
   "metadata": {},
   "outputs": [
    {
     "data": {
      "text/plain": [
       "'sanjay kumar'"
      ]
     },
     "execution_count": 59,
     "metadata": {},
     "output_type": "execute_result"
    }
   ],
   "source": [
    "str2.strip()"
   ]
  },
  {
   "cell_type": "code",
   "execution_count": 60,
   "id": "cd875d16-73bf-4108-b31e-70fea2fb244d",
   "metadata": {},
   "outputs": [
    {
     "data": {
      "text/plain": [
       "'sanjay kumar       '"
      ]
     },
     "execution_count": 60,
     "metadata": {},
     "output_type": "execute_result"
    }
   ],
   "source": [
    "str2.lstrip()"
   ]
  },
  {
   "cell_type": "code",
   "execution_count": 61,
   "id": "aa1eec4e-8cbc-403b-8933-6e446648deca",
   "metadata": {},
   "outputs": [
    {
     "data": {
      "text/plain": [
       "'   sanjay kumar'"
      ]
     },
     "execution_count": 61,
     "metadata": {},
     "output_type": "execute_result"
    }
   ],
   "source": [
    "str2.rstrip()"
   ]
  },
  {
   "cell_type": "markdown",
   "id": "436188e4-485e-4adb-9082-41f3da6ac3ac",
   "metadata": {},
   "source": [
    "### re"
   ]
  },
  {
   "cell_type": "code",
   "execution_count": 62,
   "id": "d0653232-53b3-476a-9e8a-5253b286d912",
   "metadata": {},
   "outputs": [],
   "source": [
    "import re"
   ]
  },
  {
   "cell_type": "code",
   "execution_count": 64,
   "id": "0a9e53e0-e496-4577-86c5-deb9fd152c11",
   "metadata": {},
   "outputs": [],
   "source": [
    "str1='Welcome to data science class 2025 !**&^()**.,'"
   ]
  },
  {
   "cell_type": "code",
   "execution_count": 71,
   "id": "ad062308-67a9-4753-9130-daaf2a10c2b9",
   "metadata": {},
   "outputs": [
    {
     "data": {
      "text/plain": [
       "['2025']"
      ]
     },
     "execution_count": 71,
     "metadata": {},
     "output_type": "execute_result"
    }
   ],
   "source": [
    "re.findall('2025',str1)"
   ]
  },
  {
   "cell_type": "code",
   "execution_count": 72,
   "id": "e71b185b-23f3-4129-a128-fc880c7ff5e6",
   "metadata": {},
   "outputs": [
    {
     "data": {
      "text/plain": [
       "<re.Match object; span=(30, 34), match='2025'>"
      ]
     },
     "execution_count": 72,
     "metadata": {},
     "output_type": "execute_result"
    }
   ],
   "source": [
    "re.search('2025',str1)"
   ]
  },
  {
   "cell_type": "code",
   "execution_count": 74,
   "id": "426fc3f1-c62e-4306-a06b-ddbea6349f69",
   "metadata": {},
   "outputs": [
    {
     "data": {
      "text/plain": [
       "['2025']"
      ]
     },
     "execution_count": 74,
     "metadata": {},
     "output_type": "execute_result"
    }
   ],
   "source": [
    "### \\d--extract only digits(Numbers)\n",
    "re.findall('\\d+',str1)"
   ]
  },
  {
   "cell_type": "code",
   "execution_count": 75,
   "id": "562b4402-770e-45f1-b616-5b7e7cc91ad9",
   "metadata": {},
   "outputs": [
    {
     "data": {
      "text/plain": [
       "['Welcome to data science class ', ' !**&^()**.,']"
      ]
     },
     "execution_count": 75,
     "metadata": {},
     "output_type": "execute_result"
    }
   ],
   "source": [
    "### \\D--extract except digits(Numbers)\n",
    "re.findall('\\D+',str1)"
   ]
  },
  {
   "cell_type": "code",
   "execution_count": 76,
   "id": "ee0afc13-85cd-49d7-9f0e-5b3ec4f50d91",
   "metadata": {},
   "outputs": [
    {
     "data": {
      "text/plain": [
       "[' ', ' ', ' ', ' ', ' ', ' ']"
      ]
     },
     "execution_count": 76,
     "metadata": {},
     "output_type": "execute_result"
    }
   ],
   "source": [
    "### \\s--extract only spaces\n",
    "re.findall('\\s+',str1)"
   ]
  },
  {
   "cell_type": "code",
   "execution_count": 77,
   "id": "3b961d0f-d67d-4ea7-809f-2290fdc2a425",
   "metadata": {},
   "outputs": [
    {
     "data": {
      "text/plain": [
       "['Welcome', 'to', 'data', 'science', 'class', '2025', '!**&^()**.,']"
      ]
     },
     "execution_count": 77,
     "metadata": {},
     "output_type": "execute_result"
    }
   ],
   "source": [
    "### \\S--extract except spaces\n",
    "re.findall('\\S+',str1)"
   ]
  },
  {
   "cell_type": "code",
   "execution_count": 78,
   "id": "4dd3b7a7-0ba8-4cf3-a439-16f79cafbb9e",
   "metadata": {},
   "outputs": [
    {
     "data": {
      "text/plain": [
       "['Welcome', 'to', 'data', 'science', 'class', '2025']"
      ]
     },
     "execution_count": 78,
     "metadata": {},
     "output_type": "execute_result"
    }
   ],
   "source": [
    "### \\w--extract except spaces and Non-alphaNumeric\n",
    "re.findall('\\w+',str1)"
   ]
  },
  {
   "cell_type": "code",
   "execution_count": 79,
   "id": "24b6b5fd-34b2-4737-af1b-e250c67ad4fb",
   "metadata": {},
   "outputs": [
    {
     "data": {
      "text/plain": [
       "[' ', ' ', ' ', ' ', ' ', ' !**&^()**.,']"
      ]
     },
     "execution_count": 79,
     "metadata": {},
     "output_type": "execute_result"
    }
   ],
   "source": [
    "### \\W--extract  spaces and Non-alphaNumeric\n",
    "re.findall('\\W+',str1)"
   ]
  },
  {
   "cell_type": "code",
   "execution_count": null,
   "id": "6ba25b11-b37d-4165-bc56-4fd4a45666be",
   "metadata": {},
   "outputs": [],
   "source": []
  }
 ],
 "metadata": {
  "kernelspec": {
   "display_name": "Python [conda env:base] *",
   "language": "python",
   "name": "conda-base-py"
  },
  "language_info": {
   "codemirror_mode": {
    "name": "ipython",
    "version": 3
   },
   "file_extension": ".py",
   "mimetype": "text/x-python",
   "name": "python",
   "nbconvert_exporter": "python",
   "pygments_lexer": "ipython3",
   "version": "3.13.5"
  }
 },
 "nbformat": 4,
 "nbformat_minor": 5
}
