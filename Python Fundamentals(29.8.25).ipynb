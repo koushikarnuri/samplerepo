{
 "cells": [
  {
   "cell_type": "code",
   "execution_count": 7,
   "id": "f556a967-f26a-4aba-aff5-32d1d2951662",
   "metadata": {},
   "outputs": [],
   "source": [
    "import numpy as np"
   ]
  },
  {
   "cell_type": "code",
   "execution_count": 16,
   "id": "a79e2e5d-7df0-4d68-a8bc-70d58c7c08c1",
   "metadata": {},
   "outputs": [],
   "source": [
    "### one_dim\n",
    "one_dim= np.array([2,4,6,10,8,19,100])"
   ]
  },
  {
   "cell_type": "code",
   "execution_count": 17,
   "id": "c23a89fa-a21a-4904-afe0-581f2c6daf81",
   "metadata": {},
   "outputs": [
    {
     "data": {
      "text/plain": [
       "numpy.ndarray"
      ]
     },
     "execution_count": 17,
     "metadata": {},
     "output_type": "execute_result"
    }
   ],
   "source": [
    "type(one_dim)"
   ]
  },
  {
   "cell_type": "code",
   "execution_count": 18,
   "id": "ee5ad393-afa7-443f-865b-dd5539c35a3c",
   "metadata": {},
   "outputs": [
    {
     "data": {
      "text/plain": [
       "1"
      ]
     },
     "execution_count": 18,
     "metadata": {},
     "output_type": "execute_result"
    }
   ],
   "source": [
    "one_dim.ndim"
   ]
  },
  {
   "cell_type": "code",
   "execution_count": 19,
   "id": "49d8e196-0452-4c7d-b793-5c61364da98f",
   "metadata": {},
   "outputs": [
    {
     "data": {
      "text/plain": [
       "7"
      ]
     },
     "execution_count": 19,
     "metadata": {},
     "output_type": "execute_result"
    }
   ],
   "source": [
    "one_dim.size"
   ]
  },
  {
   "cell_type": "code",
   "execution_count": 20,
   "id": "48bc76ed-223e-4833-a66d-c0fb11b02b73",
   "metadata": {},
   "outputs": [],
   "source": [
    "one_dim[3]=100"
   ]
  },
  {
   "cell_type": "code",
   "execution_count": 21,
   "id": "017da3c9-fa21-4a2e-8b46-a8b780197216",
   "metadata": {},
   "outputs": [
    {
     "data": {
      "text/plain": [
       "array([  2,   4,   6, 100,   8,  19, 100])"
      ]
     },
     "execution_count": 21,
     "metadata": {},
     "output_type": "execute_result"
    }
   ],
   "source": [
    "one_dim"
   ]
  },
  {
   "cell_type": "code",
   "execution_count": 23,
   "id": "996422b0-a7fa-4e68-9dc2-4c91b2b2f04b",
   "metadata": {},
   "outputs": [
    {
     "data": {
      "text/plain": [
       "(array([4]),)"
      ]
     },
     "execution_count": 23,
     "metadata": {},
     "output_type": "execute_result"
    }
   ],
   "source": [
    "np.where(one_dim==8)"
   ]
  },
  {
   "cell_type": "code",
   "execution_count": 26,
   "id": "83dd0f6c-3807-40d9-b0a2-b2705d647e6f",
   "metadata": {},
   "outputs": [],
   "source": [
    "one_dim1=np.insert(one_dim,5,200)"
   ]
  },
  {
   "cell_type": "code",
   "execution_count": 28,
   "id": "d6258a17-f748-4561-85d9-e4dd4d51c630",
   "metadata": {},
   "outputs": [
    {
     "data": {
      "text/plain": [
       "array([  2,   4,   6, 100,   8,  19, 100])"
      ]
     },
     "execution_count": 28,
     "metadata": {},
     "output_type": "execute_result"
    }
   ],
   "source": [
    "one_dim"
   ]
  },
  {
   "cell_type": "code",
   "execution_count": 29,
   "id": "cff8f9c4-0a66-4d26-9862-06e320b70b8c",
   "metadata": {},
   "outputs": [
    {
     "data": {
      "text/plain": [
       "array([  2,   4,   6,   8,  19, 100])"
      ]
     },
     "execution_count": 29,
     "metadata": {},
     "output_type": "execute_result"
    }
   ],
   "source": [
    "np.delete(one_dim,3)"
   ]
  },
  {
   "cell_type": "code",
   "execution_count": 30,
   "id": "52393f24-f8d6-44c7-b851-05b4470dcee0",
   "metadata": {},
   "outputs": [
    {
     "data": {
      "text/plain": [
       "array([  2,   4,   6, 100,   8,  19, 100])"
      ]
     },
     "execution_count": 30,
     "metadata": {},
     "output_type": "execute_result"
    }
   ],
   "source": [
    "one_dim"
   ]
  },
  {
   "cell_type": "code",
   "execution_count": 31,
   "id": "7314675b-132f-42a8-aaf4-f2311e38b4df",
   "metadata": {},
   "outputs": [
    {
     "data": {
      "text/plain": [
       "np.int64(100)"
      ]
     },
     "execution_count": 31,
     "metadata": {},
     "output_type": "execute_result"
    }
   ],
   "source": [
    "np.max(one_dim)"
   ]
  },
  {
   "cell_type": "code",
   "execution_count": 32,
   "id": "edf2dfa1-3ec7-4fb4-ba49-1d65a30257fc",
   "metadata": {},
   "outputs": [
    {
     "data": {
      "text/plain": [
       "np.int64(2)"
      ]
     },
     "execution_count": 32,
     "metadata": {},
     "output_type": "execute_result"
    }
   ],
   "source": [
    "np.min(one_dim)"
   ]
  },
  {
   "cell_type": "code",
   "execution_count": 33,
   "id": "89fa56af-7419-4d1e-9855-f5db107b4683",
   "metadata": {},
   "outputs": [
    {
     "data": {
      "text/plain": [
       "np.float64(34.142857142857146)"
      ]
     },
     "execution_count": 33,
     "metadata": {},
     "output_type": "execute_result"
    }
   ],
   "source": [
    "np.mean(one_dim)"
   ]
  },
  {
   "cell_type": "code",
   "execution_count": 34,
   "id": "55ff84f7-28b5-4d85-b524-693a253d1b88",
   "metadata": {},
   "outputs": [
    {
     "data": {
      "text/plain": [
       "np.float64(8.0)"
      ]
     },
     "execution_count": 34,
     "metadata": {},
     "output_type": "execute_result"
    }
   ],
   "source": [
    "np.median(one_dim)"
   ]
  },
  {
   "cell_type": "code",
   "execution_count": 35,
   "id": "6c7c5c6b-2b98-4da7-9142-06a383d712cb",
   "metadata": {},
   "outputs": [
    {
     "data": {
      "text/plain": [
       "np.int64(239)"
      ]
     },
     "execution_count": 35,
     "metadata": {},
     "output_type": "execute_result"
    }
   ],
   "source": [
    "np.sum(one_dim)"
   ]
  },
  {
   "cell_type": "code",
   "execution_count": 36,
   "id": "55adc32e-6f8f-4869-8a1e-037fcd5ab866",
   "metadata": {},
   "outputs": [
    {
     "data": {
      "text/plain": [
       "np.int64(3)"
      ]
     },
     "execution_count": 36,
     "metadata": {},
     "output_type": "execute_result"
    }
   ],
   "source": [
    "np.argmax(one_dim)"
   ]
  },
  {
   "cell_type": "code",
   "execution_count": 37,
   "id": "d10b4d35-9fcc-4886-8b9d-9bf0f980bf03",
   "metadata": {},
   "outputs": [
    {
     "data": {
      "text/plain": [
       "array([  2,   4,   6,   8,  19, 100])"
      ]
     },
     "execution_count": 37,
     "metadata": {},
     "output_type": "execute_result"
    }
   ],
   "source": [
    "np.unique(one_dim)"
   ]
  },
  {
   "cell_type": "code",
   "execution_count": 49,
   "id": "8b72dd22-3161-4ea8-8d2f-c260b425acac",
   "metadata": {},
   "outputs": [
    {
     "data": {
      "text/plain": [
       "array([1, 3, 5, 7, 9])"
      ]
     },
     "execution_count": 49,
     "metadata": {},
     "output_type": "execute_result"
    }
   ],
   "source": [
    "np.arange(1,10,2)"
   ]
  },
  {
   "cell_type": "code",
   "execution_count": 46,
   "id": "be64252c-bd3e-4000-bd8a-0340f3a5a48f",
   "metadata": {},
   "outputs": [
    {
     "data": {
      "text/plain": [
       "array([89, 71, 14, 43,  3, 41, 49, 52, 63, 19, 90, 74], dtype=int32)"
      ]
     },
     "execution_count": 46,
     "metadata": {},
     "output_type": "execute_result"
    }
   ],
   "source": [
    "np.random.randint(1,100,12)"
   ]
  },
  {
   "cell_type": "markdown",
   "id": "39f8188c-508d-4097-aace-d8172296afe6",
   "metadata": {},
   "source": [
    "##### Two dimensional Array"
   ]
  },
  {
   "cell_type": "code",
   "execution_count": 50,
   "id": "4d600869-bd28-48df-8b9b-07a8d5b7c7c7",
   "metadata": {},
   "outputs": [
    {
     "data": {
      "text/plain": [
       "array([[ 2,  4,  6],\n",
       "       [ 8, 10, 12],\n",
       "       [14, 16, 18]])"
      ]
     },
     "execution_count": 50,
     "metadata": {},
     "output_type": "execute_result"
    }
   ],
   "source": [
    "two_dim= np.array([[2,4,6],[8,10,12],[14,16,18]])\n",
    "two_dim"
   ]
  },
  {
   "cell_type": "code",
   "execution_count": 51,
   "id": "968fe17c-401c-4026-87eb-90441ce70d4b",
   "metadata": {},
   "outputs": [
    {
     "data": {
      "text/plain": [
       "2"
      ]
     },
     "execution_count": 51,
     "metadata": {},
     "output_type": "execute_result"
    }
   ],
   "source": [
    "two_dim.ndim"
   ]
  },
  {
   "cell_type": "code",
   "execution_count": 52,
   "id": "8e036128-4a1a-499a-b47d-7db054ea61c3",
   "metadata": {},
   "outputs": [
    {
     "data": {
      "text/plain": [
       "9"
      ]
     },
     "execution_count": 52,
     "metadata": {},
     "output_type": "execute_result"
    }
   ],
   "source": [
    "two_dim.size"
   ]
  },
  {
   "cell_type": "code",
   "execution_count": 53,
   "id": "b582ffe1-b0a9-46df-b456-fc29bacbe775",
   "metadata": {},
   "outputs": [
    {
     "data": {
      "text/plain": [
       "(3, 3)"
      ]
     },
     "execution_count": 53,
     "metadata": {},
     "output_type": "execute_result"
    }
   ],
   "source": [
    "two_dim.shape"
   ]
  },
  {
   "cell_type": "code",
   "execution_count": 55,
   "id": "7317a3fd-5505-45c0-94f8-109701766725",
   "metadata": {},
   "outputs": [],
   "source": [
    "two_dim[2,2]=28"
   ]
  },
  {
   "cell_type": "code",
   "execution_count": 56,
   "id": "9ffeed6b-e7fc-4e92-87e2-1cba0ede0230",
   "metadata": {},
   "outputs": [
    {
     "data": {
      "text/plain": [
       "array([[ 2,  4,  6],\n",
       "       [ 8, 10, 12],\n",
       "       [14, 16, 28]])"
      ]
     },
     "execution_count": 56,
     "metadata": {},
     "output_type": "execute_result"
    }
   ],
   "source": [
    "two_dim"
   ]
  },
  {
   "cell_type": "code",
   "execution_count": 57,
   "id": "b34a4dbb-0265-44c8-b563-b2f3ebed823b",
   "metadata": {},
   "outputs": [
    {
     "data": {
      "text/plain": [
       "array([[2, 2]])"
      ]
     },
     "execution_count": 57,
     "metadata": {},
     "output_type": "execute_result"
    }
   ],
   "source": [
    "np.argwhere(two_dim==28)"
   ]
  },
  {
   "cell_type": "code",
   "execution_count": 62,
   "id": "677a140b-9390-487a-8db1-f65986932791",
   "metadata": {},
   "outputs": [
    {
     "data": {
      "text/plain": [
       "array([[ 1,  2,  3],\n",
       "       [ 4,  5,  6],\n",
       "       [ 7,  8,  9],\n",
       "       [10, 11, 12]])"
      ]
     },
     "execution_count": 62,
     "metadata": {},
     "output_type": "execute_result"
    }
   ],
   "source": [
    "np.arange(1,13).reshape(4,3)"
   ]
  },
  {
   "cell_type": "code",
   "execution_count": 63,
   "id": "67afb8cb-900d-4e6e-8122-760a62524479",
   "metadata": {},
   "outputs": [
    {
     "data": {
      "text/plain": [
       "array([[79, 17, 92, 17],\n",
       "       [32, 83, 22,  5],\n",
       "       [69, 36, 38, 20],\n",
       "       [82, 96, 92, 54]], dtype=int32)"
      ]
     },
     "execution_count": 63,
     "metadata": {},
     "output_type": "execute_result"
    }
   ],
   "source": [
    "two_dim= np.random.randint(1,100,16).reshape(4,4)\n",
    "two_dim"
   ]
  },
  {
   "cell_type": "code",
   "execution_count": 69,
   "id": "bc36730e-ffb6-45d7-aee7-c07fbda73ef0",
   "metadata": {},
   "outputs": [
    {
     "data": {
      "text/plain": [
       "array([79, 17, 92, 17], dtype=int32)"
      ]
     },
     "execution_count": 69,
     "metadata": {},
     "output_type": "execute_result"
    }
   ],
   "source": [
    "two_dim[0]"
   ]
  },
  {
   "cell_type": "code",
   "execution_count": 70,
   "id": "61a1f9ee-0139-49bb-a0f7-17b80c1a5a65",
   "metadata": {},
   "outputs": [
    {
     "data": {
      "text/plain": [
       "array([[79, 17, 92, 17],\n",
       "       [32, 83, 22,  5],\n",
       "       [69, 36, 38, 20]], dtype=int32)"
      ]
     },
     "execution_count": 70,
     "metadata": {},
     "output_type": "execute_result"
    }
   ],
   "source": [
    "two_dim[:3]"
   ]
  },
  {
   "cell_type": "code",
   "execution_count": 71,
   "id": "49e87e1e-a085-4192-869d-ac5da458cb0b",
   "metadata": {},
   "outputs": [
    {
     "data": {
      "text/plain": [
       "array([[79, 17, 92],\n",
       "       [32, 83, 22],\n",
       "       [69, 36, 38],\n",
       "       [82, 96, 92]], dtype=int32)"
      ]
     },
     "execution_count": 71,
     "metadata": {},
     "output_type": "execute_result"
    }
   ],
   "source": [
    "two_dim[:,:3]"
   ]
  },
  {
   "cell_type": "code",
   "execution_count": 72,
   "id": "471dfd84-baf7-4ef9-b343-a92eceee8345",
   "metadata": {},
   "outputs": [
    {
     "data": {
      "text/plain": [
       "array([[79, 17, 92, 17],\n",
       "       [32, 83, 22,  5],\n",
       "       [82, 96, 92, 54]], dtype=int32)"
      ]
     },
     "execution_count": 72,
     "metadata": {},
     "output_type": "execute_result"
    }
   ],
   "source": [
    "two_dim[[0,1,3]]"
   ]
  },
  {
   "cell_type": "code",
   "execution_count": 73,
   "id": "dcff6b05-bf9f-43dd-9f30-b4d614b01547",
   "metadata": {},
   "outputs": [
    {
     "data": {
      "text/plain": [
       "array([[17, 17],\n",
       "       [83,  5],\n",
       "       [36, 20],\n",
       "       [96, 54]], dtype=int32)"
      ]
     },
     "execution_count": 73,
     "metadata": {},
     "output_type": "execute_result"
    }
   ],
   "source": [
    "two_dim[:,[1,3]]"
   ]
  },
  {
   "cell_type": "code",
   "execution_count": 74,
   "id": "dae18b7a-5682-4103-80ab-0d1c7c2955de",
   "metadata": {},
   "outputs": [
    {
     "data": {
      "text/plain": [
       "array([[79, 17, 92, 17],\n",
       "       [32, 83, 22,  5],\n",
       "       [69, 36, 38, 20],\n",
       "       [82, 96, 92, 54]], dtype=int32)"
      ]
     },
     "execution_count": 74,
     "metadata": {},
     "output_type": "execute_result"
    }
   ],
   "source": [
    "two_dim"
   ]
  },
  {
   "cell_type": "code",
   "execution_count": 77,
   "id": "b8408892-2c75-45c9-93e5-1112bd8cb810",
   "metadata": {},
   "outputs": [
    {
     "data": {
      "text/plain": [
       "array([[79, 17, 10, 92, 17],\n",
       "       [32, 83, 20, 22,  5],\n",
       "       [69, 36, 30, 38, 20],\n",
       "       [82, 96, 40, 92, 54]], dtype=int32)"
      ]
     },
     "execution_count": 77,
     "metadata": {},
     "output_type": "execute_result"
    }
   ],
   "source": [
    "## axis=0 for rows, axis=1 for columns\n",
    "np.insert(two_dim,2,[10,20,30,40],axis=1)"
   ]
  },
  {
   "cell_type": "code",
   "execution_count": 78,
   "id": "d48d5d4e-af62-4353-9e1f-0856f489f28a",
   "metadata": {},
   "outputs": [
    {
     "data": {
      "text/plain": [
       "array([[79, 17, 92, 17],\n",
       "       [32, 83, 22,  5],\n",
       "       [69, 36, 38, 20],\n",
       "       [82, 96, 92, 54]], dtype=int32)"
      ]
     },
     "execution_count": 78,
     "metadata": {},
     "output_type": "execute_result"
    }
   ],
   "source": [
    "two_dim"
   ]
  },
  {
   "cell_type": "code",
   "execution_count": null,
   "id": "23db518f-052f-49a7-b273-9c3d23f8a4f0",
   "metadata": {},
   "outputs": [],
   "source": []
  }
 ],
 "metadata": {
  "kernelspec": {
   "display_name": "Python [conda env:base] *",
   "language": "python",
   "name": "conda-base-py"
  },
  "language_info": {
   "codemirror_mode": {
    "name": "ipython",
    "version": 3
   },
   "file_extension": ".py",
   "mimetype": "text/x-python",
   "name": "python",
   "nbconvert_exporter": "python",
   "pygments_lexer": "ipython3",
   "version": "3.13.5"
  }
 },
 "nbformat": 4,
 "nbformat_minor": 5
}
