{
 "cells": [
  {
   "cell_type": "code",
   "execution_count": 2,
   "id": "2f322cbb",
   "metadata": {},
   "outputs": [],
   "source": [
    "# Aritnmetic Operations"
   ]
  },
  {
   "cell_type": "code",
   "execution_count": 1,
   "id": "e68069dc",
   "metadata": {},
   "outputs": [
    {
     "data": {
      "text/plain": [
       "5"
      ]
     },
     "execution_count": 1,
     "metadata": {},
     "output_type": "execute_result"
    }
   ],
   "source": [
    "2+3"
   ]
  },
  {
   "cell_type": "code",
   "execution_count": 2,
   "id": "8a8eb16b",
   "metadata": {},
   "outputs": [],
   "source": [
    "a=20\n",
    "b=10"
   ]
  },
  {
   "cell_type": "code",
   "execution_count": 3,
   "id": "1d7d3167",
   "metadata": {},
   "outputs": [
    {
     "data": {
      "text/plain": [
       "(20, 10)"
      ]
     },
     "execution_count": 3,
     "metadata": {},
     "output_type": "execute_result"
    }
   ],
   "source": [
    "a,b"
   ]
  },
  {
   "cell_type": "code",
   "execution_count": 4,
   "id": "a3359c92",
   "metadata": {},
   "outputs": [
    {
     "data": {
      "text/plain": [
       "10"
      ]
     },
     "execution_count": 4,
     "metadata": {},
     "output_type": "execute_result"
    }
   ],
   "source": [
    "a-b"
   ]
  },
  {
   "cell_type": "code",
   "execution_count": 5,
   "id": "bdd740c7",
   "metadata": {},
   "outputs": [
    {
     "name": "stdout",
     "output_type": "stream",
     "text": [
      "multiplication: 200\n",
      "addition: 30\n",
      "subtraction: 10\n",
      "quotient is : 2.0 remainder is : 0\n",
      "square of the number:  100\n"
     ]
    }
   ],
   "source": [
    "print('multiplication:',a*b)\n",
    "print('addition:',a+b)\n",
    "print('subtraction:',a-b)\n",
    "print('quotient is :',a/b,'remainder is :',a%b)\n",
    "print('square of the number: ',10**2)"
   ]
  },
  {
   "cell_type": "code",
   "execution_count": 6,
   "id": "e85a0924",
   "metadata": {},
   "outputs": [],
   "source": [
    "# conditional operators\n",
    "# <,>,<=,>=,==,!="
   ]
  },
  {
   "cell_type": "code",
   "execution_count": 7,
   "id": "b30b08f7",
   "metadata": {},
   "outputs": [
    {
     "data": {
      "text/plain": [
       "False"
      ]
     },
     "execution_count": 7,
     "metadata": {},
     "output_type": "execute_result"
    }
   ],
   "source": [
    "2>20"
   ]
  },
  {
   "cell_type": "code",
   "execution_count": 8,
   "id": "e7d84e62",
   "metadata": {},
   "outputs": [
    {
     "data": {
      "text/plain": [
       "True"
      ]
     },
     "execution_count": 8,
     "metadata": {},
     "output_type": "execute_result"
    }
   ],
   "source": [
    "2<=20"
   ]
  },
  {
   "cell_type": "code",
   "execution_count": 9,
   "id": "43cb0037",
   "metadata": {},
   "outputs": [
    {
     "data": {
      "text/plain": [
       "True"
      ]
     },
     "execution_count": 9,
     "metadata": {},
     "output_type": "execute_result"
    }
   ],
   "source": [
    "2==2"
   ]
  },
  {
   "cell_type": "code",
   "execution_count": 10,
   "id": "de059ad1",
   "metadata": {},
   "outputs": [
    {
     "data": {
      "text/plain": [
       "True"
      ]
     },
     "execution_count": 10,
     "metadata": {},
     "output_type": "execute_result"
    }
   ],
   "source": [
    "2!=10"
   ]
  },
  {
   "cell_type": "code",
   "execution_count": 11,
   "id": "13244c53",
   "metadata": {},
   "outputs": [],
   "source": [
    "## logical_operators\n",
    "## and, or, not"
   ]
  },
  {
   "cell_type": "code",
   "execution_count": 12,
   "id": "38c3c536",
   "metadata": {},
   "outputs": [
    {
     "data": {
      "text/plain": [
       "True"
      ]
     },
     "execution_count": 12,
     "metadata": {},
     "output_type": "execute_result"
    }
   ],
   "source": [
    "(10==10) & (10>5)"
   ]
  },
  {
   "cell_type": "code",
   "execution_count": 13,
   "id": "79d4b5a4",
   "metadata": {},
   "outputs": [
    {
     "data": {
      "text/plain": [
       "True"
      ]
     },
     "execution_count": 13,
     "metadata": {},
     "output_type": "execute_result"
    }
   ],
   "source": [
    "(10==10) | (10<1)"
   ]
  },
  {
   "cell_type": "code",
   "execution_count": 14,
   "id": "5a7888d6",
   "metadata": {},
   "outputs": [
    {
     "data": {
      "text/plain": [
       "True"
      ]
     },
     "execution_count": 14,
     "metadata": {},
     "output_type": "execute_result"
    }
   ],
   "source": [
    "not(10!=10)"
   ]
  },
  {
   "cell_type": "code",
   "execution_count": 15,
   "id": "2a68a683",
   "metadata": {},
   "outputs": [],
   "source": [
    "## Data types"
   ]
  },
  {
   "cell_type": "code",
   "execution_count": 16,
   "id": "ae7015fe",
   "metadata": {},
   "outputs": [],
   "source": [
    "a=10"
   ]
  },
  {
   "cell_type": "code",
   "execution_count": 17,
   "id": "5ba4a9c1",
   "metadata": {},
   "outputs": [
    {
     "data": {
      "text/plain": [
       "int"
      ]
     },
     "execution_count": 17,
     "metadata": {},
     "output_type": "execute_result"
    }
   ],
   "source": [
    "type(a)"
   ]
  },
  {
   "cell_type": "code",
   "execution_count": 18,
   "id": "4fd26524",
   "metadata": {},
   "outputs": [],
   "source": [
    "b=20.5"
   ]
  },
  {
   "cell_type": "code",
   "execution_count": 19,
   "id": "746a5ee4",
   "metadata": {},
   "outputs": [
    {
     "data": {
      "text/plain": [
       "float"
      ]
     },
     "execution_count": 19,
     "metadata": {},
     "output_type": "execute_result"
    }
   ],
   "source": [
    "type(b)"
   ]
  },
  {
   "cell_type": "code",
   "execution_count": 20,
   "id": "cdde3d6f",
   "metadata": {},
   "outputs": [],
   "source": [
    "c='rajesh'"
   ]
  },
  {
   "cell_type": "code",
   "execution_count": 21,
   "id": "e4f7d731",
   "metadata": {},
   "outputs": [
    {
     "data": {
      "text/plain": [
       "str"
      ]
     },
     "execution_count": 21,
     "metadata": {},
     "output_type": "execute_result"
    }
   ],
   "source": [
    "type(c)"
   ]
  },
  {
   "cell_type": "code",
   "execution_count": 22,
   "id": "77dd297a",
   "metadata": {},
   "outputs": [],
   "source": [
    "## strings\n",
    "str1='welcome to python programming class'"
   ]
  },
  {
   "cell_type": "code",
   "execution_count": 23,
   "id": "fa0ce5ed",
   "metadata": {},
   "outputs": [
    {
     "data": {
      "text/plain": [
       "str"
      ]
     },
     "execution_count": 23,
     "metadata": {},
     "output_type": "execute_result"
    }
   ],
   "source": [
    "type(str1)"
   ]
  },
  {
   "cell_type": "code",
   "execution_count": 24,
   "id": "cc3b6ce3",
   "metadata": {},
   "outputs": [
    {
     "data": {
      "text/plain": [
       "35"
      ]
     },
     "execution_count": 24,
     "metadata": {},
     "output_type": "execute_result"
    }
   ],
   "source": [
    "len(str1)"
   ]
  },
  {
   "cell_type": "code",
   "execution_count": 25,
   "id": "530fa6cb",
   "metadata": {},
   "outputs": [
    {
     "data": {
      "text/plain": [
       "'welcome'"
      ]
     },
     "execution_count": 25,
     "metadata": {},
     "output_type": "execute_result"
    }
   ],
   "source": [
    "str1[0:7]"
   ]
  },
  {
   "cell_type": "code",
   "execution_count": 26,
   "id": "c5a4161d",
   "metadata": {},
   "outputs": [
    {
     "data": {
      "text/plain": [
       "True"
      ]
     },
     "execution_count": 26,
     "metadata": {},
     "output_type": "execute_result"
    }
   ],
   "source": [
    "'welcome'==\"welcome\""
   ]
  },
  {
   "cell_type": "code",
   "execution_count": 27,
   "id": "c36f4ca3",
   "metadata": {},
   "outputs": [
    {
     "data": {
      "text/plain": [
       "'python'"
      ]
     },
     "execution_count": 27,
     "metadata": {},
     "output_type": "execute_result"
    }
   ],
   "source": [
    "str1[11:17]"
   ]
  },
  {
   "cell_type": "code",
   "execution_count": 28,
   "id": "74fdefae",
   "metadata": {},
   "outputs": [
    {
     "data": {
      "text/plain": [
       "'welcome to python programming class'"
      ]
     },
     "execution_count": 28,
     "metadata": {},
     "output_type": "execute_result"
    }
   ],
   "source": [
    "str1"
   ]
  },
  {
   "cell_type": "code",
   "execution_count": 29,
   "id": "1fb0f7de",
   "metadata": {},
   "outputs": [
    {
     "data": {
      "text/plain": [
       "18"
      ]
     },
     "execution_count": 29,
     "metadata": {},
     "output_type": "execute_result"
    }
   ],
   "source": [
    "str1.index('p',12)"
   ]
  },
  {
   "cell_type": "code",
   "execution_count": 30,
   "id": "eafaa186",
   "metadata": {},
   "outputs": [
    {
     "data": {
      "text/plain": [
       "'WELCOME TO PYTHON PROGRAMMING CLASS'"
      ]
     },
     "execution_count": 30,
     "metadata": {},
     "output_type": "execute_result"
    }
   ],
   "source": [
    "str1.upper()"
   ]
  },
  {
   "cell_type": "code",
   "execution_count": 31,
   "id": "66bbcbf9",
   "metadata": {},
   "outputs": [
    {
     "data": {
      "text/plain": [
       "'welcome to python programming class'"
      ]
     },
     "execution_count": 31,
     "metadata": {},
     "output_type": "execute_result"
    }
   ],
   "source": [
    "str1.lower()"
   ]
  },
  {
   "cell_type": "code",
   "execution_count": 32,
   "id": "4b421bf8",
   "metadata": {},
   "outputs": [
    {
     "data": {
      "text/plain": [
       "'Welcome To Python Programming Class'"
      ]
     },
     "execution_count": 32,
     "metadata": {},
     "output_type": "execute_result"
    }
   ],
   "source": [
    "str1.title()"
   ]
  },
  {
   "cell_type": "code",
   "execution_count": 33,
   "id": "40f0ec42",
   "metadata": {},
   "outputs": [],
   "source": [
    "## concat"
   ]
  },
  {
   "cell_type": "code",
   "execution_count": 34,
   "id": "597aa145",
   "metadata": {},
   "outputs": [],
   "source": [
    "str2='WELCOME to programming'"
   ]
  },
  {
   "cell_type": "code",
   "execution_count": 35,
   "id": "8fa2f94d",
   "metadata": {},
   "outputs": [
    {
     "data": {
      "text/plain": [
       "'welcome TO PROGRAMMING'"
      ]
     },
     "execution_count": 35,
     "metadata": {},
     "output_type": "execute_result"
    }
   ],
   "source": [
    "str2.swapcase()"
   ]
  },
  {
   "cell_type": "code",
   "execution_count": 36,
   "id": "cb930ec6",
   "metadata": {},
   "outputs": [],
   "source": [
    "## concat\n",
    "str2='sanjay'\n",
    "str3='kumar'"
   ]
  },
  {
   "cell_type": "code",
   "execution_count": 37,
   "id": "7b18b8d0",
   "metadata": {},
   "outputs": [
    {
     "data": {
      "text/plain": [
       "'sanjaykumar'"
      ]
     },
     "execution_count": 37,
     "metadata": {},
     "output_type": "execute_result"
    }
   ],
   "source": [
    "str2+str3"
   ]
  },
  {
   "cell_type": "code",
   "execution_count": 38,
   "id": "e718a51b",
   "metadata": {},
   "outputs": [
    {
     "data": {
      "text/plain": [
       "'sanjay kumar'"
      ]
     },
     "execution_count": 38,
     "metadata": {},
     "output_type": "execute_result"
    }
   ],
   "source": [
    "str2+' '+str3"
   ]
  },
  {
   "cell_type": "code",
   "execution_count": 39,
   "id": "b18df92f",
   "metadata": {},
   "outputs": [],
   "source": [
    "## strip used to remove the unnecessary spaces in the string\n",
    "str2='            rajesh        '"
   ]
  },
  {
   "cell_type": "code",
   "execution_count": 40,
   "id": "39b8413f",
   "metadata": {},
   "outputs": [
    {
     "data": {
      "text/plain": [
       "'rajesh        '"
      ]
     },
     "execution_count": 40,
     "metadata": {},
     "output_type": "execute_result"
    }
   ],
   "source": [
    "str2.lstrip()"
   ]
  },
  {
   "cell_type": "code",
   "execution_count": 41,
   "id": "87088bcd",
   "metadata": {},
   "outputs": [
    {
     "data": {
      "text/plain": [
       "'            rajesh'"
      ]
     },
     "execution_count": 41,
     "metadata": {},
     "output_type": "execute_result"
    }
   ],
   "source": [
    "str2.rstrip()"
   ]
  },
  {
   "cell_type": "code",
   "execution_count": 42,
   "id": "180ed148",
   "metadata": {},
   "outputs": [
    {
     "data": {
      "text/plain": [
       "'rajesh'"
      ]
     },
     "execution_count": 42,
     "metadata": {},
     "output_type": "execute_result"
    }
   ],
   "source": [
    "str2.strip()"
   ]
  },
  {
   "cell_type": "code",
   "execution_count": 43,
   "id": "cfbbe5ba",
   "metadata": {},
   "outputs": [],
   "source": [
    "str2='python java programming'"
   ]
  },
  {
   "cell_type": "code",
   "execution_count": 44,
   "id": "c1893251",
   "metadata": {},
   "outputs": [],
   "source": [
    "## split used to split the words respect to the seperator\n",
    "str3=str2.split(' ')"
   ]
  },
  {
   "cell_type": "code",
   "execution_count": 45,
   "id": "e8b31207",
   "metadata": {},
   "outputs": [
    {
     "data": {
      "text/plain": [
       "['python', 'java', 'programming']"
      ]
     },
     "execution_count": 45,
     "metadata": {},
     "output_type": "execute_result"
    }
   ],
   "source": [
    "str3"
   ]
  },
  {
   "cell_type": "code",
   "execution_count": 46,
   "id": "b76f2221",
   "metadata": {},
   "outputs": [
    {
     "data": {
      "text/plain": [
       "'python java programming'"
      ]
     },
     "execution_count": 46,
     "metadata": {},
     "output_type": "execute_result"
    }
   ],
   "source": [
    "## join used to concate the words in as string\n",
    "' '.join(str3)"
   ]
  },
  {
   "cell_type": "markdown",
   "id": "39773561",
   "metadata": {},
   "source": [
    "# re"
   ]
  },
  {
   "cell_type": "code",
   "execution_count": 47,
   "id": "973d5828",
   "metadata": {},
   "outputs": [],
   "source": [
    "import re"
   ]
  },
  {
   "cell_type": "code",
   "execution_count": 48,
   "id": "12977880",
   "metadata": {},
   "outputs": [
    {
     "data": {
      "text/plain": [
       "'welcome to python programming class'"
      ]
     },
     "execution_count": 48,
     "metadata": {},
     "output_type": "execute_result"
    }
   ],
   "source": [
    "str1"
   ]
  },
  {
   "cell_type": "code",
   "execution_count": 49,
   "id": "9d14ba7e",
   "metadata": {},
   "outputs": [
    {
     "data": {
      "text/plain": [
       "['class']"
      ]
     },
     "execution_count": 49,
     "metadata": {},
     "output_type": "execute_result"
    }
   ],
   "source": [
    "re.findall('class',str1)"
   ]
  },
  {
   "cell_type": "code",
   "execution_count": 50,
   "id": "d78f69cd",
   "metadata": {},
   "outputs": [
    {
     "data": {
      "text/plain": [
       "<re.Match object; span=(0, 7), match='welcome'>"
      ]
     },
     "execution_count": 50,
     "metadata": {},
     "output_type": "execute_result"
    }
   ],
   "source": [
    "re.search('welcome',str1)"
   ]
  },
  {
   "cell_type": "code",
   "execution_count": 51,
   "id": "e03e57ba",
   "metadata": {},
   "outputs": [
    {
     "data": {
      "text/plain": [
       "<re.Match object; span=(0, 7), match='welcome'>"
      ]
     },
     "execution_count": 51,
     "metadata": {},
     "output_type": "execute_result"
    }
   ],
   "source": [
    "re.match('welcome',str1)"
   ]
  },
  {
   "cell_type": "code",
   "execution_count": 52,
   "id": "13926d6c",
   "metadata": {},
   "outputs": [
    {
     "data": {
      "text/plain": [
       "<re.Match object; span=(0, 35), match='welcome to python programming class'>"
      ]
     },
     "execution_count": 52,
     "metadata": {},
     "output_type": "execute_result"
    }
   ],
   "source": [
    "re.fullmatch('welcome to python programming class',str1)"
   ]
  },
  {
   "cell_type": "code",
   "execution_count": 53,
   "id": "60501a7a",
   "metadata": {},
   "outputs": [],
   "source": [
    "## Patterns\n",
    "#\\d--access only decimals"
   ]
  },
  {
   "cell_type": "code",
   "execution_count": 54,
   "id": "868aca9a",
   "metadata": {},
   "outputs": [],
   "source": [
    "str1='welcome to python programming class 2024&&&^%*'"
   ]
  },
  {
   "cell_type": "code",
   "execution_count": 55,
   "id": "31246f6f",
   "metadata": {},
   "outputs": [
    {
     "data": {
      "text/plain": [
       "['2024']"
      ]
     },
     "execution_count": 55,
     "metadata": {},
     "output_type": "execute_result"
    }
   ],
   "source": [
    "a=re.findall('\\d+',str1)\n",
    "a"
   ]
  },
  {
   "cell_type": "code",
   "execution_count": 56,
   "id": "d09f262d",
   "metadata": {},
   "outputs": [],
   "source": [
    "import warnings\n",
    "warnings.filterwarnings('ignore')"
   ]
  },
  {
   "cell_type": "code",
   "execution_count": 57,
   "id": "78dc057c",
   "metadata": {},
   "outputs": [],
   "source": [
    "#\\D--access only except decimals"
   ]
  },
  {
   "cell_type": "code",
   "execution_count": 58,
   "id": "a9a2c83c",
   "metadata": {},
   "outputs": [
    {
     "data": {
      "text/plain": [
       "['welcome to python programming class ', '&&&^%*']"
      ]
     },
     "execution_count": 58,
     "metadata": {},
     "output_type": "execute_result"
    }
   ],
   "source": [
    "re.findall('\\D+',str1)"
   ]
  },
  {
   "cell_type": "code",
   "execution_count": 59,
   "id": "7efcb2ec",
   "metadata": {},
   "outputs": [],
   "source": [
    "##\\s-- access only the spaces"
   ]
  },
  {
   "cell_type": "code",
   "execution_count": 60,
   "id": "ebc80565",
   "metadata": {},
   "outputs": [
    {
     "data": {
      "text/plain": [
       "[' ', ' ', ' ', ' ', ' ']"
      ]
     },
     "execution_count": 60,
     "metadata": {},
     "output_type": "execute_result"
    }
   ],
   "source": [
    "re.findall('\\s+',str1)"
   ]
  },
  {
   "cell_type": "code",
   "execution_count": null,
   "id": "f228ef74",
   "metadata": {},
   "outputs": [],
   "source": [
    "## \\S--access except spaces"
   ]
  },
  {
   "cell_type": "code",
   "execution_count": 66,
   "id": "91d780e0",
   "metadata": {},
   "outputs": [
    {
     "data": {
      "text/plain": [
       "['welcome', 'to', 'python', 'programming', 'class', '2024&&&^%*']"
      ]
     },
     "execution_count": 66,
     "metadata": {},
     "output_type": "execute_result"
    }
   ],
   "source": [
    "re.findall('\\S+',str1)"
   ]
  },
  {
   "cell_type": "code",
   "execution_count": 62,
   "id": "86a30240",
   "metadata": {},
   "outputs": [],
   "source": [
    "##\\w-- access except space and non alphanumeric"
   ]
  },
  {
   "cell_type": "code",
   "execution_count": 67,
   "id": "a30255a7",
   "metadata": {},
   "outputs": [
    {
     "data": {
      "text/plain": [
       "['welcome', 'to', 'python', 'programming', 'class', '2024']"
      ]
     },
     "execution_count": 67,
     "metadata": {},
     "output_type": "execute_result"
    }
   ],
   "source": [
    "re.findall('\\w+',str1)"
   ]
  },
  {
   "cell_type": "code",
   "execution_count": 65,
   "id": "5f25b299",
   "metadata": {},
   "outputs": [
    {
     "data": {
      "text/plain": [
       "[' ', ' ', ' ', ' ', ' ', '&&&^%*']"
      ]
     },
     "execution_count": 65,
     "metadata": {},
     "output_type": "execute_result"
    }
   ],
   "source": [
    "##\\W--access spaces and non-alphanumeric\n",
    "re.findall('\\W+',str1)"
   ]
  },
  {
   "cell_type": "code",
   "execution_count": null,
   "id": "4864d492",
   "metadata": {},
   "outputs": [],
   "source": []
  }
 ],
 "metadata": {
  "kernelspec": {
   "display_name": "Python 3 (ipykernel)",
   "language": "python",
   "name": "python3"
  },
  "language_info": {
   "codemirror_mode": {
    "name": "ipython",
    "version": 3
   },
   "file_extension": ".py",
   "mimetype": "text/x-python",
   "name": "python",
   "nbconvert_exporter": "python",
   "pygments_lexer": "ipython3",
   "version": "3.11.5"
  }
 },
 "nbformat": 4,
 "nbformat_minor": 5
}
