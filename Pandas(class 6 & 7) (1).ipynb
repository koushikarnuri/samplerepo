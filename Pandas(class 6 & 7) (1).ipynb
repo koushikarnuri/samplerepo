{
 "cells": [
  {
   "cell_type": "code",
   "execution_count": 1,
   "id": "fca31fa0",
   "metadata": {},
   "outputs": [],
   "source": [
    "import pandas as pd"
   ]
  },
  {
   "cell_type": "code",
   "execution_count": 2,
   "id": "2a058934",
   "metadata": {},
   "outputs": [],
   "source": [
    "## Series"
   ]
  },
  {
   "cell_type": "code",
   "execution_count": 114,
   "id": "753d1f54",
   "metadata": {},
   "outputs": [
    {
     "data": {
      "text/plain": [
       "0    10\n",
       "1    20\n",
       "2    30\n",
       "3    40\n",
       "dtype: int64"
      ]
     },
     "execution_count": 114,
     "metadata": {},
     "output_type": "execute_result"
    }
   ],
   "source": [
    "list1=[10,20,30,40]\n",
    "pd.Series(list1)"
   ]
  },
  {
   "cell_type": "code",
   "execution_count": 107,
   "id": "a76799b0",
   "metadata": {},
   "outputs": [
    {
     "data": {
      "text/plain": [
       "1     90\n",
       "2    100\n",
       "3     70\n",
       "4     99\n",
       "dtype: int64"
      ]
     },
     "execution_count": 107,
     "metadata": {},
     "output_type": "execute_result"
    }
   ],
   "source": [
    "pd.Series(data=[90,100,70,99],index=[1,2,3,4])"
   ]
  },
  {
   "cell_type": "code",
   "execution_count": 112,
   "id": "c7f2dbd5",
   "metadata": {},
   "outputs": [],
   "source": [
    "ser1= pd.Series(data=[100,90.5,80,88],index=['ajay','sanjay','ramesh','ravi'])"
   ]
  },
  {
   "cell_type": "code",
   "execution_count": 113,
   "id": "98852116",
   "metadata": {},
   "outputs": [
    {
     "data": {
      "text/plain": [
       "ajay      100.0\n",
       "sanjay     90.5\n",
       "ramesh     80.0\n",
       "ravi       88.0\n",
       "dtype: float64"
      ]
     },
     "execution_count": 113,
     "metadata": {},
     "output_type": "execute_result"
    }
   ],
   "source": [
    "ser1"
   ]
  },
  {
   "cell_type": "code",
   "execution_count": 121,
   "id": "d9693d1d",
   "metadata": {},
   "outputs": [
    {
     "data": {
      "text/plain": [
       "ajay      100.0\n",
       "sanjay     90.5\n",
       "ramesh     80.0\n",
       "dtype: float64"
      ]
     },
     "execution_count": 121,
     "metadata": {},
     "output_type": "execute_result"
    }
   ],
   "source": [
    "ser1['ajay':'ramesh']"
   ]
  },
  {
   "cell_type": "code",
   "execution_count": 118,
   "id": "9cc0989e",
   "metadata": {},
   "outputs": [
    {
     "data": {
      "text/plain": [
       "ajay      100.0\n",
       "ramesh     80.0\n",
       "ravi       88.0\n",
       "dtype: float64"
      ]
     },
     "execution_count": 118,
     "metadata": {},
     "output_type": "execute_result"
    }
   ],
   "source": [
    "ser1[['ajay','ramesh','ravi']]"
   ]
  },
  {
   "cell_type": "code",
   "execution_count": 8,
   "id": "0ac22eea",
   "metadata": {},
   "outputs": [
    {
     "data": {
      "text/plain": [
       "ajay    100\n",
       "ravi     88\n",
       "dtype: int64"
      ]
     },
     "execution_count": 8,
     "metadata": {},
     "output_type": "execute_result"
    }
   ],
   "source": [
    "ser1[['ajay','ravi']]"
   ]
  },
  {
   "cell_type": "code",
   "execution_count": 10,
   "id": "eb155da1",
   "metadata": {},
   "outputs": [
    {
     "data": {
      "text/plain": [
       "ajay      100\n",
       "sanjay     90\n",
       "ramesh     80\n",
       "dtype: int64"
      ]
     },
     "execution_count": 10,
     "metadata": {},
     "output_type": "execute_result"
    }
   ],
   "source": [
    "ser1['ajay':'ramesh']"
   ]
  },
  {
   "cell_type": "code",
   "execution_count": 122,
   "id": "d37f0d2b",
   "metadata": {},
   "outputs": [
    {
     "data": {
      "text/plain": [
       "ajay      100.0\n",
       "sanjay     90.5\n",
       "ramesh     80.0\n",
       "ravi       88.0\n",
       "dtype: float64"
      ]
     },
     "execution_count": 122,
     "metadata": {},
     "output_type": "execute_result"
    }
   ],
   "source": [
    "ser1"
   ]
  },
  {
   "cell_type": "code",
   "execution_count": 123,
   "id": "c0bb899f",
   "metadata": {},
   "outputs": [
    {
     "data": {
      "text/plain": [
       "100.0"
      ]
     },
     "execution_count": 123,
     "metadata": {},
     "output_type": "execute_result"
    }
   ],
   "source": [
    "ser1.max()"
   ]
  },
  {
   "cell_type": "code",
   "execution_count": 12,
   "id": "e41cabbf",
   "metadata": {},
   "outputs": [
    {
     "data": {
      "text/plain": [
       "89.5"
      ]
     },
     "execution_count": 12,
     "metadata": {},
     "output_type": "execute_result"
    }
   ],
   "source": [
    "ser1.mean()"
   ]
  },
  {
   "cell_type": "code",
   "execution_count": 125,
   "id": "1e93728b",
   "metadata": {},
   "outputs": [
    {
     "data": {
      "text/plain": [
       "89.25"
      ]
     },
     "execution_count": 125,
     "metadata": {},
     "output_type": "execute_result"
    }
   ],
   "source": [
    "ser1.median()"
   ]
  },
  {
   "cell_type": "code",
   "execution_count": 124,
   "id": "3a9dcbb0",
   "metadata": {},
   "outputs": [
    {
     "data": {
      "text/plain": [
       "80.0"
      ]
     },
     "execution_count": 124,
     "metadata": {},
     "output_type": "execute_result"
    }
   ],
   "source": [
    "ser1.min()"
   ]
  },
  {
   "cell_type": "code",
   "execution_count": 127,
   "id": "b36d5c08",
   "metadata": {},
   "outputs": [
    {
     "data": {
      "text/plain": [
       "ajay      100.0\n",
       "sanjay     90.5\n",
       "ramesh     80.0\n",
       "ravi       88.0\n",
       "dtype: float64"
      ]
     },
     "execution_count": 127,
     "metadata": {},
     "output_type": "execute_result"
    }
   ],
   "source": [
    "ser1"
   ]
  },
  {
   "cell_type": "code",
   "execution_count": 130,
   "id": "603fbe34",
   "metadata": {},
   "outputs": [
    {
     "data": {
      "text/plain": [
       "ajay      100.0\n",
       "sanjay     90.5\n",
       "dtype: float64"
      ]
     },
     "execution_count": 130,
     "metadata": {},
     "output_type": "execute_result"
    }
   ],
   "source": [
    "ser1[ser1>90]"
   ]
  },
  {
   "cell_type": "code",
   "execution_count": 149,
   "id": "2453b2b9",
   "metadata": {},
   "outputs": [
    {
     "name": "stdout",
     "output_type": "stream",
     "text": [
      "1\n",
      "2\n",
      "3\n",
      "4\n"
     ]
    }
   ],
   "source": [
    "range(1,5)\n",
    "for i in range(1,5):\n",
    "    print(i)"
   ]
  },
  {
   "cell_type": "markdown",
   "id": "0cc2d356",
   "metadata": {},
   "source": [
    "## DataFrame"
   ]
  },
  {
   "cell_type": "code",
   "execution_count": 131,
   "id": "94d2a768",
   "metadata": {},
   "outputs": [],
   "source": [
    "dict1={'names':['ajay','sanjay','ramesh','suman'],'age':[22,23,24,25],'Gender':['male','male','male','female'],'location':['bengaluru','mumbai','chennai','calcutta']}"
   ]
  },
  {
   "cell_type": "code",
   "execution_count": 146,
   "id": "c68f76f5",
   "metadata": {},
   "outputs": [],
   "source": [
    "df= pd.DataFrame(data=dict1,index=range(1,5))"
   ]
  },
  {
   "cell_type": "code",
   "execution_count": 147,
   "id": "3ed827c7",
   "metadata": {},
   "outputs": [
    {
     "data": {
      "text/html": [
       "<div>\n",
       "<style scoped>\n",
       "    .dataframe tbody tr th:only-of-type {\n",
       "        vertical-align: middle;\n",
       "    }\n",
       "\n",
       "    .dataframe tbody tr th {\n",
       "        vertical-align: top;\n",
       "    }\n",
       "\n",
       "    .dataframe thead th {\n",
       "        text-align: right;\n",
       "    }\n",
       "</style>\n",
       "<table border=\"1\" class=\"dataframe\">\n",
       "  <thead>\n",
       "    <tr style=\"text-align: right;\">\n",
       "      <th></th>\n",
       "      <th>names</th>\n",
       "      <th>age</th>\n",
       "      <th>Gender</th>\n",
       "      <th>location</th>\n",
       "    </tr>\n",
       "  </thead>\n",
       "  <tbody>\n",
       "    <tr>\n",
       "      <th>1</th>\n",
       "      <td>ajay</td>\n",
       "      <td>22</td>\n",
       "      <td>male</td>\n",
       "      <td>bengaluru</td>\n",
       "    </tr>\n",
       "    <tr>\n",
       "      <th>2</th>\n",
       "      <td>sanjay</td>\n",
       "      <td>23</td>\n",
       "      <td>male</td>\n",
       "      <td>mumbai</td>\n",
       "    </tr>\n",
       "    <tr>\n",
       "      <th>3</th>\n",
       "      <td>ramesh</td>\n",
       "      <td>24</td>\n",
       "      <td>male</td>\n",
       "      <td>chennai</td>\n",
       "    </tr>\n",
       "    <tr>\n",
       "      <th>4</th>\n",
       "      <td>suman</td>\n",
       "      <td>25</td>\n",
       "      <td>female</td>\n",
       "      <td>calcutta</td>\n",
       "    </tr>\n",
       "  </tbody>\n",
       "</table>\n",
       "</div>"
      ],
      "text/plain": [
       "    names  age  Gender   location\n",
       "1    ajay   22    male  bengaluru\n",
       "2  sanjay   23    male     mumbai\n",
       "3  ramesh   24    male    chennai\n",
       "4   suman   25  female   calcutta"
      ]
     },
     "execution_count": 147,
     "metadata": {},
     "output_type": "execute_result"
    }
   ],
   "source": [
    "df"
   ]
  },
  {
   "cell_type": "code",
   "execution_count": 19,
   "id": "b5677c6e",
   "metadata": {},
   "outputs": [
    {
     "data": {
      "text/plain": [
       "(4, 4)"
      ]
     },
     "execution_count": 19,
     "metadata": {},
     "output_type": "execute_result"
    }
   ],
   "source": [
    "df.shape"
   ]
  },
  {
   "cell_type": "code",
   "execution_count": 20,
   "id": "7eea14c4",
   "metadata": {},
   "outputs": [
    {
     "data": {
      "text/plain": [
       "16"
      ]
     },
     "execution_count": 20,
     "metadata": {},
     "output_type": "execute_result"
    }
   ],
   "source": [
    "df.size"
   ]
  },
  {
   "cell_type": "code",
   "execution_count": 22,
   "id": "adfa3387",
   "metadata": {},
   "outputs": [
    {
     "name": "stdout",
     "output_type": "stream",
     "text": [
      "<class 'pandas.core.frame.DataFrame'>\n",
      "RangeIndex: 4 entries, 0 to 3\n",
      "Data columns (total 4 columns):\n",
      " #   Column    Non-Null Count  Dtype \n",
      "---  ------    --------------  ----- \n",
      " 0   names     4 non-null      object\n",
      " 1   age       4 non-null      int64 \n",
      " 2   Gender    4 non-null      object\n",
      " 3   location  4 non-null      object\n",
      "dtypes: int64(1), object(3)\n",
      "memory usage: 260.0+ bytes\n"
     ]
    }
   ],
   "source": [
    "df.info()"
   ]
  },
  {
   "cell_type": "code",
   "execution_count": 23,
   "id": "4730ac61",
   "metadata": {},
   "outputs": [
    {
     "data": {
      "text/plain": [
       "Index(['names', 'age', 'Gender', 'location'], dtype='object')"
      ]
     },
     "execution_count": 23,
     "metadata": {},
     "output_type": "execute_result"
    }
   ],
   "source": [
    "df.columns"
   ]
  },
  {
   "cell_type": "code",
   "execution_count": 25,
   "id": "9aec0347",
   "metadata": {},
   "outputs": [
    {
     "data": {
      "text/html": [
       "<div>\n",
       "<style scoped>\n",
       "    .dataframe tbody tr th:only-of-type {\n",
       "        vertical-align: middle;\n",
       "    }\n",
       "\n",
       "    .dataframe tbody tr th {\n",
       "        vertical-align: top;\n",
       "    }\n",
       "\n",
       "    .dataframe thead th {\n",
       "        text-align: right;\n",
       "    }\n",
       "</style>\n",
       "<table border=\"1\" class=\"dataframe\">\n",
       "  <thead>\n",
       "    <tr style=\"text-align: right;\">\n",
       "      <th></th>\n",
       "      <th>names</th>\n",
       "      <th>age</th>\n",
       "      <th>Gender</th>\n",
       "      <th>location</th>\n",
       "    </tr>\n",
       "  </thead>\n",
       "  <tbody>\n",
       "    <tr>\n",
       "      <th>2</th>\n",
       "      <td>ramesh</td>\n",
       "      <td>24</td>\n",
       "      <td>male</td>\n",
       "      <td>chennai</td>\n",
       "    </tr>\n",
       "    <tr>\n",
       "      <th>3</th>\n",
       "      <td>suman</td>\n",
       "      <td>25</td>\n",
       "      <td>female</td>\n",
       "      <td>calcutta</td>\n",
       "    </tr>\n",
       "  </tbody>\n",
       "</table>\n",
       "</div>"
      ],
      "text/plain": [
       "    names  age  Gender  location\n",
       "2  ramesh   24    male   chennai\n",
       "3   suman   25  female  calcutta"
      ]
     },
     "execution_count": 25,
     "metadata": {},
     "output_type": "execute_result"
    }
   ],
   "source": [
    "df[df['age']>23]"
   ]
  },
  {
   "cell_type": "code",
   "execution_count": 26,
   "id": "0ce1eb17",
   "metadata": {},
   "outputs": [
    {
     "data": {
      "text/html": [
       "<div>\n",
       "<style scoped>\n",
       "    .dataframe tbody tr th:only-of-type {\n",
       "        vertical-align: middle;\n",
       "    }\n",
       "\n",
       "    .dataframe tbody tr th {\n",
       "        vertical-align: top;\n",
       "    }\n",
       "\n",
       "    .dataframe thead th {\n",
       "        text-align: right;\n",
       "    }\n",
       "</style>\n",
       "<table border=\"1\" class=\"dataframe\">\n",
       "  <thead>\n",
       "    <tr style=\"text-align: right;\">\n",
       "      <th></th>\n",
       "      <th>names</th>\n",
       "      <th>Gender</th>\n",
       "      <th>location</th>\n",
       "    </tr>\n",
       "  </thead>\n",
       "  <tbody>\n",
       "    <tr>\n",
       "      <th>0</th>\n",
       "      <td>ajay</td>\n",
       "      <td>male</td>\n",
       "      <td>bengaluru</td>\n",
       "    </tr>\n",
       "    <tr>\n",
       "      <th>1</th>\n",
       "      <td>sanjay</td>\n",
       "      <td>male</td>\n",
       "      <td>mumbai</td>\n",
       "    </tr>\n",
       "    <tr>\n",
       "      <th>2</th>\n",
       "      <td>ramesh</td>\n",
       "      <td>male</td>\n",
       "      <td>chennai</td>\n",
       "    </tr>\n",
       "    <tr>\n",
       "      <th>3</th>\n",
       "      <td>suman</td>\n",
       "      <td>female</td>\n",
       "      <td>calcutta</td>\n",
       "    </tr>\n",
       "  </tbody>\n",
       "</table>\n",
       "</div>"
      ],
      "text/plain": [
       "    names  Gender   location\n",
       "0    ajay    male  bengaluru\n",
       "1  sanjay    male     mumbai\n",
       "2  ramesh    male    chennai\n",
       "3   suman  female   calcutta"
      ]
     },
     "execution_count": 26,
     "metadata": {},
     "output_type": "execute_result"
    }
   ],
   "source": [
    "df.drop('age',axis=1)"
   ]
  },
  {
   "cell_type": "code",
   "execution_count": 27,
   "id": "23f96d56",
   "metadata": {},
   "outputs": [
    {
     "data": {
      "text/html": [
       "<div>\n",
       "<style scoped>\n",
       "    .dataframe tbody tr th:only-of-type {\n",
       "        vertical-align: middle;\n",
       "    }\n",
       "\n",
       "    .dataframe tbody tr th {\n",
       "        vertical-align: top;\n",
       "    }\n",
       "\n",
       "    .dataframe thead th {\n",
       "        text-align: right;\n",
       "    }\n",
       "</style>\n",
       "<table border=\"1\" class=\"dataframe\">\n",
       "  <thead>\n",
       "    <tr style=\"text-align: right;\">\n",
       "      <th></th>\n",
       "      <th>names</th>\n",
       "      <th>age</th>\n",
       "      <th>Gender</th>\n",
       "      <th>location</th>\n",
       "    </tr>\n",
       "  </thead>\n",
       "  <tbody>\n",
       "    <tr>\n",
       "      <th>3</th>\n",
       "      <td>suman</td>\n",
       "      <td>25</td>\n",
       "      <td>female</td>\n",
       "      <td>calcutta</td>\n",
       "    </tr>\n",
       "    <tr>\n",
       "      <th>2</th>\n",
       "      <td>ramesh</td>\n",
       "      <td>24</td>\n",
       "      <td>male</td>\n",
       "      <td>chennai</td>\n",
       "    </tr>\n",
       "    <tr>\n",
       "      <th>1</th>\n",
       "      <td>sanjay</td>\n",
       "      <td>23</td>\n",
       "      <td>male</td>\n",
       "      <td>mumbai</td>\n",
       "    </tr>\n",
       "    <tr>\n",
       "      <th>0</th>\n",
       "      <td>ajay</td>\n",
       "      <td>22</td>\n",
       "      <td>male</td>\n",
       "      <td>bengaluru</td>\n",
       "    </tr>\n",
       "  </tbody>\n",
       "</table>\n",
       "</div>"
      ],
      "text/plain": [
       "    names  age  Gender   location\n",
       "3   suman   25  female   calcutta\n",
       "2  ramesh   24    male    chennai\n",
       "1  sanjay   23    male     mumbai\n",
       "0    ajay   22    male  bengaluru"
      ]
     },
     "execution_count": 27,
     "metadata": {},
     "output_type": "execute_result"
    }
   ],
   "source": [
    "df.sort_index(ascending=False)"
   ]
  },
  {
   "cell_type": "code",
   "execution_count": 29,
   "id": "46206ad0",
   "metadata": {},
   "outputs": [
    {
     "data": {
      "text/html": [
       "<div>\n",
       "<style scoped>\n",
       "    .dataframe tbody tr th:only-of-type {\n",
       "        vertical-align: middle;\n",
       "    }\n",
       "\n",
       "    .dataframe tbody tr th {\n",
       "        vertical-align: top;\n",
       "    }\n",
       "\n",
       "    .dataframe thead th {\n",
       "        text-align: right;\n",
       "    }\n",
       "</style>\n",
       "<table border=\"1\" class=\"dataframe\">\n",
       "  <thead>\n",
       "    <tr style=\"text-align: right;\">\n",
       "      <th></th>\n",
       "      <th>names</th>\n",
       "      <th>age</th>\n",
       "      <th>Gender</th>\n",
       "      <th>location</th>\n",
       "    </tr>\n",
       "  </thead>\n",
       "  <tbody>\n",
       "    <tr>\n",
       "      <th>0</th>\n",
       "      <td>ajay</td>\n",
       "      <td>22</td>\n",
       "      <td>male</td>\n",
       "      <td>bengaluru</td>\n",
       "    </tr>\n",
       "    <tr>\n",
       "      <th>2</th>\n",
       "      <td>ramesh</td>\n",
       "      <td>24</td>\n",
       "      <td>male</td>\n",
       "      <td>chennai</td>\n",
       "    </tr>\n",
       "    <tr>\n",
       "      <th>1</th>\n",
       "      <td>sanjay</td>\n",
       "      <td>23</td>\n",
       "      <td>male</td>\n",
       "      <td>mumbai</td>\n",
       "    </tr>\n",
       "    <tr>\n",
       "      <th>3</th>\n",
       "      <td>suman</td>\n",
       "      <td>25</td>\n",
       "      <td>female</td>\n",
       "      <td>calcutta</td>\n",
       "    </tr>\n",
       "  </tbody>\n",
       "</table>\n",
       "</div>"
      ],
      "text/plain": [
       "    names  age  Gender   location\n",
       "0    ajay   22    male  bengaluru\n",
       "2  ramesh   24    male    chennai\n",
       "1  sanjay   23    male     mumbai\n",
       "3   suman   25  female   calcutta"
      ]
     },
     "execution_count": 29,
     "metadata": {},
     "output_type": "execute_result"
    }
   ],
   "source": [
    "df.sort_values('names')"
   ]
  },
  {
   "cell_type": "code",
   "execution_count": 30,
   "id": "e78f1df1",
   "metadata": {},
   "outputs": [],
   "source": [
    "## Read a File"
   ]
  },
  {
   "cell_type": "code",
   "execution_count": 97,
   "id": "5852fe49",
   "metadata": {},
   "outputs": [],
   "source": [
    "df= pd.read_csv('CARS_1.csv')"
   ]
  },
  {
   "cell_type": "code",
   "execution_count": 98,
   "id": "9492d985",
   "metadata": {},
   "outputs": [
    {
     "data": {
      "text/html": [
       "<div>\n",
       "<style scoped>\n",
       "    .dataframe tbody tr th:only-of-type {\n",
       "        vertical-align: middle;\n",
       "    }\n",
       "\n",
       "    .dataframe tbody tr th {\n",
       "        vertical-align: top;\n",
       "    }\n",
       "\n",
       "    .dataframe thead th {\n",
       "        text-align: right;\n",
       "    }\n",
       "</style>\n",
       "<table border=\"1\" class=\"dataframe\">\n",
       "  <thead>\n",
       "    <tr style=\"text-align: right;\">\n",
       "      <th></th>\n",
       "      <th>name_of_car</th>\n",
       "      <th>Model</th>\n",
       "      <th>Type</th>\n",
       "      <th>Origin</th>\n",
       "      <th>DriveTrain</th>\n",
       "      <th>MSRP</th>\n",
       "      <th>Invoice</th>\n",
       "      <th>EngineSize</th>\n",
       "      <th>Cylinders</th>\n",
       "      <th>Horsepower</th>\n",
       "      <th>MPG_City</th>\n",
       "      <th>MPG_Highway</th>\n",
       "      <th>Weight</th>\n",
       "      <th>Wheelbase</th>\n",
       "      <th>Length</th>\n",
       "      <th>Unnamed: 15</th>\n",
       "    </tr>\n",
       "  </thead>\n",
       "  <tbody>\n",
       "    <tr>\n",
       "      <th>0</th>\n",
       "      <td>Acura</td>\n",
       "      <td>NSX coupe 2dr manual S</td>\n",
       "      <td>Sports</td>\n",
       "      <td>Asia</td>\n",
       "      <td>Rear</td>\n",
       "      <td>$89,765</td>\n",
       "      <td>$79,978</td>\n",
       "      <td>3.2</td>\n",
       "      <td>6.0</td>\n",
       "      <td>290.0</td>\n",
       "      <td>17.0</td>\n",
       "      <td>24.0</td>\n",
       "      <td>3153.0</td>\n",
       "      <td>100.0</td>\n",
       "      <td>174.0</td>\n",
       "      <td>NaN</td>\n",
       "    </tr>\n",
       "    <tr>\n",
       "      <th>1</th>\n",
       "      <td>Acura</td>\n",
       "      <td>3.5 RL w/Navigation 4dr</td>\n",
       "      <td>Sedan</td>\n",
       "      <td>Asia</td>\n",
       "      <td>Front</td>\n",
       "      <td>$46,100</td>\n",
       "      <td>$41,100</td>\n",
       "      <td>3.5</td>\n",
       "      <td>6.0</td>\n",
       "      <td>225.0</td>\n",
       "      <td>18.0</td>\n",
       "      <td>24.0</td>\n",
       "      <td>3893.0</td>\n",
       "      <td>115.0</td>\n",
       "      <td>197.0</td>\n",
       "      <td>NaN</td>\n",
       "    </tr>\n",
       "    <tr>\n",
       "      <th>2</th>\n",
       "      <td>Acura</td>\n",
       "      <td>3.5 RL 4dr</td>\n",
       "      <td>Sedan</td>\n",
       "      <td>Asia</td>\n",
       "      <td>Front</td>\n",
       "      <td>$43,755</td>\n",
       "      <td>$39,014</td>\n",
       "      <td>3.5</td>\n",
       "      <td>6.0</td>\n",
       "      <td>225.0</td>\n",
       "      <td>18.0</td>\n",
       "      <td>24.0</td>\n",
       "      <td>3880.0</td>\n",
       "      <td>115.0</td>\n",
       "      <td>197.0</td>\n",
       "      <td>NaN</td>\n",
       "    </tr>\n",
       "    <tr>\n",
       "      <th>3</th>\n",
       "      <td>Acura</td>\n",
       "      <td>MDX</td>\n",
       "      <td>NaN</td>\n",
       "      <td>Asia</td>\n",
       "      <td>All</td>\n",
       "      <td>$36,945</td>\n",
       "      <td>NaN</td>\n",
       "      <td>3.5</td>\n",
       "      <td>6.0</td>\n",
       "      <td>265.0</td>\n",
       "      <td>17.0</td>\n",
       "      <td>23.0</td>\n",
       "      <td>4451.0</td>\n",
       "      <td>106.0</td>\n",
       "      <td>189.0</td>\n",
       "      <td>NaN</td>\n",
       "    </tr>\n",
       "    <tr>\n",
       "      <th>4</th>\n",
       "      <td>Acura</td>\n",
       "      <td>TL 4dr</td>\n",
       "      <td>NaN</td>\n",
       "      <td>Asia</td>\n",
       "      <td>Front</td>\n",
       "      <td>$33,195</td>\n",
       "      <td>NaN</td>\n",
       "      <td>3.2</td>\n",
       "      <td>6.0</td>\n",
       "      <td>270.0</td>\n",
       "      <td>20.0</td>\n",
       "      <td>28.0</td>\n",
       "      <td>3575.0</td>\n",
       "      <td>108.0</td>\n",
       "      <td>186.0</td>\n",
       "      <td>NaN</td>\n",
       "    </tr>\n",
       "  </tbody>\n",
       "</table>\n",
       "</div>"
      ],
      "text/plain": [
       "  name_of_car                    Model    Type Origin DriveTrain      MSRP  \\\n",
       "0       Acura   NSX coupe 2dr manual S  Sports   Asia       Rear  $89,765    \n",
       "1       Acura  3.5 RL w/Navigation 4dr   Sedan   Asia      Front  $46,100    \n",
       "2       Acura               3.5 RL 4dr   Sedan   Asia      Front  $43,755    \n",
       "3       Acura                      MDX     NaN   Asia        All  $36,945    \n",
       "4       Acura                   TL 4dr     NaN   Asia      Front  $33,195    \n",
       "\n",
       "    Invoice  EngineSize  Cylinders  Horsepower  MPG_City  MPG_Highway  Weight  \\\n",
       "0  $79,978          3.2        6.0       290.0      17.0         24.0  3153.0   \n",
       "1  $41,100          3.5        6.0       225.0      18.0         24.0  3893.0   \n",
       "2  $39,014          3.5        6.0       225.0      18.0         24.0  3880.0   \n",
       "3       NaN         3.5        6.0       265.0      17.0         23.0  4451.0   \n",
       "4       NaN         3.2        6.0       270.0      20.0         28.0  3575.0   \n",
       "\n",
       "   Wheelbase  Length  Unnamed: 15  \n",
       "0      100.0   174.0          NaN  \n",
       "1      115.0   197.0          NaN  \n",
       "2      115.0   197.0          NaN  \n",
       "3      106.0   189.0          NaN  \n",
       "4      108.0   186.0          NaN  "
      ]
     },
     "execution_count": 98,
     "metadata": {},
     "output_type": "execute_result"
    }
   ],
   "source": [
    "df.head()"
   ]
  },
  {
   "cell_type": "code",
   "execution_count": 33,
   "id": "de196844",
   "metadata": {},
   "outputs": [
    {
     "data": {
      "text/plain": [
       "(443, 16)"
      ]
     },
     "execution_count": 33,
     "metadata": {},
     "output_type": "execute_result"
    }
   ],
   "source": [
    "df.shape"
   ]
  },
  {
   "cell_type": "code",
   "execution_count": 34,
   "id": "4ca1e6ab",
   "metadata": {},
   "outputs": [
    {
     "data": {
      "text/plain": [
       "7088"
      ]
     },
     "execution_count": 34,
     "metadata": {},
     "output_type": "execute_result"
    }
   ],
   "source": [
    "df.size"
   ]
  },
  {
   "cell_type": "code",
   "execution_count": 35,
   "id": "77ff6c53",
   "metadata": {},
   "outputs": [
    {
     "name": "stdout",
     "output_type": "stream",
     "text": [
      "<class 'pandas.core.frame.DataFrame'>\n",
      "RangeIndex: 443 entries, 0 to 442\n",
      "Data columns (total 16 columns):\n",
      " #   Column       Non-Null Count  Dtype  \n",
      "---  ------       --------------  -----  \n",
      " 0   name_of_car  428 non-null    object \n",
      " 1   Model        429 non-null    object \n",
      " 2   Type         409 non-null    object \n",
      " 3   Origin       428 non-null    object \n",
      " 4   DriveTrain   428 non-null    object \n",
      " 5   MSRP         428 non-null    object \n",
      " 6   Invoice      406 non-null    object \n",
      " 7   EngineSize   428 non-null    float64\n",
      " 8   Cylinders    426 non-null    float64\n",
      " 9   Horsepower   343 non-null    float64\n",
      " 10  MPG_City     428 non-null    float64\n",
      " 11  MPG_Highway  428 non-null    float64\n",
      " 12  Weight       428 non-null    float64\n",
      " 13  Wheelbase    428 non-null    float64\n",
      " 14  Length       428 non-null    float64\n",
      " 15  Unnamed: 15  2 non-null      float64\n",
      "dtypes: float64(9), object(7)\n",
      "memory usage: 55.5+ KB\n"
     ]
    }
   ],
   "source": [
    "df.info()"
   ]
  },
  {
   "cell_type": "code",
   "execution_count": 36,
   "id": "55e985bc",
   "metadata": {},
   "outputs": [
    {
     "data": {
      "text/plain": [
       "Index(['name_of_car', 'Model', 'Type', 'Origin', 'DriveTrain', 'MSRP',\n",
       "       'Invoice', 'EngineSize', 'Cylinders', 'Horsepower', 'MPG_City',\n",
       "       'MPG_Highway', 'Weight', 'Wheelbase', 'Length', 'Unnamed: 15'],\n",
       "      dtype='object')"
      ]
     },
     "execution_count": 36,
     "metadata": {},
     "output_type": "execute_result"
    }
   ],
   "source": [
    "df.columns"
   ]
  },
  {
   "cell_type": "code",
   "execution_count": 37,
   "id": "9ba85acd",
   "metadata": {},
   "outputs": [],
   "source": [
    "## groupby"
   ]
  },
  {
   "cell_type": "code",
   "execution_count": 38,
   "id": "22d0fc65",
   "metadata": {},
   "outputs": [
    {
     "data": {
      "text/plain": [
       "Origin\n",
       "Asia      5590.0\n",
       "Europe    5423.0\n",
       "USA       7190.0\n",
       "Name: Weight, dtype: float64"
      ]
     },
     "execution_count": 38,
     "metadata": {},
     "output_type": "execute_result"
    }
   ],
   "source": [
    "df.groupby('Origin')['Weight'].max()"
   ]
  },
  {
   "cell_type": "code",
   "execution_count": 39,
   "id": "05cbeb03",
   "metadata": {},
   "outputs": [
    {
     "data": {
      "text/html": [
       "<div>\n",
       "<style scoped>\n",
       "    .dataframe tbody tr th:only-of-type {\n",
       "        vertical-align: middle;\n",
       "    }\n",
       "\n",
       "    .dataframe tbody tr th {\n",
       "        vertical-align: top;\n",
       "    }\n",
       "\n",
       "    .dataframe thead th {\n",
       "        text-align: right;\n",
       "    }\n",
       "</style>\n",
       "<table border=\"1\" class=\"dataframe\">\n",
       "  <thead>\n",
       "    <tr style=\"text-align: right;\">\n",
       "      <th></th>\n",
       "      <th>max</th>\n",
       "      <th>min</th>\n",
       "    </tr>\n",
       "    <tr>\n",
       "      <th>Origin</th>\n",
       "      <th></th>\n",
       "      <th></th>\n",
       "    </tr>\n",
       "  </thead>\n",
       "  <tbody>\n",
       "    <tr>\n",
       "      <th>Asia</th>\n",
       "      <td>5590.0</td>\n",
       "      <td>1850.0</td>\n",
       "    </tr>\n",
       "    <tr>\n",
       "      <th>Europe</th>\n",
       "      <td>5423.0</td>\n",
       "      <td>2524.0</td>\n",
       "    </tr>\n",
       "    <tr>\n",
       "      <th>USA</th>\n",
       "      <td>7190.0</td>\n",
       "      <td>2348.0</td>\n",
       "    </tr>\n",
       "  </tbody>\n",
       "</table>\n",
       "</div>"
      ],
      "text/plain": [
       "           max     min\n",
       "Origin                \n",
       "Asia    5590.0  1850.0\n",
       "Europe  5423.0  2524.0\n",
       "USA     7190.0  2348.0"
      ]
     },
     "execution_count": 39,
     "metadata": {},
     "output_type": "execute_result"
    }
   ],
   "source": [
    "df.groupby('Origin')['Weight'].agg([max,min])"
   ]
  },
  {
   "cell_type": "code",
   "execution_count": 40,
   "id": "62e3479b",
   "metadata": {},
   "outputs": [],
   "source": [
    "import numpy as np"
   ]
  },
  {
   "cell_type": "code",
   "execution_count": 41,
   "id": "1f2d0c6d",
   "metadata": {},
   "outputs": [
    {
     "data": {
      "text/html": [
       "<div>\n",
       "<style scoped>\n",
       "    .dataframe tbody tr th:only-of-type {\n",
       "        vertical-align: middle;\n",
       "    }\n",
       "\n",
       "    .dataframe tbody tr th {\n",
       "        vertical-align: top;\n",
       "    }\n",
       "\n",
       "    .dataframe thead th {\n",
       "        text-align: right;\n",
       "    }\n",
       "</style>\n",
       "<table border=\"1\" class=\"dataframe\">\n",
       "  <thead>\n",
       "    <tr style=\"text-align: right;\">\n",
       "      <th></th>\n",
       "      <th>max</th>\n",
       "      <th>min</th>\n",
       "      <th>mean</th>\n",
       "      <th>median</th>\n",
       "    </tr>\n",
       "    <tr>\n",
       "      <th>Origin</th>\n",
       "      <th></th>\n",
       "      <th></th>\n",
       "      <th></th>\n",
       "      <th></th>\n",
       "    </tr>\n",
       "  </thead>\n",
       "  <tbody>\n",
       "    <tr>\n",
       "      <th>Asia</th>\n",
       "      <td>5590.0</td>\n",
       "      <td>1850.0</td>\n",
       "      <td>3319.316456</td>\n",
       "      <td>3280.0</td>\n",
       "    </tr>\n",
       "    <tr>\n",
       "      <th>Europe</th>\n",
       "      <td>5423.0</td>\n",
       "      <td>2524.0</td>\n",
       "      <td>3680.723577</td>\n",
       "      <td>3585.0</td>\n",
       "    </tr>\n",
       "    <tr>\n",
       "      <th>USA</th>\n",
       "      <td>7190.0</td>\n",
       "      <td>2348.0</td>\n",
       "      <td>3769.952381</td>\n",
       "      <td>3606.0</td>\n",
       "    </tr>\n",
       "  </tbody>\n",
       "</table>\n",
       "</div>"
      ],
      "text/plain": [
       "           max     min         mean  median\n",
       "Origin                                     \n",
       "Asia    5590.0  1850.0  3319.316456  3280.0\n",
       "Europe  5423.0  2524.0  3680.723577  3585.0\n",
       "USA     7190.0  2348.0  3769.952381  3606.0"
      ]
     },
     "execution_count": 41,
     "metadata": {},
     "output_type": "execute_result"
    }
   ],
   "source": [
    "df.groupby('Origin')['Weight'].agg([max,min,np.mean,np.median])"
   ]
  },
  {
   "cell_type": "code",
   "execution_count": 42,
   "id": "a2336ecc",
   "metadata": {},
   "outputs": [
    {
     "data": {
      "text/html": [
       "<div>\n",
       "<style scoped>\n",
       "    .dataframe tbody tr th:only-of-type {\n",
       "        vertical-align: middle;\n",
       "    }\n",
       "\n",
       "    .dataframe tbody tr th {\n",
       "        vertical-align: top;\n",
       "    }\n",
       "\n",
       "    .dataframe thead th {\n",
       "        text-align: right;\n",
       "    }\n",
       "</style>\n",
       "<table border=\"1\" class=\"dataframe\">\n",
       "  <thead>\n",
       "    <tr style=\"text-align: right;\">\n",
       "      <th></th>\n",
       "      <th>name_of_car</th>\n",
       "      <th>Model</th>\n",
       "      <th>Type</th>\n",
       "      <th>Origin</th>\n",
       "      <th>DriveTrain</th>\n",
       "      <th>MSRP</th>\n",
       "      <th>Invoice</th>\n",
       "      <th>EngineSize</th>\n",
       "      <th>Cylinders</th>\n",
       "      <th>Horsepower</th>\n",
       "      <th>MPG_City</th>\n",
       "      <th>MPG_Highway</th>\n",
       "      <th>Weight</th>\n",
       "      <th>Wheelbase</th>\n",
       "      <th>Length</th>\n",
       "      <th>Unnamed: 15</th>\n",
       "    </tr>\n",
       "  </thead>\n",
       "  <tbody>\n",
       "    <tr>\n",
       "      <th>46</th>\n",
       "      <td>Buick</td>\n",
       "      <td>Park Avenue Ultra 4dr</td>\n",
       "      <td>Sedan</td>\n",
       "      <td>USA</td>\n",
       "      <td>Front</td>\n",
       "      <td>$40,720</td>\n",
       "      <td>$36,927</td>\n",
       "      <td>3.8</td>\n",
       "      <td>6.0</td>\n",
       "      <td>NaN</td>\n",
       "      <td>18.0</td>\n",
       "      <td>28.0</td>\n",
       "      <td>3909.0</td>\n",
       "      <td>114.0</td>\n",
       "      <td>207.0</td>\n",
       "      <td>NaN</td>\n",
       "    </tr>\n",
       "    <tr>\n",
       "      <th>47</th>\n",
       "      <td>Buick</td>\n",
       "      <td>Rainier</td>\n",
       "      <td>SUV</td>\n",
       "      <td>USA</td>\n",
       "      <td>All</td>\n",
       "      <td>$37,895</td>\n",
       "      <td>$34,357</td>\n",
       "      <td>4.2</td>\n",
       "      <td>6.0</td>\n",
       "      <td>NaN</td>\n",
       "      <td>15.0</td>\n",
       "      <td>21.0</td>\n",
       "      <td>4600.0</td>\n",
       "      <td>113.0</td>\n",
       "      <td>193.0</td>\n",
       "      <td>NaN</td>\n",
       "    </tr>\n",
       "    <tr>\n",
       "      <th>48</th>\n",
       "      <td>Buick</td>\n",
       "      <td>Park Avenue 4dr</td>\n",
       "      <td>Sedan</td>\n",
       "      <td>USA</td>\n",
       "      <td>Front</td>\n",
       "      <td>$35,545</td>\n",
       "      <td>$32,244</td>\n",
       "      <td>3.8</td>\n",
       "      <td>6.0</td>\n",
       "      <td>NaN</td>\n",
       "      <td>20.0</td>\n",
       "      <td>29.0</td>\n",
       "      <td>3778.0</td>\n",
       "      <td>114.0</td>\n",
       "      <td>207.0</td>\n",
       "      <td>NaN</td>\n",
       "    </tr>\n",
       "    <tr>\n",
       "      <th>49</th>\n",
       "      <td>Buick</td>\n",
       "      <td>LeSabre Limited 4dr</td>\n",
       "      <td>Sedan</td>\n",
       "      <td>USA</td>\n",
       "      <td>Front</td>\n",
       "      <td>$32,245</td>\n",
       "      <td>$29,566</td>\n",
       "      <td>3.8</td>\n",
       "      <td>6.0</td>\n",
       "      <td>NaN</td>\n",
       "      <td>20.0</td>\n",
       "      <td>29.0</td>\n",
       "      <td>3591.0</td>\n",
       "      <td>112.0</td>\n",
       "      <td>200.0</td>\n",
       "      <td>NaN</td>\n",
       "    </tr>\n",
       "    <tr>\n",
       "      <th>50</th>\n",
       "      <td>Buick</td>\n",
       "      <td>Regal GS 4dr</td>\n",
       "      <td>Sedan</td>\n",
       "      <td>USA</td>\n",
       "      <td>Front</td>\n",
       "      <td>$28,345</td>\n",
       "      <td>$26,047</td>\n",
       "      <td>3.8</td>\n",
       "      <td>6.0</td>\n",
       "      <td>NaN</td>\n",
       "      <td>18.0</td>\n",
       "      <td>28.0</td>\n",
       "      <td>3536.0</td>\n",
       "      <td>109.0</td>\n",
       "      <td>196.0</td>\n",
       "      <td>NaN</td>\n",
       "    </tr>\n",
       "    <tr>\n",
       "      <th>...</th>\n",
       "      <td>...</td>\n",
       "      <td>...</td>\n",
       "      <td>...</td>\n",
       "      <td>...</td>\n",
       "      <td>...</td>\n",
       "      <td>...</td>\n",
       "      <td>...</td>\n",
       "      <td>...</td>\n",
       "      <td>...</td>\n",
       "      <td>...</td>\n",
       "      <td>...</td>\n",
       "      <td>...</td>\n",
       "      <td>...</td>\n",
       "      <td>...</td>\n",
       "      <td>...</td>\n",
       "      <td>...</td>\n",
       "    </tr>\n",
       "    <tr>\n",
       "      <th>347</th>\n",
       "      <td>Saturn</td>\n",
       "      <td>lon3 quad coupe 2dr</td>\n",
       "      <td>Sedan</td>\n",
       "      <td>USA</td>\n",
       "      <td>Front</td>\n",
       "      <td>$16,350</td>\n",
       "      <td>$15,299</td>\n",
       "      <td>2.2</td>\n",
       "      <td>4.0</td>\n",
       "      <td>140.0</td>\n",
       "      <td>26.0</td>\n",
       "      <td>35.0</td>\n",
       "      <td>2751.0</td>\n",
       "      <td>103.0</td>\n",
       "      <td>185.0</td>\n",
       "      <td>NaN</td>\n",
       "    </tr>\n",
       "    <tr>\n",
       "      <th>348</th>\n",
       "      <td>Saturn</td>\n",
       "      <td>lon3 4dr</td>\n",
       "      <td>Sedan</td>\n",
       "      <td>USA</td>\n",
       "      <td>Front</td>\n",
       "      <td>$15,825</td>\n",
       "      <td>$14,811</td>\n",
       "      <td>2.2</td>\n",
       "      <td>4.0</td>\n",
       "      <td>140.0</td>\n",
       "      <td>26.0</td>\n",
       "      <td>35.0</td>\n",
       "      <td>2692.0</td>\n",
       "      <td>103.0</td>\n",
       "      <td>185.0</td>\n",
       "      <td>NaN</td>\n",
       "    </tr>\n",
       "    <tr>\n",
       "      <th>349</th>\n",
       "      <td>Saturn</td>\n",
       "      <td>lon2 quad coupe 2dr</td>\n",
       "      <td>Sedan</td>\n",
       "      <td>USA</td>\n",
       "      <td>Front</td>\n",
       "      <td>$14,850</td>\n",
       "      <td>$13,904</td>\n",
       "      <td>2.2</td>\n",
       "      <td>4.0</td>\n",
       "      <td>140.0</td>\n",
       "      <td>26.0</td>\n",
       "      <td>35.0</td>\n",
       "      <td>2751.0</td>\n",
       "      <td>103.0</td>\n",
       "      <td>185.0</td>\n",
       "      <td>NaN</td>\n",
       "    </tr>\n",
       "    <tr>\n",
       "      <th>350</th>\n",
       "      <td>Saturn</td>\n",
       "      <td>lon2 4dr</td>\n",
       "      <td>Sedan</td>\n",
       "      <td>USA</td>\n",
       "      <td>Front</td>\n",
       "      <td>$14,300</td>\n",
       "      <td>$13,393</td>\n",
       "      <td>2.2</td>\n",
       "      <td>4.0</td>\n",
       "      <td>140.0</td>\n",
       "      <td>26.0</td>\n",
       "      <td>35.0</td>\n",
       "      <td>2692.0</td>\n",
       "      <td>103.0</td>\n",
       "      <td>185.0</td>\n",
       "      <td>NaN</td>\n",
       "    </tr>\n",
       "    <tr>\n",
       "      <th>351</th>\n",
       "      <td>Saturn</td>\n",
       "      <td>Ion1 4dr</td>\n",
       "      <td>Sedan</td>\n",
       "      <td>USA</td>\n",
       "      <td>Front</td>\n",
       "      <td>$10,995</td>\n",
       "      <td>$10,319</td>\n",
       "      <td>2.2</td>\n",
       "      <td>4.0</td>\n",
       "      <td>140.0</td>\n",
       "      <td>26.0</td>\n",
       "      <td>35.0</td>\n",
       "      <td>2692.0</td>\n",
       "      <td>103.0</td>\n",
       "      <td>185.0</td>\n",
       "      <td>NaN</td>\n",
       "    </tr>\n",
       "  </tbody>\n",
       "</table>\n",
       "<p>147 rows × 16 columns</p>\n",
       "</div>"
      ],
      "text/plain": [
       "    name_of_car                  Model   Type Origin DriveTrain      MSRP  \\\n",
       "46        Buick  Park Avenue Ultra 4dr  Sedan    USA      Front  $40,720    \n",
       "47        Buick                Rainier    SUV    USA        All  $37,895    \n",
       "48        Buick        Park Avenue 4dr  Sedan    USA      Front  $35,545    \n",
       "49        Buick    LeSabre Limited 4dr  Sedan    USA      Front  $32,245    \n",
       "50        Buick           Regal GS 4dr  Sedan    USA      Front  $28,345    \n",
       "..          ...                    ...    ...    ...        ...       ...   \n",
       "347      Saturn    lon3 quad coupe 2dr  Sedan    USA      Front  $16,350    \n",
       "348      Saturn               lon3 4dr  Sedan    USA      Front  $15,825    \n",
       "349      Saturn    lon2 quad coupe 2dr  Sedan    USA      Front  $14,850    \n",
       "350      Saturn               lon2 4dr  Sedan    USA      Front  $14,300    \n",
       "351      Saturn               Ion1 4dr  Sedan    USA      Front  $10,995    \n",
       "\n",
       "      Invoice  EngineSize  Cylinders  Horsepower  MPG_City  MPG_Highway  \\\n",
       "46   $36,927          3.8        6.0         NaN      18.0         28.0   \n",
       "47   $34,357          4.2        6.0         NaN      15.0         21.0   \n",
       "48   $32,244          3.8        6.0         NaN      20.0         29.0   \n",
       "49   $29,566          3.8        6.0         NaN      20.0         29.0   \n",
       "50   $26,047          3.8        6.0         NaN      18.0         28.0   \n",
       "..        ...         ...        ...         ...       ...          ...   \n",
       "347  $15,299          2.2        4.0       140.0      26.0         35.0   \n",
       "348  $14,811          2.2        4.0       140.0      26.0         35.0   \n",
       "349  $13,904          2.2        4.0       140.0      26.0         35.0   \n",
       "350  $13,393          2.2        4.0       140.0      26.0         35.0   \n",
       "351  $10,319          2.2        4.0       140.0      26.0         35.0   \n",
       "\n",
       "     Weight  Wheelbase  Length  Unnamed: 15  \n",
       "46   3909.0      114.0   207.0          NaN  \n",
       "47   4600.0      113.0   193.0          NaN  \n",
       "48   3778.0      114.0   207.0          NaN  \n",
       "49   3591.0      112.0   200.0          NaN  \n",
       "50   3536.0      109.0   196.0          NaN  \n",
       "..      ...        ...     ...          ...  \n",
       "347  2751.0      103.0   185.0          NaN  \n",
       "348  2692.0      103.0   185.0          NaN  \n",
       "349  2751.0      103.0   185.0          NaN  \n",
       "350  2692.0      103.0   185.0          NaN  \n",
       "351  2692.0      103.0   185.0          NaN  \n",
       "\n",
       "[147 rows x 16 columns]"
      ]
     },
     "execution_count": 42,
     "metadata": {},
     "output_type": "execute_result"
    }
   ],
   "source": [
    "df.groupby('Origin').get_group('USA')"
   ]
  },
  {
   "cell_type": "code",
   "execution_count": 43,
   "id": "8bee1125",
   "metadata": {},
   "outputs": [],
   "source": [
    "## merging and concatination"
   ]
  },
  {
   "cell_type": "code",
   "execution_count": 44,
   "id": "5e6c5b96",
   "metadata": {},
   "outputs": [],
   "source": [
    "dict1={'names':['ajay','sanjay','raheem','sudha','loha'],'course':['python','python','java','R','R'],'marks':[7,8,2,1,5]}\n",
    "dict2={'names':['basha','sam','suji'],'course':['java','DA','AI'],'marks':[4,7,8],'location':['mumbai','calcutta','orissa']}\n",
    "\n",
    "dict3= {'names':['sanjay','raheem','sudha','raja'],'groups':[1,2,3,4]}\n"
   ]
  },
  {
   "cell_type": "code",
   "execution_count": 45,
   "id": "b7260f83",
   "metadata": {},
   "outputs": [],
   "source": [
    "df1=pd.DataFrame(dict1)\n",
    "df2= pd.DataFrame(dict2)\n",
    "df3= pd.DataFrame(dict3)"
   ]
  },
  {
   "cell_type": "code",
   "execution_count": 46,
   "id": "0b6d0aa2",
   "metadata": {},
   "outputs": [],
   "source": [
    "df_new= pd.concat([df1,df2],ignore_index=True)"
   ]
  },
  {
   "cell_type": "code",
   "execution_count": 47,
   "id": "6d73a4db",
   "metadata": {},
   "outputs": [
    {
     "data": {
      "text/html": [
       "<div>\n",
       "<style scoped>\n",
       "    .dataframe tbody tr th:only-of-type {\n",
       "        vertical-align: middle;\n",
       "    }\n",
       "\n",
       "    .dataframe tbody tr th {\n",
       "        vertical-align: top;\n",
       "    }\n",
       "\n",
       "    .dataframe thead th {\n",
       "        text-align: right;\n",
       "    }\n",
       "</style>\n",
       "<table border=\"1\" class=\"dataframe\">\n",
       "  <thead>\n",
       "    <tr style=\"text-align: right;\">\n",
       "      <th></th>\n",
       "      <th>names</th>\n",
       "      <th>course</th>\n",
       "      <th>marks</th>\n",
       "      <th>location</th>\n",
       "    </tr>\n",
       "  </thead>\n",
       "  <tbody>\n",
       "    <tr>\n",
       "      <th>0</th>\n",
       "      <td>ajay</td>\n",
       "      <td>python</td>\n",
       "      <td>7</td>\n",
       "      <td>NaN</td>\n",
       "    </tr>\n",
       "    <tr>\n",
       "      <th>1</th>\n",
       "      <td>sanjay</td>\n",
       "      <td>python</td>\n",
       "      <td>8</td>\n",
       "      <td>NaN</td>\n",
       "    </tr>\n",
       "    <tr>\n",
       "      <th>2</th>\n",
       "      <td>raheem</td>\n",
       "      <td>java</td>\n",
       "      <td>2</td>\n",
       "      <td>NaN</td>\n",
       "    </tr>\n",
       "    <tr>\n",
       "      <th>3</th>\n",
       "      <td>sudha</td>\n",
       "      <td>R</td>\n",
       "      <td>1</td>\n",
       "      <td>NaN</td>\n",
       "    </tr>\n",
       "    <tr>\n",
       "      <th>4</th>\n",
       "      <td>loha</td>\n",
       "      <td>R</td>\n",
       "      <td>5</td>\n",
       "      <td>NaN</td>\n",
       "    </tr>\n",
       "    <tr>\n",
       "      <th>5</th>\n",
       "      <td>basha</td>\n",
       "      <td>java</td>\n",
       "      <td>4</td>\n",
       "      <td>mumbai</td>\n",
       "    </tr>\n",
       "    <tr>\n",
       "      <th>6</th>\n",
       "      <td>sam</td>\n",
       "      <td>DA</td>\n",
       "      <td>7</td>\n",
       "      <td>calcutta</td>\n",
       "    </tr>\n",
       "    <tr>\n",
       "      <th>7</th>\n",
       "      <td>suji</td>\n",
       "      <td>AI</td>\n",
       "      <td>8</td>\n",
       "      <td>orissa</td>\n",
       "    </tr>\n",
       "  </tbody>\n",
       "</table>\n",
       "</div>"
      ],
      "text/plain": [
       "    names  course  marks  location\n",
       "0    ajay  python      7       NaN\n",
       "1  sanjay  python      8       NaN\n",
       "2  raheem    java      2       NaN\n",
       "3   sudha       R      1       NaN\n",
       "4    loha       R      5       NaN\n",
       "5   basha    java      4    mumbai\n",
       "6     sam      DA      7  calcutta\n",
       "7    suji      AI      8    orissa"
      ]
     },
     "execution_count": 47,
     "metadata": {},
     "output_type": "execute_result"
    }
   ],
   "source": [
    "df_new"
   ]
  },
  {
   "cell_type": "code",
   "execution_count": 48,
   "id": "33f68aee",
   "metadata": {},
   "outputs": [],
   "source": [
    "## inner_join"
   ]
  },
  {
   "cell_type": "code",
   "execution_count": 49,
   "id": "a52a3032",
   "metadata": {},
   "outputs": [
    {
     "data": {
      "text/html": [
       "<div>\n",
       "<style scoped>\n",
       "    .dataframe tbody tr th:only-of-type {\n",
       "        vertical-align: middle;\n",
       "    }\n",
       "\n",
       "    .dataframe tbody tr th {\n",
       "        vertical-align: top;\n",
       "    }\n",
       "\n",
       "    .dataframe thead th {\n",
       "        text-align: right;\n",
       "    }\n",
       "</style>\n",
       "<table border=\"1\" class=\"dataframe\">\n",
       "  <thead>\n",
       "    <tr style=\"text-align: right;\">\n",
       "      <th></th>\n",
       "      <th>names</th>\n",
       "      <th>course</th>\n",
       "      <th>marks</th>\n",
       "      <th>groups</th>\n",
       "    </tr>\n",
       "  </thead>\n",
       "  <tbody>\n",
       "    <tr>\n",
       "      <th>0</th>\n",
       "      <td>sanjay</td>\n",
       "      <td>python</td>\n",
       "      <td>8</td>\n",
       "      <td>1</td>\n",
       "    </tr>\n",
       "    <tr>\n",
       "      <th>1</th>\n",
       "      <td>raheem</td>\n",
       "      <td>java</td>\n",
       "      <td>2</td>\n",
       "      <td>2</td>\n",
       "    </tr>\n",
       "    <tr>\n",
       "      <th>2</th>\n",
       "      <td>sudha</td>\n",
       "      <td>R</td>\n",
       "      <td>1</td>\n",
       "      <td>3</td>\n",
       "    </tr>\n",
       "  </tbody>\n",
       "</table>\n",
       "</div>"
      ],
      "text/plain": [
       "    names  course  marks  groups\n",
       "0  sanjay  python      8       1\n",
       "1  raheem    java      2       2\n",
       "2   sudha       R      1       3"
      ]
     },
     "execution_count": 49,
     "metadata": {},
     "output_type": "execute_result"
    }
   ],
   "source": [
    "pd.merge(df1,df3,on='names',how='inner')"
   ]
  },
  {
   "cell_type": "code",
   "execution_count": 50,
   "id": "c5c2389c",
   "metadata": {},
   "outputs": [
    {
     "data": {
      "text/html": [
       "<div>\n",
       "<style scoped>\n",
       "    .dataframe tbody tr th:only-of-type {\n",
       "        vertical-align: middle;\n",
       "    }\n",
       "\n",
       "    .dataframe tbody tr th {\n",
       "        vertical-align: top;\n",
       "    }\n",
       "\n",
       "    .dataframe thead th {\n",
       "        text-align: right;\n",
       "    }\n",
       "</style>\n",
       "<table border=\"1\" class=\"dataframe\">\n",
       "  <thead>\n",
       "    <tr style=\"text-align: right;\">\n",
       "      <th></th>\n",
       "      <th>names</th>\n",
       "      <th>course</th>\n",
       "      <th>marks</th>\n",
       "      <th>groups</th>\n",
       "    </tr>\n",
       "  </thead>\n",
       "  <tbody>\n",
       "    <tr>\n",
       "      <th>0</th>\n",
       "      <td>ajay</td>\n",
       "      <td>python</td>\n",
       "      <td>7</td>\n",
       "      <td>NaN</td>\n",
       "    </tr>\n",
       "    <tr>\n",
       "      <th>1</th>\n",
       "      <td>sanjay</td>\n",
       "      <td>python</td>\n",
       "      <td>8</td>\n",
       "      <td>1.0</td>\n",
       "    </tr>\n",
       "    <tr>\n",
       "      <th>2</th>\n",
       "      <td>raheem</td>\n",
       "      <td>java</td>\n",
       "      <td>2</td>\n",
       "      <td>2.0</td>\n",
       "    </tr>\n",
       "    <tr>\n",
       "      <th>3</th>\n",
       "      <td>sudha</td>\n",
       "      <td>R</td>\n",
       "      <td>1</td>\n",
       "      <td>3.0</td>\n",
       "    </tr>\n",
       "    <tr>\n",
       "      <th>4</th>\n",
       "      <td>loha</td>\n",
       "      <td>R</td>\n",
       "      <td>5</td>\n",
       "      <td>NaN</td>\n",
       "    </tr>\n",
       "  </tbody>\n",
       "</table>\n",
       "</div>"
      ],
      "text/plain": [
       "    names  course  marks  groups\n",
       "0    ajay  python      7     NaN\n",
       "1  sanjay  python      8     1.0\n",
       "2  raheem    java      2     2.0\n",
       "3   sudha       R      1     3.0\n",
       "4    loha       R      5     NaN"
      ]
     },
     "execution_count": 50,
     "metadata": {},
     "output_type": "execute_result"
    }
   ],
   "source": [
    "## left join\n",
    "pd.merge(df1,df3,on='names',how='left')"
   ]
  },
  {
   "cell_type": "code",
   "execution_count": 51,
   "id": "7e08970f",
   "metadata": {},
   "outputs": [
    {
     "data": {
      "text/html": [
       "<div>\n",
       "<style scoped>\n",
       "    .dataframe tbody tr th:only-of-type {\n",
       "        vertical-align: middle;\n",
       "    }\n",
       "\n",
       "    .dataframe tbody tr th {\n",
       "        vertical-align: top;\n",
       "    }\n",
       "\n",
       "    .dataframe thead th {\n",
       "        text-align: right;\n",
       "    }\n",
       "</style>\n",
       "<table border=\"1\" class=\"dataframe\">\n",
       "  <thead>\n",
       "    <tr style=\"text-align: right;\">\n",
       "      <th></th>\n",
       "      <th>names</th>\n",
       "      <th>course</th>\n",
       "      <th>marks</th>\n",
       "      <th>groups</th>\n",
       "    </tr>\n",
       "  </thead>\n",
       "  <tbody>\n",
       "    <tr>\n",
       "      <th>0</th>\n",
       "      <td>sanjay</td>\n",
       "      <td>python</td>\n",
       "      <td>8.0</td>\n",
       "      <td>1</td>\n",
       "    </tr>\n",
       "    <tr>\n",
       "      <th>1</th>\n",
       "      <td>raheem</td>\n",
       "      <td>java</td>\n",
       "      <td>2.0</td>\n",
       "      <td>2</td>\n",
       "    </tr>\n",
       "    <tr>\n",
       "      <th>2</th>\n",
       "      <td>sudha</td>\n",
       "      <td>R</td>\n",
       "      <td>1.0</td>\n",
       "      <td>3</td>\n",
       "    </tr>\n",
       "    <tr>\n",
       "      <th>3</th>\n",
       "      <td>raja</td>\n",
       "      <td>NaN</td>\n",
       "      <td>NaN</td>\n",
       "      <td>4</td>\n",
       "    </tr>\n",
       "  </tbody>\n",
       "</table>\n",
       "</div>"
      ],
      "text/plain": [
       "    names  course  marks  groups\n",
       "0  sanjay  python    8.0       1\n",
       "1  raheem    java    2.0       2\n",
       "2   sudha       R    1.0       3\n",
       "3    raja     NaN    NaN       4"
      ]
     },
     "execution_count": 51,
     "metadata": {},
     "output_type": "execute_result"
    }
   ],
   "source": [
    "## Right Join\n",
    "pd.merge(df1,df3,on='names',how='right')"
   ]
  },
  {
   "cell_type": "code",
   "execution_count": 52,
   "id": "c706920d",
   "metadata": {},
   "outputs": [
    {
     "data": {
      "text/html": [
       "<div>\n",
       "<style scoped>\n",
       "    .dataframe tbody tr th:only-of-type {\n",
       "        vertical-align: middle;\n",
       "    }\n",
       "\n",
       "    .dataframe tbody tr th {\n",
       "        vertical-align: top;\n",
       "    }\n",
       "\n",
       "    .dataframe thead th {\n",
       "        text-align: right;\n",
       "    }\n",
       "</style>\n",
       "<table border=\"1\" class=\"dataframe\">\n",
       "  <thead>\n",
       "    <tr style=\"text-align: right;\">\n",
       "      <th></th>\n",
       "      <th>names</th>\n",
       "      <th>course</th>\n",
       "      <th>marks</th>\n",
       "      <th>groups</th>\n",
       "    </tr>\n",
       "  </thead>\n",
       "  <tbody>\n",
       "    <tr>\n",
       "      <th>0</th>\n",
       "      <td>ajay</td>\n",
       "      <td>python</td>\n",
       "      <td>7.0</td>\n",
       "      <td>NaN</td>\n",
       "    </tr>\n",
       "    <tr>\n",
       "      <th>1</th>\n",
       "      <td>sanjay</td>\n",
       "      <td>python</td>\n",
       "      <td>8.0</td>\n",
       "      <td>1.0</td>\n",
       "    </tr>\n",
       "    <tr>\n",
       "      <th>2</th>\n",
       "      <td>raheem</td>\n",
       "      <td>java</td>\n",
       "      <td>2.0</td>\n",
       "      <td>2.0</td>\n",
       "    </tr>\n",
       "    <tr>\n",
       "      <th>3</th>\n",
       "      <td>sudha</td>\n",
       "      <td>R</td>\n",
       "      <td>1.0</td>\n",
       "      <td>3.0</td>\n",
       "    </tr>\n",
       "    <tr>\n",
       "      <th>4</th>\n",
       "      <td>loha</td>\n",
       "      <td>R</td>\n",
       "      <td>5.0</td>\n",
       "      <td>NaN</td>\n",
       "    </tr>\n",
       "    <tr>\n",
       "      <th>5</th>\n",
       "      <td>raja</td>\n",
       "      <td>NaN</td>\n",
       "      <td>NaN</td>\n",
       "      <td>4.0</td>\n",
       "    </tr>\n",
       "  </tbody>\n",
       "</table>\n",
       "</div>"
      ],
      "text/plain": [
       "    names  course  marks  groups\n",
       "0    ajay  python    7.0     NaN\n",
       "1  sanjay  python    8.0     1.0\n",
       "2  raheem    java    2.0     2.0\n",
       "3   sudha       R    1.0     3.0\n",
       "4    loha       R    5.0     NaN\n",
       "5    raja     NaN    NaN     4.0"
      ]
     },
     "execution_count": 52,
     "metadata": {},
     "output_type": "execute_result"
    }
   ],
   "source": [
    "## Outer Join\n",
    "pd.merge(df1,df3,on='names',how='outer')"
   ]
  },
  {
   "cell_type": "code",
   "execution_count": 53,
   "id": "e9a12788",
   "metadata": {},
   "outputs": [],
   "source": [
    "## Handling missing values and duplicates"
   ]
  },
  {
   "cell_type": "code",
   "execution_count": 87,
   "id": "150482c6",
   "metadata": {},
   "outputs": [],
   "source": [
    "df1= pd.read_csv('sample_data2.csv')"
   ]
  },
  {
   "cell_type": "code",
   "execution_count": 88,
   "id": "60bcf234",
   "metadata": {},
   "outputs": [
    {
     "data": {
      "text/html": [
       "<div>\n",
       "<style scoped>\n",
       "    .dataframe tbody tr th:only-of-type {\n",
       "        vertical-align: middle;\n",
       "    }\n",
       "\n",
       "    .dataframe tbody tr th {\n",
       "        vertical-align: top;\n",
       "    }\n",
       "\n",
       "    .dataframe thead th {\n",
       "        text-align: right;\n",
       "    }\n",
       "</style>\n",
       "<table border=\"1\" class=\"dataframe\">\n",
       "  <thead>\n",
       "    <tr style=\"text-align: right;\">\n",
       "      <th></th>\n",
       "      <th>Serial Number</th>\n",
       "      <th>Title</th>\n",
       "      <th>Salary</th>\n",
       "      <th>Qualification</th>\n",
       "      <th>Exp</th>\n",
       "    </tr>\n",
       "  </thead>\n",
       "  <tbody>\n",
       "    <tr>\n",
       "      <th>0</th>\n",
       "      <td>1</td>\n",
       "      <td>Software Engineer</td>\n",
       "      <td>20000.0</td>\n",
       "      <td>Bachelors</td>\n",
       "      <td>3</td>\n",
       "    </tr>\n",
       "    <tr>\n",
       "      <th>1</th>\n",
       "      <td>2</td>\n",
       "      <td>Data Scientist</td>\n",
       "      <td>23000.0</td>\n",
       "      <td>Masters</td>\n",
       "      <td>4</td>\n",
       "    </tr>\n",
       "    <tr>\n",
       "      <th>2</th>\n",
       "      <td>3</td>\n",
       "      <td>Project Manager</td>\n",
       "      <td>18000.0</td>\n",
       "      <td>Masters</td>\n",
       "      <td>2</td>\n",
       "    </tr>\n",
       "    <tr>\n",
       "      <th>3</th>\n",
       "      <td>4</td>\n",
       "      <td>Professor</td>\n",
       "      <td>25000.0</td>\n",
       "      <td>Bachelors</td>\n",
       "      <td>5</td>\n",
       "    </tr>\n",
       "    <tr>\n",
       "      <th>4</th>\n",
       "      <td>5</td>\n",
       "      <td>Database Architect</td>\n",
       "      <td>17000.0</td>\n",
       "      <td>Bachelors</td>\n",
       "      <td>1</td>\n",
       "    </tr>\n",
       "  </tbody>\n",
       "</table>\n",
       "</div>"
      ],
      "text/plain": [
       "   Serial Number               Title   Salary Qualification  Exp\n",
       "0              1   Software Engineer  20000.0     Bachelors    3\n",
       "1              2      Data Scientist  23000.0       Masters    4\n",
       "2              3     Project Manager  18000.0       Masters    2\n",
       "3              4           Professor  25000.0     Bachelors    5\n",
       "4              5  Database Architect  17000.0     Bachelors    1"
      ]
     },
     "execution_count": 88,
     "metadata": {},
     "output_type": "execute_result"
    }
   ],
   "source": [
    "df.head()"
   ]
  },
  {
   "cell_type": "code",
   "execution_count": 89,
   "id": "abd71b64",
   "metadata": {},
   "outputs": [
    {
     "data": {
      "text/html": [
       "<div>\n",
       "<style scoped>\n",
       "    .dataframe tbody tr th:only-of-type {\n",
       "        vertical-align: middle;\n",
       "    }\n",
       "\n",
       "    .dataframe tbody tr th {\n",
       "        vertical-align: top;\n",
       "    }\n",
       "\n",
       "    .dataframe thead th {\n",
       "        text-align: right;\n",
       "    }\n",
       "</style>\n",
       "<table border=\"1\" class=\"dataframe\">\n",
       "  <thead>\n",
       "    <tr style=\"text-align: right;\">\n",
       "      <th></th>\n",
       "      <th>Serial Number</th>\n",
       "      <th>Title</th>\n",
       "      <th>Salary</th>\n",
       "      <th>Qualification</th>\n",
       "      <th>Exp</th>\n",
       "    </tr>\n",
       "  </thead>\n",
       "  <tbody>\n",
       "    <tr>\n",
       "      <th>0</th>\n",
       "      <td>1</td>\n",
       "      <td>Software Engineer</td>\n",
       "      <td>20000.0</td>\n",
       "      <td>Bachelors</td>\n",
       "      <td>3</td>\n",
       "    </tr>\n",
       "    <tr>\n",
       "      <th>1</th>\n",
       "      <td>2</td>\n",
       "      <td>Data Scientist</td>\n",
       "      <td>23000.0</td>\n",
       "      <td>Masters</td>\n",
       "      <td>4</td>\n",
       "    </tr>\n",
       "    <tr>\n",
       "      <th>2</th>\n",
       "      <td>3</td>\n",
       "      <td>Project Manager</td>\n",
       "      <td>18000.0</td>\n",
       "      <td>Masters</td>\n",
       "      <td>2</td>\n",
       "    </tr>\n",
       "    <tr>\n",
       "      <th>3</th>\n",
       "      <td>4</td>\n",
       "      <td>Professor</td>\n",
       "      <td>25000.0</td>\n",
       "      <td>Bachelors</td>\n",
       "      <td>5</td>\n",
       "    </tr>\n",
       "    <tr>\n",
       "      <th>4</th>\n",
       "      <td>5</td>\n",
       "      <td>Database Architect</td>\n",
       "      <td>17000.0</td>\n",
       "      <td>Bachelors</td>\n",
       "      <td>1</td>\n",
       "    </tr>\n",
       "    <tr>\n",
       "      <th>5</th>\n",
       "      <td>4</td>\n",
       "      <td>Professor</td>\n",
       "      <td>25000.0</td>\n",
       "      <td>Bachelors</td>\n",
       "      <td>5</td>\n",
       "    </tr>\n",
       "    <tr>\n",
       "      <th>6</th>\n",
       "      <td>7</td>\n",
       "      <td>Business Analyst</td>\n",
       "      <td>18000.0</td>\n",
       "      <td>NaN</td>\n",
       "      <td>5</td>\n",
       "    </tr>\n",
       "    <tr>\n",
       "      <th>7</th>\n",
       "      <td>8</td>\n",
       "      <td>UX/UI Developer</td>\n",
       "      <td>23.0</td>\n",
       "      <td>Bachelors</td>\n",
       "      <td>0</td>\n",
       "    </tr>\n",
       "    <tr>\n",
       "      <th>8</th>\n",
       "      <td>9</td>\n",
       "      <td>Devops Engineer</td>\n",
       "      <td>NaN</td>\n",
       "      <td>Masters</td>\n",
       "      <td>2</td>\n",
       "    </tr>\n",
       "  </tbody>\n",
       "</table>\n",
       "</div>"
      ],
      "text/plain": [
       "   Serial Number               Title   Salary Qualification  Exp\n",
       "0              1   Software Engineer  20000.0     Bachelors    3\n",
       "1              2      Data Scientist  23000.0       Masters    4\n",
       "2              3     Project Manager  18000.0       Masters    2\n",
       "3              4           Professor  25000.0     Bachelors    5\n",
       "4              5  Database Architect  17000.0     Bachelors    1\n",
       "5              4           Professor  25000.0     Bachelors    5\n",
       "6              7    Business Analyst  18000.0           NaN    5\n",
       "7              8     UX/UI Developer     23.0     Bachelors    0\n",
       "8              9     Devops Engineer      NaN       Masters    2"
      ]
     },
     "execution_count": 89,
     "metadata": {},
     "output_type": "execute_result"
    }
   ],
   "source": [
    "df1"
   ]
  },
  {
   "cell_type": "code",
   "execution_count": 90,
   "id": "8f8002f8",
   "metadata": {},
   "outputs": [
    {
     "data": {
      "text/plain": [
       "Serial Number    0\n",
       "Title            0\n",
       "Salary           1\n",
       "Qualification    1\n",
       "Exp              0\n",
       "dtype: int64"
      ]
     },
     "execution_count": 90,
     "metadata": {},
     "output_type": "execute_result"
    }
   ],
   "source": [
    "df1.isnull().sum()"
   ]
  },
  {
   "cell_type": "code",
   "execution_count": 91,
   "id": "fd56d056",
   "metadata": {},
   "outputs": [
    {
     "data": {
      "text/html": [
       "<div>\n",
       "<style scoped>\n",
       "    .dataframe tbody tr th:only-of-type {\n",
       "        vertical-align: middle;\n",
       "    }\n",
       "\n",
       "    .dataframe tbody tr th {\n",
       "        vertical-align: top;\n",
       "    }\n",
       "\n",
       "    .dataframe thead th {\n",
       "        text-align: right;\n",
       "    }\n",
       "</style>\n",
       "<table border=\"1\" class=\"dataframe\">\n",
       "  <thead>\n",
       "    <tr style=\"text-align: right;\">\n",
       "      <th></th>\n",
       "      <th>Serial Number</th>\n",
       "      <th>Title</th>\n",
       "      <th>Salary</th>\n",
       "      <th>Qualification</th>\n",
       "      <th>Exp</th>\n",
       "    </tr>\n",
       "  </thead>\n",
       "  <tbody>\n",
       "    <tr>\n",
       "      <th>0</th>\n",
       "      <td>1</td>\n",
       "      <td>Software Engineer</td>\n",
       "      <td>20000.0</td>\n",
       "      <td>Bachelors</td>\n",
       "      <td>3</td>\n",
       "    </tr>\n",
       "    <tr>\n",
       "      <th>1</th>\n",
       "      <td>2</td>\n",
       "      <td>Data Scientist</td>\n",
       "      <td>23000.0</td>\n",
       "      <td>Masters</td>\n",
       "      <td>4</td>\n",
       "    </tr>\n",
       "    <tr>\n",
       "      <th>2</th>\n",
       "      <td>3</td>\n",
       "      <td>Project Manager</td>\n",
       "      <td>18000.0</td>\n",
       "      <td>Masters</td>\n",
       "      <td>2</td>\n",
       "    </tr>\n",
       "    <tr>\n",
       "      <th>3</th>\n",
       "      <td>4</td>\n",
       "      <td>Professor</td>\n",
       "      <td>25000.0</td>\n",
       "      <td>Bachelors</td>\n",
       "      <td>5</td>\n",
       "    </tr>\n",
       "    <tr>\n",
       "      <th>4</th>\n",
       "      <td>5</td>\n",
       "      <td>Database Architect</td>\n",
       "      <td>17000.0</td>\n",
       "      <td>Bachelors</td>\n",
       "      <td>1</td>\n",
       "    </tr>\n",
       "    <tr>\n",
       "      <th>5</th>\n",
       "      <td>4</td>\n",
       "      <td>Professor</td>\n",
       "      <td>25000.0</td>\n",
       "      <td>Bachelors</td>\n",
       "      <td>5</td>\n",
       "    </tr>\n",
       "    <tr>\n",
       "      <th>7</th>\n",
       "      <td>8</td>\n",
       "      <td>UX/UI Developer</td>\n",
       "      <td>23.0</td>\n",
       "      <td>Bachelors</td>\n",
       "      <td>0</td>\n",
       "    </tr>\n",
       "  </tbody>\n",
       "</table>\n",
       "</div>"
      ],
      "text/plain": [
       "   Serial Number               Title   Salary Qualification  Exp\n",
       "0              1   Software Engineer  20000.0     Bachelors    3\n",
       "1              2      Data Scientist  23000.0       Masters    4\n",
       "2              3     Project Manager  18000.0       Masters    2\n",
       "3              4           Professor  25000.0     Bachelors    5\n",
       "4              5  Database Architect  17000.0     Bachelors    1\n",
       "5              4           Professor  25000.0     Bachelors    5\n",
       "7              8     UX/UI Developer     23.0     Bachelors    0"
      ]
     },
     "execution_count": 91,
     "metadata": {},
     "output_type": "execute_result"
    }
   ],
   "source": [
    "df1.dropna()"
   ]
  },
  {
   "cell_type": "code",
   "execution_count": 92,
   "id": "c3b9546c",
   "metadata": {},
   "outputs": [],
   "source": [
    "## missing value filling with values"
   ]
  },
  {
   "cell_type": "code",
   "execution_count": 93,
   "id": "6eb955f0",
   "metadata": {},
   "outputs": [],
   "source": [
    "mean=df1['Salary'].mean()\n",
    "mode[0]=df1['Qualification'].mode()"
   ]
  },
  {
   "cell_type": "code",
   "execution_count": 94,
   "id": "80671557",
   "metadata": {},
   "outputs": [],
   "source": [
    "df_new=df1.fillna({'Salary':mean,'Qualification':mode[0]})"
   ]
  },
  {
   "cell_type": "code",
   "execution_count": 95,
   "id": "0d319aeb",
   "metadata": {},
   "outputs": [
    {
     "data": {
      "text/plain": [
       "0    False\n",
       "1    False\n",
       "2    False\n",
       "3    False\n",
       "4    False\n",
       "5     True\n",
       "6    False\n",
       "7    False\n",
       "8    False\n",
       "dtype: bool"
      ]
     },
     "execution_count": 95,
     "metadata": {},
     "output_type": "execute_result"
    }
   ],
   "source": [
    "df_new.duplicated()"
   ]
  },
  {
   "cell_type": "code",
   "execution_count": 96,
   "id": "02f64b94",
   "metadata": {},
   "outputs": [
    {
     "data": {
      "text/html": [
       "<div>\n",
       "<style scoped>\n",
       "    .dataframe tbody tr th:only-of-type {\n",
       "        vertical-align: middle;\n",
       "    }\n",
       "\n",
       "    .dataframe tbody tr th {\n",
       "        vertical-align: top;\n",
       "    }\n",
       "\n",
       "    .dataframe thead th {\n",
       "        text-align: right;\n",
       "    }\n",
       "</style>\n",
       "<table border=\"1\" class=\"dataframe\">\n",
       "  <thead>\n",
       "    <tr style=\"text-align: right;\">\n",
       "      <th></th>\n",
       "      <th>Serial Number</th>\n",
       "      <th>Title</th>\n",
       "      <th>Salary</th>\n",
       "      <th>Qualification</th>\n",
       "      <th>Exp</th>\n",
       "    </tr>\n",
       "  </thead>\n",
       "  <tbody>\n",
       "    <tr>\n",
       "      <th>0</th>\n",
       "      <td>1</td>\n",
       "      <td>Software Engineer</td>\n",
       "      <td>20000.000</td>\n",
       "      <td>Bachelors</td>\n",
       "      <td>3</td>\n",
       "    </tr>\n",
       "    <tr>\n",
       "      <th>1</th>\n",
       "      <td>2</td>\n",
       "      <td>Data Scientist</td>\n",
       "      <td>23000.000</td>\n",
       "      <td>Masters</td>\n",
       "      <td>4</td>\n",
       "    </tr>\n",
       "    <tr>\n",
       "      <th>2</th>\n",
       "      <td>3</td>\n",
       "      <td>Project Manager</td>\n",
       "      <td>18000.000</td>\n",
       "      <td>Masters</td>\n",
       "      <td>2</td>\n",
       "    </tr>\n",
       "    <tr>\n",
       "      <th>3</th>\n",
       "      <td>4</td>\n",
       "      <td>Professor</td>\n",
       "      <td>25000.000</td>\n",
       "      <td>Bachelors</td>\n",
       "      <td>5</td>\n",
       "    </tr>\n",
       "    <tr>\n",
       "      <th>4</th>\n",
       "      <td>5</td>\n",
       "      <td>Database Architect</td>\n",
       "      <td>17000.000</td>\n",
       "      <td>Bachelors</td>\n",
       "      <td>1</td>\n",
       "    </tr>\n",
       "    <tr>\n",
       "      <th>6</th>\n",
       "      <td>7</td>\n",
       "      <td>Business Analyst</td>\n",
       "      <td>18000.000</td>\n",
       "      <td>NaN</td>\n",
       "      <td>5</td>\n",
       "    </tr>\n",
       "    <tr>\n",
       "      <th>7</th>\n",
       "      <td>8</td>\n",
       "      <td>UX/UI Developer</td>\n",
       "      <td>23.000</td>\n",
       "      <td>Bachelors</td>\n",
       "      <td>0</td>\n",
       "    </tr>\n",
       "    <tr>\n",
       "      <th>8</th>\n",
       "      <td>9</td>\n",
       "      <td>Devops Engineer</td>\n",
       "      <td>18252.875</td>\n",
       "      <td>Masters</td>\n",
       "      <td>2</td>\n",
       "    </tr>\n",
       "  </tbody>\n",
       "</table>\n",
       "</div>"
      ],
      "text/plain": [
       "   Serial Number               Title     Salary Qualification  Exp\n",
       "0              1   Software Engineer  20000.000     Bachelors    3\n",
       "1              2      Data Scientist  23000.000       Masters    4\n",
       "2              3     Project Manager  18000.000       Masters    2\n",
       "3              4           Professor  25000.000     Bachelors    5\n",
       "4              5  Database Architect  17000.000     Bachelors    1\n",
       "6              7    Business Analyst  18000.000           NaN    5\n",
       "7              8     UX/UI Developer     23.000     Bachelors    0\n",
       "8              9     Devops Engineer  18252.875       Masters    2"
      ]
     },
     "execution_count": 96,
     "metadata": {},
     "output_type": "execute_result"
    }
   ],
   "source": [
    "df_new.drop_duplicates()"
   ]
  },
  {
   "cell_type": "markdown",
   "id": "7622c8cf",
   "metadata": {},
   "source": [
    "## Visualization"
   ]
  },
  {
   "cell_type": "markdown",
   "id": "6448ec93",
   "metadata": {},
   "source": [
    "#### Color codes\n",
    "###### Character\tColor\n",
    "+ ‘b’\tBlue\n",
    "+ ‘g’\tGreen\n",
    "+ ‘r’\tRed\n",
    "+ ‘b’\tBlue\n",
    "+ ‘c’\tCyan\n",
    "+ ‘m’\tMagenta\n",
    "+ ‘y’\tYellow\n",
    "+ ‘k’\tBlack\n",
    "+ ‘b’\tBlue\n",
    "+ ‘w’\tWhite\n",
    "## Character\tDescription\n",
    "+ ‘.’\tPoint marker\n",
    "+ ‘o’\tCircle marker\n",
    "+ ‘x’\tX marker\n",
    "+ ‘D’\tDiamond marker\n",
    "+ ‘H’\tHexagon marker\n",
    "+ ‘s’\tSquare marker\n",
    "+ ‘+’\tPlus marker\n",
    "+ '^'   Triangle\n",
    "#### Line styles\n",
    "###### Character\tDescription\n",
    "+ ‘-‘\tSolid line\n",
    "+ ‘—‘\tDashed line\n",
    "+ ‘-.’\tDash-dot line\n",
    "+ ‘:’\tDotted line"
   ]
  },
  {
   "cell_type": "code",
   "execution_count": 70,
   "id": "38f0bb38",
   "metadata": {},
   "outputs": [],
   "source": [
    "import matplotlib.pyplot as plt"
   ]
  },
  {
   "cell_type": "code",
   "execution_count": 71,
   "id": "c2875c02",
   "metadata": {},
   "outputs": [],
   "source": [
    "x = [1,2,3,4,5,6,7]\n",
    "y = [1,4,9,16,25,36,49]"
   ]
  },
  {
   "cell_type": "code",
   "execution_count": 72,
   "id": "7ad7f665",
   "metadata": {},
   "outputs": [
    {
     "data": {
      "image/png": "[encoded data removed]",
      "text/plain": [
       "<Figure size 640x480 with 1 Axes>"
      ]
     },
     "metadata": {},
     "output_type": "display_data"
    }
   ],
   "source": [
    "plt.title('Line Plot', fontsize=15)\n",
    "plt.xlabel('X - Values')\n",
    "plt.ylabel('Y - Values')\n",
    "\n",
    "plt.plot(x,y, color = 'midnightblue',\n",
    "         linestyle='dotted',\n",
    "         marker = '^',\n",
    "         markersize = 12,\n",
    "         markerfacecolor = 'yellow'\n",
    "        )\n",
    "plt.show()"
   ]
  },
  {
   "cell_type": "code",
   "execution_count": 82,
   "id": "3a3b8e36",
   "metadata": {},
   "outputs": [
    {
     "data": {
      "text/plain": [
       "<BarContainer object of 7 artists>"
      ]
     },
     "execution_count": 82,
     "metadata": {},
     "output_type": "execute_result"
    },
    {
     "data": {
      "image/png": "[encoded data removed]",
      "text/plain": [
       "<Figure size 640x480 with 1 Axes>"
      ]
     },
     "metadata": {},
     "output_type": "display_data"
    }
   ],
   "source": [
    "plt.title('Bar Plot', fontsize=15)\n",
    "plt.xlabel('X - Values')\n",
    "plt.ylabel('Y - Values')\n",
    "plt.bar(x=x,height=y,color='red',edgecolor='black',linewidth=1.5,width=0.5)"
   ]
  },
  {
   "cell_type": "code",
   "execution_count": 83,
   "id": "ff1a2282",
   "metadata": {},
   "outputs": [
    {
     "data": {
      "text/plain": [
       "<matplotlib.collections.PathCollection at 0x1dd75263c90>"
      ]
     },
     "execution_count": 83,
     "metadata": {},
     "output_type": "execute_result"
    },
    {
     "data": {
      "image/png": "[encoded data removed]",
      "text/plain": [
       "<Figure size 640x480 with 1 Axes>"
      ]
     },
     "metadata": {},
     "output_type": "display_data"
    }
   ],
   "source": [
    "plt.title('Scatter Plot', fontsize=15)\n",
    "plt.xlabel('X - Values')\n",
    "plt.ylabel('Y - Values')\n",
    "plt.scatter(x,y,color='red',marker='o')"
   ]
  },
  {
   "cell_type": "code",
   "execution_count": 84,
   "id": "e0ddc097",
   "metadata": {},
   "outputs": [],
   "source": [
    "courses = ['Data Science','Data Analytics','Tableau','Power BI','MySql']\n",
    "students = [70,57,63,81,45]"
   ]
  },
  {
   "cell_type": "code",
   "execution_count": 85,
   "id": "a4342804",
   "metadata": {},
   "outputs": [
    {
     "data": {
      "image/png": "[encoded data removed]",
      "text/plain": [
       "<Figure size 640x480 with 1 Axes>"
      ]
     },
     "metadata": {},
     "output_type": "display_data"
    }
   ],
   "source": [
    "plt.pie(students, labels=courses,\n",
    "       autopct = '%.1f%%',\n",
    "       textprops={'fontsize':10,'color':'black'},\n",
    "       explode=(0,0,0,0,0.1))\n",
    "plt.show()"
   ]
  },
  {
   "cell_type": "code",
   "execution_count": 99,
   "id": "0040f7cf",
   "metadata": {},
   "outputs": [
    {
     "data": {
      "text/plain": [
       "Index(['name_of_car', 'Model', 'Type', 'Origin', 'DriveTrain', 'MSRP',\n",
       "       'Invoice', 'EngineSize', 'Cylinders', 'Horsepower', 'MPG_City',\n",
       "       'MPG_Highway', 'Weight', 'Wheelbase', 'Length', 'Unnamed: 15'],\n",
       "      dtype='object')"
      ]
     },
     "execution_count": 99,
     "metadata": {},
     "output_type": "execute_result"
    }
   ],
   "source": [
    "df.columns"
   ]
  },
  {
   "cell_type": "code",
   "execution_count": 102,
   "id": "3a3de9a1",
   "metadata": {},
   "outputs": [
    {
     "data": {
      "text/plain": [
       "array([[<Axes: title={'center': 'Weight'}>]], dtype=object)"
      ]
     },
     "execution_count": 102,
     "metadata": {},
     "output_type": "execute_result"
    },
    {
     "data": {
      "image/png": "[encoded data removed]",
      "text/plain": [
       "<Figure size 640x480 with 1 Axes>"
      ]
     },
     "metadata": {},
     "output_type": "display_data"
    }
   ],
   "source": [
    "df.hist('Weight',bins=30)"
   ]
  },
  {
   "cell_type": "code",
   "execution_count": 105,
   "id": "d0aeba1f",
   "metadata": {},
   "outputs": [
    {
     "data": {
      "text/plain": [
       "<Axes: >"
      ]
     },
     "execution_count": 105,
     "metadata": {},
     "output_type": "execute_result"
    },
    {
     "data": {
      "image/png": "[encoded data removed]",
      "text/plain": [
       "<Figure size 640x480 with 1 Axes>"
      ]
     },
     "metadata": {},
     "output_type": "display_data"
    }
   ],
   "source": [
    "df.boxplot('Weight')"
   ]
  },
  {
   "cell_type": "code",
   "execution_count": null,
   "id": "9d6a1928",
   "metadata": {},
   "outputs": [],
   "source": []
  }
 ],
 "metadata": {
  "kernelspec": {
   "display_name": "Python 3 (ipykernel)",
   "language": "python",
   "name": "python3"
  },
  "language_info": {
   "codemirror_mode": {
    "name": "ipython",
    "version": 3
   },
   "file_extension": ".py",
   "mimetype": "text/x-python",
   "name": "python",
   "nbconvert_exporter": "python",
   "pygments_lexer": "ipython3",
   "version": "3.11.5"
  }
 },
 "nbformat": 4,
 "nbformat_minor": 5
}
