{
 "cells": [
  {
   "cell_type": "code",
   "execution_count": 1,
   "id": "76a921f8-a6ea-449f-adba-a222978958c1",
   "metadata": {},
   "outputs": [],
   "source": [
    "import numpy as np"
   ]
  },
  {
   "cell_type": "code",
   "execution_count": 2,
   "id": "0b80f9a8-9929-4d23-8fb1-856acd459b41",
   "metadata": {},
   "outputs": [
    {
     "data": {
      "text/plain": [
       "np.float64(0.9402859586706311)"
      ]
     },
     "execution_count": 2,
     "metadata": {},
     "output_type": "execute_result"
    }
   ],
   "source": [
    "Tot_E= 9/14*np.log2(14/9) + 5/14*np.log2(14/5)\n",
    "Tot_E"
   ]
  },
  {
   "cell_type": "code",
   "execution_count": 3,
   "id": "3321999a-7f8a-4f0a-9429-3230d2047f5a",
   "metadata": {},
   "outputs": [
    {
     "data": {
      "text/plain": [
       "np.float64(0.0)"
      ]
     },
     "execution_count": 3,
     "metadata": {},
     "output_type": "execute_result"
    }
   ],
   "source": [
    "np.log2(1)"
   ]
  },
  {
   "cell_type": "code",
   "execution_count": 4,
   "id": "23279beb-68f2-4ceb-b1dc-e532c18615ef",
   "metadata": {},
   "outputs": [
    {
     "data": {
      "text/plain": [
       "np.float64(0.9709505944546687)"
      ]
     },
     "execution_count": 4,
     "metadata": {},
     "output_type": "execute_result"
    }
   ],
   "source": [
    "Esunny= 2/5*np.log2(5/2) + 3/5*np.log2(5/3)\n",
    "Esunny"
   ]
  },
  {
   "cell_type": "code",
   "execution_count": 5,
   "id": "56837275-d8c2-468b-b620-9456a64d8941",
   "metadata": {},
   "outputs": [],
   "source": [
    "Eovercast=0"
   ]
  },
  {
   "cell_type": "code",
   "execution_count": 6,
   "id": "924445c0-7087-466c-9313-039968533d3c",
   "metadata": {},
   "outputs": [
    {
     "data": {
      "text/plain": [
       "np.float64(0.9709505944546687)"
      ]
     },
     "execution_count": 6,
     "metadata": {},
     "output_type": "execute_result"
    }
   ],
   "source": [
    "Erainy= 3/5*np.log2(5/3) + 2/5*np.log2(5/2)\n",
    "Erainy"
   ]
  },
  {
   "cell_type": "code",
   "execution_count": 10,
   "id": "52d9b5aa-b5d7-4547-a337-1f2bb2ebc2e0",
   "metadata": {},
   "outputs": [],
   "source": [
    "Inf_Gain_outlook= Tot_E-((Esunny*(5/14))+(Eovercast*(4/14))+(Erainy*(5/14)))"
   ]
  },
  {
   "cell_type": "code",
   "execution_count": 11,
   "id": "b068a84e-c786-4bf7-8a8d-c654cd590d94",
   "metadata": {},
   "outputs": [
    {
     "data": {
      "text/plain": [
       "np.float64(0.24674981977443922)"
      ]
     },
     "execution_count": 11,
     "metadata": {},
     "output_type": "execute_result"
    }
   ],
   "source": [
    "Inf_Gain_outlook"
   ]
  },
  {
   "cell_type": "code",
   "execution_count": 12,
   "id": "a3e1df65-5ea5-4a24-bdf2-4ae595d8c276",
   "metadata": {},
   "outputs": [
    {
     "data": {
      "text/plain": [
       "0.4591836734693877"
      ]
     },
     "execution_count": 12,
     "metadata": {},
     "output_type": "execute_result"
    }
   ],
   "source": [
    "Total_GI= 1-(((9/14)**2)+((5/14)**2))\n",
    "Total_GI"
   ]
  },
  {
   "cell_type": "code",
   "execution_count": 13,
   "id": "34cc81ff-758c-4dd7-b357-724e302a5a01",
   "metadata": {},
   "outputs": [
    {
     "data": {
      "text/plain": [
       "0.48"
      ]
     },
     "execution_count": 13,
     "metadata": {},
     "output_type": "execute_result"
    }
   ],
   "source": [
    "GIsunny= 1-(((2/5)**2)+((3/5)**2))\n",
    "GIsunny"
   ]
  },
  {
   "cell_type": "code",
   "execution_count": 14,
   "id": "e78fbe22-c3a4-4d92-bda1-fb6aba6edf61",
   "metadata": {},
   "outputs": [
    {
     "data": {
      "text/plain": [
       "0.48"
      ]
     },
     "execution_count": 14,
     "metadata": {},
     "output_type": "execute_result"
    }
   ],
   "source": [
    "GIrainy= 1-(((3/5)**2)+((2/5)**2))\n",
    "GIrainy"
   ]
  },
  {
   "cell_type": "code",
   "execution_count": 15,
   "id": "19101c57-aee8-4298-a407-4d009b0e85bd",
   "metadata": {},
   "outputs": [],
   "source": [
    "GIovercast=0"
   ]
  },
  {
   "cell_type": "code",
   "execution_count": 19,
   "id": "d5dd8d8b-9599-4704-a8ed-c15f01e1a4a8",
   "metadata": {},
   "outputs": [],
   "source": [
    "InfG_outlook= Total_GI-(GIsunny*(5/14)+GIovercast*(4/14)+GIrainy*(5/14))"
   ]
  },
  {
   "cell_type": "code",
   "execution_count": 20,
   "id": "7bd065fb-914b-4d2e-a5d5-565ca738aa30",
   "metadata": {},
   "outputs": [
    {
     "data": {
      "text/plain": [
       "0.11632653061224485"
      ]
     },
     "execution_count": 20,
     "metadata": {},
     "output_type": "execute_result"
    }
   ],
   "source": [
    "InfG_outlook"
   ]
  },
  {
   "cell_type": "code",
   "execution_count": null,
   "id": "bfb5fadd-abee-4f23-804b-16ca2a307c8f",
   "metadata": {},
   "outputs": [],
   "source": []
  }
 ],
 "metadata": {
  "kernelspec": {
   "display_name": "Python [conda env:base] *",
   "language": "python",
   "name": "conda-base-py"
  },
  "language_info": {
   "codemirror_mode": {
    "name": "ipython",
    "version": 3
   },
   "file_extension": ".py",
   "mimetype": "text/x-python",
   "name": "python",
   "nbconvert_exporter": "python",
   "pygments_lexer": "ipython3",
   "version": "3.13.5"
  }
 },
 "nbformat": 4,
 "nbformat_minor": 5
}
