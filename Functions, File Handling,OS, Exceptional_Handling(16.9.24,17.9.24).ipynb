{
 "cells": [
  {
   "cell_type": "code",
   "execution_count": 1,
   "id": "e0240eb5",
   "metadata": {},
   "outputs": [],
   "source": [
    "## while loop"
   ]
  },
  {
   "cell_type": "code",
   "execution_count": 2,
   "id": "d4c45852",
   "metadata": {},
   "outputs": [
    {
     "name": "stdout",
     "output_type": "stream",
     "text": [
      "1\n",
      "3\n",
      "6\n",
      "10\n"
     ]
    }
   ],
   "source": [
    "n=5\n",
    "i=1\n",
    "sum1=0\n",
    "while(i<n):\n",
    "    sum1= sum1+i\n",
    "    print(sum1)\n",
    "    i=i+1"
   ]
  },
  {
   "cell_type": "code",
   "execution_count": 3,
   "id": "3647707f",
   "metadata": {},
   "outputs": [
    {
     "name": "stdout",
     "output_type": "stream",
     "text": [
      "counter is in the loop\n",
      "counter is in the loop\n",
      "counter is in the loop\n",
      "counter is in the loop\n",
      "counter is in the loop\n",
      "counter is in the loop\n",
      "counter is in the loop\n",
      "counter is in the loop\n",
      "counter is in the loop\n",
      "counter is in the loop\n",
      "counter is out of the loop\n"
     ]
    }
   ],
   "source": [
    "counter=0\n",
    "while(counter<10):\n",
    "    print('counter is in the loop')\n",
    "    counter=counter+1\n",
    "else:\n",
    "    print('counter is out of the loop')"
   ]
  },
  {
   "cell_type": "code",
   "execution_count": 4,
   "id": "bbdff250",
   "metadata": {},
   "outputs": [
    {
     "name": "stdout",
     "output_type": "stream",
     "text": [
      "9\n"
     ]
    }
   ],
   "source": [
    "x=7\n",
    "if x>10:\n",
    "    print(x-2)\n",
    "elif x<10:\n",
    "    print(x+2)\n",
    "else:\n",
    "    print(x)"
   ]
  },
  {
   "cell_type": "code",
   "execution_count": 5,
   "id": "61281d26",
   "metadata": {},
   "outputs": [
    {
     "name": "stdout",
     "output_type": "stream",
     "text": [
      "Number is Even\n"
     ]
    }
   ],
   "source": [
    "## Find the Number is even or odd\n",
    "num=10\n",
    "if num%2==0:\n",
    "    print('Number is Even')\n",
    "else:\n",
    "    print('Number is odd')"
   ]
  },
  {
   "cell_type": "code",
   "execution_count": 6,
   "id": "e5123795",
   "metadata": {},
   "outputs": [],
   "source": [
    "list1=[2,10,8,9,10]"
   ]
  },
  {
   "cell_type": "code",
   "execution_count": 7,
   "id": "82699365",
   "metadata": {},
   "outputs": [
    {
     "name": "stdout",
     "output_type": "stream",
     "text": [
      "Number is even\n",
      "Number is even\n",
      "Number is even\n",
      "Number is odd\n",
      "Number is even\n"
     ]
    }
   ],
   "source": [
    "for i in list1:\n",
    "    if i%2==0:\n",
    "        print('Number is even')\n",
    "    else:\n",
    "        print('Number is odd')"
   ]
  },
  {
   "cell_type": "markdown",
   "id": "2fd9613f",
   "metadata": {},
   "source": [
    "## Functions"
   ]
  },
  {
   "cell_type": "code",
   "execution_count": 8,
   "id": "b0ee7a69",
   "metadata": {},
   "outputs": [],
   "source": [
    "def fun(x):\n",
    "    return x*x"
   ]
  },
  {
   "cell_type": "code",
   "execution_count": 9,
   "id": "d2240166",
   "metadata": {},
   "outputs": [
    {
     "data": {
      "text/plain": [
       "100"
      ]
     },
     "execution_count": 9,
     "metadata": {},
     "output_type": "execute_result"
    }
   ],
   "source": [
    "fun(10)"
   ]
  },
  {
   "cell_type": "code",
   "execution_count": 10,
   "id": "aa09d7f9",
   "metadata": {},
   "outputs": [],
   "source": [
    "def fun(x,y):\n",
    "    return x*y"
   ]
  },
  {
   "cell_type": "code",
   "execution_count": 11,
   "id": "a8bd1596",
   "metadata": {},
   "outputs": [
    {
     "data": {
      "text/plain": [
       "6"
      ]
     },
     "execution_count": 11,
     "metadata": {},
     "output_type": "execute_result"
    }
   ],
   "source": [
    "fun(2,3)"
   ]
  },
  {
   "cell_type": "code",
   "execution_count": 12,
   "id": "49c3cd99",
   "metadata": {},
   "outputs": [],
   "source": [
    "def fun(x):\n",
    "    if x%2==0:\n",
    "        return 'even'\n",
    "    else:\n",
    "        return 'odd'"
   ]
  },
  {
   "cell_type": "code",
   "execution_count": 13,
   "id": "f135cb72",
   "metadata": {},
   "outputs": [
    {
     "data": {
      "text/plain": [
       "'even'"
      ]
     },
     "execution_count": 13,
     "metadata": {},
     "output_type": "execute_result"
    }
   ],
   "source": [
    "fun(10)"
   ]
  },
  {
   "cell_type": "code",
   "execution_count": 14,
   "id": "b2a3e937",
   "metadata": {},
   "outputs": [],
   "source": [
    "import math"
   ]
  },
  {
   "cell_type": "code",
   "execution_count": 15,
   "id": "45cca016",
   "metadata": {},
   "outputs": [],
   "source": [
    "def factorial(x):\n",
    "    return math.factorial(x)"
   ]
  },
  {
   "cell_type": "code",
   "execution_count": 16,
   "id": "070700c2",
   "metadata": {},
   "outputs": [
    {
     "data": {
      "text/plain": [
       "3628800"
      ]
     },
     "execution_count": 16,
     "metadata": {},
     "output_type": "execute_result"
    }
   ],
   "source": [
    "factorial(10)"
   ]
  },
  {
   "cell_type": "markdown",
   "id": "191581b7",
   "metadata": {},
   "source": [
    "## File Handling"
   ]
  },
  {
   "cell_type": "code",
   "execution_count": 17,
   "id": "87ce4986",
   "metadata": {},
   "outputs": [],
   "source": [
    "## read a file\n",
    "file=open('text3.txt','r')"
   ]
  },
  {
   "cell_type": "code",
   "execution_count": 18,
   "id": "8eea17f3",
   "metadata": {},
   "outputs": [
    {
     "data": {
      "text/plain": [
       "['The classes are going well\\n',\n",
       " 'The classes are going to end in 2024This a Data Analytics course\\n',\n",
       " 'its a value added course']"
      ]
     },
     "execution_count": 18,
     "metadata": {},
     "output_type": "execute_result"
    }
   ],
   "source": [
    "file.readlines()"
   ]
  },
  {
   "cell_type": "code",
   "execution_count": 19,
   "id": "32ffb734",
   "metadata": {},
   "outputs": [],
   "source": [
    "import linecache"
   ]
  },
  {
   "cell_type": "code",
   "execution_count": 20,
   "id": "d947c4ef",
   "metadata": {},
   "outputs": [
    {
     "data": {
      "text/plain": [
       "'The classes are going to end in 2024This a Data Analytics course\\n'"
      ]
     },
     "execution_count": 20,
     "metadata": {},
     "output_type": "execute_result"
    }
   ],
   "source": [
    "linecache.getline('text3.txt',2)"
   ]
  },
  {
   "cell_type": "code",
   "execution_count": 21,
   "id": "6b5c1137",
   "metadata": {},
   "outputs": [],
   "source": [
    "lines=['The classes are going well\\n','The classes are going to end in 2024']"
   ]
  },
  {
   "cell_type": "code",
   "execution_count": 22,
   "id": "6627682f",
   "metadata": {},
   "outputs": [],
   "source": [
    "## writing the data\n",
    "file= open('text3.txt','w')"
   ]
  },
  {
   "cell_type": "code",
   "execution_count": 23,
   "id": "b2b4b3e8",
   "metadata": {},
   "outputs": [],
   "source": [
    "file.writelines(lines)"
   ]
  },
  {
   "cell_type": "code",
   "execution_count": 24,
   "id": "e2853049",
   "metadata": {},
   "outputs": [],
   "source": [
    "file=open('text3.txt','r')"
   ]
  },
  {
   "cell_type": "code",
   "execution_count": 25,
   "id": "1819c2c3",
   "metadata": {},
   "outputs": [
    {
     "data": {
      "text/plain": [
       "['The classes are going well\\n', 'The classes are going to end in 2024']"
      ]
     },
     "execution_count": 25,
     "metadata": {},
     "output_type": "execute_result"
    }
   ],
   "source": [
    "file.readlines()"
   ]
  },
  {
   "cell_type": "code",
   "execution_count": 26,
   "id": "e7f75d1f",
   "metadata": {},
   "outputs": [],
   "source": [
    "lines1=['This a Data Analytics course\\n','its a value added course']"
   ]
  },
  {
   "cell_type": "code",
   "execution_count": 27,
   "id": "f2f88ac7",
   "metadata": {},
   "outputs": [],
   "source": [
    "## appending the data\n",
    "file= open('text3.txt','a')"
   ]
  },
  {
   "cell_type": "code",
   "execution_count": 28,
   "id": "6d271841",
   "metadata": {},
   "outputs": [],
   "source": [
    "file.writelines(lines1)"
   ]
  },
  {
   "cell_type": "code",
   "execution_count": 29,
   "id": "2b78fb72",
   "metadata": {},
   "outputs": [],
   "source": [
    "file=open('text3.txt','r')"
   ]
  },
  {
   "cell_type": "code",
   "execution_count": 30,
   "id": "59dd0596",
   "metadata": {},
   "outputs": [
    {
     "data": {
      "text/plain": [
       "['The classes are going well\\n',\n",
       " 'The classes are going to end in 2024This a Data Analytics course\\n',\n",
       " 'its a value added course']"
      ]
     },
     "execution_count": 30,
     "metadata": {},
     "output_type": "execute_result"
    }
   ],
   "source": [
    "file.readlines()"
   ]
  },
  {
   "cell_type": "markdown",
   "id": "17b37f16",
   "metadata": {},
   "source": [
    "## os"
   ]
  },
  {
   "cell_type": "code",
   "execution_count": 73,
   "id": "c05d5074",
   "metadata": {},
   "outputs": [],
   "source": [
    "import os"
   ]
  },
  {
   "cell_type": "code",
   "execution_count": 74,
   "id": "2b982244",
   "metadata": {},
   "outputs": [
    {
     "data": {
      "text/plain": [
       "'C:\\\\Users\\\\excel\\\\OneDrive\\\\Desktop'"
      ]
     },
     "execution_count": 74,
     "metadata": {},
     "output_type": "execute_result"
    }
   ],
   "source": [
    "os.getcwd()"
   ]
  },
  {
   "cell_type": "code",
   "execution_count": 75,
   "id": "2e5ac0a9",
   "metadata": {},
   "outputs": [],
   "source": [
    "os.chdir(r'C:\\Users\\excel\\OneDrive\\Desktop')"
   ]
  },
  {
   "cell_type": "code",
   "execution_count": 76,
   "id": "85188877",
   "metadata": {},
   "outputs": [
    {
     "data": {
      "text/plain": [
       "'C:\\\\Users\\\\excel\\\\OneDrive\\\\Desktop'"
      ]
     },
     "execution_count": 76,
     "metadata": {},
     "output_type": "execute_result"
    }
   ],
   "source": [
    "os.getcwd()"
   ]
  },
  {
   "cell_type": "code",
   "execution_count": 77,
   "id": "18ad7756",
   "metadata": {},
   "outputs": [
    {
     "ename": "FileNotFoundError",
     "evalue": "[Errno 2] No such file or directory: 'text5.txt'",
     "output_type": "error",
     "traceback": [
      "\u001b[1;31m---------------------------------------------------------------------------\u001b[0m",
      "\u001b[1;31mFileNotFoundError\u001b[0m                         Traceback (most recent call last)",
      "Cell \u001b[1;32mIn[77], line 1\u001b[0m\n\u001b[1;32m----> 1\u001b[0m file\u001b[38;5;241m=\u001b[39m \u001b[38;5;28mopen\u001b[39m(\u001b[38;5;124m'\u001b[39m\u001b[38;5;124mtext5.txt\u001b[39m\u001b[38;5;124m'\u001b[39m,\u001b[38;5;124m'\u001b[39m\u001b[38;5;124mr\u001b[39m\u001b[38;5;124m'\u001b[39m)\n",
      "File \u001b[1;32m~\\anaconda3\\Lib\\site-packages\\IPython\\core\\interactiveshell.py:286\u001b[0m, in \u001b[0;36m_modified_open\u001b[1;34m(file, *args, **kwargs)\u001b[0m\n\u001b[0;32m    279\u001b[0m \u001b[38;5;28;01mif\u001b[39;00m file \u001b[38;5;129;01min\u001b[39;00m {\u001b[38;5;241m0\u001b[39m, \u001b[38;5;241m1\u001b[39m, \u001b[38;5;241m2\u001b[39m}:\n\u001b[0;32m    280\u001b[0m     \u001b[38;5;28;01mraise\u001b[39;00m \u001b[38;5;167;01mValueError\u001b[39;00m(\n\u001b[0;32m    281\u001b[0m         \u001b[38;5;124mf\u001b[39m\u001b[38;5;124m\"\u001b[39m\u001b[38;5;124mIPython won\u001b[39m\u001b[38;5;124m'\u001b[39m\u001b[38;5;124mt let you open fd=\u001b[39m\u001b[38;5;132;01m{\u001b[39;00mfile\u001b[38;5;132;01m}\u001b[39;00m\u001b[38;5;124m by default \u001b[39m\u001b[38;5;124m\"\u001b[39m\n\u001b[0;32m    282\u001b[0m         \u001b[38;5;124m\"\u001b[39m\u001b[38;5;124mas it is likely to crash IPython. If you know what you are doing, \u001b[39m\u001b[38;5;124m\"\u001b[39m\n\u001b[0;32m    283\u001b[0m         \u001b[38;5;124m\"\u001b[39m\u001b[38;5;124myou can use builtins\u001b[39m\u001b[38;5;124m'\u001b[39m\u001b[38;5;124m open.\u001b[39m\u001b[38;5;124m\"\u001b[39m\n\u001b[0;32m    284\u001b[0m     )\n\u001b[1;32m--> 286\u001b[0m \u001b[38;5;28;01mreturn\u001b[39;00m io_open(file, \u001b[38;5;241m*\u001b[39margs, \u001b[38;5;241m*\u001b[39m\u001b[38;5;241m*\u001b[39mkwargs)\n",
      "\u001b[1;31mFileNotFoundError\u001b[0m: [Errno 2] No such file or directory: 'text5.txt'"
     ]
    }
   ],
   "source": [
    "file= open('text5.txt','r')"
   ]
  },
  {
   "cell_type": "code",
   "execution_count": 42,
   "id": "dfd315c2",
   "metadata": {},
   "outputs": [],
   "source": [
    "file.close()"
   ]
  },
  {
   "cell_type": "code",
   "execution_count": 43,
   "id": "19269ae8",
   "metadata": {},
   "outputs": [],
   "source": [
    "os.remove('text5.txt')"
   ]
  },
  {
   "cell_type": "markdown",
   "id": "b3ce9a2e",
   "metadata": {},
   "source": [
    "## Exceptional_handling"
   ]
  },
  {
   "cell_type": "code",
   "execution_count": 52,
   "id": "5eb2ac29",
   "metadata": {},
   "outputs": [
    {
     "name": "stdout",
     "output_type": "stream",
     "text": [
      "File not found\n"
     ]
    }
   ],
   "source": [
    "try:\n",
    "    file= open('text5.txt','r')\n",
    "    content= file.read()\n",
    "    print(content)\n",
    "except:\n",
    "    print('File not found')"
   ]
  },
  {
   "cell_type": "code",
   "execution_count": null,
   "id": "12050b04",
   "metadata": {},
   "outputs": [],
   "source": []
  }
 ],
 "metadata": {
  "kernelspec": {
   "display_name": "Python 3 (ipykernel)",
   "language": "python",
   "name": "python3"
  },
  "language_info": {
   "codemirror_mode": {
    "name": "ipython",
    "version": 3
   },
   "file_extension": ".py",
   "mimetype": "text/x-python",
   "name": "python",
   "nbconvert_exporter": "python",
   "pygments_lexer": "ipython3",
   "version": "3.11.5"
  }
 },
 "nbformat": 4,
 "nbformat_minor": 5
}
