{
 "cells": [
  {
   "cell_type": "code",
   "execution_count": 34,
   "id": "f60fcfa9-2a6a-461b-98af-d3883acf4492",
   "metadata": {},
   "outputs": [],
   "source": [
    "import pandas as pd\n",
    "import numpy as np\n",
    "import matplotlib.pyplot as plt\n",
    "import warnings\n",
    "warnings.filterwarnings('ignore')"
   ]
  },
  {
   "cell_type": "code",
   "execution_count": 35,
   "id": "45efbb93-4388-42d7-b239-bd75a60f32dd",
   "metadata": {},
   "outputs": [],
   "source": [
    "df= pd.read_csv('sample_data2.csv')"
   ]
  },
  {
   "cell_type": "code",
   "execution_count": 36,
   "id": "0fc22052-92b3-47ed-83c9-1d6a8e5b0590",
   "metadata": {},
   "outputs": [
    {
     "data": {
      "text/plain": [
       "(9, 5)"
      ]
     },
     "execution_count": 36,
     "metadata": {},
     "output_type": "execute_result"
    }
   ],
   "source": [
    "df.shape"
   ]
  },
  {
   "cell_type": "code",
   "execution_count": 37,
   "id": "22ab41e1-d4b2-43af-a3d7-fe658abe5ae7",
   "metadata": {},
   "outputs": [
    {
     "data": {
      "text/html": [
       "<div>\n",
       "<style scoped>\n",
       "    .dataframe tbody tr th:only-of-type {\n",
       "        vertical-align: middle;\n",
       "    }\n",
       "\n",
       "    .dataframe tbody tr th {\n",
       "        vertical-align: top;\n",
       "    }\n",
       "\n",
       "    .dataframe thead th {\n",
       "        text-align: right;\n",
       "    }\n",
       "</style>\n",
       "<table border=\"1\" class=\"dataframe\">\n",
       "  <thead>\n",
       "    <tr style=\"text-align: right;\">\n",
       "      <th></th>\n",
       "      <th>Serial Number</th>\n",
       "      <th>Title</th>\n",
       "      <th>Salary</th>\n",
       "      <th>Qualification</th>\n",
       "      <th>Exp</th>\n",
       "    </tr>\n",
       "  </thead>\n",
       "  <tbody>\n",
       "    <tr>\n",
       "      <th>0</th>\n",
       "      <td>1</td>\n",
       "      <td>Software Engineer</td>\n",
       "      <td>20000.0</td>\n",
       "      <td>Bachelors</td>\n",
       "      <td>3</td>\n",
       "    </tr>\n",
       "    <tr>\n",
       "      <th>1</th>\n",
       "      <td>2</td>\n",
       "      <td>Data Scientist</td>\n",
       "      <td>23000.0</td>\n",
       "      <td>Masters</td>\n",
       "      <td>4</td>\n",
       "    </tr>\n",
       "    <tr>\n",
       "      <th>2</th>\n",
       "      <td>3</td>\n",
       "      <td>Project Manager</td>\n",
       "      <td>18000.0</td>\n",
       "      <td>Masters</td>\n",
       "      <td>2</td>\n",
       "    </tr>\n",
       "    <tr>\n",
       "      <th>3</th>\n",
       "      <td>4</td>\n",
       "      <td>Professor</td>\n",
       "      <td>25000.0</td>\n",
       "      <td>Bachelors</td>\n",
       "      <td>5</td>\n",
       "    </tr>\n",
       "    <tr>\n",
       "      <th>4</th>\n",
       "      <td>5</td>\n",
       "      <td>Database Architect</td>\n",
       "      <td>17000.0</td>\n",
       "      <td>Bachelors</td>\n",
       "      <td>1</td>\n",
       "    </tr>\n",
       "  </tbody>\n",
       "</table>\n",
       "</div>"
      ],
      "text/plain": [
       "   Serial Number               Title   Salary Qualification  Exp\n",
       "0              1   Software Engineer  20000.0     Bachelors    3\n",
       "1              2      Data Scientist  23000.0       Masters    4\n",
       "2              3     Project Manager  18000.0       Masters    2\n",
       "3              4           Professor  25000.0     Bachelors    5\n",
       "4              5  Database Architect  17000.0     Bachelors    1"
      ]
     },
     "execution_count": 37,
     "metadata": {},
     "output_type": "execute_result"
    }
   ],
   "source": [
    "df.head()"
   ]
  },
  {
   "cell_type": "code",
   "execution_count": 38,
   "id": "34e725cc-0a97-4d2a-8847-9ae1a2fba3ee",
   "metadata": {},
   "outputs": [
    {
     "data": {
      "text/plain": [
       "22.22222222222222"
      ]
     },
     "execution_count": 38,
     "metadata": {},
     "output_type": "execute_result"
    }
   ],
   "source": [
    "2/len(df)*100"
   ]
  },
  {
   "cell_type": "code",
   "execution_count": 39,
   "id": "5e5bd371-09cd-4395-aa04-27bc6701807c",
   "metadata": {},
   "outputs": [
    {
     "data": {
      "text/plain": [
       "np.float64(22.22222222222222)"
      ]
     },
     "execution_count": 39,
     "metadata": {},
     "output_type": "execute_result"
    }
   ],
   "source": [
    "### checking missing values\n",
    "df.isnull().sum().sum()/len(df)*100"
   ]
  },
  {
   "cell_type": "code",
   "execution_count": 40,
   "id": "20e3c1e6-3474-43b5-a067-32d43570083a",
   "metadata": {},
   "outputs": [],
   "source": [
    "### df.dropna(inplace=True)-- use this function to drop rows, if missing values within 5%"
   ]
  },
  {
   "cell_type": "code",
   "execution_count": 41,
   "id": "18c2a056-7148-4ee9-be89-085e9e2a665c",
   "metadata": {},
   "outputs": [
    {
     "data": {
      "text/plain": [
       "Serial Number    0\n",
       "Title            0\n",
       "Salary           1\n",
       "Qualification    1\n",
       "Exp              0\n",
       "dtype: int64"
      ]
     },
     "execution_count": 41,
     "metadata": {},
     "output_type": "execute_result"
    }
   ],
   "source": [
    "df.isnull().sum()"
   ]
  },
  {
   "cell_type": "code",
   "execution_count": 42,
   "id": "32f46138-587c-45af-9654-26744621358c",
   "metadata": {},
   "outputs": [
    {
     "data": {
      "text/plain": [
       "np.float64(18252.875)"
      ]
     },
     "execution_count": 42,
     "metadata": {},
     "output_type": "execute_result"
    }
   ],
   "source": [
    "df.Salary.mean()"
   ]
  },
  {
   "cell_type": "code",
   "execution_count": 43,
   "id": "c0bcee63-80ce-45e3-b371-1f5edb9ad345",
   "metadata": {},
   "outputs": [
    {
     "data": {
      "text/plain": [
       "0    Bachelors\n",
       "Name: Qualification, dtype: object"
      ]
     },
     "execution_count": 43,
     "metadata": {},
     "output_type": "execute_result"
    }
   ],
   "source": [
    "df.Qualification.mode()"
   ]
  },
  {
   "cell_type": "code",
   "execution_count": 44,
   "id": "3c7d52a1-faf3-4090-abba-6f82284f1081",
   "metadata": {},
   "outputs": [],
   "source": [
    "df.fillna({'Salary':df.Salary.mean(),'Qualification':df.Qualification.mode()[0]},inplace=True)"
   ]
  },
  {
   "cell_type": "code",
   "execution_count": 45,
   "id": "22f7efe0-82eb-4f48-bc7c-c0884fb1cc2e",
   "metadata": {},
   "outputs": [
    {
     "data": {
      "text/plain": [
       "Serial Number    0\n",
       "Title            0\n",
       "Salary           0\n",
       "Qualification    0\n",
       "Exp              0\n",
       "dtype: int64"
      ]
     },
     "execution_count": 45,
     "metadata": {},
     "output_type": "execute_result"
    }
   ],
   "source": [
    "df.isnull().sum()"
   ]
  },
  {
   "cell_type": "code",
   "execution_count": 46,
   "id": "166ac2d1-211a-434d-9727-0ee9da57270d",
   "metadata": {},
   "outputs": [
    {
     "data": {
      "text/plain": [
       "np.int64(1)"
      ]
     },
     "execution_count": 46,
     "metadata": {},
     "output_type": "execute_result"
    }
   ],
   "source": [
    "#### Removing Duplicates\n",
    "df.duplicated().sum()"
   ]
  },
  {
   "cell_type": "code",
   "execution_count": 47,
   "id": "b5a65b6e-31ae-41b9-804c-8d5337740ae1",
   "metadata": {},
   "outputs": [
    {
     "data": {
      "text/html": [
       "<div>\n",
       "<style scoped>\n",
       "    .dataframe tbody tr th:only-of-type {\n",
       "        vertical-align: middle;\n",
       "    }\n",
       "\n",
       "    .dataframe tbody tr th {\n",
       "        vertical-align: top;\n",
       "    }\n",
       "\n",
       "    .dataframe thead th {\n",
       "        text-align: right;\n",
       "    }\n",
       "</style>\n",
       "<table border=\"1\" class=\"dataframe\">\n",
       "  <thead>\n",
       "    <tr style=\"text-align: right;\">\n",
       "      <th></th>\n",
       "      <th>Serial Number</th>\n",
       "      <th>Title</th>\n",
       "      <th>Salary</th>\n",
       "      <th>Qualification</th>\n",
       "      <th>Exp</th>\n",
       "    </tr>\n",
       "  </thead>\n",
       "  <tbody>\n",
       "    <tr>\n",
       "      <th>5</th>\n",
       "      <td>4</td>\n",
       "      <td>Professor</td>\n",
       "      <td>25000.0</td>\n",
       "      <td>Bachelors</td>\n",
       "      <td>5</td>\n",
       "    </tr>\n",
       "  </tbody>\n",
       "</table>\n",
       "</div>"
      ],
      "text/plain": [
       "   Serial Number      Title   Salary Qualification  Exp\n",
       "5              4  Professor  25000.0     Bachelors    5"
      ]
     },
     "execution_count": 47,
     "metadata": {},
     "output_type": "execute_result"
    }
   ],
   "source": [
    "df[df.duplicated()]"
   ]
  },
  {
   "cell_type": "code",
   "execution_count": 50,
   "id": "ce7e7fdd-20a5-4269-83e5-7eec13b07824",
   "metadata": {},
   "outputs": [],
   "source": [
    "df.drop_duplicates(inplace=True,ignore_index=True)"
   ]
  },
  {
   "cell_type": "code",
   "execution_count": 51,
   "id": "e3f4a942-8b92-4beb-b33f-ee59ed37d527",
   "metadata": {},
   "outputs": [
    {
     "data": {
      "text/html": [
       "<div>\n",
       "<style scoped>\n",
       "    .dataframe tbody tr th:only-of-type {\n",
       "        vertical-align: middle;\n",
       "    }\n",
       "\n",
       "    .dataframe tbody tr th {\n",
       "        vertical-align: top;\n",
       "    }\n",
       "\n",
       "    .dataframe thead th {\n",
       "        text-align: right;\n",
       "    }\n",
       "</style>\n",
       "<table border=\"1\" class=\"dataframe\">\n",
       "  <thead>\n",
       "    <tr style=\"text-align: right;\">\n",
       "      <th></th>\n",
       "      <th>Serial Number</th>\n",
       "      <th>Title</th>\n",
       "      <th>Salary</th>\n",
       "      <th>Qualification</th>\n",
       "      <th>Exp</th>\n",
       "    </tr>\n",
       "  </thead>\n",
       "  <tbody>\n",
       "    <tr>\n",
       "      <th>0</th>\n",
       "      <td>1</td>\n",
       "      <td>Software Engineer</td>\n",
       "      <td>20000.000</td>\n",
       "      <td>Bachelors</td>\n",
       "      <td>3</td>\n",
       "    </tr>\n",
       "    <tr>\n",
       "      <th>1</th>\n",
       "      <td>2</td>\n",
       "      <td>Data Scientist</td>\n",
       "      <td>23000.000</td>\n",
       "      <td>Masters</td>\n",
       "      <td>4</td>\n",
       "    </tr>\n",
       "    <tr>\n",
       "      <th>2</th>\n",
       "      <td>3</td>\n",
       "      <td>Project Manager</td>\n",
       "      <td>18000.000</td>\n",
       "      <td>Masters</td>\n",
       "      <td>2</td>\n",
       "    </tr>\n",
       "    <tr>\n",
       "      <th>3</th>\n",
       "      <td>4</td>\n",
       "      <td>Professor</td>\n",
       "      <td>25000.000</td>\n",
       "      <td>Bachelors</td>\n",
       "      <td>5</td>\n",
       "    </tr>\n",
       "    <tr>\n",
       "      <th>4</th>\n",
       "      <td>5</td>\n",
       "      <td>Database Architect</td>\n",
       "      <td>17000.000</td>\n",
       "      <td>Bachelors</td>\n",
       "      <td>1</td>\n",
       "    </tr>\n",
       "    <tr>\n",
       "      <th>5</th>\n",
       "      <td>7</td>\n",
       "      <td>Business Analyst</td>\n",
       "      <td>18000.000</td>\n",
       "      <td>Bachelors</td>\n",
       "      <td>5</td>\n",
       "    </tr>\n",
       "    <tr>\n",
       "      <th>6</th>\n",
       "      <td>8</td>\n",
       "      <td>UX/UI Developer</td>\n",
       "      <td>23.000</td>\n",
       "      <td>Bachelors</td>\n",
       "      <td>0</td>\n",
       "    </tr>\n",
       "    <tr>\n",
       "      <th>7</th>\n",
       "      <td>9</td>\n",
       "      <td>Devops Engineer</td>\n",
       "      <td>18252.875</td>\n",
       "      <td>Masters</td>\n",
       "      <td>2</td>\n",
       "    </tr>\n",
       "  </tbody>\n",
       "</table>\n",
       "</div>"
      ],
      "text/plain": [
       "   Serial Number               Title     Salary Qualification  Exp\n",
       "0              1   Software Engineer  20000.000     Bachelors    3\n",
       "1              2      Data Scientist  23000.000       Masters    4\n",
       "2              3     Project Manager  18000.000       Masters    2\n",
       "3              4           Professor  25000.000     Bachelors    5\n",
       "4              5  Database Architect  17000.000     Bachelors    1\n",
       "5              7    Business Analyst  18000.000     Bachelors    5\n",
       "6              8     UX/UI Developer     23.000     Bachelors    0\n",
       "7              9     Devops Engineer  18252.875       Masters    2"
      ]
     },
     "execution_count": 51,
     "metadata": {},
     "output_type": "execute_result"
    }
   ],
   "source": [
    "df"
   ]
  },
  {
   "cell_type": "code",
   "execution_count": null,
   "id": "dccf06ac-bf07-4351-87f2-f132f60ce3f1",
   "metadata": {},
   "outputs": [],
   "source": []
  },
  {
   "cell_type": "code",
   "execution_count": null,
   "id": "1b452a51-46cd-461d-9419-be9f077318d1",
   "metadata": {},
   "outputs": [],
   "source": []
  }
 ],
 "metadata": {
  "kernelspec": {
   "display_name": "Python [conda env:base] *",
   "language": "python",
   "name": "conda-base-py"
  },
  "language_info": {
   "codemirror_mode": {
    "name": "ipython",
    "version": 3
   },
   "file_extension": ".py",
   "mimetype": "text/x-python",
   "name": "python",
   "nbconvert_exporter": "python",
   "pygments_lexer": "ipython3",
   "version": "3.13.5"
  }
 },
 "nbformat": 4,
 "nbformat_minor": 5
}
